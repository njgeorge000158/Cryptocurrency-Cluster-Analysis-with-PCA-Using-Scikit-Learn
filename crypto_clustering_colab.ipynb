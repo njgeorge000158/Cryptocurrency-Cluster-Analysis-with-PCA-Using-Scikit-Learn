{
  "cells": [
    {
      "cell_type": "markdown",
      "metadata": {
        "id": "view-in-github",
        "colab_type": "text"
      },
      "source": [
        "<a href=\"https://colab.research.google.com/github/njgeorge000158/Cryptocurrency-K-Means-Cluster-Analysis-with-PCA/blob/main/crypto_clustering_colab.ipynb\" target=\"_parent\"><img src=\"https://colab.research.google.com/assets/colab-badge.svg\" alt=\"Open In Colab\"/></a>"
      ]
    },
    {
      "cell_type": "code",
      "execution_count": null,
      "id": "c0928ae1",
      "metadata": {
        "colab": {
          "base_uri": "https://localhost:8080/",
          "height": 1000
        },
        "id": "c0928ae1",
        "outputId": "76703795-38b8-4a2e-b803-5e79dc7b70db"
      },
      "outputs": [
        {
          "output_type": "stream",
          "name": "stdout",
          "text": [
            "Drive already mounted at /content/gdrive/; to attempt to forcibly remount, call drive.mount(\"/content/gdrive/\", force_remount=True).\n",
            "Hit:1 https://cloud.r-project.org/bin/linux/ubuntu jammy-cran40/ InRelease\n",
            "Hit:2 https://developer.download.nvidia.com/compute/cuda/repos/ubuntu2204/x86_64  InRelease\n",
            "Hit:3 http://security.ubuntu.com/ubuntu jammy-security InRelease\n",
            "Hit:4 http://archive.ubuntu.com/ubuntu jammy InRelease\n",
            "Hit:5 http://archive.ubuntu.com/ubuntu jammy-updates InRelease\n",
            "Hit:6 http://archive.ubuntu.com/ubuntu jammy-backports InRelease\n",
            "Hit:7 https://ppa.launchpadcontent.net/c2d4u.team/c2d4u4.0+/ubuntu jammy InRelease\n",
            "Hit:8 https://ppa.launchpadcontent.net/deadsnakes/ppa/ubuntu jammy InRelease\n",
            "Hit:9 https://ppa.launchpadcontent.net/graphics-drivers/ppa/ubuntu jammy InRelease\n",
            "Hit:10 https://ppa.launchpadcontent.net/ubuntugis/ppa/ubuntu jammy InRelease\n",
            "Reading package lists... Done\n",
            "Requirement already satisfied: dataframe_image in /usr/local/lib/python3.10/dist-packages (0.2.3)\n",
            "Requirement already satisfied: pandas>=0.24 in /usr/local/lib/python3.10/dist-packages (from dataframe_image) (2.0.3)\n",
            "Requirement already satisfied: nbconvert>=5 in /usr/local/lib/python3.10/dist-packages (from dataframe_image) (6.5.4)\n",
            "Requirement already satisfied: aiohttp in /usr/local/lib/python3.10/dist-packages (from dataframe_image) (3.9.5)\n",
            "Requirement already satisfied: requests in /usr/local/lib/python3.10/dist-packages (from dataframe_image) (2.31.0)\n",
            "Requirement already satisfied: pillow in /usr/local/lib/python3.10/dist-packages (from dataframe_image) (9.4.0)\n",
            "Requirement already satisfied: packaging in /usr/local/lib/python3.10/dist-packages (from dataframe_image) (24.0)\n",
            "Requirement already satisfied: mistune in /usr/local/lib/python3.10/dist-packages (from dataframe_image) (0.8.4)\n",
            "Requirement already satisfied: lxml in /usr/local/lib/python3.10/dist-packages (from dataframe_image) (4.9.4)\n",
            "Requirement already satisfied: beautifulsoup4 in /usr/local/lib/python3.10/dist-packages (from dataframe_image) (4.12.3)\n",
            "Requirement already satisfied: cssutils in /usr/local/lib/python3.10/dist-packages (from dataframe_image) (2.10.2)\n",
            "Requirement already satisfied: html2image in /usr/local/lib/python3.10/dist-packages (from dataframe_image) (2.0.4.3)\n",
            "Requirement already satisfied: bleach in /usr/local/lib/python3.10/dist-packages (from nbconvert>=5->dataframe_image) (6.1.0)\n",
            "Requirement already satisfied: defusedxml in /usr/local/lib/python3.10/dist-packages (from nbconvert>=5->dataframe_image) (0.7.1)\n",
            "Requirement already satisfied: entrypoints>=0.2.2 in /usr/local/lib/python3.10/dist-packages (from nbconvert>=5->dataframe_image) (0.4)\n",
            "Requirement already satisfied: jinja2>=3.0 in /usr/local/lib/python3.10/dist-packages (from nbconvert>=5->dataframe_image) (3.1.3)\n",
            "Requirement already satisfied: jupyter-core>=4.7 in /usr/local/lib/python3.10/dist-packages (from nbconvert>=5->dataframe_image) (5.7.2)\n",
            "Requirement already satisfied: jupyterlab-pygments in /usr/local/lib/python3.10/dist-packages (from nbconvert>=5->dataframe_image) (0.3.0)\n",
            "Requirement already satisfied: MarkupSafe>=2.0 in /usr/local/lib/python3.10/dist-packages (from nbconvert>=5->dataframe_image) (2.1.5)\n",
            "Requirement already satisfied: nbclient>=0.5.0 in /usr/local/lib/python3.10/dist-packages (from nbconvert>=5->dataframe_image) (0.10.0)\n",
            "Requirement already satisfied: nbformat>=5.1 in /usr/local/lib/python3.10/dist-packages (from nbconvert>=5->dataframe_image) (5.10.4)\n",
            "Requirement already satisfied: pandocfilters>=1.4.1 in /usr/local/lib/python3.10/dist-packages (from nbconvert>=5->dataframe_image) (1.5.1)\n",
            "Requirement already satisfied: pygments>=2.4.1 in /usr/local/lib/python3.10/dist-packages (from nbconvert>=5->dataframe_image) (2.16.1)\n",
            "Requirement already satisfied: tinycss2 in /usr/local/lib/python3.10/dist-packages (from nbconvert>=5->dataframe_image) (1.2.1)\n",
            "Requirement already satisfied: traitlets>=5.0 in /usr/local/lib/python3.10/dist-packages (from nbconvert>=5->dataframe_image) (5.7.1)\n",
            "Requirement already satisfied: python-dateutil>=2.8.2 in /usr/local/lib/python3.10/dist-packages (from pandas>=0.24->dataframe_image) (2.8.2)\n",
            "Requirement already satisfied: pytz>=2020.1 in /usr/local/lib/python3.10/dist-packages (from pandas>=0.24->dataframe_image) (2023.4)\n",
            "Requirement already satisfied: tzdata>=2022.1 in /usr/local/lib/python3.10/dist-packages (from pandas>=0.24->dataframe_image) (2024.1)\n",
            "Requirement already satisfied: numpy>=1.21.0 in /usr/local/lib/python3.10/dist-packages (from pandas>=0.24->dataframe_image) (1.25.2)\n",
            "Requirement already satisfied: aiosignal>=1.1.2 in /usr/local/lib/python3.10/dist-packages (from aiohttp->dataframe_image) (1.3.1)\n",
            "Requirement already satisfied: attrs>=17.3.0 in /usr/local/lib/python3.10/dist-packages (from aiohttp->dataframe_image) (23.2.0)\n",
            "Requirement already satisfied: frozenlist>=1.1.1 in /usr/local/lib/python3.10/dist-packages (from aiohttp->dataframe_image) (1.4.1)\n",
            "Requirement already satisfied: multidict<7.0,>=4.5 in /usr/local/lib/python3.10/dist-packages (from aiohttp->dataframe_image) (6.0.5)\n",
            "Requirement already satisfied: yarl<2.0,>=1.0 in /usr/local/lib/python3.10/dist-packages (from aiohttp->dataframe_image) (1.9.4)\n",
            "Requirement already satisfied: async-timeout<5.0,>=4.0 in /usr/local/lib/python3.10/dist-packages (from aiohttp->dataframe_image) (4.0.3)\n",
            "Requirement already satisfied: soupsieve>1.2 in /usr/local/lib/python3.10/dist-packages (from beautifulsoup4->dataframe_image) (2.5)\n",
            "Requirement already satisfied: websocket-client<2.0.0,>=1.0.0 in /usr/local/lib/python3.10/dist-packages (from html2image->dataframe_image) (1.7.0)\n",
            "Requirement already satisfied: charset-normalizer<4,>=2 in /usr/local/lib/python3.10/dist-packages (from requests->dataframe_image) (3.3.2)\n",
            "Requirement already satisfied: idna<4,>=2.5 in /usr/local/lib/python3.10/dist-packages (from requests->dataframe_image) (3.7)\n",
            "Requirement already satisfied: urllib3<3,>=1.21.1 in /usr/local/lib/python3.10/dist-packages (from requests->dataframe_image) (2.0.7)\n",
            "Requirement already satisfied: certifi>=2017.4.17 in /usr/local/lib/python3.10/dist-packages (from requests->dataframe_image) (2024.2.2)\n",
            "Requirement already satisfied: platformdirs>=2.5 in /usr/local/lib/python3.10/dist-packages (from jupyter-core>=4.7->nbconvert>=5->dataframe_image) (4.2.0)\n",
            "Requirement already satisfied: jupyter-client>=6.1.12 in /usr/local/lib/python3.10/dist-packages (from nbclient>=0.5.0->nbconvert>=5->dataframe_image) (6.1.12)\n",
            "Requirement already satisfied: fastjsonschema>=2.15 in /usr/local/lib/python3.10/dist-packages (from nbformat>=5.1->nbconvert>=5->dataframe_image) (2.19.1)\n",
            "Requirement already satisfied: jsonschema>=2.6 in /usr/local/lib/python3.10/dist-packages (from nbformat>=5.1->nbconvert>=5->dataframe_image) (4.19.2)\n",
            "Requirement already satisfied: six>=1.5 in /usr/local/lib/python3.10/dist-packages (from python-dateutil>=2.8.2->pandas>=0.24->dataframe_image) (1.16.0)\n",
            "Requirement already satisfied: webencodings in /usr/local/lib/python3.10/dist-packages (from bleach->nbconvert>=5->dataframe_image) (0.5.1)\n",
            "Requirement already satisfied: jsonschema-specifications>=2023.03.6 in /usr/local/lib/python3.10/dist-packages (from jsonschema>=2.6->nbformat>=5.1->nbconvert>=5->dataframe_image) (2023.12.1)\n",
            "Requirement already satisfied: referencing>=0.28.4 in /usr/local/lib/python3.10/dist-packages (from jsonschema>=2.6->nbformat>=5.1->nbconvert>=5->dataframe_image) (0.34.0)\n",
            "Requirement already satisfied: rpds-py>=0.7.1 in /usr/local/lib/python3.10/dist-packages (from jsonschema>=2.6->nbformat>=5.1->nbconvert>=5->dataframe_image) (0.18.0)\n",
            "Requirement already satisfied: pyzmq>=13 in /usr/local/lib/python3.10/dist-packages (from jupyter-client>=6.1.12->nbclient>=0.5.0->nbconvert>=5->dataframe_image) (23.2.1)\n",
            "Requirement already satisfied: tornado>=4.1 in /usr/local/lib/python3.10/dist-packages (from jupyter-client>=6.1.12->nbclient>=0.5.0->nbconvert>=5->dataframe_image) (6.3.3)\n",
            "Requirement already satisfied: selenium in /usr/local/lib/python3.10/dist-packages (4.20.0)\n",
            "Requirement already satisfied: urllib3[socks]<3,>=1.26 in /usr/local/lib/python3.10/dist-packages (from selenium) (2.0.7)\n",
            "Requirement already satisfied: trio~=0.17 in /usr/local/lib/python3.10/dist-packages (from selenium) (0.25.0)\n",
            "Requirement already satisfied: trio-websocket~=0.9 in /usr/local/lib/python3.10/dist-packages (from selenium) (0.11.1)\n",
            "Requirement already satisfied: certifi>=2021.10.8 in /usr/local/lib/python3.10/dist-packages (from selenium) (2024.2.2)\n",
            "Requirement already satisfied: typing_extensions>=4.9.0 in /usr/local/lib/python3.10/dist-packages (from selenium) (4.11.0)\n",
            "Requirement already satisfied: attrs>=23.2.0 in /usr/local/lib/python3.10/dist-packages (from trio~=0.17->selenium) (23.2.0)\n",
            "Requirement already satisfied: sortedcontainers in /usr/local/lib/python3.10/dist-packages (from trio~=0.17->selenium) (2.4.0)\n",
            "Requirement already satisfied: idna in /usr/local/lib/python3.10/dist-packages (from trio~=0.17->selenium) (3.7)\n",
            "Requirement already satisfied: outcome in /usr/local/lib/python3.10/dist-packages (from trio~=0.17->selenium) (1.3.0.post0)\n",
            "Requirement already satisfied: sniffio>=1.3.0 in /usr/local/lib/python3.10/dist-packages (from trio~=0.17->selenium) (1.3.1)\n",
            "Requirement already satisfied: exceptiongroup in /usr/local/lib/python3.10/dist-packages (from trio~=0.17->selenium) (1.2.1)\n",
            "Requirement already satisfied: wsproto>=0.14 in /usr/local/lib/python3.10/dist-packages (from trio-websocket~=0.9->selenium) (1.2.0)\n",
            "Requirement already satisfied: pysocks!=1.5.7,<2.0,>=1.5.6 in /usr/local/lib/python3.10/dist-packages (from urllib3[socks]<3,>=1.26->selenium) (1.7.1)\n",
            "Requirement already satisfied: h11<1,>=0.9.0 in /usr/local/lib/python3.10/dist-packages (from wsproto>=0.14->trio-websocket~=0.9->selenium) (0.14.0)\n",
            "Requirement already satisfied: kaleido in /usr/local/lib/python3.10/dist-packages (0.2.1)\n",
            "Requirement already satisfied: hvplot in /usr/local/lib/python3.10/dist-packages (0.9.2)\n",
            "Requirement already satisfied: bokeh>=1.0.0 in /usr/local/lib/python3.10/dist-packages (from hvplot) (3.4.1)\n",
            "Requirement already satisfied: colorcet>=2 in /usr/local/lib/python3.10/dist-packages (from hvplot) (3.1.0)\n",
            "Requirement already satisfied: holoviews>=1.11.0 in /usr/local/lib/python3.10/dist-packages (from hvplot) (1.17.1)\n",
            "Requirement already satisfied: pandas in /usr/local/lib/python3.10/dist-packages (from hvplot) (2.0.3)\n",
            "Requirement already satisfied: numpy>=1.15 in /usr/local/lib/python3.10/dist-packages (from hvplot) (1.25.2)\n",
            "Requirement already satisfied: packaging in /usr/local/lib/python3.10/dist-packages (from hvplot) (24.0)\n",
            "Requirement already satisfied: panel>=0.11.0 in /usr/local/lib/python3.10/dist-packages (from hvplot) (1.4.2)\n",
            "Requirement already satisfied: param<3.0,>=1.12.0 in /usr/local/lib/python3.10/dist-packages (from hvplot) (2.1.0)\n",
            "Requirement already satisfied: Jinja2>=2.9 in /usr/local/lib/python3.10/dist-packages (from bokeh>=1.0.0->hvplot) (3.1.3)\n",
            "Requirement already satisfied: contourpy>=1.2 in /usr/local/lib/python3.10/dist-packages (from bokeh>=1.0.0->hvplot) (1.2.1)\n",
            "Requirement already satisfied: pillow>=7.1.0 in /usr/local/lib/python3.10/dist-packages (from bokeh>=1.0.0->hvplot) (9.4.0)\n",
            "Requirement already satisfied: PyYAML>=3.10 in /usr/local/lib/python3.10/dist-packages (from bokeh>=1.0.0->hvplot) (6.0.1)\n",
            "Requirement already satisfied: tornado>=6.2 in /usr/local/lib/python3.10/dist-packages (from bokeh>=1.0.0->hvplot) (6.3.3)\n",
            "Requirement already satisfied: xyzservices>=2021.09.1 in /usr/local/lib/python3.10/dist-packages (from bokeh>=1.0.0->hvplot) (2024.4.0)\n",
            "Requirement already satisfied: pyviz-comms>=0.7.4 in /usr/local/lib/python3.10/dist-packages (from holoviews>=1.11.0->hvplot) (3.0.2)\n",
            "Requirement already satisfied: python-dateutil>=2.8.2 in /usr/local/lib/python3.10/dist-packages (from pandas->hvplot) (2.8.2)\n",
            "Requirement already satisfied: pytz>=2020.1 in /usr/local/lib/python3.10/dist-packages (from pandas->hvplot) (2023.4)\n",
            "Requirement already satisfied: tzdata>=2022.1 in /usr/local/lib/python3.10/dist-packages (from pandas->hvplot) (2024.1)\n",
            "Requirement already satisfied: markdown in /usr/local/lib/python3.10/dist-packages (from panel>=0.11.0->hvplot) (3.6)\n",
            "Requirement already satisfied: markdown-it-py in /usr/local/lib/python3.10/dist-packages (from panel>=0.11.0->hvplot) (3.0.0)\n",
            "Requirement already satisfied: linkify-it-py in /usr/local/lib/python3.10/dist-packages (from panel>=0.11.0->hvplot) (2.0.3)\n",
            "Requirement already satisfied: mdit-py-plugins in /usr/local/lib/python3.10/dist-packages (from panel>=0.11.0->hvplot) (0.4.0)\n",
            "Requirement already satisfied: requests in /usr/local/lib/python3.10/dist-packages (from panel>=0.11.0->hvplot) (2.31.0)\n",
            "Requirement already satisfied: tqdm>=4.48.0 in /usr/local/lib/python3.10/dist-packages (from panel>=0.11.0->hvplot) (4.66.2)\n",
            "Requirement already satisfied: bleach in /usr/local/lib/python3.10/dist-packages (from panel>=0.11.0->hvplot) (6.1.0)\n",
            "Requirement already satisfied: typing-extensions in /usr/local/lib/python3.10/dist-packages (from panel>=0.11.0->hvplot) (4.11.0)\n",
            "Requirement already satisfied: MarkupSafe>=2.0 in /usr/local/lib/python3.10/dist-packages (from Jinja2>=2.9->bokeh>=1.0.0->hvplot) (2.1.5)\n",
            "Requirement already satisfied: six>=1.5 in /usr/local/lib/python3.10/dist-packages (from python-dateutil>=2.8.2->pandas->hvplot) (1.16.0)\n",
            "Requirement already satisfied: webencodings in /usr/local/lib/python3.10/dist-packages (from bleach->panel>=0.11.0->hvplot) (0.5.1)\n",
            "Requirement already satisfied: uc-micro-py in /usr/local/lib/python3.10/dist-packages (from linkify-it-py->panel>=0.11.0->hvplot) (1.0.3)\n",
            "Requirement already satisfied: mdurl~=0.1 in /usr/local/lib/python3.10/dist-packages (from markdown-it-py->panel>=0.11.0->hvplot) (0.1.2)\n",
            "Requirement already satisfied: charset-normalizer<4,>=2 in /usr/local/lib/python3.10/dist-packages (from requests->panel>=0.11.0->hvplot) (3.3.2)\n",
            "Requirement already satisfied: idna<4,>=2.5 in /usr/local/lib/python3.10/dist-packages (from requests->panel>=0.11.0->hvplot) (3.7)\n",
            "Requirement already satisfied: urllib3<3,>=1.21.1 in /usr/local/lib/python3.10/dist-packages (from requests->panel>=0.11.0->hvplot) (2.0.7)\n",
            "Requirement already satisfied: certifi>=2017.4.17 in /usr/local/lib/python3.10/dist-packages (from requests->panel>=0.11.0->hvplot) (2024.2.2)\n",
            "Requirement already satisfied: plotly in /usr/local/lib/python3.10/dist-packages (5.21.0)\n",
            "Requirement already satisfied: tenacity>=6.2.0 in /usr/local/lib/python3.10/dist-packages (from plotly) (8.2.3)\n",
            "Requirement already satisfied: packaging in /usr/local/lib/python3.10/dist-packages (from plotly) (24.0)\n",
            "Requirement already satisfied: panel in /usr/local/lib/python3.10/dist-packages (1.4.2)\n",
            "Requirement already satisfied: bokeh<3.5.0,>=3.4.0 in /usr/local/lib/python3.10/dist-packages (from panel) (3.4.1)\n",
            "Requirement already satisfied: param<3.0,>=2.0.0 in /usr/local/lib/python3.10/dist-packages (from panel) (2.1.0)\n",
            "Requirement already satisfied: pyviz-comms>=2.0.0 in /usr/local/lib/python3.10/dist-packages (from panel) (3.0.2)\n",
            "Requirement already satisfied: xyzservices>=2021.09.1 in /usr/local/lib/python3.10/dist-packages (from panel) (2024.4.0)\n",
            "Requirement already satisfied: markdown in /usr/local/lib/python3.10/dist-packages (from panel) (3.6)\n",
            "Requirement already satisfied: markdown-it-py in /usr/local/lib/python3.10/dist-packages (from panel) (3.0.0)\n",
            "Requirement already satisfied: linkify-it-py in /usr/local/lib/python3.10/dist-packages (from panel) (2.0.3)\n",
            "Requirement already satisfied: mdit-py-plugins in /usr/local/lib/python3.10/dist-packages (from panel) (0.4.0)\n",
            "Requirement already satisfied: requests in /usr/local/lib/python3.10/dist-packages (from panel) (2.31.0)\n",
            "Requirement already satisfied: tqdm>=4.48.0 in /usr/local/lib/python3.10/dist-packages (from panel) (4.66.2)\n",
            "Requirement already satisfied: bleach in /usr/local/lib/python3.10/dist-packages (from panel) (6.1.0)\n",
            "Requirement already satisfied: typing-extensions in /usr/local/lib/python3.10/dist-packages (from panel) (4.11.0)\n",
            "Requirement already satisfied: pandas>=1.2 in /usr/local/lib/python3.10/dist-packages (from panel) (2.0.3)\n",
            "Requirement already satisfied: Jinja2>=2.9 in /usr/local/lib/python3.10/dist-packages (from bokeh<3.5.0,>=3.4.0->panel) (3.1.3)\n",
            "Requirement already satisfied: contourpy>=1.2 in /usr/local/lib/python3.10/dist-packages (from bokeh<3.5.0,>=3.4.0->panel) (1.2.1)\n",
            "Requirement already satisfied: numpy>=1.16 in /usr/local/lib/python3.10/dist-packages (from bokeh<3.5.0,>=3.4.0->panel) (1.25.2)\n",
            "Requirement already satisfied: packaging>=16.8 in /usr/local/lib/python3.10/dist-packages (from bokeh<3.5.0,>=3.4.0->panel) (24.0)\n",
            "Requirement already satisfied: pillow>=7.1.0 in /usr/local/lib/python3.10/dist-packages (from bokeh<3.5.0,>=3.4.0->panel) (9.4.0)\n",
            "Requirement already satisfied: PyYAML>=3.10 in /usr/local/lib/python3.10/dist-packages (from bokeh<3.5.0,>=3.4.0->panel) (6.0.1)\n",
            "Requirement already satisfied: tornado>=6.2 in /usr/local/lib/python3.10/dist-packages (from bokeh<3.5.0,>=3.4.0->panel) (6.3.3)\n",
            "Requirement already satisfied: python-dateutil>=2.8.2 in /usr/local/lib/python3.10/dist-packages (from pandas>=1.2->panel) (2.8.2)\n",
            "Requirement already satisfied: pytz>=2020.1 in /usr/local/lib/python3.10/dist-packages (from pandas>=1.2->panel) (2023.4)\n",
            "Requirement already satisfied: tzdata>=2022.1 in /usr/local/lib/python3.10/dist-packages (from pandas>=1.2->panel) (2024.1)\n",
            "Requirement already satisfied: six>=1.9.0 in /usr/local/lib/python3.10/dist-packages (from bleach->panel) (1.16.0)\n",
            "Requirement already satisfied: webencodings in /usr/local/lib/python3.10/dist-packages (from bleach->panel) (0.5.1)\n",
            "Requirement already satisfied: uc-micro-py in /usr/local/lib/python3.10/dist-packages (from linkify-it-py->panel) (1.0.3)\n",
            "Requirement already satisfied: mdurl~=0.1 in /usr/local/lib/python3.10/dist-packages (from markdown-it-py->panel) (0.1.2)\n",
            "Requirement already satisfied: charset-normalizer<4,>=2 in /usr/local/lib/python3.10/dist-packages (from requests->panel) (3.3.2)\n",
            "Requirement already satisfied: idna<4,>=2.5 in /usr/local/lib/python3.10/dist-packages (from requests->panel) (3.7)\n",
            "Requirement already satisfied: urllib3<3,>=1.21.1 in /usr/local/lib/python3.10/dist-packages (from requests->panel) (2.0.7)\n",
            "Requirement already satisfied: certifi>=2017.4.17 in /usr/local/lib/python3.10/dist-packages (from requests->panel) (2024.2.2)\n",
            "Requirement already satisfied: MarkupSafe>=2.0 in /usr/local/lib/python3.10/dist-packages (from Jinja2>=2.9->bokeh<3.5.0,>=3.4.0->panel) (2.1.5)\n",
            "Requirement already satisfied: bokeh in /usr/local/lib/python3.10/dist-packages (3.4.1)\n",
            "Requirement already satisfied: Jinja2>=2.9 in /usr/local/lib/python3.10/dist-packages (from bokeh) (3.1.3)\n",
            "Requirement already satisfied: contourpy>=1.2 in /usr/local/lib/python3.10/dist-packages (from bokeh) (1.2.1)\n",
            "Requirement already satisfied: numpy>=1.16 in /usr/local/lib/python3.10/dist-packages (from bokeh) (1.25.2)\n",
            "Requirement already satisfied: packaging>=16.8 in /usr/local/lib/python3.10/dist-packages (from bokeh) (24.0)\n",
            "Requirement already satisfied: pandas>=1.2 in /usr/local/lib/python3.10/dist-packages (from bokeh) (2.0.3)\n",
            "Requirement already satisfied: pillow>=7.1.0 in /usr/local/lib/python3.10/dist-packages (from bokeh) (9.4.0)\n",
            "Requirement already satisfied: PyYAML>=3.10 in /usr/local/lib/python3.10/dist-packages (from bokeh) (6.0.1)\n",
            "Requirement already satisfied: tornado>=6.2 in /usr/local/lib/python3.10/dist-packages (from bokeh) (6.3.3)\n",
            "Requirement already satisfied: xyzservices>=2021.09.1 in /usr/local/lib/python3.10/dist-packages (from bokeh) (2024.4.0)\n",
            "Requirement already satisfied: MarkupSafe>=2.0 in /usr/local/lib/python3.10/dist-packages (from Jinja2>=2.9->bokeh) (2.1.5)\n",
            "Requirement already satisfied: python-dateutil>=2.8.2 in /usr/local/lib/python3.10/dist-packages (from pandas>=1.2->bokeh) (2.8.2)\n",
            "Requirement already satisfied: pytz>=2020.1 in /usr/local/lib/python3.10/dist-packages (from pandas>=1.2->bokeh) (2023.4)\n",
            "Requirement already satisfied: tzdata>=2022.1 in /usr/local/lib/python3.10/dist-packages (from pandas>=1.2->bokeh) (2024.1)\n",
            "Requirement already satisfied: six>=1.5 in /usr/local/lib/python3.10/dist-packages (from python-dateutil>=2.8.2->pandas>=1.2->bokeh) (1.16.0)\n"
          ]
        },
        {
          "output_type": "display_data",
          "data": {
            "application/javascript": [
              "(function(root) {\n",
              "  function now() {\n",
              "    return new Date();\n",
              "  }\n",
              "\n",
              "  var force = true;\n",
              "  var py_version = '3.4.1'.replace('rc', '-rc.').replace('.dev', '-dev.');\n",
              "  var reloading = false;\n",
              "  var Bokeh = root.Bokeh;\n",
              "\n",
              "  if (typeof (root._bokeh_timeout) === \"undefined\" || force) {\n",
              "    root._bokeh_timeout = Date.now() + 5000;\n",
              "    root._bokeh_failed_load = false;\n",
              "  }\n",
              "\n",
              "  function run_callbacks() {\n",
              "    try {\n",
              "      root._bokeh_onload_callbacks.forEach(function(callback) {\n",
              "        if (callback != null)\n",
              "          callback();\n",
              "      });\n",
              "    } finally {\n",
              "      delete root._bokeh_onload_callbacks;\n",
              "    }\n",
              "    console.debug(\"Bokeh: all callbacks have finished\");\n",
              "  }\n",
              "\n",
              "  function load_libs(css_urls, js_urls, js_modules, js_exports, callback) {\n",
              "    if (css_urls == null) css_urls = [];\n",
              "    if (js_urls == null) js_urls = [];\n",
              "    if (js_modules == null) js_modules = [];\n",
              "    if (js_exports == null) js_exports = {};\n",
              "\n",
              "    root._bokeh_onload_callbacks.push(callback);\n",
              "\n",
              "    if (root._bokeh_is_loading > 0) {\n",
              "      console.debug(\"Bokeh: BokehJS is being loaded, scheduling callback at\", now());\n",
              "      return null;\n",
              "    }\n",
              "    if (js_urls.length === 0 && js_modules.length === 0 && Object.keys(js_exports).length === 0) {\n",
              "      run_callbacks();\n",
              "      return null;\n",
              "    }\n",
              "    if (!reloading) {\n",
              "      console.debug(\"Bokeh: BokehJS not loaded, scheduling load and callback at\", now());\n",
              "    }\n",
              "\n",
              "    function on_load() {\n",
              "      root._bokeh_is_loading--;\n",
              "      if (root._bokeh_is_loading === 0) {\n",
              "        console.debug(\"Bokeh: all BokehJS libraries/stylesheets loaded\");\n",
              "        run_callbacks()\n",
              "      }\n",
              "    }\n",
              "    window._bokeh_on_load = on_load\n",
              "\n",
              "    function on_error() {\n",
              "      console.error(\"failed to load \" + url);\n",
              "    }\n",
              "\n",
              "    var skip = [];\n",
              "    if (window.requirejs) {\n",
              "      window.requirejs.config({'packages': {}, 'paths': {}, 'shim': {}});\n",
              "      root._bokeh_is_loading = css_urls.length + 0;\n",
              "    } else {\n",
              "      root._bokeh_is_loading = css_urls.length + js_urls.length + js_modules.length + Object.keys(js_exports).length;\n",
              "    }\n",
              "\n",
              "    var existing_stylesheets = []\n",
              "    var links = document.getElementsByTagName('link')\n",
              "    for (var i = 0; i < links.length; i++) {\n",
              "      var link = links[i]\n",
              "      if (link.href != null) {\n",
              "\texisting_stylesheets.push(link.href)\n",
              "      }\n",
              "    }\n",
              "    for (var i = 0; i < css_urls.length; i++) {\n",
              "      var url = css_urls[i];\n",
              "      if (existing_stylesheets.indexOf(url) !== -1) {\n",
              "\ton_load()\n",
              "\tcontinue;\n",
              "      }\n",
              "      const element = document.createElement(\"link\");\n",
              "      element.onload = on_load;\n",
              "      element.onerror = on_error;\n",
              "      element.rel = \"stylesheet\";\n",
              "      element.type = \"text/css\";\n",
              "      element.href = url;\n",
              "      console.debug(\"Bokeh: injecting link tag for BokehJS stylesheet: \", url);\n",
              "      document.body.appendChild(element);\n",
              "    }    var existing_scripts = []\n",
              "    var scripts = document.getElementsByTagName('script')\n",
              "    for (var i = 0; i < scripts.length; i++) {\n",
              "      var script = scripts[i]\n",
              "      if (script.src != null) {\n",
              "\texisting_scripts.push(script.src)\n",
              "      }\n",
              "    }\n",
              "    for (var i = 0; i < js_urls.length; i++) {\n",
              "      var url = js_urls[i];\n",
              "      if (skip.indexOf(url) !== -1 || existing_scripts.indexOf(url) !== -1) {\n",
              "\tif (!window.requirejs) {\n",
              "\t  on_load();\n",
              "\t}\n",
              "\tcontinue;\n",
              "      }\n",
              "      var element = document.createElement('script');\n",
              "      element.onload = on_load;\n",
              "      element.onerror = on_error;\n",
              "      element.async = false;\n",
              "      element.src = url;\n",
              "      console.debug(\"Bokeh: injecting script tag for BokehJS library: \", url);\n",
              "      document.head.appendChild(element);\n",
              "    }\n",
              "    for (var i = 0; i < js_modules.length; i++) {\n",
              "      var url = js_modules[i];\n",
              "      if (skip.indexOf(url) !== -1 || existing_scripts.indexOf(url) !== -1) {\n",
              "\tif (!window.requirejs) {\n",
              "\t  on_load();\n",
              "\t}\n",
              "\tcontinue;\n",
              "      }\n",
              "      var element = document.createElement('script');\n",
              "      element.onload = on_load;\n",
              "      element.onerror = on_error;\n",
              "      element.async = false;\n",
              "      element.src = url;\n",
              "      element.type = \"module\";\n",
              "      console.debug(\"Bokeh: injecting script tag for BokehJS library: \", url);\n",
              "      document.head.appendChild(element);\n",
              "    }\n",
              "    for (const name in js_exports) {\n",
              "      var url = js_exports[name];\n",
              "      if (skip.indexOf(url) >= 0 || root[name] != null) {\n",
              "\tif (!window.requirejs) {\n",
              "\t  on_load();\n",
              "\t}\n",
              "\tcontinue;\n",
              "      }\n",
              "      var element = document.createElement('script');\n",
              "      element.onerror = on_error;\n",
              "      element.async = false;\n",
              "      element.type = \"module\";\n",
              "      console.debug(\"Bokeh: injecting script tag for BokehJS library: \", url);\n",
              "      element.textContent = `\n",
              "      import ${name} from \"${url}\"\n",
              "      window.${name} = ${name}\n",
              "      window._bokeh_on_load()\n",
              "      `\n",
              "      document.head.appendChild(element);\n",
              "    }\n",
              "    if (!js_urls.length && !js_modules.length) {\n",
              "      on_load()\n",
              "    }\n",
              "  };\n",
              "\n",
              "  function inject_raw_css(css) {\n",
              "    const element = document.createElement(\"style\");\n",
              "    element.appendChild(document.createTextNode(css));\n",
              "    document.body.appendChild(element);\n",
              "  }\n",
              "\n",
              "  var js_urls = [\"https://cdn.bokeh.org/bokeh/release/bokeh-3.4.1.min.js\", \"https://cdn.bokeh.org/bokeh/release/bokeh-gl-3.4.1.min.js\", \"https://cdn.bokeh.org/bokeh/release/bokeh-widgets-3.4.1.min.js\", \"https://cdn.bokeh.org/bokeh/release/bokeh-tables-3.4.1.min.js\", \"https://cdn.holoviz.org/panel/1.4.2/dist/panel.min.js\"];\n",
              "  var js_modules = [];\n",
              "  var js_exports = {};\n",
              "  var css_urls = [];\n",
              "  var inline_js = [    function(Bokeh) {\n",
              "      Bokeh.set_log_level(\"info\");\n",
              "    },\n",
              "function(Bokeh) {} // ensure no trailing comma for IE\n",
              "  ];\n",
              "\n",
              "  function run_inline_js() {\n",
              "    if ((root.Bokeh !== undefined) || (force === true)) {\n",
              "      for (var i = 0; i < inline_js.length; i++) {\n",
              "\ttry {\n",
              "          inline_js[i].call(root, root.Bokeh);\n",
              "\t} catch(e) {\n",
              "\t  if (!reloading) {\n",
              "\t    throw e;\n",
              "\t  }\n",
              "\t}\n",
              "      }\n",
              "      // Cache old bokeh versions\n",
              "      if (Bokeh != undefined && !reloading) {\n",
              "\tvar NewBokeh = root.Bokeh;\n",
              "\tif (Bokeh.versions === undefined) {\n",
              "\t  Bokeh.versions = new Map();\n",
              "\t}\n",
              "\tif (NewBokeh.version !== Bokeh.version) {\n",
              "\t  Bokeh.versions.set(NewBokeh.version, NewBokeh)\n",
              "\t}\n",
              "\troot.Bokeh = Bokeh;\n",
              "      }} else if (Date.now() < root._bokeh_timeout) {\n",
              "      setTimeout(run_inline_js, 100);\n",
              "    } else if (!root._bokeh_failed_load) {\n",
              "      console.log(\"Bokeh: BokehJS failed to load within specified timeout.\");\n",
              "      root._bokeh_failed_load = true;\n",
              "    }\n",
              "    root._bokeh_is_initializing = false\n",
              "  }\n",
              "\n",
              "  function load_or_wait() {\n",
              "    // Implement a backoff loop that tries to ensure we do not load multiple\n",
              "    // versions of Bokeh and its dependencies at the same time.\n",
              "    // In recent versions we use the root._bokeh_is_initializing flag\n",
              "    // to determine whether there is an ongoing attempt to initialize\n",
              "    // bokeh, however for backward compatibility we also try to ensure\n",
              "    // that we do not start loading a newer (Panel>=1.0 and Bokeh>3) version\n",
              "    // before older versions are fully initialized.\n",
              "    if (root._bokeh_is_initializing && Date.now() > root._bokeh_timeout) {\n",
              "      root._bokeh_is_initializing = false;\n",
              "      root._bokeh_onload_callbacks = undefined;\n",
              "      console.log(\"Bokeh: BokehJS was loaded multiple times but one version failed to initialize.\");\n",
              "      load_or_wait();\n",
              "    } else if (root._bokeh_is_initializing || (typeof root._bokeh_is_initializing === \"undefined\" && root._bokeh_onload_callbacks !== undefined)) {\n",
              "      setTimeout(load_or_wait, 100);\n",
              "    } else {\n",
              "      root._bokeh_is_initializing = true\n",
              "      root._bokeh_onload_callbacks = []\n",
              "      var bokeh_loaded = Bokeh != null && (Bokeh.version === py_version || (Bokeh.versions !== undefined && Bokeh.versions.has(py_version)));\n",
              "      if (!reloading && !bokeh_loaded) {\n",
              "\troot.Bokeh = undefined;\n",
              "      }\n",
              "      load_libs(css_urls, js_urls, js_modules, js_exports, function() {\n",
              "\tconsole.debug(\"Bokeh: BokehJS plotting callback run at\", now());\n",
              "\trun_inline_js();\n",
              "      });\n",
              "    }\n",
              "  }\n",
              "  // Give older versions of the autoload script a head-start to ensure\n",
              "  // they initialize before we start loading newer version.\n",
              "  setTimeout(load_or_wait, 100)\n",
              "}(window));"
            ],
            "application/vnd.holoviews_load.v0+json": "(function(root) {\n  function now() {\n    return new Date();\n  }\n\n  var force = true;\n  var py_version = '3.4.1'.replace('rc', '-rc.').replace('.dev', '-dev.');\n  var reloading = false;\n  var Bokeh = root.Bokeh;\n\n  if (typeof (root._bokeh_timeout) === \"undefined\" || force) {\n    root._bokeh_timeout = Date.now() + 5000;\n    root._bokeh_failed_load = false;\n  }\n\n  function run_callbacks() {\n    try {\n      root._bokeh_onload_callbacks.forEach(function(callback) {\n        if (callback != null)\n          callback();\n      });\n    } finally {\n      delete root._bokeh_onload_callbacks;\n    }\n    console.debug(\"Bokeh: all callbacks have finished\");\n  }\n\n  function load_libs(css_urls, js_urls, js_modules, js_exports, callback) {\n    if (css_urls == null) css_urls = [];\n    if (js_urls == null) js_urls = [];\n    if (js_modules == null) js_modules = [];\n    if (js_exports == null) js_exports = {};\n\n    root._bokeh_onload_callbacks.push(callback);\n\n    if (root._bokeh_is_loading > 0) {\n      console.debug(\"Bokeh: BokehJS is being loaded, scheduling callback at\", now());\n      return null;\n    }\n    if (js_urls.length === 0 && js_modules.length === 0 && Object.keys(js_exports).length === 0) {\n      run_callbacks();\n      return null;\n    }\n    if (!reloading) {\n      console.debug(\"Bokeh: BokehJS not loaded, scheduling load and callback at\", now());\n    }\n\n    function on_load() {\n      root._bokeh_is_loading--;\n      if (root._bokeh_is_loading === 0) {\n        console.debug(\"Bokeh: all BokehJS libraries/stylesheets loaded\");\n        run_callbacks()\n      }\n    }\n    window._bokeh_on_load = on_load\n\n    function on_error() {\n      console.error(\"failed to load \" + url);\n    }\n\n    var skip = [];\n    if (window.requirejs) {\n      window.requirejs.config({'packages': {}, 'paths': {}, 'shim': {}});\n      root._bokeh_is_loading = css_urls.length + 0;\n    } else {\n      root._bokeh_is_loading = css_urls.length + js_urls.length + js_modules.length + Object.keys(js_exports).length;\n    }\n\n    var existing_stylesheets = []\n    var links = document.getElementsByTagName('link')\n    for (var i = 0; i < links.length; i++) {\n      var link = links[i]\n      if (link.href != null) {\n\texisting_stylesheets.push(link.href)\n      }\n    }\n    for (var i = 0; i < css_urls.length; i++) {\n      var url = css_urls[i];\n      if (existing_stylesheets.indexOf(url) !== -1) {\n\ton_load()\n\tcontinue;\n      }\n      const element = document.createElement(\"link\");\n      element.onload = on_load;\n      element.onerror = on_error;\n      element.rel = \"stylesheet\";\n      element.type = \"text/css\";\n      element.href = url;\n      console.debug(\"Bokeh: injecting link tag for BokehJS stylesheet: \", url);\n      document.body.appendChild(element);\n    }    var existing_scripts = []\n    var scripts = document.getElementsByTagName('script')\n    for (var i = 0; i < scripts.length; i++) {\n      var script = scripts[i]\n      if (script.src != null) {\n\texisting_scripts.push(script.src)\n      }\n    }\n    for (var i = 0; i < js_urls.length; i++) {\n      var url = js_urls[i];\n      if (skip.indexOf(url) !== -1 || existing_scripts.indexOf(url) !== -1) {\n\tif (!window.requirejs) {\n\t  on_load();\n\t}\n\tcontinue;\n      }\n      var element = document.createElement('script');\n      element.onload = on_load;\n      element.onerror = on_error;\n      element.async = false;\n      element.src = url;\n      console.debug(\"Bokeh: injecting script tag for BokehJS library: \", url);\n      document.head.appendChild(element);\n    }\n    for (var i = 0; i < js_modules.length; i++) {\n      var url = js_modules[i];\n      if (skip.indexOf(url) !== -1 || existing_scripts.indexOf(url) !== -1) {\n\tif (!window.requirejs) {\n\t  on_load();\n\t}\n\tcontinue;\n      }\n      var element = document.createElement('script');\n      element.onload = on_load;\n      element.onerror = on_error;\n      element.async = false;\n      element.src = url;\n      element.type = \"module\";\n      console.debug(\"Bokeh: injecting script tag for BokehJS library: \", url);\n      document.head.appendChild(element);\n    }\n    for (const name in js_exports) {\n      var url = js_exports[name];\n      if (skip.indexOf(url) >= 0 || root[name] != null) {\n\tif (!window.requirejs) {\n\t  on_load();\n\t}\n\tcontinue;\n      }\n      var element = document.createElement('script');\n      element.onerror = on_error;\n      element.async = false;\n      element.type = \"module\";\n      console.debug(\"Bokeh: injecting script tag for BokehJS library: \", url);\n      element.textContent = `\n      import ${name} from \"${url}\"\n      window.${name} = ${name}\n      window._bokeh_on_load()\n      `\n      document.head.appendChild(element);\n    }\n    if (!js_urls.length && !js_modules.length) {\n      on_load()\n    }\n  };\n\n  function inject_raw_css(css) {\n    const element = document.createElement(\"style\");\n    element.appendChild(document.createTextNode(css));\n    document.body.appendChild(element);\n  }\n\n  var js_urls = [\"https://cdn.bokeh.org/bokeh/release/bokeh-3.4.1.min.js\", \"https://cdn.bokeh.org/bokeh/release/bokeh-gl-3.4.1.min.js\", \"https://cdn.bokeh.org/bokeh/release/bokeh-widgets-3.4.1.min.js\", \"https://cdn.bokeh.org/bokeh/release/bokeh-tables-3.4.1.min.js\", \"https://cdn.holoviz.org/panel/1.4.2/dist/panel.min.js\"];\n  var js_modules = [];\n  var js_exports = {};\n  var css_urls = [];\n  var inline_js = [    function(Bokeh) {\n      Bokeh.set_log_level(\"info\");\n    },\nfunction(Bokeh) {} // ensure no trailing comma for IE\n  ];\n\n  function run_inline_js() {\n    if ((root.Bokeh !== undefined) || (force === true)) {\n      for (var i = 0; i < inline_js.length; i++) {\n\ttry {\n          inline_js[i].call(root, root.Bokeh);\n\t} catch(e) {\n\t  if (!reloading) {\n\t    throw e;\n\t  }\n\t}\n      }\n      // Cache old bokeh versions\n      if (Bokeh != undefined && !reloading) {\n\tvar NewBokeh = root.Bokeh;\n\tif (Bokeh.versions === undefined) {\n\t  Bokeh.versions = new Map();\n\t}\n\tif (NewBokeh.version !== Bokeh.version) {\n\t  Bokeh.versions.set(NewBokeh.version, NewBokeh)\n\t}\n\troot.Bokeh = Bokeh;\n      }} else if (Date.now() < root._bokeh_timeout) {\n      setTimeout(run_inline_js, 100);\n    } else if (!root._bokeh_failed_load) {\n      console.log(\"Bokeh: BokehJS failed to load within specified timeout.\");\n      root._bokeh_failed_load = true;\n    }\n    root._bokeh_is_initializing = false\n  }\n\n  function load_or_wait() {\n    // Implement a backoff loop that tries to ensure we do not load multiple\n    // versions of Bokeh and its dependencies at the same time.\n    // In recent versions we use the root._bokeh_is_initializing flag\n    // to determine whether there is an ongoing attempt to initialize\n    // bokeh, however for backward compatibility we also try to ensure\n    // that we do not start loading a newer (Panel>=1.0 and Bokeh>3) version\n    // before older versions are fully initialized.\n    if (root._bokeh_is_initializing && Date.now() > root._bokeh_timeout) {\n      root._bokeh_is_initializing = false;\n      root._bokeh_onload_callbacks = undefined;\n      console.log(\"Bokeh: BokehJS was loaded multiple times but one version failed to initialize.\");\n      load_or_wait();\n    } else if (root._bokeh_is_initializing || (typeof root._bokeh_is_initializing === \"undefined\" && root._bokeh_onload_callbacks !== undefined)) {\n      setTimeout(load_or_wait, 100);\n    } else {\n      root._bokeh_is_initializing = true\n      root._bokeh_onload_callbacks = []\n      var bokeh_loaded = Bokeh != null && (Bokeh.version === py_version || (Bokeh.versions !== undefined && Bokeh.versions.has(py_version)));\n      if (!reloading && !bokeh_loaded) {\n\troot.Bokeh = undefined;\n      }\n      load_libs(css_urls, js_urls, js_modules, js_exports, function() {\n\tconsole.debug(\"Bokeh: BokehJS plotting callback run at\", now());\n\trun_inline_js();\n      });\n    }\n  }\n  // Give older versions of the autoload script a head-start to ensure\n  // they initialize before we start loading newer version.\n  setTimeout(load_or_wait, 100)\n}(window));"
          },
          "metadata": {}
        },
        {
          "output_type": "display_data",
          "data": {
            "application/vnd.holoviews_load.v0+json": "\nif ((window.PyViz === undefined) || (window.PyViz instanceof HTMLElement)) {\n  window.PyViz = {comms: {}, comm_status:{}, kernels:{}, receivers: {}, plot_index: []}\n}\n\n\n    function JupyterCommManager() {\n    }\n\n    JupyterCommManager.prototype.register_target = function(plot_id, comm_id, msg_handler) {\n      if (window.comm_manager || ((window.Jupyter !== undefined) && (Jupyter.notebook.kernel != null))) {\n        var comm_manager = window.comm_manager || Jupyter.notebook.kernel.comm_manager;\n        comm_manager.register_target(comm_id, function(comm) {\n          comm.on_msg(msg_handler);\n        });\n      } else if ((plot_id in window.PyViz.kernels) && (window.PyViz.kernels[plot_id])) {\n        window.PyViz.kernels[plot_id].registerCommTarget(comm_id, function(comm) {\n          comm.onMsg = msg_handler;\n        });\n      } else if (typeof google != 'undefined' && google.colab.kernel != null) {\n        google.colab.kernel.comms.registerTarget(comm_id, (comm) => {\n          var messages = comm.messages[Symbol.asyncIterator]();\n          function processIteratorResult(result) {\n            var message = result.value;\n            console.log(message)\n            var content = {data: message.data, comm_id};\n            var buffers = []\n            for (var buffer of message.buffers || []) {\n              buffers.push(new DataView(buffer))\n            }\n            var metadata = message.metadata || {};\n            var msg = {content, buffers, metadata}\n            msg_handler(msg);\n            return messages.next().then(processIteratorResult);\n          }\n          return messages.next().then(processIteratorResult);\n        })\n      }\n    }\n\n    JupyterCommManager.prototype.get_client_comm = function(plot_id, comm_id, msg_handler) {\n      if (comm_id in window.PyViz.comms) {\n        return window.PyViz.comms[comm_id];\n      } else if (window.comm_manager || ((window.Jupyter !== undefined) && (Jupyter.notebook.kernel != null))) {\n        var comm_manager = window.comm_manager || Jupyter.notebook.kernel.comm_manager;\n        var comm = comm_manager.new_comm(comm_id, {}, {}, {}, comm_id);\n        if (msg_handler) {\n          comm.on_msg(msg_handler);\n        }\n      } else if ((plot_id in window.PyViz.kernels) && (window.PyViz.kernels[plot_id])) {\n        var comm = window.PyViz.kernels[plot_id].connectToComm(comm_id);\n        comm.open();\n        if (msg_handler) {\n          comm.onMsg = msg_handler;\n        }\n      } else if (typeof google != 'undefined' && google.colab.kernel != null) {\n        var comm_promise = google.colab.kernel.comms.open(comm_id)\n        comm_promise.then((comm) => {\n          window.PyViz.comms[comm_id] = comm;\n          if (msg_handler) {\n            var messages = comm.messages[Symbol.asyncIterator]();\n            function processIteratorResult(result) {\n              var message = result.value;\n              var content = {data: message.data};\n              var metadata = message.metadata || {comm_id};\n              var msg = {content, metadata}\n              msg_handler(msg);\n              return messages.next().then(processIteratorResult);\n            }\n            return messages.next().then(processIteratorResult);\n          }\n        }) \n        var sendClosure = (data, metadata, buffers, disposeOnDone) => {\n          return comm_promise.then((comm) => {\n            comm.send(data, metadata, buffers, disposeOnDone);\n          });\n        };\n        var comm = {\n          send: sendClosure\n        };\n      }\n      window.PyViz.comms[comm_id] = comm;\n      return comm;\n    }\n    window.PyViz.comm_manager = new JupyterCommManager();\n    \n\n\nvar JS_MIME_TYPE = 'application/javascript';\nvar HTML_MIME_TYPE = 'text/html';\nvar EXEC_MIME_TYPE = 'application/vnd.holoviews_exec.v0+json';\nvar CLASS_NAME = 'output';\n\n/**\n * Render data to the DOM node\n */\nfunction render(props, node) {\n  var div = document.createElement(\"div\");\n  var script = document.createElement(\"script\");\n  node.appendChild(div);\n  node.appendChild(script);\n}\n\n/**\n * Handle when a new output is added\n */\nfunction handle_add_output(event, handle) {\n  var output_area = handle.output_area;\n  var output = handle.output;\n  if ((output.data == undefined) || (!output.data.hasOwnProperty(EXEC_MIME_TYPE))) {\n    return\n  }\n  var id = output.metadata[EXEC_MIME_TYPE][\"id\"];\n  var toinsert = output_area.element.find(\".\" + CLASS_NAME.split(' ')[0]);\n  if (id !== undefined) {\n    var nchildren = toinsert.length;\n    var html_node = toinsert[nchildren-1].children[0];\n    html_node.innerHTML = output.data[HTML_MIME_TYPE];\n    var scripts = [];\n    var nodelist = html_node.querySelectorAll(\"script\");\n    for (var i in nodelist) {\n      if (nodelist.hasOwnProperty(i)) {\n        scripts.push(nodelist[i])\n      }\n    }\n\n    scripts.forEach( function (oldScript) {\n      var newScript = document.createElement(\"script\");\n      var attrs = [];\n      var nodemap = oldScript.attributes;\n      for (var j in nodemap) {\n        if (nodemap.hasOwnProperty(j)) {\n          attrs.push(nodemap[j])\n        }\n      }\n      attrs.forEach(function(attr) { newScript.setAttribute(attr.name, attr.value) });\n      newScript.appendChild(document.createTextNode(oldScript.innerHTML));\n      oldScript.parentNode.replaceChild(newScript, oldScript);\n    });\n    if (JS_MIME_TYPE in output.data) {\n      toinsert[nchildren-1].children[1].textContent = output.data[JS_MIME_TYPE];\n    }\n    output_area._hv_plot_id = id;\n    if ((window.Bokeh !== undefined) && (id in Bokeh.index)) {\n      window.PyViz.plot_index[id] = Bokeh.index[id];\n    } else {\n      window.PyViz.plot_index[id] = null;\n    }\n  } else if (output.metadata[EXEC_MIME_TYPE][\"server_id\"] !== undefined) {\n    var bk_div = document.createElement(\"div\");\n    bk_div.innerHTML = output.data[HTML_MIME_TYPE];\n    var script_attrs = bk_div.children[0].attributes;\n    for (var i = 0; i < script_attrs.length; i++) {\n      toinsert[toinsert.length - 1].childNodes[1].setAttribute(script_attrs[i].name, script_attrs[i].value);\n    }\n    // store reference to server id on output_area\n    output_area._bokeh_server_id = output.metadata[EXEC_MIME_TYPE][\"server_id\"];\n  }\n}\n\n/**\n * Handle when an output is cleared or removed\n */\nfunction handle_clear_output(event, handle) {\n  var id = handle.cell.output_area._hv_plot_id;\n  var server_id = handle.cell.output_area._bokeh_server_id;\n  if (((id === undefined) || !(id in PyViz.plot_index)) && (server_id !== undefined)) { return; }\n  var comm = window.PyViz.comm_manager.get_client_comm(\"hv-extension-comm\", \"hv-extension-comm\", function () {});\n  if (server_id !== null) {\n    comm.send({event_type: 'server_delete', 'id': server_id});\n    return;\n  } else if (comm !== null) {\n    comm.send({event_type: 'delete', 'id': id});\n  }\n  delete PyViz.plot_index[id];\n  if ((window.Bokeh !== undefined) & (id in window.Bokeh.index)) {\n    var doc = window.Bokeh.index[id].model.document\n    doc.clear();\n    const i = window.Bokeh.documents.indexOf(doc);\n    if (i > -1) {\n      window.Bokeh.documents.splice(i, 1);\n    }\n  }\n}\n\n/**\n * Handle kernel restart event\n */\nfunction handle_kernel_cleanup(event, handle) {\n  delete PyViz.comms[\"hv-extension-comm\"];\n  window.PyViz.plot_index = {}\n}\n\n/**\n * Handle update_display_data messages\n */\nfunction handle_update_output(event, handle) {\n  handle_clear_output(event, {cell: {output_area: handle.output_area}})\n  handle_add_output(event, handle)\n}\n\nfunction register_renderer(events, OutputArea) {\n  function append_mime(data, metadata, element) {\n    // create a DOM node to render to\n    var toinsert = this.create_output_subarea(\n    metadata,\n    CLASS_NAME,\n    EXEC_MIME_TYPE\n    );\n    this.keyboard_manager.register_events(toinsert);\n    // Render to node\n    var props = {data: data, metadata: metadata[EXEC_MIME_TYPE]};\n    render(props, toinsert[0]);\n    element.append(toinsert);\n    return toinsert\n  }\n\n  events.on('output_added.OutputArea', handle_add_output);\n  events.on('output_updated.OutputArea', handle_update_output);\n  events.on('clear_output.CodeCell', handle_clear_output);\n  events.on('delete.Cell', handle_clear_output);\n  events.on('kernel_ready.Kernel', handle_kernel_cleanup);\n\n  OutputArea.prototype.register_mime_type(EXEC_MIME_TYPE, append_mime, {\n    safe: true,\n    index: 0\n  });\n}\n\nif (window.Jupyter !== undefined) {\n  try {\n    var events = require('base/js/events');\n    var OutputArea = require('notebook/js/outputarea').OutputArea;\n    if (OutputArea.prototype.mime_types().indexOf(EXEC_MIME_TYPE) == -1) {\n      register_renderer(events, OutputArea);\n    }\n  } catch(err) {\n  }\n}\n",
            "application/javascript": [
              "\n",
              "if ((window.PyViz === undefined) || (window.PyViz instanceof HTMLElement)) {\n",
              "  window.PyViz = {comms: {}, comm_status:{}, kernels:{}, receivers: {}, plot_index: []}\n",
              "}\n",
              "\n",
              "\n",
              "    function JupyterCommManager() {\n",
              "    }\n",
              "\n",
              "    JupyterCommManager.prototype.register_target = function(plot_id, comm_id, msg_handler) {\n",
              "      if (window.comm_manager || ((window.Jupyter !== undefined) && (Jupyter.notebook.kernel != null))) {\n",
              "        var comm_manager = window.comm_manager || Jupyter.notebook.kernel.comm_manager;\n",
              "        comm_manager.register_target(comm_id, function(comm) {\n",
              "          comm.on_msg(msg_handler);\n",
              "        });\n",
              "      } else if ((plot_id in window.PyViz.kernels) && (window.PyViz.kernels[plot_id])) {\n",
              "        window.PyViz.kernels[plot_id].registerCommTarget(comm_id, function(comm) {\n",
              "          comm.onMsg = msg_handler;\n",
              "        });\n",
              "      } else if (typeof google != 'undefined' && google.colab.kernel != null) {\n",
              "        google.colab.kernel.comms.registerTarget(comm_id, (comm) => {\n",
              "          var messages = comm.messages[Symbol.asyncIterator]();\n",
              "          function processIteratorResult(result) {\n",
              "            var message = result.value;\n",
              "            console.log(message)\n",
              "            var content = {data: message.data, comm_id};\n",
              "            var buffers = []\n",
              "            for (var buffer of message.buffers || []) {\n",
              "              buffers.push(new DataView(buffer))\n",
              "            }\n",
              "            var metadata = message.metadata || {};\n",
              "            var msg = {content, buffers, metadata}\n",
              "            msg_handler(msg);\n",
              "            return messages.next().then(processIteratorResult);\n",
              "          }\n",
              "          return messages.next().then(processIteratorResult);\n",
              "        })\n",
              "      }\n",
              "    }\n",
              "\n",
              "    JupyterCommManager.prototype.get_client_comm = function(plot_id, comm_id, msg_handler) {\n",
              "      if (comm_id in window.PyViz.comms) {\n",
              "        return window.PyViz.comms[comm_id];\n",
              "      } else if (window.comm_manager || ((window.Jupyter !== undefined) && (Jupyter.notebook.kernel != null))) {\n",
              "        var comm_manager = window.comm_manager || Jupyter.notebook.kernel.comm_manager;\n",
              "        var comm = comm_manager.new_comm(comm_id, {}, {}, {}, comm_id);\n",
              "        if (msg_handler) {\n",
              "          comm.on_msg(msg_handler);\n",
              "        }\n",
              "      } else if ((plot_id in window.PyViz.kernels) && (window.PyViz.kernels[plot_id])) {\n",
              "        var comm = window.PyViz.kernels[plot_id].connectToComm(comm_id);\n",
              "        comm.open();\n",
              "        if (msg_handler) {\n",
              "          comm.onMsg = msg_handler;\n",
              "        }\n",
              "      } else if (typeof google != 'undefined' && google.colab.kernel != null) {\n",
              "        var comm_promise = google.colab.kernel.comms.open(comm_id)\n",
              "        comm_promise.then((comm) => {\n",
              "          window.PyViz.comms[comm_id] = comm;\n",
              "          if (msg_handler) {\n",
              "            var messages = comm.messages[Symbol.asyncIterator]();\n",
              "            function processIteratorResult(result) {\n",
              "              var message = result.value;\n",
              "              var content = {data: message.data};\n",
              "              var metadata = message.metadata || {comm_id};\n",
              "              var msg = {content, metadata}\n",
              "              msg_handler(msg);\n",
              "              return messages.next().then(processIteratorResult);\n",
              "            }\n",
              "            return messages.next().then(processIteratorResult);\n",
              "          }\n",
              "        }) \n",
              "        var sendClosure = (data, metadata, buffers, disposeOnDone) => {\n",
              "          return comm_promise.then((comm) => {\n",
              "            comm.send(data, metadata, buffers, disposeOnDone);\n",
              "          });\n",
              "        };\n",
              "        var comm = {\n",
              "          send: sendClosure\n",
              "        };\n",
              "      }\n",
              "      window.PyViz.comms[comm_id] = comm;\n",
              "      return comm;\n",
              "    }\n",
              "    window.PyViz.comm_manager = new JupyterCommManager();\n",
              "    \n",
              "\n",
              "\n",
              "var JS_MIME_TYPE = 'application/javascript';\n",
              "var HTML_MIME_TYPE = 'text/html';\n",
              "var EXEC_MIME_TYPE = 'application/vnd.holoviews_exec.v0+json';\n",
              "var CLASS_NAME = 'output';\n",
              "\n",
              "/**\n",
              " * Render data to the DOM node\n",
              " */\n",
              "function render(props, node) {\n",
              "  var div = document.createElement(\"div\");\n",
              "  var script = document.createElement(\"script\");\n",
              "  node.appendChild(div);\n",
              "  node.appendChild(script);\n",
              "}\n",
              "\n",
              "/**\n",
              " * Handle when a new output is added\n",
              " */\n",
              "function handle_add_output(event, handle) {\n",
              "  var output_area = handle.output_area;\n",
              "  var output = handle.output;\n",
              "  if ((output.data == undefined) || (!output.data.hasOwnProperty(EXEC_MIME_TYPE))) {\n",
              "    return\n",
              "  }\n",
              "  var id = output.metadata[EXEC_MIME_TYPE][\"id\"];\n",
              "  var toinsert = output_area.element.find(\".\" + CLASS_NAME.split(' ')[0]);\n",
              "  if (id !== undefined) {\n",
              "    var nchildren = toinsert.length;\n",
              "    var html_node = toinsert[nchildren-1].children[0];\n",
              "    html_node.innerHTML = output.data[HTML_MIME_TYPE];\n",
              "    var scripts = [];\n",
              "    var nodelist = html_node.querySelectorAll(\"script\");\n",
              "    for (var i in nodelist) {\n",
              "      if (nodelist.hasOwnProperty(i)) {\n",
              "        scripts.push(nodelist[i])\n",
              "      }\n",
              "    }\n",
              "\n",
              "    scripts.forEach( function (oldScript) {\n",
              "      var newScript = document.createElement(\"script\");\n",
              "      var attrs = [];\n",
              "      var nodemap = oldScript.attributes;\n",
              "      for (var j in nodemap) {\n",
              "        if (nodemap.hasOwnProperty(j)) {\n",
              "          attrs.push(nodemap[j])\n",
              "        }\n",
              "      }\n",
              "      attrs.forEach(function(attr) { newScript.setAttribute(attr.name, attr.value) });\n",
              "      newScript.appendChild(document.createTextNode(oldScript.innerHTML));\n",
              "      oldScript.parentNode.replaceChild(newScript, oldScript);\n",
              "    });\n",
              "    if (JS_MIME_TYPE in output.data) {\n",
              "      toinsert[nchildren-1].children[1].textContent = output.data[JS_MIME_TYPE];\n",
              "    }\n",
              "    output_area._hv_plot_id = id;\n",
              "    if ((window.Bokeh !== undefined) && (id in Bokeh.index)) {\n",
              "      window.PyViz.plot_index[id] = Bokeh.index[id];\n",
              "    } else {\n",
              "      window.PyViz.plot_index[id] = null;\n",
              "    }\n",
              "  } else if (output.metadata[EXEC_MIME_TYPE][\"server_id\"] !== undefined) {\n",
              "    var bk_div = document.createElement(\"div\");\n",
              "    bk_div.innerHTML = output.data[HTML_MIME_TYPE];\n",
              "    var script_attrs = bk_div.children[0].attributes;\n",
              "    for (var i = 0; i < script_attrs.length; i++) {\n",
              "      toinsert[toinsert.length - 1].childNodes[1].setAttribute(script_attrs[i].name, script_attrs[i].value);\n",
              "    }\n",
              "    // store reference to server id on output_area\n",
              "    output_area._bokeh_server_id = output.metadata[EXEC_MIME_TYPE][\"server_id\"];\n",
              "  }\n",
              "}\n",
              "\n",
              "/**\n",
              " * Handle when an output is cleared or removed\n",
              " */\n",
              "function handle_clear_output(event, handle) {\n",
              "  var id = handle.cell.output_area._hv_plot_id;\n",
              "  var server_id = handle.cell.output_area._bokeh_server_id;\n",
              "  if (((id === undefined) || !(id in PyViz.plot_index)) && (server_id !== undefined)) { return; }\n",
              "  var comm = window.PyViz.comm_manager.get_client_comm(\"hv-extension-comm\", \"hv-extension-comm\", function () {});\n",
              "  if (server_id !== null) {\n",
              "    comm.send({event_type: 'server_delete', 'id': server_id});\n",
              "    return;\n",
              "  } else if (comm !== null) {\n",
              "    comm.send({event_type: 'delete', 'id': id});\n",
              "  }\n",
              "  delete PyViz.plot_index[id];\n",
              "  if ((window.Bokeh !== undefined) & (id in window.Bokeh.index)) {\n",
              "    var doc = window.Bokeh.index[id].model.document\n",
              "    doc.clear();\n",
              "    const i = window.Bokeh.documents.indexOf(doc);\n",
              "    if (i > -1) {\n",
              "      window.Bokeh.documents.splice(i, 1);\n",
              "    }\n",
              "  }\n",
              "}\n",
              "\n",
              "/**\n",
              " * Handle kernel restart event\n",
              " */\n",
              "function handle_kernel_cleanup(event, handle) {\n",
              "  delete PyViz.comms[\"hv-extension-comm\"];\n",
              "  window.PyViz.plot_index = {}\n",
              "}\n",
              "\n",
              "/**\n",
              " * Handle update_display_data messages\n",
              " */\n",
              "function handle_update_output(event, handle) {\n",
              "  handle_clear_output(event, {cell: {output_area: handle.output_area}})\n",
              "  handle_add_output(event, handle)\n",
              "}\n",
              "\n",
              "function register_renderer(events, OutputArea) {\n",
              "  function append_mime(data, metadata, element) {\n",
              "    // create a DOM node to render to\n",
              "    var toinsert = this.create_output_subarea(\n",
              "    metadata,\n",
              "    CLASS_NAME,\n",
              "    EXEC_MIME_TYPE\n",
              "    );\n",
              "    this.keyboard_manager.register_events(toinsert);\n",
              "    // Render to node\n",
              "    var props = {data: data, metadata: metadata[EXEC_MIME_TYPE]};\n",
              "    render(props, toinsert[0]);\n",
              "    element.append(toinsert);\n",
              "    return toinsert\n",
              "  }\n",
              "\n",
              "  events.on('output_added.OutputArea', handle_add_output);\n",
              "  events.on('output_updated.OutputArea', handle_update_output);\n",
              "  events.on('clear_output.CodeCell', handle_clear_output);\n",
              "  events.on('delete.Cell', handle_clear_output);\n",
              "  events.on('kernel_ready.Kernel', handle_kernel_cleanup);\n",
              "\n",
              "  OutputArea.prototype.register_mime_type(EXEC_MIME_TYPE, append_mime, {\n",
              "    safe: true,\n",
              "    index: 0\n",
              "  });\n",
              "}\n",
              "\n",
              "if (window.Jupyter !== undefined) {\n",
              "  try {\n",
              "    var events = require('base/js/events');\n",
              "    var OutputArea = require('notebook/js/outputarea').OutputArea;\n",
              "    if (OutputArea.prototype.mime_types().indexOf(EXEC_MIME_TYPE) == -1) {\n",
              "      register_renderer(events, OutputArea);\n",
              "    }\n",
              "  } catch(err) {\n",
              "  }\n",
              "}\n"
            ]
          },
          "metadata": {}
        },
        {
          "output_type": "display_data",
          "data": {
            "text/html": [
              "<style>*[data-root-id],\n",
              "*[data-root-id] > * {\n",
              "  box-sizing: border-box;\n",
              "  font-family: var(--jp-ui-font-family);\n",
              "  font-size: var(--jp-ui-font-size1);\n",
              "  color: var(--vscode-editor-foreground, var(--jp-ui-font-color1));\n",
              "}\n",
              "\n",
              "/* Override VSCode background color */\n",
              ".cell-output-ipywidget-background:has(\n",
              "    > .cell-output-ipywidget-background > .lm-Widget > *[data-root-id]\n",
              "  ),\n",
              ".cell-output-ipywidget-background:has(> .lm-Widget > *[data-root-id]) {\n",
              "  background-color: transparent !important;\n",
              "}\n",
              "</style>"
            ]
          },
          "metadata": {}
        },
        {
          "output_type": "display_data",
          "data": {
            "text/html": [
              "\n",
              "<div class=\"logo-block\">\n",
              "<img src='data:image/png;base64,iVBORw0KGgoAAAANSUhEUgAAAEAAAABACAYAAACqaXHeAAAABHNCSVQICAgIfAhkiAAAAAlwSFlz\n",
              "AAAB+wAAAfsBxc2miwAAABl0RVh0U29mdHdhcmUAd3d3Lmlua3NjYXBlLm9yZ5vuPBoAAA6zSURB\n",
              "VHic7ZtpeFRVmsf/5966taWqUlUJ2UioBBJiIBAwCZtog9IOgjqACsogKtqirT2ttt069nQ/zDzt\n",
              "tI4+CrJIREFaFgWhBXpUNhHZQoKBkIUASchWla1S+3ar7r1nPkDaCAnZKoQP/D7mnPOe9/xy76n3\n",
              "nFSAW9ziFoPFNED2LLK5wcyBDObkb8ZkxuaoSYlI6ZcOKq1eWFdedqNzGHQBk9RMEwFAASkk0Xw3\n",
              "ETacDNi2vtvc7L0ROdw0AjoSotQVkKSvHQz/wRO1lScGModBFbDMaNRN1A4tUBCS3lk7BWhQkgpD\n",
              "lG4852/+7DWr1R3uHAZVQDsbh6ZPN7CyxUrCzJMRouusj0ipRwD2uKm0Zn5d2dFwzX1TCGhnmdGo\n",
              "G62Nna+isiUqhkzuKrkQaJlPEv5mFl2fvGg2t/VnzkEV8F5ioioOEWkLG86fvbpthynjdhXYZziQ\n",
              "x1hC9J2NFyi8vCTt91Fh04KGip0AaG9zuCk2wQCVyoNU3Hjezee9bq92duzzTmxsRJoy+jEZZZYo\n",
              "GTKJ6SJngdJqAfRzpze0+jHreUtPc7gpBLQnIYK6BYp/uGhw9YK688eu7v95ysgshcg9qSLMo3JC\n",
              "4jqLKQFBgdKDPoQ+Pltb8dUyQLpeDjeVgI6EgLIQFT5tEl3rn2losHVsexbZ3EyT9wE1uGdkIPcy\n",
              "BGxn8QUq1QrA5nqW5i2tLqvrrM9NK6AdkVIvL9E9bZL/oyfMVd/jqvc8LylzRBKDJSzIExwhQzuL\n",
              "QYGQj4rHfFTc8mUdu3E7yoLtbTe9gI4EqVgVkug2i5+uXGo919ixbRog+3fTbQ8qJe4ZOYNfMoTI\n",
              "OoshUNosgO60AisX15aeI2PSIp5KiFLI9ubb1vV3Qb2ltwLakUCDAkWX7/nHKRmmGIl9VgYsUhJm\n",
              "2NXjKYADtM1ygne9QQDIXlk49FBstMKx66D1v4+XuQr7vqTe0VcBHQlRWiOCbmmSYe2SqtL6q5rJ\n",
              "zsTb7lKx3FKOYC4DoqyS/B5bvLPxvD9Qtf6saxYLQGJErmDOdOMr/zo96km1nElr8bmPOBwI9COv\n",
              "HnFPRIwmkSOv9kcAS4heRsidOkpeWBgZM+UBrTFAXNYL5Vf2ii9c1trNzpYdaoVil3WIc+wdk+gQ\n",
              "noie3ecCcxt9ITcLAPWt/laGEO/9U6PmzZkenTtsSMQ8uYywJVW+grCstAvCIaAdArAsIWkRDDs/\n",
              "KzLm2YcjY1Lv0UdW73HabE9n6V66cxSzfEmuJssTpKGVp+0vHq73FwL46eOjpMpbRAnNmJFrGJNu\n",
              "Ukf9Yrz+3rghiumCKNXXWPhLYcjxGsIpoCMsIRoFITkW8AuyM8jC1+/QLx4bozCEJIq38+1rtpR6\n",
              "V/yzb8eBlRb3fo5l783N0CWolAzJHaVNzkrTzlEp2bQ2q3TC5gn6wpnoQAmwSiGh2GitnTmVMc5O\n",
              "UyfKWUKCIsU7+fZDKwqdT6DDpvkzAX4/+AMFjk0tDp5GRXLpQ2MUmhgDp5gxQT8+Y7hyPsMi8uxF\n",
              "71H0oebujHALECjFKaW9Lm68n18wXp2kVzIcABytD5iXFzg+WVXkegpAsOOYziqo0OkK76GyquC3\n",
              "ltZAzMhhqlSNmmWTE5T6e3IN05ITFLM4GdN0vtZ3ob8Jh1NAKXFbm5PtLU/eqTSlGjkNAJjdgn/N\n",
              "aedXa0tdi7+t9G0FIF49rtMSEgAs1kDLkTPO7ebm4IUWeyh1bKomXqlgMG6kJmHcSM0clYLJ8XtR\n",
              "1GTnbV3F6I5wCGikAb402npp1h1s7LQUZZSMIfALFOuL3UUrfnS8+rez7v9qcold5tilgHbO1fjK\n",
              "9ubb17u9oshxzMiUBKXWqJNxd+fqb0tLVs4lILFnK71H0Ind7uiPgACVcFJlrb0tV6DzxqqTIhUM\n",
              "CwDf1/rrVhTa33/3pGPxJYdQ2l2cbgVcQSosdx8uqnDtbGjh9SlDVSMNWhlnilfqZk42Th2ZpLpf\n",
              "xrHec5e815zrr0dfBZSwzkZfqsv+1FS1KUknUwPARVvItfKUY+cn57yP7qv07UE3p8B2uhUwLk09\n",
              "e0SCOrK+hbdYHYLjRIl71wWzv9jpEoeOHhGRrJAzyEyNiJuUqX0g2sBN5kGK6y2Blp5M3lsB9Qh4\n",
              "y2Ja6x6+i0ucmKgwMATwhSjdUu49tKrQ/pvN5d53ml2CGwCmJipmKjgmyuaXzNeL2a0AkQ01Th5j\n",
              "2DktO3Jyk8f9vcOBQHV94OK+fPumJmvQHxJoWkaKWq9Vs+yUsbq0zGT1I4RgeH2b5wef7+c7bl8F\n",
              "eKgoHVVZa8ZPEORzR6sT1BzDUAD/d9F78e2Tzv99v8D+fLVTqAKAsbGamKey1Mt9Ann4eH3gTXTz\n",
              "idWtAJ8PQWOk7NzSeQn/OTHDuEikVF1R4z8BQCy+6D1aWRfY0tTGG2OM8rRoPaeIj5ZHzJxszElN\n",
              "VM8K8JS5WOfv8mzRnQAKoEhmt8gyPM4lU9SmBK1MCQBnW4KONT86v1hZ1PbwSXPw4JWussVjtH9Y\n",
              "NCoiL9UoH/6PSu8jFrfY2t36erQHXLIEakMi1SydmzB31h3GGXFDFNPaK8Rme9B79Ixrd0WN+1ij\n",
              "NRQ/doRmuFLBkHSTOm5GruG+pFjFdAmorG4IXH1Qua6ASniclfFtDYt+oUjKipPrCQB7QBQ2lrgP\n",
              "fFzm+9XWUtcqJ3/5vDLDpJ79XHZk3u8nGZ42qlj1+ydtbxysCezrydp6ugmipNJ7WBPB5tydY0jP\n",
              "HaVNzs3QzeE4ZpTbI+ZbnSFPbVOw9vsfnVvqWnirPyCNGD08IlqtYkh2hjZ5dErEQzoNm+6ykyOt\n",
              "Lt5/PQEuSRRKo22VkydK+vvS1XEKlhCJAnsqvcVvH7f/ZU2R67eXbMEGAMiIV5oWZWiWvz5Fv2xG\n",
              "sjqNJQRvn3Rs2lji/lNP19VjAQDgD7FHhujZB9OGqYxRkZxixgRDVlqS6uEOFaJUVu0rPFzctrnF\n",
              "JqijImVp8dEKVWyUXDk92zAuMZ6bFwpBU1HrOw6AdhQgUooChb0+ItMbWJitSo5Ws3IAOGEOtL53\n",
              "0vHZih9sC4vtofZ7Qu6523V/fmGcds1TY3V36pUsBwAbSlxnVh2xLfAD/IAIMDf7XYIkNmXfpp2l\n",
              "18rkAJAy9HKFaIr/qULkeQQKy9zf1JgDB2uaeFNGijo5QsUyacNUUTOnGO42xSnv4oOwpDi1zYkc\n",
              "efUc3I5Gk6PhyTuVKaOGyLUAYPGIoY9Pu/atL/L92+4q9wbflRJ2Trpm/jPjdBtfnqB/dIThcl8A\n",
              "KG7hbRuKnb8qsQsVvVlTrwQAQMUlf3kwJI24Z4JhPMtcfng5GcH49GsrxJpGvvHIaeem2ma+KSjQ\n",
              "lIwUdYyCY8j4dE1KzijNnIP2llF2wcXNnsoapw9XxsgYAl6k+KzUXbi2yP3KR2ecf6z3BFsBICdW\n",
              "nvnIaG3eHybqX7vbpEqUMT+9OL4Qpe8VON7dXuFd39v19FoAABRVePbGGuXTszO0P7tu6lghUonE\n",
              "llRdrhArLvmKdh9u29jcFiRRkfLUxBiFNiqSU9icoZQHo5mYBI1MBgBH6wMNb+U7Pnw337H4gi1Y\n",
              "ciWs+uks3Z9fztUvfzxTm9Ne8XXkvQLHNytOOZeiD4e0PgkAIAYCYknKUNUDSXEKzdWNpnil7r4p\n",
              "xqkjTarZMtk/K8TQ6Qve78qqvXurGwIJqcOUKfUWHsm8KGvxSP68YudXq4pcj39X49uOK2X142O0\n",
              "Tz5/u/7TVybqH0rSya6ZBwD21/gubbrgWdDgEOx9WUhfBaC2ibcEBYm7a7x+ukrBMNcEZggyR0TE\n",
              "T8zUPjikQ4VosQZbTpS4vqizBKvqmvjsqnpfzaZyx9JPiz1/bfGKdgD45XB1zoIMzYbfTdS/NClB\n",
              "Gct0USiY3YL/g0LHy/uq/Ef6uo5+n0R/vyhp17Klpge763f8rMu6YU/zrn2nml+2WtH+Z+5IAAFc\n",
              "2bUTdTDOSNa9+cQY7YLsOIXhevEkCvzph7a8laecz/Un/z4/Ae04XeL3UQb57IwU9ZDr9UuKVajv\n",
              "nxp1+1UVIo/LjztZkKH59fO3G/JemqCfmaCRqbqbd90ZZ8FfjtkfAyD0J/9+C2h1hDwsSxvGjNDc\n",
              "b4zk5NfrSwiQblLHzZhg+Jf4aPlUwpDqkQqa9nimbt1/TDH8OitGMaQnj+RJS6B1fbF7SY1TqO5v\n",
              "/v0WAADl1f7zokgS7s7VT2DZ7pegUjBM7mjtiDZbcN4j0YrHH0rXpCtY0qPX0cVL0rv5jv/ZXend\n",
              "0u/EESYBAFBU4T4Qa5TflZOhTe7pmKpaP8kCVUVw1+yhXfJWvn1P3hnXi33JsTN6PnP3hHZ8Z3/h\n",
              "aLHzmkNPuPj7Bc/F/Q38CwjTpSwQXgE4Vmwry9tpfq/ZFgqFMy4AVDtCvi8rvMvOmv0N4YwbVgEA\n",
              "sPM72/KVnzfspmH7HQGCRLG2yL1+z8XwvPcdCbsAANh+xPzstgMtxeGKt+6MK3/tacfvwhWvIwMi\n",
              "oKEBtm0H7W+UVfkc/Y1V0BhoPlDr/w1w/eu1vjIgAgDg22OtX6/eYfnEz/focrZTHAFR+PSs56/7\n",
              "q32nwpjazxgwAQCwcU/T62t3WL7r6/jVRa6/byp1rei+Z98ZUAEAhEPHPc8fKnTU9nbgtnOe8h0l\n",
              "9hcGIqmODLQAHCy2Xti6v/XNRivf43f4fFvIteu854+VHnR7q9tfBlwAAGz+pnndB9vM26UebAe8\n",
              "SLHujPOTPVW+rwY+sxskAAC2HrA8t2Vvc7ffP1r9o+vwR2dcr92InIAbKKC1FZ5tB1tf+/G8p8sv\n",
              "N/9Q5zd/XR34LYCwV5JdccMEAMDBk45DH243r/X4xGvqxFa/GNpS7n6rwOwNWwHVE26oAADYurf1\n",
              "zx/utOzt+DMKYM0p17YtZZ5VNzqfsB2HewG1WXE8PoZ7gOclbTIvynZf9JV+fqZtfgs/8F/Nu5rB\n",
              "EIBmJ+8QRMmpU7EzGRsf2FzuePqYRbzh/zE26EwdrT10f6r6o8HOYzCJB9Dpff8tbnGLG8L/A/WE\n",
              "roTBs2RqAAAAAElFTkSuQmCC'\n",
              "     style='height:25px; border-radius:12px; display: inline-block; float: left; vertical-align: middle'></img>\n",
              "\n",
              "\n",
              "  <img src='data:image/png;base64,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'\n",
              "       style='height:15px; border-radius:12px; display: inline-block; float: left'></img>\n",
              "  \n",
              "\n",
              "\n",
              "\n",
              "\n",
              "</div>\n"
            ]
          },
          "metadata": {}
        }
      ],
      "source": [
        "#*******************************************************************************************\n",
        " #\n",
        " #  File Name:  crypto_clustering_colab.ipynb\n",
        " #\n",
        " #  File Description:\n",
        " #      This IPython notebook, crypto_clustering_colab.ipynb, reads a csv file,\n",
        " #      crypto_market_data.csv, in the folder, resources, and uses Python\n",
        " #      and unsupervised learning methods such as K-Means to examine how\n",
        " #      24-hour or 7-day price changes affect cryptocurrencies.\n",
        " #\n",
        " #\n",
        " #  Date            Description                             Programmer\n",
        " #  ----------      ------------------------------------    ------------------\n",
        " #  11/20/2023      Initial Development                     Nicholas J. George\n",
        " #\n",
        " #******************************************************************************************/\n",
        "\n",
        "from google.colab import drive\n",
        "drive.mount('/content/gdrive/')\n",
        "\n",
        "import sys\n",
        "sys.path.insert(0,'./gdrive/MyDrive/cryptocurrency_cluster_analysis')\n",
        "\n",
        "import os\n",
        "os.environ['HV_DOC_HTML'] = 'true'\n",
        "\n",
        "!apt-get update\n",
        "!pip install -U dataframe_image\n",
        "!pip install -U selenium\n",
        "!pip install -U kaleido\n",
        "!pip install -U hvplot\n",
        "!pip install -U plotly\n",
        "!pip install -U panel\n",
        "!pip install -U bokeh\n",
        "\n",
        "import hvplot\n",
        "import hvplot.pandas\n",
        "\n",
        "import pandas as pd\n",
        "\n",
        "import holoviews as hv\n",
        "hv.extension('bokeh')\n",
        "\n",
        "import logx\n",
        "logx.set_logs_directory_path('./gdrive/MyDrive/cryptocurrency_cluster_analysis/logs')\n",
        "logx.set_images_directory_path('./gdrive/MyDrive/cryptocurrency_cluster_analysis/images')\n",
        "\n",
        "import pandasx\n",
        "pandasx.set_google_colab(True)\n",
        "\n",
        "import kmeans_analysisx\n",
        "\n",
        "from sklearn.decomposition import PCA\n",
        "from sklearn.preprocessing import StandardScaler\n",
        "\n",
        "pd.options.mode.chained_assignment = None"
      ]
    },
    {
      "cell_type": "code",
      "execution_count": null,
      "id": "d1a0a6d9",
      "metadata": {
        "id": "d1a0a6d9",
        "colab": {
          "base_uri": "https://localhost:8080/"
        },
        "outputId": "b51f762c-0c70-48ab-dbb5-458d27946989"
      },
      "outputs": [
        {
          "output_type": "stream",
          "name": "stdout",
          "text": [
            "Program execution begins...\n",
            "\n"
          ]
        }
      ],
      "source": [
        "CONSTANT_LOCAL_FILE_NAME = 'crypto_clustering_colab.ipynb'\n",
        "\n",
        "CONSTANT_CRYPTO_CSV_FILE_PATH = './gdrive/MyDrive/cryptocurrency_cluster_analysis/resources/crypto_market_data.csv'\n",
        "\n",
        "\n",
        "logx.set_log_mode(True)\n",
        "\n",
        "logx.set_image_mode(False)\n",
        "\n",
        "\n",
        "logx.begin_program('crypto_clustering_colab')"
      ]
    },
    {
      "cell_type": "code",
      "execution_count": null,
      "id": "abzW6h5RhwJ7",
      "metadata": {
        "id": "abzW6h5RhwJ7"
      },
      "outputs": [],
      "source": [
        "colors_string_list \\\n",
        "    = ['firebrick', 'green', 'orange', 'lightsteelblue', 'gold', 'purple', 'blue']"
      ]
    },
    {
      "cell_type": "markdown",
      "id": "d647ae0f",
      "metadata": {
        "id": "d647ae0f"
      },
      "source": [
        "# <br> **Section 1: Data Preparation**"
      ]
    },
    {
      "cell_type": "markdown",
      "id": "8d9d8527",
      "metadata": {
        "id": "8d9d8527"
      },
      "source": [
        "## **1.1: Extraction**"
      ]
    },
    {
      "cell_type": "markdown",
      "id": "5d54760c",
      "metadata": {
        "id": "5d54760c"
      },
      "source": [
        "### **Read CSV File into DataFrame**"
      ]
    },
    {
      "cell_type": "code",
      "execution_count": null,
      "id": "e8e39d34",
      "metadata": {
        "id": "e8e39d34"
      },
      "outputs": [],
      "source": [
        "data_type_dictionary \\\n",
        "    = {'coin_id': str,\n",
        "       'price_change_percentage_24h': float,\n",
        "       'price_change_percentage_7d': float,\n",
        "       'price_change_percentage_14d': float,\n",
        "       'price_change_percentage_30d': float,\n",
        "       'price_change_percentage_60d': float,\n",
        "       'price_change_percentage_200d': float,\n",
        "       'price_change_percentage_1y': float}\n",
        "\n",
        "crypto_dataframe \\\n",
        "    = pd.read_csv(CONSTANT_CRYPTO_CSV_FILE_PATH, index_col = 'coin_id', dtype = data_type_dictionary)\n",
        "\n",
        "logx.log_write_object(crypto_dataframe)"
      ]
    },
    {
      "cell_type": "markdown",
      "id": "84892baa",
      "metadata": {
        "id": "84892baa"
      },
      "source": [
        "## **1.2: Display DataFrames**"
      ]
    },
    {
      "cell_type": "markdown",
      "id": "0b57d8e5",
      "metadata": {
        "id": "0b57d8e5"
      },
      "source": [
        "### **Display DataFrame Table**"
      ]
    },
    {
      "cell_type": "code",
      "execution_count": null,
      "id": "62d967bd",
      "metadata": {
        "colab": {
          "base_uri": "https://localhost:8080/",
          "height": 482
        },
        "id": "62d967bd",
        "outputId": "62eb0051-2172-4b3b-be35-4805d4b767ea"
      },
      "outputs": [
        {
          "output_type": "execute_result",
          "data": {
            "text/plain": [
              "<pandas.io.formats.style.Styler at 0x7cca766b2c20>"
            ],
            "text/html": [
              "<style type=\"text/css\">\n",
              "#T_17384 caption {\n",
              "  color: black;\n",
              "  font-size: 20px;\n",
              "  font-style: bold;\n",
              "  text-align: center;\n",
              "}\n",
              "#T_17384_row0_col0, #T_17384_row0_col1, #T_17384_row0_col2, #T_17384_row0_col3, #T_17384_row0_col4, #T_17384_row0_col5, #T_17384_row0_col6, #T_17384_row1_col0, #T_17384_row1_col1, #T_17384_row1_col2, #T_17384_row1_col3, #T_17384_row1_col4, #T_17384_row1_col5, #T_17384_row1_col6, #T_17384_row2_col0, #T_17384_row2_col1, #T_17384_row2_col2, #T_17384_row2_col3, #T_17384_row2_col4, #T_17384_row2_col5, #T_17384_row2_col6, #T_17384_row3_col0, #T_17384_row3_col1, #T_17384_row3_col2, #T_17384_row3_col3, #T_17384_row3_col4, #T_17384_row3_col5, #T_17384_row3_col6, #T_17384_row4_col0, #T_17384_row4_col1, #T_17384_row4_col2, #T_17384_row4_col3, #T_17384_row4_col4, #T_17384_row4_col5, #T_17384_row4_col6, #T_17384_row5_col0, #T_17384_row5_col1, #T_17384_row5_col2, #T_17384_row5_col3, #T_17384_row5_col4, #T_17384_row5_col5, #T_17384_row5_col6, #T_17384_row6_col0, #T_17384_row6_col1, #T_17384_row6_col2, #T_17384_row6_col3, #T_17384_row6_col4, #T_17384_row6_col5, #T_17384_row6_col6, #T_17384_row7_col0, #T_17384_row7_col1, #T_17384_row7_col2, #T_17384_row7_col3, #T_17384_row7_col4, #T_17384_row7_col5, #T_17384_row7_col6, #T_17384_row8_col0, #T_17384_row8_col1, #T_17384_row8_col2, #T_17384_row8_col3, #T_17384_row8_col4, #T_17384_row8_col5, #T_17384_row8_col6, #T_17384_row9_col0, #T_17384_row9_col1, #T_17384_row9_col2, #T_17384_row9_col3, #T_17384_row9_col4, #T_17384_row9_col5, #T_17384_row9_col6 {\n",
              "  text-align: center;\n",
              "  border: 1.3px solid red;\n",
              "  color: blue;\n",
              "}\n",
              "</style>\n",
              "<table id=\"T_17384\" class=\"dataframe\">\n",
              "  <caption>Table 1.2.1: Cryptocurrencies DataFrame Table</caption>\n",
              "  <thead>\n",
              "    <tr>\n",
              "      <th class=\"blank level0\" >&nbsp;</th>\n",
              "      <th id=\"T_17384_level0_col0\" class=\"col_heading level0 col0\" >price_change_percentage_24h</th>\n",
              "      <th id=\"T_17384_level0_col1\" class=\"col_heading level0 col1\" >price_change_percentage_7d</th>\n",
              "      <th id=\"T_17384_level0_col2\" class=\"col_heading level0 col2\" >price_change_percentage_14d</th>\n",
              "      <th id=\"T_17384_level0_col3\" class=\"col_heading level0 col3\" >price_change_percentage_30d</th>\n",
              "      <th id=\"T_17384_level0_col4\" class=\"col_heading level0 col4\" >price_change_percentage_60d</th>\n",
              "      <th id=\"T_17384_level0_col5\" class=\"col_heading level0 col5\" >price_change_percentage_200d</th>\n",
              "      <th id=\"T_17384_level0_col6\" class=\"col_heading level0 col6\" >price_change_percentage_1y</th>\n",
              "    </tr>\n",
              "    <tr>\n",
              "      <th class=\"index_name level0\" >coin_id</th>\n",
              "      <th class=\"blank col0\" >&nbsp;</th>\n",
              "      <th class=\"blank col1\" >&nbsp;</th>\n",
              "      <th class=\"blank col2\" >&nbsp;</th>\n",
              "      <th class=\"blank col3\" >&nbsp;</th>\n",
              "      <th class=\"blank col4\" >&nbsp;</th>\n",
              "      <th class=\"blank col5\" >&nbsp;</th>\n",
              "      <th class=\"blank col6\" >&nbsp;</th>\n",
              "    </tr>\n",
              "  </thead>\n",
              "  <tbody>\n",
              "    <tr>\n",
              "      <th id=\"T_17384_level0_row0\" class=\"row_heading level0 row0\" >bitcoin</th>\n",
              "      <td id=\"T_17384_row0_col0\" class=\"data row0 col0\" >1.08</td>\n",
              "      <td id=\"T_17384_row0_col1\" class=\"data row0 col1\" >7.60</td>\n",
              "      <td id=\"T_17384_row0_col2\" class=\"data row0 col2\" >6.58</td>\n",
              "      <td id=\"T_17384_row0_col3\" class=\"data row0 col3\" >7.67</td>\n",
              "      <td id=\"T_17384_row0_col4\" class=\"data row0 col4\" >-3.25</td>\n",
              "      <td id=\"T_17384_row0_col5\" class=\"data row0 col5\" >83.52</td>\n",
              "      <td id=\"T_17384_row0_col6\" class=\"data row0 col6\" >37.52</td>\n",
              "    </tr>\n",
              "    <tr>\n",
              "      <th id=\"T_17384_level0_row1\" class=\"row_heading level0 row1\" >ethereum</th>\n",
              "      <td id=\"T_17384_row1_col0\" class=\"data row1 col0\" >0.22</td>\n",
              "      <td id=\"T_17384_row1_col1\" class=\"data row1 col1\" >10.38</td>\n",
              "      <td id=\"T_17384_row1_col2\" class=\"data row1 col2\" >4.81</td>\n",
              "      <td id=\"T_17384_row1_col3\" class=\"data row1 col3\" >0.13</td>\n",
              "      <td id=\"T_17384_row1_col4\" class=\"data row1 col4\" >-12.89</td>\n",
              "      <td id=\"T_17384_row1_col5\" class=\"data row1 col5\" >186.77</td>\n",
              "      <td id=\"T_17384_row1_col6\" class=\"data row1 col6\" >101.96</td>\n",
              "    </tr>\n",
              "    <tr>\n",
              "      <th id=\"T_17384_level0_row2\" class=\"row_heading level0 row2\" >tether</th>\n",
              "      <td id=\"T_17384_row2_col0\" class=\"data row2 col0\" >-0.21</td>\n",
              "      <td id=\"T_17384_row2_col1\" class=\"data row2 col1\" >0.05</td>\n",
              "      <td id=\"T_17384_row2_col2\" class=\"data row2 col2\" >0.01</td>\n",
              "      <td id=\"T_17384_row2_col3\" class=\"data row2 col3\" >-0.04</td>\n",
              "      <td id=\"T_17384_row2_col4\" class=\"data row2 col4\" >0.28</td>\n",
              "      <td id=\"T_17384_row2_col5\" class=\"data row2 col5\" >-0.01</td>\n",
              "      <td id=\"T_17384_row2_col6\" class=\"data row2 col6\" >0.02</td>\n",
              "    </tr>\n",
              "    <tr>\n",
              "      <th id=\"T_17384_level0_row3\" class=\"row_heading level0 row3\" >ripple</th>\n",
              "      <td id=\"T_17384_row3_col0\" class=\"data row3 col0\" >-0.38</td>\n",
              "      <td id=\"T_17384_row3_col1\" class=\"data row3 col1\" >-0.61</td>\n",
              "      <td id=\"T_17384_row3_col2\" class=\"data row3 col2\" >2.25</td>\n",
              "      <td id=\"T_17384_row3_col3\" class=\"data row3 col3\" >0.23</td>\n",
              "      <td id=\"T_17384_row3_col4\" class=\"data row3 col4\" >-17.55</td>\n",
              "      <td id=\"T_17384_row3_col5\" class=\"data row3 col5\" >39.54</td>\n",
              "      <td id=\"T_17384_row3_col6\" class=\"data row3 col6\" >-16.60</td>\n",
              "    </tr>\n",
              "    <tr>\n",
              "      <th id=\"T_17384_level0_row4\" class=\"row_heading level0 row4\" >bitcoin-cash</th>\n",
              "      <td id=\"T_17384_row4_col0\" class=\"data row4 col0\" >2.91</td>\n",
              "      <td id=\"T_17384_row4_col1\" class=\"data row4 col1\" >17.10</td>\n",
              "      <td id=\"T_17384_row4_col2\" class=\"data row4 col2\" >14.75</td>\n",
              "      <td id=\"T_17384_row4_col3\" class=\"data row4 col3\" >15.75</td>\n",
              "      <td id=\"T_17384_row4_col4\" class=\"data row4 col4\" >-13.72</td>\n",
              "      <td id=\"T_17384_row4_col5\" class=\"data row4 col5\" >21.66</td>\n",
              "      <td id=\"T_17384_row4_col6\" class=\"data row4 col6\" >14.49</td>\n",
              "    </tr>\n",
              "    <tr>\n",
              "      <th id=\"T_17384_level0_row5\" class=\"row_heading level0 row5\" >binancecoin</th>\n",
              "      <td id=\"T_17384_row5_col0\" class=\"data row5 col0\" >2.10</td>\n",
              "      <td id=\"T_17384_row5_col1\" class=\"data row5 col1\" >12.86</td>\n",
              "      <td id=\"T_17384_row5_col2\" class=\"data row5 col2\" >6.81</td>\n",
              "      <td id=\"T_17384_row5_col3\" class=\"data row5 col3\" >0.06</td>\n",
              "      <td id=\"T_17384_row5_col4\" class=\"data row5 col4\" >36.33</td>\n",
              "      <td id=\"T_17384_row5_col5\" class=\"data row5 col5\" >155.62</td>\n",
              "      <td id=\"T_17384_row5_col6\" class=\"data row5 col6\" >69.69</td>\n",
              "    </tr>\n",
              "    <tr>\n",
              "      <th id=\"T_17384_level0_row6\" class=\"row_heading level0 row6\" >chainlink</th>\n",
              "      <td id=\"T_17384_row6_col0\" class=\"data row6 col0\" >-0.24</td>\n",
              "      <td id=\"T_17384_row6_col1\" class=\"data row6 col1\" >20.69</td>\n",
              "      <td id=\"T_17384_row6_col2\" class=\"data row6 col2\" >9.30</td>\n",
              "      <td id=\"T_17384_row6_col3\" class=\"data row6 col3\" >-11.22</td>\n",
              "      <td id=\"T_17384_row6_col4\" class=\"data row6 col4\" >-43.70</td>\n",
              "      <td id=\"T_17384_row6_col5\" class=\"data row6 col5\" >403.23</td>\n",
              "      <td id=\"T_17384_row6_col6\" class=\"data row6 col6\" >325.13</td>\n",
              "    </tr>\n",
              "    <tr>\n",
              "      <th id=\"T_17384_level0_row7\" class=\"row_heading level0 row7\" >cardano</th>\n",
              "      <td id=\"T_17384_row7_col0\" class=\"data row7 col0\" >0.00</td>\n",
              "      <td id=\"T_17384_row7_col1\" class=\"data row7 col1\" >13.99</td>\n",
              "      <td id=\"T_17384_row7_col2\" class=\"data row7 col2\" >5.55</td>\n",
              "      <td id=\"T_17384_row7_col3\" class=\"data row7 col3\" >10.11</td>\n",
              "      <td id=\"T_17384_row7_col4\" class=\"data row7 col4\" >-22.85</td>\n",
              "      <td id=\"T_17384_row7_col5\" class=\"data row7 col5\" >264.51</td>\n",
              "      <td id=\"T_17384_row7_col6\" class=\"data row7 col6\" >156.10</td>\n",
              "    </tr>\n",
              "    <tr>\n",
              "      <th id=\"T_17384_level0_row8\" class=\"row_heading level0 row8\" >litecoin</th>\n",
              "      <td id=\"T_17384_row8_col0\" class=\"data row8 col0\" >-0.06</td>\n",
              "      <td id=\"T_17384_row8_col1\" class=\"data row8 col1\" >6.60</td>\n",
              "      <td id=\"T_17384_row8_col2\" class=\"data row8 col2\" >7.29</td>\n",
              "      <td id=\"T_17384_row8_col3\" class=\"data row8 col3\" >1.22</td>\n",
              "      <td id=\"T_17384_row8_col4\" class=\"data row8 col4\" >-17.24</td>\n",
              "      <td id=\"T_17384_row8_col5\" class=\"data row8 col5\" >27.50</td>\n",
              "      <td id=\"T_17384_row8_col6\" class=\"data row8 col6\" >-12.66</td>\n",
              "    </tr>\n",
              "    <tr>\n",
              "      <th id=\"T_17384_level0_row9\" class=\"row_heading level0 row9\" >bitcoin-cash-sv</th>\n",
              "      <td id=\"T_17384_row9_col0\" class=\"data row9 col0\" >0.93</td>\n",
              "      <td id=\"T_17384_row9_col1\" class=\"data row9 col1\" >3.30</td>\n",
              "      <td id=\"T_17384_row9_col2\" class=\"data row9 col2\" >-1.87</td>\n",
              "      <td id=\"T_17384_row9_col3\" class=\"data row9 col3\" >2.89</td>\n",
              "      <td id=\"T_17384_row9_col4\" class=\"data row9 col4\" >-24.87</td>\n",
              "      <td id=\"T_17384_row9_col5\" class=\"data row9 col5\" >7.43</td>\n",
              "      <td id=\"T_17384_row9_col6\" class=\"data row9 col6\" >93.73</td>\n",
              "    </tr>\n",
              "  </tbody>\n",
              "</table>\n"
            ]
          },
          "metadata": {},
          "execution_count": 66
        }
      ],
      "source": [
        "  pandasx.return_formatted_table \\\n",
        "      (crypto_dataframe, 'Table 1.2.1: Cryptocurrencies DataFrame Table', hide_index_boolean = False)"
      ]
    },
    {
      "cell_type": "markdown",
      "id": "c3aa0b43",
      "metadata": {
        "id": "c3aa0b43"
      },
      "source": [
        "### **Display DataFrame Summary Statistics**"
      ]
    },
    {
      "cell_type": "code",
      "execution_count": null,
      "id": "22be79ee",
      "metadata": {
        "colab": {
          "base_uri": "https://localhost:8080/",
          "height": 348
        },
        "id": "22be79ee",
        "outputId": "0b7fcbd4-c29a-4c65-ec16-bc2d7d1d9344"
      },
      "outputs": [
        {
          "output_type": "execute_result",
          "data": {
            "text/plain": [
              "<pandas.io.formats.style.Styler at 0x7cca719b74f0>"
            ],
            "text/html": [
              "<style type=\"text/css\">\n",
              "#T_4b9bf caption {\n",
              "  color: black;\n",
              "  font-size: 16px;\n",
              "  font-style: bold;\n",
              "  text-align: center;\n",
              "}\n",
              "#T_4b9bf_row0_col0, #T_4b9bf_row0_col1, #T_4b9bf_row0_col2, #T_4b9bf_row0_col3, #T_4b9bf_row0_col4, #T_4b9bf_row0_col5, #T_4b9bf_row0_col6, #T_4b9bf_row1_col0, #T_4b9bf_row1_col1, #T_4b9bf_row1_col2, #T_4b9bf_row1_col3, #T_4b9bf_row1_col4, #T_4b9bf_row1_col5, #T_4b9bf_row1_col6, #T_4b9bf_row2_col0, #T_4b9bf_row2_col1, #T_4b9bf_row2_col2, #T_4b9bf_row2_col3, #T_4b9bf_row2_col4, #T_4b9bf_row2_col5, #T_4b9bf_row2_col6, #T_4b9bf_row3_col0, #T_4b9bf_row3_col1, #T_4b9bf_row3_col2, #T_4b9bf_row3_col3, #T_4b9bf_row3_col4, #T_4b9bf_row3_col5, #T_4b9bf_row3_col6, #T_4b9bf_row4_col0, #T_4b9bf_row4_col1, #T_4b9bf_row4_col2, #T_4b9bf_row4_col3, #T_4b9bf_row4_col4, #T_4b9bf_row4_col5, #T_4b9bf_row4_col6, #T_4b9bf_row5_col0, #T_4b9bf_row5_col1, #T_4b9bf_row5_col2, #T_4b9bf_row5_col3, #T_4b9bf_row5_col4, #T_4b9bf_row5_col5, #T_4b9bf_row5_col6, #T_4b9bf_row6_col0, #T_4b9bf_row6_col1, #T_4b9bf_row6_col2, #T_4b9bf_row6_col3, #T_4b9bf_row6_col4, #T_4b9bf_row6_col5, #T_4b9bf_row6_col6, #T_4b9bf_row7_col0, #T_4b9bf_row7_col1, #T_4b9bf_row7_col2, #T_4b9bf_row7_col3, #T_4b9bf_row7_col4, #T_4b9bf_row7_col5, #T_4b9bf_row7_col6 {\n",
              "  text-align: center;\n",
              "  border: 1.3px solid red;\n",
              "  color: blue;\n",
              "}\n",
              "</style>\n",
              "<table id=\"T_4b9bf\" class=\"dataframe\">\n",
              "  <caption>Table 1.2.2: Cryptocurrencies DataFrame Summary Statistics</caption>\n",
              "  <thead>\n",
              "    <tr>\n",
              "      <th class=\"blank level0\" >&nbsp;</th>\n",
              "      <th id=\"T_4b9bf_level0_col0\" class=\"col_heading level0 col0\" >price_change_percentage_24h</th>\n",
              "      <th id=\"T_4b9bf_level0_col1\" class=\"col_heading level0 col1\" >price_change_percentage_7d</th>\n",
              "      <th id=\"T_4b9bf_level0_col2\" class=\"col_heading level0 col2\" >price_change_percentage_14d</th>\n",
              "      <th id=\"T_4b9bf_level0_col3\" class=\"col_heading level0 col3\" >price_change_percentage_30d</th>\n",
              "      <th id=\"T_4b9bf_level0_col4\" class=\"col_heading level0 col4\" >price_change_percentage_60d</th>\n",
              "      <th id=\"T_4b9bf_level0_col5\" class=\"col_heading level0 col5\" >price_change_percentage_200d</th>\n",
              "      <th id=\"T_4b9bf_level0_col6\" class=\"col_heading level0 col6\" >price_change_percentage_1y</th>\n",
              "    </tr>\n",
              "  </thead>\n",
              "  <tbody>\n",
              "    <tr>\n",
              "      <th id=\"T_4b9bf_level0_row0\" class=\"row_heading level0 row0\" >count</th>\n",
              "      <td id=\"T_4b9bf_row0_col0\" class=\"data row0 col0\" >41</td>\n",
              "      <td id=\"T_4b9bf_row0_col1\" class=\"data row0 col1\" >41</td>\n",
              "      <td id=\"T_4b9bf_row0_col2\" class=\"data row0 col2\" >41</td>\n",
              "      <td id=\"T_4b9bf_row0_col3\" class=\"data row0 col3\" >41</td>\n",
              "      <td id=\"T_4b9bf_row0_col4\" class=\"data row0 col4\" >41</td>\n",
              "      <td id=\"T_4b9bf_row0_col5\" class=\"data row0 col5\" >41</td>\n",
              "      <td id=\"T_4b9bf_row0_col6\" class=\"data row0 col6\" >41</td>\n",
              "    </tr>\n",
              "    <tr>\n",
              "      <th id=\"T_4b9bf_level0_row1\" class=\"row_heading level0 row1\" >mean</th>\n",
              "      <td id=\"T_4b9bf_row1_col0\" class=\"data row1 col0\" >-0.27</td>\n",
              "      <td id=\"T_4b9bf_row1_col1\" class=\"data row1 col1\" >4.50</td>\n",
              "      <td id=\"T_4b9bf_row1_col2\" class=\"data row1 col2\" >0.19</td>\n",
              "      <td id=\"T_4b9bf_row1_col3\" class=\"data row1 col3\" >1.55</td>\n",
              "      <td id=\"T_4b9bf_row1_col4\" class=\"data row1 col4\" >-0.09</td>\n",
              "      <td id=\"T_4b9bf_row1_col5\" class=\"data row1 col5\" >236.54</td>\n",
              "      <td id=\"T_4b9bf_row1_col6\" class=\"data row1 col6\" >347.67</td>\n",
              "    </tr>\n",
              "    <tr>\n",
              "      <th id=\"T_4b9bf_level0_row2\" class=\"row_heading level0 row2\" >std</th>\n",
              "      <td id=\"T_4b9bf_row2_col0\" class=\"data row2 col0\" >2.69</td>\n",
              "      <td id=\"T_4b9bf_row2_col1\" class=\"data row2 col1\" >6.38</td>\n",
              "      <td id=\"T_4b9bf_row2_col2\" class=\"data row2 col2\" >8.38</td>\n",
              "      <td id=\"T_4b9bf_row2_col3\" class=\"data row2 col3\" >26.34</td>\n",
              "      <td id=\"T_4b9bf_row2_col4\" class=\"data row2 col4\" >47.37</td>\n",
              "      <td id=\"T_4b9bf_row2_col5\" class=\"data row2 col5\" >435.23</td>\n",
              "      <td id=\"T_4b9bf_row2_col6\" class=\"data row2 col6\" >1,247.84</td>\n",
              "    </tr>\n",
              "    <tr>\n",
              "      <th id=\"T_4b9bf_level0_row3\" class=\"row_heading level0 row3\" >min</th>\n",
              "      <td id=\"T_4b9bf_row3_col0\" class=\"data row3 col0\" >-14</td>\n",
              "      <td id=\"T_4b9bf_row3_col1\" class=\"data row3 col1\" >-6</td>\n",
              "      <td id=\"T_4b9bf_row3_col2\" class=\"data row3 col2\" >-18</td>\n",
              "      <td id=\"T_4b9bf_row3_col3\" class=\"data row3 col3\" >-35</td>\n",
              "      <td id=\"T_4b9bf_row3_col4\" class=\"data row3 col4\" >-45</td>\n",
              "      <td id=\"T_4b9bf_row3_col5\" class=\"data row3 col5\" >-0</td>\n",
              "      <td id=\"T_4b9bf_row3_col6\" class=\"data row3 col6\" >-18</td>\n",
              "    </tr>\n",
              "    <tr>\n",
              "      <th id=\"T_4b9bf_level0_row4\" class=\"row_heading level0 row4\" >25%</th>\n",
              "      <td id=\"T_4b9bf_row4_col0\" class=\"data row4 col0\" >-0.61</td>\n",
              "      <td id=\"T_4b9bf_row4_col1\" class=\"data row4 col1\" >0.05</td>\n",
              "      <td id=\"T_4b9bf_row4_col2\" class=\"data row4 col2\" >-5.03</td>\n",
              "      <td id=\"T_4b9bf_row4_col3\" class=\"data row4 col3\" >-10.44</td>\n",
              "      <td id=\"T_4b9bf_row4_col4\" class=\"data row4 col4\" >-25.91</td>\n",
              "      <td id=\"T_4b9bf_row4_col5\" class=\"data row4 col5\" >21.66</td>\n",
              "      <td id=\"T_4b9bf_row4_col6\" class=\"data row4 col6\" >0.41</td>\n",
              "    </tr>\n",
              "    <tr>\n",
              "      <th id=\"T_4b9bf_level0_row5\" class=\"row_heading level0 row5\" >50%</th>\n",
              "      <td id=\"T_4b9bf_row5_col0\" class=\"data row5 col0\" >-0.06</td>\n",
              "      <td id=\"T_4b9bf_row5_col1\" class=\"data row5 col1\" >3.30</td>\n",
              "      <td id=\"T_4b9bf_row5_col2\" class=\"data row5 col2\" >0.11</td>\n",
              "      <td id=\"T_4b9bf_row5_col3\" class=\"data row5 col3\" >-0.04</td>\n",
              "      <td id=\"T_4b9bf_row5_col4\" class=\"data row5 col4\" >-7.54</td>\n",
              "      <td id=\"T_4b9bf_row5_col5\" class=\"data row5 col5\" >83.91</td>\n",
              "      <td id=\"T_4b9bf_row5_col6\" class=\"data row5 col6\" >69.69</td>\n",
              "    </tr>\n",
              "    <tr>\n",
              "      <th id=\"T_4b9bf_level0_row6\" class=\"row_heading level0 row6\" >75%</th>\n",
              "      <td id=\"T_4b9bf_row6_col0\" class=\"data row6 col0\" >0.61</td>\n",
              "      <td id=\"T_4b9bf_row6_col1\" class=\"data row6 col1\" >7.60</td>\n",
              "      <td id=\"T_4b9bf_row6_col2\" class=\"data row6 col2\" >5.51</td>\n",
              "      <td id=\"T_4b9bf_row6_col3\" class=\"data row6 col3\" >4.58</td>\n",
              "      <td id=\"T_4b9bf_row6_col4\" class=\"data row6 col4\" >0.66</td>\n",
              "      <td id=\"T_4b9bf_row6_col5\" class=\"data row6 col5\" >216.18</td>\n",
              "      <td id=\"T_4b9bf_row6_col6\" class=\"data row6 col6\" >168.37</td>\n",
              "    </tr>\n",
              "    <tr>\n",
              "      <th id=\"T_4b9bf_level0_row7\" class=\"row_heading level0 row7\" >max</th>\n",
              "      <td id=\"T_4b9bf_row7_col0\" class=\"data row7 col0\" >5</td>\n",
              "      <td id=\"T_4b9bf_row7_col1\" class=\"data row7 col1\" >21</td>\n",
              "      <td id=\"T_4b9bf_row7_col2\" class=\"data row7 col2\" >24</td>\n",
              "      <td id=\"T_4b9bf_row7_col3\" class=\"data row7 col3\" >141</td>\n",
              "      <td id=\"T_4b9bf_row7_col4\" class=\"data row7 col4\" >223</td>\n",
              "      <td id=\"T_4b9bf_row7_col5\" class=\"data row7 col5\" >2,228</td>\n",
              "      <td id=\"T_4b9bf_row7_col6\" class=\"data row7 col6\" >7,852</td>\n",
              "    </tr>\n",
              "  </tbody>\n",
              "</table>\n"
            ]
          },
          "metadata": {},
          "execution_count": 67
        }
      ],
      "source": [
        "pandasx.return_formatted_description \\\n",
        "    (crypto_dataframe, 'Table 1.2.2: Cryptocurrencies DataFrame Summary Statistics')"
      ]
    },
    {
      "cell_type": "markdown",
      "id": "cb4a2e0a",
      "metadata": {
        "id": "cb4a2e0a"
      },
      "source": [
        "### **Display DataFrame Information**"
      ]
    },
    {
      "cell_type": "code",
      "execution_count": null,
      "id": "7ff1a2d3",
      "metadata": {
        "colab": {
          "base_uri": "https://localhost:8080/"
        },
        "id": "7ff1a2d3",
        "outputId": "37993373-eee5-4e4a-9468-07be2f13607a"
      },
      "outputs": [
        {
          "output_type": "stream",
          "name": "stdout",
          "text": [
            "\u001b[1mTable 1.2.3: Cryptocurrencies DataFrame Information:\n",
            "\u001b[0m\n",
            "<class 'pandas.core.frame.DataFrame'>\n",
            "Index: 41 entries, bitcoin to digibyte\n",
            "Data columns (total 7 columns):\n",
            " #   Column                        Non-Null Count  Dtype  \n",
            "---  ------                        --------------  -----  \n",
            " 0   price_change_percentage_24h   41 non-null     float64\n",
            " 1   price_change_percentage_7d    41 non-null     float64\n",
            " 2   price_change_percentage_14d   41 non-null     float64\n",
            " 3   price_change_percentage_30d   41 non-null     float64\n",
            " 4   price_change_percentage_60d   41 non-null     float64\n",
            " 5   price_change_percentage_200d  41 non-null     float64\n",
            " 6   price_change_percentage_1y    41 non-null     float64\n",
            "dtypes: float64(7)\n",
            "memory usage: 2.6+ KB\n"
          ]
        }
      ],
      "source": [
        "logx.print_and_log_text \\\n",
        "    ('\\033[1m' + 'Table 1.2.3: Cryptocurrencies DataFrame Information:\\n' + '\\033[0m')\n",
        "\n",
        "crypto_dataframe.info(verbose = True, memory_usage = True, show_counts = True)"
      ]
    },
    {
      "cell_type": "markdown",
      "id": "0d996f9e",
      "metadata": {
        "id": "0d996f9e"
      },
      "source": [
        "### **Display DataFrame HVPlot**"
      ]
    },
    {
      "cell_type": "code",
      "execution_count": null,
      "id": "3880f9db",
      "metadata": {
        "colab": {
          "base_uri": "https://localhost:8080/",
          "height": 532
        },
        "id": "3880f9db",
        "outputId": "0d5963f5-c8e6-4c1b-9318-ea8dcaff8c63"
      },
      "outputs": [
        {
          "output_type": "display_data",
          "data": {
            "application/javascript": [
              "(function(root) {\n",
              "  function now() {\n",
              "    return new Date();\n",
              "  }\n",
              "\n",
              "  var force = true;\n",
              "  var py_version = '3.4.1'.replace('rc', '-rc.').replace('.dev', '-dev.');\n",
              "  var reloading = false;\n",
              "  var Bokeh = root.Bokeh;\n",
              "\n",
              "  if (typeof (root._bokeh_timeout) === \"undefined\" || force) {\n",
              "    root._bokeh_timeout = Date.now() + 5000;\n",
              "    root._bokeh_failed_load = false;\n",
              "  }\n",
              "\n",
              "  function run_callbacks() {\n",
              "    try {\n",
              "      root._bokeh_onload_callbacks.forEach(function(callback) {\n",
              "        if (callback != null)\n",
              "          callback();\n",
              "      });\n",
              "    } finally {\n",
              "      delete root._bokeh_onload_callbacks;\n",
              "    }\n",
              "    console.debug(\"Bokeh: all callbacks have finished\");\n",
              "  }\n",
              "\n",
              "  function load_libs(css_urls, js_urls, js_modules, js_exports, callback) {\n",
              "    if (css_urls == null) css_urls = [];\n",
              "    if (js_urls == null) js_urls = [];\n",
              "    if (js_modules == null) js_modules = [];\n",
              "    if (js_exports == null) js_exports = {};\n",
              "\n",
              "    root._bokeh_onload_callbacks.push(callback);\n",
              "\n",
              "    if (root._bokeh_is_loading > 0) {\n",
              "      console.debug(\"Bokeh: BokehJS is being loaded, scheduling callback at\", now());\n",
              "      return null;\n",
              "    }\n",
              "    if (js_urls.length === 0 && js_modules.length === 0 && Object.keys(js_exports).length === 0) {\n",
              "      run_callbacks();\n",
              "      return null;\n",
              "    }\n",
              "    if (!reloading) {\n",
              "      console.debug(\"Bokeh: BokehJS not loaded, scheduling load and callback at\", now());\n",
              "    }\n",
              "\n",
              "    function on_load() {\n",
              "      root._bokeh_is_loading--;\n",
              "      if (root._bokeh_is_loading === 0) {\n",
              "        console.debug(\"Bokeh: all BokehJS libraries/stylesheets loaded\");\n",
              "        run_callbacks()\n",
              "      }\n",
              "    }\n",
              "    window._bokeh_on_load = on_load\n",
              "\n",
              "    function on_error() {\n",
              "      console.error(\"failed to load \" + url);\n",
              "    }\n",
              "\n",
              "    var skip = [];\n",
              "    if (window.requirejs) {\n",
              "      window.requirejs.config({'packages': {}, 'paths': {}, 'shim': {}});\n",
              "      root._bokeh_is_loading = css_urls.length + 0;\n",
              "    } else {\n",
              "      root._bokeh_is_loading = css_urls.length + js_urls.length + js_modules.length + Object.keys(js_exports).length;\n",
              "    }\n",
              "\n",
              "    var existing_stylesheets = []\n",
              "    var links = document.getElementsByTagName('link')\n",
              "    for (var i = 0; i < links.length; i++) {\n",
              "      var link = links[i]\n",
              "      if (link.href != null) {\n",
              "\texisting_stylesheets.push(link.href)\n",
              "      }\n",
              "    }\n",
              "    for (var i = 0; i < css_urls.length; i++) {\n",
              "      var url = css_urls[i];\n",
              "      if (existing_stylesheets.indexOf(url) !== -1) {\n",
              "\ton_load()\n",
              "\tcontinue;\n",
              "      }\n",
              "      const element = document.createElement(\"link\");\n",
              "      element.onload = on_load;\n",
              "      element.onerror = on_error;\n",
              "      element.rel = \"stylesheet\";\n",
              "      element.type = \"text/css\";\n",
              "      element.href = url;\n",
              "      console.debug(\"Bokeh: injecting link tag for BokehJS stylesheet: \", url);\n",
              "      document.body.appendChild(element);\n",
              "    }    var existing_scripts = []\n",
              "    var scripts = document.getElementsByTagName('script')\n",
              "    for (var i = 0; i < scripts.length; i++) {\n",
              "      var script = scripts[i]\n",
              "      if (script.src != null) {\n",
              "\texisting_scripts.push(script.src)\n",
              "      }\n",
              "    }\n",
              "    for (var i = 0; i < js_urls.length; i++) {\n",
              "      var url = js_urls[i];\n",
              "      if (skip.indexOf(url) !== -1 || existing_scripts.indexOf(url) !== -1) {\n",
              "\tif (!window.requirejs) {\n",
              "\t  on_load();\n",
              "\t}\n",
              "\tcontinue;\n",
              "      }\n",
              "      var element = document.createElement('script');\n",
              "      element.onload = on_load;\n",
              "      element.onerror = on_error;\n",
              "      element.async = false;\n",
              "      element.src = url;\n",
              "      console.debug(\"Bokeh: injecting script tag for BokehJS library: \", url);\n",
              "      document.head.appendChild(element);\n",
              "    }\n",
              "    for (var i = 0; i < js_modules.length; i++) {\n",
              "      var url = js_modules[i];\n",
              "      if (skip.indexOf(url) !== -1 || existing_scripts.indexOf(url) !== -1) {\n",
              "\tif (!window.requirejs) {\n",
              "\t  on_load();\n",
              "\t}\n",
              "\tcontinue;\n",
              "      }\n",
              "      var element = document.createElement('script');\n",
              "      element.onload = on_load;\n",
              "      element.onerror = on_error;\n",
              "      element.async = false;\n",
              "      element.src = url;\n",
              "      element.type = \"module\";\n",
              "      console.debug(\"Bokeh: injecting script tag for BokehJS library: \", url);\n",
              "      document.head.appendChild(element);\n",
              "    }\n",
              "    for (const name in js_exports) {\n",
              "      var url = js_exports[name];\n",
              "      if (skip.indexOf(url) >= 0 || root[name] != null) {\n",
              "\tif (!window.requirejs) {\n",
              "\t  on_load();\n",
              "\t}\n",
              "\tcontinue;\n",
              "      }\n",
              "      var element = document.createElement('script');\n",
              "      element.onerror = on_error;\n",
              "      element.async = false;\n",
              "      element.type = \"module\";\n",
              "      console.debug(\"Bokeh: injecting script tag for BokehJS library: \", url);\n",
              "      element.textContent = `\n",
              "      import ${name} from \"${url}\"\n",
              "      window.${name} = ${name}\n",
              "      window._bokeh_on_load()\n",
              "      `\n",
              "      document.head.appendChild(element);\n",
              "    }\n",
              "    if (!js_urls.length && !js_modules.length) {\n",
              "      on_load()\n",
              "    }\n",
              "  };\n",
              "\n",
              "  function inject_raw_css(css) {\n",
              "    const element = document.createElement(\"style\");\n",
              "    element.appendChild(document.createTextNode(css));\n",
              "    document.body.appendChild(element);\n",
              "  }\n",
              "\n",
              "  var js_urls = [\"https://cdn.bokeh.org/bokeh/release/bokeh-3.4.1.min.js\", \"https://cdn.bokeh.org/bokeh/release/bokeh-gl-3.4.1.min.js\", \"https://cdn.bokeh.org/bokeh/release/bokeh-widgets-3.4.1.min.js\", \"https://cdn.bokeh.org/bokeh/release/bokeh-tables-3.4.1.min.js\", \"https://cdn.holoviz.org/panel/1.4.2/dist/panel.min.js\"];\n",
              "  var js_modules = [];\n",
              "  var js_exports = {};\n",
              "  var css_urls = [];\n",
              "  var inline_js = [    function(Bokeh) {\n",
              "      Bokeh.set_log_level(\"info\");\n",
              "    },\n",
              "function(Bokeh) {} // ensure no trailing comma for IE\n",
              "  ];\n",
              "\n",
              "  function run_inline_js() {\n",
              "    if ((root.Bokeh !== undefined) || (force === true)) {\n",
              "      for (var i = 0; i < inline_js.length; i++) {\n",
              "\ttry {\n",
              "          inline_js[i].call(root, root.Bokeh);\n",
              "\t} catch(e) {\n",
              "\t  if (!reloading) {\n",
              "\t    throw e;\n",
              "\t  }\n",
              "\t}\n",
              "      }\n",
              "      // Cache old bokeh versions\n",
              "      if (Bokeh != undefined && !reloading) {\n",
              "\tvar NewBokeh = root.Bokeh;\n",
              "\tif (Bokeh.versions === undefined) {\n",
              "\t  Bokeh.versions = new Map();\n",
              "\t}\n",
              "\tif (NewBokeh.version !== Bokeh.version) {\n",
              "\t  Bokeh.versions.set(NewBokeh.version, NewBokeh)\n",
              "\t}\n",
              "\troot.Bokeh = Bokeh;\n",
              "      }} else if (Date.now() < root._bokeh_timeout) {\n",
              "      setTimeout(run_inline_js, 100);\n",
              "    } else if (!root._bokeh_failed_load) {\n",
              "      console.log(\"Bokeh: BokehJS failed to load within specified timeout.\");\n",
              "      root._bokeh_failed_load = true;\n",
              "    }\n",
              "    root._bokeh_is_initializing = false\n",
              "  }\n",
              "\n",
              "  function load_or_wait() {\n",
              "    // Implement a backoff loop that tries to ensure we do not load multiple\n",
              "    // versions of Bokeh and its dependencies at the same time.\n",
              "    // In recent versions we use the root._bokeh_is_initializing flag\n",
              "    // to determine whether there is an ongoing attempt to initialize\n",
              "    // bokeh, however for backward compatibility we also try to ensure\n",
              "    // that we do not start loading a newer (Panel>=1.0 and Bokeh>3) version\n",
              "    // before older versions are fully initialized.\n",
              "    if (root._bokeh_is_initializing && Date.now() > root._bokeh_timeout) {\n",
              "      root._bokeh_is_initializing = false;\n",
              "      root._bokeh_onload_callbacks = undefined;\n",
              "      console.log(\"Bokeh: BokehJS was loaded multiple times but one version failed to initialize.\");\n",
              "      load_or_wait();\n",
              "    } else if (root._bokeh_is_initializing || (typeof root._bokeh_is_initializing === \"undefined\" && root._bokeh_onload_callbacks !== undefined)) {\n",
              "      setTimeout(load_or_wait, 100);\n",
              "    } else {\n",
              "      root._bokeh_is_initializing = true\n",
              "      root._bokeh_onload_callbacks = []\n",
              "      var bokeh_loaded = Bokeh != null && (Bokeh.version === py_version || (Bokeh.versions !== undefined && Bokeh.versions.has(py_version)));\n",
              "      if (!reloading && !bokeh_loaded) {\n",
              "\troot.Bokeh = undefined;\n",
              "      }\n",
              "      load_libs(css_urls, js_urls, js_modules, js_exports, function() {\n",
              "\tconsole.debug(\"Bokeh: BokehJS plotting callback run at\", now());\n",
              "\trun_inline_js();\n",
              "      });\n",
              "    }\n",
              "  }\n",
              "  // Give older versions of the autoload script a head-start to ensure\n",
              "  // they initialize before we start loading newer version.\n",
              "  setTimeout(load_or_wait, 100)\n",
              "}(window));"
            ],
            "application/vnd.holoviews_load.v0+json": "(function(root) {\n  function now() {\n    return new Date();\n  }\n\n  var force = true;\n  var py_version = '3.4.1'.replace('rc', '-rc.').replace('.dev', '-dev.');\n  var reloading = false;\n  var Bokeh = root.Bokeh;\n\n  if (typeof (root._bokeh_timeout) === \"undefined\" || force) {\n    root._bokeh_timeout = Date.now() + 5000;\n    root._bokeh_failed_load = false;\n  }\n\n  function run_callbacks() {\n    try {\n      root._bokeh_onload_callbacks.forEach(function(callback) {\n        if (callback != null)\n          callback();\n      });\n    } finally {\n      delete root._bokeh_onload_callbacks;\n    }\n    console.debug(\"Bokeh: all callbacks have finished\");\n  }\n\n  function load_libs(css_urls, js_urls, js_modules, js_exports, callback) {\n    if (css_urls == null) css_urls = [];\n    if (js_urls == null) js_urls = [];\n    if (js_modules == null) js_modules = [];\n    if (js_exports == null) js_exports = {};\n\n    root._bokeh_onload_callbacks.push(callback);\n\n    if (root._bokeh_is_loading > 0) {\n      console.debug(\"Bokeh: BokehJS is being loaded, scheduling callback at\", now());\n      return null;\n    }\n    if (js_urls.length === 0 && js_modules.length === 0 && Object.keys(js_exports).length === 0) {\n      run_callbacks();\n      return null;\n    }\n    if (!reloading) {\n      console.debug(\"Bokeh: BokehJS not loaded, scheduling load and callback at\", now());\n    }\n\n    function on_load() {\n      root._bokeh_is_loading--;\n      if (root._bokeh_is_loading === 0) {\n        console.debug(\"Bokeh: all BokehJS libraries/stylesheets loaded\");\n        run_callbacks()\n      }\n    }\n    window._bokeh_on_load = on_load\n\n    function on_error() {\n      console.error(\"failed to load \" + url);\n    }\n\n    var skip = [];\n    if (window.requirejs) {\n      window.requirejs.config({'packages': {}, 'paths': {}, 'shim': {}});\n      root._bokeh_is_loading = css_urls.length + 0;\n    } else {\n      root._bokeh_is_loading = css_urls.length + js_urls.length + js_modules.length + Object.keys(js_exports).length;\n    }\n\n    var existing_stylesheets = []\n    var links = document.getElementsByTagName('link')\n    for (var i = 0; i < links.length; i++) {\n      var link = links[i]\n      if (link.href != null) {\n\texisting_stylesheets.push(link.href)\n      }\n    }\n    for (var i = 0; i < css_urls.length; i++) {\n      var url = css_urls[i];\n      if (existing_stylesheets.indexOf(url) !== -1) {\n\ton_load()\n\tcontinue;\n      }\n      const element = document.createElement(\"link\");\n      element.onload = on_load;\n      element.onerror = on_error;\n      element.rel = \"stylesheet\";\n      element.type = \"text/css\";\n      element.href = url;\n      console.debug(\"Bokeh: injecting link tag for BokehJS stylesheet: \", url);\n      document.body.appendChild(element);\n    }    var existing_scripts = []\n    var scripts = document.getElementsByTagName('script')\n    for (var i = 0; i < scripts.length; i++) {\n      var script = scripts[i]\n      if (script.src != null) {\n\texisting_scripts.push(script.src)\n      }\n    }\n    for (var i = 0; i < js_urls.length; i++) {\n      var url = js_urls[i];\n      if (skip.indexOf(url) !== -1 || existing_scripts.indexOf(url) !== -1) {\n\tif (!window.requirejs) {\n\t  on_load();\n\t}\n\tcontinue;\n      }\n      var element = document.createElement('script');\n      element.onload = on_load;\n      element.onerror = on_error;\n      element.async = false;\n      element.src = url;\n      console.debug(\"Bokeh: injecting script tag for BokehJS library: \", url);\n      document.head.appendChild(element);\n    }\n    for (var i = 0; i < js_modules.length; i++) {\n      var url = js_modules[i];\n      if (skip.indexOf(url) !== -1 || existing_scripts.indexOf(url) !== -1) {\n\tif (!window.requirejs) {\n\t  on_load();\n\t}\n\tcontinue;\n      }\n      var element = document.createElement('script');\n      element.onload = on_load;\n      element.onerror = on_error;\n      element.async = false;\n      element.src = url;\n      element.type = \"module\";\n      console.debug(\"Bokeh: injecting script tag for BokehJS library: \", url);\n      document.head.appendChild(element);\n    }\n    for (const name in js_exports) {\n      var url = js_exports[name];\n      if (skip.indexOf(url) >= 0 || root[name] != null) {\n\tif (!window.requirejs) {\n\t  on_load();\n\t}\n\tcontinue;\n      }\n      var element = document.createElement('script');\n      element.onerror = on_error;\n      element.async = false;\n      element.type = \"module\";\n      console.debug(\"Bokeh: injecting script tag for BokehJS library: \", url);\n      element.textContent = `\n      import ${name} from \"${url}\"\n      window.${name} = ${name}\n      window._bokeh_on_load()\n      `\n      document.head.appendChild(element);\n    }\n    if (!js_urls.length && !js_modules.length) {\n      on_load()\n    }\n  };\n\n  function inject_raw_css(css) {\n    const element = document.createElement(\"style\");\n    element.appendChild(document.createTextNode(css));\n    document.body.appendChild(element);\n  }\n\n  var js_urls = [\"https://cdn.bokeh.org/bokeh/release/bokeh-3.4.1.min.js\", \"https://cdn.bokeh.org/bokeh/release/bokeh-gl-3.4.1.min.js\", \"https://cdn.bokeh.org/bokeh/release/bokeh-widgets-3.4.1.min.js\", \"https://cdn.bokeh.org/bokeh/release/bokeh-tables-3.4.1.min.js\", \"https://cdn.holoviz.org/panel/1.4.2/dist/panel.min.js\"];\n  var js_modules = [];\n  var js_exports = {};\n  var css_urls = [];\n  var inline_js = [    function(Bokeh) {\n      Bokeh.set_log_level(\"info\");\n    },\nfunction(Bokeh) {} // ensure no trailing comma for IE\n  ];\n\n  function run_inline_js() {\n    if ((root.Bokeh !== undefined) || (force === true)) {\n      for (var i = 0; i < inline_js.length; i++) {\n\ttry {\n          inline_js[i].call(root, root.Bokeh);\n\t} catch(e) {\n\t  if (!reloading) {\n\t    throw e;\n\t  }\n\t}\n      }\n      // Cache old bokeh versions\n      if (Bokeh != undefined && !reloading) {\n\tvar NewBokeh = root.Bokeh;\n\tif (Bokeh.versions === undefined) {\n\t  Bokeh.versions = new Map();\n\t}\n\tif (NewBokeh.version !== Bokeh.version) {\n\t  Bokeh.versions.set(NewBokeh.version, NewBokeh)\n\t}\n\troot.Bokeh = Bokeh;\n      }} else if (Date.now() < root._bokeh_timeout) {\n      setTimeout(run_inline_js, 100);\n    } else if (!root._bokeh_failed_load) {\n      console.log(\"Bokeh: BokehJS failed to load within specified timeout.\");\n      root._bokeh_failed_load = true;\n    }\n    root._bokeh_is_initializing = false\n  }\n\n  function load_or_wait() {\n    // Implement a backoff loop that tries to ensure we do not load multiple\n    // versions of Bokeh and its dependencies at the same time.\n    // In recent versions we use the root._bokeh_is_initializing flag\n    // to determine whether there is an ongoing attempt to initialize\n    // bokeh, however for backward compatibility we also try to ensure\n    // that we do not start loading a newer (Panel>=1.0 and Bokeh>3) version\n    // before older versions are fully initialized.\n    if (root._bokeh_is_initializing && Date.now() > root._bokeh_timeout) {\n      root._bokeh_is_initializing = false;\n      root._bokeh_onload_callbacks = undefined;\n      console.log(\"Bokeh: BokehJS was loaded multiple times but one version failed to initialize.\");\n      load_or_wait();\n    } else if (root._bokeh_is_initializing || (typeof root._bokeh_is_initializing === \"undefined\" && root._bokeh_onload_callbacks !== undefined)) {\n      setTimeout(load_or_wait, 100);\n    } else {\n      root._bokeh_is_initializing = true\n      root._bokeh_onload_callbacks = []\n      var bokeh_loaded = Bokeh != null && (Bokeh.version === py_version || (Bokeh.versions !== undefined && Bokeh.versions.has(py_version)));\n      if (!reloading && !bokeh_loaded) {\n\troot.Bokeh = undefined;\n      }\n      load_libs(css_urls, js_urls, js_modules, js_exports, function() {\n\tconsole.debug(\"Bokeh: BokehJS plotting callback run at\", now());\n\trun_inline_js();\n      });\n    }\n  }\n  // Give older versions of the autoload script a head-start to ensure\n  // they initialize before we start loading newer version.\n  setTimeout(load_or_wait, 100)\n}(window));"
          },
          "metadata": {}
        },
        {
          "output_type": "display_data",
          "data": {
            "application/vnd.holoviews_load.v0+json": "\nif ((window.PyViz === undefined) || (window.PyViz instanceof HTMLElement)) {\n  window.PyViz = {comms: {}, comm_status:{}, kernels:{}, receivers: {}, plot_index: []}\n}\n\n\n    function JupyterCommManager() {\n    }\n\n    JupyterCommManager.prototype.register_target = function(plot_id, comm_id, msg_handler) {\n      if (window.comm_manager || ((window.Jupyter !== undefined) && (Jupyter.notebook.kernel != null))) {\n        var comm_manager = window.comm_manager || Jupyter.notebook.kernel.comm_manager;\n        comm_manager.register_target(comm_id, function(comm) {\n          comm.on_msg(msg_handler);\n        });\n      } else if ((plot_id in window.PyViz.kernels) && (window.PyViz.kernels[plot_id])) {\n        window.PyViz.kernels[plot_id].registerCommTarget(comm_id, function(comm) {\n          comm.onMsg = msg_handler;\n        });\n      } else if (typeof google != 'undefined' && google.colab.kernel != null) {\n        google.colab.kernel.comms.registerTarget(comm_id, (comm) => {\n          var messages = comm.messages[Symbol.asyncIterator]();\n          function processIteratorResult(result) {\n            var message = result.value;\n            console.log(message)\n            var content = {data: message.data, comm_id};\n            var buffers = []\n            for (var buffer of message.buffers || []) {\n              buffers.push(new DataView(buffer))\n            }\n            var metadata = message.metadata || {};\n            var msg = {content, buffers, metadata}\n            msg_handler(msg);\n            return messages.next().then(processIteratorResult);\n          }\n          return messages.next().then(processIteratorResult);\n        })\n      }\n    }\n\n    JupyterCommManager.prototype.get_client_comm = function(plot_id, comm_id, msg_handler) {\n      if (comm_id in window.PyViz.comms) {\n        return window.PyViz.comms[comm_id];\n      } else if (window.comm_manager || ((window.Jupyter !== undefined) && (Jupyter.notebook.kernel != null))) {\n        var comm_manager = window.comm_manager || Jupyter.notebook.kernel.comm_manager;\n        var comm = comm_manager.new_comm(comm_id, {}, {}, {}, comm_id);\n        if (msg_handler) {\n          comm.on_msg(msg_handler);\n        }\n      } else if ((plot_id in window.PyViz.kernels) && (window.PyViz.kernels[plot_id])) {\n        var comm = window.PyViz.kernels[plot_id].connectToComm(comm_id);\n        comm.open();\n        if (msg_handler) {\n          comm.onMsg = msg_handler;\n        }\n      } else if (typeof google != 'undefined' && google.colab.kernel != null) {\n        var comm_promise = google.colab.kernel.comms.open(comm_id)\n        comm_promise.then((comm) => {\n          window.PyViz.comms[comm_id] = comm;\n          if (msg_handler) {\n            var messages = comm.messages[Symbol.asyncIterator]();\n            function processIteratorResult(result) {\n              var message = result.value;\n              var content = {data: message.data};\n              var metadata = message.metadata || {comm_id};\n              var msg = {content, metadata}\n              msg_handler(msg);\n              return messages.next().then(processIteratorResult);\n            }\n            return messages.next().then(processIteratorResult);\n          }\n        }) \n        var sendClosure = (data, metadata, buffers, disposeOnDone) => {\n          return comm_promise.then((comm) => {\n            comm.send(data, metadata, buffers, disposeOnDone);\n          });\n        };\n        var comm = {\n          send: sendClosure\n        };\n      }\n      window.PyViz.comms[comm_id] = comm;\n      return comm;\n    }\n    window.PyViz.comm_manager = new JupyterCommManager();\n    \n\n\nvar JS_MIME_TYPE = 'application/javascript';\nvar HTML_MIME_TYPE = 'text/html';\nvar EXEC_MIME_TYPE = 'application/vnd.holoviews_exec.v0+json';\nvar CLASS_NAME = 'output';\n\n/**\n * Render data to the DOM node\n */\nfunction render(props, node) {\n  var div = document.createElement(\"div\");\n  var script = document.createElement(\"script\");\n  node.appendChild(div);\n  node.appendChild(script);\n}\n\n/**\n * Handle when a new output is added\n */\nfunction handle_add_output(event, handle) {\n  var output_area = handle.output_area;\n  var output = handle.output;\n  if ((output.data == undefined) || (!output.data.hasOwnProperty(EXEC_MIME_TYPE))) {\n    return\n  }\n  var id = output.metadata[EXEC_MIME_TYPE][\"id\"];\n  var toinsert = output_area.element.find(\".\" + CLASS_NAME.split(' ')[0]);\n  if (id !== undefined) {\n    var nchildren = toinsert.length;\n    var html_node = toinsert[nchildren-1].children[0];\n    html_node.innerHTML = output.data[HTML_MIME_TYPE];\n    var scripts = [];\n    var nodelist = html_node.querySelectorAll(\"script\");\n    for (var i in nodelist) {\n      if (nodelist.hasOwnProperty(i)) {\n        scripts.push(nodelist[i])\n      }\n    }\n\n    scripts.forEach( function (oldScript) {\n      var newScript = document.createElement(\"script\");\n      var attrs = [];\n      var nodemap = oldScript.attributes;\n      for (var j in nodemap) {\n        if (nodemap.hasOwnProperty(j)) {\n          attrs.push(nodemap[j])\n        }\n      }\n      attrs.forEach(function(attr) { newScript.setAttribute(attr.name, attr.value) });\n      newScript.appendChild(document.createTextNode(oldScript.innerHTML));\n      oldScript.parentNode.replaceChild(newScript, oldScript);\n    });\n    if (JS_MIME_TYPE in output.data) {\n      toinsert[nchildren-1].children[1].textContent = output.data[JS_MIME_TYPE];\n    }\n    output_area._hv_plot_id = id;\n    if ((window.Bokeh !== undefined) && (id in Bokeh.index)) {\n      window.PyViz.plot_index[id] = Bokeh.index[id];\n    } else {\n      window.PyViz.plot_index[id] = null;\n    }\n  } else if (output.metadata[EXEC_MIME_TYPE][\"server_id\"] !== undefined) {\n    var bk_div = document.createElement(\"div\");\n    bk_div.innerHTML = output.data[HTML_MIME_TYPE];\n    var script_attrs = bk_div.children[0].attributes;\n    for (var i = 0; i < script_attrs.length; i++) {\n      toinsert[toinsert.length - 1].childNodes[1].setAttribute(script_attrs[i].name, script_attrs[i].value);\n    }\n    // store reference to server id on output_area\n    output_area._bokeh_server_id = output.metadata[EXEC_MIME_TYPE][\"server_id\"];\n  }\n}\n\n/**\n * Handle when an output is cleared or removed\n */\nfunction handle_clear_output(event, handle) {\n  var id = handle.cell.output_area._hv_plot_id;\n  var server_id = handle.cell.output_area._bokeh_server_id;\n  if (((id === undefined) || !(id in PyViz.plot_index)) && (server_id !== undefined)) { return; }\n  var comm = window.PyViz.comm_manager.get_client_comm(\"hv-extension-comm\", \"hv-extension-comm\", function () {});\n  if (server_id !== null) {\n    comm.send({event_type: 'server_delete', 'id': server_id});\n    return;\n  } else if (comm !== null) {\n    comm.send({event_type: 'delete', 'id': id});\n  }\n  delete PyViz.plot_index[id];\n  if ((window.Bokeh !== undefined) & (id in window.Bokeh.index)) {\n    var doc = window.Bokeh.index[id].model.document\n    doc.clear();\n    const i = window.Bokeh.documents.indexOf(doc);\n    if (i > -1) {\n      window.Bokeh.documents.splice(i, 1);\n    }\n  }\n}\n\n/**\n * Handle kernel restart event\n */\nfunction handle_kernel_cleanup(event, handle) {\n  delete PyViz.comms[\"hv-extension-comm\"];\n  window.PyViz.plot_index = {}\n}\n\n/**\n * Handle update_display_data messages\n */\nfunction handle_update_output(event, handle) {\n  handle_clear_output(event, {cell: {output_area: handle.output_area}})\n  handle_add_output(event, handle)\n}\n\nfunction register_renderer(events, OutputArea) {\n  function append_mime(data, metadata, element) {\n    // create a DOM node to render to\n    var toinsert = this.create_output_subarea(\n    metadata,\n    CLASS_NAME,\n    EXEC_MIME_TYPE\n    );\n    this.keyboard_manager.register_events(toinsert);\n    // Render to node\n    var props = {data: data, metadata: metadata[EXEC_MIME_TYPE]};\n    render(props, toinsert[0]);\n    element.append(toinsert);\n    return toinsert\n  }\n\n  events.on('output_added.OutputArea', handle_add_output);\n  events.on('output_updated.OutputArea', handle_update_output);\n  events.on('clear_output.CodeCell', handle_clear_output);\n  events.on('delete.Cell', handle_clear_output);\n  events.on('kernel_ready.Kernel', handle_kernel_cleanup);\n\n  OutputArea.prototype.register_mime_type(EXEC_MIME_TYPE, append_mime, {\n    safe: true,\n    index: 0\n  });\n}\n\nif (window.Jupyter !== undefined) {\n  try {\n    var events = require('base/js/events');\n    var OutputArea = require('notebook/js/outputarea').OutputArea;\n    if (OutputArea.prototype.mime_types().indexOf(EXEC_MIME_TYPE) == -1) {\n      register_renderer(events, OutputArea);\n    }\n  } catch(err) {\n  }\n}\n",
            "application/javascript": [
              "\n",
              "if ((window.PyViz === undefined) || (window.PyViz instanceof HTMLElement)) {\n",
              "  window.PyViz = {comms: {}, comm_status:{}, kernels:{}, receivers: {}, plot_index: []}\n",
              "}\n",
              "\n",
              "\n",
              "    function JupyterCommManager() {\n",
              "    }\n",
              "\n",
              "    JupyterCommManager.prototype.register_target = function(plot_id, comm_id, msg_handler) {\n",
              "      if (window.comm_manager || ((window.Jupyter !== undefined) && (Jupyter.notebook.kernel != null))) {\n",
              "        var comm_manager = window.comm_manager || Jupyter.notebook.kernel.comm_manager;\n",
              "        comm_manager.register_target(comm_id, function(comm) {\n",
              "          comm.on_msg(msg_handler);\n",
              "        });\n",
              "      } else if ((plot_id in window.PyViz.kernels) && (window.PyViz.kernels[plot_id])) {\n",
              "        window.PyViz.kernels[plot_id].registerCommTarget(comm_id, function(comm) {\n",
              "          comm.onMsg = msg_handler;\n",
              "        });\n",
              "      } else if (typeof google != 'undefined' && google.colab.kernel != null) {\n",
              "        google.colab.kernel.comms.registerTarget(comm_id, (comm) => {\n",
              "          var messages = comm.messages[Symbol.asyncIterator]();\n",
              "          function processIteratorResult(result) {\n",
              "            var message = result.value;\n",
              "            console.log(message)\n",
              "            var content = {data: message.data, comm_id};\n",
              "            var buffers = []\n",
              "            for (var buffer of message.buffers || []) {\n",
              "              buffers.push(new DataView(buffer))\n",
              "            }\n",
              "            var metadata = message.metadata || {};\n",
              "            var msg = {content, buffers, metadata}\n",
              "            msg_handler(msg);\n",
              "            return messages.next().then(processIteratorResult);\n",
              "          }\n",
              "          return messages.next().then(processIteratorResult);\n",
              "        })\n",
              "      }\n",
              "    }\n",
              "\n",
              "    JupyterCommManager.prototype.get_client_comm = function(plot_id, comm_id, msg_handler) {\n",
              "      if (comm_id in window.PyViz.comms) {\n",
              "        return window.PyViz.comms[comm_id];\n",
              "      } else if (window.comm_manager || ((window.Jupyter !== undefined) && (Jupyter.notebook.kernel != null))) {\n",
              "        var comm_manager = window.comm_manager || Jupyter.notebook.kernel.comm_manager;\n",
              "        var comm = comm_manager.new_comm(comm_id, {}, {}, {}, comm_id);\n",
              "        if (msg_handler) {\n",
              "          comm.on_msg(msg_handler);\n",
              "        }\n",
              "      } else if ((plot_id in window.PyViz.kernels) && (window.PyViz.kernels[plot_id])) {\n",
              "        var comm = window.PyViz.kernels[plot_id].connectToComm(comm_id);\n",
              "        comm.open();\n",
              "        if (msg_handler) {\n",
              "          comm.onMsg = msg_handler;\n",
              "        }\n",
              "      } else if (typeof google != 'undefined' && google.colab.kernel != null) {\n",
              "        var comm_promise = google.colab.kernel.comms.open(comm_id)\n",
              "        comm_promise.then((comm) => {\n",
              "          window.PyViz.comms[comm_id] = comm;\n",
              "          if (msg_handler) {\n",
              "            var messages = comm.messages[Symbol.asyncIterator]();\n",
              "            function processIteratorResult(result) {\n",
              "              var message = result.value;\n",
              "              var content = {data: message.data};\n",
              "              var metadata = message.metadata || {comm_id};\n",
              "              var msg = {content, metadata}\n",
              "              msg_handler(msg);\n",
              "              return messages.next().then(processIteratorResult);\n",
              "            }\n",
              "            return messages.next().then(processIteratorResult);\n",
              "          }\n",
              "        }) \n",
              "        var sendClosure = (data, metadata, buffers, disposeOnDone) => {\n",
              "          return comm_promise.then((comm) => {\n",
              "            comm.send(data, metadata, buffers, disposeOnDone);\n",
              "          });\n",
              "        };\n",
              "        var comm = {\n",
              "          send: sendClosure\n",
              "        };\n",
              "      }\n",
              "      window.PyViz.comms[comm_id] = comm;\n",
              "      return comm;\n",
              "    }\n",
              "    window.PyViz.comm_manager = new JupyterCommManager();\n",
              "    \n",
              "\n",
              "\n",
              "var JS_MIME_TYPE = 'application/javascript';\n",
              "var HTML_MIME_TYPE = 'text/html';\n",
              "var EXEC_MIME_TYPE = 'application/vnd.holoviews_exec.v0+json';\n",
              "var CLASS_NAME = 'output';\n",
              "\n",
              "/**\n",
              " * Render data to the DOM node\n",
              " */\n",
              "function render(props, node) {\n",
              "  var div = document.createElement(\"div\");\n",
              "  var script = document.createElement(\"script\");\n",
              "  node.appendChild(div);\n",
              "  node.appendChild(script);\n",
              "}\n",
              "\n",
              "/**\n",
              " * Handle when a new output is added\n",
              " */\n",
              "function handle_add_output(event, handle) {\n",
              "  var output_area = handle.output_area;\n",
              "  var output = handle.output;\n",
              "  if ((output.data == undefined) || (!output.data.hasOwnProperty(EXEC_MIME_TYPE))) {\n",
              "    return\n",
              "  }\n",
              "  var id = output.metadata[EXEC_MIME_TYPE][\"id\"];\n",
              "  var toinsert = output_area.element.find(\".\" + CLASS_NAME.split(' ')[0]);\n",
              "  if (id !== undefined) {\n",
              "    var nchildren = toinsert.length;\n",
              "    var html_node = toinsert[nchildren-1].children[0];\n",
              "    html_node.innerHTML = output.data[HTML_MIME_TYPE];\n",
              "    var scripts = [];\n",
              "    var nodelist = html_node.querySelectorAll(\"script\");\n",
              "    for (var i in nodelist) {\n",
              "      if (nodelist.hasOwnProperty(i)) {\n",
              "        scripts.push(nodelist[i])\n",
              "      }\n",
              "    }\n",
              "\n",
              "    scripts.forEach( function (oldScript) {\n",
              "      var newScript = document.createElement(\"script\");\n",
              "      var attrs = [];\n",
              "      var nodemap = oldScript.attributes;\n",
              "      for (var j in nodemap) {\n",
              "        if (nodemap.hasOwnProperty(j)) {\n",
              "          attrs.push(nodemap[j])\n",
              "        }\n",
              "      }\n",
              "      attrs.forEach(function(attr) { newScript.setAttribute(attr.name, attr.value) });\n",
              "      newScript.appendChild(document.createTextNode(oldScript.innerHTML));\n",
              "      oldScript.parentNode.replaceChild(newScript, oldScript);\n",
              "    });\n",
              "    if (JS_MIME_TYPE in output.data) {\n",
              "      toinsert[nchildren-1].children[1].textContent = output.data[JS_MIME_TYPE];\n",
              "    }\n",
              "    output_area._hv_plot_id = id;\n",
              "    if ((window.Bokeh !== undefined) && (id in Bokeh.index)) {\n",
              "      window.PyViz.plot_index[id] = Bokeh.index[id];\n",
              "    } else {\n",
              "      window.PyViz.plot_index[id] = null;\n",
              "    }\n",
              "  } else if (output.metadata[EXEC_MIME_TYPE][\"server_id\"] !== undefined) {\n",
              "    var bk_div = document.createElement(\"div\");\n",
              "    bk_div.innerHTML = output.data[HTML_MIME_TYPE];\n",
              "    var script_attrs = bk_div.children[0].attributes;\n",
              "    for (var i = 0; i < script_attrs.length; i++) {\n",
              "      toinsert[toinsert.length - 1].childNodes[1].setAttribute(script_attrs[i].name, script_attrs[i].value);\n",
              "    }\n",
              "    // store reference to server id on output_area\n",
              "    output_area._bokeh_server_id = output.metadata[EXEC_MIME_TYPE][\"server_id\"];\n",
              "  }\n",
              "}\n",
              "\n",
              "/**\n",
              " * Handle when an output is cleared or removed\n",
              " */\n",
              "function handle_clear_output(event, handle) {\n",
              "  var id = handle.cell.output_area._hv_plot_id;\n",
              "  var server_id = handle.cell.output_area._bokeh_server_id;\n",
              "  if (((id === undefined) || !(id in PyViz.plot_index)) && (server_id !== undefined)) { return; }\n",
              "  var comm = window.PyViz.comm_manager.get_client_comm(\"hv-extension-comm\", \"hv-extension-comm\", function () {});\n",
              "  if (server_id !== null) {\n",
              "    comm.send({event_type: 'server_delete', 'id': server_id});\n",
              "    return;\n",
              "  } else if (comm !== null) {\n",
              "    comm.send({event_type: 'delete', 'id': id});\n",
              "  }\n",
              "  delete PyViz.plot_index[id];\n",
              "  if ((window.Bokeh !== undefined) & (id in window.Bokeh.index)) {\n",
              "    var doc = window.Bokeh.index[id].model.document\n",
              "    doc.clear();\n",
              "    const i = window.Bokeh.documents.indexOf(doc);\n",
              "    if (i > -1) {\n",
              "      window.Bokeh.documents.splice(i, 1);\n",
              "    }\n",
              "  }\n",
              "}\n",
              "\n",
              "/**\n",
              " * Handle kernel restart event\n",
              " */\n",
              "function handle_kernel_cleanup(event, handle) {\n",
              "  delete PyViz.comms[\"hv-extension-comm\"];\n",
              "  window.PyViz.plot_index = {}\n",
              "}\n",
              "\n",
              "/**\n",
              " * Handle update_display_data messages\n",
              " */\n",
              "function handle_update_output(event, handle) {\n",
              "  handle_clear_output(event, {cell: {output_area: handle.output_area}})\n",
              "  handle_add_output(event, handle)\n",
              "}\n",
              "\n",
              "function register_renderer(events, OutputArea) {\n",
              "  function append_mime(data, metadata, element) {\n",
              "    // create a DOM node to render to\n",
              "    var toinsert = this.create_output_subarea(\n",
              "    metadata,\n",
              "    CLASS_NAME,\n",
              "    EXEC_MIME_TYPE\n",
              "    );\n",
              "    this.keyboard_manager.register_events(toinsert);\n",
              "    // Render to node\n",
              "    var props = {data: data, metadata: metadata[EXEC_MIME_TYPE]};\n",
              "    render(props, toinsert[0]);\n",
              "    element.append(toinsert);\n",
              "    return toinsert\n",
              "  }\n",
              "\n",
              "  events.on('output_added.OutputArea', handle_add_output);\n",
              "  events.on('output_updated.OutputArea', handle_update_output);\n",
              "  events.on('clear_output.CodeCell', handle_clear_output);\n",
              "  events.on('delete.Cell', handle_clear_output);\n",
              "  events.on('kernel_ready.Kernel', handle_kernel_cleanup);\n",
              "\n",
              "  OutputArea.prototype.register_mime_type(EXEC_MIME_TYPE, append_mime, {\n",
              "    safe: true,\n",
              "    index: 0\n",
              "  });\n",
              "}\n",
              "\n",
              "if (window.Jupyter !== undefined) {\n",
              "  try {\n",
              "    var events = require('base/js/events');\n",
              "    var OutputArea = require('notebook/js/outputarea').OutputArea;\n",
              "    if (OutputArea.prototype.mime_types().indexOf(EXEC_MIME_TYPE) == -1) {\n",
              "      register_renderer(events, OutputArea);\n",
              "    }\n",
              "  } catch(err) {\n",
              "  }\n",
              "}\n"
            ]
          },
          "metadata": {}
        },
        {
          "output_type": "display_data",
          "data": {
            "text/html": [
              "<style>*[data-root-id],\n",
              "*[data-root-id] > * {\n",
              "  box-sizing: border-box;\n",
              "  font-family: var(--jp-ui-font-family);\n",
              "  font-size: var(--jp-ui-font-size1);\n",
              "  color: var(--vscode-editor-foreground, var(--jp-ui-font-color1));\n",
              "}\n",
              "\n",
              "/* Override VSCode background color */\n",
              ".cell-output-ipywidget-background:has(\n",
              "    > .cell-output-ipywidget-background > .lm-Widget > *[data-root-id]\n",
              "  ),\n",
              ".cell-output-ipywidget-background:has(> .lm-Widget > *[data-root-id]) {\n",
              "  background-color: transparent !important;\n",
              "}\n",
              "</style>"
            ]
          },
          "metadata": {}
        },
        {
          "output_type": "display_data",
          "data": {
            "text/html": [
              "\n",
              "<div class=\"logo-block\">\n",
              "<img src='data:image/png;base64,iVBORw0KGgoAAAANSUhEUgAAAEAAAABACAYAAACqaXHeAAAABHNCSVQICAgIfAhkiAAAAAlwSFlz\n",
              "AAAB+wAAAfsBxc2miwAAABl0RVh0U29mdHdhcmUAd3d3Lmlua3NjYXBlLm9yZ5vuPBoAAA6zSURB\n",
              "VHic7ZtpeFRVmsf/5966taWqUlUJ2UioBBJiIBAwCZtog9IOgjqACsogKtqirT2ttt069nQ/zDzt\n",
              "tI4+CrJIREFaFgWhBXpUNhHZQoKBkIUASchWla1S+3ar7r1nPkDaCAnZKoQP/D7mnPOe9/xy76n3\n",
              "nFSAW9ziFoPFNED2LLK5wcyBDObkb8ZkxuaoSYlI6ZcOKq1eWFdedqNzGHQBk9RMEwFAASkk0Xw3\n",
              "ETacDNi2vtvc7L0ROdw0AjoSotQVkKSvHQz/wRO1lScGModBFbDMaNRN1A4tUBCS3lk7BWhQkgpD\n",
              "lG4852/+7DWr1R3uHAZVQDsbh6ZPN7CyxUrCzJMRouusj0ipRwD2uKm0Zn5d2dFwzX1TCGhnmdGo\n",
              "G62Nna+isiUqhkzuKrkQaJlPEv5mFl2fvGg2t/VnzkEV8F5ioioOEWkLG86fvbpthynjdhXYZziQ\n",
              "x1hC9J2NFyi8vCTt91Fh04KGip0AaG9zuCk2wQCVyoNU3Hjezee9bq92duzzTmxsRJoy+jEZZZYo\n",
              "GTKJ6SJngdJqAfRzpze0+jHreUtPc7gpBLQnIYK6BYp/uGhw9YK688eu7v95ysgshcg9qSLMo3JC\n",
              "4jqLKQFBgdKDPoQ+Pltb8dUyQLpeDjeVgI6EgLIQFT5tEl3rn2losHVsexbZ3EyT9wE1uGdkIPcy\n",
              "BGxn8QUq1QrA5nqW5i2tLqvrrM9NK6AdkVIvL9E9bZL/oyfMVd/jqvc8LylzRBKDJSzIExwhQzuL\n",
              "QYGQj4rHfFTc8mUdu3E7yoLtbTe9gI4EqVgVkug2i5+uXGo919ixbRog+3fTbQ8qJe4ZOYNfMoTI\n",
              "OoshUNosgO60AisX15aeI2PSIp5KiFLI9ubb1vV3Qb2ltwLakUCDAkWX7/nHKRmmGIl9VgYsUhJm\n",
              "2NXjKYADtM1ygne9QQDIXlk49FBstMKx66D1v4+XuQr7vqTe0VcBHQlRWiOCbmmSYe2SqtL6q5rJ\n",
              "zsTb7lKx3FKOYC4DoqyS/B5bvLPxvD9Qtf6saxYLQGJErmDOdOMr/zo96km1nElr8bmPOBwI9COv\n",
              "HnFPRIwmkSOv9kcAS4heRsidOkpeWBgZM+UBrTFAXNYL5Vf2ii9c1trNzpYdaoVil3WIc+wdk+gQ\n",
              "noie3ecCcxt9ITcLAPWt/laGEO/9U6PmzZkenTtsSMQ8uYywJVW+grCstAvCIaAdArAsIWkRDDs/\n",
              "KzLm2YcjY1Lv0UdW73HabE9n6V66cxSzfEmuJssTpKGVp+0vHq73FwL46eOjpMpbRAnNmJFrGJNu\n",
              "Ukf9Yrz+3rghiumCKNXXWPhLYcjxGsIpoCMsIRoFITkW8AuyM8jC1+/QLx4bozCEJIq38+1rtpR6\n",
              "V/yzb8eBlRb3fo5l783N0CWolAzJHaVNzkrTzlEp2bQ2q3TC5gn6wpnoQAmwSiGh2GitnTmVMc5O\n",
              "UyfKWUKCIsU7+fZDKwqdT6DDpvkzAX4/+AMFjk0tDp5GRXLpQ2MUmhgDp5gxQT8+Y7hyPsMi8uxF\n",
              "71H0oebujHALECjFKaW9Lm68n18wXp2kVzIcABytD5iXFzg+WVXkegpAsOOYziqo0OkK76GyquC3\n",
              "ltZAzMhhqlSNmmWTE5T6e3IN05ITFLM4GdN0vtZ3ob8Jh1NAKXFbm5PtLU/eqTSlGjkNAJjdgn/N\n",
              "aedXa0tdi7+t9G0FIF49rtMSEgAs1kDLkTPO7ebm4IUWeyh1bKomXqlgMG6kJmHcSM0clYLJ8XtR\n",
              "1GTnbV3F6I5wCGikAb402npp1h1s7LQUZZSMIfALFOuL3UUrfnS8+rez7v9qcold5tilgHbO1fjK\n",
              "9ubb17u9oshxzMiUBKXWqJNxd+fqb0tLVs4lILFnK71H0Ind7uiPgACVcFJlrb0tV6DzxqqTIhUM\n",
              "CwDf1/rrVhTa33/3pGPxJYdQ2l2cbgVcQSosdx8uqnDtbGjh9SlDVSMNWhlnilfqZk42Th2ZpLpf\n",
              "xrHec5e815zrr0dfBZSwzkZfqsv+1FS1KUknUwPARVvItfKUY+cn57yP7qv07UE3p8B2uhUwLk09\n",
              "e0SCOrK+hbdYHYLjRIl71wWzv9jpEoeOHhGRrJAzyEyNiJuUqX0g2sBN5kGK6y2Blp5M3lsB9Qh4\n",
              "y2Ja6x6+i0ucmKgwMATwhSjdUu49tKrQ/pvN5d53ml2CGwCmJipmKjgmyuaXzNeL2a0AkQ01Th5j\n",
              "2DktO3Jyk8f9vcOBQHV94OK+fPumJmvQHxJoWkaKWq9Vs+yUsbq0zGT1I4RgeH2b5wef7+c7bl8F\n",
              "eKgoHVVZa8ZPEORzR6sT1BzDUAD/d9F78e2Tzv99v8D+fLVTqAKAsbGamKey1Mt9Ann4eH3gTXTz\n",
              "idWtAJ8PQWOk7NzSeQn/OTHDuEikVF1R4z8BQCy+6D1aWRfY0tTGG2OM8rRoPaeIj5ZHzJxszElN\n",
              "VM8K8JS5WOfv8mzRnQAKoEhmt8gyPM4lU9SmBK1MCQBnW4KONT86v1hZ1PbwSXPw4JWussVjtH9Y\n",
              "NCoiL9UoH/6PSu8jFrfY2t36erQHXLIEakMi1SydmzB31h3GGXFDFNPaK8Rme9B79Ixrd0WN+1ij\n",
              "NRQ/doRmuFLBkHSTOm5GruG+pFjFdAmorG4IXH1Qua6ASniclfFtDYt+oUjKipPrCQB7QBQ2lrgP\n",
              "fFzm+9XWUtcqJ3/5vDLDpJ79XHZk3u8nGZ42qlj1+ydtbxysCezrydp6ugmipNJ7WBPB5tydY0jP\n",
              "HaVNzs3QzeE4ZpTbI+ZbnSFPbVOw9vsfnVvqWnirPyCNGD08IlqtYkh2hjZ5dErEQzoNm+6ykyOt\n",
              "Lt5/PQEuSRRKo22VkydK+vvS1XEKlhCJAnsqvcVvH7f/ZU2R67eXbMEGAMiIV5oWZWiWvz5Fv2xG\n",
              "sjqNJQRvn3Rs2lji/lNP19VjAQDgD7FHhujZB9OGqYxRkZxixgRDVlqS6uEOFaJUVu0rPFzctrnF\n",
              "JqijImVp8dEKVWyUXDk92zAuMZ6bFwpBU1HrOw6AdhQgUooChb0+ItMbWJitSo5Ws3IAOGEOtL53\n",
              "0vHZih9sC4vtofZ7Qu6523V/fmGcds1TY3V36pUsBwAbSlxnVh2xLfAD/IAIMDf7XYIkNmXfpp2l\n",
              "18rkAJAy9HKFaIr/qULkeQQKy9zf1JgDB2uaeFNGijo5QsUyacNUUTOnGO42xSnv4oOwpDi1zYkc\n",
              "efUc3I5Gk6PhyTuVKaOGyLUAYPGIoY9Pu/atL/L92+4q9wbflRJ2Trpm/jPjdBtfnqB/dIThcl8A\n",
              "KG7hbRuKnb8qsQsVvVlTrwQAQMUlf3kwJI24Z4JhPMtcfng5GcH49GsrxJpGvvHIaeem2ma+KSjQ\n",
              "lIwUdYyCY8j4dE1KzijNnIP2llF2wcXNnsoapw9XxsgYAl6k+KzUXbi2yP3KR2ecf6z3BFsBICdW\n",
              "nvnIaG3eHybqX7vbpEqUMT+9OL4Qpe8VON7dXuFd39v19FoAABRVePbGGuXTszO0P7tu6lghUonE\n",
              "llRdrhArLvmKdh9u29jcFiRRkfLUxBiFNiqSU9icoZQHo5mYBI1MBgBH6wMNb+U7Pnw337H4gi1Y\n",
              "ciWs+uks3Z9fztUvfzxTm9Ne8XXkvQLHNytOOZeiD4e0PgkAIAYCYknKUNUDSXEKzdWNpnil7r4p\n",
              "xqkjTarZMtk/K8TQ6Qve78qqvXurGwIJqcOUKfUWHsm8KGvxSP68YudXq4pcj39X49uOK2X142O0\n",
              "Tz5/u/7TVybqH0rSya6ZBwD21/gubbrgWdDgEOx9WUhfBaC2ibcEBYm7a7x+ukrBMNcEZggyR0TE\n",
              "T8zUPjikQ4VosQZbTpS4vqizBKvqmvjsqnpfzaZyx9JPiz1/bfGKdgD45XB1zoIMzYbfTdS/NClB\n",
              "Gct0USiY3YL/g0LHy/uq/Ef6uo5+n0R/vyhp17Klpge763f8rMu6YU/zrn2nml+2WtH+Z+5IAAFc\n",
              "2bUTdTDOSNa9+cQY7YLsOIXhevEkCvzph7a8laecz/Un/z4/Ae04XeL3UQb57IwU9ZDr9UuKVajv\n",
              "nxp1+1UVIo/LjztZkKH59fO3G/JemqCfmaCRqbqbd90ZZ8FfjtkfAyD0J/9+C2h1hDwsSxvGjNDc\n",
              "b4zk5NfrSwiQblLHzZhg+Jf4aPlUwpDqkQqa9nimbt1/TDH8OitGMaQnj+RJS6B1fbF7SY1TqO5v\n",
              "/v0WAADl1f7zokgS7s7VT2DZ7pegUjBM7mjtiDZbcN4j0YrHH0rXpCtY0qPX0cVL0rv5jv/ZXend\n",
              "0u/EESYBAFBU4T4Qa5TflZOhTe7pmKpaP8kCVUVw1+yhXfJWvn1P3hnXi33JsTN6PnP3hHZ8Z3/h\n",
              "aLHzmkNPuPj7Bc/F/Q38CwjTpSwQXgE4Vmwry9tpfq/ZFgqFMy4AVDtCvi8rvMvOmv0N4YwbVgEA\n",
              "sPM72/KVnzfspmH7HQGCRLG2yL1+z8XwvPcdCbsAANh+xPzstgMtxeGKt+6MK3/tacfvwhWvIwMi\n",
              "oKEBtm0H7W+UVfkc/Y1V0BhoPlDr/w1w/eu1vjIgAgDg22OtX6/eYfnEz/focrZTHAFR+PSs56/7\n",
              "q32nwpjazxgwAQCwcU/T62t3WL7r6/jVRa6/byp1rei+Z98ZUAEAhEPHPc8fKnTU9nbgtnOe8h0l\n",
              "9hcGIqmODLQAHCy2Xti6v/XNRivf43f4fFvIteu854+VHnR7q9tfBlwAAGz+pnndB9vM26UebAe8\n",
              "SLHujPOTPVW+rwY+sxskAAC2HrA8t2Vvc7ffP1r9o+vwR2dcr92InIAbKKC1FZ5tB1tf+/G8p8sv\n",
              "N/9Q5zd/XR34LYCwV5JdccMEAMDBk45DH243r/X4xGvqxFa/GNpS7n6rwOwNWwHVE26oAADYurf1\n",
              "zx/utOzt+DMKYM0p17YtZZ5VNzqfsB2HewG1WXE8PoZ7gOclbTIvynZf9JV+fqZtfgs/8F/Nu5rB\n",
              "EIBmJ+8QRMmpU7EzGRsf2FzuePqYRbzh/zE26EwdrT10f6r6o8HOYzCJB9Dpff8tbnGLG8L/A/WE\n",
              "roTBs2RqAAAAAElFTkSuQmCC'\n",
              "     style='height:25px; border-radius:12px; display: inline-block; float: left; vertical-align: middle'></img>\n",
              "\n",
              "\n",
              "  <img src='data:image/png;base64,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'\n",
              "       style='height:15px; border-radius:12px; display: inline-block; float: left'></img>\n",
              "  \n",
              "\n",
              "\n",
              "\n",
              "\n",
              "</div>\n"
            ]
          },
          "metadata": {}
        },
        {
          "output_type": "display_data",
          "data": {},
          "metadata": {}
        },
        {
          "output_type": "execute_result",
          "data": {
            "text/html": [
              "<div id='p1346'>\n",
              "  <div id=\"bc52b941-661d-4ef1-b5d2-0e38e5035181\" data-root-id=\"p1346\" style=\"display: contents;\"></div>\n",
              "</div>\n",
              "<script type=\"application/javascript\">(function(root) {\n",
              "  var docs_json = {\"4d630066-a2de-4e6f-95e0-431231899f5d\":{\"version\":\"3.4.1\",\"title\":\"Bokeh Application\",\"roots\":[{\"type\":\"object\",\"name\":\"Row\",\"id\":\"p1346\",\"attributes\":{\"name\":\"Row01859\",\"tags\":[\"embedded\"],\"stylesheets\":[\"\\n:host(.pn-loading):before, .pn-loading:before {\\n  background-color: #c3c3c3;\\n  mask-size: auto calc(min(50%, 400px));\\n  -webkit-mask-size: auto calc(min(50%, 400px));\\n}\",{\"type\":\"object\",\"name\":\"ImportedStyleSheet\",\"id\":\"p1349\",\"attributes\":{\"url\":\"https://cdn.holoviz.org/panel/1.4.2/dist/css/loading.css\"}},{\"type\":\"object\",\"name\":\"ImportedStyleSheet\",\"id\":\"p1509\",\"attributes\":{\"url\":\"https://cdn.holoviz.org/panel/1.4.2/dist/css/listpanel.css\"}},{\"type\":\"object\",\"name\":\"ImportedStyleSheet\",\"id\":\"p1347\",\"attributes\":{\"url\":\"https://cdn.holoviz.org/panel/1.4.2/dist/bundled/theme/default.css\"}},{\"type\":\"object\",\"name\":\"ImportedStyleSheet\",\"id\":\"p1348\",\"attributes\":{\"url\":\"https://cdn.holoviz.org/panel/1.4.2/dist/bundled/theme/native.css\"}}],\"min_width\":960,\"margin\":0,\"sizing_mode\":\"stretch_width\",\"align\":\"start\",\"children\":[{\"type\":\"object\",\"name\":\"Spacer\",\"id\":\"p1350\",\"attributes\":{\"name\":\"HSpacer01866\",\"stylesheets\":[\"\\n:host(.pn-loading):before, .pn-loading:before {\\n  background-color: #c3c3c3;\\n  mask-size: auto calc(min(50%, 400px));\\n  -webkit-mask-size: auto calc(min(50%, 400px));\\n}\",{\"id\":\"p1349\"},{\"id\":\"p1347\"},{\"id\":\"p1348\"}],\"margin\":0,\"sizing_mode\":\"stretch_width\",\"align\":\"start\"}},{\"type\":\"object\",\"name\":\"Figure\",\"id\":\"p1376\",\"attributes\":{\"width\":960,\"height\":480,\"margin\":[5,10],\"sizing_mode\":\"fixed\",\"align\":\"start\",\"x_range\":{\"type\":\"object\",\"name\":\"FactorRange\",\"id\":\"p1351\",\"attributes\":{\"tags\":[[[\"coin_id\",\"coin_id\",null]],[]],\"factors\":[\"bitcoin\",\"ethereum\",\"tether\",\"ripple\",\"bitcoin-cash\",\"binancecoin\",\"chainlink\",\"cardano\",\"litecoin\",\"bitcoin-cash-sv\",\"crypto-com-chain\",\"usd-coin\",\"eos\",\"monero\",\"tron\",\"tezos\",\"okb\",\"stellar\",\"cosmos\",\"cdai\",\"neo\",\"wrapped-bitcoin\",\"leo-token\",\"huobi-token\",\"nem\",\"binance-usd\",\"iota\",\"vechain\",\"zcash\",\"theta-token\",\"dash\",\"ethereum-classic\",\"ethlend\",\"maker\",\"havven\",\"omisego\",\"celsius-degree-token\",\"ontology\",\"ftx-token\",\"true-usd\",\"digibyte\"]}},\"y_range\":{\"type\":\"object\",\"name\":\"Range1d\",\"id\":\"p1352\",\"attributes\":{\"tags\":[[[\"value\",\"value\",null]],{\"type\":\"map\",\"entries\":[[\"invert_yaxis\",false],[\"autorange\",false]]}],\"start\":-834.5136980000001,\"end\":8641.780918,\"reset_start\":-834.5136980000001,\"reset_end\":8641.780918}},\"x_scale\":{\"type\":\"object\",\"name\":\"CategoricalScale\",\"id\":\"p1386\"},\"y_scale\":{\"type\":\"object\",\"name\":\"LinearScale\",\"id\":\"p1387\"},\"title\":{\"type\":\"object\",\"name\":\"Title\",\"id\":\"p1379\",\"attributes\":{\"text\":\"1.2.4: Cryptocurrencies Price Change (%)\",\"text_color\":\"black\",\"text_font_size\":\"18.0pt\"}},\"renderers\":[{\"type\":\"object\",\"name\":\"GlyphRenderer\",\"id\":\"p1416\",\"attributes\":{\"name\":\"price_change_percentage_24h\",\"data_source\":{\"type\":\"object\",\"name\":\"ColumnDataSource\",\"id\":\"p1407\",\"attributes\":{\"selected\":{\"type\":\"object\",\"name\":\"Selection\",\"id\":\"p1408\",\"attributes\":{\"indices\":[],\"line_indices\":[]}},\"selection_policy\":{\"type\":\"object\",\"name\":\"UnionRenderers\",\"id\":\"p1409\"},\"data\":{\"type\":\"map\",\"entries\":[[\"coin_id\",[\"bitcoin\",\"ethereum\",\"tether\",\"ripple\",\"bitcoin-cash\",\"binancecoin\",\"chainlink\",\"cardano\",\"litecoin\",\"bitcoin-cash-sv\",\"crypto-com-chain\",\"usd-coin\",\"eos\",\"monero\",\"tron\",\"tezos\",\"okb\",\"stellar\",\"cosmos\",\"cdai\",\"neo\",\"wrapped-bitcoin\",\"leo-token\",\"huobi-token\",\"nem\",\"binance-usd\",\"iota\",\"vechain\",\"zcash\",\"theta-token\",\"dash\",\"ethereum-classic\",\"ethlend\",\"maker\",\"havven\",\"omisego\",\"celsius-degree-token\",\"ontology\",\"ftx-token\",\"true-usd\",\"digibyte\"]],[\"value\",{\"type\":\"ndarray\",\"array\":{\"type\":\"bytes\",\"data\":\"nZ0MjpJX8T8MzXUaaanMP5mByvj3Gcu/wCZr1EM02L8ep+hILj8HQL0Yyol21QBAwhcmUwWjzr//CS5W1GBqP7JGPUSjO7C/QKTfvg6c7T8urYbEPZbjPzeJQWDl0Ma/1pC4x9KHwj87NgLxun7bP90HILWJk7M/JjYf14aK5b83iUFg5dAFwG3i5H6HIvC/5nlwd9Zu7r9i83FtqBjLP+iHEcKjjd8/M9yAzw+j8T/fGtgqweLAv+RmuAGfH9q/UdobfGEy678D7KNTVz67v8YzaOif4No/teBFX0Ga9D8G2Eenrnzjvx+duvJZPhLAoMN8eQH28L+cxCCwcmjdv667eapDDivAX5hMFYxK479EUaBP5EkQwAZkr3d/XBNA0JuKVBgbBEDqBDQRNrz1vxo09E9wseo/tI6qJoi6r79qMA3DR8QHQA==\"},\"shape\":[41],\"dtype\":\"float64\",\"order\":\"little\"}],[\"Variable\",[\"price_change_percentage_24h\",\"price_change_percentage_24h\",\"price_change_percentage_24h\",\"price_change_percentage_24h\",\"price_change_percentage_24h\",\"price_change_percentage_24h\",\"price_change_percentage_24h\",\"price_change_percentage_24h\",\"price_change_percentage_24h\",\"price_change_percentage_24h\",\"price_change_percentage_24h\",\"price_change_percentage_24h\",\"price_change_percentage_24h\",\"price_change_percentage_24h\",\"price_change_percentage_24h\",\"price_change_percentage_24h\",\"price_change_percentage_24h\",\"price_change_percentage_24h\",\"price_change_percentage_24h\",\"price_change_percentage_24h\",\"price_change_percentage_24h\",\"price_change_percentage_24h\",\"price_change_percentage_24h\",\"price_change_percentage_24h\",\"price_change_percentage_24h\",\"price_change_percentage_24h\",\"price_change_percentage_24h\",\"price_change_percentage_24h\",\"price_change_percentage_24h\",\"price_change_percentage_24h\",\"price_change_percentage_24h\",\"price_change_percentage_24h\",\"price_change_percentage_24h\",\"price_change_percentage_24h\",\"price_change_percentage_24h\",\"price_change_percentage_24h\",\"price_change_percentage_24h\",\"price_change_percentage_24h\",\"price_change_percentage_24h\",\"price_change_percentage_24h\",\"price_change_percentage_24h\"]]]}}},\"view\":{\"type\":\"object\",\"name\":\"CDSView\",\"id\":\"p1417\",\"attributes\":{\"filter\":{\"type\":\"object\",\"name\":\"AllIndices\",\"id\":\"p1418\"}}},\"glyph\":{\"type\":\"object\",\"name\":\"Line\",\"id\":\"p1413\",\"attributes\":{\"tags\":[\"apply_ranges\"],\"x\":{\"type\":\"field\",\"field\":\"coin_id\"},\"y\":{\"type\":\"field\",\"field\":\"value\"},\"line_color\":\"#30a2da\",\"line_width\":2}},\"selection_glyph\":{\"type\":\"object\",\"name\":\"Line\",\"id\":\"p1421\",\"attributes\":{\"tags\":[\"apply_ranges\"],\"x\":{\"type\":\"field\",\"field\":\"coin_id\"},\"y\":{\"type\":\"field\",\"field\":\"value\"},\"line_color\":\"#30a2da\",\"line_width\":2}},\"nonselection_glyph\":{\"type\":\"object\",\"name\":\"Line\",\"id\":\"p1414\",\"attributes\":{\"tags\":[\"apply_ranges\"],\"x\":{\"type\":\"field\",\"field\":\"coin_id\"},\"y\":{\"type\":\"field\",\"field\":\"value\"},\"line_color\":\"#30a2da\",\"line_alpha\":0.1,\"line_width\":2}},\"muted_glyph\":{\"type\":\"object\",\"name\":\"Line\",\"id\":\"p1415\",\"attributes\":{\"tags\":[\"apply_ranges\"],\"x\":{\"type\":\"field\",\"field\":\"coin_id\"},\"y\":{\"type\":\"field\",\"field\":\"value\"},\"line_color\":\"#30a2da\",\"line_alpha\":0.2,\"line_width\":2}}}},{\"type\":\"object\",\"name\":\"GlyphRenderer\",\"id\":\"p1431\",\"attributes\":{\"name\":\"price_change_percentage_7d\",\"data_source\":{\"type\":\"object\",\"name\":\"ColumnDataSource\",\"id\":\"p1422\",\"attributes\":{\"selected\":{\"type\":\"object\",\"name\":\"Selection\",\"id\":\"p1423\",\"attributes\":{\"indices\":[],\"line_indices\":[]}},\"selection_policy\":{\"type\":\"object\",\"name\":\"UnionRenderers\",\"id\":\"p1424\"},\"data\":{\"type\":\"map\",\"entries\":[[\"coin_id\",[\"bitcoin\",\"ethereum\",\"tether\",\"ripple\",\"bitcoin-cash\",\"binancecoin\",\"chainlink\",\"cardano\",\"litecoin\",\"bitcoin-cash-sv\",\"crypto-com-chain\",\"usd-coin\",\"eos\",\"monero\",\"tron\",\"tezos\",\"okb\",\"stellar\",\"cosmos\",\"cdai\",\"neo\",\"wrapped-bitcoin\",\"leo-token\",\"huobi-token\",\"nem\",\"binance-usd\",\"iota\",\"vechain\",\"zcash\",\"theta-token\",\"dash\",\"ethereum-classic\",\"ethlend\",\"maker\",\"havven\",\"omisego\",\"celsius-degree-token\",\"ontology\",\"ftx-token\",\"true-usd\",\"digibyte\"]],[\"value\",{\"type\":\"ndarray\",\"array\":{\"type\":\"bytes\",\"data\":\"RbsKKT9pHkAzUBn/PsMkQL99HThnRKk/yVnY0w5/47/+JhQi4BgxQBL3WPrQtSlA7yB2ptCxNEA/jBAebfwrQPFL/bypaBpArKjBNAxfCkByv0NRoK8WwPlJtU/HY76/lPsdigL99L+n6Egu/5EvQE1KQbeX9BBA0m9fB87pIUBlU67wLjcSwKbtX1lpkgBAZwqd19gVMEBcIEHxY8ytP3wnZr0YigNAOh4zUBmfHUD3Hi457pT1vzNQGf8+4/k/kQ96Nqs+6781Y9F0djKoP2dEaW/wRRhAgXhdv2A3/L/8GHPXErIkQP8JLlbUYBjAVU0QdR9gFEDRlnMprmoIQGCrBIvD2RBAAiuHFtlOIECbG9MTllgRQKhXyjLEURtAqn06HjNQ4z+UvDrHgGzzvwltOZfiahxAsD2zJEBNxT8yj/zBwHPlPw==\"},\"shape\":[41],\"dtype\":\"float64\",\"order\":\"little\"}],[\"Variable\",[\"price_change_percentage_7d\",\"price_change_percentage_7d\",\"price_change_percentage_7d\",\"price_change_percentage_7d\",\"price_change_percentage_7d\",\"price_change_percentage_7d\",\"price_change_percentage_7d\",\"price_change_percentage_7d\",\"price_change_percentage_7d\",\"price_change_percentage_7d\",\"price_change_percentage_7d\",\"price_change_percentage_7d\",\"price_change_percentage_7d\",\"price_change_percentage_7d\",\"price_change_percentage_7d\",\"price_change_percentage_7d\",\"price_change_percentage_7d\",\"price_change_percentage_7d\",\"price_change_percentage_7d\",\"price_change_percentage_7d\",\"price_change_percentage_7d\",\"price_change_percentage_7d\",\"price_change_percentage_7d\",\"price_change_percentage_7d\",\"price_change_percentage_7d\",\"price_change_percentage_7d\",\"price_change_percentage_7d\",\"price_change_percentage_7d\",\"price_change_percentage_7d\",\"price_change_percentage_7d\",\"price_change_percentage_7d\",\"price_change_percentage_7d\",\"price_change_percentage_7d\",\"price_change_percentage_7d\",\"price_change_percentage_7d\",\"price_change_percentage_7d\",\"price_change_percentage_7d\",\"price_change_percentage_7d\",\"price_change_percentage_7d\",\"price_change_percentage_7d\",\"price_change_percentage_7d\"]]]}}},\"view\":{\"type\":\"object\",\"name\":\"CDSView\",\"id\":\"p1432\",\"attributes\":{\"filter\":{\"type\":\"object\",\"name\":\"AllIndices\",\"id\":\"p1433\"}}},\"glyph\":{\"type\":\"object\",\"name\":\"Line\",\"id\":\"p1428\",\"attributes\":{\"tags\":[\"apply_ranges\"],\"x\":{\"type\":\"field\",\"field\":\"coin_id\"},\"y\":{\"type\":\"field\",\"field\":\"value\"},\"line_color\":\"#fc4f30\",\"line_width\":2}},\"selection_glyph\":{\"type\":\"object\",\"name\":\"Line\",\"id\":\"p1435\",\"attributes\":{\"tags\":[\"apply_ranges\"],\"x\":{\"type\":\"field\",\"field\":\"coin_id\"},\"y\":{\"type\":\"field\",\"field\":\"value\"},\"line_color\":\"#fc4f30\",\"line_width\":2}},\"nonselection_glyph\":{\"type\":\"object\",\"name\":\"Line\",\"id\":\"p1429\",\"attributes\":{\"tags\":[\"apply_ranges\"],\"x\":{\"type\":\"field\",\"field\":\"coin_id\"},\"y\":{\"type\":\"field\",\"field\":\"value\"},\"line_color\":\"#fc4f30\",\"line_alpha\":0.1,\"line_width\":2}},\"muted_glyph\":{\"type\":\"object\",\"name\":\"Line\",\"id\":\"p1430\",\"attributes\":{\"tags\":[\"apply_ranges\"],\"x\":{\"type\":\"field\",\"field\":\"coin_id\"},\"y\":{\"type\":\"field\",\"field\":\"value\"},\"line_color\":\"#fc4f30\",\"line_alpha\":0.2,\"line_width\":2}}}},{\"type\":\"object\",\"name\":\"GlyphRenderer\",\"id\":\"p1445\",\"attributes\":{\"name\":\"price_change_percentage_14d\",\"data_source\":{\"type\":\"object\",\"name\":\"ColumnDataSource\",\"id\":\"p1436\",\"attributes\":{\"selected\":{\"type\":\"object\",\"name\":\"Selection\",\"id\":\"p1437\",\"attributes\":{\"indices\":[],\"line_indices\":[]}},\"selection_policy\":{\"type\":\"object\",\"name\":\"UnionRenderers\",\"id\":\"p1438\"},\"data\":{\"type\":\"map\",\"entries\":[[\"coin_id\",[\"bitcoin\",\"ethereum\",\"tether\",\"ripple\",\"bitcoin-cash\",\"binancecoin\",\"chainlink\",\"cardano\",\"litecoin\",\"bitcoin-cash-sv\",\"crypto-com-chain\",\"usd-coin\",\"eos\",\"monero\",\"tron\",\"tezos\",\"okb\",\"stellar\",\"cosmos\",\"cdai\",\"neo\",\"wrapped-bitcoin\",\"leo-token\",\"huobi-token\",\"nem\",\"binance-usd\",\"iota\",\"vechain\",\"zcash\",\"theta-token\",\"dash\",\"ethereum-classic\",\"ethlend\",\"maker\",\"havven\",\"omisego\",\"celsius-degree-token\",\"ontology\",\"ftx-token\",\"true-usd\",\"digibyte\"]],[\"value\",{\"type\":\"ndarray\",\"array\":{\"type\":\"bytes\",\"data\":\"zQaZZORMGkB5knTN5DsTQC1DHOviNno/ctwpHaz/AUCLic3HtYEtQJgvL8A+OhtACoDxDBqaIkAOhGQBEzgWQICfceFAKB1AIVnABG7d/b8xsfm4NhQhwGtI3GPpQ3e/pfeNrz0z8j8ao3VUNWkyQBUA4xk0dPY/VIzzN6GQAkCXrfVFQhsUwKpla32RUPG/Qgkzbf8KFkDPg7uzdtvFP8MN+PwwsiPAYFlpUgo6GkB3+GuyRh0cwM2v5gDBHN0/jliLTwEwBUDWrZ6T3jeuP7pOIy2VNw7Am1Wfq60oMsAJM23/yioXQJfK2xFOSxrAQE0tW+uL4D9OucK7XET0v0SLbOf7mSPA/pqsUQ/R978vaYzWUZUqwDtT6LzGbirAvodLjjs9OEByUMJM2x8lwJ30vvG1Z8q/ZCMQr+sXvD+7D0BqE0cdwA==\"},\"shape\":[41],\"dtype\":\"float64\",\"order\":\"little\"}],[\"Variable\",[\"price_change_percentage_14d\",\"price_change_percentage_14d\",\"price_change_percentage_14d\",\"price_change_percentage_14d\",\"price_change_percentage_14d\",\"price_change_percentage_14d\",\"price_change_percentage_14d\",\"price_change_percentage_14d\",\"price_change_percentage_14d\",\"price_change_percentage_14d\",\"price_change_percentage_14d\",\"price_change_percentage_14d\",\"price_change_percentage_14d\",\"price_change_percentage_14d\",\"price_change_percentage_14d\",\"price_change_percentage_14d\",\"price_change_percentage_14d\",\"price_change_percentage_14d\",\"price_change_percentage_14d\",\"price_change_percentage_14d\",\"price_change_percentage_14d\",\"price_change_percentage_14d\",\"price_change_percentage_14d\",\"price_change_percentage_14d\",\"price_change_percentage_14d\",\"price_change_percentage_14d\",\"price_change_percentage_14d\",\"price_change_percentage_14d\",\"price_change_percentage_14d\",\"price_change_percentage_14d\",\"price_change_percentage_14d\",\"price_change_percentage_14d\",\"price_change_percentage_14d\",\"price_change_percentage_14d\",\"price_change_percentage_14d\",\"price_change_percentage_14d\",\"price_change_percentage_14d\",\"price_change_percentage_14d\",\"price_change_percentage_14d\",\"price_change_percentage_14d\",\"price_change_percentage_14d\"]]]}}},\"view\":{\"type\":\"object\",\"name\":\"CDSView\",\"id\":\"p1446\",\"attributes\":{\"filter\":{\"type\":\"object\",\"name\":\"AllIndices\",\"id\":\"p1447\"}}},\"glyph\":{\"type\":\"object\",\"name\":\"Line\",\"id\":\"p1442\",\"attributes\":{\"tags\":[\"apply_ranges\"],\"x\":{\"type\":\"field\",\"field\":\"coin_id\"},\"y\":{\"type\":\"field\",\"field\":\"value\"},\"line_color\":\"#e5ae38\",\"line_width\":2}},\"selection_glyph\":{\"type\":\"object\",\"name\":\"Line\",\"id\":\"p1449\",\"attributes\":{\"tags\":[\"apply_ranges\"],\"x\":{\"type\":\"field\",\"field\":\"coin_id\"},\"y\":{\"type\":\"field\",\"field\":\"value\"},\"line_color\":\"#e5ae38\",\"line_width\":2}},\"nonselection_glyph\":{\"type\":\"object\",\"name\":\"Line\",\"id\":\"p1443\",\"attributes\":{\"tags\":[\"apply_ranges\"],\"x\":{\"type\":\"field\",\"field\":\"coin_id\"},\"y\":{\"type\":\"field\",\"field\":\"value\"},\"line_color\":\"#e5ae38\",\"line_alpha\":0.1,\"line_width\":2}},\"muted_glyph\":{\"type\":\"object\",\"name\":\"Line\",\"id\":\"p1444\",\"attributes\":{\"tags\":[\"apply_ranges\"],\"x\":{\"type\":\"field\",\"field\":\"coin_id\"},\"y\":{\"type\":\"field\",\"field\":\"value\"},\"line_color\":\"#e5ae38\",\"line_alpha\":0.2,\"line_width\":2}}}},{\"type\":\"object\",\"name\":\"GlyphRenderer\",\"id\":\"p1459\",\"attributes\":{\"name\":\"price_change_percentage_30d\",\"data_source\":{\"type\":\"object\",\"name\":\"ColumnDataSource\",\"id\":\"p1450\",\"attributes\":{\"selected\":{\"type\":\"object\",\"name\":\"Selection\",\"id\":\"p1451\",\"attributes\":{\"indices\":[],\"line_indices\":[]}},\"selection_policy\":{\"type\":\"object\",\"name\":\"UnionRenderers\",\"id\":\"p1452\"},\"data\":{\"type\":\"map\",\"entries\":[[\"coin_id\",[\"bitcoin\",\"ethereum\",\"tether\",\"ripple\",\"bitcoin-cash\",\"binancecoin\",\"chainlink\",\"cardano\",\"litecoin\",\"bitcoin-cash-sv\",\"crypto-com-chain\",\"usd-coin\",\"eos\",\"monero\",\"tron\",\"tezos\",\"okb\",\"stellar\",\"cosmos\",\"cdai\",\"neo\",\"wrapped-bitcoin\",\"leo-token\",\"huobi-token\",\"nem\",\"binance-usd\",\"iota\",\"vechain\",\"zcash\",\"theta-token\",\"dash\",\"ethereum-classic\",\"ethlend\",\"maker\",\"havven\",\"omisego\",\"celsius-degree-token\",\"ontology\",\"ftx-token\",\"true-usd\",\"digibyte\"]],[\"value\",{\"type\":\"ndarray\",\"array\":{\"type\":\"bytes\",\"data\":\"VMa/z7iwHkAl6ZrJN9vAP/28qUiFsaW/L26jAbwFzj8dcjPcgH8vQPMf0m9fB64/5bhTOlhvJsBnfjUHCDYkQGWNeohGd/M/sCDNWDQdB0Cmft5UpHIxwJgvL8A+OsW/t0WZDTKJEsDeVKTC2HpDQEzD8BExNSnAjWK5pdVALMDjjcwjf+AkwIrIsIo3QiDAjliLTwFQEkAWpBmLpnMBwE3WqIdo9DXAVG8NbJWAHUAnMQisHJoIQGA8g4b+CQrACcTr+gU7DcCPpQ9dUN+SP80Bgjl6nBDA9S1zuixWLMBC7Eyh83odQEku/yH9bj9AtTf4wmQqH8Am/FI/byoHQNjYJaq3/j3A9GxWfa62MECdRloqb9c0wF4R/G8lOyLArK3YX3aZYUC1/SsrTVpBwP/PYb68ICXAFR3J5T+knz+ndLD+z4EqQA==\"},\"shape\":[41],\"dtype\":\"float64\",\"order\":\"little\"}],[\"Variable\",[\"price_change_percentage_30d\",\"price_change_percentage_30d\",\"price_change_percentage_30d\",\"price_change_percentage_30d\",\"price_change_percentage_30d\",\"price_change_percentage_30d\",\"price_change_percentage_30d\",\"price_change_percentage_30d\",\"price_change_percentage_30d\",\"price_change_percentage_30d\",\"price_change_percentage_30d\",\"price_change_percentage_30d\",\"price_change_percentage_30d\",\"price_change_percentage_30d\",\"price_change_percentage_30d\",\"price_change_percentage_30d\",\"price_change_percentage_30d\",\"price_change_percentage_30d\",\"price_change_percentage_30d\",\"price_change_percentage_30d\",\"price_change_percentage_30d\",\"price_change_percentage_30d\",\"price_change_percentage_30d\",\"price_change_percentage_30d\",\"price_change_percentage_30d\",\"price_change_percentage_30d\",\"price_change_percentage_30d\",\"price_change_percentage_30d\",\"price_change_percentage_30d\",\"price_change_percentage_30d\",\"price_change_percentage_30d\",\"price_change_percentage_30d\",\"price_change_percentage_30d\",\"price_change_percentage_30d\",\"price_change_percentage_30d\",\"price_change_percentage_30d\",\"price_change_percentage_30d\",\"price_change_percentage_30d\",\"price_change_percentage_30d\",\"price_change_percentage_30d\",\"price_change_percentage_30d\"]]]}}},\"view\":{\"type\":\"object\",\"name\":\"CDSView\",\"id\":\"p1460\",\"attributes\":{\"filter\":{\"type\":\"object\",\"name\":\"AllIndices\",\"id\":\"p1461\"}}},\"glyph\":{\"type\":\"object\",\"name\":\"Line\",\"id\":\"p1456\",\"attributes\":{\"tags\":[\"apply_ranges\"],\"x\":{\"type\":\"field\",\"field\":\"coin_id\"},\"y\":{\"type\":\"field\",\"field\":\"value\"},\"line_color\":\"#6d904f\",\"line_width\":2}},\"selection_glyph\":{\"type\":\"object\",\"name\":\"Line\",\"id\":\"p1463\",\"attributes\":{\"tags\":[\"apply_ranges\"],\"x\":{\"type\":\"field\",\"field\":\"coin_id\"},\"y\":{\"type\":\"field\",\"field\":\"value\"},\"line_color\":\"#6d904f\",\"line_width\":2}},\"nonselection_glyph\":{\"type\":\"object\",\"name\":\"Line\",\"id\":\"p1457\",\"attributes\":{\"tags\":[\"apply_ranges\"],\"x\":{\"type\":\"field\",\"field\":\"coin_id\"},\"y\":{\"type\":\"field\",\"field\":\"value\"},\"line_color\":\"#6d904f\",\"line_alpha\":0.1,\"line_width\":2}},\"muted_glyph\":{\"type\":\"object\",\"name\":\"Line\",\"id\":\"p1458\",\"attributes\":{\"tags\":[\"apply_ranges\"],\"x\":{\"type\":\"field\",\"field\":\"coin_id\"},\"y\":{\"type\":\"field\",\"field\":\"value\"},\"line_color\":\"#6d904f\",\"line_alpha\":0.2,\"line_width\":2}}}},{\"type\":\"object\",\"name\":\"GlyphRenderer\",\"id\":\"p1473\",\"attributes\":{\"name\":\"price_change_percentage_60d\",\"data_source\":{\"type\":\"object\",\"name\":\"ColumnDataSource\",\"id\":\"p1464\",\"attributes\":{\"selected\":{\"type\":\"object\",\"name\":\"Selection\",\"id\":\"p1465\",\"attributes\":{\"indices\":[],\"line_indices\":[]}},\"selection_policy\":{\"type\":\"object\",\"name\":\"UnionRenderers\",\"id\":\"p1466\"},\"data\":{\"type\":\"map\",\"entries\":[[\"coin_id\",[\"bitcoin\",\"ethereum\",\"tether\",\"ripple\",\"bitcoin-cash\",\"binancecoin\",\"chainlink\",\"cardano\",\"litecoin\",\"bitcoin-cash-sv\",\"crypto-com-chain\",\"usd-coin\",\"eos\",\"monero\",\"tron\",\"tezos\",\"okb\",\"stellar\",\"cosmos\",\"cdai\",\"neo\",\"wrapped-bitcoin\",\"leo-token\",\"huobi-token\",\"nem\",\"binance-usd\",\"iota\",\"vechain\",\"zcash\",\"theta-token\",\"dash\",\"ethereum-classic\",\"ethlend\",\"maker\",\"havven\",\"omisego\",\"celsius-degree-token\",\"ontology\",\"ftx-token\",\"true-usd\",\"digibyte\"]],[\"value\",{\"type\":\"ndarray\",\"array\":{\"type\":\"bytes\",\"data\":\"FvvL7skDCsAs1JrmHccpwKjjMQOV8dE/2qz6XG2NMcBzol2FlG8rwIleRrHcKkJAN8MN+PzYRcBi26LMBtk2wCEf9GxWPTHAq5UJv9TfOMBg5dAi23kwwDygbMoV3qU/l631RUIrPsDNzMzMzNxEQJm7lpAPGhZAms5OBkdpRsBKe4MvTKYGwEsfuqC+zT7APL1SliHOHMC4AZ8fRgjlP9L7xteeCStAFqQZi6azDMCvJeSDni0ewDeOWItPQQvAXvQVpBm3VEDaOGItPgW4PwpLPKBsQkHAaw4QzNHPRcAJM23/yoo0wBmQvd79AVRAfa62Yn85OsBVGFsIcug5wLCsNCkFHQFA529CIQKeMsA0uoPYmbZDwPKwUGua0VNA/pqsUQ/ia0Ao8iTpmllAwFuxv+yenBdAmrFoOjsZ0D8s1JrmHRc/wA==\"},\"shape\":[41],\"dtype\":\"float64\",\"order\":\"little\"}],[\"Variable\",[\"price_change_percentage_60d\",\"price_change_percentage_60d\",\"price_change_percentage_60d\",\"price_change_percentage_60d\",\"price_change_percentage_60d\",\"price_change_percentage_60d\",\"price_change_percentage_60d\",\"price_change_percentage_60d\",\"price_change_percentage_60d\",\"price_change_percentage_60d\",\"price_change_percentage_60d\",\"price_change_percentage_60d\",\"price_change_percentage_60d\",\"price_change_percentage_60d\",\"price_change_percentage_60d\",\"price_change_percentage_60d\",\"price_change_percentage_60d\",\"price_change_percentage_60d\",\"price_change_percentage_60d\",\"price_change_percentage_60d\",\"price_change_percentage_60d\",\"price_change_percentage_60d\",\"price_change_percentage_60d\",\"price_change_percentage_60d\",\"price_change_percentage_60d\",\"price_change_percentage_60d\",\"price_change_percentage_60d\",\"price_change_percentage_60d\",\"price_change_percentage_60d\",\"price_change_percentage_60d\",\"price_change_percentage_60d\",\"price_change_percentage_60d\",\"price_change_percentage_60d\",\"price_change_percentage_60d\",\"price_change_percentage_60d\",\"price_change_percentage_60d\",\"price_change_percentage_60d\",\"price_change_percentage_60d\",\"price_change_percentage_60d\",\"price_change_percentage_60d\",\"price_change_percentage_60d\"]]]}}},\"view\":{\"type\":\"object\",\"name\":\"CDSView\",\"id\":\"p1474\",\"attributes\":{\"filter\":{\"type\":\"object\",\"name\":\"AllIndices\",\"id\":\"p1475\"}}},\"glyph\":{\"type\":\"object\",\"name\":\"Line\",\"id\":\"p1470\",\"attributes\":{\"tags\":[\"apply_ranges\"],\"x\":{\"type\":\"field\",\"field\":\"coin_id\"},\"y\":{\"type\":\"field\",\"field\":\"value\"},\"line_color\":\"#8b8b8b\",\"line_width\":2}},\"selection_glyph\":{\"type\":\"object\",\"name\":\"Line\",\"id\":\"p1477\",\"attributes\":{\"tags\":[\"apply_ranges\"],\"x\":{\"type\":\"field\",\"field\":\"coin_id\"},\"y\":{\"type\":\"field\",\"field\":\"value\"},\"line_color\":\"#8b8b8b\",\"line_width\":2}},\"nonselection_glyph\":{\"type\":\"object\",\"name\":\"Line\",\"id\":\"p1471\",\"attributes\":{\"tags\":[\"apply_ranges\"],\"x\":{\"type\":\"field\",\"field\":\"coin_id\"},\"y\":{\"type\":\"field\",\"field\":\"value\"},\"line_color\":\"#8b8b8b\",\"line_alpha\":0.1,\"line_width\":2}},\"muted_glyph\":{\"type\":\"object\",\"name\":\"Line\",\"id\":\"p1472\",\"attributes\":{\"tags\":[\"apply_ranges\"],\"x\":{\"type\":\"field\",\"field\":\"coin_id\"},\"y\":{\"type\":\"field\",\"field\":\"value\"},\"line_color\":\"#8b8b8b\",\"line_alpha\":0.2,\"line_width\":2}}}},{\"type\":\"object\",\"name\":\"GlyphRenderer\",\"id\":\"p1487\",\"attributes\":{\"name\":\"price_change_percentage_200d\",\"data_source\":{\"type\":\"object\",\"name\":\"ColumnDataSource\",\"id\":\"p1478\",\"attributes\":{\"selected\":{\"type\":\"object\",\"name\":\"Selection\",\"id\":\"p1479\",\"attributes\":{\"indices\":[],\"line_indices\":[]}},\"selection_policy\":{\"type\":\"object\",\"name\":\"UnionRenderers\",\"id\":\"p1480\"},\"data\":{\"type\":\"map\",\"entries\":[[\"coin_id\",[\"bitcoin\",\"ethereum\",\"tether\",\"ripple\",\"bitcoin-cash\",\"binancecoin\",\"chainlink\",\"cardano\",\"litecoin\",\"bitcoin-cash-sv\",\"crypto-com-chain\",\"usd-coin\",\"eos\",\"monero\",\"tron\",\"tezos\",\"okb\",\"stellar\",\"cosmos\",\"cdai\",\"neo\",\"wrapped-bitcoin\",\"leo-token\",\"huobi-token\",\"nem\",\"binance-usd\",\"iota\",\"vechain\",\"zcash\",\"theta-token\",\"dash\",\"ethereum-classic\",\"ethlend\",\"maker\",\"havven\",\"omisego\",\"celsius-degree-token\",\"ontology\",\"ftx-token\",\"true-usd\",\"digibyte\"]],[\"value\",{\"type\":\"ndarray\",\"array\":{\"type\":\"bytes\",\"data\":\"xY8xdy3hVED0piIVxlhnQBe86CtIM3a/9zsUBfrEQ0DTn/1IEak1QPTDCOHRc2NAl3MprqozeUAexM4UOohwQIB9dOrKfztAFhiyutWzHUCN7iB2plZsQIQqNXugFcS/ZHWr56QPMkALe9rhrzBlQH+8V61MnGBA5nlwd9a2RUARHm0csfpDQC+Lic3HJ1VAkj8YeO4/Z0AOvjCZKhjZv2vUQzS61GNAtRX7y+75VEC5GW7A52cwQAPso1NXHkVAKa4q+64Fa0A7NgLxun65P+TaUDHOwVdAyM1wAz7bcEAFwHgGDaNeQH3Qs1k1lYtAOUVHcvnvGEANGvonuMgkQCYZOQvbZ6FAGD4ipkSiVED5MeauZXeDQHi0ccQaSoJAC170FcTYmEB1PGagMmJLQC2yne+nvkxAndfYJaq3tr9R9wFIbSl+QA==\"},\"shape\":[41],\"dtype\":\"float64\",\"order\":\"little\"}],[\"Variable\",[\"price_change_percentage_200d\",\"price_change_percentage_200d\",\"price_change_percentage_200d\",\"price_change_percentage_200d\",\"price_change_percentage_200d\",\"price_change_percentage_200d\",\"price_change_percentage_200d\",\"price_change_percentage_200d\",\"price_change_percentage_200d\",\"price_change_percentage_200d\",\"price_change_percentage_200d\",\"price_change_percentage_200d\",\"price_change_percentage_200d\",\"price_change_percentage_200d\",\"price_change_percentage_200d\",\"price_change_percentage_200d\",\"price_change_percentage_200d\",\"price_change_percentage_200d\",\"price_change_percentage_200d\",\"price_change_percentage_200d\",\"price_change_percentage_200d\",\"price_change_percentage_200d\",\"price_change_percentage_200d\",\"price_change_percentage_200d\",\"price_change_percentage_200d\",\"price_change_percentage_200d\",\"price_change_percentage_200d\",\"price_change_percentage_200d\",\"price_change_percentage_200d\",\"price_change_percentage_200d\",\"price_change_percentage_200d\",\"price_change_percentage_200d\",\"price_change_percentage_200d\",\"price_change_percentage_200d\",\"price_change_percentage_200d\",\"price_change_percentage_200d\",\"price_change_percentage_200d\",\"price_change_percentage_200d\",\"price_change_percentage_200d\",\"price_change_percentage_200d\",\"price_change_percentage_200d\"]]]}}},\"view\":{\"type\":\"object\",\"name\":\"CDSView\",\"id\":\"p1488\",\"attributes\":{\"filter\":{\"type\":\"object\",\"name\":\"AllIndices\",\"id\":\"p1489\"}}},\"glyph\":{\"type\":\"object\",\"name\":\"Line\",\"id\":\"p1484\",\"attributes\":{\"tags\":[\"apply_ranges\"],\"x\":{\"type\":\"field\",\"field\":\"coin_id\"},\"y\":{\"type\":\"field\",\"field\":\"value\"},\"line_color\":\"#17becf\",\"line_width\":2}},\"selection_glyph\":{\"type\":\"object\",\"name\":\"Line\",\"id\":\"p1491\",\"attributes\":{\"tags\":[\"apply_ranges\"],\"x\":{\"type\":\"field\",\"field\":\"coin_id\"},\"y\":{\"type\":\"field\",\"field\":\"value\"},\"line_color\":\"#17becf\",\"line_width\":2}},\"nonselection_glyph\":{\"type\":\"object\",\"name\":\"Line\",\"id\":\"p1485\",\"attributes\":{\"tags\":[\"apply_ranges\"],\"x\":{\"type\":\"field\",\"field\":\"coin_id\"},\"y\":{\"type\":\"field\",\"field\":\"value\"},\"line_color\":\"#17becf\",\"line_alpha\":0.1,\"line_width\":2}},\"muted_glyph\":{\"type\":\"object\",\"name\":\"Line\",\"id\":\"p1486\",\"attributes\":{\"tags\":[\"apply_ranges\"],\"x\":{\"type\":\"field\",\"field\":\"coin_id\"},\"y\":{\"type\":\"field\",\"field\":\"value\"},\"line_color\":\"#17becf\",\"line_alpha\":0.2,\"line_width\":2}}}},{\"type\":\"object\",\"name\":\"GlyphRenderer\",\"id\":\"p1501\",\"attributes\":{\"name\":\"price_change_percentage_1y\",\"data_source\":{\"type\":\"object\",\"name\":\"ColumnDataSource\",\"id\":\"p1492\",\"attributes\":{\"selected\":{\"type\":\"object\",\"name\":\"Selection\",\"id\":\"p1493\",\"attributes\":{\"indices\":[],\"line_indices\":[]}},\"selection_policy\":{\"type\":\"object\",\"name\":\"UnionRenderers\",\"id\":\"p1494\"},\"data\":{\"type\":\"map\",\"entries\":[[\"coin_id\",[\"bitcoin\",\"ethereum\",\"tether\",\"ripple\",\"bitcoin-cash\",\"binancecoin\",\"chainlink\",\"cardano\",\"litecoin\",\"bitcoin-cash-sv\",\"crypto-com-chain\",\"usd-coin\",\"eos\",\"monero\",\"tron\",\"tezos\",\"okb\",\"stellar\",\"cosmos\",\"cdai\",\"neo\",\"wrapped-bitcoin\",\"leo-token\",\"huobi-token\",\"nem\",\"binance-usd\",\"iota\",\"vechain\",\"zcash\",\"theta-token\",\"dash\",\"ethereum-classic\",\"ethlend\",\"maker\",\"havven\",\"omisego\",\"celsius-degree-token\",\"ontology\",\"ftx-token\",\"true-usd\",\"digibyte\"]],[\"value\",{\"type\":\"ndarray\",\"array\":{\"type\":\"bytes\",\"data\":\"kQpjC0HCQkDWqIdodH1ZQN/42jNLApQ/NXugFRiaMMDN6bKY2PwsQOcdp+hIbFFAaTo7GRxSdEC6LCY2H4NjQPnaM0sCVCnA0NA/wcVuV0CQvd798RBzQL4wmSoYlci/t39lpUmRMcDovMYuUaFhQEPKT6p9nk1A6PaSxmiAYUBdUN8yp75hQMzuycNCnStAw7ZFmQ2cVEAHsTOFzmvSvx/0bFZ9aWBAhhvw+WHEQkAN/RNcrAA1QN8Vwf9WkjhAS7A4nPkWaUAVUn5S7dPBPzUk7rH04Q/AIsMq3shbaUBf0hito7hUQPyMCwcC64VAzsKedvirA8Dwoq8gzTgmQHRGlPYWrL5Ayk+qfTpOJUDfiVkvRjaFQEfJq3MMC3RAnFCIgONmn0CsVib8Uk8pwNttF5rrC2VAyXGndLD+2T/ZfFwbKgxnQA==\"},\"shape\":[41],\"dtype\":\"float64\",\"order\":\"little\"}],[\"Variable\",[\"price_change_percentage_1y\",\"price_change_percentage_1y\",\"price_change_percentage_1y\",\"price_change_percentage_1y\",\"price_change_percentage_1y\",\"price_change_percentage_1y\",\"price_change_percentage_1y\",\"price_change_percentage_1y\",\"price_change_percentage_1y\",\"price_change_percentage_1y\",\"price_change_percentage_1y\",\"price_change_percentage_1y\",\"price_change_percentage_1y\",\"price_change_percentage_1y\",\"price_change_percentage_1y\",\"price_change_percentage_1y\",\"price_change_percentage_1y\",\"price_change_percentage_1y\",\"price_change_percentage_1y\",\"price_change_percentage_1y\",\"price_change_percentage_1y\",\"price_change_percentage_1y\",\"price_change_percentage_1y\",\"price_change_percentage_1y\",\"price_change_percentage_1y\",\"price_change_percentage_1y\",\"price_change_percentage_1y\",\"price_change_percentage_1y\",\"price_change_percentage_1y\",\"price_change_percentage_1y\",\"price_change_percentage_1y\",\"price_change_percentage_1y\",\"price_change_percentage_1y\",\"price_change_percentage_1y\",\"price_change_percentage_1y\",\"price_change_percentage_1y\",\"price_change_percentage_1y\",\"price_change_percentage_1y\",\"price_change_percentage_1y\",\"price_change_percentage_1y\",\"price_change_percentage_1y\"]]]}}},\"view\":{\"type\":\"object\",\"name\":\"CDSView\",\"id\":\"p1502\",\"attributes\":{\"filter\":{\"type\":\"object\",\"name\":\"AllIndices\",\"id\":\"p1503\"}}},\"glyph\":{\"type\":\"object\",\"name\":\"Line\",\"id\":\"p1498\",\"attributes\":{\"tags\":[\"apply_ranges\"],\"x\":{\"type\":\"field\",\"field\":\"coin_id\"},\"y\":{\"type\":\"field\",\"field\":\"value\"},\"line_color\":\"#9467bd\",\"line_width\":2}},\"selection_glyph\":{\"type\":\"object\",\"name\":\"Line\",\"id\":\"p1505\",\"attributes\":{\"tags\":[\"apply_ranges\"],\"x\":{\"type\":\"field\",\"field\":\"coin_id\"},\"y\":{\"type\":\"field\",\"field\":\"value\"},\"line_color\":\"#9467bd\",\"line_width\":2}},\"nonselection_glyph\":{\"type\":\"object\",\"name\":\"Line\",\"id\":\"p1499\",\"attributes\":{\"tags\":[\"apply_ranges\"],\"x\":{\"type\":\"field\",\"field\":\"coin_id\"},\"y\":{\"type\":\"field\",\"field\":\"value\"},\"line_color\":\"#9467bd\",\"line_alpha\":0.1,\"line_width\":2}},\"muted_glyph\":{\"type\":\"object\",\"name\":\"Line\",\"id\":\"p1500\",\"attributes\":{\"tags\":[\"apply_ranges\"],\"x\":{\"type\":\"field\",\"field\":\"coin_id\"},\"y\":{\"type\":\"field\",\"field\":\"value\"},\"line_color\":\"#9467bd\",\"line_alpha\":0.2,\"line_width\":2}}}}],\"toolbar\":{\"type\":\"object\",\"name\":\"Toolbar\",\"id\":\"p1385\",\"attributes\":{\"tools\":[{\"type\":\"object\",\"name\":\"WheelZoomTool\",\"id\":\"p1356\",\"attributes\":{\"tags\":[\"hv_created\"],\"renderers\":\"auto\",\"zoom_together\":\"none\"}},{\"type\":\"object\",\"name\":\"HoverTool\",\"id\":\"p1357\",\"attributes\":{\"tags\":[\"hv_created\"],\"renderers\":[{\"id\":\"p1416\"},{\"id\":\"p1431\"},{\"id\":\"p1445\"},{\"id\":\"p1459\"},{\"id\":\"p1473\"},{\"id\":\"p1487\"},{\"id\":\"p1501\"}],\"tooltips\":[[\"Variable\",\"@{Variable}\"],[\"coin_id\",\"@{coin_id}\"],[\"value\",\"@{value}\"]]}},{\"type\":\"object\",\"name\":\"SaveTool\",\"id\":\"p1398\"},{\"type\":\"object\",\"name\":\"PanTool\",\"id\":\"p1399\"},{\"type\":\"object\",\"name\":\"BoxZoomTool\",\"id\":\"p1400\",\"attributes\":{\"overlay\":{\"type\":\"object\",\"name\":\"BoxAnnotation\",\"id\":\"p1401\",\"attributes\":{\"syncable\":false,\"level\":\"overlay\",\"visible\":false,\"left\":{\"type\":\"number\",\"value\":\"nan\"},\"right\":{\"type\":\"number\",\"value\":\"nan\"},\"top\":{\"type\":\"number\",\"value\":\"nan\"},\"bottom\":{\"type\":\"number\",\"value\":\"nan\"},\"left_units\":\"canvas\",\"right_units\":\"canvas\",\"top_units\":\"canvas\",\"bottom_units\":\"canvas\",\"line_color\":\"black\",\"line_alpha\":1.0,\"line_width\":2,\"line_dash\":[4,4],\"fill_color\":\"lightgrey\",\"fill_alpha\":0.5}}}},{\"type\":\"object\",\"name\":\"ResetTool\",\"id\":\"p1406\"}],\"active_drag\":{\"id\":\"p1399\"},\"active_scroll\":{\"id\":\"p1356\"}}},\"left\":[{\"type\":\"object\",\"name\":\"LinearAxis\",\"id\":\"p1393\",\"attributes\":{\"ticker\":{\"type\":\"object\",\"name\":\"BasicTicker\",\"id\":\"p1394\",\"attributes\":{\"mantissas\":[1,2,5]}},\"formatter\":{\"type\":\"object\",\"name\":\"BasicTickFormatter\",\"id\":\"p1395\"},\"axis_label\":\"Price Change (%)\",\"axis_label_text_font_size\":\"12.0pt\",\"major_label_policy\":{\"type\":\"object\",\"name\":\"AllLabels\",\"id\":\"p1396\"},\"major_label_text_font_size\":\"10.0pt\"}}],\"right\":[{\"type\":\"object\",\"name\":\"Legend\",\"id\":\"p1419\",\"attributes\":{\"location\":[0,0],\"title\":\"Variable\",\"click_policy\":\"mute\",\"label_text_font_size\":\"10.0pt\",\"items\":[{\"type\":\"object\",\"name\":\"LegendItem\",\"id\":\"p1420\",\"attributes\":{\"label\":{\"type\":\"value\",\"value\":\"price_change_percentage_24h\"},\"renderers\":[{\"id\":\"p1416\"}]}},{\"type\":\"object\",\"name\":\"LegendItem\",\"id\":\"p1434\",\"attributes\":{\"label\":{\"type\":\"value\",\"value\":\"price_change_percentage_7d\"},\"renderers\":[{\"id\":\"p1431\"}]}},{\"type\":\"object\",\"name\":\"LegendItem\",\"id\":\"p1448\",\"attributes\":{\"label\":{\"type\":\"value\",\"value\":\"price_change_percentage_14d\"},\"renderers\":[{\"id\":\"p1445\"}]}},{\"type\":\"object\",\"name\":\"LegendItem\",\"id\":\"p1462\",\"attributes\":{\"label\":{\"type\":\"value\",\"value\":\"price_change_percentage_30d\"},\"renderers\":[{\"id\":\"p1459\"}]}},{\"type\":\"object\",\"name\":\"LegendItem\",\"id\":\"p1476\",\"attributes\":{\"label\":{\"type\":\"value\",\"value\":\"price_change_percentage_60d\"},\"renderers\":[{\"id\":\"p1473\"}]}},{\"type\":\"object\",\"name\":\"LegendItem\",\"id\":\"p1490\",\"attributes\":{\"label\":{\"type\":\"value\",\"value\":\"price_change_percentage_200d\"},\"renderers\":[{\"id\":\"p1487\"}]}},{\"type\":\"object\",\"name\":\"LegendItem\",\"id\":\"p1504\",\"attributes\":{\"label\":{\"type\":\"value\",\"value\":\"price_change_percentage_1y\"},\"renderers\":[{\"id\":\"p1501\"}]}}]}}],\"below\":[{\"type\":\"object\",\"name\":\"CategoricalAxis\",\"id\":\"p1388\",\"attributes\":{\"ticker\":{\"type\":\"object\",\"name\":\"CategoricalTicker\",\"id\":\"p1389\"},\"formatter\":{\"type\":\"object\",\"name\":\"CategoricalTickFormatter\",\"id\":\"p1390\"},\"axis_label\":\"Cryptocurrency\",\"axis_label_text_font_size\":\"12.0pt\",\"major_label_orientation\":1.5707963267948966,\"major_label_policy\":{\"type\":\"object\",\"name\":\"AllLabels\",\"id\":\"p1391\"},\"major_label_text_font_size\":\"10.0pt\",\"group_text_font_size\":\"10.0pt\"}}],\"center\":[{\"type\":\"object\",\"name\":\"Grid\",\"id\":\"p1392\",\"attributes\":{\"axis\":{\"id\":\"p1388\"},\"ticker\":{\"id\":\"p1389\"}}},{\"type\":\"object\",\"name\":\"Grid\",\"id\":\"p1397\",\"attributes\":{\"dimension\":1,\"axis\":{\"id\":\"p1393\"},\"ticker\":{\"id\":\"p1394\"}}}],\"min_border_top\":10,\"min_border_bottom\":10,\"min_border_left\":10,\"min_border_right\":10,\"output_backend\":\"webgl\"}},{\"type\":\"object\",\"name\":\"Spacer\",\"id\":\"p1507\",\"attributes\":{\"name\":\"HSpacer01867\",\"stylesheets\":[\"\\n:host(.pn-loading):before, .pn-loading:before {\\n  background-color: #c3c3c3;\\n  mask-size: auto calc(min(50%, 400px));\\n  -webkit-mask-size: auto calc(min(50%, 400px));\\n}\",{\"id\":\"p1349\"},{\"id\":\"p1347\"},{\"id\":\"p1348\"}],\"margin\":0,\"sizing_mode\":\"stretch_width\",\"align\":\"start\"}}]}}],\"defs\":[{\"type\":\"model\",\"name\":\"ReactiveHTML1\"},{\"type\":\"model\",\"name\":\"FlexBox1\",\"properties\":[{\"name\":\"align_content\",\"kind\":\"Any\",\"default\":\"flex-start\"},{\"name\":\"align_items\",\"kind\":\"Any\",\"default\":\"flex-start\"},{\"name\":\"flex_direction\",\"kind\":\"Any\",\"default\":\"row\"},{\"name\":\"flex_wrap\",\"kind\":\"Any\",\"default\":\"wrap\"},{\"name\":\"gap\",\"kind\":\"Any\",\"default\":\"\"},{\"name\":\"justify_content\",\"kind\":\"Any\",\"default\":\"flex-start\"}]},{\"type\":\"model\",\"name\":\"FloatPanel1\",\"properties\":[{\"name\":\"config\",\"kind\":\"Any\",\"default\":{\"type\":\"map\"}},{\"name\":\"contained\",\"kind\":\"Any\",\"default\":true},{\"name\":\"position\",\"kind\":\"Any\",\"default\":\"right-top\"},{\"name\":\"offsetx\",\"kind\":\"Any\",\"default\":null},{\"name\":\"offsety\",\"kind\":\"Any\",\"default\":null},{\"name\":\"theme\",\"kind\":\"Any\",\"default\":\"primary\"},{\"name\":\"status\",\"kind\":\"Any\",\"default\":\"normalized\"}]},{\"type\":\"model\",\"name\":\"GridStack1\",\"properties\":[{\"name\":\"mode\",\"kind\":\"Any\",\"default\":\"warn\"},{\"name\":\"ncols\",\"kind\":\"Any\",\"default\":null},{\"name\":\"nrows\",\"kind\":\"Any\",\"default\":null},{\"name\":\"allow_resize\",\"kind\":\"Any\",\"default\":true},{\"name\":\"allow_drag\",\"kind\":\"Any\",\"default\":true},{\"name\":\"state\",\"kind\":\"Any\",\"default\":[]}]},{\"type\":\"model\",\"name\":\"drag1\",\"properties\":[{\"name\":\"slider_width\",\"kind\":\"Any\",\"default\":5},{\"name\":\"slider_color\",\"kind\":\"Any\",\"default\":\"black\"},{\"name\":\"value\",\"kind\":\"Any\",\"default\":50}]},{\"type\":\"model\",\"name\":\"click1\",\"properties\":[{\"name\":\"terminal_output\",\"kind\":\"Any\",\"default\":\"\"},{\"name\":\"debug_name\",\"kind\":\"Any\",\"default\":\"\"},{\"name\":\"clears\",\"kind\":\"Any\",\"default\":0}]},{\"type\":\"model\",\"name\":\"FastWrapper1\",\"properties\":[{\"name\":\"object\",\"kind\":\"Any\",\"default\":null},{\"name\":\"style\",\"kind\":\"Any\",\"default\":null}]},{\"type\":\"model\",\"name\":\"NotificationAreaBase1\",\"properties\":[{\"name\":\"js_events\",\"kind\":\"Any\",\"default\":{\"type\":\"map\"}},{\"name\":\"position\",\"kind\":\"Any\",\"default\":\"bottom-right\"},{\"name\":\"_clear\",\"kind\":\"Any\",\"default\":0}]},{\"type\":\"model\",\"name\":\"NotificationArea1\",\"properties\":[{\"name\":\"js_events\",\"kind\":\"Any\",\"default\":{\"type\":\"map\"}},{\"name\":\"notifications\",\"kind\":\"Any\",\"default\":[]},{\"name\":\"position\",\"kind\":\"Any\",\"default\":\"bottom-right\"},{\"name\":\"_clear\",\"kind\":\"Any\",\"default\":0},{\"name\":\"types\",\"kind\":\"Any\",\"default\":[{\"type\":\"map\",\"entries\":[[\"type\",\"warning\"],[\"background\",\"#ffc107\"],[\"icon\",{\"type\":\"map\",\"entries\":[[\"className\",\"fas fa-exclamation-triangle\"],[\"tagName\",\"i\"],[\"color\",\"white\"]]}]]},{\"type\":\"map\",\"entries\":[[\"type\",\"info\"],[\"background\",\"#007bff\"],[\"icon\",{\"type\":\"map\",\"entries\":[[\"className\",\"fas fa-info-circle\"],[\"tagName\",\"i\"],[\"color\",\"white\"]]}]]}]}]},{\"type\":\"model\",\"name\":\"Notification\",\"properties\":[{\"name\":\"background\",\"kind\":\"Any\",\"default\":null},{\"name\":\"duration\",\"kind\":\"Any\",\"default\":3000},{\"name\":\"icon\",\"kind\":\"Any\",\"default\":null},{\"name\":\"message\",\"kind\":\"Any\",\"default\":\"\"},{\"name\":\"notification_type\",\"kind\":\"Any\",\"default\":null},{\"name\":\"_destroyed\",\"kind\":\"Any\",\"default\":false}]},{\"type\":\"model\",\"name\":\"TemplateActions1\",\"properties\":[{\"name\":\"open_modal\",\"kind\":\"Any\",\"default\":0},{\"name\":\"close_modal\",\"kind\":\"Any\",\"default\":0}]},{\"type\":\"model\",\"name\":\"BootstrapTemplateActions1\",\"properties\":[{\"name\":\"open_modal\",\"kind\":\"Any\",\"default\":0},{\"name\":\"close_modal\",\"kind\":\"Any\",\"default\":0}]},{\"type\":\"model\",\"name\":\"TemplateEditor1\",\"properties\":[{\"name\":\"layout\",\"kind\":\"Any\",\"default\":[]}]},{\"type\":\"model\",\"name\":\"MaterialTemplateActions1\",\"properties\":[{\"name\":\"open_modal\",\"kind\":\"Any\",\"default\":0},{\"name\":\"close_modal\",\"kind\":\"Any\",\"default\":0}]},{\"type\":\"model\",\"name\":\"copy_to_clipboard1\",\"properties\":[{\"name\":\"fill\",\"kind\":\"Any\",\"default\":\"none\"},{\"name\":\"value\",\"kind\":\"Any\",\"default\":null}]}]}};\n",
              "  var render_items = [{\"docid\":\"4d630066-a2de-4e6f-95e0-431231899f5d\",\"roots\":{\"p1346\":\"bc52b941-661d-4ef1-b5d2-0e38e5035181\"},\"root_ids\":[\"p1346\"]}];\n",
              "  var docs = Object.values(docs_json)\n",
              "  if (!docs) {\n",
              "    return\n",
              "  }\n",
              "  const py_version = docs[0].version.replace('rc', '-rc.').replace('.dev', '-dev.')\n",
              "  function embed_document(root) {\n",
              "    var Bokeh = get_bokeh(root)\n",
              "    Bokeh.embed.embed_items_notebook(docs_json, render_items);\n",
              "    for (const render_item of render_items) {\n",
              "      for (const root_id of render_item.root_ids) {\n",
              "\tconst id_el = document.getElementById(root_id)\n",
              "\tif (id_el.children.length && (id_el.children[0].className === 'bk-root')) {\n",
              "\t  const root_el = id_el.children[0]\n",
              "\t  root_el.id = root_el.id + '-rendered'\n",
              "\t}\n",
              "      }\n",
              "    }\n",
              "  }\n",
              "  function get_bokeh(root) {\n",
              "    if (root.Bokeh === undefined) {\n",
              "      return null\n",
              "    } else if (root.Bokeh.version !== py_version) {\n",
              "      if (root.Bokeh.versions === undefined || !root.Bokeh.versions.has(py_version)) {\n",
              "\treturn null\n",
              "      }\n",
              "      return root.Bokeh.versions.get(py_version);\n",
              "    } else if (root.Bokeh.version === py_version) {\n",
              "      return root.Bokeh\n",
              "    }\n",
              "    return null\n",
              "  }\n",
              "  function is_loaded(root) {\n",
              "    var Bokeh = get_bokeh(root)\n",
              "    return (Bokeh != null && Bokeh.Panel !== undefined)\n",
              "  }\n",
              "  if (is_loaded(root)) {\n",
              "    embed_document(root);\n",
              "  } else {\n",
              "    var attempts = 0;\n",
              "    var timer = setInterval(function(root) {\n",
              "      if (is_loaded(root)) {\n",
              "        clearInterval(timer);\n",
              "        embed_document(root);\n",
              "      } else if (document.readyState == \"complete\") {\n",
              "        attempts++;\n",
              "        if (attempts > 200) {\n",
              "          clearInterval(timer);\n",
              "\t  var Bokeh = get_bokeh(root)\n",
              "\t  if (Bokeh == null || Bokeh.Panel == null) {\n",
              "            console.warn(\"Panel: ERROR: Unable to run Panel code because Bokeh or Panel library is missing\");\n",
              "\t  } else {\n",
              "\t    console.warn(\"Panel: WARNING: Attempting to render but not all required libraries could be resolved.\")\n",
              "\t    embed_document(root)\n",
              "\t  }\n",
              "        }\n",
              "      }\n",
              "    }, 25, root)\n",
              "  }\n",
              "})(window);</script>"
            ],
            "application/vnd.holoviews_exec.v0+json": "",
            "text/plain": [
              ":NdOverlay   [Variable]\n",
              "   :Curve   [coin_id]   (value)"
            ]
          },
          "metadata": {
            "application/vnd.holoviews_exec.v0+json": {
              "id": "p1346"
            }
          },
          "execution_count": 69
        }
      ],
      "source": [
        "hv.extension('bokeh')\n",
        "\n",
        "crypto_dataframe.hvplot.line \\\n",
        "    (title = '1.2.4: Cryptocurrencies Price Change (%)',\n",
        "     xlabel = 'Cryptocurrency', ylabel = 'Price Change (%)',\n",
        "     fontsize = {'title': 18.0,\n",
        "                 'xlabel': 12.0,\n",
        "                 'ylabel': 12.0,\n",
        "                 'ticks': 10.0,\n",
        "                 'legend': 10.0},\n",
        "     height = 480, width = 960, rot = 90,\n",
        "     grid = True, legend = 'right')"
      ]
    },
    {
      "cell_type": "markdown",
      "id": "116f6b7e",
      "metadata": {
        "id": "116f6b7e"
      },
      "source": [
        "## **1.3: Machine Learning Preparation**"
      ]
    },
    {
      "cell_type": "markdown",
      "id": "94c566a6",
      "metadata": {
        "id": "94c566a6"
      },
      "source": [
        "### **Normalize the Cryptocurrency Data**"
      ]
    },
    {
      "cell_type": "code",
      "execution_count": null,
      "id": "005e0bee",
      "metadata": {
        "id": "005e0bee"
      },
      "outputs": [],
      "source": [
        "normalized_crypto_nparray = StandardScaler().fit_transform(crypto_dataframe)\n",
        "\n",
        "logx.log_write_object(normalized_crypto_nparray)"
      ]
    },
    {
      "cell_type": "markdown",
      "id": "b154c682",
      "metadata": {
        "id": "b154c682"
      },
      "source": [
        "### **Create a Normalized Cryptocurrency DataFrame**"
      ]
    },
    {
      "cell_type": "code",
      "execution_count": null,
      "id": "16eafd24",
      "metadata": {
        "id": "16eafd24"
      },
      "outputs": [],
      "source": [
        "normalized_crypto_dataframe \\\n",
        "    = pd.DataFrame(normalized_crypto_nparray, columns = crypto_dataframe.columns, index = crypto_dataframe.index)\n",
        "\n",
        "logx.log_write_object(normalized_crypto_dataframe)"
      ]
    },
    {
      "cell_type": "markdown",
      "id": "1bd0eeb9",
      "metadata": {
        "id": "1bd0eeb9"
      },
      "source": [
        "### **Display Normalized Cryptocurrency DataFrame Table**"
      ]
    },
    {
      "cell_type": "code",
      "execution_count": null,
      "id": "e820446a",
      "metadata": {
        "colab": {
          "base_uri": "https://localhost:8080/",
          "height": 418
        },
        "id": "e820446a",
        "outputId": "3c7959ed-46f6-4ab6-adc3-cdf4b7e3186e"
      },
      "outputs": [
        {
          "output_type": "execute_result",
          "data": {
            "text/plain": [
              "<pandas.io.formats.style.Styler at 0x7cca766b2cb0>"
            ],
            "text/html": [
              "<style type=\"text/css\">\n",
              "#T_9d074 caption {\n",
              "  color: black;\n",
              "  font-size: 20px;\n",
              "  font-style: bold;\n",
              "  text-align: center;\n",
              "}\n",
              "#T_9d074_row0_col0, #T_9d074_row0_col1, #T_9d074_row0_col2, #T_9d074_row0_col3, #T_9d074_row0_col4, #T_9d074_row0_col5, #T_9d074_row0_col6, #T_9d074_row1_col0, #T_9d074_row1_col1, #T_9d074_row1_col2, #T_9d074_row1_col3, #T_9d074_row1_col4, #T_9d074_row1_col5, #T_9d074_row1_col6, #T_9d074_row2_col0, #T_9d074_row2_col1, #T_9d074_row2_col2, #T_9d074_row2_col3, #T_9d074_row2_col4, #T_9d074_row2_col5, #T_9d074_row2_col6, #T_9d074_row3_col0, #T_9d074_row3_col1, #T_9d074_row3_col2, #T_9d074_row3_col3, #T_9d074_row3_col4, #T_9d074_row3_col5, #T_9d074_row3_col6, #T_9d074_row4_col0, #T_9d074_row4_col1, #T_9d074_row4_col2, #T_9d074_row4_col3, #T_9d074_row4_col4, #T_9d074_row4_col5, #T_9d074_row4_col6, #T_9d074_row5_col0, #T_9d074_row5_col1, #T_9d074_row5_col2, #T_9d074_row5_col3, #T_9d074_row5_col4, #T_9d074_row5_col5, #T_9d074_row5_col6, #T_9d074_row6_col0, #T_9d074_row6_col1, #T_9d074_row6_col2, #T_9d074_row6_col3, #T_9d074_row6_col4, #T_9d074_row6_col5, #T_9d074_row6_col6, #T_9d074_row7_col0, #T_9d074_row7_col1, #T_9d074_row7_col2, #T_9d074_row7_col3, #T_9d074_row7_col4, #T_9d074_row7_col5, #T_9d074_row7_col6, #T_9d074_row8_col0, #T_9d074_row8_col1, #T_9d074_row8_col2, #T_9d074_row8_col3, #T_9d074_row8_col4, #T_9d074_row8_col5, #T_9d074_row8_col6, #T_9d074_row9_col0, #T_9d074_row9_col1, #T_9d074_row9_col2, #T_9d074_row9_col3, #T_9d074_row9_col4, #T_9d074_row9_col5, #T_9d074_row9_col6 {\n",
              "  text-align: center;\n",
              "  border: 1.3px solid red;\n",
              "  color: blue;\n",
              "}\n",
              "</style>\n",
              "<table id=\"T_9d074\" class=\"dataframe\">\n",
              "  <caption>Table 1.3.1: Normalized Cryptocurrency DataFrame Table</caption>\n",
              "  <thead>\n",
              "    <tr>\n",
              "      <th id=\"T_9d074_level0_col0\" class=\"col_heading level0 col0\" >price_change_percentage_24h</th>\n",
              "      <th id=\"T_9d074_level0_col1\" class=\"col_heading level0 col1\" >price_change_percentage_7d</th>\n",
              "      <th id=\"T_9d074_level0_col2\" class=\"col_heading level0 col2\" >price_change_percentage_14d</th>\n",
              "      <th id=\"T_9d074_level0_col3\" class=\"col_heading level0 col3\" >price_change_percentage_30d</th>\n",
              "      <th id=\"T_9d074_level0_col4\" class=\"col_heading level0 col4\" >price_change_percentage_60d</th>\n",
              "      <th id=\"T_9d074_level0_col5\" class=\"col_heading level0 col5\" >price_change_percentage_200d</th>\n",
              "      <th id=\"T_9d074_level0_col6\" class=\"col_heading level0 col6\" >price_change_percentage_1y</th>\n",
              "    </tr>\n",
              "  </thead>\n",
              "  <tbody>\n",
              "    <tr>\n",
              "      <td id=\"T_9d074_row0_col0\" class=\"data row0 col0\" >0.51</td>\n",
              "      <td id=\"T_9d074_row0_col1\" class=\"data row0 col1\" >0.49</td>\n",
              "      <td id=\"T_9d074_row0_col2\" class=\"data row0 col2\" >0.77</td>\n",
              "      <td id=\"T_9d074_row0_col3\" class=\"data row0 col3\" >0.24</td>\n",
              "      <td id=\"T_9d074_row0_col4\" class=\"data row0 col4\" >-0.07</td>\n",
              "      <td id=\"T_9d074_row0_col5\" class=\"data row0 col5\" >-0.36</td>\n",
              "      <td id=\"T_9d074_row0_col6\" class=\"data row0 col6\" >-0.25</td>\n",
              "    </tr>\n",
              "    <tr>\n",
              "      <td id=\"T_9d074_row1_col0\" class=\"data row1 col0\" >0.19</td>\n",
              "      <td id=\"T_9d074_row1_col1\" class=\"data row1 col1\" >0.93</td>\n",
              "      <td id=\"T_9d074_row1_col2\" class=\"data row1 col2\" >0.56</td>\n",
              "      <td id=\"T_9d074_row1_col3\" class=\"data row1 col3\" >-0.05</td>\n",
              "      <td id=\"T_9d074_row1_col4\" class=\"data row1 col4\" >-0.27</td>\n",
              "      <td id=\"T_9d074_row1_col5\" class=\"data row1 col5\" >-0.12</td>\n",
              "      <td id=\"T_9d074_row1_col6\" class=\"data row1 col6\" >-0.20</td>\n",
              "    </tr>\n",
              "    <tr>\n",
              "      <td id=\"T_9d074_row2_col0\" class=\"data row2 col0\" >0.02</td>\n",
              "      <td id=\"T_9d074_row2_col1\" class=\"data row2 col1\" >-0.71</td>\n",
              "      <td id=\"T_9d074_row2_col2\" class=\"data row2 col2\" >-0.02</td>\n",
              "      <td id=\"T_9d074_row2_col3\" class=\"data row2 col3\" >-0.06</td>\n",
              "      <td id=\"T_9d074_row2_col4\" class=\"data row2 col4\" >0.01</td>\n",
              "      <td id=\"T_9d074_row2_col5\" class=\"data row2 col5\" >-0.55</td>\n",
              "      <td id=\"T_9d074_row2_col6\" class=\"data row2 col6\" >-0.28</td>\n",
              "    </tr>\n",
              "    <tr>\n",
              "      <td id=\"T_9d074_row3_col0\" class=\"data row3 col0\" >-0.04</td>\n",
              "      <td id=\"T_9d074_row3_col1\" class=\"data row3 col1\" >-0.81</td>\n",
              "      <td id=\"T_9d074_row3_col2\" class=\"data row3 col2\" >0.25</td>\n",
              "      <td id=\"T_9d074_row3_col3\" class=\"data row3 col3\" >-0.05</td>\n",
              "      <td id=\"T_9d074_row3_col4\" class=\"data row3 col4\" >-0.37</td>\n",
              "      <td id=\"T_9d074_row3_col5\" class=\"data row3 col5\" >-0.46</td>\n",
              "      <td id=\"T_9d074_row3_col6\" class=\"data row3 col6\" >-0.30</td>\n",
              "    </tr>\n",
              "    <tr>\n",
              "      <td id=\"T_9d074_row4_col0\" class=\"data row4 col0\" >1.19</td>\n",
              "      <td id=\"T_9d074_row4_col1\" class=\"data row4 col1\" >2.00</td>\n",
              "      <td id=\"T_9d074_row4_col2\" class=\"data row4 col2\" >1.76</td>\n",
              "      <td id=\"T_9d074_row4_col3\" class=\"data row4 col3\" >0.55</td>\n",
              "      <td id=\"T_9d074_row4_col4\" class=\"data row4 col4\" >-0.29</td>\n",
              "      <td id=\"T_9d074_row4_col5\" class=\"data row4 col5\" >-0.50</td>\n",
              "      <td id=\"T_9d074_row4_col6\" class=\"data row4 col6\" >-0.27</td>\n",
              "    </tr>\n",
              "    <tr>\n",
              "      <td id=\"T_9d074_row5_col0\" class=\"data row5 col0\" >0.89</td>\n",
              "      <td id=\"T_9d074_row5_col1\" class=\"data row5 col1\" >1.33</td>\n",
              "      <td id=\"T_9d074_row5_col2\" class=\"data row5 col2\" >0.80</td>\n",
              "      <td id=\"T_9d074_row5_col3\" class=\"data row5 col3\" >-0.06</td>\n",
              "      <td id=\"T_9d074_row5_col4\" class=\"data row5 col4\" >0.78</td>\n",
              "      <td id=\"T_9d074_row5_col5\" class=\"data row5 col5\" >-0.19</td>\n",
              "      <td id=\"T_9d074_row5_col6\" class=\"data row5 col6\" >-0.23</td>\n",
              "    </tr>\n",
              "    <tr>\n",
              "      <td id=\"T_9d074_row6_col0\" class=\"data row6 col0\" >0.01</td>\n",
              "      <td id=\"T_9d074_row6_col1\" class=\"data row6 col1\" >2.57</td>\n",
              "      <td id=\"T_9d074_row6_col2\" class=\"data row6 col2\" >1.10</td>\n",
              "      <td id=\"T_9d074_row6_col3\" class=\"data row6 col3\" >-0.49</td>\n",
              "      <td id=\"T_9d074_row6_col4\" class=\"data row6 col4\" >-0.93</td>\n",
              "      <td id=\"T_9d074_row6_col5\" class=\"data row6 col5\" >0.39</td>\n",
              "      <td id=\"T_9d074_row6_col6\" class=\"data row6 col6\" >-0.02</td>\n",
              "    </tr>\n",
              "    <tr>\n",
              "      <td id=\"T_9d074_row7_col0\" class=\"data row7 col0\" >0.10</td>\n",
              "      <td id=\"T_9d074_row7_col1\" class=\"data row7 col1\" >1.51</td>\n",
              "      <td id=\"T_9d074_row7_col2\" class=\"data row7 col2\" >0.65</td>\n",
              "      <td id=\"T_9d074_row7_col3\" class=\"data row7 col3\" >0.33</td>\n",
              "      <td id=\"T_9d074_row7_col4\" class=\"data row7 col4\" >-0.49</td>\n",
              "      <td id=\"T_9d074_row7_col5\" class=\"data row7 col5\" >0.07</td>\n",
              "      <td id=\"T_9d074_row7_col6\" class=\"data row7 col6\" >-0.16</td>\n",
              "    </tr>\n",
              "    <tr>\n",
              "      <td id=\"T_9d074_row8_col0\" class=\"data row8 col0\" >0.08</td>\n",
              "      <td id=\"T_9d074_row8_col1\" class=\"data row8 col1\" >0.33</td>\n",
              "      <td id=\"T_9d074_row8_col2\" class=\"data row8 col2\" >0.86</td>\n",
              "      <td id=\"T_9d074_row8_col3\" class=\"data row8 col3\" >-0.01</td>\n",
              "      <td id=\"T_9d074_row8_col4\" class=\"data row8 col4\" >-0.37</td>\n",
              "      <td id=\"T_9d074_row8_col5\" class=\"data row8 col5\" >-0.49</td>\n",
              "      <td id=\"T_9d074_row8_col6\" class=\"data row8 col6\" >-0.29</td>\n",
              "    </tr>\n",
              "    <tr>\n",
              "      <td id=\"T_9d074_row9_col0\" class=\"data row9 col0\" >0.45</td>\n",
              "      <td id=\"T_9d074_row9_col1\" class=\"data row9 col1\" >-0.19</td>\n",
              "      <td id=\"T_9d074_row9_col2\" class=\"data row9 col2\" >-0.25</td>\n",
              "      <td id=\"T_9d074_row9_col3\" class=\"data row9 col3\" >0.05</td>\n",
              "      <td id=\"T_9d074_row9_col4\" class=\"data row9 col4\" >-0.53</td>\n",
              "      <td id=\"T_9d074_row9_col5\" class=\"data row9 col5\" >-0.53</td>\n",
              "      <td id=\"T_9d074_row9_col6\" class=\"data row9 col6\" >-0.21</td>\n",
              "    </tr>\n",
              "  </tbody>\n",
              "</table>\n"
            ]
          },
          "metadata": {},
          "execution_count": 72
        }
      ],
      "source": [
        "pandasx.return_formatted_table \\\n",
        "    (normalized_crypto_dataframe, 'Table 1.3.1: Normalized Cryptocurrency DataFrame Table')"
      ]
    },
    {
      "cell_type": "markdown",
      "id": "2f984ed2",
      "metadata": {
        "id": "2f984ed2"
      },
      "source": [
        "### **Display Normalized Cryptocurrency DataFrame Summary Statistics**"
      ]
    },
    {
      "cell_type": "code",
      "execution_count": null,
      "id": "345c81f9",
      "metadata": {
        "colab": {
          "base_uri": "https://localhost:8080/",
          "height": 348
        },
        "id": "345c81f9",
        "outputId": "e9da4a2e-d08c-4397-f14c-b1174151b316"
      },
      "outputs": [
        {
          "output_type": "execute_result",
          "data": {
            "text/plain": [
              "<pandas.io.formats.style.Styler at 0x7cca71907e20>"
            ],
            "text/html": [
              "<style type=\"text/css\">\n",
              "#T_ab5be caption {\n",
              "  color: black;\n",
              "  font-size: 16px;\n",
              "  font-style: bold;\n",
              "  text-align: center;\n",
              "}\n",
              "#T_ab5be_row0_col0, #T_ab5be_row0_col1, #T_ab5be_row0_col2, #T_ab5be_row0_col3, #T_ab5be_row0_col4, #T_ab5be_row0_col5, #T_ab5be_row0_col6, #T_ab5be_row1_col0, #T_ab5be_row1_col1, #T_ab5be_row1_col2, #T_ab5be_row1_col3, #T_ab5be_row1_col4, #T_ab5be_row1_col5, #T_ab5be_row1_col6, #T_ab5be_row2_col0, #T_ab5be_row2_col1, #T_ab5be_row2_col2, #T_ab5be_row2_col3, #T_ab5be_row2_col4, #T_ab5be_row2_col5, #T_ab5be_row2_col6, #T_ab5be_row3_col0, #T_ab5be_row3_col1, #T_ab5be_row3_col2, #T_ab5be_row3_col3, #T_ab5be_row3_col4, #T_ab5be_row3_col5, #T_ab5be_row3_col6, #T_ab5be_row4_col0, #T_ab5be_row4_col1, #T_ab5be_row4_col2, #T_ab5be_row4_col3, #T_ab5be_row4_col4, #T_ab5be_row4_col5, #T_ab5be_row4_col6, #T_ab5be_row5_col0, #T_ab5be_row5_col1, #T_ab5be_row5_col2, #T_ab5be_row5_col3, #T_ab5be_row5_col4, #T_ab5be_row5_col5, #T_ab5be_row5_col6, #T_ab5be_row6_col0, #T_ab5be_row6_col1, #T_ab5be_row6_col2, #T_ab5be_row6_col3, #T_ab5be_row6_col4, #T_ab5be_row6_col5, #T_ab5be_row6_col6, #T_ab5be_row7_col0, #T_ab5be_row7_col1, #T_ab5be_row7_col2, #T_ab5be_row7_col3, #T_ab5be_row7_col4, #T_ab5be_row7_col5, #T_ab5be_row7_col6 {\n",
              "  text-align: center;\n",
              "  border: 1.3px solid red;\n",
              "  color: blue;\n",
              "}\n",
              "</style>\n",
              "<table id=\"T_ab5be\" class=\"dataframe\">\n",
              "  <caption>Table 1.3.2: Normalized Cryptocurrency DataFrame Summary Statistics</caption>\n",
              "  <thead>\n",
              "    <tr>\n",
              "      <th class=\"blank level0\" >&nbsp;</th>\n",
              "      <th id=\"T_ab5be_level0_col0\" class=\"col_heading level0 col0\" >price_change_percentage_24h</th>\n",
              "      <th id=\"T_ab5be_level0_col1\" class=\"col_heading level0 col1\" >price_change_percentage_7d</th>\n",
              "      <th id=\"T_ab5be_level0_col2\" class=\"col_heading level0 col2\" >price_change_percentage_14d</th>\n",
              "      <th id=\"T_ab5be_level0_col3\" class=\"col_heading level0 col3\" >price_change_percentage_30d</th>\n",
              "      <th id=\"T_ab5be_level0_col4\" class=\"col_heading level0 col4\" >price_change_percentage_60d</th>\n",
              "      <th id=\"T_ab5be_level0_col5\" class=\"col_heading level0 col5\" >price_change_percentage_200d</th>\n",
              "      <th id=\"T_ab5be_level0_col6\" class=\"col_heading level0 col6\" >price_change_percentage_1y</th>\n",
              "    </tr>\n",
              "  </thead>\n",
              "  <tbody>\n",
              "    <tr>\n",
              "      <th id=\"T_ab5be_level0_row0\" class=\"row_heading level0 row0\" >count</th>\n",
              "      <td id=\"T_ab5be_row0_col0\" class=\"data row0 col0\" >41</td>\n",
              "      <td id=\"T_ab5be_row0_col1\" class=\"data row0 col1\" >41</td>\n",
              "      <td id=\"T_ab5be_row0_col2\" class=\"data row0 col2\" >41</td>\n",
              "      <td id=\"T_ab5be_row0_col3\" class=\"data row0 col3\" >41</td>\n",
              "      <td id=\"T_ab5be_row0_col4\" class=\"data row0 col4\" >41</td>\n",
              "      <td id=\"T_ab5be_row0_col5\" class=\"data row0 col5\" >41</td>\n",
              "      <td id=\"T_ab5be_row0_col6\" class=\"data row0 col6\" >41</td>\n",
              "    </tr>\n",
              "    <tr>\n",
              "      <th id=\"T_ab5be_level0_row1\" class=\"row_heading level0 row1\" >mean</th>\n",
              "      <td id=\"T_ab5be_row1_col0\" class=\"data row1 col0\" >0.00</td>\n",
              "      <td id=\"T_ab5be_row1_col1\" class=\"data row1 col1\" >0.00</td>\n",
              "      <td id=\"T_ab5be_row1_col2\" class=\"data row1 col2\" >0.00</td>\n",
              "      <td id=\"T_ab5be_row1_col3\" class=\"data row1 col3\" >0.00</td>\n",
              "      <td id=\"T_ab5be_row1_col4\" class=\"data row1 col4\" >-0.00</td>\n",
              "      <td id=\"T_ab5be_row1_col5\" class=\"data row1 col5\" >-0.00</td>\n",
              "      <td id=\"T_ab5be_row1_col6\" class=\"data row1 col6\" >0.00</td>\n",
              "    </tr>\n",
              "    <tr>\n",
              "      <th id=\"T_ab5be_level0_row2\" class=\"row_heading level0 row2\" >std</th>\n",
              "      <td id=\"T_ab5be_row2_col0\" class=\"data row2 col0\" >1.01</td>\n",
              "      <td id=\"T_ab5be_row2_col1\" class=\"data row2 col1\" >1.01</td>\n",
              "      <td id=\"T_ab5be_row2_col2\" class=\"data row2 col2\" >1.01</td>\n",
              "      <td id=\"T_ab5be_row2_col3\" class=\"data row2 col3\" >1.01</td>\n",
              "      <td id=\"T_ab5be_row2_col4\" class=\"data row2 col4\" >1.01</td>\n",
              "      <td id=\"T_ab5be_row2_col5\" class=\"data row2 col5\" >1.01</td>\n",
              "      <td id=\"T_ab5be_row2_col6\" class=\"data row2 col6\" >1.01</td>\n",
              "    </tr>\n",
              "    <tr>\n",
              "      <th id=\"T_ab5be_level0_row3\" class=\"row_heading level0 row3\" >min</th>\n",
              "      <td id=\"T_ab5be_row3_col0\" class=\"data row3 col0\" >-5</td>\n",
              "      <td id=\"T_ab5be_row3_col1\" class=\"data row3 col1\" >-2</td>\n",
              "      <td id=\"T_ab5be_row3_col2\" class=\"data row3 col2\" >-2</td>\n",
              "      <td id=\"T_ab5be_row3_col3\" class=\"data row3 col3\" >-1</td>\n",
              "      <td id=\"T_ab5be_row3_col4\" class=\"data row3 col4\" >-1</td>\n",
              "      <td id=\"T_ab5be_row3_col5\" class=\"data row3 col5\" >-1</td>\n",
              "      <td id=\"T_ab5be_row3_col6\" class=\"data row3 col6\" >-0</td>\n",
              "    </tr>\n",
              "    <tr>\n",
              "      <th id=\"T_ab5be_level0_row4\" class=\"row_heading level0 row4\" >25%</th>\n",
              "      <td id=\"T_ab5be_row4_col0\" class=\"data row4 col0\" >-0.13</td>\n",
              "      <td id=\"T_ab5be_row4_col1\" class=\"data row4 col1\" >-0.71</td>\n",
              "      <td id=\"T_ab5be_row4_col2\" class=\"data row4 col2\" >-0.63</td>\n",
              "      <td id=\"T_ab5be_row4_col3\" class=\"data row4 col3\" >-0.46</td>\n",
              "      <td id=\"T_ab5be_row4_col4\" class=\"data row4 col4\" >-0.55</td>\n",
              "      <td id=\"T_ab5be_row4_col5\" class=\"data row4 col5\" >-0.50</td>\n",
              "      <td id=\"T_ab5be_row4_col6\" class=\"data row4 col6\" >-0.28</td>\n",
              "    </tr>\n",
              "    <tr>\n",
              "      <th id=\"T_ab5be_level0_row5\" class=\"row_heading level0 row5\" >50%</th>\n",
              "      <td id=\"T_ab5be_row5_col0\" class=\"data row5 col0\" >0.08</td>\n",
              "      <td id=\"T_ab5be_row5_col1\" class=\"data row5 col1\" >-0.19</td>\n",
              "      <td id=\"T_ab5be_row5_col2\" class=\"data row5 col2\" >-0.01</td>\n",
              "      <td id=\"T_ab5be_row5_col3\" class=\"data row5 col3\" >-0.06</td>\n",
              "      <td id=\"T_ab5be_row5_col4\" class=\"data row5 col4\" >-0.16</td>\n",
              "      <td id=\"T_ab5be_row5_col5\" class=\"data row5 col5\" >-0.36</td>\n",
              "      <td id=\"T_ab5be_row5_col6\" class=\"data row5 col6\" >-0.23</td>\n",
              "    </tr>\n",
              "    <tr>\n",
              "      <th id=\"T_ab5be_level0_row6\" class=\"row_heading level0 row6\" >75%</th>\n",
              "      <td id=\"T_ab5be_row6_col0\" class=\"data row6 col0\" >0.33</td>\n",
              "      <td id=\"T_ab5be_row6_col1\" class=\"data row6 col1\" >0.49</td>\n",
              "      <td id=\"T_ab5be_row6_col2\" class=\"data row6 col2\" >0.64</td>\n",
              "      <td id=\"T_ab5be_row6_col3\" class=\"data row6 col3\" >0.12</td>\n",
              "      <td id=\"T_ab5be_row6_col4\" class=\"data row6 col4\" >0.02</td>\n",
              "      <td id=\"T_ab5be_row6_col5\" class=\"data row6 col5\" >-0.05</td>\n",
              "      <td id=\"T_ab5be_row6_col6\" class=\"data row6 col6\" >-0.15</td>\n",
              "    </tr>\n",
              "    <tr>\n",
              "      <th id=\"T_ab5be_level0_row7\" class=\"row_heading level0 row7\" >max</th>\n",
              "      <td id=\"T_ab5be_row7_col0\" class=\"data row7 col0\" >2</td>\n",
              "      <td id=\"T_ab5be_row7_col1\" class=\"data row7 col1\" >3</td>\n",
              "      <td id=\"T_ab5be_row7_col2\" class=\"data row7 col2\" >3</td>\n",
              "      <td id=\"T_ab5be_row7_col3\" class=\"data row7 col3\" >5</td>\n",
              "      <td id=\"T_ab5be_row7_col4\" class=\"data row7 col4\" >5</td>\n",
              "      <td id=\"T_ab5be_row7_col5\" class=\"data row7 col5\" >5</td>\n",
              "      <td id=\"T_ab5be_row7_col6\" class=\"data row7 col6\" >6</td>\n",
              "    </tr>\n",
              "  </tbody>\n",
              "</table>\n"
            ]
          },
          "metadata": {},
          "execution_count": 73
        }
      ],
      "source": [
        "pandasx.return_formatted_description \\\n",
        "    (normalized_crypto_dataframe, 'Table 1.3.2: Normalized Cryptocurrency DataFrame Summary Statistics')"
      ]
    },
    {
      "cell_type": "markdown",
      "id": "682e676f",
      "metadata": {
        "id": "682e676f"
      },
      "source": [
        "### **Display DataFrame Information**"
      ]
    },
    {
      "cell_type": "code",
      "execution_count": null,
      "id": "98ea005b",
      "metadata": {
        "colab": {
          "base_uri": "https://localhost:8080/"
        },
        "id": "98ea005b",
        "outputId": "836f53ea-352b-4831-966d-ed97e319db28"
      },
      "outputs": [
        {
          "output_type": "stream",
          "name": "stdout",
          "text": [
            "\u001b[1mTable 1.3.3: Normalized Cryptocurrency DataFrame Information:\n",
            "\u001b[0m\n",
            "<class 'pandas.core.frame.DataFrame'>\n",
            "Index: 41 entries, bitcoin to digibyte\n",
            "Data columns (total 7 columns):\n",
            " #   Column                        Non-Null Count  Dtype  \n",
            "---  ------                        --------------  -----  \n",
            " 0   price_change_percentage_24h   41 non-null     float64\n",
            " 1   price_change_percentage_7d    41 non-null     float64\n",
            " 2   price_change_percentage_14d   41 non-null     float64\n",
            " 3   price_change_percentage_30d   41 non-null     float64\n",
            " 4   price_change_percentage_60d   41 non-null     float64\n",
            " 5   price_change_percentage_200d  41 non-null     float64\n",
            " 6   price_change_percentage_1y    41 non-null     float64\n",
            "dtypes: float64(7)\n",
            "memory usage: 2.6+ KB\n"
          ]
        }
      ],
      "source": [
        "logx.print_and_log_text \\\n",
        "    ('\\033[1m' + 'Table 1.3.3: Normalized Cryptocurrency DataFrame Information:\\n' + '\\033[0m')\n",
        "\n",
        "normalized_crypto_dataframe.info(verbose = True, memory_usage = True, show_counts = True)"
      ]
    },
    {
      "cell_type": "markdown",
      "id": "3704efcd",
      "metadata": {
        "id": "3704efcd"
      },
      "source": [
        "### **Display DataFrame HVPlot**"
      ]
    },
    {
      "cell_type": "code",
      "execution_count": null,
      "id": "dc1399e0",
      "metadata": {
        "colab": {
          "base_uri": "https://localhost:8080/",
          "height": 532
        },
        "id": "dc1399e0",
        "outputId": "bf254bfd-d749-4d5c-83ff-020251793051"
      },
      "outputs": [
        {
          "output_type": "display_data",
          "data": {
            "application/javascript": [
              "(function(root) {\n",
              "  function now() {\n",
              "    return new Date();\n",
              "  }\n",
              "\n",
              "  var force = true;\n",
              "  var py_version = '3.4.1'.replace('rc', '-rc.').replace('.dev', '-dev.');\n",
              "  var reloading = false;\n",
              "  var Bokeh = root.Bokeh;\n",
              "\n",
              "  if (typeof (root._bokeh_timeout) === \"undefined\" || force) {\n",
              "    root._bokeh_timeout = Date.now() + 5000;\n",
              "    root._bokeh_failed_load = false;\n",
              "  }\n",
              "\n",
              "  function run_callbacks() {\n",
              "    try {\n",
              "      root._bokeh_onload_callbacks.forEach(function(callback) {\n",
              "        if (callback != null)\n",
              "          callback();\n",
              "      });\n",
              "    } finally {\n",
              "      delete root._bokeh_onload_callbacks;\n",
              "    }\n",
              "    console.debug(\"Bokeh: all callbacks have finished\");\n",
              "  }\n",
              "\n",
              "  function load_libs(css_urls, js_urls, js_modules, js_exports, callback) {\n",
              "    if (css_urls == null) css_urls = [];\n",
              "    if (js_urls == null) js_urls = [];\n",
              "    if (js_modules == null) js_modules = [];\n",
              "    if (js_exports == null) js_exports = {};\n",
              "\n",
              "    root._bokeh_onload_callbacks.push(callback);\n",
              "\n",
              "    if (root._bokeh_is_loading > 0) {\n",
              "      console.debug(\"Bokeh: BokehJS is being loaded, scheduling callback at\", now());\n",
              "      return null;\n",
              "    }\n",
              "    if (js_urls.length === 0 && js_modules.length === 0 && Object.keys(js_exports).length === 0) {\n",
              "      run_callbacks();\n",
              "      return null;\n",
              "    }\n",
              "    if (!reloading) {\n",
              "      console.debug(\"Bokeh: BokehJS not loaded, scheduling load and callback at\", now());\n",
              "    }\n",
              "\n",
              "    function on_load() {\n",
              "      root._bokeh_is_loading--;\n",
              "      if (root._bokeh_is_loading === 0) {\n",
              "        console.debug(\"Bokeh: all BokehJS libraries/stylesheets loaded\");\n",
              "        run_callbacks()\n",
              "      }\n",
              "    }\n",
              "    window._bokeh_on_load = on_load\n",
              "\n",
              "    function on_error() {\n",
              "      console.error(\"failed to load \" + url);\n",
              "    }\n",
              "\n",
              "    var skip = [];\n",
              "    if (window.requirejs) {\n",
              "      window.requirejs.config({'packages': {}, 'paths': {}, 'shim': {}});\n",
              "      root._bokeh_is_loading = css_urls.length + 0;\n",
              "    } else {\n",
              "      root._bokeh_is_loading = css_urls.length + js_urls.length + js_modules.length + Object.keys(js_exports).length;\n",
              "    }\n",
              "\n",
              "    var existing_stylesheets = []\n",
              "    var links = document.getElementsByTagName('link')\n",
              "    for (var i = 0; i < links.length; i++) {\n",
              "      var link = links[i]\n",
              "      if (link.href != null) {\n",
              "\texisting_stylesheets.push(link.href)\n",
              "      }\n",
              "    }\n",
              "    for (var i = 0; i < css_urls.length; i++) {\n",
              "      var url = css_urls[i];\n",
              "      if (existing_stylesheets.indexOf(url) !== -1) {\n",
              "\ton_load()\n",
              "\tcontinue;\n",
              "      }\n",
              "      const element = document.createElement(\"link\");\n",
              "      element.onload = on_load;\n",
              "      element.onerror = on_error;\n",
              "      element.rel = \"stylesheet\";\n",
              "      element.type = \"text/css\";\n",
              "      element.href = url;\n",
              "      console.debug(\"Bokeh: injecting link tag for BokehJS stylesheet: \", url);\n",
              "      document.body.appendChild(element);\n",
              "    }    var existing_scripts = []\n",
              "    var scripts = document.getElementsByTagName('script')\n",
              "    for (var i = 0; i < scripts.length; i++) {\n",
              "      var script = scripts[i]\n",
              "      if (script.src != null) {\n",
              "\texisting_scripts.push(script.src)\n",
              "      }\n",
              "    }\n",
              "    for (var i = 0; i < js_urls.length; i++) {\n",
              "      var url = js_urls[i];\n",
              "      if (skip.indexOf(url) !== -1 || existing_scripts.indexOf(url) !== -1) {\n",
              "\tif (!window.requirejs) {\n",
              "\t  on_load();\n",
              "\t}\n",
              "\tcontinue;\n",
              "      }\n",
              "      var element = document.createElement('script');\n",
              "      element.onload = on_load;\n",
              "      element.onerror = on_error;\n",
              "      element.async = false;\n",
              "      element.src = url;\n",
              "      console.debug(\"Bokeh: injecting script tag for BokehJS library: \", url);\n",
              "      document.head.appendChild(element);\n",
              "    }\n",
              "    for (var i = 0; i < js_modules.length; i++) {\n",
              "      var url = js_modules[i];\n",
              "      if (skip.indexOf(url) !== -1 || existing_scripts.indexOf(url) !== -1) {\n",
              "\tif (!window.requirejs) {\n",
              "\t  on_load();\n",
              "\t}\n",
              "\tcontinue;\n",
              "      }\n",
              "      var element = document.createElement('script');\n",
              "      element.onload = on_load;\n",
              "      element.onerror = on_error;\n",
              "      element.async = false;\n",
              "      element.src = url;\n",
              "      element.type = \"module\";\n",
              "      console.debug(\"Bokeh: injecting script tag for BokehJS library: \", url);\n",
              "      document.head.appendChild(element);\n",
              "    }\n",
              "    for (const name in js_exports) {\n",
              "      var url = js_exports[name];\n",
              "      if (skip.indexOf(url) >= 0 || root[name] != null) {\n",
              "\tif (!window.requirejs) {\n",
              "\t  on_load();\n",
              "\t}\n",
              "\tcontinue;\n",
              "      }\n",
              "      var element = document.createElement('script');\n",
              "      element.onerror = on_error;\n",
              "      element.async = false;\n",
              "      element.type = \"module\";\n",
              "      console.debug(\"Bokeh: injecting script tag for BokehJS library: \", url);\n",
              "      element.textContent = `\n",
              "      import ${name} from \"${url}\"\n",
              "      window.${name} = ${name}\n",
              "      window._bokeh_on_load()\n",
              "      `\n",
              "      document.head.appendChild(element);\n",
              "    }\n",
              "    if (!js_urls.length && !js_modules.length) {\n",
              "      on_load()\n",
              "    }\n",
              "  };\n",
              "\n",
              "  function inject_raw_css(css) {\n",
              "    const element = document.createElement(\"style\");\n",
              "    element.appendChild(document.createTextNode(css));\n",
              "    document.body.appendChild(element);\n",
              "  }\n",
              "\n",
              "  var js_urls = [\"https://cdn.bokeh.org/bokeh/release/bokeh-3.4.1.min.js\", \"https://cdn.bokeh.org/bokeh/release/bokeh-gl-3.4.1.min.js\", \"https://cdn.bokeh.org/bokeh/release/bokeh-widgets-3.4.1.min.js\", \"https://cdn.bokeh.org/bokeh/release/bokeh-tables-3.4.1.min.js\", \"https://cdn.holoviz.org/panel/1.4.2/dist/panel.min.js\"];\n",
              "  var js_modules = [];\n",
              "  var js_exports = {};\n",
              "  var css_urls = [];\n",
              "  var inline_js = [    function(Bokeh) {\n",
              "      Bokeh.set_log_level(\"info\");\n",
              "    },\n",
              "function(Bokeh) {} // ensure no trailing comma for IE\n",
              "  ];\n",
              "\n",
              "  function run_inline_js() {\n",
              "    if ((root.Bokeh !== undefined) || (force === true)) {\n",
              "      for (var i = 0; i < inline_js.length; i++) {\n",
              "\ttry {\n",
              "          inline_js[i].call(root, root.Bokeh);\n",
              "\t} catch(e) {\n",
              "\t  if (!reloading) {\n",
              "\t    throw e;\n",
              "\t  }\n",
              "\t}\n",
              "      }\n",
              "      // Cache old bokeh versions\n",
              "      if (Bokeh != undefined && !reloading) {\n",
              "\tvar NewBokeh = root.Bokeh;\n",
              "\tif (Bokeh.versions === undefined) {\n",
              "\t  Bokeh.versions = new Map();\n",
              "\t}\n",
              "\tif (NewBokeh.version !== Bokeh.version) {\n",
              "\t  Bokeh.versions.set(NewBokeh.version, NewBokeh)\n",
              "\t}\n",
              "\troot.Bokeh = Bokeh;\n",
              "      }} else if (Date.now() < root._bokeh_timeout) {\n",
              "      setTimeout(run_inline_js, 100);\n",
              "    } else if (!root._bokeh_failed_load) {\n",
              "      console.log(\"Bokeh: BokehJS failed to load within specified timeout.\");\n",
              "      root._bokeh_failed_load = true;\n",
              "    }\n",
              "    root._bokeh_is_initializing = false\n",
              "  }\n",
              "\n",
              "  function load_or_wait() {\n",
              "    // Implement a backoff loop that tries to ensure we do not load multiple\n",
              "    // versions of Bokeh and its dependencies at the same time.\n",
              "    // In recent versions we use the root._bokeh_is_initializing flag\n",
              "    // to determine whether there is an ongoing attempt to initialize\n",
              "    // bokeh, however for backward compatibility we also try to ensure\n",
              "    // that we do not start loading a newer (Panel>=1.0 and Bokeh>3) version\n",
              "    // before older versions are fully initialized.\n",
              "    if (root._bokeh_is_initializing && Date.now() > root._bokeh_timeout) {\n",
              "      root._bokeh_is_initializing = false;\n",
              "      root._bokeh_onload_callbacks = undefined;\n",
              "      console.log(\"Bokeh: BokehJS was loaded multiple times but one version failed to initialize.\");\n",
              "      load_or_wait();\n",
              "    } else if (root._bokeh_is_initializing || (typeof root._bokeh_is_initializing === \"undefined\" && root._bokeh_onload_callbacks !== undefined)) {\n",
              "      setTimeout(load_or_wait, 100);\n",
              "    } else {\n",
              "      root._bokeh_is_initializing = true\n",
              "      root._bokeh_onload_callbacks = []\n",
              "      var bokeh_loaded = Bokeh != null && (Bokeh.version === py_version || (Bokeh.versions !== undefined && Bokeh.versions.has(py_version)));\n",
              "      if (!reloading && !bokeh_loaded) {\n",
              "\troot.Bokeh = undefined;\n",
              "      }\n",
              "      load_libs(css_urls, js_urls, js_modules, js_exports, function() {\n",
              "\tconsole.debug(\"Bokeh: BokehJS plotting callback run at\", now());\n",
              "\trun_inline_js();\n",
              "      });\n",
              "    }\n",
              "  }\n",
              "  // Give older versions of the autoload script a head-start to ensure\n",
              "  // they initialize before we start loading newer version.\n",
              "  setTimeout(load_or_wait, 100)\n",
              "}(window));"
            ],
            "application/vnd.holoviews_load.v0+json": "(function(root) {\n  function now() {\n    return new Date();\n  }\n\n  var force = true;\n  var py_version = '3.4.1'.replace('rc', '-rc.').replace('.dev', '-dev.');\n  var reloading = false;\n  var Bokeh = root.Bokeh;\n\n  if (typeof (root._bokeh_timeout) === \"undefined\" || force) {\n    root._bokeh_timeout = Date.now() + 5000;\n    root._bokeh_failed_load = false;\n  }\n\n  function run_callbacks() {\n    try {\n      root._bokeh_onload_callbacks.forEach(function(callback) {\n        if (callback != null)\n          callback();\n      });\n    } finally {\n      delete root._bokeh_onload_callbacks;\n    }\n    console.debug(\"Bokeh: all callbacks have finished\");\n  }\n\n  function load_libs(css_urls, js_urls, js_modules, js_exports, callback) {\n    if (css_urls == null) css_urls = [];\n    if (js_urls == null) js_urls = [];\n    if (js_modules == null) js_modules = [];\n    if (js_exports == null) js_exports = {};\n\n    root._bokeh_onload_callbacks.push(callback);\n\n    if (root._bokeh_is_loading > 0) {\n      console.debug(\"Bokeh: BokehJS is being loaded, scheduling callback at\", now());\n      return null;\n    }\n    if (js_urls.length === 0 && js_modules.length === 0 && Object.keys(js_exports).length === 0) {\n      run_callbacks();\n      return null;\n    }\n    if (!reloading) {\n      console.debug(\"Bokeh: BokehJS not loaded, scheduling load and callback at\", now());\n    }\n\n    function on_load() {\n      root._bokeh_is_loading--;\n      if (root._bokeh_is_loading === 0) {\n        console.debug(\"Bokeh: all BokehJS libraries/stylesheets loaded\");\n        run_callbacks()\n      }\n    }\n    window._bokeh_on_load = on_load\n\n    function on_error() {\n      console.error(\"failed to load \" + url);\n    }\n\n    var skip = [];\n    if (window.requirejs) {\n      window.requirejs.config({'packages': {}, 'paths': {}, 'shim': {}});\n      root._bokeh_is_loading = css_urls.length + 0;\n    } else {\n      root._bokeh_is_loading = css_urls.length + js_urls.length + js_modules.length + Object.keys(js_exports).length;\n    }\n\n    var existing_stylesheets = []\n    var links = document.getElementsByTagName('link')\n    for (var i = 0; i < links.length; i++) {\n      var link = links[i]\n      if (link.href != null) {\n\texisting_stylesheets.push(link.href)\n      }\n    }\n    for (var i = 0; i < css_urls.length; i++) {\n      var url = css_urls[i];\n      if (existing_stylesheets.indexOf(url) !== -1) {\n\ton_load()\n\tcontinue;\n      }\n      const element = document.createElement(\"link\");\n      element.onload = on_load;\n      element.onerror = on_error;\n      element.rel = \"stylesheet\";\n      element.type = \"text/css\";\n      element.href = url;\n      console.debug(\"Bokeh: injecting link tag for BokehJS stylesheet: \", url);\n      document.body.appendChild(element);\n    }    var existing_scripts = []\n    var scripts = document.getElementsByTagName('script')\n    for (var i = 0; i < scripts.length; i++) {\n      var script = scripts[i]\n      if (script.src != null) {\n\texisting_scripts.push(script.src)\n      }\n    }\n    for (var i = 0; i < js_urls.length; i++) {\n      var url = js_urls[i];\n      if (skip.indexOf(url) !== -1 || existing_scripts.indexOf(url) !== -1) {\n\tif (!window.requirejs) {\n\t  on_load();\n\t}\n\tcontinue;\n      }\n      var element = document.createElement('script');\n      element.onload = on_load;\n      element.onerror = on_error;\n      element.async = false;\n      element.src = url;\n      console.debug(\"Bokeh: injecting script tag for BokehJS library: \", url);\n      document.head.appendChild(element);\n    }\n    for (var i = 0; i < js_modules.length; i++) {\n      var url = js_modules[i];\n      if (skip.indexOf(url) !== -1 || existing_scripts.indexOf(url) !== -1) {\n\tif (!window.requirejs) {\n\t  on_load();\n\t}\n\tcontinue;\n      }\n      var element = document.createElement('script');\n      element.onload = on_load;\n      element.onerror = on_error;\n      element.async = false;\n      element.src = url;\n      element.type = \"module\";\n      console.debug(\"Bokeh: injecting script tag for BokehJS library: \", url);\n      document.head.appendChild(element);\n    }\n    for (const name in js_exports) {\n      var url = js_exports[name];\n      if (skip.indexOf(url) >= 0 || root[name] != null) {\n\tif (!window.requirejs) {\n\t  on_load();\n\t}\n\tcontinue;\n      }\n      var element = document.createElement('script');\n      element.onerror = on_error;\n      element.async = false;\n      element.type = \"module\";\n      console.debug(\"Bokeh: injecting script tag for BokehJS library: \", url);\n      element.textContent = `\n      import ${name} from \"${url}\"\n      window.${name} = ${name}\n      window._bokeh_on_load()\n      `\n      document.head.appendChild(element);\n    }\n    if (!js_urls.length && !js_modules.length) {\n      on_load()\n    }\n  };\n\n  function inject_raw_css(css) {\n    const element = document.createElement(\"style\");\n    element.appendChild(document.createTextNode(css));\n    document.body.appendChild(element);\n  }\n\n  var js_urls = [\"https://cdn.bokeh.org/bokeh/release/bokeh-3.4.1.min.js\", \"https://cdn.bokeh.org/bokeh/release/bokeh-gl-3.4.1.min.js\", \"https://cdn.bokeh.org/bokeh/release/bokeh-widgets-3.4.1.min.js\", \"https://cdn.bokeh.org/bokeh/release/bokeh-tables-3.4.1.min.js\", \"https://cdn.holoviz.org/panel/1.4.2/dist/panel.min.js\"];\n  var js_modules = [];\n  var js_exports = {};\n  var css_urls = [];\n  var inline_js = [    function(Bokeh) {\n      Bokeh.set_log_level(\"info\");\n    },\nfunction(Bokeh) {} // ensure no trailing comma for IE\n  ];\n\n  function run_inline_js() {\n    if ((root.Bokeh !== undefined) || (force === true)) {\n      for (var i = 0; i < inline_js.length; i++) {\n\ttry {\n          inline_js[i].call(root, root.Bokeh);\n\t} catch(e) {\n\t  if (!reloading) {\n\t    throw e;\n\t  }\n\t}\n      }\n      // Cache old bokeh versions\n      if (Bokeh != undefined && !reloading) {\n\tvar NewBokeh = root.Bokeh;\n\tif (Bokeh.versions === undefined) {\n\t  Bokeh.versions = new Map();\n\t}\n\tif (NewBokeh.version !== Bokeh.version) {\n\t  Bokeh.versions.set(NewBokeh.version, NewBokeh)\n\t}\n\troot.Bokeh = Bokeh;\n      }} else if (Date.now() < root._bokeh_timeout) {\n      setTimeout(run_inline_js, 100);\n    } else if (!root._bokeh_failed_load) {\n      console.log(\"Bokeh: BokehJS failed to load within specified timeout.\");\n      root._bokeh_failed_load = true;\n    }\n    root._bokeh_is_initializing = false\n  }\n\n  function load_or_wait() {\n    // Implement a backoff loop that tries to ensure we do not load multiple\n    // versions of Bokeh and its dependencies at the same time.\n    // In recent versions we use the root._bokeh_is_initializing flag\n    // to determine whether there is an ongoing attempt to initialize\n    // bokeh, however for backward compatibility we also try to ensure\n    // that we do not start loading a newer (Panel>=1.0 and Bokeh>3) version\n    // before older versions are fully initialized.\n    if (root._bokeh_is_initializing && Date.now() > root._bokeh_timeout) {\n      root._bokeh_is_initializing = false;\n      root._bokeh_onload_callbacks = undefined;\n      console.log(\"Bokeh: BokehJS was loaded multiple times but one version failed to initialize.\");\n      load_or_wait();\n    } else if (root._bokeh_is_initializing || (typeof root._bokeh_is_initializing === \"undefined\" && root._bokeh_onload_callbacks !== undefined)) {\n      setTimeout(load_or_wait, 100);\n    } else {\n      root._bokeh_is_initializing = true\n      root._bokeh_onload_callbacks = []\n      var bokeh_loaded = Bokeh != null && (Bokeh.version === py_version || (Bokeh.versions !== undefined && Bokeh.versions.has(py_version)));\n      if (!reloading && !bokeh_loaded) {\n\troot.Bokeh = undefined;\n      }\n      load_libs(css_urls, js_urls, js_modules, js_exports, function() {\n\tconsole.debug(\"Bokeh: BokehJS plotting callback run at\", now());\n\trun_inline_js();\n      });\n    }\n  }\n  // Give older versions of the autoload script a head-start to ensure\n  // they initialize before we start loading newer version.\n  setTimeout(load_or_wait, 100)\n}(window));"
          },
          "metadata": {}
        },
        {
          "output_type": "display_data",
          "data": {
            "application/vnd.holoviews_load.v0+json": "\nif ((window.PyViz === undefined) || (window.PyViz instanceof HTMLElement)) {\n  window.PyViz = {comms: {}, comm_status:{}, kernels:{}, receivers: {}, plot_index: []}\n}\n\n\n    function JupyterCommManager() {\n    }\n\n    JupyterCommManager.prototype.register_target = function(plot_id, comm_id, msg_handler) {\n      if (window.comm_manager || ((window.Jupyter !== undefined) && (Jupyter.notebook.kernel != null))) {\n        var comm_manager = window.comm_manager || Jupyter.notebook.kernel.comm_manager;\n        comm_manager.register_target(comm_id, function(comm) {\n          comm.on_msg(msg_handler);\n        });\n      } else if ((plot_id in window.PyViz.kernels) && (window.PyViz.kernels[plot_id])) {\n        window.PyViz.kernels[plot_id].registerCommTarget(comm_id, function(comm) {\n          comm.onMsg = msg_handler;\n        });\n      } else if (typeof google != 'undefined' && google.colab.kernel != null) {\n        google.colab.kernel.comms.registerTarget(comm_id, (comm) => {\n          var messages = comm.messages[Symbol.asyncIterator]();\n          function processIteratorResult(result) {\n            var message = result.value;\n            console.log(message)\n            var content = {data: message.data, comm_id};\n            var buffers = []\n            for (var buffer of message.buffers || []) {\n              buffers.push(new DataView(buffer))\n            }\n            var metadata = message.metadata || {};\n            var msg = {content, buffers, metadata}\n            msg_handler(msg);\n            return messages.next().then(processIteratorResult);\n          }\n          return messages.next().then(processIteratorResult);\n        })\n      }\n    }\n\n    JupyterCommManager.prototype.get_client_comm = function(plot_id, comm_id, msg_handler) {\n      if (comm_id in window.PyViz.comms) {\n        return window.PyViz.comms[comm_id];\n      } else if (window.comm_manager || ((window.Jupyter !== undefined) && (Jupyter.notebook.kernel != null))) {\n        var comm_manager = window.comm_manager || Jupyter.notebook.kernel.comm_manager;\n        var comm = comm_manager.new_comm(comm_id, {}, {}, {}, comm_id);\n        if (msg_handler) {\n          comm.on_msg(msg_handler);\n        }\n      } else if ((plot_id in window.PyViz.kernels) && (window.PyViz.kernels[plot_id])) {\n        var comm = window.PyViz.kernels[plot_id].connectToComm(comm_id);\n        comm.open();\n        if (msg_handler) {\n          comm.onMsg = msg_handler;\n        }\n      } else if (typeof google != 'undefined' && google.colab.kernel != null) {\n        var comm_promise = google.colab.kernel.comms.open(comm_id)\n        comm_promise.then((comm) => {\n          window.PyViz.comms[comm_id] = comm;\n          if (msg_handler) {\n            var messages = comm.messages[Symbol.asyncIterator]();\n            function processIteratorResult(result) {\n              var message = result.value;\n              var content = {data: message.data};\n              var metadata = message.metadata || {comm_id};\n              var msg = {content, metadata}\n              msg_handler(msg);\n              return messages.next().then(processIteratorResult);\n            }\n            return messages.next().then(processIteratorResult);\n          }\n        }) \n        var sendClosure = (data, metadata, buffers, disposeOnDone) => {\n          return comm_promise.then((comm) => {\n            comm.send(data, metadata, buffers, disposeOnDone);\n          });\n        };\n        var comm = {\n          send: sendClosure\n        };\n      }\n      window.PyViz.comms[comm_id] = comm;\n      return comm;\n    }\n    window.PyViz.comm_manager = new JupyterCommManager();\n    \n\n\nvar JS_MIME_TYPE = 'application/javascript';\nvar HTML_MIME_TYPE = 'text/html';\nvar EXEC_MIME_TYPE = 'application/vnd.holoviews_exec.v0+json';\nvar CLASS_NAME = 'output';\n\n/**\n * Render data to the DOM node\n */\nfunction render(props, node) {\n  var div = document.createElement(\"div\");\n  var script = document.createElement(\"script\");\n  node.appendChild(div);\n  node.appendChild(script);\n}\n\n/**\n * Handle when a new output is added\n */\nfunction handle_add_output(event, handle) {\n  var output_area = handle.output_area;\n  var output = handle.output;\n  if ((output.data == undefined) || (!output.data.hasOwnProperty(EXEC_MIME_TYPE))) {\n    return\n  }\n  var id = output.metadata[EXEC_MIME_TYPE][\"id\"];\n  var toinsert = output_area.element.find(\".\" + CLASS_NAME.split(' ')[0]);\n  if (id !== undefined) {\n    var nchildren = toinsert.length;\n    var html_node = toinsert[nchildren-1].children[0];\n    html_node.innerHTML = output.data[HTML_MIME_TYPE];\n    var scripts = [];\n    var nodelist = html_node.querySelectorAll(\"script\");\n    for (var i in nodelist) {\n      if (nodelist.hasOwnProperty(i)) {\n        scripts.push(nodelist[i])\n      }\n    }\n\n    scripts.forEach( function (oldScript) {\n      var newScript = document.createElement(\"script\");\n      var attrs = [];\n      var nodemap = oldScript.attributes;\n      for (var j in nodemap) {\n        if (nodemap.hasOwnProperty(j)) {\n          attrs.push(nodemap[j])\n        }\n      }\n      attrs.forEach(function(attr) { newScript.setAttribute(attr.name, attr.value) });\n      newScript.appendChild(document.createTextNode(oldScript.innerHTML));\n      oldScript.parentNode.replaceChild(newScript, oldScript);\n    });\n    if (JS_MIME_TYPE in output.data) {\n      toinsert[nchildren-1].children[1].textContent = output.data[JS_MIME_TYPE];\n    }\n    output_area._hv_plot_id = id;\n    if ((window.Bokeh !== undefined) && (id in Bokeh.index)) {\n      window.PyViz.plot_index[id] = Bokeh.index[id];\n    } else {\n      window.PyViz.plot_index[id] = null;\n    }\n  } else if (output.metadata[EXEC_MIME_TYPE][\"server_id\"] !== undefined) {\n    var bk_div = document.createElement(\"div\");\n    bk_div.innerHTML = output.data[HTML_MIME_TYPE];\n    var script_attrs = bk_div.children[0].attributes;\n    for (var i = 0; i < script_attrs.length; i++) {\n      toinsert[toinsert.length - 1].childNodes[1].setAttribute(script_attrs[i].name, script_attrs[i].value);\n    }\n    // store reference to server id on output_area\n    output_area._bokeh_server_id = output.metadata[EXEC_MIME_TYPE][\"server_id\"];\n  }\n}\n\n/**\n * Handle when an output is cleared or removed\n */\nfunction handle_clear_output(event, handle) {\n  var id = handle.cell.output_area._hv_plot_id;\n  var server_id = handle.cell.output_area._bokeh_server_id;\n  if (((id === undefined) || !(id in PyViz.plot_index)) && (server_id !== undefined)) { return; }\n  var comm = window.PyViz.comm_manager.get_client_comm(\"hv-extension-comm\", \"hv-extension-comm\", function () {});\n  if (server_id !== null) {\n    comm.send({event_type: 'server_delete', 'id': server_id});\n    return;\n  } else if (comm !== null) {\n    comm.send({event_type: 'delete', 'id': id});\n  }\n  delete PyViz.plot_index[id];\n  if ((window.Bokeh !== undefined) & (id in window.Bokeh.index)) {\n    var doc = window.Bokeh.index[id].model.document\n    doc.clear();\n    const i = window.Bokeh.documents.indexOf(doc);\n    if (i > -1) {\n      window.Bokeh.documents.splice(i, 1);\n    }\n  }\n}\n\n/**\n * Handle kernel restart event\n */\nfunction handle_kernel_cleanup(event, handle) {\n  delete PyViz.comms[\"hv-extension-comm\"];\n  window.PyViz.plot_index = {}\n}\n\n/**\n * Handle update_display_data messages\n */\nfunction handle_update_output(event, handle) {\n  handle_clear_output(event, {cell: {output_area: handle.output_area}})\n  handle_add_output(event, handle)\n}\n\nfunction register_renderer(events, OutputArea) {\n  function append_mime(data, metadata, element) {\n    // create a DOM node to render to\n    var toinsert = this.create_output_subarea(\n    metadata,\n    CLASS_NAME,\n    EXEC_MIME_TYPE\n    );\n    this.keyboard_manager.register_events(toinsert);\n    // Render to node\n    var props = {data: data, metadata: metadata[EXEC_MIME_TYPE]};\n    render(props, toinsert[0]);\n    element.append(toinsert);\n    return toinsert\n  }\n\n  events.on('output_added.OutputArea', handle_add_output);\n  events.on('output_updated.OutputArea', handle_update_output);\n  events.on('clear_output.CodeCell', handle_clear_output);\n  events.on('delete.Cell', handle_clear_output);\n  events.on('kernel_ready.Kernel', handle_kernel_cleanup);\n\n  OutputArea.prototype.register_mime_type(EXEC_MIME_TYPE, append_mime, {\n    safe: true,\n    index: 0\n  });\n}\n\nif (window.Jupyter !== undefined) {\n  try {\n    var events = require('base/js/events');\n    var OutputArea = require('notebook/js/outputarea').OutputArea;\n    if (OutputArea.prototype.mime_types().indexOf(EXEC_MIME_TYPE) == -1) {\n      register_renderer(events, OutputArea);\n    }\n  } catch(err) {\n  }\n}\n",
            "application/javascript": [
              "\n",
              "if ((window.PyViz === undefined) || (window.PyViz instanceof HTMLElement)) {\n",
              "  window.PyViz = {comms: {}, comm_status:{}, kernels:{}, receivers: {}, plot_index: []}\n",
              "}\n",
              "\n",
              "\n",
              "    function JupyterCommManager() {\n",
              "    }\n",
              "\n",
              "    JupyterCommManager.prototype.register_target = function(plot_id, comm_id, msg_handler) {\n",
              "      if (window.comm_manager || ((window.Jupyter !== undefined) && (Jupyter.notebook.kernel != null))) {\n",
              "        var comm_manager = window.comm_manager || Jupyter.notebook.kernel.comm_manager;\n",
              "        comm_manager.register_target(comm_id, function(comm) {\n",
              "          comm.on_msg(msg_handler);\n",
              "        });\n",
              "      } else if ((plot_id in window.PyViz.kernels) && (window.PyViz.kernels[plot_id])) {\n",
              "        window.PyViz.kernels[plot_id].registerCommTarget(comm_id, function(comm) {\n",
              "          comm.onMsg = msg_handler;\n",
              "        });\n",
              "      } else if (typeof google != 'undefined' && google.colab.kernel != null) {\n",
              "        google.colab.kernel.comms.registerTarget(comm_id, (comm) => {\n",
              "          var messages = comm.messages[Symbol.asyncIterator]();\n",
              "          function processIteratorResult(result) {\n",
              "            var message = result.value;\n",
              "            console.log(message)\n",
              "            var content = {data: message.data, comm_id};\n",
              "            var buffers = []\n",
              "            for (var buffer of message.buffers || []) {\n",
              "              buffers.push(new DataView(buffer))\n",
              "            }\n",
              "            var metadata = message.metadata || {};\n",
              "            var msg = {content, buffers, metadata}\n",
              "            msg_handler(msg);\n",
              "            return messages.next().then(processIteratorResult);\n",
              "          }\n",
              "          return messages.next().then(processIteratorResult);\n",
              "        })\n",
              "      }\n",
              "    }\n",
              "\n",
              "    JupyterCommManager.prototype.get_client_comm = function(plot_id, comm_id, msg_handler) {\n",
              "      if (comm_id in window.PyViz.comms) {\n",
              "        return window.PyViz.comms[comm_id];\n",
              "      } else if (window.comm_manager || ((window.Jupyter !== undefined) && (Jupyter.notebook.kernel != null))) {\n",
              "        var comm_manager = window.comm_manager || Jupyter.notebook.kernel.comm_manager;\n",
              "        var comm = comm_manager.new_comm(comm_id, {}, {}, {}, comm_id);\n",
              "        if (msg_handler) {\n",
              "          comm.on_msg(msg_handler);\n",
              "        }\n",
              "      } else if ((plot_id in window.PyViz.kernels) && (window.PyViz.kernels[plot_id])) {\n",
              "        var comm = window.PyViz.kernels[plot_id].connectToComm(comm_id);\n",
              "        comm.open();\n",
              "        if (msg_handler) {\n",
              "          comm.onMsg = msg_handler;\n",
              "        }\n",
              "      } else if (typeof google != 'undefined' && google.colab.kernel != null) {\n",
              "        var comm_promise = google.colab.kernel.comms.open(comm_id)\n",
              "        comm_promise.then((comm) => {\n",
              "          window.PyViz.comms[comm_id] = comm;\n",
              "          if (msg_handler) {\n",
              "            var messages = comm.messages[Symbol.asyncIterator]();\n",
              "            function processIteratorResult(result) {\n",
              "              var message = result.value;\n",
              "              var content = {data: message.data};\n",
              "              var metadata = message.metadata || {comm_id};\n",
              "              var msg = {content, metadata}\n",
              "              msg_handler(msg);\n",
              "              return messages.next().then(processIteratorResult);\n",
              "            }\n",
              "            return messages.next().then(processIteratorResult);\n",
              "          }\n",
              "        }) \n",
              "        var sendClosure = (data, metadata, buffers, disposeOnDone) => {\n",
              "          return comm_promise.then((comm) => {\n",
              "            comm.send(data, metadata, buffers, disposeOnDone);\n",
              "          });\n",
              "        };\n",
              "        var comm = {\n",
              "          send: sendClosure\n",
              "        };\n",
              "      }\n",
              "      window.PyViz.comms[comm_id] = comm;\n",
              "      return comm;\n",
              "    }\n",
              "    window.PyViz.comm_manager = new JupyterCommManager();\n",
              "    \n",
              "\n",
              "\n",
              "var JS_MIME_TYPE = 'application/javascript';\n",
              "var HTML_MIME_TYPE = 'text/html';\n",
              "var EXEC_MIME_TYPE = 'application/vnd.holoviews_exec.v0+json';\n",
              "var CLASS_NAME = 'output';\n",
              "\n",
              "/**\n",
              " * Render data to the DOM node\n",
              " */\n",
              "function render(props, node) {\n",
              "  var div = document.createElement(\"div\");\n",
              "  var script = document.createElement(\"script\");\n",
              "  node.appendChild(div);\n",
              "  node.appendChild(script);\n",
              "}\n",
              "\n",
              "/**\n",
              " * Handle when a new output is added\n",
              " */\n",
              "function handle_add_output(event, handle) {\n",
              "  var output_area = handle.output_area;\n",
              "  var output = handle.output;\n",
              "  if ((output.data == undefined) || (!output.data.hasOwnProperty(EXEC_MIME_TYPE))) {\n",
              "    return\n",
              "  }\n",
              "  var id = output.metadata[EXEC_MIME_TYPE][\"id\"];\n",
              "  var toinsert = output_area.element.find(\".\" + CLASS_NAME.split(' ')[0]);\n",
              "  if (id !== undefined) {\n",
              "    var nchildren = toinsert.length;\n",
              "    var html_node = toinsert[nchildren-1].children[0];\n",
              "    html_node.innerHTML = output.data[HTML_MIME_TYPE];\n",
              "    var scripts = [];\n",
              "    var nodelist = html_node.querySelectorAll(\"script\");\n",
              "    for (var i in nodelist) {\n",
              "      if (nodelist.hasOwnProperty(i)) {\n",
              "        scripts.push(nodelist[i])\n",
              "      }\n",
              "    }\n",
              "\n",
              "    scripts.forEach( function (oldScript) {\n",
              "      var newScript = document.createElement(\"script\");\n",
              "      var attrs = [];\n",
              "      var nodemap = oldScript.attributes;\n",
              "      for (var j in nodemap) {\n",
              "        if (nodemap.hasOwnProperty(j)) {\n",
              "          attrs.push(nodemap[j])\n",
              "        }\n",
              "      }\n",
              "      attrs.forEach(function(attr) { newScript.setAttribute(attr.name, attr.value) });\n",
              "      newScript.appendChild(document.createTextNode(oldScript.innerHTML));\n",
              "      oldScript.parentNode.replaceChild(newScript, oldScript);\n",
              "    });\n",
              "    if (JS_MIME_TYPE in output.data) {\n",
              "      toinsert[nchildren-1].children[1].textContent = output.data[JS_MIME_TYPE];\n",
              "    }\n",
              "    output_area._hv_plot_id = id;\n",
              "    if ((window.Bokeh !== undefined) && (id in Bokeh.index)) {\n",
              "      window.PyViz.plot_index[id] = Bokeh.index[id];\n",
              "    } else {\n",
              "      window.PyViz.plot_index[id] = null;\n",
              "    }\n",
              "  } else if (output.metadata[EXEC_MIME_TYPE][\"server_id\"] !== undefined) {\n",
              "    var bk_div = document.createElement(\"div\");\n",
              "    bk_div.innerHTML = output.data[HTML_MIME_TYPE];\n",
              "    var script_attrs = bk_div.children[0].attributes;\n",
              "    for (var i = 0; i < script_attrs.length; i++) {\n",
              "      toinsert[toinsert.length - 1].childNodes[1].setAttribute(script_attrs[i].name, script_attrs[i].value);\n",
              "    }\n",
              "    // store reference to server id on output_area\n",
              "    output_area._bokeh_server_id = output.metadata[EXEC_MIME_TYPE][\"server_id\"];\n",
              "  }\n",
              "}\n",
              "\n",
              "/**\n",
              " * Handle when an output is cleared or removed\n",
              " */\n",
              "function handle_clear_output(event, handle) {\n",
              "  var id = handle.cell.output_area._hv_plot_id;\n",
              "  var server_id = handle.cell.output_area._bokeh_server_id;\n",
              "  if (((id === undefined) || !(id in PyViz.plot_index)) && (server_id !== undefined)) { return; }\n",
              "  var comm = window.PyViz.comm_manager.get_client_comm(\"hv-extension-comm\", \"hv-extension-comm\", function () {});\n",
              "  if (server_id !== null) {\n",
              "    comm.send({event_type: 'server_delete', 'id': server_id});\n",
              "    return;\n",
              "  } else if (comm !== null) {\n",
              "    comm.send({event_type: 'delete', 'id': id});\n",
              "  }\n",
              "  delete PyViz.plot_index[id];\n",
              "  if ((window.Bokeh !== undefined) & (id in window.Bokeh.index)) {\n",
              "    var doc = window.Bokeh.index[id].model.document\n",
              "    doc.clear();\n",
              "    const i = window.Bokeh.documents.indexOf(doc);\n",
              "    if (i > -1) {\n",
              "      window.Bokeh.documents.splice(i, 1);\n",
              "    }\n",
              "  }\n",
              "}\n",
              "\n",
              "/**\n",
              " * Handle kernel restart event\n",
              " */\n",
              "function handle_kernel_cleanup(event, handle) {\n",
              "  delete PyViz.comms[\"hv-extension-comm\"];\n",
              "  window.PyViz.plot_index = {}\n",
              "}\n",
              "\n",
              "/**\n",
              " * Handle update_display_data messages\n",
              " */\n",
              "function handle_update_output(event, handle) {\n",
              "  handle_clear_output(event, {cell: {output_area: handle.output_area}})\n",
              "  handle_add_output(event, handle)\n",
              "}\n",
              "\n",
              "function register_renderer(events, OutputArea) {\n",
              "  function append_mime(data, metadata, element) {\n",
              "    // create a DOM node to render to\n",
              "    var toinsert = this.create_output_subarea(\n",
              "    metadata,\n",
              "    CLASS_NAME,\n",
              "    EXEC_MIME_TYPE\n",
              "    );\n",
              "    this.keyboard_manager.register_events(toinsert);\n",
              "    // Render to node\n",
              "    var props = {data: data, metadata: metadata[EXEC_MIME_TYPE]};\n",
              "    render(props, toinsert[0]);\n",
              "    element.append(toinsert);\n",
              "    return toinsert\n",
              "  }\n",
              "\n",
              "  events.on('output_added.OutputArea', handle_add_output);\n",
              "  events.on('output_updated.OutputArea', handle_update_output);\n",
              "  events.on('clear_output.CodeCell', handle_clear_output);\n",
              "  events.on('delete.Cell', handle_clear_output);\n",
              "  events.on('kernel_ready.Kernel', handle_kernel_cleanup);\n",
              "\n",
              "  OutputArea.prototype.register_mime_type(EXEC_MIME_TYPE, append_mime, {\n",
              "    safe: true,\n",
              "    index: 0\n",
              "  });\n",
              "}\n",
              "\n",
              "if (window.Jupyter !== undefined) {\n",
              "  try {\n",
              "    var events = require('base/js/events');\n",
              "    var OutputArea = require('notebook/js/outputarea').OutputArea;\n",
              "    if (OutputArea.prototype.mime_types().indexOf(EXEC_MIME_TYPE) == -1) {\n",
              "      register_renderer(events, OutputArea);\n",
              "    }\n",
              "  } catch(err) {\n",
              "  }\n",
              "}\n"
            ]
          },
          "metadata": {}
        },
        {
          "output_type": "display_data",
          "data": {
            "text/html": [
              "<style>*[data-root-id],\n",
              "*[data-root-id] > * {\n",
              "  box-sizing: border-box;\n",
              "  font-family: var(--jp-ui-font-family);\n",
              "  font-size: var(--jp-ui-font-size1);\n",
              "  color: var(--vscode-editor-foreground, var(--jp-ui-font-color1));\n",
              "}\n",
              "\n",
              "/* Override VSCode background color */\n",
              ".cell-output-ipywidget-background:has(\n",
              "    > .cell-output-ipywidget-background > .lm-Widget > *[data-root-id]\n",
              "  ),\n",
              ".cell-output-ipywidget-background:has(> .lm-Widget > *[data-root-id]) {\n",
              "  background-color: transparent !important;\n",
              "}\n",
              "</style>"
            ]
          },
          "metadata": {}
        },
        {
          "output_type": "display_data",
          "data": {
            "text/html": [
              "\n",
              "<div class=\"logo-block\">\n",
              "<img src='data:image/png;base64,iVBORw0KGgoAAAANSUhEUgAAAEAAAABACAYAAACqaXHeAAAABHNCSVQICAgIfAhkiAAAAAlwSFlz\n",
              "AAAB+wAAAfsBxc2miwAAABl0RVh0U29mdHdhcmUAd3d3Lmlua3NjYXBlLm9yZ5vuPBoAAA6zSURB\n",
              "VHic7ZtpeFRVmsf/5966taWqUlUJ2UioBBJiIBAwCZtog9IOgjqACsogKtqirT2ttt069nQ/zDzt\n",
              "tI4+CrJIREFaFgWhBXpUNhHZQoKBkIUASchWla1S+3ar7r1nPkDaCAnZKoQP/D7mnPOe9/xy76n3\n",
              "nFSAW9ziFoPFNED2LLK5wcyBDObkb8ZkxuaoSYlI6ZcOKq1eWFdedqNzGHQBk9RMEwFAASkk0Xw3\n",
              "ETacDNi2vtvc7L0ROdw0AjoSotQVkKSvHQz/wRO1lScGModBFbDMaNRN1A4tUBCS3lk7BWhQkgpD\n",
              "lG4852/+7DWr1R3uHAZVQDsbh6ZPN7CyxUrCzJMRouusj0ipRwD2uKm0Zn5d2dFwzX1TCGhnmdGo\n",
              "G62Nna+isiUqhkzuKrkQaJlPEv5mFl2fvGg2t/VnzkEV8F5ioioOEWkLG86fvbpthynjdhXYZziQ\n",
              "x1hC9J2NFyi8vCTt91Fh04KGip0AaG9zuCk2wQCVyoNU3Hjezee9bq92duzzTmxsRJoy+jEZZZYo\n",
              "GTKJ6SJngdJqAfRzpze0+jHreUtPc7gpBLQnIYK6BYp/uGhw9YK688eu7v95ysgshcg9qSLMo3JC\n",
              "4jqLKQFBgdKDPoQ+Pltb8dUyQLpeDjeVgI6EgLIQFT5tEl3rn2losHVsexbZ3EyT9wE1uGdkIPcy\n",
              "BGxn8QUq1QrA5nqW5i2tLqvrrM9NK6AdkVIvL9E9bZL/oyfMVd/jqvc8LylzRBKDJSzIExwhQzuL\n",
              "QYGQj4rHfFTc8mUdu3E7yoLtbTe9gI4EqVgVkug2i5+uXGo919ixbRog+3fTbQ8qJe4ZOYNfMoTI\n",
              "OoshUNosgO60AisX15aeI2PSIp5KiFLI9ubb1vV3Qb2ltwLakUCDAkWX7/nHKRmmGIl9VgYsUhJm\n",
              "2NXjKYADtM1ygne9QQDIXlk49FBstMKx66D1v4+XuQr7vqTe0VcBHQlRWiOCbmmSYe2SqtL6q5rJ\n",
              "zsTb7lKx3FKOYC4DoqyS/B5bvLPxvD9Qtf6saxYLQGJErmDOdOMr/zo96km1nElr8bmPOBwI9COv\n",
              "HnFPRIwmkSOv9kcAS4heRsidOkpeWBgZM+UBrTFAXNYL5Vf2ii9c1trNzpYdaoVil3WIc+wdk+gQ\n",
              "noie3ecCcxt9ITcLAPWt/laGEO/9U6PmzZkenTtsSMQ8uYywJVW+grCstAvCIaAdArAsIWkRDDs/\n",
              "KzLm2YcjY1Lv0UdW73HabE9n6V66cxSzfEmuJssTpKGVp+0vHq73FwL46eOjpMpbRAnNmJFrGJNu\n",
              "Ukf9Yrz+3rghiumCKNXXWPhLYcjxGsIpoCMsIRoFITkW8AuyM8jC1+/QLx4bozCEJIq38+1rtpR6\n",
              "V/yzb8eBlRb3fo5l783N0CWolAzJHaVNzkrTzlEp2bQ2q3TC5gn6wpnoQAmwSiGh2GitnTmVMc5O\n",
              "UyfKWUKCIsU7+fZDKwqdT6DDpvkzAX4/+AMFjk0tDp5GRXLpQ2MUmhgDp5gxQT8+Y7hyPsMi8uxF\n",
              "71H0oebujHALECjFKaW9Lm68n18wXp2kVzIcABytD5iXFzg+WVXkegpAsOOYziqo0OkK76GyquC3\n",
              "ltZAzMhhqlSNmmWTE5T6e3IN05ITFLM4GdN0vtZ3ob8Jh1NAKXFbm5PtLU/eqTSlGjkNAJjdgn/N\n",
              "aedXa0tdi7+t9G0FIF49rtMSEgAs1kDLkTPO7ebm4IUWeyh1bKomXqlgMG6kJmHcSM0clYLJ8XtR\n",
              "1GTnbV3F6I5wCGikAb402npp1h1s7LQUZZSMIfALFOuL3UUrfnS8+rez7v9qcold5tilgHbO1fjK\n",
              "9ubb17u9oshxzMiUBKXWqJNxd+fqb0tLVs4lILFnK71H0Ind7uiPgACVcFJlrb0tV6DzxqqTIhUM\n",
              "CwDf1/rrVhTa33/3pGPxJYdQ2l2cbgVcQSosdx8uqnDtbGjh9SlDVSMNWhlnilfqZk42Th2ZpLpf\n",
              "xrHec5e815zrr0dfBZSwzkZfqsv+1FS1KUknUwPARVvItfKUY+cn57yP7qv07UE3p8B2uhUwLk09\n",
              "e0SCOrK+hbdYHYLjRIl71wWzv9jpEoeOHhGRrJAzyEyNiJuUqX0g2sBN5kGK6y2Blp5M3lsB9Qh4\n",
              "y2Ja6x6+i0ucmKgwMATwhSjdUu49tKrQ/pvN5d53ml2CGwCmJipmKjgmyuaXzNeL2a0AkQ01Th5j\n",
              "2DktO3Jyk8f9vcOBQHV94OK+fPumJmvQHxJoWkaKWq9Vs+yUsbq0zGT1I4RgeH2b5wef7+c7bl8F\n",
              "eKgoHVVZa8ZPEORzR6sT1BzDUAD/d9F78e2Tzv99v8D+fLVTqAKAsbGamKey1Mt9Ann4eH3gTXTz\n",
              "idWtAJ8PQWOk7NzSeQn/OTHDuEikVF1R4z8BQCy+6D1aWRfY0tTGG2OM8rRoPaeIj5ZHzJxszElN\n",
              "VM8K8JS5WOfv8mzRnQAKoEhmt8gyPM4lU9SmBK1MCQBnW4KONT86v1hZ1PbwSXPw4JWussVjtH9Y\n",
              "NCoiL9UoH/6PSu8jFrfY2t36erQHXLIEakMi1SydmzB31h3GGXFDFNPaK8Rme9B79Ixrd0WN+1ij\n",
              "NRQ/doRmuFLBkHSTOm5GruG+pFjFdAmorG4IXH1Qua6ASniclfFtDYt+oUjKipPrCQB7QBQ2lrgP\n",
              "fFzm+9XWUtcqJ3/5vDLDpJ79XHZk3u8nGZ42qlj1+ydtbxysCezrydp6ugmipNJ7WBPB5tydY0jP\n",
              "HaVNzs3QzeE4ZpTbI+ZbnSFPbVOw9vsfnVvqWnirPyCNGD08IlqtYkh2hjZ5dErEQzoNm+6ykyOt\n",
              "Lt5/PQEuSRRKo22VkydK+vvS1XEKlhCJAnsqvcVvH7f/ZU2R67eXbMEGAMiIV5oWZWiWvz5Fv2xG\n",
              "sjqNJQRvn3Rs2lji/lNP19VjAQDgD7FHhujZB9OGqYxRkZxixgRDVlqS6uEOFaJUVu0rPFzctrnF\n",
              "JqijImVp8dEKVWyUXDk92zAuMZ6bFwpBU1HrOw6AdhQgUooChb0+ItMbWJitSo5Ws3IAOGEOtL53\n",
              "0vHZih9sC4vtofZ7Qu6523V/fmGcds1TY3V36pUsBwAbSlxnVh2xLfAD/IAIMDf7XYIkNmXfpp2l\n",
              "18rkAJAy9HKFaIr/qULkeQQKy9zf1JgDB2uaeFNGijo5QsUyacNUUTOnGO42xSnv4oOwpDi1zYkc\n",
              "efUc3I5Gk6PhyTuVKaOGyLUAYPGIoY9Pu/atL/L92+4q9wbflRJ2Trpm/jPjdBtfnqB/dIThcl8A\n",
              "KG7hbRuKnb8qsQsVvVlTrwQAQMUlf3kwJI24Z4JhPMtcfng5GcH49GsrxJpGvvHIaeem2ma+KSjQ\n",
              "lIwUdYyCY8j4dE1KzijNnIP2llF2wcXNnsoapw9XxsgYAl6k+KzUXbi2yP3KR2ecf6z3BFsBICdW\n",
              "nvnIaG3eHybqX7vbpEqUMT+9OL4Qpe8VON7dXuFd39v19FoAABRVePbGGuXTszO0P7tu6lghUonE\n",
              "llRdrhArLvmKdh9u29jcFiRRkfLUxBiFNiqSU9icoZQHo5mYBI1MBgBH6wMNb+U7Pnw337H4gi1Y\n",
              "ciWs+uks3Z9fztUvfzxTm9Ne8XXkvQLHNytOOZeiD4e0PgkAIAYCYknKUNUDSXEKzdWNpnil7r4p\n",
              "xqkjTarZMtk/K8TQ6Qve78qqvXurGwIJqcOUKfUWHsm8KGvxSP68YudXq4pcj39X49uOK2X142O0\n",
              "Tz5/u/7TVybqH0rSya6ZBwD21/gubbrgWdDgEOx9WUhfBaC2ibcEBYm7a7x+ukrBMNcEZggyR0TE\n",
              "T8zUPjikQ4VosQZbTpS4vqizBKvqmvjsqnpfzaZyx9JPiz1/bfGKdgD45XB1zoIMzYbfTdS/NClB\n",
              "Gct0USiY3YL/g0LHy/uq/Ef6uo5+n0R/vyhp17Klpge763f8rMu6YU/zrn2nml+2WtH+Z+5IAAFc\n",
              "2bUTdTDOSNa9+cQY7YLsOIXhevEkCvzph7a8laecz/Un/z4/Ae04XeL3UQb57IwU9ZDr9UuKVajv\n",
              "nxp1+1UVIo/LjztZkKH59fO3G/JemqCfmaCRqbqbd90ZZ8FfjtkfAyD0J/9+C2h1hDwsSxvGjNDc\n",
              "b4zk5NfrSwiQblLHzZhg+Jf4aPlUwpDqkQqa9nimbt1/TDH8OitGMaQnj+RJS6B1fbF7SY1TqO5v\n",
              "/v0WAADl1f7zokgS7s7VT2DZ7pegUjBM7mjtiDZbcN4j0YrHH0rXpCtY0qPX0cVL0rv5jv/ZXend\n",
              "0u/EESYBAFBU4T4Qa5TflZOhTe7pmKpaP8kCVUVw1+yhXfJWvn1P3hnXi33JsTN6PnP3hHZ8Z3/h\n",
              "aLHzmkNPuPj7Bc/F/Q38CwjTpSwQXgE4Vmwry9tpfq/ZFgqFMy4AVDtCvi8rvMvOmv0N4YwbVgEA\n",
              "sPM72/KVnzfspmH7HQGCRLG2yL1+z8XwvPcdCbsAANh+xPzstgMtxeGKt+6MK3/tacfvwhWvIwMi\n",
              "oKEBtm0H7W+UVfkc/Y1V0BhoPlDr/w1w/eu1vjIgAgDg22OtX6/eYfnEz/focrZTHAFR+PSs56/7\n",
              "q32nwpjazxgwAQCwcU/T62t3WL7r6/jVRa6/byp1rei+Z98ZUAEAhEPHPc8fKnTU9nbgtnOe8h0l\n",
              "9hcGIqmODLQAHCy2Xti6v/XNRivf43f4fFvIteu854+VHnR7q9tfBlwAAGz+pnndB9vM26UebAe8\n",
              "SLHujPOTPVW+rwY+sxskAAC2HrA8t2Vvc7ffP1r9o+vwR2dcr92InIAbKKC1FZ5tB1tf+/G8p8sv\n",
              "N/9Q5zd/XR34LYCwV5JdccMEAMDBk45DH243r/X4xGvqxFa/GNpS7n6rwOwNWwHVE26oAADYurf1\n",
              "zx/utOzt+DMKYM0p17YtZZ5VNzqfsB2HewG1WXE8PoZ7gOclbTIvynZf9JV+fqZtfgs/8F/Nu5rB\n",
              "EIBmJ+8QRMmpU7EzGRsf2FzuePqYRbzh/zE26EwdrT10f6r6o8HOYzCJB9Dpff8tbnGLG8L/A/WE\n",
              "roTBs2RqAAAAAElFTkSuQmCC'\n",
              "     style='height:25px; border-radius:12px; display: inline-block; float: left; vertical-align: middle'></img>\n",
              "\n",
              "\n",
              "  <img src='data:image/png;base64,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'\n",
              "       style='height:15px; border-radius:12px; display: inline-block; float: left'></img>\n",
              "  \n",
              "\n",
              "\n",
              "\n",
              "\n",
              "</div>\n"
            ]
          },
          "metadata": {}
        },
        {
          "output_type": "display_data",
          "data": {},
          "metadata": {}
        },
        {
          "output_type": "execute_result",
          "data": {
            "text/html": [
              "<div id='p1518'>\n",
              "  <div id=\"a40f7f32-621a-4895-9fea-961cdf560eb5\" data-root-id=\"p1518\" style=\"display: contents;\"></div>\n",
              "</div>\n",
              "<script type=\"application/javascript\">(function(root) {\n",
              "  var docs_json = {\"33669384-6787-466b-8b86-faaa04c717cd\":{\"version\":\"3.4.1\",\"title\":\"Bokeh Application\",\"roots\":[{\"type\":\"object\",\"name\":\"Row\",\"id\":\"p1518\",\"attributes\":{\"name\":\"Row02257\",\"tags\":[\"embedded\"],\"stylesheets\":[\"\\n:host(.pn-loading):before, .pn-loading:before {\\n  background-color: #c3c3c3;\\n  mask-size: auto calc(min(50%, 400px));\\n  -webkit-mask-size: auto calc(min(50%, 400px));\\n}\",{\"type\":\"object\",\"name\":\"ImportedStyleSheet\",\"id\":\"p1521\",\"attributes\":{\"url\":\"https://cdn.holoviz.org/panel/1.4.2/dist/css/loading.css\"}},{\"type\":\"object\",\"name\":\"ImportedStyleSheet\",\"id\":\"p1681\",\"attributes\":{\"url\":\"https://cdn.holoviz.org/panel/1.4.2/dist/css/listpanel.css\"}},{\"type\":\"object\",\"name\":\"ImportedStyleSheet\",\"id\":\"p1519\",\"attributes\":{\"url\":\"https://cdn.holoviz.org/panel/1.4.2/dist/bundled/theme/default.css\"}},{\"type\":\"object\",\"name\":\"ImportedStyleSheet\",\"id\":\"p1520\",\"attributes\":{\"url\":\"https://cdn.holoviz.org/panel/1.4.2/dist/bundled/theme/native.css\"}}],\"min_width\":960,\"margin\":0,\"sizing_mode\":\"stretch_width\",\"align\":\"start\",\"children\":[{\"type\":\"object\",\"name\":\"Spacer\",\"id\":\"p1522\",\"attributes\":{\"name\":\"HSpacer02264\",\"stylesheets\":[\"\\n:host(.pn-loading):before, .pn-loading:before {\\n  background-color: #c3c3c3;\\n  mask-size: auto calc(min(50%, 400px));\\n  -webkit-mask-size: auto calc(min(50%, 400px));\\n}\",{\"id\":\"p1521\"},{\"id\":\"p1519\"},{\"id\":\"p1520\"}],\"margin\":0,\"sizing_mode\":\"stretch_width\",\"align\":\"start\"}},{\"type\":\"object\",\"name\":\"Figure\",\"id\":\"p1548\",\"attributes\":{\"width\":960,\"height\":480,\"margin\":[5,10],\"sizing_mode\":\"fixed\",\"align\":\"start\",\"x_range\":{\"type\":\"object\",\"name\":\"FactorRange\",\"id\":\"p1523\",\"attributes\":{\"tags\":[[[\"coin_id\",\"coin_id\",null]],[]],\"factors\":[\"bitcoin\",\"ethereum\",\"tether\",\"ripple\",\"bitcoin-cash\",\"binancecoin\",\"chainlink\",\"cardano\",\"litecoin\",\"bitcoin-cash-sv\",\"crypto-com-chain\",\"usd-coin\",\"eos\",\"monero\",\"tron\",\"tezos\",\"okb\",\"stellar\",\"cosmos\",\"cdai\",\"neo\",\"wrapped-bitcoin\",\"leo-token\",\"huobi-token\",\"nem\",\"binance-usd\",\"iota\",\"vechain\",\"zcash\",\"theta-token\",\"dash\",\"ethereum-classic\",\"ethlend\",\"maker\",\"havven\",\"omisego\",\"celsius-degree-token\",\"ontology\",\"ftx-token\",\"true-usd\",\"digibyte\"]}},\"y_range\":{\"type\":\"object\",\"name\":\"Range1d\",\"id\":\"p1524\",\"attributes\":{\"tags\":[[[\"value\",\"value\",null]],{\"type\":\"map\",\"entries\":[[\"invert_yaxis\",false],[\"autorange\",false]]}],\"start\":-6.088008620465985,\"end\":7.19559218900398,\"reset_start\":-6.088008620465985,\"reset_end\":7.19559218900398}},\"x_scale\":{\"type\":\"object\",\"name\":\"CategoricalScale\",\"id\":\"p1558\"},\"y_scale\":{\"type\":\"object\",\"name\":\"LinearScale\",\"id\":\"p1559\"},\"title\":{\"type\":\"object\",\"name\":\"Title\",\"id\":\"p1551\",\"attributes\":{\"text\":\"1.2.4: Normalized Cryptocurrency Price Change (%)\",\"text_color\":\"black\",\"text_font_size\":\"16.0pt\"}},\"renderers\":[{\"type\":\"object\",\"name\":\"GlyphRenderer\",\"id\":\"p1588\",\"attributes\":{\"name\":\"price_change_percentage_24h\",\"data_source\":{\"type\":\"object\",\"name\":\"ColumnDataSource\",\"id\":\"p1579\",\"attributes\":{\"selected\":{\"type\":\"object\",\"name\":\"Selection\",\"id\":\"p1580\",\"attributes\":{\"indices\":[],\"line_indices\":[]}},\"selection_policy\":{\"type\":\"object\",\"name\":\"UnionRenderers\",\"id\":\"p1581\"},\"data\":{\"type\":\"map\",\"entries\":[[\"coin_id\",[\"bitcoin\",\"ethereum\",\"tether\",\"ripple\",\"bitcoin-cash\",\"binancecoin\",\"chainlink\",\"cardano\",\"litecoin\",\"bitcoin-cash-sv\",\"crypto-com-chain\",\"usd-coin\",\"eos\",\"monero\",\"tron\",\"tezos\",\"okb\",\"stellar\",\"cosmos\",\"cdai\",\"neo\",\"wrapped-bitcoin\",\"leo-token\",\"huobi-token\",\"nem\",\"binance-usd\",\"iota\",\"vechain\",\"zcash\",\"theta-token\",\"dash\",\"ethereum-classic\",\"ethlend\",\"maker\",\"havven\",\"omisego\",\"celsius-degree-token\",\"ontology\",\"ftx-token\",\"true-usd\",\"digibyte\"]],[\"value\",{\"type\":\"ndarray\",\"array\":{\"type\":\"bytes\",\"data\":\"DdlqYN9F4D86azDosLzHP5giRdTpS5Y/5iURtxHfpL8wCyMArRbzP/cOjHA0iuw/1QxzqW9Xhz8zBL2hZD+6P0nbN/ba1rM/WpkZGJ+73D/+slcesDPVP/IxOp6elqE/H2STd0ruwz9Epj8/c9DQPxk0XoR2pcA/jEB40RVnw790fnl54Irtv9XPDahDw9G/qq8st/Fh0L/5U5ZBISbHP6Slu6TDVtI/BVlpN5h+4D+njODODoCqPwXDDo/fo6q/woaukuXmy79od0yHwmevP8HhEPEMldA/ypmU5gu54j+sKNPN2lDAv1YH9WGFy/m/N7JuVBEB07/EU4GAhEGyv91nhz6W7BPA/ACFOIMFwL/DnH9IcNv2v5azwSWNt/4/VLqXBn668D/IKcQzxy3av5WrmDyeito/Bf22eE/6sz9Y362Ir3rzPw==\"},\"shape\":[41],\"dtype\":\"float64\",\"order\":\"little\"}],[\"Variable\",[\"price_change_percentage_24h\",\"price_change_percentage_24h\",\"price_change_percentage_24h\",\"price_change_percentage_24h\",\"price_change_percentage_24h\",\"price_change_percentage_24h\",\"price_change_percentage_24h\",\"price_change_percentage_24h\",\"price_change_percentage_24h\",\"price_change_percentage_24h\",\"price_change_percentage_24h\",\"price_change_percentage_24h\",\"price_change_percentage_24h\",\"price_change_percentage_24h\",\"price_change_percentage_24h\",\"price_change_percentage_24h\",\"price_change_percentage_24h\",\"price_change_percentage_24h\",\"price_change_percentage_24h\",\"price_change_percentage_24h\",\"price_change_percentage_24h\",\"price_change_percentage_24h\",\"price_change_percentage_24h\",\"price_change_percentage_24h\",\"price_change_percentage_24h\",\"price_change_percentage_24h\",\"price_change_percentage_24h\",\"price_change_percentage_24h\",\"price_change_percentage_24h\",\"price_change_percentage_24h\",\"price_change_percentage_24h\",\"price_change_percentage_24h\",\"price_change_percentage_24h\",\"price_change_percentage_24h\",\"price_change_percentage_24h\",\"price_change_percentage_24h\",\"price_change_percentage_24h\",\"price_change_percentage_24h\",\"price_change_percentage_24h\",\"price_change_percentage_24h\",\"price_change_percentage_24h\"]]]}}},\"view\":{\"type\":\"object\",\"name\":\"CDSView\",\"id\":\"p1589\",\"attributes\":{\"filter\":{\"type\":\"object\",\"name\":\"AllIndices\",\"id\":\"p1590\"}}},\"glyph\":{\"type\":\"object\",\"name\":\"Line\",\"id\":\"p1585\",\"attributes\":{\"tags\":[\"apply_ranges\"],\"x\":{\"type\":\"field\",\"field\":\"coin_id\"},\"y\":{\"type\":\"field\",\"field\":\"value\"},\"line_color\":\"#30a2da\",\"line_width\":2}},\"selection_glyph\":{\"type\":\"object\",\"name\":\"Line\",\"id\":\"p1593\",\"attributes\":{\"tags\":[\"apply_ranges\"],\"x\":{\"type\":\"field\",\"field\":\"coin_id\"},\"y\":{\"type\":\"field\",\"field\":\"value\"},\"line_color\":\"#30a2da\",\"line_width\":2}},\"nonselection_glyph\":{\"type\":\"object\",\"name\":\"Line\",\"id\":\"p1586\",\"attributes\":{\"tags\":[\"apply_ranges\"],\"x\":{\"type\":\"field\",\"field\":\"coin_id\"},\"y\":{\"type\":\"field\",\"field\":\"value\"},\"line_color\":\"#30a2da\",\"line_alpha\":0.1,\"line_width\":2}},\"muted_glyph\":{\"type\":\"object\",\"name\":\"Line\",\"id\":\"p1587\",\"attributes\":{\"tags\":[\"apply_ranges\"],\"x\":{\"type\":\"field\",\"field\":\"coin_id\"},\"y\":{\"type\":\"field\",\"field\":\"value\"},\"line_color\":\"#30a2da\",\"line_alpha\":0.2,\"line_width\":2}}}},{\"type\":\"object\",\"name\":\"GlyphRenderer\",\"id\":\"p1603\",\"attributes\":{\"name\":\"price_change_percentage_7d\",\"data_source\":{\"type\":\"object\",\"name\":\"ColumnDataSource\",\"id\":\"p1594\",\"attributes\":{\"selected\":{\"type\":\"object\",\"name\":\"Selection\",\"id\":\"p1595\",\"attributes\":{\"indices\":[],\"line_indices\":[]}},\"selection_policy\":{\"type\":\"object\",\"name\":\"UnionRenderers\",\"id\":\"p1596\"},\"data\":{\"type\":\"map\",\"entries\":[[\"coin_id\",[\"bitcoin\",\"ethereum\",\"tether\",\"ripple\",\"bitcoin-cash\",\"binancecoin\",\"chainlink\",\"cardano\",\"litecoin\",\"bitcoin-cash-sv\",\"crypto-com-chain\",\"usd-coin\",\"eos\",\"monero\",\"tron\",\"tezos\",\"okb\",\"stellar\",\"cosmos\",\"cdai\",\"neo\",\"wrapped-bitcoin\",\"leo-token\",\"huobi-token\",\"nem\",\"binance-usd\",\"iota\",\"vechain\",\"zcash\",\"theta-token\",\"dash\",\"ethereum-classic\",\"ethlend\",\"maker\",\"havven\",\"omisego\",\"celsius-degree-token\",\"ontology\",\"ftx-token\",\"true-usd\",\"digibyte\"]],[\"value\",{\"type\":\"ndarray\",\"array\":{\"type\":\"bytes\",\"data\":\"U1k8q3mQ3z9yoPpI+ebtP22UiL5Pmua/Ubo8ah/z6b8wAdnT9gEAQIJpDjGZPPU/BTbpSPiTBEAmUWkixiD4P/OMI2gdZdU/DZTtp1doyL936vtUZtb5v0QZLH/ydOe/it8GjguF7b8rMp3jf678PwRAcFxBAKW/ZWZRGoqp5j8Udj8VbP/2vySelkVDp9i/XK6ZksNx/T/tJm9WzI7mvy674lUf4tS/Q3zKstaO3T84jfoETLXtv6NqpXs9Q92/wrTyyiEu678mI2rMB53mv1Euo6Hk788/3UZrgr7Q778kzwwdV7vtP/9TV66U6fq/ZWX+mWVCuD8GJ0pHuV/Nv3SFotqbIae/srW7TleV4j/JyBNmVh+av008Y/5ntdc/Nv03JFjJ47+Htdvf1gXtv2Avihmzf9o/e31xtwIC5r/STlu6Y3Ljvw==\"},\"shape\":[41],\"dtype\":\"float64\",\"order\":\"little\"}],[\"Variable\",[\"price_change_percentage_7d\",\"price_change_percentage_7d\",\"price_change_percentage_7d\",\"price_change_percentage_7d\",\"price_change_percentage_7d\",\"price_change_percentage_7d\",\"price_change_percentage_7d\",\"price_change_percentage_7d\",\"price_change_percentage_7d\",\"price_change_percentage_7d\",\"price_change_percentage_7d\",\"price_change_percentage_7d\",\"price_change_percentage_7d\",\"price_change_percentage_7d\",\"price_change_percentage_7d\",\"price_change_percentage_7d\",\"price_change_percentage_7d\",\"price_change_percentage_7d\",\"price_change_percentage_7d\",\"price_change_percentage_7d\",\"price_change_percentage_7d\",\"price_change_percentage_7d\",\"price_change_percentage_7d\",\"price_change_percentage_7d\",\"price_change_percentage_7d\",\"price_change_percentage_7d\",\"price_change_percentage_7d\",\"price_change_percentage_7d\",\"price_change_percentage_7d\",\"price_change_percentage_7d\",\"price_change_percentage_7d\",\"price_change_percentage_7d\",\"price_change_percentage_7d\",\"price_change_percentage_7d\",\"price_change_percentage_7d\",\"price_change_percentage_7d\",\"price_change_percentage_7d\",\"price_change_percentage_7d\",\"price_change_percentage_7d\",\"price_change_percentage_7d\",\"price_change_percentage_7d\"]]]}}},\"view\":{\"type\":\"object\",\"name\":\"CDSView\",\"id\":\"p1604\",\"attributes\":{\"filter\":{\"type\":\"object\",\"name\":\"AllIndices\",\"id\":\"p1605\"}}},\"glyph\":{\"type\":\"object\",\"name\":\"Line\",\"id\":\"p1600\",\"attributes\":{\"tags\":[\"apply_ranges\"],\"x\":{\"type\":\"field\",\"field\":\"coin_id\"},\"y\":{\"type\":\"field\",\"field\":\"value\"},\"line_color\":\"#fc4f30\",\"line_width\":2}},\"selection_glyph\":{\"type\":\"object\",\"name\":\"Line\",\"id\":\"p1607\",\"attributes\":{\"tags\":[\"apply_ranges\"],\"x\":{\"type\":\"field\",\"field\":\"coin_id\"},\"y\":{\"type\":\"field\",\"field\":\"value\"},\"line_color\":\"#fc4f30\",\"line_width\":2}},\"nonselection_glyph\":{\"type\":\"object\",\"name\":\"Line\",\"id\":\"p1601\",\"attributes\":{\"tags\":[\"apply_ranges\"],\"x\":{\"type\":\"field\",\"field\":\"coin_id\"},\"y\":{\"type\":\"field\",\"field\":\"value\"},\"line_color\":\"#fc4f30\",\"line_alpha\":0.1,\"line_width\":2}},\"muted_glyph\":{\"type\":\"object\",\"name\":\"Line\",\"id\":\"p1602\",\"attributes\":{\"tags\":[\"apply_ranges\"],\"x\":{\"type\":\"field\",\"field\":\"coin_id\"},\"y\":{\"type\":\"field\",\"field\":\"value\"},\"line_color\":\"#fc4f30\",\"line_alpha\":0.2,\"line_width\":2}}}},{\"type\":\"object\",\"name\":\"GlyphRenderer\",\"id\":\"p1617\",\"attributes\":{\"name\":\"price_change_percentage_14d\",\"data_source\":{\"type\":\"object\",\"name\":\"ColumnDataSource\",\"id\":\"p1608\",\"attributes\":{\"selected\":{\"type\":\"object\",\"name\":\"Selection\",\"id\":\"p1609\",\"attributes\":{\"indices\":[],\"line_indices\":[]}},\"selection_policy\":{\"type\":\"object\",\"name\":\"UnionRenderers\",\"id\":\"p1610\"},\"data\":{\"type\":\"map\",\"entries\":[[\"coin_id\",[\"bitcoin\",\"ethereum\",\"tether\",\"ripple\",\"bitcoin-cash\",\"binancecoin\",\"chainlink\",\"cardano\",\"litecoin\",\"bitcoin-cash-sv\",\"crypto-com-chain\",\"usd-coin\",\"eos\",\"monero\",\"tron\",\"tezos\",\"okb\",\"stellar\",\"cosmos\",\"cdai\",\"neo\",\"wrapped-bitcoin\",\"leo-token\",\"huobi-token\",\"nem\",\"binance-usd\",\"iota\",\"vechain\",\"zcash\",\"theta-token\",\"dash\",\"ethereum-classic\",\"ethlend\",\"maker\",\"havven\",\"omisego\",\"celsius-degree-token\",\"ontology\",\"ftx-token\",\"true-usd\",\"digibyte\"]],[\"value\",{\"type\":\"ndarray\",\"array\":{\"type\":\"bytes\",\"data\":\"nuLdrt216D+RSHVMzuDhPx57AWhkM5a/zdxfKD3uzz+7EItmdSv8PzJprcZam+k/EKfjhlig8T8WzJCaqsPkP+/9iab+eOs/c2M8YOG/z79LsmyPUd/wv4Rrczwdspe/ajdyZDByvT+cw3/YDp8BQIH7ktz51cI/uQ3GIUaD0D9EVmWxpyjkvyGfjNZ4ncO/6WDgXhWY5D9b3RbWeMFdvwDRuPgYZ/O/M40qhKOj6D9Wgw2Nv+brv9DeKEG9pqA/TJ+Hg2cM0z8ku/50imCPvyvMC00pp96/vJKgLKO8AcANBXHRV67lP9k2MV03JOq/M7ls7Q6ApD91cedROXjGvxIzzzexT/O/AkzpMNDmyb8r81Gxzg/6vztf9YWK6vm/FlU2faVBB0DcP0enpcj0v+FC29fyQqi/ijCfoLDSgr+uLyxJrgbtvw==\"},\"shape\":[41],\"dtype\":\"float64\",\"order\":\"little\"}],[\"Variable\",[\"price_change_percentage_14d\",\"price_change_percentage_14d\",\"price_change_percentage_14d\",\"price_change_percentage_14d\",\"price_change_percentage_14d\",\"price_change_percentage_14d\",\"price_change_percentage_14d\",\"price_change_percentage_14d\",\"price_change_percentage_14d\",\"price_change_percentage_14d\",\"price_change_percentage_14d\",\"price_change_percentage_14d\",\"price_change_percentage_14d\",\"price_change_percentage_14d\",\"price_change_percentage_14d\",\"price_change_percentage_14d\",\"price_change_percentage_14d\",\"price_change_percentage_14d\",\"price_change_percentage_14d\",\"price_change_percentage_14d\",\"price_change_percentage_14d\",\"price_change_percentage_14d\",\"price_change_percentage_14d\",\"price_change_percentage_14d\",\"price_change_percentage_14d\",\"price_change_percentage_14d\",\"price_change_percentage_14d\",\"price_change_percentage_14d\",\"price_change_percentage_14d\",\"price_change_percentage_14d\",\"price_change_percentage_14d\",\"price_change_percentage_14d\",\"price_change_percentage_14d\",\"price_change_percentage_14d\",\"price_change_percentage_14d\",\"price_change_percentage_14d\",\"price_change_percentage_14d\",\"price_change_percentage_14d\",\"price_change_percentage_14d\",\"price_change_percentage_14d\",\"price_change_percentage_14d\"]]]}}},\"view\":{\"type\":\"object\",\"name\":\"CDSView\",\"id\":\"p1618\",\"attributes\":{\"filter\":{\"type\":\"object\",\"name\":\"AllIndices\",\"id\":\"p1619\"}}},\"glyph\":{\"type\":\"object\",\"name\":\"Line\",\"id\":\"p1614\",\"attributes\":{\"tags\":[\"apply_ranges\"],\"x\":{\"type\":\"field\",\"field\":\"coin_id\"},\"y\":{\"type\":\"field\",\"field\":\"value\"},\"line_color\":\"#e5ae38\",\"line_width\":2}},\"selection_glyph\":{\"type\":\"object\",\"name\":\"Line\",\"id\":\"p1621\",\"attributes\":{\"tags\":[\"apply_ranges\"],\"x\":{\"type\":\"field\",\"field\":\"coin_id\"},\"y\":{\"type\":\"field\",\"field\":\"value\"},\"line_color\":\"#e5ae38\",\"line_width\":2}},\"nonselection_glyph\":{\"type\":\"object\",\"name\":\"Line\",\"id\":\"p1615\",\"attributes\":{\"tags\":[\"apply_ranges\"],\"x\":{\"type\":\"field\",\"field\":\"coin_id\"},\"y\":{\"type\":\"field\",\"field\":\"value\"},\"line_color\":\"#e5ae38\",\"line_alpha\":0.1,\"line_width\":2}},\"muted_glyph\":{\"type\":\"object\",\"name\":\"Line\",\"id\":\"p1616\",\"attributes\":{\"tags\":[\"apply_ranges\"],\"x\":{\"type\":\"field\",\"field\":\"coin_id\"},\"y\":{\"type\":\"field\",\"field\":\"value\"},\"line_color\":\"#e5ae38\",\"line_alpha\":0.2,\"line_width\":2}}}},{\"type\":\"object\",\"name\":\"GlyphRenderer\",\"id\":\"p1631\",\"attributes\":{\"name\":\"price_change_percentage_30d\",\"data_source\":{\"type\":\"object\",\"name\":\"ColumnDataSource\",\"id\":\"p1622\",\"attributes\":{\"selected\":{\"type\":\"object\",\"name\":\"Selection\",\"id\":\"p1623\",\"attributes\":{\"indices\":[],\"line_indices\":[]}},\"selection_policy\":{\"type\":\"object\",\"name\":\"UnionRenderers\",\"id\":\"p1624\"},\"data\":{\"type\":\"map\",\"entries\":[[\"coin_id\",[\"bitcoin\",\"ethereum\",\"tether\",\"ripple\",\"bitcoin-cash\",\"binancecoin\",\"chainlink\",\"cardano\",\"litecoin\",\"bitcoin-cash-sv\",\"crypto-com-chain\",\"usd-coin\",\"eos\",\"monero\",\"tron\",\"tezos\",\"okb\",\"stellar\",\"cosmos\",\"cdai\",\"neo\",\"wrapped-bitcoin\",\"leo-token\",\"huobi-token\",\"nem\",\"binance-usd\",\"iota\",\"vechain\",\"zcash\",\"theta-token\",\"dash\",\"ethereum-classic\",\"ethlend\",\"maker\",\"havven\",\"omisego\",\"celsius-degree-token\",\"ontology\",\"ftx-token\",\"true-usd\",\"digibyte\"]],[\"value\",{\"type\":\"ndarray\",\"array\":{\"type\":\"bytes\",\"data\":\"VLUikIojzj94veAYk9Krv8k7PSNYP6+/LCOQjHPMqb8MhwLHiXfhPyEtO0x9Qq2/WQ0/4UZk3780jFQTqw3VP+w5G95k5om/qj2lucVvqj90vzmvmFvnvxdAaUyk1rC/wL5p6wNmzr+49rMYZwH3P01uZY6dZuG/HWLfVwJG47/ZX8tSyHndv70hKGTXy9e/9FApwHLVvT8qhwCallXCvyizXPp45uy/3VY404StzD+y9AWvohiuP47ld0RTnce/jWeCFLWTyb/mCNeaFQ2uv9ujMOUUCMy/jzHdhyFT479L0dG9l6bMP6aw6YyxYPI/tK+6phD31r8Rs4n+T5CqP2kvWRneZPO/o2AHBDWn4j+cy1ePBIjrvwUyfcjKONq/oanNt+NnFUDPSlhiWkr2v4FmecLIyN2/rPo4WUXOrb+mPH75zMvcPw==\"},\"shape\":[41],\"dtype\":\"float64\",\"order\":\"little\"}],[\"Variable\",[\"price_change_percentage_30d\",\"price_change_percentage_30d\",\"price_change_percentage_30d\",\"price_change_percentage_30d\",\"price_change_percentage_30d\",\"price_change_percentage_30d\",\"price_change_percentage_30d\",\"price_change_percentage_30d\",\"price_change_percentage_30d\",\"price_change_percentage_30d\",\"price_change_percentage_30d\",\"price_change_percentage_30d\",\"price_change_percentage_30d\",\"price_change_percentage_30d\",\"price_change_percentage_30d\",\"price_change_percentage_30d\",\"price_change_percentage_30d\",\"price_change_percentage_30d\",\"price_change_percentage_30d\",\"price_change_percentage_30d\",\"price_change_percentage_30d\",\"price_change_percentage_30d\",\"price_change_percentage_30d\",\"price_change_percentage_30d\",\"price_change_percentage_30d\",\"price_change_percentage_30d\",\"price_change_percentage_30d\",\"price_change_percentage_30d\",\"price_change_percentage_30d\",\"price_change_percentage_30d\",\"price_change_percentage_30d\",\"price_change_percentage_30d\",\"price_change_percentage_30d\",\"price_change_percentage_30d\",\"price_change_percentage_30d\",\"price_change_percentage_30d\",\"price_change_percentage_30d\",\"price_change_percentage_30d\",\"price_change_percentage_30d\",\"price_change_percentage_30d\",\"price_change_percentage_30d\"]]]}}},\"view\":{\"type\":\"object\",\"name\":\"CDSView\",\"id\":\"p1632\",\"attributes\":{\"filter\":{\"type\":\"object\",\"name\":\"AllIndices\",\"id\":\"p1633\"}}},\"glyph\":{\"type\":\"object\",\"name\":\"Line\",\"id\":\"p1628\",\"attributes\":{\"tags\":[\"apply_ranges\"],\"x\":{\"type\":\"field\",\"field\":\"coin_id\"},\"y\":{\"type\":\"field\",\"field\":\"value\"},\"line_color\":\"#6d904f\",\"line_width\":2}},\"selection_glyph\":{\"type\":\"object\",\"name\":\"Line\",\"id\":\"p1635\",\"attributes\":{\"tags\":[\"apply_ranges\"],\"x\":{\"type\":\"field\",\"field\":\"coin_id\"},\"y\":{\"type\":\"field\",\"field\":\"value\"},\"line_color\":\"#6d904f\",\"line_width\":2}},\"nonselection_glyph\":{\"type\":\"object\",\"name\":\"Line\",\"id\":\"p1629\",\"attributes\":{\"tags\":[\"apply_ranges\"],\"x\":{\"type\":\"field\",\"field\":\"coin_id\"},\"y\":{\"type\":\"field\",\"field\":\"value\"},\"line_color\":\"#6d904f\",\"line_alpha\":0.1,\"line_width\":2}},\"muted_glyph\":{\"type\":\"object\",\"name\":\"Line\",\"id\":\"p1630\",\"attributes\":{\"tags\":[\"apply_ranges\"],\"x\":{\"type\":\"field\",\"field\":\"coin_id\"},\"y\":{\"type\":\"field\",\"field\":\"value\"},\"line_color\":\"#6d904f\",\"line_alpha\":0.2,\"line_width\":2}}}},{\"type\":\"object\",\"name\":\"GlyphRenderer\",\"id\":\"p1645\",\"attributes\":{\"name\":\"price_change_percentage_60d\",\"data_source\":{\"type\":\"object\",\"name\":\"ColumnDataSource\",\"id\":\"p1636\",\"attributes\":{\"selected\":{\"type\":\"object\",\"name\":\"Selection\",\"id\":\"p1637\",\"attributes\":{\"indices\":[],\"line_indices\":[]}},\"selection_policy\":{\"type\":\"object\",\"name\":\"UnionRenderers\",\"id\":\"p1638\"},\"data\":{\"type\":\"map\",\"entries\":[[\"coin_id\",[\"bitcoin\",\"ethereum\",\"tether\",\"ripple\",\"bitcoin-cash\",\"binancecoin\",\"chainlink\",\"cardano\",\"litecoin\",\"bitcoin-cash-sv\",\"crypto-com-chain\",\"usd-coin\",\"eos\",\"monero\",\"tron\",\"tezos\",\"okb\",\"stellar\",\"cosmos\",\"cdai\",\"neo\",\"wrapped-bitcoin\",\"leo-token\",\"huobi-token\",\"nem\",\"binance-usd\",\"iota\",\"vechain\",\"zcash\",\"theta-token\",\"dash\",\"ethereum-classic\",\"ethlend\",\"maker\",\"havven\",\"omisego\",\"celsius-degree-token\",\"ontology\",\"ftx-token\",\"true-usd\",\"digibyte\"]],[\"value\",{\"type\":\"ndarray\",\"array\":{\"type\":\"bytes\",\"data\":\"XuEcz1tHsb+8Zl+wvYDRv9hPFCKtZIA/9jUSVuvh178gFEZdEaPSv1yAYuu56ug/wDg8PpHS7b8dkREiVyDfvx9JsudbdNe/aiVFZwbz4L9X3moe8mjWv9Rg5NFu9Wc/bHDERB6S5L8WEDujiprsP/NSaBPov74/gZXicfOX7r86KsbTOPStv+AyRpRBAeW/7HC4HOFxw79kuUrYIXKQP53k6uY/n9I/YNC9odgds79gsR3HSmLEv6/5swCKILK/A84mqrpe/D/Wyi8BdnRwP//EpjTMi+e/NsoYYQbG7b++1x7v6vjbvyMgxlr6Zvs/piahu3Tf4b8N3Qd5BKjhv8VEmATLcKg/17n0bM1W2b/nih8VIOfqv58TPq3IJPs/LbsfBGQUE0Cr11/ETk3mv7i1htJaaMA/tnDrujBDfj8ek5wRcTPlvw==\"},\"shape\":[41],\"dtype\":\"float64\",\"order\":\"little\"}],[\"Variable\",[\"price_change_percentage_60d\",\"price_change_percentage_60d\",\"price_change_percentage_60d\",\"price_change_percentage_60d\",\"price_change_percentage_60d\",\"price_change_percentage_60d\",\"price_change_percentage_60d\",\"price_change_percentage_60d\",\"price_change_percentage_60d\",\"price_change_percentage_60d\",\"price_change_percentage_60d\",\"price_change_percentage_60d\",\"price_change_percentage_60d\",\"price_change_percentage_60d\",\"price_change_percentage_60d\",\"price_change_percentage_60d\",\"price_change_percentage_60d\",\"price_change_percentage_60d\",\"price_change_percentage_60d\",\"price_change_percentage_60d\",\"price_change_percentage_60d\",\"price_change_percentage_60d\",\"price_change_percentage_60d\",\"price_change_percentage_60d\",\"price_change_percentage_60d\",\"price_change_percentage_60d\",\"price_change_percentage_60d\",\"price_change_percentage_60d\",\"price_change_percentage_60d\",\"price_change_percentage_60d\",\"price_change_percentage_60d\",\"price_change_percentage_60d\",\"price_change_percentage_60d\",\"price_change_percentage_60d\",\"price_change_percentage_60d\",\"price_change_percentage_60d\",\"price_change_percentage_60d\",\"price_change_percentage_60d\",\"price_change_percentage_60d\",\"price_change_percentage_60d\",\"price_change_percentage_60d\"]]]}}},\"view\":{\"type\":\"object\",\"name\":\"CDSView\",\"id\":\"p1646\",\"attributes\":{\"filter\":{\"type\":\"object\",\"name\":\"AllIndices\",\"id\":\"p1647\"}}},\"glyph\":{\"type\":\"object\",\"name\":\"Line\",\"id\":\"p1642\",\"attributes\":{\"tags\":[\"apply_ranges\"],\"x\":{\"type\":\"field\",\"field\":\"coin_id\"},\"y\":{\"type\":\"field\",\"field\":\"value\"},\"line_color\":\"#8b8b8b\",\"line_width\":2}},\"selection_glyph\":{\"type\":\"object\",\"name\":\"Line\",\"id\":\"p1649\",\"attributes\":{\"tags\":[\"apply_ranges\"],\"x\":{\"type\":\"field\",\"field\":\"coin_id\"},\"y\":{\"type\":\"field\",\"field\":\"value\"},\"line_color\":\"#8b8b8b\",\"line_width\":2}},\"nonselection_glyph\":{\"type\":\"object\",\"name\":\"Line\",\"id\":\"p1643\",\"attributes\":{\"tags\":[\"apply_ranges\"],\"x\":{\"type\":\"field\",\"field\":\"coin_id\"},\"y\":{\"type\":\"field\",\"field\":\"value\"},\"line_color\":\"#8b8b8b\",\"line_alpha\":0.1,\"line_width\":2}},\"muted_glyph\":{\"type\":\"object\",\"name\":\"Line\",\"id\":\"p1644\",\"attributes\":{\"tags\":[\"apply_ranges\"],\"x\":{\"type\":\"field\",\"field\":\"coin_id\"},\"y\":{\"type\":\"field\",\"field\":\"value\"},\"line_color\":\"#8b8b8b\",\"line_alpha\":0.2,\"line_width\":2}}}},{\"type\":\"object\",\"name\":\"GlyphRenderer\",\"id\":\"p1659\",\"attributes\":{\"name\":\"price_change_percentage_200d\",\"data_source\":{\"type\":\"object\",\"name\":\"ColumnDataSource\",\"id\":\"p1650\",\"attributes\":{\"selected\":{\"type\":\"object\",\"name\":\"Selection\",\"id\":\"p1651\",\"attributes\":{\"indices\":[],\"line_indices\":[]}},\"selection_policy\":{\"type\":\"object\",\"name\":\"UnionRenderers\",\"id\":\"p1652\"},\"data\":{\"type\":\"map\",\"entries\":[[\"coin_id\",[\"bitcoin\",\"ethereum\",\"tether\",\"ripple\",\"bitcoin-cash\",\"binancecoin\",\"chainlink\",\"cardano\",\"litecoin\",\"bitcoin-cash-sv\",\"crypto-com-chain\",\"usd-coin\",\"eos\",\"monero\",\"tron\",\"tezos\",\"okb\",\"stellar\",\"cosmos\",\"cdai\",\"neo\",\"wrapped-bitcoin\",\"leo-token\",\"huobi-token\",\"nem\",\"binance-usd\",\"iota\",\"vechain\",\"zcash\",\"theta-token\",\"dash\",\"ethereum-classic\",\"ethlend\",\"maker\",\"havven\",\"omisego\",\"celsius-degree-token\",\"ontology\",\"ftx-token\",\"true-usd\",\"digibyte\"]],[\"value\",{\"type\":\"ndarray\",\"array\":{\"type\":\"bytes\",\"data\":\"EOQHHPHH1r8PgYG0aaK9v0ye1m+fm+G/gPGdyBxU3b9eByN2gf3fvyoHycT7F8i/Of53EAvR2D+va8nlDqmwP18BHbb5Ht+/5U+Y0wMO4b8pgfrvGWqXvzA5WHeCnuG/ApfcnVdD4L8TPIuQS/TDvxJhlPb13M6/G+s4S9+/3L/PNflWHkTdvyiibbHlnda/e3VcUsMYvr9Z9l/R/aLhv6k4yIUlMce/mY06LTO51r8GBwd/4mLgv5wIsVtH7dy/i2sSwbY/qL9AM94nn5nhv6mqVR5GEdW/BcwoGgrAsz9PhEsRcPjQv5S7WmpBDPg/uyd0Urck4b8bGmt7fNXgv7xKbrCOhxJAMaoBqWft1r//g9exGMPsP40HM1Fo9ek/i3lRnuUwCUDNDFxNuQ/bv8Zq/w34p9q/gI7K5zWd4b9L73Cr01DiPw==\"},\"shape\":[41],\"dtype\":\"float64\",\"order\":\"little\"}],[\"Variable\",[\"price_change_percentage_200d\",\"price_change_percentage_200d\",\"price_change_percentage_200d\",\"price_change_percentage_200d\",\"price_change_percentage_200d\",\"price_change_percentage_200d\",\"price_change_percentage_200d\",\"price_change_percentage_200d\",\"price_change_percentage_200d\",\"price_change_percentage_200d\",\"price_change_percentage_200d\",\"price_change_percentage_200d\",\"price_change_percentage_200d\",\"price_change_percentage_200d\",\"price_change_percentage_200d\",\"price_change_percentage_200d\",\"price_change_percentage_200d\",\"price_change_percentage_200d\",\"price_change_percentage_200d\",\"price_change_percentage_200d\",\"price_change_percentage_200d\",\"price_change_percentage_200d\",\"price_change_percentage_200d\",\"price_change_percentage_200d\",\"price_change_percentage_200d\",\"price_change_percentage_200d\",\"price_change_percentage_200d\",\"price_change_percentage_200d\",\"price_change_percentage_200d\",\"price_change_percentage_200d\",\"price_change_percentage_200d\",\"price_change_percentage_200d\",\"price_change_percentage_200d\",\"price_change_percentage_200d\",\"price_change_percentage_200d\",\"price_change_percentage_200d\",\"price_change_percentage_200d\",\"price_change_percentage_200d\",\"price_change_percentage_200d\",\"price_change_percentage_200d\",\"price_change_percentage_200d\"]]]}}},\"view\":{\"type\":\"object\",\"name\":\"CDSView\",\"id\":\"p1660\",\"attributes\":{\"filter\":{\"type\":\"object\",\"name\":\"AllIndices\",\"id\":\"p1661\"}}},\"glyph\":{\"type\":\"object\",\"name\":\"Line\",\"id\":\"p1656\",\"attributes\":{\"tags\":[\"apply_ranges\"],\"x\":{\"type\":\"field\",\"field\":\"coin_id\"},\"y\":{\"type\":\"field\",\"field\":\"value\"},\"line_color\":\"#17becf\",\"line_width\":2}},\"selection_glyph\":{\"type\":\"object\",\"name\":\"Line\",\"id\":\"p1663\",\"attributes\":{\"tags\":[\"apply_ranges\"],\"x\":{\"type\":\"field\",\"field\":\"coin_id\"},\"y\":{\"type\":\"field\",\"field\":\"value\"},\"line_color\":\"#17becf\",\"line_width\":2}},\"nonselection_glyph\":{\"type\":\"object\",\"name\":\"Line\",\"id\":\"p1657\",\"attributes\":{\"tags\":[\"apply_ranges\"],\"x\":{\"type\":\"field\",\"field\":\"coin_id\"},\"y\":{\"type\":\"field\",\"field\":\"value\"},\"line_color\":\"#17becf\",\"line_alpha\":0.1,\"line_width\":2}},\"muted_glyph\":{\"type\":\"object\",\"name\":\"Line\",\"id\":\"p1658\",\"attributes\":{\"tags\":[\"apply_ranges\"],\"x\":{\"type\":\"field\",\"field\":\"coin_id\"},\"y\":{\"type\":\"field\",\"field\":\"value\"},\"line_color\":\"#17becf\",\"line_alpha\":0.2,\"line_width\":2}}}},{\"type\":\"object\",\"name\":\"GlyphRenderer\",\"id\":\"p1673\",\"attributes\":{\"name\":\"price_change_percentage_1y\",\"data_source\":{\"type\":\"object\",\"name\":\"ColumnDataSource\",\"id\":\"p1664\",\"attributes\":{\"selected\":{\"type\":\"object\",\"name\":\"Selection\",\"id\":\"p1665\",\"attributes\":{\"indices\":[],\"line_indices\":[]}},\"selection_policy\":{\"type\":\"object\",\"name\":\"UnionRenderers\",\"id\":\"p1666\"},\"data\":{\"type\":\"map\",\"entries\":[[\"coin_id\",[\"bitcoin\",\"ethereum\",\"tether\",\"ripple\",\"bitcoin-cash\",\"binancecoin\",\"chainlink\",\"cardano\",\"litecoin\",\"bitcoin-cash-sv\",\"crypto-com-chain\",\"usd-coin\",\"eos\",\"monero\",\"tron\",\"tezos\",\"okb\",\"stellar\",\"cosmos\",\"cdai\",\"neo\",\"wrapped-bitcoin\",\"leo-token\",\"huobi-token\",\"nem\",\"binance-usd\",\"iota\",\"vechain\",\"zcash\",\"theta-token\",\"dash\",\"ethereum-classic\",\"ethlend\",\"maker\",\"havven\",\"omisego\",\"celsius-degree-token\",\"ontology\",\"ftx-token\",\"true-usd\",\"digibyte\"]],[\"value\",{\"type\":\"ndarray\",\"array\":{\"type\":\"bytes\",\"data\":\"ZIOvlNEa0L8/RW61XoTJv9LW7YFHDdK/aJ0VXjrq0r8x6nx330zRv1Vc65xA3sy/MUz1RyW5kr9uGnoOFOXDv0KpUt3htdK/wPMdEihfyr9lh9T6L7Ohv1m3W4wXENK/137eTRD30r+H6xnpXXXFvxCVrMMs9M2/Y74Y/7SQxb8aTqSC/lzFv7zx0EUAVtG/vQghwWCLy7+vYtN8XRHSv+xuLrlveMa/xZEp/Zga0L+DJSoOWvbQv42S/rboxtC/PuRFHpuFvr+y90YIsAvSv0ARXhSEQtK/M6BkPEUTvr8bXF3JgH/Lvx0crWPUXdI/EKFv4Dku0r8VsZZ513nRv4M8maHAWhhAIdIwj+5/0b96+v3EhDHRP+fCFkPCaZa/OvTrj2iT9T9Y0yK6wrXSvxKiHMC8nsK/P3pCziMI0r/iEUnTKPXAvw==\"},\"shape\":[41],\"dtype\":\"float64\",\"order\":\"little\"}],[\"Variable\",[\"price_change_percentage_1y\",\"price_change_percentage_1y\",\"price_change_percentage_1y\",\"price_change_percentage_1y\",\"price_change_percentage_1y\",\"price_change_percentage_1y\",\"price_change_percentage_1y\",\"price_change_percentage_1y\",\"price_change_percentage_1y\",\"price_change_percentage_1y\",\"price_change_percentage_1y\",\"price_change_percentage_1y\",\"price_change_percentage_1y\",\"price_change_percentage_1y\",\"price_change_percentage_1y\",\"price_change_percentage_1y\",\"price_change_percentage_1y\",\"price_change_percentage_1y\",\"price_change_percentage_1y\",\"price_change_percentage_1y\",\"price_change_percentage_1y\",\"price_change_percentage_1y\",\"price_change_percentage_1y\",\"price_change_percentage_1y\",\"price_change_percentage_1y\",\"price_change_percentage_1y\",\"price_change_percentage_1y\",\"price_change_percentage_1y\",\"price_change_percentage_1y\",\"price_change_percentage_1y\",\"price_change_percentage_1y\",\"price_change_percentage_1y\",\"price_change_percentage_1y\",\"price_change_percentage_1y\",\"price_change_percentage_1y\",\"price_change_percentage_1y\",\"price_change_percentage_1y\",\"price_change_percentage_1y\",\"price_change_percentage_1y\",\"price_change_percentage_1y\",\"price_change_percentage_1y\"]]]}}},\"view\":{\"type\":\"object\",\"name\":\"CDSView\",\"id\":\"p1674\",\"attributes\":{\"filter\":{\"type\":\"object\",\"name\":\"AllIndices\",\"id\":\"p1675\"}}},\"glyph\":{\"type\":\"object\",\"name\":\"Line\",\"id\":\"p1670\",\"attributes\":{\"tags\":[\"apply_ranges\"],\"x\":{\"type\":\"field\",\"field\":\"coin_id\"},\"y\":{\"type\":\"field\",\"field\":\"value\"},\"line_color\":\"#9467bd\",\"line_width\":2}},\"selection_glyph\":{\"type\":\"object\",\"name\":\"Line\",\"id\":\"p1677\",\"attributes\":{\"tags\":[\"apply_ranges\"],\"x\":{\"type\":\"field\",\"field\":\"coin_id\"},\"y\":{\"type\":\"field\",\"field\":\"value\"},\"line_color\":\"#9467bd\",\"line_width\":2}},\"nonselection_glyph\":{\"type\":\"object\",\"name\":\"Line\",\"id\":\"p1671\",\"attributes\":{\"tags\":[\"apply_ranges\"],\"x\":{\"type\":\"field\",\"field\":\"coin_id\"},\"y\":{\"type\":\"field\",\"field\":\"value\"},\"line_color\":\"#9467bd\",\"line_alpha\":0.1,\"line_width\":2}},\"muted_glyph\":{\"type\":\"object\",\"name\":\"Line\",\"id\":\"p1672\",\"attributes\":{\"tags\":[\"apply_ranges\"],\"x\":{\"type\":\"field\",\"field\":\"coin_id\"},\"y\":{\"type\":\"field\",\"field\":\"value\"},\"line_color\":\"#9467bd\",\"line_alpha\":0.2,\"line_width\":2}}}}],\"toolbar\":{\"type\":\"object\",\"name\":\"Toolbar\",\"id\":\"p1557\",\"attributes\":{\"tools\":[{\"type\":\"object\",\"name\":\"WheelZoomTool\",\"id\":\"p1528\",\"attributes\":{\"tags\":[\"hv_created\"],\"renderers\":\"auto\",\"zoom_together\":\"none\"}},{\"type\":\"object\",\"name\":\"HoverTool\",\"id\":\"p1529\",\"attributes\":{\"tags\":[\"hv_created\"],\"renderers\":[{\"id\":\"p1588\"},{\"id\":\"p1603\"},{\"id\":\"p1617\"},{\"id\":\"p1631\"},{\"id\":\"p1645\"},{\"id\":\"p1659\"},{\"id\":\"p1673\"}],\"tooltips\":[[\"Variable\",\"@{Variable}\"],[\"coin_id\",\"@{coin_id}\"],[\"value\",\"@{value}\"]]}},{\"type\":\"object\",\"name\":\"SaveTool\",\"id\":\"p1570\"},{\"type\":\"object\",\"name\":\"PanTool\",\"id\":\"p1571\"},{\"type\":\"object\",\"name\":\"BoxZoomTool\",\"id\":\"p1572\",\"attributes\":{\"overlay\":{\"type\":\"object\",\"name\":\"BoxAnnotation\",\"id\":\"p1573\",\"attributes\":{\"syncable\":false,\"level\":\"overlay\",\"visible\":false,\"left\":{\"type\":\"number\",\"value\":\"nan\"},\"right\":{\"type\":\"number\",\"value\":\"nan\"},\"top\":{\"type\":\"number\",\"value\":\"nan\"},\"bottom\":{\"type\":\"number\",\"value\":\"nan\"},\"left_units\":\"canvas\",\"right_units\":\"canvas\",\"top_units\":\"canvas\",\"bottom_units\":\"canvas\",\"line_color\":\"black\",\"line_alpha\":1.0,\"line_width\":2,\"line_dash\":[4,4],\"fill_color\":\"lightgrey\",\"fill_alpha\":0.5}}}},{\"type\":\"object\",\"name\":\"ResetTool\",\"id\":\"p1578\"}],\"active_drag\":{\"id\":\"p1571\"},\"active_scroll\":{\"id\":\"p1528\"}}},\"left\":[{\"type\":\"object\",\"name\":\"LinearAxis\",\"id\":\"p1565\",\"attributes\":{\"ticker\":{\"type\":\"object\",\"name\":\"BasicTicker\",\"id\":\"p1566\",\"attributes\":{\"mantissas\":[1,2,5]}},\"formatter\":{\"type\":\"object\",\"name\":\"BasicTickFormatter\",\"id\":\"p1567\"},\"axis_label\":\"Price Change (%)\",\"axis_label_text_font_size\":\"12.0pt\",\"major_label_policy\":{\"type\":\"object\",\"name\":\"AllLabels\",\"id\":\"p1568\"},\"major_label_text_font_size\":\"10.0pt\"}}],\"right\":[{\"type\":\"object\",\"name\":\"Legend\",\"id\":\"p1591\",\"attributes\":{\"location\":[0,0],\"title\":\"Variable\",\"click_policy\":\"mute\",\"label_text_font_size\":\"10.0pt\",\"items\":[{\"type\":\"object\",\"name\":\"LegendItem\",\"id\":\"p1592\",\"attributes\":{\"label\":{\"type\":\"value\",\"value\":\"price_change_percentage_24h\"},\"renderers\":[{\"id\":\"p1588\"}]}},{\"type\":\"object\",\"name\":\"LegendItem\",\"id\":\"p1606\",\"attributes\":{\"label\":{\"type\":\"value\",\"value\":\"price_change_percentage_7d\"},\"renderers\":[{\"id\":\"p1603\"}]}},{\"type\":\"object\",\"name\":\"LegendItem\",\"id\":\"p1620\",\"attributes\":{\"label\":{\"type\":\"value\",\"value\":\"price_change_percentage_14d\"},\"renderers\":[{\"id\":\"p1617\"}]}},{\"type\":\"object\",\"name\":\"LegendItem\",\"id\":\"p1634\",\"attributes\":{\"label\":{\"type\":\"value\",\"value\":\"price_change_percentage_30d\"},\"renderers\":[{\"id\":\"p1631\"}]}},{\"type\":\"object\",\"name\":\"LegendItem\",\"id\":\"p1648\",\"attributes\":{\"label\":{\"type\":\"value\",\"value\":\"price_change_percentage_60d\"},\"renderers\":[{\"id\":\"p1645\"}]}},{\"type\":\"object\",\"name\":\"LegendItem\",\"id\":\"p1662\",\"attributes\":{\"label\":{\"type\":\"value\",\"value\":\"price_change_percentage_200d\"},\"renderers\":[{\"id\":\"p1659\"}]}},{\"type\":\"object\",\"name\":\"LegendItem\",\"id\":\"p1676\",\"attributes\":{\"label\":{\"type\":\"value\",\"value\":\"price_change_percentage_1y\"},\"renderers\":[{\"id\":\"p1673\"}]}}]}}],\"below\":[{\"type\":\"object\",\"name\":\"CategoricalAxis\",\"id\":\"p1560\",\"attributes\":{\"ticker\":{\"type\":\"object\",\"name\":\"CategoricalTicker\",\"id\":\"p1561\"},\"formatter\":{\"type\":\"object\",\"name\":\"CategoricalTickFormatter\",\"id\":\"p1562\"},\"axis_label\":\"Cryptocurrency\",\"axis_label_text_font_size\":\"12.0pt\",\"major_label_orientation\":1.5707963267948966,\"major_label_policy\":{\"type\":\"object\",\"name\":\"AllLabels\",\"id\":\"p1563\"},\"major_label_text_font_size\":\"10.0pt\",\"group_text_font_size\":\"10.0pt\"}}],\"center\":[{\"type\":\"object\",\"name\":\"Grid\",\"id\":\"p1564\",\"attributes\":{\"axis\":{\"id\":\"p1560\"},\"ticker\":{\"id\":\"p1561\"}}},{\"type\":\"object\",\"name\":\"Grid\",\"id\":\"p1569\",\"attributes\":{\"dimension\":1,\"axis\":{\"id\":\"p1565\"},\"ticker\":{\"id\":\"p1566\"}}}],\"min_border_top\":10,\"min_border_bottom\":10,\"min_border_left\":10,\"min_border_right\":10,\"output_backend\":\"webgl\"}},{\"type\":\"object\",\"name\":\"Spacer\",\"id\":\"p1679\",\"attributes\":{\"name\":\"HSpacer02265\",\"stylesheets\":[\"\\n:host(.pn-loading):before, .pn-loading:before {\\n  background-color: #c3c3c3;\\n  mask-size: auto calc(min(50%, 400px));\\n  -webkit-mask-size: auto calc(min(50%, 400px));\\n}\",{\"id\":\"p1521\"},{\"id\":\"p1519\"},{\"id\":\"p1520\"}],\"margin\":0,\"sizing_mode\":\"stretch_width\",\"align\":\"start\"}}]}}],\"defs\":[{\"type\":\"model\",\"name\":\"ReactiveHTML1\"},{\"type\":\"model\",\"name\":\"FlexBox1\",\"properties\":[{\"name\":\"align_content\",\"kind\":\"Any\",\"default\":\"flex-start\"},{\"name\":\"align_items\",\"kind\":\"Any\",\"default\":\"flex-start\"},{\"name\":\"flex_direction\",\"kind\":\"Any\",\"default\":\"row\"},{\"name\":\"flex_wrap\",\"kind\":\"Any\",\"default\":\"wrap\"},{\"name\":\"gap\",\"kind\":\"Any\",\"default\":\"\"},{\"name\":\"justify_content\",\"kind\":\"Any\",\"default\":\"flex-start\"}]},{\"type\":\"model\",\"name\":\"FloatPanel1\",\"properties\":[{\"name\":\"config\",\"kind\":\"Any\",\"default\":{\"type\":\"map\"}},{\"name\":\"contained\",\"kind\":\"Any\",\"default\":true},{\"name\":\"position\",\"kind\":\"Any\",\"default\":\"right-top\"},{\"name\":\"offsetx\",\"kind\":\"Any\",\"default\":null},{\"name\":\"offsety\",\"kind\":\"Any\",\"default\":null},{\"name\":\"theme\",\"kind\":\"Any\",\"default\":\"primary\"},{\"name\":\"status\",\"kind\":\"Any\",\"default\":\"normalized\"}]},{\"type\":\"model\",\"name\":\"GridStack1\",\"properties\":[{\"name\":\"mode\",\"kind\":\"Any\",\"default\":\"warn\"},{\"name\":\"ncols\",\"kind\":\"Any\",\"default\":null},{\"name\":\"nrows\",\"kind\":\"Any\",\"default\":null},{\"name\":\"allow_resize\",\"kind\":\"Any\",\"default\":true},{\"name\":\"allow_drag\",\"kind\":\"Any\",\"default\":true},{\"name\":\"state\",\"kind\":\"Any\",\"default\":[]}]},{\"type\":\"model\",\"name\":\"drag1\",\"properties\":[{\"name\":\"slider_width\",\"kind\":\"Any\",\"default\":5},{\"name\":\"slider_color\",\"kind\":\"Any\",\"default\":\"black\"},{\"name\":\"value\",\"kind\":\"Any\",\"default\":50}]},{\"type\":\"model\",\"name\":\"click1\",\"properties\":[{\"name\":\"terminal_output\",\"kind\":\"Any\",\"default\":\"\"},{\"name\":\"debug_name\",\"kind\":\"Any\",\"default\":\"\"},{\"name\":\"clears\",\"kind\":\"Any\",\"default\":0}]},{\"type\":\"model\",\"name\":\"FastWrapper1\",\"properties\":[{\"name\":\"object\",\"kind\":\"Any\",\"default\":null},{\"name\":\"style\",\"kind\":\"Any\",\"default\":null}]},{\"type\":\"model\",\"name\":\"NotificationAreaBase1\",\"properties\":[{\"name\":\"js_events\",\"kind\":\"Any\",\"default\":{\"type\":\"map\"}},{\"name\":\"position\",\"kind\":\"Any\",\"default\":\"bottom-right\"},{\"name\":\"_clear\",\"kind\":\"Any\",\"default\":0}]},{\"type\":\"model\",\"name\":\"NotificationArea1\",\"properties\":[{\"name\":\"js_events\",\"kind\":\"Any\",\"default\":{\"type\":\"map\"}},{\"name\":\"notifications\",\"kind\":\"Any\",\"default\":[]},{\"name\":\"position\",\"kind\":\"Any\",\"default\":\"bottom-right\"},{\"name\":\"_clear\",\"kind\":\"Any\",\"default\":0},{\"name\":\"types\",\"kind\":\"Any\",\"default\":[{\"type\":\"map\",\"entries\":[[\"type\",\"warning\"],[\"background\",\"#ffc107\"],[\"icon\",{\"type\":\"map\",\"entries\":[[\"className\",\"fas fa-exclamation-triangle\"],[\"tagName\",\"i\"],[\"color\",\"white\"]]}]]},{\"type\":\"map\",\"entries\":[[\"type\",\"info\"],[\"background\",\"#007bff\"],[\"icon\",{\"type\":\"map\",\"entries\":[[\"className\",\"fas fa-info-circle\"],[\"tagName\",\"i\"],[\"color\",\"white\"]]}]]}]}]},{\"type\":\"model\",\"name\":\"Notification\",\"properties\":[{\"name\":\"background\",\"kind\":\"Any\",\"default\":null},{\"name\":\"duration\",\"kind\":\"Any\",\"default\":3000},{\"name\":\"icon\",\"kind\":\"Any\",\"default\":null},{\"name\":\"message\",\"kind\":\"Any\",\"default\":\"\"},{\"name\":\"notification_type\",\"kind\":\"Any\",\"default\":null},{\"name\":\"_destroyed\",\"kind\":\"Any\",\"default\":false}]},{\"type\":\"model\",\"name\":\"TemplateActions1\",\"properties\":[{\"name\":\"open_modal\",\"kind\":\"Any\",\"default\":0},{\"name\":\"close_modal\",\"kind\":\"Any\",\"default\":0}]},{\"type\":\"model\",\"name\":\"BootstrapTemplateActions1\",\"properties\":[{\"name\":\"open_modal\",\"kind\":\"Any\",\"default\":0},{\"name\":\"close_modal\",\"kind\":\"Any\",\"default\":0}]},{\"type\":\"model\",\"name\":\"TemplateEditor1\",\"properties\":[{\"name\":\"layout\",\"kind\":\"Any\",\"default\":[]}]},{\"type\":\"model\",\"name\":\"MaterialTemplateActions1\",\"properties\":[{\"name\":\"open_modal\",\"kind\":\"Any\",\"default\":0},{\"name\":\"close_modal\",\"kind\":\"Any\",\"default\":0}]},{\"type\":\"model\",\"name\":\"copy_to_clipboard1\",\"properties\":[{\"name\":\"fill\",\"kind\":\"Any\",\"default\":\"none\"},{\"name\":\"value\",\"kind\":\"Any\",\"default\":null}]}]}};\n",
              "  var render_items = [{\"docid\":\"33669384-6787-466b-8b86-faaa04c717cd\",\"roots\":{\"p1518\":\"a40f7f32-621a-4895-9fea-961cdf560eb5\"},\"root_ids\":[\"p1518\"]}];\n",
              "  var docs = Object.values(docs_json)\n",
              "  if (!docs) {\n",
              "    return\n",
              "  }\n",
              "  const py_version = docs[0].version.replace('rc', '-rc.').replace('.dev', '-dev.')\n",
              "  function embed_document(root) {\n",
              "    var Bokeh = get_bokeh(root)\n",
              "    Bokeh.embed.embed_items_notebook(docs_json, render_items);\n",
              "    for (const render_item of render_items) {\n",
              "      for (const root_id of render_item.root_ids) {\n",
              "\tconst id_el = document.getElementById(root_id)\n",
              "\tif (id_el.children.length && (id_el.children[0].className === 'bk-root')) {\n",
              "\t  const root_el = id_el.children[0]\n",
              "\t  root_el.id = root_el.id + '-rendered'\n",
              "\t}\n",
              "      }\n",
              "    }\n",
              "  }\n",
              "  function get_bokeh(root) {\n",
              "    if (root.Bokeh === undefined) {\n",
              "      return null\n",
              "    } else if (root.Bokeh.version !== py_version) {\n",
              "      if (root.Bokeh.versions === undefined || !root.Bokeh.versions.has(py_version)) {\n",
              "\treturn null\n",
              "      }\n",
              "      return root.Bokeh.versions.get(py_version);\n",
              "    } else if (root.Bokeh.version === py_version) {\n",
              "      return root.Bokeh\n",
              "    }\n",
              "    return null\n",
              "  }\n",
              "  function is_loaded(root) {\n",
              "    var Bokeh = get_bokeh(root)\n",
              "    return (Bokeh != null && Bokeh.Panel !== undefined)\n",
              "  }\n",
              "  if (is_loaded(root)) {\n",
              "    embed_document(root);\n",
              "  } else {\n",
              "    var attempts = 0;\n",
              "    var timer = setInterval(function(root) {\n",
              "      if (is_loaded(root)) {\n",
              "        clearInterval(timer);\n",
              "        embed_document(root);\n",
              "      } else if (document.readyState == \"complete\") {\n",
              "        attempts++;\n",
              "        if (attempts > 200) {\n",
              "          clearInterval(timer);\n",
              "\t  var Bokeh = get_bokeh(root)\n",
              "\t  if (Bokeh == null || Bokeh.Panel == null) {\n",
              "            console.warn(\"Panel: ERROR: Unable to run Panel code because Bokeh or Panel library is missing\");\n",
              "\t  } else {\n",
              "\t    console.warn(\"Panel: WARNING: Attempting to render but not all required libraries could be resolved.\")\n",
              "\t    embed_document(root)\n",
              "\t  }\n",
              "        }\n",
              "      }\n",
              "    }, 25, root)\n",
              "  }\n",
              "})(window);</script>"
            ],
            "application/vnd.holoviews_exec.v0+json": "",
            "text/plain": [
              ":NdOverlay   [Variable]\n",
              "   :Curve   [coin_id]   (value)"
            ]
          },
          "metadata": {
            "application/vnd.holoviews_exec.v0+json": {
              "id": "p1518"
            }
          },
          "execution_count": 75
        }
      ],
      "source": [
        "hv.extension('bokeh')\n",
        "\n",
        "normalized_crypto_dataframe.hvplot.line \\\n",
        "    (title = '1.2.4: Normalized Cryptocurrency Price Change (%)',\n",
        "     xlabel = 'Cryptocurrency', ylabel = 'Price Change (%)',\n",
        "     fontsize = {'title': 16.0,\n",
        "                 'xlabel': 12.0,\n",
        "                 'ylabel': 12.0,\n",
        "                 'ticks': 10.0,\n",
        "                 'legend': 10.0},\n",
        "     height = 480, width = 960, rot = 90,\n",
        "     grid = True, legend = 'right')"
      ]
    },
    {
      "cell_type": "markdown",
      "id": "f62adf54",
      "metadata": {
        "id": "f62adf54"
      },
      "source": [
        "# <br> **Section 2: Find the Best Value for k Using the Original Data**"
      ]
    },
    {
      "cell_type": "markdown",
      "id": "61cf5923",
      "metadata": {
        "id": "61cf5923"
      },
      "source": [
        "## **2.1:  K-Means Methods**"
      ]
    },
    {
      "cell_type": "markdown",
      "id": "c2417615",
      "metadata": {
        "id": "c2417615"
      },
      "source": [
        "### **WCSS Elbow Method**"
      ]
    },
    {
      "cell_type": "code",
      "execution_count": null,
      "id": "7f43f360",
      "metadata": {
        "colab": {
          "base_uri": "https://localhost:8080/"
        },
        "id": "7f43f360",
        "outputId": "09c14d11-36a3-48c2-ddfd-7c6eec9316f9"
      },
      "outputs": [
        {
          "output_type": "stream",
          "name": "stdout",
          "text": [
            "\u001b[1mUsing the WCSS Elbow Method, the optimal value for k is 4.\u001b[0m\n"
          ]
        }
      ],
      "source": [
        "optimal_k_elbow_integer, inertia_elbow_series \\\n",
        "    = kmeans_analysisx.return_optimal_k_with_wcss_elbow(normalized_crypto_dataframe)\n",
        "\n",
        "logx.print_and_log_text \\\n",
        "    ('\\033[1m' + 'Using the WCSS Elbow Method, the optimal value for k is '\n",
        "     + '{:,}.'.format(optimal_k_elbow_integer) + '\\033[0m')"
      ]
    },
    {
      "cell_type": "markdown",
      "id": "cda1cd91",
      "metadata": {
        "id": "cda1cd91"
      },
      "source": [
        "### **Calinski-Harabasz Method**"
      ]
    },
    {
      "cell_type": "code",
      "execution_count": null,
      "id": "f30a7074",
      "metadata": {
        "colab": {
          "base_uri": "https://localhost:8080/"
        },
        "id": "f30a7074",
        "outputId": "cb8a6832-64af-4858-e4f1-b7df4c654b05"
      },
      "outputs": [
        {
          "output_type": "stream",
          "name": "stdout",
          "text": [
            "\u001b[1mUsing the Calinski-Harabasz Method, the optimal value for k is 4.\u001b[0m\n"
          ]
        }
      ],
      "source": [
        "optimal_k_calinski_harabasz_integer, inertia_calinski_harabasz_series \\\n",
        "    = kmeans_analysisx.return_optimal_k_with_calinski_harabasz(normalized_crypto_dataframe)\n",
        "\n",
        "logx.print_and_log_text \\\n",
        "    ('\\033[1m' + 'Using the Calinski-Harabasz Method, the optimal value for k is '\n",
        "     + '{:,}.'.format(optimal_k_calinski_harabasz_integer) + '\\033[0m')"
      ]
    },
    {
      "cell_type": "markdown",
      "id": "d1cb1431",
      "metadata": {
        "id": "d1cb1431"
      },
      "source": [
        "### **Silhouette method**"
      ]
    },
    {
      "cell_type": "code",
      "execution_count": null,
      "id": "bf1d2ed7",
      "metadata": {
        "colab": {
          "base_uri": "https://localhost:8080/"
        },
        "id": "bf1d2ed7",
        "outputId": "7174edfb-0f7d-4c8b-c85c-57c0010fb7d1"
      },
      "outputs": [
        {
          "output_type": "stream",
          "name": "stdout",
          "text": [
            "\u001b[1mUsing the Silhouette Method, the optimal value for k is 3.\u001b[0m\n"
          ]
        }
      ],
      "source": [
        "optimal_k_silhouette_integer, inertia_silhouette_series \\\n",
        "    = kmeans_analysisx.return_optimal_k_with_silhouette(normalized_crypto_dataframe)\n",
        "\n",
        "logx.print_and_log_text \\\n",
        "    ('\\033[1m' + 'Using the Silhouette Method, the optimal value for k is '\n",
        "     + '{:,}.'.format(optimal_k_silhouette_integer) + '\\033[0m')"
      ]
    },
    {
      "cell_type": "markdown",
      "id": "21dabe52",
      "metadata": {
        "id": "21dabe52"
      },
      "source": [
        "### **Davies-Bouldin Method**"
      ]
    },
    {
      "cell_type": "code",
      "execution_count": null,
      "id": "7adcdadf",
      "metadata": {
        "colab": {
          "base_uri": "https://localhost:8080/"
        },
        "id": "7adcdadf",
        "outputId": "02f96265-6cbb-4325-c1d5-e10392dc09af"
      },
      "outputs": [
        {
          "output_type": "stream",
          "name": "stdout",
          "text": [
            "\u001b[1mUsing the Davies-Bouldin Method, the optimal value for k is 2.\u001b[0m\n"
          ]
        }
      ],
      "source": [
        "optimal_k_davies_bouldin_integer, inertia_davies_bouldin_series \\\n",
        "    = kmeans_analysisx.return_optimal_k_with_davies_bouldin(normalized_crypto_dataframe)\n",
        "\n",
        "logx.print_and_log_text \\\n",
        "    ('\\033[1m' + 'Using the Davies-Bouldin Method, the optimal value for k is '\n",
        "     + '{:,}.'.format(optimal_k_davies_bouldin_integer) + '\\033[0m')"
      ]
    },
    {
      "cell_type": "markdown",
      "id": "d6cf3467",
      "metadata": {
        "id": "d6cf3467"
      },
      "source": [
        "## **2.2: Display K-Means Method Plots**"
      ]
    },
    {
      "cell_type": "code",
      "execution_count": null,
      "id": "b168c8a6",
      "metadata": {
        "colab": {
          "base_uri": "https://localhost:8080/",
          "height": 1000
        },
        "id": "b168c8a6",
        "outputId": "11d14c2f-136f-4fe1-c404-2cd50f54215d"
      },
      "outputs": [
        {
          "output_type": "display_data",
          "data": {
            "text/html": [
              "<html>\n",
              "<head><meta charset=\"utf-8\" /></head>\n",
              "<body>\n",
              "    <div>            <script src=\"https://cdnjs.cloudflare.com/ajax/libs/mathjax/2.7.5/MathJax.js?config=TeX-AMS-MML_SVG\"></script><script type=\"text/javascript\">if (window.MathJax && window.MathJax.Hub && window.MathJax.Hub.Config) {window.MathJax.Hub.Config({SVG: {font: \"STIX-Web\"}});}</script>                <script type=\"text/javascript\">window.PlotlyConfig = {MathJaxConfig: 'local'};</script>\n",
              "        <script charset=\"utf-8\" src=\"https://cdn.plot.ly/plotly-2.31.1.min.js\"></script>                <div id=\"7d1a8349-da8c-470c-a9f4-e5b7a68ad2e3\" class=\"plotly-graph-div\" style=\"height:1000px; width:1000px;\"></div>            <script type=\"text/javascript\">                                    window.PLOTLYENV=window.PLOTLYENV || {};                                    if (document.getElementById(\"7d1a8349-da8c-470c-a9f4-e5b7a68ad2e3\")) {                    Plotly.newPlot(                        \"7d1a8349-da8c-470c-a9f4-e5b7a68ad2e3\",                        [{\"line\":{\"color\":\"firebrick\"},\"mode\":\"lines\",\"x\":[2,3,4,5,6,7,8,9,10],\"y\":[195.82021818036043,123.19048183836958,79.02243535120977,63.85866780584264,52.82502273293216,43.12850833066568,36.580834826847706,32.12483499249399,27.899453621081808],\"type\":\"scatter\",\"xaxis\":\"x\",\"yaxis\":\"y\"},{\"hovertemplate\":\"Number of K-Clusters: \\u003cb\\u003e%{x}\\u003c\\u002fb\\u003e\\u003cbr\\u003eScore: \\u003cb\\u003e%{y}\\u003c\\u002fb\\u003e\\u003cbr\\u003e\\u003cextra\\u003e\\u003c\\u002fextra\\u003e\",\"marker\":{\"color\":\"darkblue\",\"size\":10},\"mode\":\"markers\",\"x\":[2,3,4,5,6,7,8,9,10],\"y\":[195.82021818036043,123.19048183836958,79.02243535120977,63.85866780584264,52.82502273293216,43.12850833066568,36.580834826847706,32.12483499249399,27.899453621081808],\"type\":\"scatter\",\"xaxis\":\"x\",\"yaxis\":\"y\"},{\"line\":{\"color\":\"green\"},\"mode\":\"lines\",\"x\":[2,3,4,5,6,7,8,9,10],\"y\":[18.159572714246874,25.264783436390285,32.45985294262568,31.448698489191976,31.03121884408674,32.04234290223051,32.272295002209994,31.73559211333636,31.988348218153373],\"type\":\"scatter\",\"xaxis\":\"x2\",\"yaxis\":\"y2\"},{\"hovertemplate\":\"Number of K-Clusters: \\u003cb\\u003e%{x}\\u003c\\u002fb\\u003e\\u003cbr\\u003eScore: \\u003cb\\u003e%{y}\\u003c\\u002fb\\u003e\\u003cbr\\u003e\\u003cextra\\u003e\\u003c\\u002fextra\\u003e\",\"marker\":{\"color\":\"darkblue\",\"size\":10},\"mode\":\"markers\",\"x\":[2,3,4,5,6,7,8,9,10],\"y\":[18.159572714246874,25.264783436390285,32.45985294262568,31.448698489191976,31.03121884408674,32.04234290223051,32.272295002209994,31.73559211333636,31.988348218153373],\"type\":\"scatter\",\"xaxis\":\"x2\",\"yaxis\":\"y2\"},{\"line\":{\"color\":\"orange\"},\"mode\":\"lines\",\"x\":[2,3,4,5,6,7,8,9,10],\"y\":[0.6515760174981735,0.7028216700527808,0.3144817438146229,0.3290233762453979,0.29066026666132294,0.2739458905063235,0.21918165469178405,0.22200818395890898,0.2208850513040557],\"type\":\"scatter\",\"xaxis\":\"x3\",\"yaxis\":\"y3\"},{\"hovertemplate\":\"Number of K-Clusters: \\u003cb\\u003e%{x}\\u003c\\u002fb\\u003e\\u003cbr\\u003eScore: \\u003cb\\u003e%{y}\\u003c\\u002fb\\u003e\\u003cbr\\u003e\\u003cextra\\u003e\\u003c\\u002fextra\\u003e\",\"marker\":{\"color\":\"darkblue\",\"size\":10},\"mode\":\"markers\",\"x\":[2,3,4,5,6,7,8,9,10],\"y\":[0.6515760174981735,0.7028216700527808,0.3144817438146229,0.3290233762453979,0.29066026666132294,0.2739458905063235,0.21918165469178405,0.22200818395890898,0.2208850513040557],\"type\":\"scatter\",\"xaxis\":\"x3\",\"yaxis\":\"y3\"},{\"line\":{\"color\":\"lightsteelblue\"},\"mode\":\"lines\",\"x\":[2,3,4,5,6,7,8,9,10],\"y\":[1.1689917366559395,0.17101084286919566,0.6064659192451635,0.8076522514108252,0.831185987048698,0.7468345644389031,0.7271757239014024,0.6700874553989322,0.6983266632161164],\"type\":\"scatter\",\"xaxis\":\"x4\",\"yaxis\":\"y4\"},{\"hovertemplate\":\"Number of K-Clusters: \\u003cb\\u003e%{x}\\u003c\\u002fb\\u003e\\u003cbr\\u003eScore: \\u003cb\\u003e%{y}\\u003c\\u002fb\\u003e\\u003cbr\\u003e\\u003cextra\\u003e\\u003c\\u002fextra\\u003e\",\"marker\":{\"color\":\"darkblue\",\"size\":10},\"mode\":\"markers\",\"x\":[2,3,4,5,6,7,8,9,10],\"y\":[1.1689917366559395,0.17101084286919566,0.6064659192451635,0.8076522514108252,0.831185987048698,0.7468345644389031,0.7271757239014024,0.6700874553989322,0.6983266632161164],\"type\":\"scatter\",\"xaxis\":\"x4\",\"yaxis\":\"y4\"}],                        {\"template\":{\"data\":{\"histogram2dcontour\":[{\"type\":\"histogram2dcontour\",\"colorbar\":{\"outlinewidth\":0,\"ticks\":\"\"},\"colorscale\":[[0.0,\"#0d0887\"],[0.1111111111111111,\"#46039f\"],[0.2222222222222222,\"#7201a8\"],[0.3333333333333333,\"#9c179e\"],[0.4444444444444444,\"#bd3786\"],[0.5555555555555556,\"#d8576b\"],[0.6666666666666666,\"#ed7953\"],[0.7777777777777778,\"#fb9f3a\"],[0.8888888888888888,\"#fdca26\"],[1.0,\"#f0f921\"]]}],\"choropleth\":[{\"type\":\"choropleth\",\"colorbar\":{\"outlinewidth\":0,\"ticks\":\"\"}}],\"histogram2d\":[{\"type\":\"histogram2d\",\"colorbar\":{\"outlinewidth\":0,\"ticks\":\"\"},\"colorscale\":[[0.0,\"#0d0887\"],[0.1111111111111111,\"#46039f\"],[0.2222222222222222,\"#7201a8\"],[0.3333333333333333,\"#9c179e\"],[0.4444444444444444,\"#bd3786\"],[0.5555555555555556,\"#d8576b\"],[0.6666666666666666,\"#ed7953\"],[0.7777777777777778,\"#fb9f3a\"],[0.8888888888888888,\"#fdca26\"],[1.0,\"#f0f921\"]]}],\"heatmap\":[{\"type\":\"heatmap\",\"colorbar\":{\"outlinewidth\":0,\"ticks\":\"\"},\"colorscale\":[[0.0,\"#0d0887\"],[0.1111111111111111,\"#46039f\"],[0.2222222222222222,\"#7201a8\"],[0.3333333333333333,\"#9c179e\"],[0.4444444444444444,\"#bd3786\"],[0.5555555555555556,\"#d8576b\"],[0.6666666666666666,\"#ed7953\"],[0.7777777777777778,\"#fb9f3a\"],[0.8888888888888888,\"#fdca26\"],[1.0,\"#f0f921\"]]}],\"heatmapgl\":[{\"type\":\"heatmapgl\",\"colorbar\":{\"outlinewidth\":0,\"ticks\":\"\"},\"colorscale\":[[0.0,\"#0d0887\"],[0.1111111111111111,\"#46039f\"],[0.2222222222222222,\"#7201a8\"],[0.3333333333333333,\"#9c179e\"],[0.4444444444444444,\"#bd3786\"],[0.5555555555555556,\"#d8576b\"],[0.6666666666666666,\"#ed7953\"],[0.7777777777777778,\"#fb9f3a\"],[0.8888888888888888,\"#fdca26\"],[1.0,\"#f0f921\"]]}],\"contourcarpet\":[{\"type\":\"contourcarpet\",\"colorbar\":{\"outlinewidth\":0,\"ticks\":\"\"}}],\"contour\":[{\"type\":\"contour\",\"colorbar\":{\"outlinewidth\":0,\"ticks\":\"\"},\"colorscale\":[[0.0,\"#0d0887\"],[0.1111111111111111,\"#46039f\"],[0.2222222222222222,\"#7201a8\"],[0.3333333333333333,\"#9c179e\"],[0.4444444444444444,\"#bd3786\"],[0.5555555555555556,\"#d8576b\"],[0.6666666666666666,\"#ed7953\"],[0.7777777777777778,\"#fb9f3a\"],[0.8888888888888888,\"#fdca26\"],[1.0,\"#f0f921\"]]}],\"surface\":[{\"type\":\"surface\",\"colorbar\":{\"outlinewidth\":0,\"ticks\":\"\"},\"colorscale\":[[0.0,\"#0d0887\"],[0.1111111111111111,\"#46039f\"],[0.2222222222222222,\"#7201a8\"],[0.3333333333333333,\"#9c179e\"],[0.4444444444444444,\"#bd3786\"],[0.5555555555555556,\"#d8576b\"],[0.6666666666666666,\"#ed7953\"],[0.7777777777777778,\"#fb9f3a\"],[0.8888888888888888,\"#fdca26\"],[1.0,\"#f0f921\"]]}],\"mesh3d\":[{\"type\":\"mesh3d\",\"colorbar\":{\"outlinewidth\":0,\"ticks\":\"\"}}],\"scatter\":[{\"fillpattern\":{\"fillmode\":\"overlay\",\"size\":10,\"solidity\":0.2},\"type\":\"scatter\"}],\"parcoords\":[{\"type\":\"parcoords\",\"line\":{\"colorbar\":{\"outlinewidth\":0,\"ticks\":\"\"}}}],\"scatterpolargl\":[{\"type\":\"scatterpolargl\",\"marker\":{\"colorbar\":{\"outlinewidth\":0,\"ticks\":\"\"}}}],\"bar\":[{\"error_x\":{\"color\":\"#2a3f5f\"},\"error_y\":{\"color\":\"#2a3f5f\"},\"marker\":{\"line\":{\"color\":\"#E5ECF6\",\"width\":0.5},\"pattern\":{\"fillmode\":\"overlay\",\"size\":10,\"solidity\":0.2}},\"type\":\"bar\"}],\"scattergeo\":[{\"type\":\"scattergeo\",\"marker\":{\"colorbar\":{\"outlinewidth\":0,\"ticks\":\"\"}}}],\"scatterpolar\":[{\"type\":\"scatterpolar\",\"marker\":{\"colorbar\":{\"outlinewidth\":0,\"ticks\":\"\"}}}],\"histogram\":[{\"marker\":{\"pattern\":{\"fillmode\":\"overlay\",\"size\":10,\"solidity\":0.2}},\"type\":\"histogram\"}],\"scattergl\":[{\"type\":\"scattergl\",\"marker\":{\"colorbar\":{\"outlinewidth\":0,\"ticks\":\"\"}}}],\"scatter3d\":[{\"type\":\"scatter3d\",\"line\":{\"colorbar\":{\"outlinewidth\":0,\"ticks\":\"\"}},\"marker\":{\"colorbar\":{\"outlinewidth\":0,\"ticks\":\"\"}}}],\"scattermapbox\":[{\"type\":\"scattermapbox\",\"marker\":{\"colorbar\":{\"outlinewidth\":0,\"ticks\":\"\"}}}],\"scatterternary\":[{\"type\":\"scatterternary\",\"marker\":{\"colorbar\":{\"outlinewidth\":0,\"ticks\":\"\"}}}],\"scattercarpet\":[{\"type\":\"scattercarpet\",\"marker\":{\"colorbar\":{\"outlinewidth\":0,\"ticks\":\"\"}}}],\"carpet\":[{\"aaxis\":{\"endlinecolor\":\"#2a3f5f\",\"gridcolor\":\"white\",\"linecolor\":\"white\",\"minorgridcolor\":\"white\",\"startlinecolor\":\"#2a3f5f\"},\"baxis\":{\"endlinecolor\":\"#2a3f5f\",\"gridcolor\":\"white\",\"linecolor\":\"white\",\"minorgridcolor\":\"white\",\"startlinecolor\":\"#2a3f5f\"},\"type\":\"carpet\"}],\"table\":[{\"cells\":{\"fill\":{\"color\":\"#EBF0F8\"},\"line\":{\"color\":\"white\"}},\"header\":{\"fill\":{\"color\":\"#C8D4E3\"},\"line\":{\"color\":\"white\"}},\"type\":\"table\"}],\"barpolar\":[{\"marker\":{\"line\":{\"color\":\"#E5ECF6\",\"width\":0.5},\"pattern\":{\"fillmode\":\"overlay\",\"size\":10,\"solidity\":0.2}},\"type\":\"barpolar\"}],\"pie\":[{\"automargin\":true,\"type\":\"pie\"}]},\"layout\":{\"autotypenumbers\":\"strict\",\"colorway\":[\"#636efa\",\"#EF553B\",\"#00cc96\",\"#ab63fa\",\"#FFA15A\",\"#19d3f3\",\"#FF6692\",\"#B6E880\",\"#FF97FF\",\"#FECB52\"],\"font\":{\"color\":\"#2a3f5f\"},\"hovermode\":\"closest\",\"hoverlabel\":{\"align\":\"left\"},\"paper_bgcolor\":\"white\",\"plot_bgcolor\":\"#E5ECF6\",\"polar\":{\"bgcolor\":\"#E5ECF6\",\"angularaxis\":{\"gridcolor\":\"white\",\"linecolor\":\"white\",\"ticks\":\"\"},\"radialaxis\":{\"gridcolor\":\"white\",\"linecolor\":\"white\",\"ticks\":\"\"}},\"ternary\":{\"bgcolor\":\"#E5ECF6\",\"aaxis\":{\"gridcolor\":\"white\",\"linecolor\":\"white\",\"ticks\":\"\"},\"baxis\":{\"gridcolor\":\"white\",\"linecolor\":\"white\",\"ticks\":\"\"},\"caxis\":{\"gridcolor\":\"white\",\"linecolor\":\"white\",\"ticks\":\"\"}},\"coloraxis\":{\"colorbar\":{\"outlinewidth\":0,\"ticks\":\"\"}},\"colorscale\":{\"sequential\":[[0.0,\"#0d0887\"],[0.1111111111111111,\"#46039f\"],[0.2222222222222222,\"#7201a8\"],[0.3333333333333333,\"#9c179e\"],[0.4444444444444444,\"#bd3786\"],[0.5555555555555556,\"#d8576b\"],[0.6666666666666666,\"#ed7953\"],[0.7777777777777778,\"#fb9f3a\"],[0.8888888888888888,\"#fdca26\"],[1.0,\"#f0f921\"]],\"sequentialminus\":[[0.0,\"#0d0887\"],[0.1111111111111111,\"#46039f\"],[0.2222222222222222,\"#7201a8\"],[0.3333333333333333,\"#9c179e\"],[0.4444444444444444,\"#bd3786\"],[0.5555555555555556,\"#d8576b\"],[0.6666666666666666,\"#ed7953\"],[0.7777777777777778,\"#fb9f3a\"],[0.8888888888888888,\"#fdca26\"],[1.0,\"#f0f921\"]],\"diverging\":[[0,\"#8e0152\"],[0.1,\"#c51b7d\"],[0.2,\"#de77ae\"],[0.3,\"#f1b6da\"],[0.4,\"#fde0ef\"],[0.5,\"#f7f7f7\"],[0.6,\"#e6f5d0\"],[0.7,\"#b8e186\"],[0.8,\"#7fbc41\"],[0.9,\"#4d9221\"],[1,\"#276419\"]]},\"xaxis\":{\"gridcolor\":\"white\",\"linecolor\":\"white\",\"ticks\":\"\",\"title\":{\"standoff\":15},\"zerolinecolor\":\"white\",\"automargin\":true,\"zerolinewidth\":2},\"yaxis\":{\"gridcolor\":\"white\",\"linecolor\":\"white\",\"ticks\":\"\",\"title\":{\"standoff\":15},\"zerolinecolor\":\"white\",\"automargin\":true,\"zerolinewidth\":2},\"scene\":{\"xaxis\":{\"backgroundcolor\":\"#E5ECF6\",\"gridcolor\":\"white\",\"linecolor\":\"white\",\"showbackground\":true,\"ticks\":\"\",\"zerolinecolor\":\"white\",\"gridwidth\":2},\"yaxis\":{\"backgroundcolor\":\"#E5ECF6\",\"gridcolor\":\"white\",\"linecolor\":\"white\",\"showbackground\":true,\"ticks\":\"\",\"zerolinecolor\":\"white\",\"gridwidth\":2},\"zaxis\":{\"backgroundcolor\":\"#E5ECF6\",\"gridcolor\":\"white\",\"linecolor\":\"white\",\"showbackground\":true,\"ticks\":\"\",\"zerolinecolor\":\"white\",\"gridwidth\":2}},\"shapedefaults\":{\"line\":{\"color\":\"#2a3f5f\"}},\"annotationdefaults\":{\"arrowcolor\":\"#2a3f5f\",\"arrowhead\":0,\"arrowwidth\":1},\"geo\":{\"bgcolor\":\"white\",\"landcolor\":\"#E5ECF6\",\"subunitcolor\":\"white\",\"showland\":true,\"showlakes\":true,\"lakecolor\":\"white\"},\"title\":{\"x\":0.05},\"mapbox\":{\"style\":\"light\"}}},\"xaxis\":{\"anchor\":\"y\",\"domain\":[0.0,0.44],\"tickfont\":{\"color\":\"black\",\"family\":\"garamond\",\"size\":14.0},\"tick0\":1.0,\"dtick\":1.0,\"tickmode\":\"linear\",\"linecolor\":\"black\",\"linewidth\":2.0,\"mirror\":true,\"showline\":true},\"yaxis\":{\"anchor\":\"x\",\"domain\":[0.56,1.0],\"tickfont\":{\"color\":\"black\",\"family\":\"garamond\",\"size\":14.0},\"linecolor\":\"black\",\"linewidth\":2.0,\"mirror\":true,\"showline\":true,\"title\":{\"font\":{\"color\":\"black\",\"family\":\"garamond\",\"size\":18.0},\"text\":\"Score\"}},\"xaxis2\":{\"anchor\":\"y2\",\"domain\":[0.56,1.0],\"tickfont\":{\"color\":\"black\",\"family\":\"garamond\",\"size\":14.0},\"tick0\":1.0,\"dtick\":1.0,\"tickmode\":\"linear\",\"linecolor\":\"black\",\"linewidth\":2.0,\"mirror\":true,\"showline\":true},\"yaxis2\":{\"anchor\":\"x2\",\"domain\":[0.56,1.0],\"tickfont\":{\"color\":\"black\",\"family\":\"garamond\",\"size\":14.0},\"linecolor\":\"black\",\"linewidth\":2.0,\"mirror\":true,\"showline\":true},\"xaxis3\":{\"anchor\":\"y3\",\"domain\":[0.0,0.44],\"tickfont\":{\"color\":\"black\",\"family\":\"garamond\",\"size\":14.0},\"tick0\":1.0,\"dtick\":1.0,\"tickmode\":\"linear\",\"linecolor\":\"black\",\"linewidth\":2.0,\"mirror\":true,\"showline\":true,\"title\":{\"font\":{\"color\":\"black\",\"family\":\"garamond\",\"size\":18.0},\"text\":\"Number of K-Clusters\"}},\"yaxis3\":{\"anchor\":\"x3\",\"domain\":[0.0,0.44],\"tickfont\":{\"color\":\"black\",\"family\":\"garamond\",\"size\":14.0},\"linecolor\":\"black\",\"linewidth\":2.0,\"mirror\":true,\"showline\":true,\"title\":{\"font\":{\"color\":\"black\",\"family\":\"garamond\",\"size\":18.0},\"text\":\"Score\"}},\"xaxis4\":{\"anchor\":\"y4\",\"domain\":[0.56,1.0],\"tickfont\":{\"color\":\"black\",\"family\":\"garamond\",\"size\":14.0},\"tick0\":1.0,\"dtick\":1.0,\"tickmode\":\"linear\",\"linecolor\":\"black\",\"linewidth\":2.0,\"mirror\":true,\"showline\":true,\"title\":{\"font\":{\"color\":\"black\",\"family\":\"garamond\",\"size\":18.0},\"text\":\"Number of K-Clusters\"}},\"yaxis4\":{\"anchor\":\"x4\",\"domain\":[0.0,0.44],\"tickfont\":{\"color\":\"black\",\"family\":\"garamond\",\"size\":14.0},\"linecolor\":\"black\",\"linewidth\":2.0,\"mirror\":true,\"showline\":true},\"annotations\":[{\"font\":{\"color\":\"black\",\"family\":\"garamond\",\"size\":20.0},\"showarrow\":false,\"text\":\"WCSS Elbow\",\"x\":0.22,\"xanchor\":\"center\",\"xref\":\"paper\",\"y\":1.0,\"yanchor\":\"bottom\",\"yref\":\"paper\",\"yshift\":10.0},{\"font\":{\"color\":\"black\",\"family\":\"garamond\",\"size\":20.0},\"showarrow\":false,\"text\":\"Calinski Harabasz\",\"x\":0.78,\"xanchor\":\"center\",\"xref\":\"paper\",\"y\":1.0,\"yanchor\":\"bottom\",\"yref\":\"paper\",\"yshift\":10.0},{\"font\":{\"color\":\"black\",\"family\":\"garamond\",\"size\":20.0},\"showarrow\":false,\"text\":\"Silhouette\",\"x\":0.22,\"xanchor\":\"center\",\"xref\":\"paper\",\"y\":0.44,\"yanchor\":\"bottom\",\"yref\":\"paper\",\"yshift\":10.0},{\"font\":{\"color\":\"black\",\"family\":\"garamond\",\"size\":20.0},\"showarrow\":false,\"text\":\"Davies Bouldin\",\"x\":0.78,\"xanchor\":\"center\",\"xref\":\"paper\",\"y\":0.44,\"yanchor\":\"bottom\",\"yref\":\"paper\",\"yshift\":10.0}],\"shapes\":[{\"line\":{\"color\":\"black\",\"dash\":\"dash\",\"width\":2.0},\"type\":\"line\",\"x0\":4,\"x1\":4,\"xref\":\"x\",\"y0\":0,\"y1\":1,\"yref\":\"y domain\"},{\"line\":{\"color\":\"black\",\"dash\":\"dash\",\"width\":2.0},\"type\":\"line\",\"x0\":4,\"x1\":4,\"xref\":\"x2\",\"y0\":0,\"y1\":1,\"yref\":\"y2 domain\"},{\"line\":{\"color\":\"black\",\"dash\":\"dash\",\"width\":2.0},\"type\":\"line\",\"x0\":3,\"x1\":3,\"xref\":\"x3\",\"y0\":0,\"y1\":1,\"yref\":\"y3 domain\"},{\"line\":{\"color\":\"black\",\"dash\":\"dash\",\"width\":2.0},\"type\":\"line\",\"x0\":2,\"x1\":2,\"xref\":\"x4\",\"y0\":0,\"y1\":1,\"yref\":\"y4 domain\"}],\"title\":{\"font\":{\"color\":\"black\",\"family\":\"garamond\",\"size\":24.0},\"text\":\"2.2.1: K-Means Methods Line Plots\"},\"height\":1000,\"width\":1000,\"showlegend\":false},                        {\"responsive\": true}                    ).then(function(){\n",
              "                            \n",
              "var gd = document.getElementById('7d1a8349-da8c-470c-a9f4-e5b7a68ad2e3');\n",
              "var x = new MutationObserver(function (mutations, observer) {{\n",
              "        var display = window.getComputedStyle(gd).display;\n",
              "        if (!display || display === 'none') {{\n",
              "            console.log([gd, 'removed!']);\n",
              "            Plotly.purge(gd);\n",
              "            observer.disconnect();\n",
              "        }}\n",
              "}});\n",
              "\n",
              "// Listen for the removal of the full notebook cells\n",
              "var notebookContainer = gd.closest('#notebook-container');\n",
              "if (notebookContainer) {{\n",
              "    x.observe(notebookContainer, {childList: true});\n",
              "}}\n",
              "\n",
              "// Listen for the clearing of the current output cell\n",
              "var outputEl = gd.closest('.output');\n",
              "if (outputEl) {{\n",
              "    x.observe(outputEl, {childList: true});\n",
              "}}\n",
              "\n",
              "                        })                };                            </script>        </div>\n",
              "</body>\n",
              "</html>"
            ]
          },
          "metadata": {}
        }
      ],
      "source": [
        "inertia_series_list \\\n",
        "    = [inertia_elbow_series,\n",
        "       inertia_calinski_harabasz_series,\n",
        "       inertia_silhouette_series,\n",
        "       inertia_davies_bouldin_series]\n",
        "\n",
        "optimal_k_integer_list \\\n",
        "    = [optimal_k_elbow_integer,\n",
        "       optimal_k_calinski_harabasz_integer,\n",
        "       optimal_k_silhouette_integer,\n",
        "       optimal_k_davies_bouldin_integer]\n",
        "\n",
        "kmeans_analysisx.return_cluster_plots \\\n",
        "    (optimal_k_integer_list, inertia_series_list, colors_string_list, '2.2.1: K-Means Methods Line Plots')"
      ]
    },
    {
      "cell_type": "markdown",
      "id": "38aec4ac",
      "metadata": {
        "id": "38aec4ac"
      },
      "source": [
        "### Answer the following question:\n",
        "\n",
        "**Question:** What is the best value for `k`?\n",
        "\n",
        "**Answer:** Although both k=3 and k=4 are possible answers, the cluster predictions from the WCSS Elbow Method point to k=4 being the best value for `k`."
      ]
    },
    {
      "cell_type": "markdown",
      "id": "80893722",
      "metadata": {
        "id": "80893722"
      },
      "source": [
        "# <br> **Section 3: Cryptocurrencies with K-means Clusters**"
      ]
    },
    {
      "cell_type": "markdown",
      "id": "9b123d51",
      "metadata": {
        "id": "9b123d51"
      },
      "source": [
        "## **3.1: Predict the Cryptocurrency Clusters**"
      ]
    },
    {
      "cell_type": "markdown",
      "id": "479e0bf5",
      "metadata": {
        "id": "479e0bf5"
      },
      "source": [
        "### **Calculations**"
      ]
    },
    {
      "cell_type": "code",
      "execution_count": null,
      "id": "71430a3e",
      "metadata": {
        "id": "71430a3e"
      },
      "outputs": [],
      "source": [
        "predictions_integer_list_list \\\n",
        "    = kmeans_analysisx.return_cluster_predictions(normalized_crypto_dataframe, [2, 3, 4])"
      ]
    },
    {
      "cell_type": "markdown",
      "id": "132f51e6",
      "metadata": {
        "id": "132f51e6"
      },
      "source": [
        "### **Display Cluster Prediction Arrays**"
      ]
    },
    {
      "cell_type": "code",
      "execution_count": null,
      "id": "bd535618",
      "metadata": {
        "colab": {
          "base_uri": "https://localhost:8080/"
        },
        "id": "bd535618",
        "outputId": "b4efa7cf-4f93-45ad-f69e-81834cac52f1"
      },
      "outputs": [
        {
          "output_type": "stream",
          "name": "stdout",
          "text": [
            "\u001b[1mThe array of cluster predictions for k = 2 is as follows:\n",
            "\n",
            "\u001b[0m[1 1 1 1 1 1 1 1 1 1 1 1 1 1 1 1 1 1 1 1 1 1 1 1 1 1 1 1 1 0 1 1 0 1 1 1 0\n",
            " 1 1 1 1]\n"
          ]
        }
      ],
      "source": [
        "logx.print_and_log_text \\\n",
        "    ('\\033[1m' + 'The array of cluster predictions for k = 2 is as follows:\\n\\n' + '\\033[0m'\n",
        "     + f'{predictions_integer_list_list[0]}')"
      ]
    },
    {
      "cell_type": "code",
      "execution_count": null,
      "id": "8f5b9fc0",
      "metadata": {
        "colab": {
          "base_uri": "https://localhost:8080/"
        },
        "id": "8f5b9fc0",
        "outputId": "23fd6bc3-a463-4df1-b449-f63d3fb23178"
      },
      "outputs": [
        {
          "output_type": "stream",
          "name": "stdout",
          "text": [
            "\u001b[1mThe array of cluster predictions for k = 3 is as follows:\n",
            "\n",
            "\u001b[0m[0 0 0 0 0 0 0 0 0 0 0 0 0 0 0 0 0 0 0 0 0 0 0 0 0 0 0 0 0 0 0 0 2 0 0 0 1\n",
            " 0 0 0 0]\n"
          ]
        }
      ],
      "source": [
        "logx.print_and_log_text \\\n",
        "    ('\\033[1m' + 'The array of cluster predictions for k = 3 is as follows:\\n\\n' + '\\033[0m'\n",
        "     + f'{predictions_integer_list_list[1]}')"
      ]
    },
    {
      "cell_type": "code",
      "execution_count": null,
      "id": "5fefad9e",
      "metadata": {
        "colab": {
          "base_uri": "https://localhost:8080/"
        },
        "id": "5fefad9e",
        "outputId": "72a89e6c-d406-4ad1-e390-9196f22d4046"
      },
      "outputs": [
        {
          "output_type": "stream",
          "name": "stdout",
          "text": [
            "\u001b[1mThe array of cluster predictions for k = 4 is as follows:\n",
            "\n",
            "\u001b[0m[3 3 0 0 3 3 3 3 3 0 0 0 0 3 0 3 0 0 3 0 0 3 0 0 0 0 0 0 3 0 0 0 2 3 0 0 1\n",
            " 0 0 0 0]\n"
          ]
        }
      ],
      "source": [
        "logx.print_and_log_text \\\n",
        "    ('\\033[1m' + 'The array of cluster predictions for k = 4 is as follows:\\n\\n' + '\\033[0m'\n",
        "     + f'{predictions_integer_list_list[2]}')"
      ]
    },
    {
      "cell_type": "markdown",
      "id": "296578d8",
      "metadata": {
        "id": "296578d8"
      },
      "source": [
        "## **3.2: Add Predictions to Normalized DataFrame**"
      ]
    },
    {
      "cell_type": "markdown",
      "id": "516f9795",
      "metadata": {
        "id": "516f9795"
      },
      "source": [
        "### **Calculations**"
      ]
    },
    {
      "cell_type": "code",
      "execution_count": null,
      "id": "b2802956",
      "metadata": {
        "id": "b2802956"
      },
      "outputs": [],
      "source": [
        "normalized_crypto_predictions_dataframe \\\n",
        "    = normalized_crypto_dataframe \\\n",
        "          [['price_change_percentage_24h', 'price_change_percentage_7d']].copy()\n",
        "\n",
        "for index, prediction in enumerate(predictions_integer_list_list):\n",
        "\n",
        "    normalized_crypto_predictions_dataframe \\\n",
        "        ['prediction_k_' + str(index + 3)] \\\n",
        "            = predictions_integer_list_list[index]"
      ]
    },
    {
      "cell_type": "markdown",
      "id": "751d0312",
      "metadata": {
        "id": "751d0312"
      },
      "source": [
        "### **Display Normalized Cryptocurrency Predictions Table**"
      ]
    },
    {
      "cell_type": "code",
      "execution_count": null,
      "id": "29219e27",
      "metadata": {
        "colab": {
          "base_uri": "https://localhost:8080/",
          "height": 398
        },
        "id": "29219e27",
        "outputId": "cc5c6f52-be5c-443b-8b99-6b1d6b530f67"
      },
      "outputs": [
        {
          "output_type": "execute_result",
          "data": {
            "text/plain": [
              "<pandas.io.formats.style.Styler at 0x7cca717854e0>"
            ],
            "text/html": [
              "<style type=\"text/css\">\n",
              "#T_bd122 caption {\n",
              "  color: black;\n",
              "  font-size: 20px;\n",
              "  font-style: bold;\n",
              "  text-align: center;\n",
              "}\n",
              "#T_bd122_row0_col0, #T_bd122_row0_col1, #T_bd122_row0_col2, #T_bd122_row0_col3, #T_bd122_row0_col4, #T_bd122_row1_col0, #T_bd122_row1_col1, #T_bd122_row1_col2, #T_bd122_row1_col3, #T_bd122_row1_col4, #T_bd122_row2_col0, #T_bd122_row2_col1, #T_bd122_row2_col2, #T_bd122_row2_col3, #T_bd122_row2_col4, #T_bd122_row3_col0, #T_bd122_row3_col1, #T_bd122_row3_col2, #T_bd122_row3_col3, #T_bd122_row3_col4, #T_bd122_row4_col0, #T_bd122_row4_col1, #T_bd122_row4_col2, #T_bd122_row4_col3, #T_bd122_row4_col4, #T_bd122_row5_col0, #T_bd122_row5_col1, #T_bd122_row5_col2, #T_bd122_row5_col3, #T_bd122_row5_col4, #T_bd122_row6_col0, #T_bd122_row6_col1, #T_bd122_row6_col2, #T_bd122_row6_col3, #T_bd122_row6_col4, #T_bd122_row7_col0, #T_bd122_row7_col1, #T_bd122_row7_col2, #T_bd122_row7_col3, #T_bd122_row7_col4, #T_bd122_row8_col0, #T_bd122_row8_col1, #T_bd122_row8_col2, #T_bd122_row8_col3, #T_bd122_row8_col4, #T_bd122_row9_col0, #T_bd122_row9_col1, #T_bd122_row9_col2, #T_bd122_row9_col3, #T_bd122_row9_col4 {\n",
              "  text-align: center;\n",
              "  border: 1.3px solid red;\n",
              "  color: blue;\n",
              "}\n",
              "</style>\n",
              "<table id=\"T_bd122\" class=\"dataframe\">\n",
              "  <caption>Table 3.2.1: Normalized Cryptocurrency with Predictions DataFrame Table</caption>\n",
              "  <thead>\n",
              "    <tr>\n",
              "      <th id=\"T_bd122_level0_col0\" class=\"col_heading level0 col0\" >price_change_percentage_24h</th>\n",
              "      <th id=\"T_bd122_level0_col1\" class=\"col_heading level0 col1\" >price_change_percentage_7d</th>\n",
              "      <th id=\"T_bd122_level0_col2\" class=\"col_heading level0 col2\" >prediction_k_3</th>\n",
              "      <th id=\"T_bd122_level0_col3\" class=\"col_heading level0 col3\" >prediction_k_4</th>\n",
              "      <th id=\"T_bd122_level0_col4\" class=\"col_heading level0 col4\" >prediction_k_5</th>\n",
              "    </tr>\n",
              "  </thead>\n",
              "  <tbody>\n",
              "    <tr>\n",
              "      <td id=\"T_bd122_row0_col0\" class=\"data row0 col0\" >0.51</td>\n",
              "      <td id=\"T_bd122_row0_col1\" class=\"data row0 col1\" >0.49</td>\n",
              "      <td id=\"T_bd122_row0_col2\" class=\"data row0 col2\" >1</td>\n",
              "      <td id=\"T_bd122_row0_col3\" class=\"data row0 col3\" >0</td>\n",
              "      <td id=\"T_bd122_row0_col4\" class=\"data row0 col4\" >3</td>\n",
              "    </tr>\n",
              "    <tr>\n",
              "      <td id=\"T_bd122_row1_col0\" class=\"data row1 col0\" >0.19</td>\n",
              "      <td id=\"T_bd122_row1_col1\" class=\"data row1 col1\" >0.93</td>\n",
              "      <td id=\"T_bd122_row1_col2\" class=\"data row1 col2\" >1</td>\n",
              "      <td id=\"T_bd122_row1_col3\" class=\"data row1 col3\" >0</td>\n",
              "      <td id=\"T_bd122_row1_col4\" class=\"data row1 col4\" >3</td>\n",
              "    </tr>\n",
              "    <tr>\n",
              "      <td id=\"T_bd122_row2_col0\" class=\"data row2 col0\" >0.02</td>\n",
              "      <td id=\"T_bd122_row2_col1\" class=\"data row2 col1\" >-0.71</td>\n",
              "      <td id=\"T_bd122_row2_col2\" class=\"data row2 col2\" >1</td>\n",
              "      <td id=\"T_bd122_row2_col3\" class=\"data row2 col3\" >0</td>\n",
              "      <td id=\"T_bd122_row2_col4\" class=\"data row2 col4\" >0</td>\n",
              "    </tr>\n",
              "    <tr>\n",
              "      <td id=\"T_bd122_row3_col0\" class=\"data row3 col0\" >-0.04</td>\n",
              "      <td id=\"T_bd122_row3_col1\" class=\"data row3 col1\" >-0.81</td>\n",
              "      <td id=\"T_bd122_row3_col2\" class=\"data row3 col2\" >1</td>\n",
              "      <td id=\"T_bd122_row3_col3\" class=\"data row3 col3\" >0</td>\n",
              "      <td id=\"T_bd122_row3_col4\" class=\"data row3 col4\" >0</td>\n",
              "    </tr>\n",
              "    <tr>\n",
              "      <td id=\"T_bd122_row4_col0\" class=\"data row4 col0\" >1.19</td>\n",
              "      <td id=\"T_bd122_row4_col1\" class=\"data row4 col1\" >2.00</td>\n",
              "      <td id=\"T_bd122_row4_col2\" class=\"data row4 col2\" >1</td>\n",
              "      <td id=\"T_bd122_row4_col3\" class=\"data row4 col3\" >0</td>\n",
              "      <td id=\"T_bd122_row4_col4\" class=\"data row4 col4\" >3</td>\n",
              "    </tr>\n",
              "    <tr>\n",
              "      <td id=\"T_bd122_row5_col0\" class=\"data row5 col0\" >0.89</td>\n",
              "      <td id=\"T_bd122_row5_col1\" class=\"data row5 col1\" >1.33</td>\n",
              "      <td id=\"T_bd122_row5_col2\" class=\"data row5 col2\" >1</td>\n",
              "      <td id=\"T_bd122_row5_col3\" class=\"data row5 col3\" >0</td>\n",
              "      <td id=\"T_bd122_row5_col4\" class=\"data row5 col4\" >3</td>\n",
              "    </tr>\n",
              "    <tr>\n",
              "      <td id=\"T_bd122_row6_col0\" class=\"data row6 col0\" >0.01</td>\n",
              "      <td id=\"T_bd122_row6_col1\" class=\"data row6 col1\" >2.57</td>\n",
              "      <td id=\"T_bd122_row6_col2\" class=\"data row6 col2\" >1</td>\n",
              "      <td id=\"T_bd122_row6_col3\" class=\"data row6 col3\" >0</td>\n",
              "      <td id=\"T_bd122_row6_col4\" class=\"data row6 col4\" >3</td>\n",
              "    </tr>\n",
              "    <tr>\n",
              "      <td id=\"T_bd122_row7_col0\" class=\"data row7 col0\" >0.10</td>\n",
              "      <td id=\"T_bd122_row7_col1\" class=\"data row7 col1\" >1.51</td>\n",
              "      <td id=\"T_bd122_row7_col2\" class=\"data row7 col2\" >1</td>\n",
              "      <td id=\"T_bd122_row7_col3\" class=\"data row7 col3\" >0</td>\n",
              "      <td id=\"T_bd122_row7_col4\" class=\"data row7 col4\" >3</td>\n",
              "    </tr>\n",
              "    <tr>\n",
              "      <td id=\"T_bd122_row8_col0\" class=\"data row8 col0\" >0.08</td>\n",
              "      <td id=\"T_bd122_row8_col1\" class=\"data row8 col1\" >0.33</td>\n",
              "      <td id=\"T_bd122_row8_col2\" class=\"data row8 col2\" >1</td>\n",
              "      <td id=\"T_bd122_row8_col3\" class=\"data row8 col3\" >0</td>\n",
              "      <td id=\"T_bd122_row8_col4\" class=\"data row8 col4\" >3</td>\n",
              "    </tr>\n",
              "    <tr>\n",
              "      <td id=\"T_bd122_row9_col0\" class=\"data row9 col0\" >0.45</td>\n",
              "      <td id=\"T_bd122_row9_col1\" class=\"data row9 col1\" >-0.19</td>\n",
              "      <td id=\"T_bd122_row9_col2\" class=\"data row9 col2\" >1</td>\n",
              "      <td id=\"T_bd122_row9_col3\" class=\"data row9 col3\" >0</td>\n",
              "      <td id=\"T_bd122_row9_col4\" class=\"data row9 col4\" >0</td>\n",
              "    </tr>\n",
              "  </tbody>\n",
              "</table>\n"
            ]
          },
          "metadata": {},
          "execution_count": 86
        }
      ],
      "source": [
        "pandasx.return_formatted_table \\\n",
        "    (normalized_crypto_predictions_dataframe,\n",
        "     'Table 3.2.1: Normalized Cryptocurrency with Predictions DataFrame Table')"
      ]
    },
    {
      "cell_type": "markdown",
      "id": "5cc16c06",
      "metadata": {
        "id": "5cc16c06"
      },
      "source": [
        "\n",
        "\n",
        "\n",
        "\n"
      ]
    },
    {
      "cell_type": "markdown",
      "id": "a2e5a3c5",
      "metadata": {
        "id": "a2e5a3c5"
      },
      "source": [
        "## **3.3: Normalized Cryptocurrency Predictions Scatter Plots (2-D)**"
      ]
    },
    {
      "cell_type": "code",
      "execution_count": null,
      "id": "16cb1e3b",
      "metadata": {
        "colab": {
          "base_uri": "https://localhost:8080/",
          "height": 1000
        },
        "id": "16cb1e3b",
        "outputId": "67ba0170-1924-428b-d9d1-dfe78bed0621"
      },
      "outputs": [
        {
          "output_type": "display_data",
          "data": {
            "text/html": [
              "<html>\n",
              "<head><meta charset=\"utf-8\" /></head>\n",
              "<body>\n",
              "    <div>            <script src=\"https://cdnjs.cloudflare.com/ajax/libs/mathjax/2.7.5/MathJax.js?config=TeX-AMS-MML_SVG\"></script><script type=\"text/javascript\">if (window.MathJax && window.MathJax.Hub && window.MathJax.Hub.Config) {window.MathJax.Hub.Config({SVG: {font: \"STIX-Web\"}});}</script>                <script type=\"text/javascript\">window.PlotlyConfig = {MathJaxConfig: 'local'};</script>\n",
              "        <script charset=\"utf-8\" src=\"https://cdn.plot.ly/plotly-2.31.1.min.js\"></script>                <div id=\"60eb16bb-1fba-4ee5-97c5-80643a06ff93\" class=\"plotly-graph-div\" style=\"height:1000px; width:1000px;\"></div>            <script type=\"text/javascript\">                                    window.PLOTLYENV=window.PLOTLYENV || {};                                    if (document.getElementById(\"60eb16bb-1fba-4ee5-97c5-80643a06ff93\")) {                    Plotly.newPlot(                        \"60eb16bb-1fba-4ee5-97c5-80643a06ff93\",                        [{\"hovertemplate\":\"\\u003cb\\u003eCryptocurrency:\\u003c\\u002fb\\u003e %{text}\\u003cbr\\u003e\\u003cb\\u003ex:\\u003c\\u002fb\\u003e %{x}\\u003cbr\\u003e\\u003cb\\u003ey:\\u003c\\u002fb\\u003e %{y}\\u003cbr\\u003e\\u003cextra\\u003e\\u003c\\u002fextra\\u003e\",\"marker\":{\"color\":[3,3,0,0,3,3,3,3,3,0,0,0,0,3,0,3,0,0,3,0,0,3,0,0,0,0,0,0,3,0,0,0,2,3,0,0,1,0,0,0,0],\"colorscale\":[[0.0,\"firebrick\"],[0.16666666666666666,\"green\"],[0.3333333333333333,\"orange\"],[0.5,\"lightsteelblue\"],[0.6666666666666666,\"gold\"],[0.8333333333333334,\"purple\"],[1.0,\"blue\"]],\"line\":{\"color\":\"black\",\"width\":1.0},\"opacity\":1.0,\"size\":10.0},\"mode\":\"markers\",\"name\":\"Points\",\"showlegend\":false,\"text\":[\"bitcoin\",\"ethereum\",\"tether\",\"ripple\",\"bitcoin-cash\",\"binancecoin\",\"chainlink\",\"cardano\",\"litecoin\",\"bitcoin-cash-sv\",\"crypto-com-chain\",\"usd-coin\",\"eos\",\"monero\",\"tron\",\"tezos\",\"okb\",\"stellar\",\"cosmos\",\"cdai\",\"neo\",\"wrapped-bitcoin\",\"leo-token\",\"huobi-token\",\"nem\",\"binance-usd\",\"iota\",\"vechain\",\"zcash\",\"theta-token\",\"dash\",\"ethereum-classic\",\"ethlend\",\"maker\",\"havven\",\"omisego\",\"celsius-degree-token\",\"ontology\",\"ftx-token\",\"true-usd\",\"digibyte\"],\"x\":[0.5085293658401341,0.18544589364395297,0.021773961621223664,-0.04076438293175126,1.1930360799166912,0.8918707082925427,0.011397240027127978,0.10252980183305808,0.07749718199907564,0.44895150521769767,0.3312797828973969,0.03435226136670967,0.1557095607629728,0.2627227895414743,0.1300495287254371,-0.15158341148390198,-0.9232027409124854,-0.27754298602598954,-0.25597803962841204,0.18085113241673392,0.286545668479983,0.5154534418350357,0.05175825381618298,-0.052031503880590114,-0.21798391020006674,0.061338500038103316,0.2590973238143555,0.5850886825108372,-0.12746748971978172,-1.6121877504778772,-0.29694016690590125,-0.07131221902211765,-4.981041886343488,-0.12516823062652083,-1.428573878476343,1.9198123431080822,1.0455303437735397,-0.4090440755395801,0.41471057813276363,0.07803818413866644,1.2174525584250286],\"y\":[0.49319307062377965,0.9344450402613929,-0.7063368531568252,-0.810928065771643,2.000959067401844,1.327294532419359,2.5722509094400743,1.5080014557070824,0.334296561906924,-0.19068427753077835,-1.614843685120517,-0.7330257877190793,-0.9224908613168605,1.7926024333165838,-0.041017572912210226,0.7081957353613687,-1.4373589353557508,-0.3852089099477516,1.840274403245437,-0.7049314201514939,-0.3263014162757142,0.4618431802754836,-0.9283809754601071,-0.4572290141565338,-0.84938134802146,-0.7066687576744684,0.2495084561581842,-0.9942314669844695,0.9291186873801718,-1.6820265588951313,0.09476313600170767,-0.2294837568372758,-0.04517828983194763,0.5807301080473535,-0.025510168056776892,0.37044715731184824,-0.6183281619450216,-0.9069628116828178,0.41404416555518786,-0.6877454359891283,-0.6077135696200122],\"type\":\"scatter\",\"xaxis\":\"x\",\"yaxis\":\"y\"},{\"hovertemplate\":\"\\u003cb\\u003eCluster %{text}\\u003c\\u002fb\\u003e\\u003cbr\\u003e\\u003cb\\u003ex:\\u003c\\u002fb\\u003e %{x}\\u003cbr\\u003e\\u003cb\\u003ey:\\u003c\\u002fb\\u003e %{y}\\u003cbr\\u003e\\u003cextra\\u003e\\u003c\\u002fextra\\u003e\",\"marker\":{\"color\":[0,1,2,3],\"colorscale\":[[0.0,\"firebrick\"],[0.16666666666666666,\"green\"],[0.3333333333333333,\"orange\"],[0.5,\"lightsteelblue\"],[0.6666666666666666,\"gold\"],[0.8333333333333334,\"purple\"],[1.0,\"blue\"]],\"line\":{\"color\":\"black\",\"width\":1.5},\"opacity\":0.4,\"size\":50.0},\"mode\":\"markers\",\"name\":\"Clusters\",\"showlegend\":false,\"text\":[\"1\",\"2\",\"3\",\"4\"],\"x\":[0.03258562350382586,1.0455303437735397,-4.981041886343488,0.23756041011311357],\"y\":[-0.5699884128311491,-0.6183281619450216,-0.04517828983194763,1.1910157834912967],\"type\":\"scatter\",\"xaxis\":\"x\",\"yaxis\":\"y\"},{\"hovertemplate\":\"\\u003cb\\u003eCryptocurrency:\\u003c\\u002fb\\u003e %{text}\\u003cbr\\u003e\\u003cb\\u003ex:\\u003c\\u002fb\\u003e %{x}\\u003cbr\\u003e\\u003cb\\u003ey:\\u003c\\u002fb\\u003e %{y}\\u003cbr\\u003e\\u003cextra\\u003e\\u003c\\u002fextra\\u003e\",\"marker\":{\"color\":[3,3,0,0,3,3,3,3,3,0,0,0,0,3,0,3,0,0,3,0,0,3,0,0,0,0,0,0,3,0,0,0,2,3,0,0,1,0,0,0,0],\"colorscale\":[[0.0,\"firebrick\"],[0.16666666666666666,\"green\"],[0.3333333333333333,\"orange\"],[0.5,\"lightsteelblue\"],[0.6666666666666666,\"gold\"],[0.8333333333333334,\"purple\"],[1.0,\"blue\"]],\"line\":{\"color\":\"black\",\"width\":1.0},\"opacity\":1.0,\"size\":10.0},\"mode\":\"markers\",\"name\":\"Points\",\"showlegend\":false,\"text\":[\"bitcoin\",\"ethereum\",\"tether\",\"ripple\",\"bitcoin-cash\",\"binancecoin\",\"chainlink\",\"cardano\",\"litecoin\",\"bitcoin-cash-sv\",\"crypto-com-chain\",\"usd-coin\",\"eos\",\"monero\",\"tron\",\"tezos\",\"okb\",\"stellar\",\"cosmos\",\"cdai\",\"neo\",\"wrapped-bitcoin\",\"leo-token\",\"huobi-token\",\"nem\",\"binance-usd\",\"iota\",\"vechain\",\"zcash\",\"theta-token\",\"dash\",\"ethereum-classic\",\"ethlend\",\"maker\",\"havven\",\"omisego\",\"celsius-degree-token\",\"ontology\",\"ftx-token\",\"true-usd\",\"digibyte\"],\"x\":[0.5085293658401341,0.18544589364395297,0.021773961621223664,-0.04076438293175126,1.1930360799166912,0.8918707082925427,0.011397240027127978,0.10252980183305808,0.07749718199907564,0.44895150521769767,0.3312797828973969,0.03435226136670967,0.1557095607629728,0.2627227895414743,0.1300495287254371,-0.15158341148390198,-0.9232027409124854,-0.27754298602598954,-0.25597803962841204,0.18085113241673392,0.286545668479983,0.5154534418350357,0.05175825381618298,-0.052031503880590114,-0.21798391020006674,0.061338500038103316,0.2590973238143555,0.5850886825108372,-0.12746748971978172,-1.6121877504778772,-0.29694016690590125,-0.07131221902211765,-4.981041886343488,-0.12516823062652083,-1.428573878476343,1.9198123431080822,1.0455303437735397,-0.4090440755395801,0.41471057813276363,0.07803818413866644,1.2174525584250286],\"y\":[0.49319307062377965,0.9344450402613929,-0.7063368531568252,-0.810928065771643,2.000959067401844,1.327294532419359,2.5722509094400743,1.5080014557070824,0.334296561906924,-0.19068427753077835,-1.614843685120517,-0.7330257877190793,-0.9224908613168605,1.7926024333165838,-0.041017572912210226,0.7081957353613687,-1.4373589353557508,-0.3852089099477516,1.840274403245437,-0.7049314201514939,-0.3263014162757142,0.4618431802754836,-0.9283809754601071,-0.4572290141565338,-0.84938134802146,-0.7066687576744684,0.2495084561581842,-0.9942314669844695,0.9291186873801718,-1.6820265588951313,0.09476313600170767,-0.2294837568372758,-0.04517828983194763,0.5807301080473535,-0.025510168056776892,0.37044715731184824,-0.6183281619450216,-0.9069628116828178,0.41404416555518786,-0.6877454359891283,-0.6077135696200122],\"type\":\"scatter\",\"xaxis\":\"x2\",\"yaxis\":\"y2\"},{\"hovertemplate\":\"\\u003cb\\u003eCluster %{text}\\u003c\\u002fb\\u003e\\u003cbr\\u003e\\u003cb\\u003ex:\\u003c\\u002fb\\u003e %{x}\\u003cbr\\u003e\\u003cb\\u003ey:\\u003c\\u002fb\\u003e %{y}\\u003cbr\\u003e\\u003cextra\\u003e\\u003c\\u002fextra\\u003e\",\"marker\":{\"color\":[0,1,2,3],\"colorscale\":[[0.0,\"firebrick\"],[0.16666666666666666,\"green\"],[0.3333333333333333,\"orange\"],[0.5,\"lightsteelblue\"],[0.6666666666666666,\"gold\"],[0.8333333333333334,\"purple\"],[1.0,\"blue\"]],\"line\":{\"color\":\"black\",\"width\":1.5},\"opacity\":0.4,\"size\":50.0},\"mode\":\"markers\",\"name\":\"Clusters\",\"showlegend\":false,\"text\":[\"1\",\"2\",\"3\",\"4\"],\"x\":[0.03258562350382586,1.0455303437735397,-4.981041886343488,0.23756041011311357],\"y\":[-0.5699884128311491,-0.6183281619450216,-0.04517828983194763,1.1910157834912967],\"type\":\"scatter\",\"xaxis\":\"x2\",\"yaxis\":\"y2\"},{\"hovertemplate\":\"\\u003cb\\u003eCryptocurrency:\\u003c\\u002fb\\u003e %{text}\\u003cbr\\u003e\\u003cb\\u003ex:\\u003c\\u002fb\\u003e %{x}\\u003cbr\\u003e\\u003cb\\u003ey:\\u003c\\u002fb\\u003e %{y}\\u003cbr\\u003e\\u003cextra\\u003e\\u003c\\u002fextra\\u003e\",\"marker\":{\"color\":[0,0,0,0,0,0,0,0,0,0,0,0,0,0,0,0,0,0,0,0,0,0,0,0,0,0,0,0,0,0,0,0,2,0,0,0,1,0,0,0,0],\"colorscale\":[[0.0,\"firebrick\"],[0.16666666666666666,\"green\"],[0.3333333333333333,\"orange\"],[0.5,\"lightsteelblue\"],[0.6666666666666666,\"gold\"],[0.8333333333333334,\"purple\"],[1.0,\"blue\"]],\"line\":{\"color\":\"black\",\"width\":1.0},\"opacity\":1.0,\"size\":10.0},\"mode\":\"markers\",\"name\":\"Points\",\"showlegend\":false,\"text\":[\"bitcoin\",\"ethereum\",\"tether\",\"ripple\",\"bitcoin-cash\",\"binancecoin\",\"chainlink\",\"cardano\",\"litecoin\",\"bitcoin-cash-sv\",\"crypto-com-chain\",\"usd-coin\",\"eos\",\"monero\",\"tron\",\"tezos\",\"okb\",\"stellar\",\"cosmos\",\"cdai\",\"neo\",\"wrapped-bitcoin\",\"leo-token\",\"huobi-token\",\"nem\",\"binance-usd\",\"iota\",\"vechain\",\"zcash\",\"theta-token\",\"dash\",\"ethereum-classic\",\"ethlend\",\"maker\",\"havven\",\"omisego\",\"celsius-degree-token\",\"ontology\",\"ftx-token\",\"true-usd\",\"digibyte\"],\"x\":[0.5085293658401341,0.18544589364395297,0.021773961621223664,-0.04076438293175126,1.1930360799166912,0.8918707082925427,0.011397240027127978,0.10252980183305808,0.07749718199907564,0.44895150521769767,0.3312797828973969,0.03435226136670967,0.1557095607629728,0.2627227895414743,0.1300495287254371,-0.15158341148390198,-0.9232027409124854,-0.27754298602598954,-0.25597803962841204,0.18085113241673392,0.286545668479983,0.5154534418350357,0.05175825381618298,-0.052031503880590114,-0.21798391020006674,0.061338500038103316,0.2590973238143555,0.5850886825108372,-0.12746748971978172,-1.6121877504778772,-0.29694016690590125,-0.07131221902211765,-4.981041886343488,-0.12516823062652083,-1.428573878476343,1.9198123431080822,1.0455303437735397,-0.4090440755395801,0.41471057813276363,0.07803818413866644,1.2174525584250286],\"y\":[0.49319307062377965,0.9344450402613929,-0.7063368531568252,-0.810928065771643,2.000959067401844,1.327294532419359,2.5722509094400743,1.5080014557070824,0.334296561906924,-0.19068427753077835,-1.614843685120517,-0.7330257877190793,-0.9224908613168605,1.7926024333165838,-0.041017572912210226,0.7081957353613687,-1.4373589353557508,-0.3852089099477516,1.840274403245437,-0.7049314201514939,-0.3263014162757142,0.4618431802754836,-0.9283809754601071,-0.4572290141565338,-0.84938134802146,-0.7066687576744684,0.2495084561581842,-0.9942314669844695,0.9291186873801718,-1.6820265588951313,0.09476313600170767,-0.2294837568372758,-0.04517828983194763,0.5807301080473535,-0.025510168056776892,0.37044715731184824,-0.6183281619450216,-0.9069628116828178,0.41404416555518786,-0.6877454359891283,-0.6077135696200122],\"type\":\"scatter\",\"xaxis\":\"x3\",\"yaxis\":\"y3\"},{\"hovertemplate\":\"\\u003cb\\u003eCluster %{text}\\u003c\\u002fb\\u003e\\u003cbr\\u003e\\u003cb\\u003ex:\\u003c\\u002fb\\u003e %{x}\\u003cbr\\u003e\\u003cb\\u003ey:\\u003c\\u002fb\\u003e %{y}\\u003cbr\\u003e\\u003cextra\\u003e\\u003c\\u002fextra\\u003e\",\"marker\":{\"color\":[0,1,2],\"colorscale\":[[0.0,\"firebrick\"],[0.16666666666666666,\"green\"],[0.3333333333333333,\"orange\"],[0.5,\"lightsteelblue\"],[0.6666666666666666,\"gold\"],[0.8333333333333334,\"purple\"],[1.0,\"blue\"]],\"line\":{\"color\":\"black\",\"width\":1.5},\"opacity\":0.4,\"size\":50.0},\"mode\":\"markers\",\"name\":\"Clusters\",\"showlegend\":false,\"text\":[\"1\",\"2\",\"3\"],\"x\":[0.10091055237358848,1.0455303437735397,-4.981041886343488],\"y\":[0.01701298594299941,-0.6183281619450216,-0.04517828983194763],\"type\":\"scatter\",\"xaxis\":\"x3\",\"yaxis\":\"y3\"},{\"hovertemplate\":\"\\u003cb\\u003eCryptocurrency:\\u003c\\u002fb\\u003e %{text}\\u003cbr\\u003e\\u003cb\\u003ex:\\u003c\\u002fb\\u003e %{x}\\u003cbr\\u003e\\u003cb\\u003ey:\\u003c\\u002fb\\u003e %{y}\\u003cbr\\u003e\\u003cextra\\u003e\\u003c\\u002fextra\\u003e\",\"marker\":{\"color\":[1,1,1,1,1,1,1,1,1,1,1,1,1,1,1,1,1,1,1,1,1,1,1,1,1,1,1,1,1,0,1,1,0,1,1,1,0,1,1,1,1],\"colorscale\":[[0.0,\"firebrick\"],[0.16666666666666666,\"green\"],[0.3333333333333333,\"orange\"],[0.5,\"lightsteelblue\"],[0.6666666666666666,\"gold\"],[0.8333333333333334,\"purple\"],[1.0,\"blue\"]],\"line\":{\"color\":\"black\",\"width\":1.0},\"opacity\":1.0,\"size\":10.0},\"mode\":\"markers\",\"name\":\"Points\",\"showlegend\":false,\"text\":[\"bitcoin\",\"ethereum\",\"tether\",\"ripple\",\"bitcoin-cash\",\"binancecoin\",\"chainlink\",\"cardano\",\"litecoin\",\"bitcoin-cash-sv\",\"crypto-com-chain\",\"usd-coin\",\"eos\",\"monero\",\"tron\",\"tezos\",\"okb\",\"stellar\",\"cosmos\",\"cdai\",\"neo\",\"wrapped-bitcoin\",\"leo-token\",\"huobi-token\",\"nem\",\"binance-usd\",\"iota\",\"vechain\",\"zcash\",\"theta-token\",\"dash\",\"ethereum-classic\",\"ethlend\",\"maker\",\"havven\",\"omisego\",\"celsius-degree-token\",\"ontology\",\"ftx-token\",\"true-usd\",\"digibyte\"],\"x\":[0.5085293658401341,0.18544589364395297,0.021773961621223664,-0.04076438293175126,1.1930360799166912,0.8918707082925427,0.011397240027127978,0.10252980183305808,0.07749718199907564,0.44895150521769767,0.3312797828973969,0.03435226136670967,0.1557095607629728,0.2627227895414743,0.1300495287254371,-0.15158341148390198,-0.9232027409124854,-0.27754298602598954,-0.25597803962841204,0.18085113241673392,0.286545668479983,0.5154534418350357,0.05175825381618298,-0.052031503880590114,-0.21798391020006674,0.061338500038103316,0.2590973238143555,0.5850886825108372,-0.12746748971978172,-1.6121877504778772,-0.29694016690590125,-0.07131221902211765,-4.981041886343488,-0.12516823062652083,-1.428573878476343,1.9198123431080822,1.0455303437735397,-0.4090440755395801,0.41471057813276363,0.07803818413866644,1.2174525584250286],\"y\":[0.49319307062377965,0.9344450402613929,-0.7063368531568252,-0.810928065771643,2.000959067401844,1.327294532419359,2.5722509094400743,1.5080014557070824,0.334296561906924,-0.19068427753077835,-1.614843685120517,-0.7330257877190793,-0.9224908613168605,1.7926024333165838,-0.041017572912210226,0.7081957353613687,-1.4373589353557508,-0.3852089099477516,1.840274403245437,-0.7049314201514939,-0.3263014162757142,0.4618431802754836,-0.9283809754601071,-0.4572290141565338,-0.84938134802146,-0.7066687576744684,0.2495084561581842,-0.9942314669844695,0.9291186873801718,-1.6820265588951313,0.09476313600170767,-0.2294837568372758,-0.04517828983194763,0.5807301080473535,-0.025510168056776892,0.37044715731184824,-0.6183281619450216,-0.9069628116828178,0.41404416555518786,-0.6877454359891283,-0.6077135696200122],\"type\":\"scatter\",\"xaxis\":\"x4\",\"yaxis\":\"y4\"},{\"hovertemplate\":\"\\u003cb\\u003eCluster %{text}\\u003c\\u002fb\\u003e\\u003cbr\\u003e\\u003cb\\u003ex:\\u003c\\u002fb\\u003e %{x}\\u003cbr\\u003e\\u003cb\\u003ey:\\u003c\\u002fb\\u003e %{y}\\u003cbr\\u003e\\u003cextra\\u003e\\u003c\\u002fextra\\u003e\",\"marker\":{\"color\":[0,1],\"colorscale\":[[0.0,\"firebrick\"],[0.16666666666666666,\"green\"],[0.3333333333333333,\"orange\"],[0.5,\"lightsteelblue\"],[0.6666666666666666,\"gold\"],[0.8333333333333334,\"purple\"],[1.0,\"blue\"]],\"line\":{\"color\":\"black\",\"width\":1.5},\"opacity\":0.4,\"size\":50.0},\"mode\":\"markers\",\"name\":\"Clusters\",\"showlegend\":false,\"text\":[\"1\",\"2\"],\"x\":[-1.8492330976826081,0.1459920866591534],\"y\":[-0.7818443368907001,0.06172455291242393],\"type\":\"scatter\",\"xaxis\":\"x4\",\"yaxis\":\"y4\"}],                        {\"template\":{\"data\":{\"histogram2dcontour\":[{\"type\":\"histogram2dcontour\",\"colorbar\":{\"outlinewidth\":0,\"ticks\":\"\"},\"colorscale\":[[0.0,\"#0d0887\"],[0.1111111111111111,\"#46039f\"],[0.2222222222222222,\"#7201a8\"],[0.3333333333333333,\"#9c179e\"],[0.4444444444444444,\"#bd3786\"],[0.5555555555555556,\"#d8576b\"],[0.6666666666666666,\"#ed7953\"],[0.7777777777777778,\"#fb9f3a\"],[0.8888888888888888,\"#fdca26\"],[1.0,\"#f0f921\"]]}],\"choropleth\":[{\"type\":\"choropleth\",\"colorbar\":{\"outlinewidth\":0,\"ticks\":\"\"}}],\"histogram2d\":[{\"type\":\"histogram2d\",\"colorbar\":{\"outlinewidth\":0,\"ticks\":\"\"},\"colorscale\":[[0.0,\"#0d0887\"],[0.1111111111111111,\"#46039f\"],[0.2222222222222222,\"#7201a8\"],[0.3333333333333333,\"#9c179e\"],[0.4444444444444444,\"#bd3786\"],[0.5555555555555556,\"#d8576b\"],[0.6666666666666666,\"#ed7953\"],[0.7777777777777778,\"#fb9f3a\"],[0.8888888888888888,\"#fdca26\"],[1.0,\"#f0f921\"]]}],\"heatmap\":[{\"type\":\"heatmap\",\"colorbar\":{\"outlinewidth\":0,\"ticks\":\"\"},\"colorscale\":[[0.0,\"#0d0887\"],[0.1111111111111111,\"#46039f\"],[0.2222222222222222,\"#7201a8\"],[0.3333333333333333,\"#9c179e\"],[0.4444444444444444,\"#bd3786\"],[0.5555555555555556,\"#d8576b\"],[0.6666666666666666,\"#ed7953\"],[0.7777777777777778,\"#fb9f3a\"],[0.8888888888888888,\"#fdca26\"],[1.0,\"#f0f921\"]]}],\"heatmapgl\":[{\"type\":\"heatmapgl\",\"colorbar\":{\"outlinewidth\":0,\"ticks\":\"\"},\"colorscale\":[[0.0,\"#0d0887\"],[0.1111111111111111,\"#46039f\"],[0.2222222222222222,\"#7201a8\"],[0.3333333333333333,\"#9c179e\"],[0.4444444444444444,\"#bd3786\"],[0.5555555555555556,\"#d8576b\"],[0.6666666666666666,\"#ed7953\"],[0.7777777777777778,\"#fb9f3a\"],[0.8888888888888888,\"#fdca26\"],[1.0,\"#f0f921\"]]}],\"contourcarpet\":[{\"type\":\"contourcarpet\",\"colorbar\":{\"outlinewidth\":0,\"ticks\":\"\"}}],\"contour\":[{\"type\":\"contour\",\"colorbar\":{\"outlinewidth\":0,\"ticks\":\"\"},\"colorscale\":[[0.0,\"#0d0887\"],[0.1111111111111111,\"#46039f\"],[0.2222222222222222,\"#7201a8\"],[0.3333333333333333,\"#9c179e\"],[0.4444444444444444,\"#bd3786\"],[0.5555555555555556,\"#d8576b\"],[0.6666666666666666,\"#ed7953\"],[0.7777777777777778,\"#fb9f3a\"],[0.8888888888888888,\"#fdca26\"],[1.0,\"#f0f921\"]]}],\"surface\":[{\"type\":\"surface\",\"colorbar\":{\"outlinewidth\":0,\"ticks\":\"\"},\"colorscale\":[[0.0,\"#0d0887\"],[0.1111111111111111,\"#46039f\"],[0.2222222222222222,\"#7201a8\"],[0.3333333333333333,\"#9c179e\"],[0.4444444444444444,\"#bd3786\"],[0.5555555555555556,\"#d8576b\"],[0.6666666666666666,\"#ed7953\"],[0.7777777777777778,\"#fb9f3a\"],[0.8888888888888888,\"#fdca26\"],[1.0,\"#f0f921\"]]}],\"mesh3d\":[{\"type\":\"mesh3d\",\"colorbar\":{\"outlinewidth\":0,\"ticks\":\"\"}}],\"scatter\":[{\"fillpattern\":{\"fillmode\":\"overlay\",\"size\":10,\"solidity\":0.2},\"type\":\"scatter\"}],\"parcoords\":[{\"type\":\"parcoords\",\"line\":{\"colorbar\":{\"outlinewidth\":0,\"ticks\":\"\"}}}],\"scatterpolargl\":[{\"type\":\"scatterpolargl\",\"marker\":{\"colorbar\":{\"outlinewidth\":0,\"ticks\":\"\"}}}],\"bar\":[{\"error_x\":{\"color\":\"#2a3f5f\"},\"error_y\":{\"color\":\"#2a3f5f\"},\"marker\":{\"line\":{\"color\":\"#E5ECF6\",\"width\":0.5},\"pattern\":{\"fillmode\":\"overlay\",\"size\":10,\"solidity\":0.2}},\"type\":\"bar\"}],\"scattergeo\":[{\"type\":\"scattergeo\",\"marker\":{\"colorbar\":{\"outlinewidth\":0,\"ticks\":\"\"}}}],\"scatterpolar\":[{\"type\":\"scatterpolar\",\"marker\":{\"colorbar\":{\"outlinewidth\":0,\"ticks\":\"\"}}}],\"histogram\":[{\"marker\":{\"pattern\":{\"fillmode\":\"overlay\",\"size\":10,\"solidity\":0.2}},\"type\":\"histogram\"}],\"scattergl\":[{\"type\":\"scattergl\",\"marker\":{\"colorbar\":{\"outlinewidth\":0,\"ticks\":\"\"}}}],\"scatter3d\":[{\"type\":\"scatter3d\",\"line\":{\"colorbar\":{\"outlinewidth\":0,\"ticks\":\"\"}},\"marker\":{\"colorbar\":{\"outlinewidth\":0,\"ticks\":\"\"}}}],\"scattermapbox\":[{\"type\":\"scattermapbox\",\"marker\":{\"colorbar\":{\"outlinewidth\":0,\"ticks\":\"\"}}}],\"scatterternary\":[{\"type\":\"scatterternary\",\"marker\":{\"colorbar\":{\"outlinewidth\":0,\"ticks\":\"\"}}}],\"scattercarpet\":[{\"type\":\"scattercarpet\",\"marker\":{\"colorbar\":{\"outlinewidth\":0,\"ticks\":\"\"}}}],\"carpet\":[{\"aaxis\":{\"endlinecolor\":\"#2a3f5f\",\"gridcolor\":\"white\",\"linecolor\":\"white\",\"minorgridcolor\":\"white\",\"startlinecolor\":\"#2a3f5f\"},\"baxis\":{\"endlinecolor\":\"#2a3f5f\",\"gridcolor\":\"white\",\"linecolor\":\"white\",\"minorgridcolor\":\"white\",\"startlinecolor\":\"#2a3f5f\"},\"type\":\"carpet\"}],\"table\":[{\"cells\":{\"fill\":{\"color\":\"#EBF0F8\"},\"line\":{\"color\":\"white\"}},\"header\":{\"fill\":{\"color\":\"#C8D4E3\"},\"line\":{\"color\":\"white\"}},\"type\":\"table\"}],\"barpolar\":[{\"marker\":{\"line\":{\"color\":\"#E5ECF6\",\"width\":0.5},\"pattern\":{\"fillmode\":\"overlay\",\"size\":10,\"solidity\":0.2}},\"type\":\"barpolar\"}],\"pie\":[{\"automargin\":true,\"type\":\"pie\"}]},\"layout\":{\"autotypenumbers\":\"strict\",\"colorway\":[\"#636efa\",\"#EF553B\",\"#00cc96\",\"#ab63fa\",\"#FFA15A\",\"#19d3f3\",\"#FF6692\",\"#B6E880\",\"#FF97FF\",\"#FECB52\"],\"font\":{\"color\":\"#2a3f5f\"},\"hovermode\":\"closest\",\"hoverlabel\":{\"align\":\"left\"},\"paper_bgcolor\":\"white\",\"plot_bgcolor\":\"#E5ECF6\",\"polar\":{\"bgcolor\":\"#E5ECF6\",\"angularaxis\":{\"gridcolor\":\"white\",\"linecolor\":\"white\",\"ticks\":\"\"},\"radialaxis\":{\"gridcolor\":\"white\",\"linecolor\":\"white\",\"ticks\":\"\"}},\"ternary\":{\"bgcolor\":\"#E5ECF6\",\"aaxis\":{\"gridcolor\":\"white\",\"linecolor\":\"white\",\"ticks\":\"\"},\"baxis\":{\"gridcolor\":\"white\",\"linecolor\":\"white\",\"ticks\":\"\"},\"caxis\":{\"gridcolor\":\"white\",\"linecolor\":\"white\",\"ticks\":\"\"}},\"coloraxis\":{\"colorbar\":{\"outlinewidth\":0,\"ticks\":\"\"}},\"colorscale\":{\"sequential\":[[0.0,\"#0d0887\"],[0.1111111111111111,\"#46039f\"],[0.2222222222222222,\"#7201a8\"],[0.3333333333333333,\"#9c179e\"],[0.4444444444444444,\"#bd3786\"],[0.5555555555555556,\"#d8576b\"],[0.6666666666666666,\"#ed7953\"],[0.7777777777777778,\"#fb9f3a\"],[0.8888888888888888,\"#fdca26\"],[1.0,\"#f0f921\"]],\"sequentialminus\":[[0.0,\"#0d0887\"],[0.1111111111111111,\"#46039f\"],[0.2222222222222222,\"#7201a8\"],[0.3333333333333333,\"#9c179e\"],[0.4444444444444444,\"#bd3786\"],[0.5555555555555556,\"#d8576b\"],[0.6666666666666666,\"#ed7953\"],[0.7777777777777778,\"#fb9f3a\"],[0.8888888888888888,\"#fdca26\"],[1.0,\"#f0f921\"]],\"diverging\":[[0,\"#8e0152\"],[0.1,\"#c51b7d\"],[0.2,\"#de77ae\"],[0.3,\"#f1b6da\"],[0.4,\"#fde0ef\"],[0.5,\"#f7f7f7\"],[0.6,\"#e6f5d0\"],[0.7,\"#b8e186\"],[0.8,\"#7fbc41\"],[0.9,\"#4d9221\"],[1,\"#276419\"]]},\"xaxis\":{\"gridcolor\":\"white\",\"linecolor\":\"white\",\"ticks\":\"\",\"title\":{\"standoff\":15},\"zerolinecolor\":\"white\",\"automargin\":true,\"zerolinewidth\":2},\"yaxis\":{\"gridcolor\":\"white\",\"linecolor\":\"white\",\"ticks\":\"\",\"title\":{\"standoff\":15},\"zerolinecolor\":\"white\",\"automargin\":true,\"zerolinewidth\":2},\"scene\":{\"xaxis\":{\"backgroundcolor\":\"#E5ECF6\",\"gridcolor\":\"white\",\"linecolor\":\"white\",\"showbackground\":true,\"ticks\":\"\",\"zerolinecolor\":\"white\",\"gridwidth\":2},\"yaxis\":{\"backgroundcolor\":\"#E5ECF6\",\"gridcolor\":\"white\",\"linecolor\":\"white\",\"showbackground\":true,\"ticks\":\"\",\"zerolinecolor\":\"white\",\"gridwidth\":2},\"zaxis\":{\"backgroundcolor\":\"#E5ECF6\",\"gridcolor\":\"white\",\"linecolor\":\"white\",\"showbackground\":true,\"ticks\":\"\",\"zerolinecolor\":\"white\",\"gridwidth\":2}},\"shapedefaults\":{\"line\":{\"color\":\"#2a3f5f\"}},\"annotationdefaults\":{\"arrowcolor\":\"#2a3f5f\",\"arrowhead\":0,\"arrowwidth\":1},\"geo\":{\"bgcolor\":\"white\",\"landcolor\":\"#E5ECF6\",\"subunitcolor\":\"white\",\"showland\":true,\"showlakes\":true,\"lakecolor\":\"white\"},\"title\":{\"x\":0.05},\"mapbox\":{\"style\":\"light\"}}},\"xaxis\":{\"anchor\":\"y\",\"domain\":[0.0,0.44],\"tickfont\":{\"color\":\"black\",\"family\":\"garamond\",\"size\":14.0},\"linecolor\":\"black\",\"linewidth\":2.0,\"mirror\":true,\"showline\":true},\"yaxis\":{\"anchor\":\"x\",\"domain\":[0.56,1.0],\"tickfont\":{\"color\":\"black\",\"family\":\"garamond\",\"size\":14.0},\"linecolor\":\"black\",\"linewidth\":2.0,\"mirror\":true,\"showline\":true,\"title\":{\"text\":\"Price Change Percentage 7D\",\"font\":{\"color\":\"black\",\"family\":\"garamond\",\"size\":18.0}}},\"xaxis2\":{\"anchor\":\"y2\",\"domain\":[0.56,1.0],\"tickfont\":{\"color\":\"black\",\"family\":\"garamond\",\"size\":14.0},\"linecolor\":\"black\",\"linewidth\":2.0,\"mirror\":true,\"showline\":true},\"yaxis2\":{\"anchor\":\"x2\",\"domain\":[0.56,1.0],\"tickfont\":{\"color\":\"black\",\"family\":\"garamond\",\"size\":14.0},\"linecolor\":\"black\",\"linewidth\":2.0,\"mirror\":true,\"showline\":true},\"xaxis3\":{\"anchor\":\"y3\",\"domain\":[0.0,0.44],\"tickfont\":{\"color\":\"black\",\"family\":\"garamond\",\"size\":14.0},\"linecolor\":\"black\",\"linewidth\":2.0,\"mirror\":true,\"showline\":true,\"title\":{\"text\":\"Price Change Percentage 24H\",\"font\":{\"color\":\"black\",\"family\":\"garamond\",\"size\":18.0}}},\"yaxis3\":{\"anchor\":\"x3\",\"domain\":[0.0,0.44],\"tickfont\":{\"color\":\"black\",\"family\":\"garamond\",\"size\":14.0},\"linecolor\":\"black\",\"linewidth\":2.0,\"mirror\":true,\"showline\":true,\"title\":{\"text\":\"Price Change Percentage 7D\",\"font\":{\"color\":\"black\",\"family\":\"garamond\",\"size\":18.0}}},\"xaxis4\":{\"anchor\":\"y4\",\"domain\":[0.56,1.0],\"tickfont\":{\"color\":\"black\",\"family\":\"garamond\",\"size\":14.0},\"linecolor\":\"black\",\"linewidth\":2.0,\"mirror\":true,\"showline\":true,\"title\":{\"text\":\"Price Change Percentage 24H\",\"font\":{\"color\":\"black\",\"family\":\"garamond\",\"size\":18.0}}},\"yaxis4\":{\"anchor\":\"x4\",\"domain\":[0.0,0.44],\"tickfont\":{\"color\":\"black\",\"family\":\"garamond\",\"size\":14.0},\"linecolor\":\"black\",\"linewidth\":2.0,\"mirror\":true,\"showline\":true},\"annotations\":[{\"font\":{\"size\":20.0,\"color\":\"black\",\"family\":\"garamond\"},\"showarrow\":false,\"text\":\"K-Clusters for K = 4\",\"x\":0.22,\"xanchor\":\"center\",\"xref\":\"paper\",\"y\":1.0,\"yanchor\":\"bottom\",\"yref\":\"paper\",\"yshift\":10.0},{\"font\":{\"size\":20.0,\"color\":\"black\",\"family\":\"garamond\"},\"showarrow\":false,\"text\":\"K-Clusters for K = 4\",\"x\":0.78,\"xanchor\":\"center\",\"xref\":\"paper\",\"y\":1.0,\"yanchor\":\"bottom\",\"yref\":\"paper\",\"yshift\":10.0},{\"font\":{\"size\":20.0,\"color\":\"black\",\"family\":\"garamond\"},\"showarrow\":false,\"text\":\"K-Clusters for K = 3\",\"x\":0.22,\"xanchor\":\"center\",\"xref\":\"paper\",\"y\":0.44,\"yanchor\":\"bottom\",\"yref\":\"paper\",\"yshift\":10.0},{\"font\":{\"size\":20.0,\"color\":\"black\",\"family\":\"garamond\"},\"showarrow\":false,\"text\":\"K-Clusters for K = 2\",\"x\":0.78,\"xanchor\":\"center\",\"xref\":\"paper\",\"y\":0.44,\"yanchor\":\"bottom\",\"yref\":\"paper\",\"yshift\":10.0}],\"title\":{\"font\":{\"color\":\"black\",\"family\":\"garamond\",\"size\":24.0},\"text\":\"3.3.1: K-Means Price Change (%) Scatter Plots\"},\"height\":1000,\"width\":1000,\"showlegend\":true},                        {\"responsive\": true}                    ).then(function(){\n",
              "                            \n",
              "var gd = document.getElementById('60eb16bb-1fba-4ee5-97c5-80643a06ff93');\n",
              "var x = new MutationObserver(function (mutations, observer) {{\n",
              "        var display = window.getComputedStyle(gd).display;\n",
              "        if (!display || display === 'none') {{\n",
              "            console.log([gd, 'removed!']);\n",
              "            Plotly.purge(gd);\n",
              "            observer.disconnect();\n",
              "        }}\n",
              "}});\n",
              "\n",
              "// Listen for the removal of the full notebook cells\n",
              "var notebookContainer = gd.closest('#notebook-container');\n",
              "if (notebookContainer) {{\n",
              "    x.observe(notebookContainer, {childList: true});\n",
              "}}\n",
              "\n",
              "// Listen for the clearing of the current output cell\n",
              "var outputEl = gd.closest('.output');\n",
              "if (outputEl) {{\n",
              "    x.observe(outputEl, {childList: true});\n",
              "}}\n",
              "\n",
              "                        })                };                            </script>        </div>\n",
              "</body>\n",
              "</html>"
            ]
          },
          "metadata": {}
        }
      ],
      "source": [
        "kmeans_analysisx.return_k_clusters_2d_scatter_plot \\\n",
        "    (normalized_crypto_dataframe, [4, 4, 3, 2], colors_string_list,\n",
        "     '3.3.1: K-Means Price Change (%) Scatter Plots',\n",
        "     'price_change_percentage_24h', 'price_change_percentage_7d')"
      ]
    },
    {
      "cell_type": "markdown",
      "id": "84c27350",
      "metadata": {
        "id": "84c27350"
      },
      "source": [
        "## **3.4: Normalized Cryptocurrency Predictions Scatter Plots (3-D)**"
      ]
    },
    {
      "cell_type": "code",
      "execution_count": null,
      "id": "00805136",
      "metadata": {
        "colab": {
          "base_uri": "https://localhost:8080/",
          "height": 917
        },
        "id": "00805136",
        "outputId": "2fa17375-7441-4b56-a47a-3aa137cb55ee"
      },
      "outputs": [
        {
          "output_type": "display_data",
          "data": {
            "text/html": [
              "<html>\n",
              "<head><meta charset=\"utf-8\" /></head>\n",
              "<body>\n",
              "    <div>            <script src=\"https://cdnjs.cloudflare.com/ajax/libs/mathjax/2.7.5/MathJax.js?config=TeX-AMS-MML_SVG\"></script><script type=\"text/javascript\">if (window.MathJax && window.MathJax.Hub && window.MathJax.Hub.Config) {window.MathJax.Hub.Config({SVG: {font: \"STIX-Web\"}});}</script>                <script type=\"text/javascript\">window.PlotlyConfig = {MathJaxConfig: 'local'};</script>\n",
              "        <script charset=\"utf-8\" src=\"https://cdn.plot.ly/plotly-2.31.1.min.js\"></script>                <div id=\"e7ef6356-8b77-45b0-9160-086c5622d534\" class=\"plotly-graph-div\" style=\"height:900px; width:900px;\"></div>            <script type=\"text/javascript\">                                    window.PLOTLYENV=window.PLOTLYENV || {};                                    if (document.getElementById(\"e7ef6356-8b77-45b0-9160-086c5622d534\")) {                    Plotly.newPlot(                        \"e7ef6356-8b77-45b0-9160-086c5622d534\",                        [{\"hovertemplate\":\"\\u003cb\\u003eCryptocurrency:\\u003c\\u002fb\\u003e %{text}\\u003cbr\\u003e\\u003cb\\u003ex:\\u003c\\u002fb\\u003e %{x}\\u003cbr\\u003e\\u003cb\\u003ey:\\u003c\\u002fb\\u003e %{y}\\u003cbr\\u003e\\u003cb\\u003ez:\\u003c\\u002fb\\u003e %{z}\\u003cbr\\u003e\\u003cextra\\u003e\\u003c\\u002fextra\\u003e\",\"marker\":{\"color\":[0,0,0,0,0,0,3,0,0,0,0,0,0,0,0,0,0,0,0,0,0,0,0,0,0,0,0,0,0,3,0,0,1,0,3,3,2,0,0,0,3],\"colorscale\":[[0.0,\"firebrick\"],[0.16666666666666666,\"green\"],[0.3333333333333333,\"orange\"],[0.5,\"lightsteelblue\"],[0.6666666666666666,\"gold\"],[0.8333333333333334,\"purple\"],[1.0,\"blue\"]],\"line\":{\"color\":\"black\",\"width\":1.0},\"opacity\":1.0,\"size\":7.0},\"mode\":\"markers\",\"name\":\"Points\",\"showlegend\":true,\"text\":[\"bitcoin\",\"ethereum\",\"tether\",\"ripple\",\"bitcoin-cash\",\"binancecoin\",\"chainlink\",\"cardano\",\"litecoin\",\"bitcoin-cash-sv\",\"crypto-com-chain\",\"usd-coin\",\"eos\",\"monero\",\"tron\",\"tezos\",\"okb\",\"stellar\",\"cosmos\",\"cdai\",\"neo\",\"wrapped-bitcoin\",\"leo-token\",\"huobi-token\",\"nem\",\"binance-usd\",\"iota\",\"vechain\",\"zcash\",\"theta-token\",\"dash\",\"ethereum-classic\",\"ethlend\",\"maker\",\"havven\",\"omisego\",\"celsius-degree-token\",\"ontology\",\"ftx-token\",\"true-usd\",\"digibyte\"],\"x\":[1.08388,0.22392,-0.21173,-0.37819,2.90585,2.10423,-0.23935,0.00322,-0.06341,0.9253,0.61209,-0.17825,0.14477,0.42961,0.07647,-0.67316,-2.727,-1.00843,-0.95103,0.21169,0.49302,1.10231,-0.13192,-0.40818,-0.8499,-0.10642,0.41996,1.28766,-0.60897,-4.56089,-1.06006,-0.4595,-13.52786,-0.60285,-4.07216,4.84033,2.51323,-1.35845,0.83416,-0.06197,2.97084],\"y\":[7.60278,10.38134,0.04935,-0.60926,17.09717,12.85511,20.69459,13.99302,6.60221,3.29641,-5.67151,-0.11871,-1.31177,15.78515,4.23886,8.95665,-4.55389,2.07149,16.08534,0.0582,2.44243,7.40537,-1.34886,1.61798,-0.8514,0.04726,6.0683,-1.76352,10.3478,-6.09456,5.09387,3.05209,4.21266,8.154,4.33651,6.82985,0.60354,-1.21399,7.10438,0.16642,0.67038],\"z\":[6.57509,4.80849,0.0064,2.24984,14.75334,6.80688,9.30098,5.55476,7.28931,-1.86656,-8.53948,-0.00568,1.13751,18.41097,1.40337,2.32062,-5.02662,-1.08217,5.51074,0.17076,-9.84803,6.55668,-7.02859,0.45488,2.64844,0.05902,-3.77714,-18.1589,5.79179,-6.57354,0.51708,-1.26669,-9.80075,-1.48854,-13.29164,-13.21636,24.23919,-10.56222,-0.20629,0.10974,-7.31941],\"type\":\"scatter3d\"},{\"hovertemplate\":\"\\u003cb\\u003eCluster %{text}\\u003c\\u002fb\\u003e\\u003cbr\\u003e\\u003cb\\u003ex:\\u003c\\u002fb\\u003e %{x}\\u003cbr\\u003e\\u003cb\\u003ey:\\u003c\\u002fb\\u003e %{y}\\u003cbr\\u003e\\u003cb\\u003ez:\\u003c\\u002fb\\u003e %{z}\\u003cbr\\u003e\\u003cextra\\u003e\\u003c\\u002fextra\\u003e\",\"marker\":{\"color\":[0,1,2,3],\"colorscale\":[[0.0,\"firebrick\"],[0.16666666666666666,\"green\"],[0.3333333333333333,\"orange\"],[0.5,\"lightsteelblue\"],[0.6666666666666666,\"gold\"],[0.8333333333333334,\"purple\"],[1.0,\"blue\"]],\"line\":{\"color\":\"black\",\"width\":1.5},\"opacity\":0.4,\"size\":42.0},\"mode\":\"markers\",\"name\":\"Clusters\",\"showlegend\":true,\"text\":[\"1\",\"2\",\"3\",\"4\"],\"x\":[0.02996235294117633,-13.52786,2.51323,-0.21224599999999977],\"y\":[4.503825588235294,4.21266,0.6035399999999997,5.2873540000000006],\"z\":[0.7140823529411766,-9.80075,24.23919,-6.219994000000001],\"type\":\"scatter3d\"}],                        {\"height\":900,\"legend\":{\"bgcolor\":\"aliceblue\",\"font\":{\"color\":\"black\",\"family\":\"garamond\",\"size\":20.0},\"x\":1.2,\"xanchor\":\"right\",\"y\":0.8,\"yanchor\":\"top\"},\"scene\":{\"aspectmode\":\"manual\",\"aspectratio\":{\"x\":0.9,\"y\":0.9,\"z\":0.9},\"xaxis\":{\"color\":\"black\",\"gridcolor\":\"darkblue\",\"linecolor\":\"black\",\"linewidth\":2.0,\"mirror\":true,\"showbackground\":true,\"showline\":true,\"tickfont\":{\"color\":\"black\",\"family\":\"garamond\",\"size\":14},\"title\":{\"font\":{\"color\":\"black\",\"family\":\"garamond\",\"size\":18.0},\"text\":\"price_change_percentage_24h\"}},\"yaxis\":{\"color\":\"black\",\"gridcolor\":\"darkblue\",\"linecolor\":\"black\",\"linewidth\":2.0,\"mirror\":true,\"showbackground\":true,\"showline\":true,\"tickfont\":{\"color\":\"black\",\"family\":\"garamond\",\"size\":14.0},\"title\":{\"font\":{\"color\":\"black\",\"family\":\"garamond\",\"size\":18.0},\"text\":\"price_change_percentage_7d\"}},\"zaxis\":{\"color\":\"black\",\"gridcolor\":\"darkblue\",\"linecolor\":\"black\",\"linewidth\":2.0,\"mirror\":true,\"showbackground\":true,\"showline\":true,\"tickfont\":{\"color\":\"black\",\"family\":\"garamond\",\"size\":14.0},\"title\":{\"font\":{\"color\":\"black\",\"family\":\"garamond\",\"size\":18.0},\"text\":\"price_change_percentage_14d\"}}},\"title\":{\"font\":{\"color\":\"black\",\"family\":\"garamond\",\"size\":28.0},\"text\":\"3.4.1: Cryptocurrency Price Change (%) 3-D Scatter Plot (k=4)\",\"x\":0.5,\"y\":0.85},\"width\":900,\"template\":{\"data\":{\"histogram2dcontour\":[{\"type\":\"histogram2dcontour\",\"colorbar\":{\"outlinewidth\":0,\"ticks\":\"\"},\"colorscale\":[[0.0,\"#0d0887\"],[0.1111111111111111,\"#46039f\"],[0.2222222222222222,\"#7201a8\"],[0.3333333333333333,\"#9c179e\"],[0.4444444444444444,\"#bd3786\"],[0.5555555555555556,\"#d8576b\"],[0.6666666666666666,\"#ed7953\"],[0.7777777777777778,\"#fb9f3a\"],[0.8888888888888888,\"#fdca26\"],[1.0,\"#f0f921\"]]}],\"choropleth\":[{\"type\":\"choropleth\",\"colorbar\":{\"outlinewidth\":0,\"ticks\":\"\"}}],\"histogram2d\":[{\"type\":\"histogram2d\",\"colorbar\":{\"outlinewidth\":0,\"ticks\":\"\"},\"colorscale\":[[0.0,\"#0d0887\"],[0.1111111111111111,\"#46039f\"],[0.2222222222222222,\"#7201a8\"],[0.3333333333333333,\"#9c179e\"],[0.4444444444444444,\"#bd3786\"],[0.5555555555555556,\"#d8576b\"],[0.6666666666666666,\"#ed7953\"],[0.7777777777777778,\"#fb9f3a\"],[0.8888888888888888,\"#fdca26\"],[1.0,\"#f0f921\"]]}],\"heatmap\":[{\"type\":\"heatmap\",\"colorbar\":{\"outlinewidth\":0,\"ticks\":\"\"},\"colorscale\":[[0.0,\"#0d0887\"],[0.1111111111111111,\"#46039f\"],[0.2222222222222222,\"#7201a8\"],[0.3333333333333333,\"#9c179e\"],[0.4444444444444444,\"#bd3786\"],[0.5555555555555556,\"#d8576b\"],[0.6666666666666666,\"#ed7953\"],[0.7777777777777778,\"#fb9f3a\"],[0.8888888888888888,\"#fdca26\"],[1.0,\"#f0f921\"]]}],\"heatmapgl\":[{\"type\":\"heatmapgl\",\"colorbar\":{\"outlinewidth\":0,\"ticks\":\"\"},\"colorscale\":[[0.0,\"#0d0887\"],[0.1111111111111111,\"#46039f\"],[0.2222222222222222,\"#7201a8\"],[0.3333333333333333,\"#9c179e\"],[0.4444444444444444,\"#bd3786\"],[0.5555555555555556,\"#d8576b\"],[0.6666666666666666,\"#ed7953\"],[0.7777777777777778,\"#fb9f3a\"],[0.8888888888888888,\"#fdca26\"],[1.0,\"#f0f921\"]]}],\"contourcarpet\":[{\"type\":\"contourcarpet\",\"colorbar\":{\"outlinewidth\":0,\"ticks\":\"\"}}],\"contour\":[{\"type\":\"contour\",\"colorbar\":{\"outlinewidth\":0,\"ticks\":\"\"},\"colorscale\":[[0.0,\"#0d0887\"],[0.1111111111111111,\"#46039f\"],[0.2222222222222222,\"#7201a8\"],[0.3333333333333333,\"#9c179e\"],[0.4444444444444444,\"#bd3786\"],[0.5555555555555556,\"#d8576b\"],[0.6666666666666666,\"#ed7953\"],[0.7777777777777778,\"#fb9f3a\"],[0.8888888888888888,\"#fdca26\"],[1.0,\"#f0f921\"]]}],\"surface\":[{\"type\":\"surface\",\"colorbar\":{\"outlinewidth\":0,\"ticks\":\"\"},\"colorscale\":[[0.0,\"#0d0887\"],[0.1111111111111111,\"#46039f\"],[0.2222222222222222,\"#7201a8\"],[0.3333333333333333,\"#9c179e\"],[0.4444444444444444,\"#bd3786\"],[0.5555555555555556,\"#d8576b\"],[0.6666666666666666,\"#ed7953\"],[0.7777777777777778,\"#fb9f3a\"],[0.8888888888888888,\"#fdca26\"],[1.0,\"#f0f921\"]]}],\"mesh3d\":[{\"type\":\"mesh3d\",\"colorbar\":{\"outlinewidth\":0,\"ticks\":\"\"}}],\"scatter\":[{\"fillpattern\":{\"fillmode\":\"overlay\",\"size\":10,\"solidity\":0.2},\"type\":\"scatter\"}],\"parcoords\":[{\"type\":\"parcoords\",\"line\":{\"colorbar\":{\"outlinewidth\":0,\"ticks\":\"\"}}}],\"scatterpolargl\":[{\"type\":\"scatterpolargl\",\"marker\":{\"colorbar\":{\"outlinewidth\":0,\"ticks\":\"\"}}}],\"bar\":[{\"error_x\":{\"color\":\"#2a3f5f\"},\"error_y\":{\"color\":\"#2a3f5f\"},\"marker\":{\"line\":{\"color\":\"#E5ECF6\",\"width\":0.5},\"pattern\":{\"fillmode\":\"overlay\",\"size\":10,\"solidity\":0.2}},\"type\":\"bar\"}],\"scattergeo\":[{\"type\":\"scattergeo\",\"marker\":{\"colorbar\":{\"outlinewidth\":0,\"ticks\":\"\"}}}],\"scatterpolar\":[{\"type\":\"scatterpolar\",\"marker\":{\"colorbar\":{\"outlinewidth\":0,\"ticks\":\"\"}}}],\"histogram\":[{\"marker\":{\"pattern\":{\"fillmode\":\"overlay\",\"size\":10,\"solidity\":0.2}},\"type\":\"histogram\"}],\"scattergl\":[{\"type\":\"scattergl\",\"marker\":{\"colorbar\":{\"outlinewidth\":0,\"ticks\":\"\"}}}],\"scatter3d\":[{\"type\":\"scatter3d\",\"line\":{\"colorbar\":{\"outlinewidth\":0,\"ticks\":\"\"}},\"marker\":{\"colorbar\":{\"outlinewidth\":0,\"ticks\":\"\"}}}],\"scattermapbox\":[{\"type\":\"scattermapbox\",\"marker\":{\"colorbar\":{\"outlinewidth\":0,\"ticks\":\"\"}}}],\"scatterternary\":[{\"type\":\"scatterternary\",\"marker\":{\"colorbar\":{\"outlinewidth\":0,\"ticks\":\"\"}}}],\"scattercarpet\":[{\"type\":\"scattercarpet\",\"marker\":{\"colorbar\":{\"outlinewidth\":0,\"ticks\":\"\"}}}],\"carpet\":[{\"aaxis\":{\"endlinecolor\":\"#2a3f5f\",\"gridcolor\":\"white\",\"linecolor\":\"white\",\"minorgridcolor\":\"white\",\"startlinecolor\":\"#2a3f5f\"},\"baxis\":{\"endlinecolor\":\"#2a3f5f\",\"gridcolor\":\"white\",\"linecolor\":\"white\",\"minorgridcolor\":\"white\",\"startlinecolor\":\"#2a3f5f\"},\"type\":\"carpet\"}],\"table\":[{\"cells\":{\"fill\":{\"color\":\"#EBF0F8\"},\"line\":{\"color\":\"white\"}},\"header\":{\"fill\":{\"color\":\"#C8D4E3\"},\"line\":{\"color\":\"white\"}},\"type\":\"table\"}],\"barpolar\":[{\"marker\":{\"line\":{\"color\":\"#E5ECF6\",\"width\":0.5},\"pattern\":{\"fillmode\":\"overlay\",\"size\":10,\"solidity\":0.2}},\"type\":\"barpolar\"}],\"pie\":[{\"automargin\":true,\"type\":\"pie\"}]},\"layout\":{\"autotypenumbers\":\"strict\",\"colorway\":[\"#636efa\",\"#EF553B\",\"#00cc96\",\"#ab63fa\",\"#FFA15A\",\"#19d3f3\",\"#FF6692\",\"#B6E880\",\"#FF97FF\",\"#FECB52\"],\"font\":{\"color\":\"#2a3f5f\"},\"hovermode\":\"closest\",\"hoverlabel\":{\"align\":\"left\"},\"paper_bgcolor\":\"white\",\"plot_bgcolor\":\"#E5ECF6\",\"polar\":{\"bgcolor\":\"#E5ECF6\",\"angularaxis\":{\"gridcolor\":\"white\",\"linecolor\":\"white\",\"ticks\":\"\"},\"radialaxis\":{\"gridcolor\":\"white\",\"linecolor\":\"white\",\"ticks\":\"\"}},\"ternary\":{\"bgcolor\":\"#E5ECF6\",\"aaxis\":{\"gridcolor\":\"white\",\"linecolor\":\"white\",\"ticks\":\"\"},\"baxis\":{\"gridcolor\":\"white\",\"linecolor\":\"white\",\"ticks\":\"\"},\"caxis\":{\"gridcolor\":\"white\",\"linecolor\":\"white\",\"ticks\":\"\"}},\"coloraxis\":{\"colorbar\":{\"outlinewidth\":0,\"ticks\":\"\"}},\"colorscale\":{\"sequential\":[[0.0,\"#0d0887\"],[0.1111111111111111,\"#46039f\"],[0.2222222222222222,\"#7201a8\"],[0.3333333333333333,\"#9c179e\"],[0.4444444444444444,\"#bd3786\"],[0.5555555555555556,\"#d8576b\"],[0.6666666666666666,\"#ed7953\"],[0.7777777777777778,\"#fb9f3a\"],[0.8888888888888888,\"#fdca26\"],[1.0,\"#f0f921\"]],\"sequentialminus\":[[0.0,\"#0d0887\"],[0.1111111111111111,\"#46039f\"],[0.2222222222222222,\"#7201a8\"],[0.3333333333333333,\"#9c179e\"],[0.4444444444444444,\"#bd3786\"],[0.5555555555555556,\"#d8576b\"],[0.6666666666666666,\"#ed7953\"],[0.7777777777777778,\"#fb9f3a\"],[0.8888888888888888,\"#fdca26\"],[1.0,\"#f0f921\"]],\"diverging\":[[0,\"#8e0152\"],[0.1,\"#c51b7d\"],[0.2,\"#de77ae\"],[0.3,\"#f1b6da\"],[0.4,\"#fde0ef\"],[0.5,\"#f7f7f7\"],[0.6,\"#e6f5d0\"],[0.7,\"#b8e186\"],[0.8,\"#7fbc41\"],[0.9,\"#4d9221\"],[1,\"#276419\"]]},\"xaxis\":{\"gridcolor\":\"white\",\"linecolor\":\"white\",\"ticks\":\"\",\"title\":{\"standoff\":15},\"zerolinecolor\":\"white\",\"automargin\":true,\"zerolinewidth\":2},\"yaxis\":{\"gridcolor\":\"white\",\"linecolor\":\"white\",\"ticks\":\"\",\"title\":{\"standoff\":15},\"zerolinecolor\":\"white\",\"automargin\":true,\"zerolinewidth\":2},\"scene\":{\"xaxis\":{\"backgroundcolor\":\"#E5ECF6\",\"gridcolor\":\"white\",\"linecolor\":\"white\",\"showbackground\":true,\"ticks\":\"\",\"zerolinecolor\":\"white\",\"gridwidth\":2},\"yaxis\":{\"backgroundcolor\":\"#E5ECF6\",\"gridcolor\":\"white\",\"linecolor\":\"white\",\"showbackground\":true,\"ticks\":\"\",\"zerolinecolor\":\"white\",\"gridwidth\":2},\"zaxis\":{\"backgroundcolor\":\"#E5ECF6\",\"gridcolor\":\"white\",\"linecolor\":\"white\",\"showbackground\":true,\"ticks\":\"\",\"zerolinecolor\":\"white\",\"gridwidth\":2}},\"shapedefaults\":{\"line\":{\"color\":\"#2a3f5f\"}},\"annotationdefaults\":{\"arrowcolor\":\"#2a3f5f\",\"arrowhead\":0,\"arrowwidth\":1},\"geo\":{\"bgcolor\":\"white\",\"landcolor\":\"#E5ECF6\",\"subunitcolor\":\"white\",\"showland\":true,\"showlakes\":true,\"lakecolor\":\"white\"},\"title\":{\"x\":0.05},\"mapbox\":{\"style\":\"light\"}}}},                        {\"responsive\": true}                    ).then(function(){\n",
              "                            \n",
              "var gd = document.getElementById('e7ef6356-8b77-45b0-9160-086c5622d534');\n",
              "var x = new MutationObserver(function (mutations, observer) {{\n",
              "        var display = window.getComputedStyle(gd).display;\n",
              "        if (!display || display === 'none') {{\n",
              "            console.log([gd, 'removed!']);\n",
              "            Plotly.purge(gd);\n",
              "            observer.disconnect();\n",
              "        }}\n",
              "}});\n",
              "\n",
              "// Listen for the removal of the full notebook cells\n",
              "var notebookContainer = gd.closest('#notebook-container');\n",
              "if (notebookContainer) {{\n",
              "    x.observe(notebookContainer, {childList: true});\n",
              "}}\n",
              "\n",
              "// Listen for the clearing of the current output cell\n",
              "var outputEl = gd.closest('.output');\n",
              "if (outputEl) {{\n",
              "    x.observe(outputEl, {childList: true});\n",
              "}}\n",
              "\n",
              "                        })                };                            </script>        </div>\n",
              "</body>\n",
              "</html>"
            ]
          },
          "metadata": {}
        }
      ],
      "source": [
        "kmeans_analysisx.return_k_clusters_3d_scatter_plot \\\n",
        "    (crypto_dataframe, 4, colors_string_list,\n",
        "     '3.4.1: Cryptocurrency Price Change (%) 3-D Scatter Plot (k=4)',\n",
        "     ['price_change_percentage_24h', 'price_change_percentage_7d', 'price_change_percentage_14d'])"
      ]
    },
    {
      "cell_type": "code",
      "execution_count": null,
      "id": "f82eedaf",
      "metadata": {
        "colab": {
          "base_uri": "https://localhost:8080/",
          "height": 917
        },
        "id": "f82eedaf",
        "outputId": "e0fd9d6d-ad7b-45ec-9f11-f0f1148c044e"
      },
      "outputs": [
        {
          "output_type": "display_data",
          "data": {
            "text/html": [
              "<html>\n",
              "<head><meta charset=\"utf-8\" /></head>\n",
              "<body>\n",
              "    <div>            <script src=\"https://cdnjs.cloudflare.com/ajax/libs/mathjax/2.7.5/MathJax.js?config=TeX-AMS-MML_SVG\"></script><script type=\"text/javascript\">if (window.MathJax && window.MathJax.Hub && window.MathJax.Hub.Config) {window.MathJax.Hub.Config({SVG: {font: \"STIX-Web\"}});}</script>                <script type=\"text/javascript\">window.PlotlyConfig = {MathJaxConfig: 'local'};</script>\n",
              "        <script charset=\"utf-8\" src=\"https://cdn.plot.ly/plotly-2.31.1.min.js\"></script>                <div id=\"a5f3ba10-ed93-4a98-8f25-0745142f4682\" class=\"plotly-graph-div\" style=\"height:900px; width:900px;\"></div>            <script type=\"text/javascript\">                                    window.PLOTLYENV=window.PLOTLYENV || {};                                    if (document.getElementById(\"a5f3ba10-ed93-4a98-8f25-0745142f4682\")) {                    Plotly.newPlot(                        \"a5f3ba10-ed93-4a98-8f25-0745142f4682\",                        [{\"hovertemplate\":\"\\u003cb\\u003eCryptocurrency:\\u003c\\u002fb\\u003e %{text}\\u003cbr\\u003e\\u003cb\\u003ex:\\u003c\\u002fb\\u003e %{x}\\u003cbr\\u003e\\u003cb\\u003ey:\\u003c\\u002fb\\u003e %{y}\\u003cbr\\u003e\\u003cb\\u003ez:\\u003c\\u002fb\\u003e %{z}\\u003cbr\\u003e\\u003cextra\\u003e\\u003c\\u002fextra\\u003e\",\"marker\":{\"color\":[0,0,0,0,0,0,0,0,0,0,0,0,0,0,0,0,0,0,0,0,0,0,0,0,0,0,0,0,0,0,0,0,1,0,0,0,2,0,0,0,0],\"colorscale\":[[0.0,\"firebrick\"],[0.16666666666666666,\"green\"],[0.3333333333333333,\"orange\"],[0.5,\"lightsteelblue\"],[0.6666666666666666,\"gold\"],[0.8333333333333334,\"purple\"],[1.0,\"blue\"]],\"line\":{\"color\":\"black\",\"width\":1.0},\"opacity\":1.0,\"size\":7.0},\"mode\":\"markers\",\"name\":\"Points\",\"showlegend\":true,\"text\":[\"bitcoin\",\"ethereum\",\"tether\",\"ripple\",\"bitcoin-cash\",\"binancecoin\",\"chainlink\",\"cardano\",\"litecoin\",\"bitcoin-cash-sv\",\"crypto-com-chain\",\"usd-coin\",\"eos\",\"monero\",\"tron\",\"tezos\",\"okb\",\"stellar\",\"cosmos\",\"cdai\",\"neo\",\"wrapped-bitcoin\",\"leo-token\",\"huobi-token\",\"nem\",\"binance-usd\",\"iota\",\"vechain\",\"zcash\",\"theta-token\",\"dash\",\"ethereum-classic\",\"ethlend\",\"maker\",\"havven\",\"omisego\",\"celsius-degree-token\",\"ontology\",\"ftx-token\",\"true-usd\",\"digibyte\"],\"x\":[1.08388,0.22392,-0.21173,-0.37819,2.90585,2.10423,-0.23935,0.00322,-0.06341,0.9253,0.61209,-0.17825,0.14477,0.42961,0.07647,-0.67316,-2.727,-1.00843,-0.95103,0.21169,0.49302,1.10231,-0.13192,-0.40818,-0.8499,-0.10642,0.41996,1.28766,-0.60897,-4.56089,-1.06006,-0.4595,-13.52786,-0.60285,-4.07216,4.84033,2.51323,-1.35845,0.83416,-0.06197,2.97084],\"y\":[7.60278,10.38134,0.04935,-0.60926,17.09717,12.85511,20.69459,13.99302,6.60221,3.29641,-5.67151,-0.11871,-1.31177,15.78515,4.23886,8.95665,-4.55389,2.07149,16.08534,0.0582,2.44243,7.40537,-1.34886,1.61798,-0.8514,0.04726,6.0683,-1.76352,10.3478,-6.09456,5.09387,3.05209,4.21266,8.154,4.33651,6.82985,0.60354,-1.21399,7.10438,0.16642,0.67038],\"z\":[6.57509,4.80849,0.0064,2.24984,14.75334,6.80688,9.30098,5.55476,7.28931,-1.86656,-8.53948,-0.00568,1.13751,18.41097,1.40337,2.32062,-5.02662,-1.08217,5.51074,0.17076,-9.84803,6.55668,-7.02859,0.45488,2.64844,0.05902,-3.77714,-18.1589,5.79179,-6.57354,0.51708,-1.26669,-9.80075,-1.48854,-13.29164,-13.21636,24.23919,-10.56222,-0.20629,0.10974,-7.31941],\"type\":\"scatter3d\"},{\"hovertemplate\":\"\\u003cb\\u003eCluster %{text}\\u003c\\u002fb\\u003e\\u003cbr\\u003e\\u003cb\\u003ex:\\u003c\\u002fb\\u003e %{x}\\u003cbr\\u003e\\u003cb\\u003ey:\\u003c\\u002fb\\u003e %{y}\\u003cbr\\u003e\\u003cb\\u003ez:\\u003c\\u002fb\\u003e %{z}\\u003cbr\\u003e\\u003cextra\\u003e\\u003c\\u002fextra\\u003e\",\"marker\":{\"color\":[0,1,2],\"colorscale\":[[0.0,\"firebrick\"],[0.16666666666666666,\"green\"],[0.3333333333333333,\"orange\"],[0.5,\"lightsteelblue\"],[0.6666666666666666,\"gold\"],[0.8333333333333334,\"purple\"],[1.0,\"blue\"]],\"line\":{\"color\":\"black\",\"width\":1.5},\"opacity\":0.4,\"size\":42.0},\"mode\":\"markers\",\"name\":\"Clusters\",\"showlegend\":true,\"text\":[\"1\",\"2\",\"3\"],\"x\":[-0.0010900000000000354,-13.52786,2.51323],\"y\":[4.604277948717948,4.21266,0.6035399999999997],\"z\":[-0.17490179487179494,-9.80075,24.23919],\"type\":\"scatter3d\"}],                        {\"height\":900,\"legend\":{\"bgcolor\":\"aliceblue\",\"font\":{\"color\":\"black\",\"family\":\"garamond\",\"size\":20.0},\"x\":1.2,\"xanchor\":\"right\",\"y\":0.8,\"yanchor\":\"top\"},\"scene\":{\"aspectmode\":\"manual\",\"aspectratio\":{\"x\":0.9,\"y\":0.9,\"z\":0.9},\"xaxis\":{\"color\":\"black\",\"gridcolor\":\"darkblue\",\"linecolor\":\"black\",\"linewidth\":2.0,\"mirror\":true,\"showbackground\":true,\"showline\":true,\"tickfont\":{\"color\":\"black\",\"family\":\"garamond\",\"size\":14},\"title\":{\"font\":{\"color\":\"black\",\"family\":\"garamond\",\"size\":18.0},\"text\":\"price_change_percentage_24h\"}},\"yaxis\":{\"color\":\"black\",\"gridcolor\":\"darkblue\",\"linecolor\":\"black\",\"linewidth\":2.0,\"mirror\":true,\"showbackground\":true,\"showline\":true,\"tickfont\":{\"color\":\"black\",\"family\":\"garamond\",\"size\":14.0},\"title\":{\"font\":{\"color\":\"black\",\"family\":\"garamond\",\"size\":18.0},\"text\":\"price_change_percentage_7d\"}},\"zaxis\":{\"color\":\"black\",\"gridcolor\":\"darkblue\",\"linecolor\":\"black\",\"linewidth\":2.0,\"mirror\":true,\"showbackground\":true,\"showline\":true,\"tickfont\":{\"color\":\"black\",\"family\":\"garamond\",\"size\":14.0},\"title\":{\"font\":{\"color\":\"black\",\"family\":\"garamond\",\"size\":18.0},\"text\":\"price_change_percentage_14d\"}}},\"title\":{\"font\":{\"color\":\"black\",\"family\":\"garamond\",\"size\":28.0},\"text\":\"3.4.2: Cryptocurrency Price Change (%) 3-D Scatter Plot (k=3)\",\"x\":0.5,\"y\":0.85},\"width\":900,\"template\":{\"data\":{\"histogram2dcontour\":[{\"type\":\"histogram2dcontour\",\"colorbar\":{\"outlinewidth\":0,\"ticks\":\"\"},\"colorscale\":[[0.0,\"#0d0887\"],[0.1111111111111111,\"#46039f\"],[0.2222222222222222,\"#7201a8\"],[0.3333333333333333,\"#9c179e\"],[0.4444444444444444,\"#bd3786\"],[0.5555555555555556,\"#d8576b\"],[0.6666666666666666,\"#ed7953\"],[0.7777777777777778,\"#fb9f3a\"],[0.8888888888888888,\"#fdca26\"],[1.0,\"#f0f921\"]]}],\"choropleth\":[{\"type\":\"choropleth\",\"colorbar\":{\"outlinewidth\":0,\"ticks\":\"\"}}],\"histogram2d\":[{\"type\":\"histogram2d\",\"colorbar\":{\"outlinewidth\":0,\"ticks\":\"\"},\"colorscale\":[[0.0,\"#0d0887\"],[0.1111111111111111,\"#46039f\"],[0.2222222222222222,\"#7201a8\"],[0.3333333333333333,\"#9c179e\"],[0.4444444444444444,\"#bd3786\"],[0.5555555555555556,\"#d8576b\"],[0.6666666666666666,\"#ed7953\"],[0.7777777777777778,\"#fb9f3a\"],[0.8888888888888888,\"#fdca26\"],[1.0,\"#f0f921\"]]}],\"heatmap\":[{\"type\":\"heatmap\",\"colorbar\":{\"outlinewidth\":0,\"ticks\":\"\"},\"colorscale\":[[0.0,\"#0d0887\"],[0.1111111111111111,\"#46039f\"],[0.2222222222222222,\"#7201a8\"],[0.3333333333333333,\"#9c179e\"],[0.4444444444444444,\"#bd3786\"],[0.5555555555555556,\"#d8576b\"],[0.6666666666666666,\"#ed7953\"],[0.7777777777777778,\"#fb9f3a\"],[0.8888888888888888,\"#fdca26\"],[1.0,\"#f0f921\"]]}],\"heatmapgl\":[{\"type\":\"heatmapgl\",\"colorbar\":{\"outlinewidth\":0,\"ticks\":\"\"},\"colorscale\":[[0.0,\"#0d0887\"],[0.1111111111111111,\"#46039f\"],[0.2222222222222222,\"#7201a8\"],[0.3333333333333333,\"#9c179e\"],[0.4444444444444444,\"#bd3786\"],[0.5555555555555556,\"#d8576b\"],[0.6666666666666666,\"#ed7953\"],[0.7777777777777778,\"#fb9f3a\"],[0.8888888888888888,\"#fdca26\"],[1.0,\"#f0f921\"]]}],\"contourcarpet\":[{\"type\":\"contourcarpet\",\"colorbar\":{\"outlinewidth\":0,\"ticks\":\"\"}}],\"contour\":[{\"type\":\"contour\",\"colorbar\":{\"outlinewidth\":0,\"ticks\":\"\"},\"colorscale\":[[0.0,\"#0d0887\"],[0.1111111111111111,\"#46039f\"],[0.2222222222222222,\"#7201a8\"],[0.3333333333333333,\"#9c179e\"],[0.4444444444444444,\"#bd3786\"],[0.5555555555555556,\"#d8576b\"],[0.6666666666666666,\"#ed7953\"],[0.7777777777777778,\"#fb9f3a\"],[0.8888888888888888,\"#fdca26\"],[1.0,\"#f0f921\"]]}],\"surface\":[{\"type\":\"surface\",\"colorbar\":{\"outlinewidth\":0,\"ticks\":\"\"},\"colorscale\":[[0.0,\"#0d0887\"],[0.1111111111111111,\"#46039f\"],[0.2222222222222222,\"#7201a8\"],[0.3333333333333333,\"#9c179e\"],[0.4444444444444444,\"#bd3786\"],[0.5555555555555556,\"#d8576b\"],[0.6666666666666666,\"#ed7953\"],[0.7777777777777778,\"#fb9f3a\"],[0.8888888888888888,\"#fdca26\"],[1.0,\"#f0f921\"]]}],\"mesh3d\":[{\"type\":\"mesh3d\",\"colorbar\":{\"outlinewidth\":0,\"ticks\":\"\"}}],\"scatter\":[{\"fillpattern\":{\"fillmode\":\"overlay\",\"size\":10,\"solidity\":0.2},\"type\":\"scatter\"}],\"parcoords\":[{\"type\":\"parcoords\",\"line\":{\"colorbar\":{\"outlinewidth\":0,\"ticks\":\"\"}}}],\"scatterpolargl\":[{\"type\":\"scatterpolargl\",\"marker\":{\"colorbar\":{\"outlinewidth\":0,\"ticks\":\"\"}}}],\"bar\":[{\"error_x\":{\"color\":\"#2a3f5f\"},\"error_y\":{\"color\":\"#2a3f5f\"},\"marker\":{\"line\":{\"color\":\"#E5ECF6\",\"width\":0.5},\"pattern\":{\"fillmode\":\"overlay\",\"size\":10,\"solidity\":0.2}},\"type\":\"bar\"}],\"scattergeo\":[{\"type\":\"scattergeo\",\"marker\":{\"colorbar\":{\"outlinewidth\":0,\"ticks\":\"\"}}}],\"scatterpolar\":[{\"type\":\"scatterpolar\",\"marker\":{\"colorbar\":{\"outlinewidth\":0,\"ticks\":\"\"}}}],\"histogram\":[{\"marker\":{\"pattern\":{\"fillmode\":\"overlay\",\"size\":10,\"solidity\":0.2}},\"type\":\"histogram\"}],\"scattergl\":[{\"type\":\"scattergl\",\"marker\":{\"colorbar\":{\"outlinewidth\":0,\"ticks\":\"\"}}}],\"scatter3d\":[{\"type\":\"scatter3d\",\"line\":{\"colorbar\":{\"outlinewidth\":0,\"ticks\":\"\"}},\"marker\":{\"colorbar\":{\"outlinewidth\":0,\"ticks\":\"\"}}}],\"scattermapbox\":[{\"type\":\"scattermapbox\",\"marker\":{\"colorbar\":{\"outlinewidth\":0,\"ticks\":\"\"}}}],\"scatterternary\":[{\"type\":\"scatterternary\",\"marker\":{\"colorbar\":{\"outlinewidth\":0,\"ticks\":\"\"}}}],\"scattercarpet\":[{\"type\":\"scattercarpet\",\"marker\":{\"colorbar\":{\"outlinewidth\":0,\"ticks\":\"\"}}}],\"carpet\":[{\"aaxis\":{\"endlinecolor\":\"#2a3f5f\",\"gridcolor\":\"white\",\"linecolor\":\"white\",\"minorgridcolor\":\"white\",\"startlinecolor\":\"#2a3f5f\"},\"baxis\":{\"endlinecolor\":\"#2a3f5f\",\"gridcolor\":\"white\",\"linecolor\":\"white\",\"minorgridcolor\":\"white\",\"startlinecolor\":\"#2a3f5f\"},\"type\":\"carpet\"}],\"table\":[{\"cells\":{\"fill\":{\"color\":\"#EBF0F8\"},\"line\":{\"color\":\"white\"}},\"header\":{\"fill\":{\"color\":\"#C8D4E3\"},\"line\":{\"color\":\"white\"}},\"type\":\"table\"}],\"barpolar\":[{\"marker\":{\"line\":{\"color\":\"#E5ECF6\",\"width\":0.5},\"pattern\":{\"fillmode\":\"overlay\",\"size\":10,\"solidity\":0.2}},\"type\":\"barpolar\"}],\"pie\":[{\"automargin\":true,\"type\":\"pie\"}]},\"layout\":{\"autotypenumbers\":\"strict\",\"colorway\":[\"#636efa\",\"#EF553B\",\"#00cc96\",\"#ab63fa\",\"#FFA15A\",\"#19d3f3\",\"#FF6692\",\"#B6E880\",\"#FF97FF\",\"#FECB52\"],\"font\":{\"color\":\"#2a3f5f\"},\"hovermode\":\"closest\",\"hoverlabel\":{\"align\":\"left\"},\"paper_bgcolor\":\"white\",\"plot_bgcolor\":\"#E5ECF6\",\"polar\":{\"bgcolor\":\"#E5ECF6\",\"angularaxis\":{\"gridcolor\":\"white\",\"linecolor\":\"white\",\"ticks\":\"\"},\"radialaxis\":{\"gridcolor\":\"white\",\"linecolor\":\"white\",\"ticks\":\"\"}},\"ternary\":{\"bgcolor\":\"#E5ECF6\",\"aaxis\":{\"gridcolor\":\"white\",\"linecolor\":\"white\",\"ticks\":\"\"},\"baxis\":{\"gridcolor\":\"white\",\"linecolor\":\"white\",\"ticks\":\"\"},\"caxis\":{\"gridcolor\":\"white\",\"linecolor\":\"white\",\"ticks\":\"\"}},\"coloraxis\":{\"colorbar\":{\"outlinewidth\":0,\"ticks\":\"\"}},\"colorscale\":{\"sequential\":[[0.0,\"#0d0887\"],[0.1111111111111111,\"#46039f\"],[0.2222222222222222,\"#7201a8\"],[0.3333333333333333,\"#9c179e\"],[0.4444444444444444,\"#bd3786\"],[0.5555555555555556,\"#d8576b\"],[0.6666666666666666,\"#ed7953\"],[0.7777777777777778,\"#fb9f3a\"],[0.8888888888888888,\"#fdca26\"],[1.0,\"#f0f921\"]],\"sequentialminus\":[[0.0,\"#0d0887\"],[0.1111111111111111,\"#46039f\"],[0.2222222222222222,\"#7201a8\"],[0.3333333333333333,\"#9c179e\"],[0.4444444444444444,\"#bd3786\"],[0.5555555555555556,\"#d8576b\"],[0.6666666666666666,\"#ed7953\"],[0.7777777777777778,\"#fb9f3a\"],[0.8888888888888888,\"#fdca26\"],[1.0,\"#f0f921\"]],\"diverging\":[[0,\"#8e0152\"],[0.1,\"#c51b7d\"],[0.2,\"#de77ae\"],[0.3,\"#f1b6da\"],[0.4,\"#fde0ef\"],[0.5,\"#f7f7f7\"],[0.6,\"#e6f5d0\"],[0.7,\"#b8e186\"],[0.8,\"#7fbc41\"],[0.9,\"#4d9221\"],[1,\"#276419\"]]},\"xaxis\":{\"gridcolor\":\"white\",\"linecolor\":\"white\",\"ticks\":\"\",\"title\":{\"standoff\":15},\"zerolinecolor\":\"white\",\"automargin\":true,\"zerolinewidth\":2},\"yaxis\":{\"gridcolor\":\"white\",\"linecolor\":\"white\",\"ticks\":\"\",\"title\":{\"standoff\":15},\"zerolinecolor\":\"white\",\"automargin\":true,\"zerolinewidth\":2},\"scene\":{\"xaxis\":{\"backgroundcolor\":\"#E5ECF6\",\"gridcolor\":\"white\",\"linecolor\":\"white\",\"showbackground\":true,\"ticks\":\"\",\"zerolinecolor\":\"white\",\"gridwidth\":2},\"yaxis\":{\"backgroundcolor\":\"#E5ECF6\",\"gridcolor\":\"white\",\"linecolor\":\"white\",\"showbackground\":true,\"ticks\":\"\",\"zerolinecolor\":\"white\",\"gridwidth\":2},\"zaxis\":{\"backgroundcolor\":\"#E5ECF6\",\"gridcolor\":\"white\",\"linecolor\":\"white\",\"showbackground\":true,\"ticks\":\"\",\"zerolinecolor\":\"white\",\"gridwidth\":2}},\"shapedefaults\":{\"line\":{\"color\":\"#2a3f5f\"}},\"annotationdefaults\":{\"arrowcolor\":\"#2a3f5f\",\"arrowhead\":0,\"arrowwidth\":1},\"geo\":{\"bgcolor\":\"white\",\"landcolor\":\"#E5ECF6\",\"subunitcolor\":\"white\",\"showland\":true,\"showlakes\":true,\"lakecolor\":\"white\"},\"title\":{\"x\":0.05},\"mapbox\":{\"style\":\"light\"}}}},                        {\"responsive\": true}                    ).then(function(){\n",
              "                            \n",
              "var gd = document.getElementById('a5f3ba10-ed93-4a98-8f25-0745142f4682');\n",
              "var x = new MutationObserver(function (mutations, observer) {{\n",
              "        var display = window.getComputedStyle(gd).display;\n",
              "        if (!display || display === 'none') {{\n",
              "            console.log([gd, 'removed!']);\n",
              "            Plotly.purge(gd);\n",
              "            observer.disconnect();\n",
              "        }}\n",
              "}});\n",
              "\n",
              "// Listen for the removal of the full notebook cells\n",
              "var notebookContainer = gd.closest('#notebook-container');\n",
              "if (notebookContainer) {{\n",
              "    x.observe(notebookContainer, {childList: true});\n",
              "}}\n",
              "\n",
              "// Listen for the clearing of the current output cell\n",
              "var outputEl = gd.closest('.output');\n",
              "if (outputEl) {{\n",
              "    x.observe(outputEl, {childList: true});\n",
              "}}\n",
              "\n",
              "                        })                };                            </script>        </div>\n",
              "</body>\n",
              "</html>"
            ]
          },
          "metadata": {}
        }
      ],
      "source": [
        "kmeans_analysisx.return_k_clusters_3d_scatter_plot \\\n",
        "    (crypto_dataframe, 3, colors_string_list,\n",
        "     '3.4.2: Cryptocurrency Price Change (%) 3-D Scatter Plot (k=3)',\n",
        "     ['price_change_percentage_24h', 'price_change_percentage_7d', 'price_change_percentage_14d'])"
      ]
    },
    {
      "cell_type": "code",
      "execution_count": null,
      "id": "3823f5c0",
      "metadata": {
        "colab": {
          "base_uri": "https://localhost:8080/",
          "height": 917
        },
        "id": "3823f5c0",
        "outputId": "2c10b1ca-580d-400f-922a-3f224c87abab"
      },
      "outputs": [
        {
          "output_type": "display_data",
          "data": {
            "text/html": [
              "<html>\n",
              "<head><meta charset=\"utf-8\" /></head>\n",
              "<body>\n",
              "    <div>            <script src=\"https://cdnjs.cloudflare.com/ajax/libs/mathjax/2.7.5/MathJax.js?config=TeX-AMS-MML_SVG\"></script><script type=\"text/javascript\">if (window.MathJax && window.MathJax.Hub && window.MathJax.Hub.Config) {window.MathJax.Hub.Config({SVG: {font: \"STIX-Web\"}});}</script>                <script type=\"text/javascript\">window.PlotlyConfig = {MathJaxConfig: 'local'};</script>\n",
              "        <script charset=\"utf-8\" src=\"https://cdn.plot.ly/plotly-2.31.1.min.js\"></script>                <div id=\"2a9f72d9-4ae6-42cf-9ab5-35754196deab\" class=\"plotly-graph-div\" style=\"height:900px; width:900px;\"></div>            <script type=\"text/javascript\">                                    window.PLOTLYENV=window.PLOTLYENV || {};                                    if (document.getElementById(\"2a9f72d9-4ae6-42cf-9ab5-35754196deab\")) {                    Plotly.newPlot(                        \"2a9f72d9-4ae6-42cf-9ab5-35754196deab\",                        [{\"hovertemplate\":\"\\u003cb\\u003eCryptocurrency:\\u003c\\u002fb\\u003e %{text}\\u003cbr\\u003e\\u003cb\\u003ex:\\u003c\\u002fb\\u003e %{x}\\u003cbr\\u003e\\u003cb\\u003ey:\\u003c\\u002fb\\u003e %{y}\\u003cbr\\u003e\\u003cb\\u003ez:\\u003c\\u002fb\\u003e %{z}\\u003cbr\\u003e\\u003cextra\\u003e\\u003c\\u002fextra\\u003e\",\"marker\":{\"color\":[0,0,0,0,0,0,0,0,0,0,0,0,0,0,0,0,0,0,0,0,0,0,0,0,0,0,0,0,0,0,0,0,1,0,0,0,0,0,0,0,0],\"colorscale\":[[0.0,\"firebrick\"],[0.16666666666666666,\"green\"],[0.3333333333333333,\"orange\"],[0.5,\"lightsteelblue\"],[0.6666666666666666,\"gold\"],[0.8333333333333334,\"purple\"],[1.0,\"blue\"]],\"line\":{\"color\":\"black\",\"width\":1.0},\"opacity\":1.0,\"size\":7.0},\"mode\":\"markers\",\"name\":\"Points\",\"showlegend\":true,\"text\":[\"bitcoin\",\"ethereum\",\"tether\",\"ripple\",\"bitcoin-cash\",\"binancecoin\",\"chainlink\",\"cardano\",\"litecoin\",\"bitcoin-cash-sv\",\"crypto-com-chain\",\"usd-coin\",\"eos\",\"monero\",\"tron\",\"tezos\",\"okb\",\"stellar\",\"cosmos\",\"cdai\",\"neo\",\"wrapped-bitcoin\",\"leo-token\",\"huobi-token\",\"nem\",\"binance-usd\",\"iota\",\"vechain\",\"zcash\",\"theta-token\",\"dash\",\"ethereum-classic\",\"ethlend\",\"maker\",\"havven\",\"omisego\",\"celsius-degree-token\",\"ontology\",\"ftx-token\",\"true-usd\",\"digibyte\"],\"x\":[1.08388,0.22392,-0.21173,-0.37819,2.90585,2.10423,-0.23935,0.00322,-0.06341,0.9253,0.61209,-0.17825,0.14477,0.42961,0.07647,-0.67316,-2.727,-1.00843,-0.95103,0.21169,0.49302,1.10231,-0.13192,-0.40818,-0.8499,-0.10642,0.41996,1.28766,-0.60897,-4.56089,-1.06006,-0.4595,-13.52786,-0.60285,-4.07216,4.84033,2.51323,-1.35845,0.83416,-0.06197,2.97084],\"y\":[7.60278,10.38134,0.04935,-0.60926,17.09717,12.85511,20.69459,13.99302,6.60221,3.29641,-5.67151,-0.11871,-1.31177,15.78515,4.23886,8.95665,-4.55389,2.07149,16.08534,0.0582,2.44243,7.40537,-1.34886,1.61798,-0.8514,0.04726,6.0683,-1.76352,10.3478,-6.09456,5.09387,3.05209,4.21266,8.154,4.33651,6.82985,0.60354,-1.21399,7.10438,0.16642,0.67038],\"z\":[6.57509,4.80849,0.0064,2.24984,14.75334,6.80688,9.30098,5.55476,7.28931,-1.86656,-8.53948,-0.00568,1.13751,18.41097,1.40337,2.32062,-5.02662,-1.08217,5.51074,0.17076,-9.84803,6.55668,-7.02859,0.45488,2.64844,0.05902,-3.77714,-18.1589,5.79179,-6.57354,0.51708,-1.26669,-9.80075,-1.48854,-13.29164,-13.21636,24.23919,-10.56222,-0.20629,0.10974,-7.31941],\"type\":\"scatter3d\"},{\"hovertemplate\":\"\\u003cb\\u003eCluster %{text}\\u003c\\u002fb\\u003e\\u003cbr\\u003e\\u003cb\\u003ex:\\u003c\\u002fb\\u003e %{x}\\u003cbr\\u003e\\u003cb\\u003ey:\\u003c\\u002fb\\u003e %{y}\\u003cbr\\u003e\\u003cb\\u003ez:\\u003c\\u002fb\\u003e %{z}\\u003cbr\\u003e\\u003cextra\\u003e\\u003c\\u002fextra\\u003e\",\"marker\":{\"color\":[0,1],\"colorscale\":[[0.0,\"firebrick\"],[0.16666666666666666,\"green\"],[0.3333333333333333,\"orange\"],[0.5,\"lightsteelblue\"],[0.6666666666666666,\"gold\"],[0.8333333333333334,\"purple\"],[1.0,\"blue\"]],\"line\":{\"color\":\"black\",\"width\":1.5},\"opacity\":0.4,\"size\":42.0},\"mode\":\"markers\",\"name\":\"Clusters\",\"showlegend\":true,\"text\":[\"1\",\"2\"],\"x\":[0.061768000000000045,-13.52786],\"y\":[4.5042595,4.21266],\"z\":[0.43545049999999985,-9.80075],\"type\":\"scatter3d\"}],                        {\"height\":900,\"legend\":{\"bgcolor\":\"aliceblue\",\"font\":{\"color\":\"black\",\"family\":\"garamond\",\"size\":20.0},\"x\":1.2,\"xanchor\":\"right\",\"y\":0.8,\"yanchor\":\"top\"},\"scene\":{\"aspectmode\":\"manual\",\"aspectratio\":{\"x\":0.9,\"y\":0.9,\"z\":0.9},\"xaxis\":{\"color\":\"black\",\"gridcolor\":\"darkblue\",\"linecolor\":\"black\",\"linewidth\":2.0,\"mirror\":true,\"showbackground\":true,\"showline\":true,\"tickfont\":{\"color\":\"black\",\"family\":\"garamond\",\"size\":14},\"title\":{\"font\":{\"color\":\"black\",\"family\":\"garamond\",\"size\":18.0},\"text\":\"price_change_percentage_24h\"}},\"yaxis\":{\"color\":\"black\",\"gridcolor\":\"darkblue\",\"linecolor\":\"black\",\"linewidth\":2.0,\"mirror\":true,\"showbackground\":true,\"showline\":true,\"tickfont\":{\"color\":\"black\",\"family\":\"garamond\",\"size\":14.0},\"title\":{\"font\":{\"color\":\"black\",\"family\":\"garamond\",\"size\":18.0},\"text\":\"price_change_percentage_7d\"}},\"zaxis\":{\"color\":\"black\",\"gridcolor\":\"darkblue\",\"linecolor\":\"black\",\"linewidth\":2.0,\"mirror\":true,\"showbackground\":true,\"showline\":true,\"tickfont\":{\"color\":\"black\",\"family\":\"garamond\",\"size\":14.0},\"title\":{\"font\":{\"color\":\"black\",\"family\":\"garamond\",\"size\":18.0},\"text\":\"price_change_percentage_14d\"}}},\"title\":{\"font\":{\"color\":\"black\",\"family\":\"garamond\",\"size\":28.0},\"text\":\"3.4.4: Cryptocurrency Price Change (%) 3-D Scatter Plot (k=2)\",\"x\":0.5,\"y\":0.85},\"width\":900,\"template\":{\"data\":{\"histogram2dcontour\":[{\"type\":\"histogram2dcontour\",\"colorbar\":{\"outlinewidth\":0,\"ticks\":\"\"},\"colorscale\":[[0.0,\"#0d0887\"],[0.1111111111111111,\"#46039f\"],[0.2222222222222222,\"#7201a8\"],[0.3333333333333333,\"#9c179e\"],[0.4444444444444444,\"#bd3786\"],[0.5555555555555556,\"#d8576b\"],[0.6666666666666666,\"#ed7953\"],[0.7777777777777778,\"#fb9f3a\"],[0.8888888888888888,\"#fdca26\"],[1.0,\"#f0f921\"]]}],\"choropleth\":[{\"type\":\"choropleth\",\"colorbar\":{\"outlinewidth\":0,\"ticks\":\"\"}}],\"histogram2d\":[{\"type\":\"histogram2d\",\"colorbar\":{\"outlinewidth\":0,\"ticks\":\"\"},\"colorscale\":[[0.0,\"#0d0887\"],[0.1111111111111111,\"#46039f\"],[0.2222222222222222,\"#7201a8\"],[0.3333333333333333,\"#9c179e\"],[0.4444444444444444,\"#bd3786\"],[0.5555555555555556,\"#d8576b\"],[0.6666666666666666,\"#ed7953\"],[0.7777777777777778,\"#fb9f3a\"],[0.8888888888888888,\"#fdca26\"],[1.0,\"#f0f921\"]]}],\"heatmap\":[{\"type\":\"heatmap\",\"colorbar\":{\"outlinewidth\":0,\"ticks\":\"\"},\"colorscale\":[[0.0,\"#0d0887\"],[0.1111111111111111,\"#46039f\"],[0.2222222222222222,\"#7201a8\"],[0.3333333333333333,\"#9c179e\"],[0.4444444444444444,\"#bd3786\"],[0.5555555555555556,\"#d8576b\"],[0.6666666666666666,\"#ed7953\"],[0.7777777777777778,\"#fb9f3a\"],[0.8888888888888888,\"#fdca26\"],[1.0,\"#f0f921\"]]}],\"heatmapgl\":[{\"type\":\"heatmapgl\",\"colorbar\":{\"outlinewidth\":0,\"ticks\":\"\"},\"colorscale\":[[0.0,\"#0d0887\"],[0.1111111111111111,\"#46039f\"],[0.2222222222222222,\"#7201a8\"],[0.3333333333333333,\"#9c179e\"],[0.4444444444444444,\"#bd3786\"],[0.5555555555555556,\"#d8576b\"],[0.6666666666666666,\"#ed7953\"],[0.7777777777777778,\"#fb9f3a\"],[0.8888888888888888,\"#fdca26\"],[1.0,\"#f0f921\"]]}],\"contourcarpet\":[{\"type\":\"contourcarpet\",\"colorbar\":{\"outlinewidth\":0,\"ticks\":\"\"}}],\"contour\":[{\"type\":\"contour\",\"colorbar\":{\"outlinewidth\":0,\"ticks\":\"\"},\"colorscale\":[[0.0,\"#0d0887\"],[0.1111111111111111,\"#46039f\"],[0.2222222222222222,\"#7201a8\"],[0.3333333333333333,\"#9c179e\"],[0.4444444444444444,\"#bd3786\"],[0.5555555555555556,\"#d8576b\"],[0.6666666666666666,\"#ed7953\"],[0.7777777777777778,\"#fb9f3a\"],[0.8888888888888888,\"#fdca26\"],[1.0,\"#f0f921\"]]}],\"surface\":[{\"type\":\"surface\",\"colorbar\":{\"outlinewidth\":0,\"ticks\":\"\"},\"colorscale\":[[0.0,\"#0d0887\"],[0.1111111111111111,\"#46039f\"],[0.2222222222222222,\"#7201a8\"],[0.3333333333333333,\"#9c179e\"],[0.4444444444444444,\"#bd3786\"],[0.5555555555555556,\"#d8576b\"],[0.6666666666666666,\"#ed7953\"],[0.7777777777777778,\"#fb9f3a\"],[0.8888888888888888,\"#fdca26\"],[1.0,\"#f0f921\"]]}],\"mesh3d\":[{\"type\":\"mesh3d\",\"colorbar\":{\"outlinewidth\":0,\"ticks\":\"\"}}],\"scatter\":[{\"fillpattern\":{\"fillmode\":\"overlay\",\"size\":10,\"solidity\":0.2},\"type\":\"scatter\"}],\"parcoords\":[{\"type\":\"parcoords\",\"line\":{\"colorbar\":{\"outlinewidth\":0,\"ticks\":\"\"}}}],\"scatterpolargl\":[{\"type\":\"scatterpolargl\",\"marker\":{\"colorbar\":{\"outlinewidth\":0,\"ticks\":\"\"}}}],\"bar\":[{\"error_x\":{\"color\":\"#2a3f5f\"},\"error_y\":{\"color\":\"#2a3f5f\"},\"marker\":{\"line\":{\"color\":\"#E5ECF6\",\"width\":0.5},\"pattern\":{\"fillmode\":\"overlay\",\"size\":10,\"solidity\":0.2}},\"type\":\"bar\"}],\"scattergeo\":[{\"type\":\"scattergeo\",\"marker\":{\"colorbar\":{\"outlinewidth\":0,\"ticks\":\"\"}}}],\"scatterpolar\":[{\"type\":\"scatterpolar\",\"marker\":{\"colorbar\":{\"outlinewidth\":0,\"ticks\":\"\"}}}],\"histogram\":[{\"marker\":{\"pattern\":{\"fillmode\":\"overlay\",\"size\":10,\"solidity\":0.2}},\"type\":\"histogram\"}],\"scattergl\":[{\"type\":\"scattergl\",\"marker\":{\"colorbar\":{\"outlinewidth\":0,\"ticks\":\"\"}}}],\"scatter3d\":[{\"type\":\"scatter3d\",\"line\":{\"colorbar\":{\"outlinewidth\":0,\"ticks\":\"\"}},\"marker\":{\"colorbar\":{\"outlinewidth\":0,\"ticks\":\"\"}}}],\"scattermapbox\":[{\"type\":\"scattermapbox\",\"marker\":{\"colorbar\":{\"outlinewidth\":0,\"ticks\":\"\"}}}],\"scatterternary\":[{\"type\":\"scatterternary\",\"marker\":{\"colorbar\":{\"outlinewidth\":0,\"ticks\":\"\"}}}],\"scattercarpet\":[{\"type\":\"scattercarpet\",\"marker\":{\"colorbar\":{\"outlinewidth\":0,\"ticks\":\"\"}}}],\"carpet\":[{\"aaxis\":{\"endlinecolor\":\"#2a3f5f\",\"gridcolor\":\"white\",\"linecolor\":\"white\",\"minorgridcolor\":\"white\",\"startlinecolor\":\"#2a3f5f\"},\"baxis\":{\"endlinecolor\":\"#2a3f5f\",\"gridcolor\":\"white\",\"linecolor\":\"white\",\"minorgridcolor\":\"white\",\"startlinecolor\":\"#2a3f5f\"},\"type\":\"carpet\"}],\"table\":[{\"cells\":{\"fill\":{\"color\":\"#EBF0F8\"},\"line\":{\"color\":\"white\"}},\"header\":{\"fill\":{\"color\":\"#C8D4E3\"},\"line\":{\"color\":\"white\"}},\"type\":\"table\"}],\"barpolar\":[{\"marker\":{\"line\":{\"color\":\"#E5ECF6\",\"width\":0.5},\"pattern\":{\"fillmode\":\"overlay\",\"size\":10,\"solidity\":0.2}},\"type\":\"barpolar\"}],\"pie\":[{\"automargin\":true,\"type\":\"pie\"}]},\"layout\":{\"autotypenumbers\":\"strict\",\"colorway\":[\"#636efa\",\"#EF553B\",\"#00cc96\",\"#ab63fa\",\"#FFA15A\",\"#19d3f3\",\"#FF6692\",\"#B6E880\",\"#FF97FF\",\"#FECB52\"],\"font\":{\"color\":\"#2a3f5f\"},\"hovermode\":\"closest\",\"hoverlabel\":{\"align\":\"left\"},\"paper_bgcolor\":\"white\",\"plot_bgcolor\":\"#E5ECF6\",\"polar\":{\"bgcolor\":\"#E5ECF6\",\"angularaxis\":{\"gridcolor\":\"white\",\"linecolor\":\"white\",\"ticks\":\"\"},\"radialaxis\":{\"gridcolor\":\"white\",\"linecolor\":\"white\",\"ticks\":\"\"}},\"ternary\":{\"bgcolor\":\"#E5ECF6\",\"aaxis\":{\"gridcolor\":\"white\",\"linecolor\":\"white\",\"ticks\":\"\"},\"baxis\":{\"gridcolor\":\"white\",\"linecolor\":\"white\",\"ticks\":\"\"},\"caxis\":{\"gridcolor\":\"white\",\"linecolor\":\"white\",\"ticks\":\"\"}},\"coloraxis\":{\"colorbar\":{\"outlinewidth\":0,\"ticks\":\"\"}},\"colorscale\":{\"sequential\":[[0.0,\"#0d0887\"],[0.1111111111111111,\"#46039f\"],[0.2222222222222222,\"#7201a8\"],[0.3333333333333333,\"#9c179e\"],[0.4444444444444444,\"#bd3786\"],[0.5555555555555556,\"#d8576b\"],[0.6666666666666666,\"#ed7953\"],[0.7777777777777778,\"#fb9f3a\"],[0.8888888888888888,\"#fdca26\"],[1.0,\"#f0f921\"]],\"sequentialminus\":[[0.0,\"#0d0887\"],[0.1111111111111111,\"#46039f\"],[0.2222222222222222,\"#7201a8\"],[0.3333333333333333,\"#9c179e\"],[0.4444444444444444,\"#bd3786\"],[0.5555555555555556,\"#d8576b\"],[0.6666666666666666,\"#ed7953\"],[0.7777777777777778,\"#fb9f3a\"],[0.8888888888888888,\"#fdca26\"],[1.0,\"#f0f921\"]],\"diverging\":[[0,\"#8e0152\"],[0.1,\"#c51b7d\"],[0.2,\"#de77ae\"],[0.3,\"#f1b6da\"],[0.4,\"#fde0ef\"],[0.5,\"#f7f7f7\"],[0.6,\"#e6f5d0\"],[0.7,\"#b8e186\"],[0.8,\"#7fbc41\"],[0.9,\"#4d9221\"],[1,\"#276419\"]]},\"xaxis\":{\"gridcolor\":\"white\",\"linecolor\":\"white\",\"ticks\":\"\",\"title\":{\"standoff\":15},\"zerolinecolor\":\"white\",\"automargin\":true,\"zerolinewidth\":2},\"yaxis\":{\"gridcolor\":\"white\",\"linecolor\":\"white\",\"ticks\":\"\",\"title\":{\"standoff\":15},\"zerolinecolor\":\"white\",\"automargin\":true,\"zerolinewidth\":2},\"scene\":{\"xaxis\":{\"backgroundcolor\":\"#E5ECF6\",\"gridcolor\":\"white\",\"linecolor\":\"white\",\"showbackground\":true,\"ticks\":\"\",\"zerolinecolor\":\"white\",\"gridwidth\":2},\"yaxis\":{\"backgroundcolor\":\"#E5ECF6\",\"gridcolor\":\"white\",\"linecolor\":\"white\",\"showbackground\":true,\"ticks\":\"\",\"zerolinecolor\":\"white\",\"gridwidth\":2},\"zaxis\":{\"backgroundcolor\":\"#E5ECF6\",\"gridcolor\":\"white\",\"linecolor\":\"white\",\"showbackground\":true,\"ticks\":\"\",\"zerolinecolor\":\"white\",\"gridwidth\":2}},\"shapedefaults\":{\"line\":{\"color\":\"#2a3f5f\"}},\"annotationdefaults\":{\"arrowcolor\":\"#2a3f5f\",\"arrowhead\":0,\"arrowwidth\":1},\"geo\":{\"bgcolor\":\"white\",\"landcolor\":\"#E5ECF6\",\"subunitcolor\":\"white\",\"showland\":true,\"showlakes\":true,\"lakecolor\":\"white\"},\"title\":{\"x\":0.05},\"mapbox\":{\"style\":\"light\"}}}},                        {\"responsive\": true}                    ).then(function(){\n",
              "                            \n",
              "var gd = document.getElementById('2a9f72d9-4ae6-42cf-9ab5-35754196deab');\n",
              "var x = new MutationObserver(function (mutations, observer) {{\n",
              "        var display = window.getComputedStyle(gd).display;\n",
              "        if (!display || display === 'none') {{\n",
              "            console.log([gd, 'removed!']);\n",
              "            Plotly.purge(gd);\n",
              "            observer.disconnect();\n",
              "        }}\n",
              "}});\n",
              "\n",
              "// Listen for the removal of the full notebook cells\n",
              "var notebookContainer = gd.closest('#notebook-container');\n",
              "if (notebookContainer) {{\n",
              "    x.observe(notebookContainer, {childList: true});\n",
              "}}\n",
              "\n",
              "// Listen for the clearing of the current output cell\n",
              "var outputEl = gd.closest('.output');\n",
              "if (outputEl) {{\n",
              "    x.observe(outputEl, {childList: true});\n",
              "}}\n",
              "\n",
              "                        })                };                            </script>        </div>\n",
              "</body>\n",
              "</html>"
            ]
          },
          "metadata": {}
        }
      ],
      "source": [
        "kmeans_analysisx.return_k_clusters_3d_scatter_plot \\\n",
        "    (crypto_dataframe, 2, colors_string_list,\n",
        "     '3.4.4: Cryptocurrency Price Change (%) 3-D Scatter Plot (k=2)',\n",
        "     ['price_change_percentage_24h', 'price_change_percentage_7d', 'price_change_percentage_14d'])"
      ]
    },
    {
      "cell_type": "markdown",
      "id": "24053cc2",
      "metadata": {
        "id": "24053cc2"
      },
      "source": [
        "# <br> **Section 4: Optimize K-Means Clusters with Principal Component Analysis**"
      ]
    },
    {
      "cell_type": "markdown",
      "id": "3eca7b9f",
      "metadata": {
        "id": "3eca7b9f"
      },
      "source": [
        "## **4.1: PCA Component Explained Variance**"
      ]
    },
    {
      "cell_type": "markdown",
      "id": "16a626ef",
      "metadata": {
        "id": "16a626ef"
      },
      "source": [
        "### **Calculations**"
      ]
    },
    {
      "cell_type": "code",
      "execution_count": null,
      "id": "27994c99",
      "metadata": {
        "id": "27994c99"
      },
      "outputs": [],
      "source": [
        "pca_model = PCA (n_components = 3)"
      ]
    },
    {
      "cell_type": "code",
      "execution_count": null,
      "id": "a66162fc",
      "metadata": {
        "colab": {
          "base_uri": "https://localhost:8080/"
        },
        "id": "a66162fc",
        "outputId": "01da67ac-71cf-45a8-c503-576035093157"
      },
      "outputs": [
        {
          "output_type": "execute_result",
          "data": {
            "text/plain": [
              "array([[-0.60066733,  0.84276006,  0.46159457],\n",
              "       [-0.45826071,  0.45846566,  0.95287678],\n",
              "       [-0.43306981, -0.16812638, -0.64175193],\n",
              "       [-0.47183495, -0.22266008, -0.47905316],\n",
              "       [-1.15779997,  2.04120919,  1.85971527]])"
            ]
          },
          "metadata": {},
          "execution_count": 92
        }
      ],
      "source": [
        "crypto_pca_nparray = pca_model.fit_transform(normalized_crypto_dataframe)\n",
        "\n",
        "crypto_pca_nparray[0:5]"
      ]
    },
    {
      "cell_type": "markdown",
      "id": "db248146",
      "metadata": {
        "id": "db248146"
      },
      "source": [
        "### **Display the Explained Variance for Each Component**"
      ]
    },
    {
      "cell_type": "code",
      "execution_count": null,
      "id": "94371ce9",
      "metadata": {
        "colab": {
          "base_uri": "https://localhost:8080/"
        },
        "id": "94371ce9",
        "outputId": "4e715f8e-6b5e-4f60-f129-f663bfcb4bfa"
      },
      "outputs": [
        {
          "output_type": "stream",
          "name": "stdout",
          "text": [
            "PCA1 explained variance: \u001b[1m37.20%\u001b[0m\n",
            "PCA2 explained variance: \u001b[1m34.70%\u001b[0m\n",
            "PCA3 explained variance: \u001b[1m17.60%\u001b[0m\n"
          ]
        }
      ],
      "source": [
        "total_explained_variance = 0\n",
        "\n",
        "for index, variance in enumerate(pca_model.explained_variance_ratio_):\n",
        "\n",
        "    total_explained_variance += variance\n",
        "\n",
        "    logx.print_and_log_text \\\n",
        "        (f'PCA{index + 1} explained variance: '\n",
        "         + '\\033[1m' + '{:.2f}%'.format(variance * 100) + '\\033[0m')"
      ]
    },
    {
      "cell_type": "code",
      "execution_count": null,
      "id": "263a8cbf",
      "metadata": {
        "colab": {
          "base_uri": "https://localhost:8080/"
        },
        "id": "263a8cbf",
        "outputId": "d7565f96-d49a-4450-986a-99cf20fb30e4"
      },
      "outputs": [
        {
          "output_type": "stream",
          "name": "stdout",
          "text": [
            "The total explained variance of the three principal components is \u001b[1m89.50%\n",
            "\n",
            "\u001b[0m\n"
          ]
        }
      ],
      "source": [
        "logx.print_and_log_text \\\n",
        "    ('The total explained variance of the three principal components is '\n",
        "     + '\\033[1m' + '{:.2f}%\\n\\n'.format(total_explained_variance * 100) + '\\033[0m')"
      ]
    },
    {
      "cell_type": "markdown",
      "id": "92d74bc3",
      "metadata": {
        "id": "92d74bc3"
      },
      "source": [
        "### Answer the following question:\n",
        "\n",
        "**Question:** What is the total explained variance of the three principal components?\n",
        "\n",
        "**Answer: 89.50%**"
      ]
    },
    {
      "cell_type": "markdown",
      "id": "49fc8d68",
      "metadata": {
        "id": "49fc8d68"
      },
      "source": [
        "## **4.2: PCA Cryptocurrency DataFrame**"
      ]
    },
    {
      "cell_type": "markdown",
      "id": "90125e02",
      "metadata": {
        "id": "90125e02"
      },
      "source": [
        "### **Calculations**"
      ]
    },
    {
      "cell_type": "code",
      "execution_count": null,
      "id": "a27889a7",
      "metadata": {
        "id": "a27889a7"
      },
      "outputs": [],
      "source": [
        "pca_columns_string_list \\\n",
        "    = ['PCA{}'.format(n) for n in range(1, 4)]\n",
        "\n",
        "crypto_pca_dataframe \\\n",
        "    = pd.DataFrame \\\n",
        "          (crypto_pca_nparray, columns = pca_columns_string_list, index = normalized_crypto_dataframe.index)\n",
        "\n",
        "logx.log_write_object(crypto_pca_dataframe)"
      ]
    },
    {
      "cell_type": "markdown",
      "id": "75339878",
      "metadata": {
        "id": "75339878"
      },
      "source": [
        "### **Display PCA Cryptocurrency DataFrame**"
      ]
    },
    {
      "cell_type": "code",
      "execution_count": null,
      "id": "7fb06100",
      "metadata": {
        "colab": {
          "base_uri": "https://localhost:8080/",
          "height": 454
        },
        "id": "7fb06100",
        "outputId": "2ed16b4d-e5fb-4832-eb25-a5165745aeb4"
      },
      "outputs": [
        {
          "output_type": "execute_result",
          "data": {
            "text/plain": [
              "<pandas.io.formats.style.Styler at 0x7cca7166fdf0>"
            ],
            "text/html": [
              "<style type=\"text/css\">\n",
              "#T_95a3b caption {\n",
              "  color: black;\n",
              "  font-size: 20px;\n",
              "  font-style: bold;\n",
              "  text-align: center;\n",
              "}\n",
              "#T_95a3b_row0_col0, #T_95a3b_row0_col1, #T_95a3b_row0_col2, #T_95a3b_row1_col0, #T_95a3b_row1_col1, #T_95a3b_row1_col2, #T_95a3b_row2_col0, #T_95a3b_row2_col1, #T_95a3b_row2_col2, #T_95a3b_row3_col0, #T_95a3b_row3_col1, #T_95a3b_row3_col2, #T_95a3b_row4_col0, #T_95a3b_row4_col1, #T_95a3b_row4_col2, #T_95a3b_row5_col0, #T_95a3b_row5_col1, #T_95a3b_row5_col2, #T_95a3b_row6_col0, #T_95a3b_row6_col1, #T_95a3b_row6_col2, #T_95a3b_row7_col0, #T_95a3b_row7_col1, #T_95a3b_row7_col2, #T_95a3b_row8_col0, #T_95a3b_row8_col1, #T_95a3b_row8_col2, #T_95a3b_row9_col0, #T_95a3b_row9_col1, #T_95a3b_row9_col2 {\n",
              "  text-align: center;\n",
              "  border: 1.3px solid red;\n",
              "  color: blue;\n",
              "}\n",
              "</style>\n",
              "<table id=\"T_95a3b\" class=\"dataframe\">\n",
              "  <caption>Table 4.2.1: Cryptocurrencies PCA DataFrame Table</caption>\n",
              "  <thead>\n",
              "    <tr>\n",
              "      <th class=\"blank level0\" >&nbsp;</th>\n",
              "      <th id=\"T_95a3b_level0_col0\" class=\"col_heading level0 col0\" >PCA1</th>\n",
              "      <th id=\"T_95a3b_level0_col1\" class=\"col_heading level0 col1\" >PCA2</th>\n",
              "      <th id=\"T_95a3b_level0_col2\" class=\"col_heading level0 col2\" >PCA3</th>\n",
              "    </tr>\n",
              "    <tr>\n",
              "      <th class=\"index_name level0\" >coin_id</th>\n",
              "      <th class=\"blank col0\" >&nbsp;</th>\n",
              "      <th class=\"blank col1\" >&nbsp;</th>\n",
              "      <th class=\"blank col2\" >&nbsp;</th>\n",
              "    </tr>\n",
              "  </thead>\n",
              "  <tbody>\n",
              "    <tr>\n",
              "      <th id=\"T_95a3b_level0_row0\" class=\"row_heading level0 row0\" >bitcoin</th>\n",
              "      <td id=\"T_95a3b_row0_col0\" class=\"data row0 col0\" >-0.60</td>\n",
              "      <td id=\"T_95a3b_row0_col1\" class=\"data row0 col1\" >0.84</td>\n",
              "      <td id=\"T_95a3b_row0_col2\" class=\"data row0 col2\" >0.46</td>\n",
              "    </tr>\n",
              "    <tr>\n",
              "      <th id=\"T_95a3b_level0_row1\" class=\"row_heading level0 row1\" >ethereum</th>\n",
              "      <td id=\"T_95a3b_row1_col0\" class=\"data row1 col0\" >-0.46</td>\n",
              "      <td id=\"T_95a3b_row1_col1\" class=\"data row1 col1\" >0.46</td>\n",
              "      <td id=\"T_95a3b_row1_col2\" class=\"data row1 col2\" >0.95</td>\n",
              "    </tr>\n",
              "    <tr>\n",
              "      <th id=\"T_95a3b_level0_row2\" class=\"row_heading level0 row2\" >tether</th>\n",
              "      <td id=\"T_95a3b_row2_col0\" class=\"data row2 col0\" >-0.43</td>\n",
              "      <td id=\"T_95a3b_row2_col1\" class=\"data row2 col1\" >-0.17</td>\n",
              "      <td id=\"T_95a3b_row2_col2\" class=\"data row2 col2\" >-0.64</td>\n",
              "    </tr>\n",
              "    <tr>\n",
              "      <th id=\"T_95a3b_level0_row3\" class=\"row_heading level0 row3\" >ripple</th>\n",
              "      <td id=\"T_95a3b_row3_col0\" class=\"data row3 col0\" >-0.47</td>\n",
              "      <td id=\"T_95a3b_row3_col1\" class=\"data row3 col1\" >-0.22</td>\n",
              "      <td id=\"T_95a3b_row3_col2\" class=\"data row3 col2\" >-0.48</td>\n",
              "    </tr>\n",
              "    <tr>\n",
              "      <th id=\"T_95a3b_level0_row4\" class=\"row_heading level0 row4\" >bitcoin-cash</th>\n",
              "      <td id=\"T_95a3b_row4_col0\" class=\"data row4 col0\" >-1.16</td>\n",
              "      <td id=\"T_95a3b_row4_col1\" class=\"data row4 col1\" >2.04</td>\n",
              "      <td id=\"T_95a3b_row4_col2\" class=\"data row4 col2\" >1.86</td>\n",
              "    </tr>\n",
              "    <tr>\n",
              "      <th id=\"T_95a3b_level0_row5\" class=\"row_heading level0 row5\" >binancecoin</th>\n",
              "      <td id=\"T_95a3b_row5_col0\" class=\"data row5 col0\" >-0.52</td>\n",
              "      <td id=\"T_95a3b_row5_col1\" class=\"data row5 col1\" >1.39</td>\n",
              "      <td id=\"T_95a3b_row5_col2\" class=\"data row5 col2\" >0.80</td>\n",
              "    </tr>\n",
              "    <tr>\n",
              "      <th id=\"T_95a3b_level0_row6\" class=\"row_heading level0 row6\" >chainlink</th>\n",
              "      <td id=\"T_95a3b_row6_col0\" class=\"data row6 col0\" >-0.45</td>\n",
              "      <td id=\"T_95a3b_row6_col1\" class=\"data row6 col1\" >0.52</td>\n",
              "      <td id=\"T_95a3b_row6_col2\" class=\"data row6 col2\" >2.85</td>\n",
              "    </tr>\n",
              "    <tr>\n",
              "      <th id=\"T_95a3b_level0_row7\" class=\"row_heading level0 row7\" >cardano</th>\n",
              "      <td id=\"T_95a3b_row7_col0\" class=\"data row7 col0\" >-0.35</td>\n",
              "      <td id=\"T_95a3b_row7_col1\" class=\"data row7 col1\" >0.73</td>\n",
              "      <td id=\"T_95a3b_row7_col2\" class=\"data row7 col2\" >1.48</td>\n",
              "    </tr>\n",
              "    <tr>\n",
              "      <th id=\"T_95a3b_level0_row8\" class=\"row_heading level0 row8\" >litecoin</th>\n",
              "      <td id=\"T_95a3b_row8_col0\" class=\"data row8 col0\" >-0.65</td>\n",
              "      <td id=\"T_95a3b_row8_col1\" class=\"data row8 col1\" >0.43</td>\n",
              "      <td id=\"T_95a3b_row8_col2\" class=\"data row8 col2\" >0.60</td>\n",
              "    </tr>\n",
              "    <tr>\n",
              "      <th id=\"T_95a3b_level0_row9\" class=\"row_heading level0 row9\" >bitcoin-cash-sv</th>\n",
              "      <td id=\"T_95a3b_row9_col0\" class=\"data row9 col0\" >-0.76</td>\n",
              "      <td id=\"T_95a3b_row9_col1\" class=\"data row9 col1\" >-0.20</td>\n",
              "      <td id=\"T_95a3b_row9_col2\" class=\"data row9 col2\" >-0.22</td>\n",
              "    </tr>\n",
              "  </tbody>\n",
              "</table>\n"
            ]
          },
          "metadata": {},
          "execution_count": 96
        }
      ],
      "source": [
        "pandasx.return_formatted_table \\\n",
        "    (crypto_pca_dataframe, 'Table 4.2.1: Cryptocurrencies PCA DataFrame Table', hide_index_boolean = False)"
      ]
    },
    {
      "cell_type": "markdown",
      "id": "3c90c1ac",
      "metadata": {
        "id": "3c90c1ac"
      },
      "source": [
        "# <br> **Section 5: Find the Best Value for K Using PCA**"
      ]
    },
    {
      "cell_type": "markdown",
      "id": "af35c611",
      "metadata": {
        "id": "af35c611"
      },
      "source": [
        "## **Section 5.1: K-Means Methods with PCA**"
      ]
    },
    {
      "cell_type": "markdown",
      "id": "7d66e1c1",
      "metadata": {
        "id": "7d66e1c1"
      },
      "source": [
        "### **WCSS Elbow Method**"
      ]
    },
    {
      "cell_type": "code",
      "execution_count": null,
      "id": "c591cb4c",
      "metadata": {
        "colab": {
          "base_uri": "https://localhost:8080/"
        },
        "id": "c591cb4c",
        "outputId": "63011ec0-112e-4029-ccb3-6dea16b56807"
      },
      "outputs": [
        {
          "output_type": "stream",
          "name": "stdout",
          "text": [
            "\u001b[1mUsing the WCSS Elbow Method with PCA components, the optimal value for k is 4.\u001b[0m\n"
          ]
        }
      ],
      "source": [
        "optimal_k_pca_elbow_integer, inertia_pca_elbow_series \\\n",
        "    = kmeans_analysisx.return_optimal_k_with_wcss_elbow(crypto_pca_dataframe)\n",
        "\n",
        "logx.print_and_log_text \\\n",
        "    ('\\033[1m' + 'Using the WCSS Elbow Method with PCA components, the optimal value for k is ' \\\n",
        "     + '{:,}.'.format(optimal_k_pca_elbow_integer) + '\\033[0m')"
      ]
    },
    {
      "cell_type": "markdown",
      "id": "066066a9",
      "metadata": {
        "id": "066066a9"
      },
      "source": [
        "### **Calinski-Harabasz Method**"
      ]
    },
    {
      "cell_type": "code",
      "execution_count": null,
      "id": "a19e1ed2",
      "metadata": {
        "colab": {
          "base_uri": "https://localhost:8080/"
        },
        "id": "a19e1ed2",
        "outputId": "74e23b30-7f52-4c12-a02c-78c0c4c52928"
      },
      "outputs": [
        {
          "output_type": "stream",
          "name": "stdout",
          "text": [
            "\u001b[1mUsing the Calinski-Harabasz Method with PCA components, the optimal value for k is 10.\u001b[0m\n"
          ]
        }
      ],
      "source": [
        "optimal_k_pca_calinski_harabasz_integer, inertia_pca_calinski_harabasz_series \\\n",
        "    = kmeans_analysisx.return_optimal_k_with_calinski_harabasz(crypto_pca_dataframe)\n",
        "\n",
        "logx.print_and_log_text \\\n",
        "    ('\\033[1m' + 'Using the Calinski-Harabasz Method with PCA components, the optimal value for k is ' \\\n",
        "     + '{:,}.'.format(optimal_k_pca_calinski_harabasz_integer) + '\\033[0m')"
      ]
    },
    {
      "cell_type": "markdown",
      "id": "3ced6b46",
      "metadata": {
        "id": "3ced6b46"
      },
      "source": [
        "### **Silhouette method**"
      ]
    },
    {
      "cell_type": "code",
      "execution_count": null,
      "id": "21661c0a",
      "metadata": {
        "colab": {
          "base_uri": "https://localhost:8080/"
        },
        "id": "21661c0a",
        "outputId": "bc333cd7-4739-4c5c-a892-b06924156e87"
      },
      "outputs": [
        {
          "output_type": "stream",
          "name": "stdout",
          "text": [
            "\u001b[1mUsing the Silhouette Method with PCA components, the optimal value for k is 3.\u001b[0m\n"
          ]
        }
      ],
      "source": [
        "optimal_k_pca_silhouette_integer, inertia_pca_silhouette_series \\\n",
        "    = kmeans_analysisx.return_optimal_k_with_silhouette(crypto_pca_dataframe)\n",
        "\n",
        "logx.print_and_log_text \\\n",
        "    ('\\033[1m' + 'Using the Silhouette Method with PCA components, the optimal value for k is ' \\\n",
        "     + '{:,}.'.format(optimal_k_pca_silhouette_integer) + '\\033[0m')"
      ]
    },
    {
      "cell_type": "markdown",
      "id": "24d7d307",
      "metadata": {
        "id": "24d7d307"
      },
      "source": [
        "### **Davies-Bouldin Method**"
      ]
    },
    {
      "cell_type": "code",
      "execution_count": null,
      "id": "c6d33d06",
      "metadata": {
        "colab": {
          "base_uri": "https://localhost:8080/"
        },
        "id": "c6d33d06",
        "outputId": "3c782990-ec39-4955-e8c3-3419ce833393"
      },
      "outputs": [
        {
          "output_type": "stream",
          "name": "stdout",
          "text": [
            "\u001b[1mUsing the Davies-Bouldin Method with PCA components, the optimal value for k is 2.\u001b[0m\n"
          ]
        }
      ],
      "source": [
        "optimal_k_pca_davies_bouldin_integer, inertia_pca_davies_bouldin_series \\\n",
        "    = kmeans_analysisx.return_optimal_k_with_davies_bouldin(crypto_pca_dataframe)\n",
        "\n",
        "logx.print_and_log_text \\\n",
        "    ('\\033[1m' + 'Using the Davies-Bouldin Method with PCA components, the optimal value for k is ' \\\n",
        "     + '{:,}.'.format(optimal_k_pca_davies_bouldin_integer) + '\\033[0m')"
      ]
    },
    {
      "cell_type": "markdown",
      "id": "df6410d2",
      "metadata": {
        "id": "df6410d2"
      },
      "source": [
        "## **5.2: Display Methods with PCA Plots**"
      ]
    },
    {
      "cell_type": "code",
      "execution_count": null,
      "id": "0cc25159",
      "metadata": {
        "colab": {
          "base_uri": "https://localhost:8080/",
          "height": 1000
        },
        "id": "0cc25159",
        "outputId": "6771c089-3b87-4513-babc-661bc25458c9"
      },
      "outputs": [
        {
          "output_type": "display_data",
          "data": {
            "text/html": [
              "<html>\n",
              "<head><meta charset=\"utf-8\" /></head>\n",
              "<body>\n",
              "    <div>            <script src=\"https://cdnjs.cloudflare.com/ajax/libs/mathjax/2.7.5/MathJax.js?config=TeX-AMS-MML_SVG\"></script><script type=\"text/javascript\">if (window.MathJax && window.MathJax.Hub && window.MathJax.Hub.Config) {window.MathJax.Hub.Config({SVG: {font: \"STIX-Web\"}});}</script>                <script type=\"text/javascript\">window.PlotlyConfig = {MathJaxConfig: 'local'};</script>\n",
              "        <script charset=\"utf-8\" src=\"https://cdn.plot.ly/plotly-2.31.1.min.js\"></script>                <div id=\"e52bece1-9728-4e6a-a4b8-45766480349b\" class=\"plotly-graph-div\" style=\"height:1000px; width:1000px;\"></div>            <script type=\"text/javascript\">                                    window.PLOTLYENV=window.PLOTLYENV || {};                                    if (document.getElementById(\"e52bece1-9728-4e6a-a4b8-45766480349b\")) {                    Plotly.newPlot(                        \"e52bece1-9728-4e6a-a4b8-45766480349b\",                        [{\"line\":{\"color\":\"firebrick\"},\"mode\":\"lines\",\"x\":[2,3,4,5,6,7,8,9,10],\"y\":[165.90199402036004,93.7746256805729,49.665496651797355,37.839465986812414,27.618971787957424,21.134056037473606,17.016962140077418,13.593650379876724,10.484890485976916],\"type\":\"scatter\",\"xaxis\":\"x\",\"yaxis\":\"y\"},{\"hovertemplate\":\"Number of K-Clusters: \\u003cb\\u003e%{x}\\u003c\\u002fb\\u003e\\u003cbr\\u003eScore: \\u003cb\\u003e%{y}\\u003c\\u002fb\\u003e\\u003cbr\\u003e\\u003cextra\\u003e\\u003c\\u002fextra\\u003e\",\"marker\":{\"color\":\"darkblue\",\"size\":10},\"mode\":\"markers\",\"x\":[2,3,4,5,6,7,8,9,10],\"y\":[165.90199402036004,93.7746256805729,49.665496651797355,37.839465986812414,27.618971787957424,21.134056037473606,17.016962140077418,13.593650379876724,10.484890485976916],\"type\":\"scatter\",\"xaxis\":\"x\",\"yaxis\":\"y\"},{\"line\":{\"color\":\"green\"},\"mode\":\"lines\",\"x\":[2,3,4,5,6,7,8,9,10],\"y\":[21.38558726375736,33.04614351023808,51.45569397098449,52.09670709720771,58.104472852217924,63.20888735084146,66.4486998993975,71.58649174857528,80.94256161340994],\"type\":\"scatter\",\"xaxis\":\"x2\",\"yaxis\":\"y2\"},{\"hovertemplate\":\"Number of K-Clusters: \\u003cb\\u003e%{x}\\u003c\\u002fb\\u003e\\u003cbr\\u003eScore: \\u003cb\\u003e%{y}\\u003c\\u002fb\\u003e\\u003cbr\\u003e\\u003cextra\\u003e\\u003c\\u002fextra\\u003e\",\"marker\":{\"color\":\"darkblue\",\"size\":10},\"mode\":\"markers\",\"x\":[2,3,4,5,6,7,8,9,10],\"y\":[21.38558726375736,33.04614351023808,51.45569397098449,52.09670709720771,58.104472852217924,63.20888735084146,66.4486998993975,71.58649174857528,80.94256161340994],\"type\":\"scatter\",\"xaxis\":\"x2\",\"yaxis\":\"y2\"},{\"line\":{\"color\":\"orange\"},\"mode\":\"lines\",\"x\":[2,3,4,5,6,7,8,9,10],\"y\":[0.6930355583332265,0.7415086658662886,0.420799730166485,0.3936815226270081,0.38593743326377933,0.38143705814582607,0.3178249186259122,0.3294870454453435,0.33708375856135764],\"type\":\"scatter\",\"xaxis\":\"x3\",\"yaxis\":\"y3\"},{\"hovertemplate\":\"Number of K-Clusters: \\u003cb\\u003e%{x}\\u003c\\u002fb\\u003e\\u003cbr\\u003eScore: \\u003cb\\u003e%{y}\\u003c\\u002fb\\u003e\\u003cbr\\u003e\\u003cextra\\u003e\\u003c\\u002fextra\\u003e\",\"marker\":{\"color\":\"darkblue\",\"size\":10},\"mode\":\"markers\",\"x\":[2,3,4,5,6,7,8,9,10],\"y\":[0.6930355583332265,0.7415086658662886,0.420799730166485,0.3936815226270081,0.38593743326377933,0.38143705814582607,0.3178249186259122,0.3294870454453435,0.33708375856135764],\"type\":\"scatter\",\"xaxis\":\"x3\",\"yaxis\":\"y3\"},{\"line\":{\"color\":\"lightsteelblue\"},\"mode\":\"lines\",\"x\":[2,3,4,5,6,7,8,9,10],\"y\":[1.1089317936984608,0.14251053745842607,0.4713748193170191,0.6733146889294807,0.4916096163423292,0.5201301126273662,0.5652944391918637,0.570371600347927,0.5218970221987652],\"type\":\"scatter\",\"xaxis\":\"x4\",\"yaxis\":\"y4\"},{\"hovertemplate\":\"Number of K-Clusters: \\u003cb\\u003e%{x}\\u003c\\u002fb\\u003e\\u003cbr\\u003eScore: \\u003cb\\u003e%{y}\\u003c\\u002fb\\u003e\\u003cbr\\u003e\\u003cextra\\u003e\\u003c\\u002fextra\\u003e\",\"marker\":{\"color\":\"darkblue\",\"size\":10},\"mode\":\"markers\",\"x\":[2,3,4,5,6,7,8,9,10],\"y\":[1.1089317936984608,0.14251053745842607,0.4713748193170191,0.6733146889294807,0.4916096163423292,0.5201301126273662,0.5652944391918637,0.570371600347927,0.5218970221987652],\"type\":\"scatter\",\"xaxis\":\"x4\",\"yaxis\":\"y4\"}],                        {\"template\":{\"data\":{\"histogram2dcontour\":[{\"type\":\"histogram2dcontour\",\"colorbar\":{\"outlinewidth\":0,\"ticks\":\"\"},\"colorscale\":[[0.0,\"#0d0887\"],[0.1111111111111111,\"#46039f\"],[0.2222222222222222,\"#7201a8\"],[0.3333333333333333,\"#9c179e\"],[0.4444444444444444,\"#bd3786\"],[0.5555555555555556,\"#d8576b\"],[0.6666666666666666,\"#ed7953\"],[0.7777777777777778,\"#fb9f3a\"],[0.8888888888888888,\"#fdca26\"],[1.0,\"#f0f921\"]]}],\"choropleth\":[{\"type\":\"choropleth\",\"colorbar\":{\"outlinewidth\":0,\"ticks\":\"\"}}],\"histogram2d\":[{\"type\":\"histogram2d\",\"colorbar\":{\"outlinewidth\":0,\"ticks\":\"\"},\"colorscale\":[[0.0,\"#0d0887\"],[0.1111111111111111,\"#46039f\"],[0.2222222222222222,\"#7201a8\"],[0.3333333333333333,\"#9c179e\"],[0.4444444444444444,\"#bd3786\"],[0.5555555555555556,\"#d8576b\"],[0.6666666666666666,\"#ed7953\"],[0.7777777777777778,\"#fb9f3a\"],[0.8888888888888888,\"#fdca26\"],[1.0,\"#f0f921\"]]}],\"heatmap\":[{\"type\":\"heatmap\",\"colorbar\":{\"outlinewidth\":0,\"ticks\":\"\"},\"colorscale\":[[0.0,\"#0d0887\"],[0.1111111111111111,\"#46039f\"],[0.2222222222222222,\"#7201a8\"],[0.3333333333333333,\"#9c179e\"],[0.4444444444444444,\"#bd3786\"],[0.5555555555555556,\"#d8576b\"],[0.6666666666666666,\"#ed7953\"],[0.7777777777777778,\"#fb9f3a\"],[0.8888888888888888,\"#fdca26\"],[1.0,\"#f0f921\"]]}],\"heatmapgl\":[{\"type\":\"heatmapgl\",\"colorbar\":{\"outlinewidth\":0,\"ticks\":\"\"},\"colorscale\":[[0.0,\"#0d0887\"],[0.1111111111111111,\"#46039f\"],[0.2222222222222222,\"#7201a8\"],[0.3333333333333333,\"#9c179e\"],[0.4444444444444444,\"#bd3786\"],[0.5555555555555556,\"#d8576b\"],[0.6666666666666666,\"#ed7953\"],[0.7777777777777778,\"#fb9f3a\"],[0.8888888888888888,\"#fdca26\"],[1.0,\"#f0f921\"]]}],\"contourcarpet\":[{\"type\":\"contourcarpet\",\"colorbar\":{\"outlinewidth\":0,\"ticks\":\"\"}}],\"contour\":[{\"type\":\"contour\",\"colorbar\":{\"outlinewidth\":0,\"ticks\":\"\"},\"colorscale\":[[0.0,\"#0d0887\"],[0.1111111111111111,\"#46039f\"],[0.2222222222222222,\"#7201a8\"],[0.3333333333333333,\"#9c179e\"],[0.4444444444444444,\"#bd3786\"],[0.5555555555555556,\"#d8576b\"],[0.6666666666666666,\"#ed7953\"],[0.7777777777777778,\"#fb9f3a\"],[0.8888888888888888,\"#fdca26\"],[1.0,\"#f0f921\"]]}],\"surface\":[{\"type\":\"surface\",\"colorbar\":{\"outlinewidth\":0,\"ticks\":\"\"},\"colorscale\":[[0.0,\"#0d0887\"],[0.1111111111111111,\"#46039f\"],[0.2222222222222222,\"#7201a8\"],[0.3333333333333333,\"#9c179e\"],[0.4444444444444444,\"#bd3786\"],[0.5555555555555556,\"#d8576b\"],[0.6666666666666666,\"#ed7953\"],[0.7777777777777778,\"#fb9f3a\"],[0.8888888888888888,\"#fdca26\"],[1.0,\"#f0f921\"]]}],\"mesh3d\":[{\"type\":\"mesh3d\",\"colorbar\":{\"outlinewidth\":0,\"ticks\":\"\"}}],\"scatter\":[{\"fillpattern\":{\"fillmode\":\"overlay\",\"size\":10,\"solidity\":0.2},\"type\":\"scatter\"}],\"parcoords\":[{\"type\":\"parcoords\",\"line\":{\"colorbar\":{\"outlinewidth\":0,\"ticks\":\"\"}}}],\"scatterpolargl\":[{\"type\":\"scatterpolargl\",\"marker\":{\"colorbar\":{\"outlinewidth\":0,\"ticks\":\"\"}}}],\"bar\":[{\"error_x\":{\"color\":\"#2a3f5f\"},\"error_y\":{\"color\":\"#2a3f5f\"},\"marker\":{\"line\":{\"color\":\"#E5ECF6\",\"width\":0.5},\"pattern\":{\"fillmode\":\"overlay\",\"size\":10,\"solidity\":0.2}},\"type\":\"bar\"}],\"scattergeo\":[{\"type\":\"scattergeo\",\"marker\":{\"colorbar\":{\"outlinewidth\":0,\"ticks\":\"\"}}}],\"scatterpolar\":[{\"type\":\"scatterpolar\",\"marker\":{\"colorbar\":{\"outlinewidth\":0,\"ticks\":\"\"}}}],\"histogram\":[{\"marker\":{\"pattern\":{\"fillmode\":\"overlay\",\"size\":10,\"solidity\":0.2}},\"type\":\"histogram\"}],\"scattergl\":[{\"type\":\"scattergl\",\"marker\":{\"colorbar\":{\"outlinewidth\":0,\"ticks\":\"\"}}}],\"scatter3d\":[{\"type\":\"scatter3d\",\"line\":{\"colorbar\":{\"outlinewidth\":0,\"ticks\":\"\"}},\"marker\":{\"colorbar\":{\"outlinewidth\":0,\"ticks\":\"\"}}}],\"scattermapbox\":[{\"type\":\"scattermapbox\",\"marker\":{\"colorbar\":{\"outlinewidth\":0,\"ticks\":\"\"}}}],\"scatterternary\":[{\"type\":\"scatterternary\",\"marker\":{\"colorbar\":{\"outlinewidth\":0,\"ticks\":\"\"}}}],\"scattercarpet\":[{\"type\":\"scattercarpet\",\"marker\":{\"colorbar\":{\"outlinewidth\":0,\"ticks\":\"\"}}}],\"carpet\":[{\"aaxis\":{\"endlinecolor\":\"#2a3f5f\",\"gridcolor\":\"white\",\"linecolor\":\"white\",\"minorgridcolor\":\"white\",\"startlinecolor\":\"#2a3f5f\"},\"baxis\":{\"endlinecolor\":\"#2a3f5f\",\"gridcolor\":\"white\",\"linecolor\":\"white\",\"minorgridcolor\":\"white\",\"startlinecolor\":\"#2a3f5f\"},\"type\":\"carpet\"}],\"table\":[{\"cells\":{\"fill\":{\"color\":\"#EBF0F8\"},\"line\":{\"color\":\"white\"}},\"header\":{\"fill\":{\"color\":\"#C8D4E3\"},\"line\":{\"color\":\"white\"}},\"type\":\"table\"}],\"barpolar\":[{\"marker\":{\"line\":{\"color\":\"#E5ECF6\",\"width\":0.5},\"pattern\":{\"fillmode\":\"overlay\",\"size\":10,\"solidity\":0.2}},\"type\":\"barpolar\"}],\"pie\":[{\"automargin\":true,\"type\":\"pie\"}]},\"layout\":{\"autotypenumbers\":\"strict\",\"colorway\":[\"#636efa\",\"#EF553B\",\"#00cc96\",\"#ab63fa\",\"#FFA15A\",\"#19d3f3\",\"#FF6692\",\"#B6E880\",\"#FF97FF\",\"#FECB52\"],\"font\":{\"color\":\"#2a3f5f\"},\"hovermode\":\"closest\",\"hoverlabel\":{\"align\":\"left\"},\"paper_bgcolor\":\"white\",\"plot_bgcolor\":\"#E5ECF6\",\"polar\":{\"bgcolor\":\"#E5ECF6\",\"angularaxis\":{\"gridcolor\":\"white\",\"linecolor\":\"white\",\"ticks\":\"\"},\"radialaxis\":{\"gridcolor\":\"white\",\"linecolor\":\"white\",\"ticks\":\"\"}},\"ternary\":{\"bgcolor\":\"#E5ECF6\",\"aaxis\":{\"gridcolor\":\"white\",\"linecolor\":\"white\",\"ticks\":\"\"},\"baxis\":{\"gridcolor\":\"white\",\"linecolor\":\"white\",\"ticks\":\"\"},\"caxis\":{\"gridcolor\":\"white\",\"linecolor\":\"white\",\"ticks\":\"\"}},\"coloraxis\":{\"colorbar\":{\"outlinewidth\":0,\"ticks\":\"\"}},\"colorscale\":{\"sequential\":[[0.0,\"#0d0887\"],[0.1111111111111111,\"#46039f\"],[0.2222222222222222,\"#7201a8\"],[0.3333333333333333,\"#9c179e\"],[0.4444444444444444,\"#bd3786\"],[0.5555555555555556,\"#d8576b\"],[0.6666666666666666,\"#ed7953\"],[0.7777777777777778,\"#fb9f3a\"],[0.8888888888888888,\"#fdca26\"],[1.0,\"#f0f921\"]],\"sequentialminus\":[[0.0,\"#0d0887\"],[0.1111111111111111,\"#46039f\"],[0.2222222222222222,\"#7201a8\"],[0.3333333333333333,\"#9c179e\"],[0.4444444444444444,\"#bd3786\"],[0.5555555555555556,\"#d8576b\"],[0.6666666666666666,\"#ed7953\"],[0.7777777777777778,\"#fb9f3a\"],[0.8888888888888888,\"#fdca26\"],[1.0,\"#f0f921\"]],\"diverging\":[[0,\"#8e0152\"],[0.1,\"#c51b7d\"],[0.2,\"#de77ae\"],[0.3,\"#f1b6da\"],[0.4,\"#fde0ef\"],[0.5,\"#f7f7f7\"],[0.6,\"#e6f5d0\"],[0.7,\"#b8e186\"],[0.8,\"#7fbc41\"],[0.9,\"#4d9221\"],[1,\"#276419\"]]},\"xaxis\":{\"gridcolor\":\"white\",\"linecolor\":\"white\",\"ticks\":\"\",\"title\":{\"standoff\":15},\"zerolinecolor\":\"white\",\"automargin\":true,\"zerolinewidth\":2},\"yaxis\":{\"gridcolor\":\"white\",\"linecolor\":\"white\",\"ticks\":\"\",\"title\":{\"standoff\":15},\"zerolinecolor\":\"white\",\"automargin\":true,\"zerolinewidth\":2},\"scene\":{\"xaxis\":{\"backgroundcolor\":\"#E5ECF6\",\"gridcolor\":\"white\",\"linecolor\":\"white\",\"showbackground\":true,\"ticks\":\"\",\"zerolinecolor\":\"white\",\"gridwidth\":2},\"yaxis\":{\"backgroundcolor\":\"#E5ECF6\",\"gridcolor\":\"white\",\"linecolor\":\"white\",\"showbackground\":true,\"ticks\":\"\",\"zerolinecolor\":\"white\",\"gridwidth\":2},\"zaxis\":{\"backgroundcolor\":\"#E5ECF6\",\"gridcolor\":\"white\",\"linecolor\":\"white\",\"showbackground\":true,\"ticks\":\"\",\"zerolinecolor\":\"white\",\"gridwidth\":2}},\"shapedefaults\":{\"line\":{\"color\":\"#2a3f5f\"}},\"annotationdefaults\":{\"arrowcolor\":\"#2a3f5f\",\"arrowhead\":0,\"arrowwidth\":1},\"geo\":{\"bgcolor\":\"white\",\"landcolor\":\"#E5ECF6\",\"subunitcolor\":\"white\",\"showland\":true,\"showlakes\":true,\"lakecolor\":\"white\"},\"title\":{\"x\":0.05},\"mapbox\":{\"style\":\"light\"}}},\"xaxis\":{\"anchor\":\"y\",\"domain\":[0.0,0.44],\"tickfont\":{\"color\":\"black\",\"family\":\"garamond\",\"size\":14.0},\"tick0\":1.0,\"dtick\":1.0,\"tickmode\":\"linear\",\"linecolor\":\"black\",\"linewidth\":2.0,\"mirror\":true,\"showline\":true},\"yaxis\":{\"anchor\":\"x\",\"domain\":[0.56,1.0],\"tickfont\":{\"color\":\"black\",\"family\":\"garamond\",\"size\":14.0},\"linecolor\":\"black\",\"linewidth\":2.0,\"mirror\":true,\"showline\":true,\"title\":{\"font\":{\"color\":\"black\",\"family\":\"garamond\",\"size\":18.0},\"text\":\"Score\"}},\"xaxis2\":{\"anchor\":\"y2\",\"domain\":[0.56,1.0],\"tickfont\":{\"color\":\"black\",\"family\":\"garamond\",\"size\":14.0},\"tick0\":1.0,\"dtick\":1.0,\"tickmode\":\"linear\",\"linecolor\":\"black\",\"linewidth\":2.0,\"mirror\":true,\"showline\":true},\"yaxis2\":{\"anchor\":\"x2\",\"domain\":[0.56,1.0],\"tickfont\":{\"color\":\"black\",\"family\":\"garamond\",\"size\":14.0},\"linecolor\":\"black\",\"linewidth\":2.0,\"mirror\":true,\"showline\":true},\"xaxis3\":{\"anchor\":\"y3\",\"domain\":[0.0,0.44],\"tickfont\":{\"color\":\"black\",\"family\":\"garamond\",\"size\":14.0},\"tick0\":1.0,\"dtick\":1.0,\"tickmode\":\"linear\",\"linecolor\":\"black\",\"linewidth\":2.0,\"mirror\":true,\"showline\":true,\"title\":{\"font\":{\"color\":\"black\",\"family\":\"garamond\",\"size\":18.0},\"text\":\"Number of K-Clusters\"}},\"yaxis3\":{\"anchor\":\"x3\",\"domain\":[0.0,0.44],\"tickfont\":{\"color\":\"black\",\"family\":\"garamond\",\"size\":14.0},\"linecolor\":\"black\",\"linewidth\":2.0,\"mirror\":true,\"showline\":true,\"title\":{\"font\":{\"color\":\"black\",\"family\":\"garamond\",\"size\":18.0},\"text\":\"Score\"}},\"xaxis4\":{\"anchor\":\"y4\",\"domain\":[0.56,1.0],\"tickfont\":{\"color\":\"black\",\"family\":\"garamond\",\"size\":14.0},\"tick0\":1.0,\"dtick\":1.0,\"tickmode\":\"linear\",\"linecolor\":\"black\",\"linewidth\":2.0,\"mirror\":true,\"showline\":true,\"title\":{\"font\":{\"color\":\"black\",\"family\":\"garamond\",\"size\":18.0},\"text\":\"Number of K-Clusters\"}},\"yaxis4\":{\"anchor\":\"x4\",\"domain\":[0.0,0.44],\"tickfont\":{\"color\":\"black\",\"family\":\"garamond\",\"size\":14.0},\"linecolor\":\"black\",\"linewidth\":2.0,\"mirror\":true,\"showline\":true},\"annotations\":[{\"font\":{\"color\":\"black\",\"family\":\"garamond\",\"size\":20.0},\"showarrow\":false,\"text\":\"WCSS Elbow\",\"x\":0.22,\"xanchor\":\"center\",\"xref\":\"paper\",\"y\":1.0,\"yanchor\":\"bottom\",\"yref\":\"paper\",\"yshift\":10.0},{\"font\":{\"color\":\"black\",\"family\":\"garamond\",\"size\":20.0},\"showarrow\":false,\"text\":\"Calinski Harabasz\",\"x\":0.78,\"xanchor\":\"center\",\"xref\":\"paper\",\"y\":1.0,\"yanchor\":\"bottom\",\"yref\":\"paper\",\"yshift\":10.0},{\"font\":{\"color\":\"black\",\"family\":\"garamond\",\"size\":20.0},\"showarrow\":false,\"text\":\"Silhouette\",\"x\":0.22,\"xanchor\":\"center\",\"xref\":\"paper\",\"y\":0.44,\"yanchor\":\"bottom\",\"yref\":\"paper\",\"yshift\":10.0},{\"font\":{\"color\":\"black\",\"family\":\"garamond\",\"size\":20.0},\"showarrow\":false,\"text\":\"Davies Bouldin\",\"x\":0.78,\"xanchor\":\"center\",\"xref\":\"paper\",\"y\":0.44,\"yanchor\":\"bottom\",\"yref\":\"paper\",\"yshift\":10.0}],\"shapes\":[{\"line\":{\"color\":\"black\",\"dash\":\"dash\",\"width\":2.0},\"type\":\"line\",\"x0\":4,\"x1\":4,\"xref\":\"x\",\"y0\":0,\"y1\":1,\"yref\":\"y domain\"},{\"line\":{\"color\":\"black\",\"dash\":\"dash\",\"width\":2.0},\"type\":\"line\",\"x0\":10,\"x1\":10,\"xref\":\"x2\",\"y0\":0,\"y1\":1,\"yref\":\"y2 domain\"},{\"line\":{\"color\":\"black\",\"dash\":\"dash\",\"width\":2.0},\"type\":\"line\",\"x0\":3,\"x1\":3,\"xref\":\"x3\",\"y0\":0,\"y1\":1,\"yref\":\"y3 domain\"},{\"line\":{\"color\":\"black\",\"dash\":\"dash\",\"width\":2.0},\"type\":\"line\",\"x0\":2,\"x1\":2,\"xref\":\"x4\",\"y0\":0,\"y1\":1,\"yref\":\"y4 domain\"}],\"title\":{\"font\":{\"color\":\"black\",\"family\":\"garamond\",\"size\":24.0},\"text\":\"5.2.1: K-Means Methods with PCA Data Line Plots\"},\"height\":1000,\"width\":1000,\"showlegend\":false},                        {\"responsive\": true}                    ).then(function(){\n",
              "                            \n",
              "var gd = document.getElementById('e52bece1-9728-4e6a-a4b8-45766480349b');\n",
              "var x = new MutationObserver(function (mutations, observer) {{\n",
              "        var display = window.getComputedStyle(gd).display;\n",
              "        if (!display || display === 'none') {{\n",
              "            console.log([gd, 'removed!']);\n",
              "            Plotly.purge(gd);\n",
              "            observer.disconnect();\n",
              "        }}\n",
              "}});\n",
              "\n",
              "// Listen for the removal of the full notebook cells\n",
              "var notebookContainer = gd.closest('#notebook-container');\n",
              "if (notebookContainer) {{\n",
              "    x.observe(notebookContainer, {childList: true});\n",
              "}}\n",
              "\n",
              "// Listen for the clearing of the current output cell\n",
              "var outputEl = gd.closest('.output');\n",
              "if (outputEl) {{\n",
              "    x.observe(outputEl, {childList: true});\n",
              "}}\n",
              "\n",
              "                        })                };                            </script>        </div>\n",
              "</body>\n",
              "</html>"
            ]
          },
          "metadata": {}
        }
      ],
      "source": [
        "inertia_pca_series_list \\\n",
        "    = [inertia_pca_elbow_series,\n",
        "       inertia_pca_calinski_harabasz_series,\n",
        "       inertia_pca_silhouette_series,\n",
        "       inertia_pca_davies_bouldin_series]\n",
        "\n",
        "optimal_k_pca_integer_list \\\n",
        "    = [optimal_k_pca_elbow_integer,\n",
        "       optimal_k_pca_calinski_harabasz_integer,\n",
        "       optimal_k_pca_silhouette_integer,\n",
        "       optimal_k_pca_davies_bouldin_integer]\n",
        "\n",
        "kmeans_analysisx.return_cluster_plots \\\n",
        "    (optimal_k_pca_integer_list,\n",
        "     inertia_pca_series_list,\n",
        "     colors_string_list,\n",
        "     '5.2.1: K-Means Methods with PCA Data Line Plots')"
      ]
    },
    {
      "cell_type": "markdown",
      "id": "18324ec9",
      "metadata": {
        "id": "18324ec9"
      },
      "source": [
        "### Answer the following questions:\n",
        "\n",
        "* **Question:** What is the best value for `k` when using the PCA data?\n",
        "\n",
        "  * **Answer:** Although k=2, k=3, k=4, and k=10 are possible answers, the cluster predictions from the WCSS Elbow Method point to k=4 being the best value for `k`.\n",
        "\n",
        "\n",
        "* **Question:** Does it differ from the best k value found using the original data?\n",
        "\n",
        "  * **Answer:** No. The only real deviation from the previous results is the Calinski-Harabasz method with k=10, but the Calinski-Harabasz index may not work well for finding the best k in PCA situations; ultimately, selecting the appropriate number of clusters is subjective, with k=3 and k=4 being the reasonable options."
      ]
    },
    {
      "cell_type": "markdown",
      "id": "0a715e7f",
      "metadata": {
        "id": "0a715e7f"
      },
      "source": [
        "# <br> **Section 6: Cluster Cryptocurrencies with K-means Using PCA**"
      ]
    },
    {
      "cell_type": "markdown",
      "id": "e45a1798",
      "metadata": {
        "id": "e45a1798"
      },
      "source": [
        "## **6.1: Predict Cryptocurrency K-Means Clusters Using PCA**"
      ]
    },
    {
      "cell_type": "markdown",
      "id": "f585cacb",
      "metadata": {
        "id": "f585cacb"
      },
      "source": [
        "### **Calculations**"
      ]
    },
    {
      "cell_type": "code",
      "execution_count": null,
      "id": "005acaf8",
      "metadata": {
        "id": "005acaf8"
      },
      "outputs": [],
      "source": [
        "predictions_pca_integer_list_list \\\n",
        "    = kmeans_analysisx.return_cluster_predictions(crypto_pca_dataframe, [2, 3, 4, 10])"
      ]
    },
    {
      "cell_type": "markdown",
      "id": "00b8deaa",
      "metadata": {
        "id": "00b8deaa"
      },
      "source": [
        "### **Display Cluster Prediction Arrays**"
      ]
    },
    {
      "cell_type": "code",
      "execution_count": null,
      "id": "7c53be1e",
      "metadata": {
        "colab": {
          "base_uri": "https://localhost:8080/"
        },
        "id": "7c53be1e",
        "outputId": "ebccce50-e7bf-4ba4-ac33-ce8a02cacedd"
      },
      "outputs": [
        {
          "output_type": "stream",
          "name": "stdout",
          "text": [
            "\u001b[1mThe array of cluster predictions for k = 2 using PCA data is as follows:\n",
            "\n",
            "\u001b[0m[0 0 0 0 0 0 0 0 0 0 0 0 0 0 0 0 0 0 0 0 0 0 0 0 0 0 0 0 0 1 0 0 1 0 0 0 1\n",
            " 0 0 0 0]\n"
          ]
        }
      ],
      "source": [
        "logx.print_and_log_text \\\n",
        "    ('\\033[1m' + 'The array of cluster predictions for k = 2 using PCA data is as follows:\\n\\n' + '\\033[0m'\n",
        "     + f'{predictions_pca_integer_list_list[0]}')"
      ]
    },
    {
      "cell_type": "code",
      "execution_count": null,
      "id": "cb5be15b",
      "metadata": {
        "colab": {
          "base_uri": "https://localhost:8080/"
        },
        "id": "cb5be15b",
        "outputId": "02dc5d61-203b-43ec-eecf-156b8cf1ed7b"
      },
      "outputs": [
        {
          "output_type": "stream",
          "name": "stdout",
          "text": [
            "\u001b[1mThe array of cluster predictions for k = 3 using PCA data is as follows:\n",
            "\n",
            "\u001b[0m[0 0 0 0 0 0 0 0 0 0 0 0 0 0 0 0 0 0 0 0 0 0 0 0 0 0 0 0 0 0 0 0 2 0 0 0 1\n",
            " 0 0 0 0]\n"
          ]
        }
      ],
      "source": [
        "logx.print_and_log_text \\\n",
        "    ('\\033[1m' + 'The array of cluster predictions for k = 3 using PCA data is as follows:\\n\\n' + '\\033[0m'\n",
        "     + f'{predictions_pca_integer_list_list[1]}')"
      ]
    },
    {
      "cell_type": "code",
      "execution_count": null,
      "id": "08121c38",
      "metadata": {
        "colab": {
          "base_uri": "https://localhost:8080/"
        },
        "id": "08121c38",
        "outputId": "2f60764e-e06e-4133-dd2f-2e924ab0e707"
      },
      "outputs": [
        {
          "output_type": "stream",
          "name": "stdout",
          "text": [
            "\u001b[1mThe array of cluster predictions for k = 4 using PCA data is as follows:\n",
            "\n",
            "\u001b[0m[3 3 1 1 3 3 3 3 3 1 1 1 1 3 1 3 1 1 3 1 1 3 1 1 1 1 1 1 3 1 1 1 2 3 1 1 0\n",
            " 1 1 1 1]\n"
          ]
        }
      ],
      "source": [
        "logx.print_and_log_text \\\n",
        "    ('\\033[1m' + 'The array of cluster predictions for k = 4 using PCA data is as follows:\\n\\n' + '\\033[0m'\n",
        "     + f'{predictions_pca_integer_list_list[2]}')"
      ]
    },
    {
      "cell_type": "code",
      "execution_count": null,
      "id": "ef355b04",
      "metadata": {
        "colab": {
          "base_uri": "https://localhost:8080/"
        },
        "id": "ef355b04",
        "outputId": "6045765c-6e1a-410f-f975-7b4ea6b6cb8e"
      },
      "outputs": [
        {
          "output_type": "stream",
          "name": "stdout",
          "text": [
            "\u001b[1mThe array of cluster predictions for k = 10 using PCA data is as follows:\n",
            "\n",
            "\u001b[0m[1 1 4 4 5 1 7 7 1 9 0 4 4 5 9 9 0 9 7 4 0 1 4 4 4 4 9 0 1 6 9 9 3 9 8 4 2\n",
            " 0 9 4 4]\n"
          ]
        }
      ],
      "source": [
        "logx.print_and_log_text \\\n",
        "    ('\\033[1m' + 'The array of cluster predictions for k = 10 using PCA data is as follows:\\n\\n' + '\\033[0m'\n",
        "     + f'{predictions_pca_integer_list_list[3]}')"
      ]
    },
    {
      "cell_type": "markdown",
      "id": "e5afa977",
      "metadata": {
        "id": "e5afa977"
      },
      "source": [
        "## **6.2: Add PCA Predictions to Normalized DataFrame**"
      ]
    },
    {
      "cell_type": "markdown",
      "id": "e8b7c40f",
      "metadata": {
        "id": "e8b7c40f"
      },
      "source": [
        "### **Calculations**"
      ]
    },
    {
      "cell_type": "code",
      "execution_count": null,
      "id": "775f8836",
      "metadata": {
        "id": "775f8836"
      },
      "outputs": [],
      "source": [
        "crypto_pca_prediction_dataframe = crypto_pca_dataframe.copy()\n",
        "\n",
        "for index, prediction in enumerate(predictions_pca_integer_list_list):\n",
        "\n",
        "    crypto_pca_prediction_dataframe['Pca_cluster' + str(index + 3)] = predictions_pca_integer_list_list[index]"
      ]
    },
    {
      "cell_type": "markdown",
      "id": "f07fc8fb",
      "metadata": {
        "id": "f07fc8fb"
      },
      "source": [
        "### **Display Cryptocurrencies with PCA Predictions**"
      ]
    },
    {
      "cell_type": "code",
      "execution_count": null,
      "id": "18a73c8c",
      "metadata": {
        "colab": {
          "base_uri": "https://localhost:8080/",
          "height": 429
        },
        "id": "18a73c8c",
        "outputId": "81a95d5c-1f41-4a40-f234-70814b06c67f"
      },
      "outputs": [
        {
          "output_type": "execute_result",
          "data": {
            "text/plain": [
              "<pandas.io.formats.style.Styler at 0x7cca716e0370>"
            ],
            "text/html": [
              "<style type=\"text/css\">\n",
              "#T_94a9b caption {\n",
              "  color: black;\n",
              "  font-size: 20px;\n",
              "  font-style: bold;\n",
              "  text-align: center;\n",
              "}\n",
              "#T_94a9b_row0_col0, #T_94a9b_row0_col1, #T_94a9b_row0_col2, #T_94a9b_row0_col3, #T_94a9b_row0_col4, #T_94a9b_row0_col5, #T_94a9b_row0_col6, #T_94a9b_row1_col0, #T_94a9b_row1_col1, #T_94a9b_row1_col2, #T_94a9b_row1_col3, #T_94a9b_row1_col4, #T_94a9b_row1_col5, #T_94a9b_row1_col6, #T_94a9b_row2_col0, #T_94a9b_row2_col1, #T_94a9b_row2_col2, #T_94a9b_row2_col3, #T_94a9b_row2_col4, #T_94a9b_row2_col5, #T_94a9b_row2_col6, #T_94a9b_row3_col0, #T_94a9b_row3_col1, #T_94a9b_row3_col2, #T_94a9b_row3_col3, #T_94a9b_row3_col4, #T_94a9b_row3_col5, #T_94a9b_row3_col6, #T_94a9b_row4_col0, #T_94a9b_row4_col1, #T_94a9b_row4_col2, #T_94a9b_row4_col3, #T_94a9b_row4_col4, #T_94a9b_row4_col5, #T_94a9b_row4_col6, #T_94a9b_row5_col0, #T_94a9b_row5_col1, #T_94a9b_row5_col2, #T_94a9b_row5_col3, #T_94a9b_row5_col4, #T_94a9b_row5_col5, #T_94a9b_row5_col6, #T_94a9b_row6_col0, #T_94a9b_row6_col1, #T_94a9b_row6_col2, #T_94a9b_row6_col3, #T_94a9b_row6_col4, #T_94a9b_row6_col5, #T_94a9b_row6_col6, #T_94a9b_row7_col0, #T_94a9b_row7_col1, #T_94a9b_row7_col2, #T_94a9b_row7_col3, #T_94a9b_row7_col4, #T_94a9b_row7_col5, #T_94a9b_row7_col6, #T_94a9b_row8_col0, #T_94a9b_row8_col1, #T_94a9b_row8_col2, #T_94a9b_row8_col3, #T_94a9b_row8_col4, #T_94a9b_row8_col5, #T_94a9b_row8_col6, #T_94a9b_row9_col0, #T_94a9b_row9_col1, #T_94a9b_row9_col2, #T_94a9b_row9_col3, #T_94a9b_row9_col4, #T_94a9b_row9_col5, #T_94a9b_row9_col6 {\n",
              "  text-align: center;\n",
              "  border: 1.3px solid red;\n",
              "  color: blue;\n",
              "}\n",
              "</style>\n",
              "<table id=\"T_94a9b\" class=\"dataframe\">\n",
              "  <caption>Table 6.2.1: Cryptocurrency with Predictions Using PCA Data Table</caption>\n",
              "  <thead>\n",
              "    <tr>\n",
              "      <th class=\"blank level0\" >&nbsp;</th>\n",
              "      <th id=\"T_94a9b_level0_col0\" class=\"col_heading level0 col0\" >PCA1</th>\n",
              "      <th id=\"T_94a9b_level0_col1\" class=\"col_heading level0 col1\" >PCA2</th>\n",
              "      <th id=\"T_94a9b_level0_col2\" class=\"col_heading level0 col2\" >PCA3</th>\n",
              "      <th id=\"T_94a9b_level0_col3\" class=\"col_heading level0 col3\" >Pca_cluster3</th>\n",
              "      <th id=\"T_94a9b_level0_col4\" class=\"col_heading level0 col4\" >Pca_cluster4</th>\n",
              "      <th id=\"T_94a9b_level0_col5\" class=\"col_heading level0 col5\" >Pca_cluster5</th>\n",
              "      <th id=\"T_94a9b_level0_col6\" class=\"col_heading level0 col6\" >Pca_cluster6</th>\n",
              "    </tr>\n",
              "    <tr>\n",
              "      <th class=\"index_name level0\" >coin_id</th>\n",
              "      <th class=\"blank col0\" >&nbsp;</th>\n",
              "      <th class=\"blank col1\" >&nbsp;</th>\n",
              "      <th class=\"blank col2\" >&nbsp;</th>\n",
              "      <th class=\"blank col3\" >&nbsp;</th>\n",
              "      <th class=\"blank col4\" >&nbsp;</th>\n",
              "      <th class=\"blank col5\" >&nbsp;</th>\n",
              "      <th class=\"blank col6\" >&nbsp;</th>\n",
              "    </tr>\n",
              "  </thead>\n",
              "  <tbody>\n",
              "    <tr>\n",
              "      <th id=\"T_94a9b_level0_row0\" class=\"row_heading level0 row0\" >bitcoin</th>\n",
              "      <td id=\"T_94a9b_row0_col0\" class=\"data row0 col0\" >-0.60</td>\n",
              "      <td id=\"T_94a9b_row0_col1\" class=\"data row0 col1\" >0.84</td>\n",
              "      <td id=\"T_94a9b_row0_col2\" class=\"data row0 col2\" >0.46</td>\n",
              "      <td id=\"T_94a9b_row0_col3\" class=\"data row0 col3\" >0</td>\n",
              "      <td id=\"T_94a9b_row0_col4\" class=\"data row0 col4\" >0</td>\n",
              "      <td id=\"T_94a9b_row0_col5\" class=\"data row0 col5\" >3</td>\n",
              "      <td id=\"T_94a9b_row0_col6\" class=\"data row0 col6\" >1</td>\n",
              "    </tr>\n",
              "    <tr>\n",
              "      <th id=\"T_94a9b_level0_row1\" class=\"row_heading level0 row1\" >ethereum</th>\n",
              "      <td id=\"T_94a9b_row1_col0\" class=\"data row1 col0\" >-0.46</td>\n",
              "      <td id=\"T_94a9b_row1_col1\" class=\"data row1 col1\" >0.46</td>\n",
              "      <td id=\"T_94a9b_row1_col2\" class=\"data row1 col2\" >0.95</td>\n",
              "      <td id=\"T_94a9b_row1_col3\" class=\"data row1 col3\" >0</td>\n",
              "      <td id=\"T_94a9b_row1_col4\" class=\"data row1 col4\" >0</td>\n",
              "      <td id=\"T_94a9b_row1_col5\" class=\"data row1 col5\" >3</td>\n",
              "      <td id=\"T_94a9b_row1_col6\" class=\"data row1 col6\" >1</td>\n",
              "    </tr>\n",
              "    <tr>\n",
              "      <th id=\"T_94a9b_level0_row2\" class=\"row_heading level0 row2\" >tether</th>\n",
              "      <td id=\"T_94a9b_row2_col0\" class=\"data row2 col0\" >-0.43</td>\n",
              "      <td id=\"T_94a9b_row2_col1\" class=\"data row2 col1\" >-0.17</td>\n",
              "      <td id=\"T_94a9b_row2_col2\" class=\"data row2 col2\" >-0.64</td>\n",
              "      <td id=\"T_94a9b_row2_col3\" class=\"data row2 col3\" >0</td>\n",
              "      <td id=\"T_94a9b_row2_col4\" class=\"data row2 col4\" >0</td>\n",
              "      <td id=\"T_94a9b_row2_col5\" class=\"data row2 col5\" >1</td>\n",
              "      <td id=\"T_94a9b_row2_col6\" class=\"data row2 col6\" >4</td>\n",
              "    </tr>\n",
              "    <tr>\n",
              "      <th id=\"T_94a9b_level0_row3\" class=\"row_heading level0 row3\" >ripple</th>\n",
              "      <td id=\"T_94a9b_row3_col0\" class=\"data row3 col0\" >-0.47</td>\n",
              "      <td id=\"T_94a9b_row3_col1\" class=\"data row3 col1\" >-0.22</td>\n",
              "      <td id=\"T_94a9b_row3_col2\" class=\"data row3 col2\" >-0.48</td>\n",
              "      <td id=\"T_94a9b_row3_col3\" class=\"data row3 col3\" >0</td>\n",
              "      <td id=\"T_94a9b_row3_col4\" class=\"data row3 col4\" >0</td>\n",
              "      <td id=\"T_94a9b_row3_col5\" class=\"data row3 col5\" >1</td>\n",
              "      <td id=\"T_94a9b_row3_col6\" class=\"data row3 col6\" >4</td>\n",
              "    </tr>\n",
              "    <tr>\n",
              "      <th id=\"T_94a9b_level0_row4\" class=\"row_heading level0 row4\" >bitcoin-cash</th>\n",
              "      <td id=\"T_94a9b_row4_col0\" class=\"data row4 col0\" >-1.16</td>\n",
              "      <td id=\"T_94a9b_row4_col1\" class=\"data row4 col1\" >2.04</td>\n",
              "      <td id=\"T_94a9b_row4_col2\" class=\"data row4 col2\" >1.86</td>\n",
              "      <td id=\"T_94a9b_row4_col3\" class=\"data row4 col3\" >0</td>\n",
              "      <td id=\"T_94a9b_row4_col4\" class=\"data row4 col4\" >0</td>\n",
              "      <td id=\"T_94a9b_row4_col5\" class=\"data row4 col5\" >3</td>\n",
              "      <td id=\"T_94a9b_row4_col6\" class=\"data row4 col6\" >5</td>\n",
              "    </tr>\n",
              "    <tr>\n",
              "      <th id=\"T_94a9b_level0_row5\" class=\"row_heading level0 row5\" >binancecoin</th>\n",
              "      <td id=\"T_94a9b_row5_col0\" class=\"data row5 col0\" >-0.52</td>\n",
              "      <td id=\"T_94a9b_row5_col1\" class=\"data row5 col1\" >1.39</td>\n",
              "      <td id=\"T_94a9b_row5_col2\" class=\"data row5 col2\" >0.80</td>\n",
              "      <td id=\"T_94a9b_row5_col3\" class=\"data row5 col3\" >0</td>\n",
              "      <td id=\"T_94a9b_row5_col4\" class=\"data row5 col4\" >0</td>\n",
              "      <td id=\"T_94a9b_row5_col5\" class=\"data row5 col5\" >3</td>\n",
              "      <td id=\"T_94a9b_row5_col6\" class=\"data row5 col6\" >1</td>\n",
              "    </tr>\n",
              "    <tr>\n",
              "      <th id=\"T_94a9b_level0_row6\" class=\"row_heading level0 row6\" >chainlink</th>\n",
              "      <td id=\"T_94a9b_row6_col0\" class=\"data row6 col0\" >-0.45</td>\n",
              "      <td id=\"T_94a9b_row6_col1\" class=\"data row6 col1\" >0.52</td>\n",
              "      <td id=\"T_94a9b_row6_col2\" class=\"data row6 col2\" >2.85</td>\n",
              "      <td id=\"T_94a9b_row6_col3\" class=\"data row6 col3\" >0</td>\n",
              "      <td id=\"T_94a9b_row6_col4\" class=\"data row6 col4\" >0</td>\n",
              "      <td id=\"T_94a9b_row6_col5\" class=\"data row6 col5\" >3</td>\n",
              "      <td id=\"T_94a9b_row6_col6\" class=\"data row6 col6\" >7</td>\n",
              "    </tr>\n",
              "    <tr>\n",
              "      <th id=\"T_94a9b_level0_row7\" class=\"row_heading level0 row7\" >cardano</th>\n",
              "      <td id=\"T_94a9b_row7_col0\" class=\"data row7 col0\" >-0.35</td>\n",
              "      <td id=\"T_94a9b_row7_col1\" class=\"data row7 col1\" >0.73</td>\n",
              "      <td id=\"T_94a9b_row7_col2\" class=\"data row7 col2\" >1.48</td>\n",
              "      <td id=\"T_94a9b_row7_col3\" class=\"data row7 col3\" >0</td>\n",
              "      <td id=\"T_94a9b_row7_col4\" class=\"data row7 col4\" >0</td>\n",
              "      <td id=\"T_94a9b_row7_col5\" class=\"data row7 col5\" >3</td>\n",
              "      <td id=\"T_94a9b_row7_col6\" class=\"data row7 col6\" >7</td>\n",
              "    </tr>\n",
              "    <tr>\n",
              "      <th id=\"T_94a9b_level0_row8\" class=\"row_heading level0 row8\" >litecoin</th>\n",
              "      <td id=\"T_94a9b_row8_col0\" class=\"data row8 col0\" >-0.65</td>\n",
              "      <td id=\"T_94a9b_row8_col1\" class=\"data row8 col1\" >0.43</td>\n",
              "      <td id=\"T_94a9b_row8_col2\" class=\"data row8 col2\" >0.60</td>\n",
              "      <td id=\"T_94a9b_row8_col3\" class=\"data row8 col3\" >0</td>\n",
              "      <td id=\"T_94a9b_row8_col4\" class=\"data row8 col4\" >0</td>\n",
              "      <td id=\"T_94a9b_row8_col5\" class=\"data row8 col5\" >3</td>\n",
              "      <td id=\"T_94a9b_row8_col6\" class=\"data row8 col6\" >1</td>\n",
              "    </tr>\n",
              "    <tr>\n",
              "      <th id=\"T_94a9b_level0_row9\" class=\"row_heading level0 row9\" >bitcoin-cash-sv</th>\n",
              "      <td id=\"T_94a9b_row9_col0\" class=\"data row9 col0\" >-0.76</td>\n",
              "      <td id=\"T_94a9b_row9_col1\" class=\"data row9 col1\" >-0.20</td>\n",
              "      <td id=\"T_94a9b_row9_col2\" class=\"data row9 col2\" >-0.22</td>\n",
              "      <td id=\"T_94a9b_row9_col3\" class=\"data row9 col3\" >0</td>\n",
              "      <td id=\"T_94a9b_row9_col4\" class=\"data row9 col4\" >0</td>\n",
              "      <td id=\"T_94a9b_row9_col5\" class=\"data row9 col5\" >1</td>\n",
              "      <td id=\"T_94a9b_row9_col6\" class=\"data row9 col6\" >9</td>\n",
              "    </tr>\n",
              "  </tbody>\n",
              "</table>\n"
            ]
          },
          "metadata": {},
          "execution_count": 108
        }
      ],
      "source": [
        "pandasx.return_formatted_table \\\n",
        "    (crypto_pca_prediction_dataframe,\n",
        "     'Table 6.2.1: Cryptocurrency with Predictions Using PCA Data Table',\n",
        "     hide_index_boolean = False)"
      ]
    },
    {
      "cell_type": "markdown",
      "id": "876db9eb",
      "metadata": {
        "id": "876db9eb"
      },
      "source": [
        "## **6.3: Normalized Cryptocurrency Predictions Using PCA Scatter Plots (2-D)**"
      ]
    },
    {
      "cell_type": "code",
      "execution_count": null,
      "id": "ba29b36e",
      "metadata": {
        "colab": {
          "base_uri": "https://localhost:8080/",
          "height": 1000
        },
        "id": "ba29b36e",
        "outputId": "2db5866a-6b6f-4a54-fa72-0a341b0c1f8e"
      },
      "outputs": [
        {
          "output_type": "display_data",
          "data": {
            "text/html": [
              "<html>\n",
              "<head><meta charset=\"utf-8\" /></head>\n",
              "<body>\n",
              "    <div>            <script src=\"https://cdnjs.cloudflare.com/ajax/libs/mathjax/2.7.5/MathJax.js?config=TeX-AMS-MML_SVG\"></script><script type=\"text/javascript\">if (window.MathJax && window.MathJax.Hub && window.MathJax.Hub.Config) {window.MathJax.Hub.Config({SVG: {font: \"STIX-Web\"}});}</script>                <script type=\"text/javascript\">window.PlotlyConfig = {MathJaxConfig: 'local'};</script>\n",
              "        <script charset=\"utf-8\" src=\"https://cdn.plot.ly/plotly-2.31.1.min.js\"></script>                <div id=\"22683f33-40c5-435b-ad83-95122b189140\" class=\"plotly-graph-div\" style=\"height:1000px; width:1000px;\"></div>            <script type=\"text/javascript\">                                    window.PLOTLYENV=window.PLOTLYENV || {};                                    if (document.getElementById(\"22683f33-40c5-435b-ad83-95122b189140\")) {                    Plotly.newPlot(                        \"22683f33-40c5-435b-ad83-95122b189140\",                        [{\"hovertemplate\":\"\\u003cb\\u003eCryptocurrency:\\u003c\\u002fb\\u003e %{text}\\u003cbr\\u003e\\u003cb\\u003ex:\\u003c\\u002fb\\u003e %{x}\\u003cbr\\u003e\\u003cb\\u003ey:\\u003c\\u002fb\\u003e %{y}\\u003cbr\\u003e\\u003cextra\\u003e\\u003c\\u002fextra\\u003e\",\"marker\":{\"color\":[3,3,1,1,3,3,3,3,3,1,1,1,1,3,1,3,1,1,3,1,1,3,1,1,1,1,1,1,3,1,1,1,2,3,1,1,0,1,1,1,1],\"colorscale\":[[0.0,\"firebrick\"],[0.16666666666666666,\"green\"],[0.3333333333333333,\"orange\"],[0.5,\"lightsteelblue\"],[0.6666666666666666,\"gold\"],[0.8333333333333334,\"purple\"],[1.0,\"blue\"]],\"line\":{\"color\":\"black\",\"width\":1.0},\"opacity\":1.0,\"size\":10.0},\"mode\":\"markers\",\"name\":\"Points\",\"showlegend\":false,\"text\":[\"bitcoin\",\"ethereum\",\"tether\",\"ripple\",\"bitcoin-cash\",\"binancecoin\",\"chainlink\",\"cardano\",\"litecoin\",\"bitcoin-cash-sv\",\"crypto-com-chain\",\"usd-coin\",\"eos\",\"monero\",\"tron\",\"tezos\",\"okb\",\"stellar\",\"cosmos\",\"cdai\",\"neo\",\"wrapped-bitcoin\",\"leo-token\",\"huobi-token\",\"nem\",\"binance-usd\",\"iota\",\"vechain\",\"zcash\",\"theta-token\",\"dash\",\"ethereum-classic\",\"ethlend\",\"maker\",\"havven\",\"omisego\",\"celsius-degree-token\",\"ontology\",\"ftx-token\",\"true-usd\",\"digibyte\"],\"x\":[-0.6006673254375197,-0.45826071401032126,-0.43306980513657123,-0.4718349487388997,-1.1577999724406398,-0.5165337697386355,-0.4507113399717348,-0.34559976661691705,-0.6494679214405782,-0.759013942296941,-0.24819846472379042,-0.4384076222360054,-0.6934253333100024,0.06049914778108642,-0.3933524257856281,-0.7961756359232364,0.06407451856195888,-0.4890150610215555,-0.3062722976749089,-0.513527753143791,-0.3621204360718861,-0.6042646308187019,-0.4132956035721582,-0.40748303584430373,0.6089738213442363,-0.450211141106789,-0.7646652213141043,-0.5563146750187622,-0.4251467742977224,2.6768676123254984,-0.6139227463582011,-0.5799239778770782,8.089018214765613,-0.38904525957800884,0.8657618298532996,0.11167508357409268,4.792395401459594,-0.6323549165416654,-0.593142164129733,-0.4581305024102701,-0.2979104450783156],\"y\":[0.8427600624855399,0.4584656644628807,-0.16812638169325195,-0.22266007696009266,2.0412091852418346,1.3883774818625845,0.5176991167273984,0.7294393945322883,0.4321651377074032,-0.20119978804156163,-1.3762515898012422,-0.17533654196886497,-0.4738146235496463,2.9094038518367764,-0.10819197462494247,-0.4944087524150498,-1.269825135597806,-0.7327191199192675,0.7034151468998076,-0.14280239241374712,-0.9869144080114634,0.8273976353815232,-0.674115268076814,-0.2125065470533916,0.5635321240704285,-0.15101945266575217,-0.517885538792463,-1.9382090595380141,0.4929761725450791,-0.01395409962133177,-0.4793368029042946,-0.35633377052316595,-3.896890535486485,0.16504063407280317,-2.2618823859082102,0.42831576443907726,6.767678675262274,-2.108117128334043,0.021484962427633224,-0.13573403362162556,-0.1911256024328063],\"type\":\"scatter\",\"xaxis\":\"x\",\"yaxis\":\"y\"},{\"hovertemplate\":\"\\u003cb\\u003eCluster %{text}\\u003c\\u002fb\\u003e\\u003cbr\\u003e\\u003cb\\u003ex:\\u003c\\u002fb\\u003e %{x}\\u003cbr\\u003e\\u003cb\\u003ey:\\u003c\\u002fb\\u003e %{y}\\u003cbr\\u003e\\u003cextra\\u003e\\u003c\\u002fextra\\u003e\",\"marker\":{\"color\":[0,1,2,3],\"colorscale\":[[0.0,\"firebrick\"],[0.16666666666666666,\"green\"],[0.3333333333333333,\"orange\"],[0.5,\"lightsteelblue\"],[0.6666666666666666,\"gold\"],[0.8333333333333334,\"purple\"],[1.0,\"blue\"]],\"line\":{\"color\":\"black\",\"width\":1.5},\"opacity\":0.4,\"size\":50.0},\"mode\":\"markers\",\"name\":\"Clusters\",\"showlegend\":false,\"text\":[\"1\",\"2\",\"3\",\"4\"],\"x\":[4.792395401459594,-0.24007566754066792,8.089018214765613,-0.510726635397526],\"y\":[6.767678675262274,-0.5340280335044868,-3.896890535486485,0.8472262101031439],\"type\":\"scatter\",\"xaxis\":\"x\",\"yaxis\":\"y\"},{\"hovertemplate\":\"\\u003cb\\u003eCryptocurrency:\\u003c\\u002fb\\u003e %{text}\\u003cbr\\u003e\\u003cb\\u003ex:\\u003c\\u002fb\\u003e %{x}\\u003cbr\\u003e\\u003cb\\u003ey:\\u003c\\u002fb\\u003e %{y}\\u003cbr\\u003e\\u003cextra\\u003e\\u003c\\u002fextra\\u003e\",\"marker\":{\"color\":[1,1,4,4,5,1,7,7,1,9,0,4,4,5,9,9,0,9,7,4,0,1,4,4,4,4,9,0,1,6,9,9,3,9,8,4,2,0,9,4,4],\"colorscale\":[[0.0,\"firebrick\"],[0.16666666666666666,\"green\"],[0.3333333333333333,\"orange\"],[0.5,\"lightsteelblue\"],[0.6666666666666666,\"gold\"],[0.8333333333333334,\"purple\"],[1.0,\"blue\"]],\"line\":{\"color\":\"black\",\"width\":1.0},\"opacity\":1.0,\"size\":10.0},\"mode\":\"markers\",\"name\":\"Points\",\"showlegend\":false,\"text\":[\"bitcoin\",\"ethereum\",\"tether\",\"ripple\",\"bitcoin-cash\",\"binancecoin\",\"chainlink\",\"cardano\",\"litecoin\",\"bitcoin-cash-sv\",\"crypto-com-chain\",\"usd-coin\",\"eos\",\"monero\",\"tron\",\"tezos\",\"okb\",\"stellar\",\"cosmos\",\"cdai\",\"neo\",\"wrapped-bitcoin\",\"leo-token\",\"huobi-token\",\"nem\",\"binance-usd\",\"iota\",\"vechain\",\"zcash\",\"theta-token\",\"dash\",\"ethereum-classic\",\"ethlend\",\"maker\",\"havven\",\"omisego\",\"celsius-degree-token\",\"ontology\",\"ftx-token\",\"true-usd\",\"digibyte\"],\"x\":[-0.6006673254375197,-0.45826071401032126,-0.43306980513657123,-0.4718349487388997,-1.1577999724406398,-0.5165337697386355,-0.4507113399717348,-0.34559976661691705,-0.6494679214405782,-0.759013942296941,-0.24819846472379042,-0.4384076222360054,-0.6934253333100024,0.06049914778108642,-0.3933524257856281,-0.7961756359232364,0.06407451856195888,-0.4890150610215555,-0.3062722976749089,-0.513527753143791,-0.3621204360718861,-0.6042646308187019,-0.4132956035721582,-0.40748303584430373,0.6089738213442363,-0.450211141106789,-0.7646652213141043,-0.5563146750187622,-0.4251467742977224,2.6768676123254984,-0.6139227463582011,-0.5799239778770782,8.089018214765613,-0.38904525957800884,0.8657618298532996,0.11167508357409268,4.792395401459594,-0.6323549165416654,-0.593142164129733,-0.4581305024102701,-0.2979104450783156],\"y\":[0.8427600624855399,0.4584656644628807,-0.16812638169325195,-0.22266007696009266,2.0412091852418346,1.3883774818625845,0.5176991167273984,0.7294393945322883,0.4321651377074032,-0.20119978804156163,-1.3762515898012422,-0.17533654196886497,-0.4738146235496463,2.9094038518367764,-0.10819197462494247,-0.4944087524150498,-1.269825135597806,-0.7327191199192675,0.7034151468998076,-0.14280239241374712,-0.9869144080114634,0.8273976353815232,-0.674115268076814,-0.2125065470533916,0.5635321240704285,-0.15101945266575217,-0.517885538792463,-1.9382090595380141,0.4929761725450791,-0.01395409962133177,-0.4793368029042946,-0.35633377052316595,-3.896890535486485,0.16504063407280317,-2.2618823859082102,0.42831576443907726,6.767678675262274,-2.108117128334043,0.021484962427633224,-0.13573403362162556,-0.1911256024328063],\"type\":\"scatter\",\"xaxis\":\"x2\",\"yaxis\":\"y2\"},{\"hovertemplate\":\"\\u003cb\\u003eCluster %{text}\\u003c\\u002fb\\u003e\\u003cbr\\u003e\\u003cb\\u003ex:\\u003c\\u002fb\\u003e %{x}\\u003cbr\\u003e\\u003cb\\u003ey:\\u003c\\u002fb\\u003e %{y}\\u003cbr\\u003e\\u003cextra\\u003e\\u003c\\u002fextra\\u003e\",\"marker\":{\"color\":[0,1,2,3,4,5,6,7,8,9],\"colorscale\":[[0.0,\"firebrick\"],[0.16666666666666666,\"green\"],[0.3333333333333333,\"orange\"],[0.5,\"lightsteelblue\"],[0.6666666666666666,\"gold\"],[0.8333333333333334,\"purple\"],[1.0,\"blue\"]],\"line\":{\"color\":\"black\",\"width\":1.5},\"opacity\":0.4,\"size\":50.0},\"mode\":\"markers\",\"name\":\"Clusters\",\"showlegend\":false,\"text\":[\"1\",\"2\",\"3\",\"4\",\"5\",\"6\",\"7\",\"8\",\"9\",\"10\"],\"x\":[-0.3469827947588291,-0.5423901892905798,4.792395401459594,8.089018214765613,-0.321387273804898,-0.5486504123297767,2.6768676123254984,-0.3675278014211869,0.8657618298532996,-0.5975840482538318],\"y\":[-1.5358634642565139,0.740357025740835,6.767678675262274,-3.896890535486485,-0.12961608599387395,2.4753065185393055,-0.01395409962133177,0.6501845527198313,-2.2618823859082102,-0.30039446119114543],\"type\":\"scatter\",\"xaxis\":\"x2\",\"yaxis\":\"y2\"},{\"hovertemplate\":\"\\u003cb\\u003eCryptocurrency:\\u003c\\u002fb\\u003e %{text}\\u003cbr\\u003e\\u003cb\\u003ex:\\u003c\\u002fb\\u003e %{x}\\u003cbr\\u003e\\u003cb\\u003ey:\\u003c\\u002fb\\u003e %{y}\\u003cbr\\u003e\\u003cextra\\u003e\\u003c\\u002fextra\\u003e\",\"marker\":{\"color\":[0,0,0,0,0,0,0,0,0,0,0,0,0,0,0,0,0,0,0,0,0,0,0,0,0,0,0,0,0,0,0,0,2,0,0,0,1,0,0,0,0],\"colorscale\":[[0.0,\"firebrick\"],[0.16666666666666666,\"green\"],[0.3333333333333333,\"orange\"],[0.5,\"lightsteelblue\"],[0.6666666666666666,\"gold\"],[0.8333333333333334,\"purple\"],[1.0,\"blue\"]],\"line\":{\"color\":\"black\",\"width\":1.0},\"opacity\":1.0,\"size\":10.0},\"mode\":\"markers\",\"name\":\"Points\",\"showlegend\":false,\"text\":[\"bitcoin\",\"ethereum\",\"tether\",\"ripple\",\"bitcoin-cash\",\"binancecoin\",\"chainlink\",\"cardano\",\"litecoin\",\"bitcoin-cash-sv\",\"crypto-com-chain\",\"usd-coin\",\"eos\",\"monero\",\"tron\",\"tezos\",\"okb\",\"stellar\",\"cosmos\",\"cdai\",\"neo\",\"wrapped-bitcoin\",\"leo-token\",\"huobi-token\",\"nem\",\"binance-usd\",\"iota\",\"vechain\",\"zcash\",\"theta-token\",\"dash\",\"ethereum-classic\",\"ethlend\",\"maker\",\"havven\",\"omisego\",\"celsius-degree-token\",\"ontology\",\"ftx-token\",\"true-usd\",\"digibyte\"],\"x\":[-0.6006673254375197,-0.45826071401032126,-0.43306980513657123,-0.4718349487388997,-1.1577999724406398,-0.5165337697386355,-0.4507113399717348,-0.34559976661691705,-0.6494679214405782,-0.759013942296941,-0.24819846472379042,-0.4384076222360054,-0.6934253333100024,0.06049914778108642,-0.3933524257856281,-0.7961756359232364,0.06407451856195888,-0.4890150610215555,-0.3062722976749089,-0.513527753143791,-0.3621204360718861,-0.6042646308187019,-0.4132956035721582,-0.40748303584430373,0.6089738213442363,-0.450211141106789,-0.7646652213141043,-0.5563146750187622,-0.4251467742977224,2.6768676123254984,-0.6139227463582011,-0.5799239778770782,8.089018214765613,-0.38904525957800884,0.8657618298532996,0.11167508357409268,4.792395401459594,-0.6323549165416654,-0.593142164129733,-0.4581305024102701,-0.2979104450783156],\"y\":[0.8427600624855399,0.4584656644628807,-0.16812638169325195,-0.22266007696009266,2.0412091852418346,1.3883774818625845,0.5176991167273984,0.7294393945322883,0.4321651377074032,-0.20119978804156163,-1.3762515898012422,-0.17533654196886497,-0.4738146235496463,2.9094038518367764,-0.10819197462494247,-0.4944087524150498,-1.269825135597806,-0.7327191199192675,0.7034151468998076,-0.14280239241374712,-0.9869144080114634,0.8273976353815232,-0.674115268076814,-0.2125065470533916,0.5635321240704285,-0.15101945266575217,-0.517885538792463,-1.9382090595380141,0.4929761725450791,-0.01395409962133177,-0.4793368029042946,-0.35633377052316595,-3.896890535486485,0.16504063407280317,-2.2618823859082102,0.42831576443907726,6.767678675262274,-2.108117128334043,0.021484962427633224,-0.13573403362162556,-0.1911256024328063],\"type\":\"scatter\",\"xaxis\":\"x3\",\"yaxis\":\"y3\"},{\"hovertemplate\":\"\\u003cb\\u003eCluster %{text}\\u003c\\u002fb\\u003e\\u003cbr\\u003e\\u003cb\\u003ex:\\u003c\\u002fb\\u003e %{x}\\u003cbr\\u003e\\u003cb\\u003ey:\\u003c\\u002fb\\u003e %{y}\\u003cbr\\u003e\\u003cextra\\u003e\\u003c\\u002fextra\\u003e\",\"marker\":{\"color\":[0,1,2],\"colorscale\":[[0.0,\"firebrick\"],[0.16666666666666666,\"green\"],[0.3333333333333333,\"orange\"],[0.5,\"lightsteelblue\"],[0.6666666666666666,\"gold\"],[0.8333333333333334,\"purple\"],[1.0,\"blue\"]],\"line\":{\"color\":\"black\",\"width\":1.5},\"opacity\":0.4,\"size\":50.0},\"mode\":\"markers\",\"name\":\"Clusters\",\"showlegend\":false,\"text\":[\"1\",\"2\",\"3\"],\"x\":[-0.3302926568262873,4.792395401459594,8.089018214765613],\"y\":[-0.07360995230194335,6.767678675262274,-3.896890535486485],\"type\":\"scatter\",\"xaxis\":\"x3\",\"yaxis\":\"y3\"},{\"hovertemplate\":\"\\u003cb\\u003eCryptocurrency:\\u003c\\u002fb\\u003e %{text}\\u003cbr\\u003e\\u003cb\\u003ex:\\u003c\\u002fb\\u003e %{x}\\u003cbr\\u003e\\u003cb\\u003ey:\\u003c\\u002fb\\u003e %{y}\\u003cbr\\u003e\\u003cextra\\u003e\\u003c\\u002fextra\\u003e\",\"marker\":{\"color\":[0,0,0,0,0,0,0,0,0,0,0,0,0,0,0,0,0,0,0,0,0,0,0,0,0,0,0,0,0,1,0,0,1,0,0,0,1,0,0,0,0],\"colorscale\":[[0.0,\"firebrick\"],[0.16666666666666666,\"green\"],[0.3333333333333333,\"orange\"],[0.5,\"lightsteelblue\"],[0.6666666666666666,\"gold\"],[0.8333333333333334,\"purple\"],[1.0,\"blue\"]],\"line\":{\"color\":\"black\",\"width\":1.0},\"opacity\":1.0,\"size\":10.0},\"mode\":\"markers\",\"name\":\"Points\",\"showlegend\":false,\"text\":[\"bitcoin\",\"ethereum\",\"tether\",\"ripple\",\"bitcoin-cash\",\"binancecoin\",\"chainlink\",\"cardano\",\"litecoin\",\"bitcoin-cash-sv\",\"crypto-com-chain\",\"usd-coin\",\"eos\",\"monero\",\"tron\",\"tezos\",\"okb\",\"stellar\",\"cosmos\",\"cdai\",\"neo\",\"wrapped-bitcoin\",\"leo-token\",\"huobi-token\",\"nem\",\"binance-usd\",\"iota\",\"vechain\",\"zcash\",\"theta-token\",\"dash\",\"ethereum-classic\",\"ethlend\",\"maker\",\"havven\",\"omisego\",\"celsius-degree-token\",\"ontology\",\"ftx-token\",\"true-usd\",\"digibyte\"],\"x\":[-0.6006673254375197,-0.45826071401032126,-0.43306980513657123,-0.4718349487388997,-1.1577999724406398,-0.5165337697386355,-0.4507113399717348,-0.34559976661691705,-0.6494679214405782,-0.759013942296941,-0.24819846472379042,-0.4384076222360054,-0.6934253333100024,0.06049914778108642,-0.3933524257856281,-0.7961756359232364,0.06407451856195888,-0.4890150610215555,-0.3062722976749089,-0.513527753143791,-0.3621204360718861,-0.6042646308187019,-0.4132956035721582,-0.40748303584430373,0.6089738213442363,-0.450211141106789,-0.7646652213141043,-0.5563146750187622,-0.4251467742977224,2.6768676123254984,-0.6139227463582011,-0.5799239778770782,8.089018214765613,-0.38904525957800884,0.8657618298532996,0.11167508357409268,4.792395401459594,-0.6323549165416654,-0.593142164129733,-0.4581305024102701,-0.2979104450783156],\"y\":[0.8427600624855399,0.4584656644628807,-0.16812638169325195,-0.22266007696009266,2.0412091852418346,1.3883774818625845,0.5176991167273984,0.7294393945322883,0.4321651377074032,-0.20119978804156163,-1.3762515898012422,-0.17533654196886497,-0.4738146235496463,2.9094038518367764,-0.10819197462494247,-0.4944087524150498,-1.269825135597806,-0.7327191199192675,0.7034151468998076,-0.14280239241374712,-0.9869144080114634,0.8273976353815232,-0.674115268076814,-0.2125065470533916,0.5635321240704285,-0.15101945266575217,-0.517885538792463,-1.9382090595380141,0.4929761725450791,-0.01395409962133177,-0.4793368029042946,-0.35633377052316595,-3.896890535486485,0.16504063407280317,-2.2618823859082102,0.42831576443907726,6.767678675262274,-2.108117128334043,0.021484962427633224,-0.13573403362162556,-0.1911256024328063],\"type\":\"scatter\",\"xaxis\":\"x4\",\"yaxis\":\"y4\"},{\"hovertemplate\":\"\\u003cb\\u003eCluster %{text}\\u003c\\u002fb\\u003e\\u003cbr\\u003e\\u003cb\\u003ex:\\u003c\\u002fb\\u003e %{x}\\u003cbr\\u003e\\u003cb\\u003ey:\\u003c\\u002fb\\u003e %{y}\\u003cbr\\u003e\\u003cextra\\u003e\\u003c\\u002fextra\\u003e\",\"marker\":{\"color\":[0,1],\"colorscale\":[[0.0,\"firebrick\"],[0.16666666666666666,\"green\"],[0.3333333333333333,\"orange\"],[0.5,\"lightsteelblue\"],[0.6666666666666666,\"gold\"],[0.8333333333333334,\"purple\"],[1.0,\"blue\"]],\"line\":{\"color\":\"black\",\"width\":1.5},\"opacity\":0.4,\"size\":50.0},\"mode\":\"markers\",\"name\":\"Clusters\",\"showlegend\":false,\"text\":[\"1\",\"2\"],\"x\":[-0.4094284533829132,5.186093742850234],\"y\":[-0.07517984316195944,0.952278013384819],\"type\":\"scatter\",\"xaxis\":\"x4\",\"yaxis\":\"y4\"}],                        {\"template\":{\"data\":{\"histogram2dcontour\":[{\"type\":\"histogram2dcontour\",\"colorbar\":{\"outlinewidth\":0,\"ticks\":\"\"},\"colorscale\":[[0.0,\"#0d0887\"],[0.1111111111111111,\"#46039f\"],[0.2222222222222222,\"#7201a8\"],[0.3333333333333333,\"#9c179e\"],[0.4444444444444444,\"#bd3786\"],[0.5555555555555556,\"#d8576b\"],[0.6666666666666666,\"#ed7953\"],[0.7777777777777778,\"#fb9f3a\"],[0.8888888888888888,\"#fdca26\"],[1.0,\"#f0f921\"]]}],\"choropleth\":[{\"type\":\"choropleth\",\"colorbar\":{\"outlinewidth\":0,\"ticks\":\"\"}}],\"histogram2d\":[{\"type\":\"histogram2d\",\"colorbar\":{\"outlinewidth\":0,\"ticks\":\"\"},\"colorscale\":[[0.0,\"#0d0887\"],[0.1111111111111111,\"#46039f\"],[0.2222222222222222,\"#7201a8\"],[0.3333333333333333,\"#9c179e\"],[0.4444444444444444,\"#bd3786\"],[0.5555555555555556,\"#d8576b\"],[0.6666666666666666,\"#ed7953\"],[0.7777777777777778,\"#fb9f3a\"],[0.8888888888888888,\"#fdca26\"],[1.0,\"#f0f921\"]]}],\"heatmap\":[{\"type\":\"heatmap\",\"colorbar\":{\"outlinewidth\":0,\"ticks\":\"\"},\"colorscale\":[[0.0,\"#0d0887\"],[0.1111111111111111,\"#46039f\"],[0.2222222222222222,\"#7201a8\"],[0.3333333333333333,\"#9c179e\"],[0.4444444444444444,\"#bd3786\"],[0.5555555555555556,\"#d8576b\"],[0.6666666666666666,\"#ed7953\"],[0.7777777777777778,\"#fb9f3a\"],[0.8888888888888888,\"#fdca26\"],[1.0,\"#f0f921\"]]}],\"heatmapgl\":[{\"type\":\"heatmapgl\",\"colorbar\":{\"outlinewidth\":0,\"ticks\":\"\"},\"colorscale\":[[0.0,\"#0d0887\"],[0.1111111111111111,\"#46039f\"],[0.2222222222222222,\"#7201a8\"],[0.3333333333333333,\"#9c179e\"],[0.4444444444444444,\"#bd3786\"],[0.5555555555555556,\"#d8576b\"],[0.6666666666666666,\"#ed7953\"],[0.7777777777777778,\"#fb9f3a\"],[0.8888888888888888,\"#fdca26\"],[1.0,\"#f0f921\"]]}],\"contourcarpet\":[{\"type\":\"contourcarpet\",\"colorbar\":{\"outlinewidth\":0,\"ticks\":\"\"}}],\"contour\":[{\"type\":\"contour\",\"colorbar\":{\"outlinewidth\":0,\"ticks\":\"\"},\"colorscale\":[[0.0,\"#0d0887\"],[0.1111111111111111,\"#46039f\"],[0.2222222222222222,\"#7201a8\"],[0.3333333333333333,\"#9c179e\"],[0.4444444444444444,\"#bd3786\"],[0.5555555555555556,\"#d8576b\"],[0.6666666666666666,\"#ed7953\"],[0.7777777777777778,\"#fb9f3a\"],[0.8888888888888888,\"#fdca26\"],[1.0,\"#f0f921\"]]}],\"surface\":[{\"type\":\"surface\",\"colorbar\":{\"outlinewidth\":0,\"ticks\":\"\"},\"colorscale\":[[0.0,\"#0d0887\"],[0.1111111111111111,\"#46039f\"],[0.2222222222222222,\"#7201a8\"],[0.3333333333333333,\"#9c179e\"],[0.4444444444444444,\"#bd3786\"],[0.5555555555555556,\"#d8576b\"],[0.6666666666666666,\"#ed7953\"],[0.7777777777777778,\"#fb9f3a\"],[0.8888888888888888,\"#fdca26\"],[1.0,\"#f0f921\"]]}],\"mesh3d\":[{\"type\":\"mesh3d\",\"colorbar\":{\"outlinewidth\":0,\"ticks\":\"\"}}],\"scatter\":[{\"fillpattern\":{\"fillmode\":\"overlay\",\"size\":10,\"solidity\":0.2},\"type\":\"scatter\"}],\"parcoords\":[{\"type\":\"parcoords\",\"line\":{\"colorbar\":{\"outlinewidth\":0,\"ticks\":\"\"}}}],\"scatterpolargl\":[{\"type\":\"scatterpolargl\",\"marker\":{\"colorbar\":{\"outlinewidth\":0,\"ticks\":\"\"}}}],\"bar\":[{\"error_x\":{\"color\":\"#2a3f5f\"},\"error_y\":{\"color\":\"#2a3f5f\"},\"marker\":{\"line\":{\"color\":\"#E5ECF6\",\"width\":0.5},\"pattern\":{\"fillmode\":\"overlay\",\"size\":10,\"solidity\":0.2}},\"type\":\"bar\"}],\"scattergeo\":[{\"type\":\"scattergeo\",\"marker\":{\"colorbar\":{\"outlinewidth\":0,\"ticks\":\"\"}}}],\"scatterpolar\":[{\"type\":\"scatterpolar\",\"marker\":{\"colorbar\":{\"outlinewidth\":0,\"ticks\":\"\"}}}],\"histogram\":[{\"marker\":{\"pattern\":{\"fillmode\":\"overlay\",\"size\":10,\"solidity\":0.2}},\"type\":\"histogram\"}],\"scattergl\":[{\"type\":\"scattergl\",\"marker\":{\"colorbar\":{\"outlinewidth\":0,\"ticks\":\"\"}}}],\"scatter3d\":[{\"type\":\"scatter3d\",\"line\":{\"colorbar\":{\"outlinewidth\":0,\"ticks\":\"\"}},\"marker\":{\"colorbar\":{\"outlinewidth\":0,\"ticks\":\"\"}}}],\"scattermapbox\":[{\"type\":\"scattermapbox\",\"marker\":{\"colorbar\":{\"outlinewidth\":0,\"ticks\":\"\"}}}],\"scatterternary\":[{\"type\":\"scatterternary\",\"marker\":{\"colorbar\":{\"outlinewidth\":0,\"ticks\":\"\"}}}],\"scattercarpet\":[{\"type\":\"scattercarpet\",\"marker\":{\"colorbar\":{\"outlinewidth\":0,\"ticks\":\"\"}}}],\"carpet\":[{\"aaxis\":{\"endlinecolor\":\"#2a3f5f\",\"gridcolor\":\"white\",\"linecolor\":\"white\",\"minorgridcolor\":\"white\",\"startlinecolor\":\"#2a3f5f\"},\"baxis\":{\"endlinecolor\":\"#2a3f5f\",\"gridcolor\":\"white\",\"linecolor\":\"white\",\"minorgridcolor\":\"white\",\"startlinecolor\":\"#2a3f5f\"},\"type\":\"carpet\"}],\"table\":[{\"cells\":{\"fill\":{\"color\":\"#EBF0F8\"},\"line\":{\"color\":\"white\"}},\"header\":{\"fill\":{\"color\":\"#C8D4E3\"},\"line\":{\"color\":\"white\"}},\"type\":\"table\"}],\"barpolar\":[{\"marker\":{\"line\":{\"color\":\"#E5ECF6\",\"width\":0.5},\"pattern\":{\"fillmode\":\"overlay\",\"size\":10,\"solidity\":0.2}},\"type\":\"barpolar\"}],\"pie\":[{\"automargin\":true,\"type\":\"pie\"}]},\"layout\":{\"autotypenumbers\":\"strict\",\"colorway\":[\"#636efa\",\"#EF553B\",\"#00cc96\",\"#ab63fa\",\"#FFA15A\",\"#19d3f3\",\"#FF6692\",\"#B6E880\",\"#FF97FF\",\"#FECB52\"],\"font\":{\"color\":\"#2a3f5f\"},\"hovermode\":\"closest\",\"hoverlabel\":{\"align\":\"left\"},\"paper_bgcolor\":\"white\",\"plot_bgcolor\":\"#E5ECF6\",\"polar\":{\"bgcolor\":\"#E5ECF6\",\"angularaxis\":{\"gridcolor\":\"white\",\"linecolor\":\"white\",\"ticks\":\"\"},\"radialaxis\":{\"gridcolor\":\"white\",\"linecolor\":\"white\",\"ticks\":\"\"}},\"ternary\":{\"bgcolor\":\"#E5ECF6\",\"aaxis\":{\"gridcolor\":\"white\",\"linecolor\":\"white\",\"ticks\":\"\"},\"baxis\":{\"gridcolor\":\"white\",\"linecolor\":\"white\",\"ticks\":\"\"},\"caxis\":{\"gridcolor\":\"white\",\"linecolor\":\"white\",\"ticks\":\"\"}},\"coloraxis\":{\"colorbar\":{\"outlinewidth\":0,\"ticks\":\"\"}},\"colorscale\":{\"sequential\":[[0.0,\"#0d0887\"],[0.1111111111111111,\"#46039f\"],[0.2222222222222222,\"#7201a8\"],[0.3333333333333333,\"#9c179e\"],[0.4444444444444444,\"#bd3786\"],[0.5555555555555556,\"#d8576b\"],[0.6666666666666666,\"#ed7953\"],[0.7777777777777778,\"#fb9f3a\"],[0.8888888888888888,\"#fdca26\"],[1.0,\"#f0f921\"]],\"sequentialminus\":[[0.0,\"#0d0887\"],[0.1111111111111111,\"#46039f\"],[0.2222222222222222,\"#7201a8\"],[0.3333333333333333,\"#9c179e\"],[0.4444444444444444,\"#bd3786\"],[0.5555555555555556,\"#d8576b\"],[0.6666666666666666,\"#ed7953\"],[0.7777777777777778,\"#fb9f3a\"],[0.8888888888888888,\"#fdca26\"],[1.0,\"#f0f921\"]],\"diverging\":[[0,\"#8e0152\"],[0.1,\"#c51b7d\"],[0.2,\"#de77ae\"],[0.3,\"#f1b6da\"],[0.4,\"#fde0ef\"],[0.5,\"#f7f7f7\"],[0.6,\"#e6f5d0\"],[0.7,\"#b8e186\"],[0.8,\"#7fbc41\"],[0.9,\"#4d9221\"],[1,\"#276419\"]]},\"xaxis\":{\"gridcolor\":\"white\",\"linecolor\":\"white\",\"ticks\":\"\",\"title\":{\"standoff\":15},\"zerolinecolor\":\"white\",\"automargin\":true,\"zerolinewidth\":2},\"yaxis\":{\"gridcolor\":\"white\",\"linecolor\":\"white\",\"ticks\":\"\",\"title\":{\"standoff\":15},\"zerolinecolor\":\"white\",\"automargin\":true,\"zerolinewidth\":2},\"scene\":{\"xaxis\":{\"backgroundcolor\":\"#E5ECF6\",\"gridcolor\":\"white\",\"linecolor\":\"white\",\"showbackground\":true,\"ticks\":\"\",\"zerolinecolor\":\"white\",\"gridwidth\":2},\"yaxis\":{\"backgroundcolor\":\"#E5ECF6\",\"gridcolor\":\"white\",\"linecolor\":\"white\",\"showbackground\":true,\"ticks\":\"\",\"zerolinecolor\":\"white\",\"gridwidth\":2},\"zaxis\":{\"backgroundcolor\":\"#E5ECF6\",\"gridcolor\":\"white\",\"linecolor\":\"white\",\"showbackground\":true,\"ticks\":\"\",\"zerolinecolor\":\"white\",\"gridwidth\":2}},\"shapedefaults\":{\"line\":{\"color\":\"#2a3f5f\"}},\"annotationdefaults\":{\"arrowcolor\":\"#2a3f5f\",\"arrowhead\":0,\"arrowwidth\":1},\"geo\":{\"bgcolor\":\"white\",\"landcolor\":\"#E5ECF6\",\"subunitcolor\":\"white\",\"showland\":true,\"showlakes\":true,\"lakecolor\":\"white\"},\"title\":{\"x\":0.05},\"mapbox\":{\"style\":\"light\"}}},\"xaxis\":{\"anchor\":\"y\",\"domain\":[0.0,0.44],\"tickfont\":{\"color\":\"black\",\"family\":\"garamond\",\"size\":14.0},\"linecolor\":\"black\",\"linewidth\":2.0,\"mirror\":true,\"showline\":true},\"yaxis\":{\"anchor\":\"x\",\"domain\":[0.56,1.0],\"tickfont\":{\"color\":\"black\",\"family\":\"garamond\",\"size\":14.0},\"linecolor\":\"black\",\"linewidth\":2.0,\"mirror\":true,\"showline\":true,\"title\":{\"text\":\"Pca2\",\"font\":{\"color\":\"black\",\"family\":\"garamond\",\"size\":18.0}}},\"xaxis2\":{\"anchor\":\"y2\",\"domain\":[0.56,1.0],\"tickfont\":{\"color\":\"black\",\"family\":\"garamond\",\"size\":14.0},\"linecolor\":\"black\",\"linewidth\":2.0,\"mirror\":true,\"showline\":true},\"yaxis2\":{\"anchor\":\"x2\",\"domain\":[0.56,1.0],\"tickfont\":{\"color\":\"black\",\"family\":\"garamond\",\"size\":14.0},\"linecolor\":\"black\",\"linewidth\":2.0,\"mirror\":true,\"showline\":true},\"xaxis3\":{\"anchor\":\"y3\",\"domain\":[0.0,0.44],\"tickfont\":{\"color\":\"black\",\"family\":\"garamond\",\"size\":14.0},\"linecolor\":\"black\",\"linewidth\":2.0,\"mirror\":true,\"showline\":true,\"title\":{\"text\":\"Pca1\",\"font\":{\"color\":\"black\",\"family\":\"garamond\",\"size\":18.0}}},\"yaxis3\":{\"anchor\":\"x3\",\"domain\":[0.0,0.44],\"tickfont\":{\"color\":\"black\",\"family\":\"garamond\",\"size\":14.0},\"linecolor\":\"black\",\"linewidth\":2.0,\"mirror\":true,\"showline\":true,\"title\":{\"text\":\"Pca2\",\"font\":{\"color\":\"black\",\"family\":\"garamond\",\"size\":18.0}}},\"xaxis4\":{\"anchor\":\"y4\",\"domain\":[0.56,1.0],\"tickfont\":{\"color\":\"black\",\"family\":\"garamond\",\"size\":14.0},\"linecolor\":\"black\",\"linewidth\":2.0,\"mirror\":true,\"showline\":true,\"title\":{\"text\":\"Pca1\",\"font\":{\"color\":\"black\",\"family\":\"garamond\",\"size\":18.0}}},\"yaxis4\":{\"anchor\":\"x4\",\"domain\":[0.0,0.44],\"tickfont\":{\"color\":\"black\",\"family\":\"garamond\",\"size\":14.0},\"linecolor\":\"black\",\"linewidth\":2.0,\"mirror\":true,\"showline\":true},\"annotations\":[{\"font\":{\"size\":20.0,\"color\":\"black\",\"family\":\"garamond\"},\"showarrow\":false,\"text\":\"K-Clusters for K = 4\",\"x\":0.22,\"xanchor\":\"center\",\"xref\":\"paper\",\"y\":1.0,\"yanchor\":\"bottom\",\"yref\":\"paper\",\"yshift\":10.0},{\"font\":{\"size\":20.0,\"color\":\"black\",\"family\":\"garamond\"},\"showarrow\":false,\"text\":\"K-Clusters for K = 10\",\"x\":0.78,\"xanchor\":\"center\",\"xref\":\"paper\",\"y\":1.0,\"yanchor\":\"bottom\",\"yref\":\"paper\",\"yshift\":10.0},{\"font\":{\"size\":20.0,\"color\":\"black\",\"family\":\"garamond\"},\"showarrow\":false,\"text\":\"K-Clusters for K = 3\",\"x\":0.22,\"xanchor\":\"center\",\"xref\":\"paper\",\"y\":0.44,\"yanchor\":\"bottom\",\"yref\":\"paper\",\"yshift\":10.0},{\"font\":{\"size\":20.0,\"color\":\"black\",\"family\":\"garamond\"},\"showarrow\":false,\"text\":\"K-Clusters for K = 2\",\"x\":0.78,\"xanchor\":\"center\",\"xref\":\"paper\",\"y\":0.44,\"yanchor\":\"bottom\",\"yref\":\"paper\",\"yshift\":10.0}],\"title\":{\"font\":{\"color\":\"black\",\"family\":\"garamond\",\"size\":24.0},\"text\":\"6.3.1: K-Means Scatter Plots (PCA1 vs. PCA2)\"},\"height\":1000,\"width\":1000,\"showlegend\":true},                        {\"responsive\": true}                    ).then(function(){\n",
              "                            \n",
              "var gd = document.getElementById('22683f33-40c5-435b-ad83-95122b189140');\n",
              "var x = new MutationObserver(function (mutations, observer) {{\n",
              "        var display = window.getComputedStyle(gd).display;\n",
              "        if (!display || display === 'none') {{\n",
              "            console.log([gd, 'removed!']);\n",
              "            Plotly.purge(gd);\n",
              "            observer.disconnect();\n",
              "        }}\n",
              "}});\n",
              "\n",
              "// Listen for the removal of the full notebook cells\n",
              "var notebookContainer = gd.closest('#notebook-container');\n",
              "if (notebookContainer) {{\n",
              "    x.observe(notebookContainer, {childList: true});\n",
              "}}\n",
              "\n",
              "// Listen for the clearing of the current output cell\n",
              "var outputEl = gd.closest('.output');\n",
              "if (outputEl) {{\n",
              "    x.observe(outputEl, {childList: true});\n",
              "}}\n",
              "\n",
              "                        })                };                            </script>        </div>\n",
              "</body>\n",
              "</html>"
            ]
          },
          "metadata": {}
        }
      ],
      "source": [
        "kmeans_analysisx.return_k_clusters_2d_scatter_plot \\\n",
        "    (crypto_pca_dataframe, [4, 10, 3, 2], colors_string_list,\n",
        "     '6.3.1: K-Means Scatter Plots (PCA1 vs. PCA2)', 'PCA1', 'PCA2')"
      ]
    },
    {
      "cell_type": "code",
      "execution_count": null,
      "id": "77b07a18",
      "metadata": {
        "colab": {
          "base_uri": "https://localhost:8080/",
          "height": 1000
        },
        "id": "77b07a18",
        "outputId": "c2ef7151-a4ca-46db-ae2e-d56c9759cdc7"
      },
      "outputs": [
        {
          "output_type": "display_data",
          "data": {
            "text/html": [
              "<html>\n",
              "<head><meta charset=\"utf-8\" /></head>\n",
              "<body>\n",
              "    <div>            <script src=\"https://cdnjs.cloudflare.com/ajax/libs/mathjax/2.7.5/MathJax.js?config=TeX-AMS-MML_SVG\"></script><script type=\"text/javascript\">if (window.MathJax && window.MathJax.Hub && window.MathJax.Hub.Config) {window.MathJax.Hub.Config({SVG: {font: \"STIX-Web\"}});}</script>                <script type=\"text/javascript\">window.PlotlyConfig = {MathJaxConfig: 'local'};</script>\n",
              "        <script charset=\"utf-8\" src=\"https://cdn.plot.ly/plotly-2.31.1.min.js\"></script>                <div id=\"0abf4acc-a361-4a77-83f6-b8d232af6547\" class=\"plotly-graph-div\" style=\"height:1000px; width:1000px;\"></div>            <script type=\"text/javascript\">                                    window.PLOTLYENV=window.PLOTLYENV || {};                                    if (document.getElementById(\"0abf4acc-a361-4a77-83f6-b8d232af6547\")) {                    Plotly.newPlot(                        \"0abf4acc-a361-4a77-83f6-b8d232af6547\",                        [{\"hovertemplate\":\"\\u003cb\\u003eCryptocurrency:\\u003c\\u002fb\\u003e %{text}\\u003cbr\\u003e\\u003cb\\u003ex:\\u003c\\u002fb\\u003e %{x}\\u003cbr\\u003e\\u003cb\\u003ey:\\u003c\\u002fb\\u003e %{y}\\u003cbr\\u003e\\u003cextra\\u003e\\u003c\\u002fextra\\u003e\",\"marker\":{\"color\":[3,3,1,1,3,3,3,3,3,1,1,1,1,3,1,3,1,1,3,1,1,3,1,1,1,1,1,1,3,1,1,1,2,3,1,1,0,1,1,1,1],\"colorscale\":[[0.0,\"firebrick\"],[0.16666666666666666,\"green\"],[0.3333333333333333,\"orange\"],[0.5,\"lightsteelblue\"],[0.6666666666666666,\"gold\"],[0.8333333333333334,\"purple\"],[1.0,\"blue\"]],\"line\":{\"color\":\"black\",\"width\":1.0},\"opacity\":1.0,\"size\":10.0},\"mode\":\"markers\",\"name\":\"Points\",\"showlegend\":false,\"text\":[\"bitcoin\",\"ethereum\",\"tether\",\"ripple\",\"bitcoin-cash\",\"binancecoin\",\"chainlink\",\"cardano\",\"litecoin\",\"bitcoin-cash-sv\",\"crypto-com-chain\",\"usd-coin\",\"eos\",\"monero\",\"tron\",\"tezos\",\"okb\",\"stellar\",\"cosmos\",\"cdai\",\"neo\",\"wrapped-bitcoin\",\"leo-token\",\"huobi-token\",\"nem\",\"binance-usd\",\"iota\",\"vechain\",\"zcash\",\"theta-token\",\"dash\",\"ethereum-classic\",\"ethlend\",\"maker\",\"havven\",\"omisego\",\"celsius-degree-token\",\"ontology\",\"ftx-token\",\"true-usd\",\"digibyte\"],\"x\":[-0.6006673254375197,-0.45826071401032126,-0.43306980513657123,-0.4718349487388997,-1.1577999724406398,-0.5165337697386355,-0.4507113399717348,-0.34559976661691705,-0.6494679214405782,-0.759013942296941,-0.24819846472379042,-0.4384076222360054,-0.6934253333100024,0.06049914778108642,-0.3933524257856281,-0.7961756359232364,0.06407451856195888,-0.4890150610215555,-0.3062722976749089,-0.513527753143791,-0.3621204360718861,-0.6042646308187019,-0.4132956035721582,-0.40748303584430373,0.6089738213442363,-0.450211141106789,-0.7646652213141043,-0.5563146750187622,-0.4251467742977224,2.6768676123254984,-0.6139227463582011,-0.5799239778770782,8.089018214765613,-0.38904525957800884,0.8657618298532996,0.11167508357409268,4.792395401459594,-0.6323549165416654,-0.593142164129733,-0.4581305024102701,-0.2979104450783156],\"y\":[0.4615945681105948,0.9528767837135823,-0.641751929140677,-0.47905315757557276,1.8597152736981144,0.8040713050022834,2.8461431574752787,1.4780128444941134,0.6003028588105244,-0.21765291815350782,-1.4620257131124952,-0.6633884037364077,-0.527596925526791,1.4985713063809971,-0.012756080213432183,1.082811691051757,-1.0988292750751891,-0.06254323300898525,1.714223586419341,-0.6565658346817507,-0.7287523216679124,0.439315938339612,-1.0766283383557342,-0.35142562766632507,-1.1487415949964512,-0.6474006119131073,0.20499029001818542,-1.2617758874503522,1.05804837248703,-1.9652072219391366,0.3395651327382894,-0.11494201872557765,2.3013820764937623,0.3794136971555251,0.27558289140280406,-1.205397966313135,-1.9869854471135149,-0.6522273846771972,0.20991141756366843,-0.6352835704640616,-0.9096017298481481],\"type\":\"scatter\",\"xaxis\":\"x\",\"yaxis\":\"y\"},{\"hovertemplate\":\"\\u003cb\\u003eCluster %{text}\\u003c\\u002fb\\u003e\\u003cbr\\u003e\\u003cb\\u003ex:\\u003c\\u002fb\\u003e %{x}\\u003cbr\\u003e\\u003cb\\u003ey:\\u003c\\u002fb\\u003e %{y}\\u003cbr\\u003e\\u003cextra\\u003e\\u003c\\u002fextra\\u003e\",\"marker\":{\"color\":[0,1,2,3],\"colorscale\":[[0.0,\"firebrick\"],[0.16666666666666666,\"green\"],[0.3333333333333333,\"orange\"],[0.5,\"lightsteelblue\"],[0.6666666666666666,\"gold\"],[0.8333333333333334,\"purple\"],[1.0,\"blue\"]],\"line\":{\"color\":\"black\",\"width\":1.5},\"opacity\":0.4,\"size\":50.0},\"mode\":\"markers\",\"name\":\"Clusters\",\"showlegend\":false,\"text\":[\"1\",\"2\",\"3\",\"4\"],\"x\":[4.792395401459594,-0.24007566754066792,8.089018214765613,-0.510726635397526],\"y\":[-1.9869854471135149,-0.595749923558423,2.3013820764937623,1.1673154910106736],\"type\":\"scatter\",\"xaxis\":\"x\",\"yaxis\":\"y\"},{\"hovertemplate\":\"\\u003cb\\u003eCryptocurrency:\\u003c\\u002fb\\u003e %{text}\\u003cbr\\u003e\\u003cb\\u003ex:\\u003c\\u002fb\\u003e %{x}\\u003cbr\\u003e\\u003cb\\u003ey:\\u003c\\u002fb\\u003e %{y}\\u003cbr\\u003e\\u003cextra\\u003e\\u003c\\u002fextra\\u003e\",\"marker\":{\"color\":[1,1,4,4,5,1,7,7,1,9,0,4,4,5,9,9,0,9,7,4,0,1,4,4,4,4,9,0,1,6,9,9,3,9,8,4,2,0,9,4,4],\"colorscale\":[[0.0,\"firebrick\"],[0.16666666666666666,\"green\"],[0.3333333333333333,\"orange\"],[0.5,\"lightsteelblue\"],[0.6666666666666666,\"gold\"],[0.8333333333333334,\"purple\"],[1.0,\"blue\"]],\"line\":{\"color\":\"black\",\"width\":1.0},\"opacity\":1.0,\"size\":10.0},\"mode\":\"markers\",\"name\":\"Points\",\"showlegend\":false,\"text\":[\"bitcoin\",\"ethereum\",\"tether\",\"ripple\",\"bitcoin-cash\",\"binancecoin\",\"chainlink\",\"cardano\",\"litecoin\",\"bitcoin-cash-sv\",\"crypto-com-chain\",\"usd-coin\",\"eos\",\"monero\",\"tron\",\"tezos\",\"okb\",\"stellar\",\"cosmos\",\"cdai\",\"neo\",\"wrapped-bitcoin\",\"leo-token\",\"huobi-token\",\"nem\",\"binance-usd\",\"iota\",\"vechain\",\"zcash\",\"theta-token\",\"dash\",\"ethereum-classic\",\"ethlend\",\"maker\",\"havven\",\"omisego\",\"celsius-degree-token\",\"ontology\",\"ftx-token\",\"true-usd\",\"digibyte\"],\"x\":[-0.6006673254375197,-0.45826071401032126,-0.43306980513657123,-0.4718349487388997,-1.1577999724406398,-0.5165337697386355,-0.4507113399717348,-0.34559976661691705,-0.6494679214405782,-0.759013942296941,-0.24819846472379042,-0.4384076222360054,-0.6934253333100024,0.06049914778108642,-0.3933524257856281,-0.7961756359232364,0.06407451856195888,-0.4890150610215555,-0.3062722976749089,-0.513527753143791,-0.3621204360718861,-0.6042646308187019,-0.4132956035721582,-0.40748303584430373,0.6089738213442363,-0.450211141106789,-0.7646652213141043,-0.5563146750187622,-0.4251467742977224,2.6768676123254984,-0.6139227463582011,-0.5799239778770782,8.089018214765613,-0.38904525957800884,0.8657618298532996,0.11167508357409268,4.792395401459594,-0.6323549165416654,-0.593142164129733,-0.4581305024102701,-0.2979104450783156],\"y\":[0.4615945681105948,0.9528767837135823,-0.641751929140677,-0.47905315757557276,1.8597152736981144,0.8040713050022834,2.8461431574752787,1.4780128444941134,0.6003028588105244,-0.21765291815350782,-1.4620257131124952,-0.6633884037364077,-0.527596925526791,1.4985713063809971,-0.012756080213432183,1.082811691051757,-1.0988292750751891,-0.06254323300898525,1.714223586419341,-0.6565658346817507,-0.7287523216679124,0.439315938339612,-1.0766283383557342,-0.35142562766632507,-1.1487415949964512,-0.6474006119131073,0.20499029001818542,-1.2617758874503522,1.05804837248703,-1.9652072219391366,0.3395651327382894,-0.11494201872557765,2.3013820764937623,0.3794136971555251,0.27558289140280406,-1.205397966313135,-1.9869854471135149,-0.6522273846771972,0.20991141756366843,-0.6352835704640616,-0.9096017298481481],\"type\":\"scatter\",\"xaxis\":\"x2\",\"yaxis\":\"y2\"},{\"hovertemplate\":\"\\u003cb\\u003eCluster %{text}\\u003c\\u002fb\\u003e\\u003cbr\\u003e\\u003cb\\u003ex:\\u003c\\u002fb\\u003e %{x}\\u003cbr\\u003e\\u003cb\\u003ey:\\u003c\\u002fb\\u003e %{y}\\u003cbr\\u003e\\u003cextra\\u003e\\u003c\\u002fextra\\u003e\",\"marker\":{\"color\":[0,1,2,3,4,5,6,7,8,9],\"colorscale\":[[0.0,\"firebrick\"],[0.16666666666666666,\"green\"],[0.3333333333333333,\"orange\"],[0.5,\"lightsteelblue\"],[0.6666666666666666,\"gold\"],[0.8333333333333334,\"purple\"],[1.0,\"blue\"]],\"line\":{\"color\":\"black\",\"width\":1.5},\"opacity\":0.4,\"size\":50.0},\"mode\":\"markers\",\"name\":\"Clusters\",\"showlegend\":false,\"text\":[\"1\",\"2\",\"3\",\"4\",\"5\",\"6\",\"7\",\"8\",\"9\",\"10\"],\"x\":[-0.3469827947588291,-0.5423901892905798,4.792395401459594,8.089018214765613,-0.321387273804898,-0.5486504123297767,2.6768676123254984,-0.3675278014211869,0.8657618298532996,-0.5975840482538318],\"y\":[-1.0407221163966294,0.7193683044106045,-1.9869854471135149,2.3013820764937623,-0.7452363075181802,1.6791432900395558,-1.9652072219391366,2.0127931961295777,0.27558289140280406,0.20097755315843582],\"type\":\"scatter\",\"xaxis\":\"x2\",\"yaxis\":\"y2\"},{\"hovertemplate\":\"\\u003cb\\u003eCryptocurrency:\\u003c\\u002fb\\u003e %{text}\\u003cbr\\u003e\\u003cb\\u003ex:\\u003c\\u002fb\\u003e %{x}\\u003cbr\\u003e\\u003cb\\u003ey:\\u003c\\u002fb\\u003e %{y}\\u003cbr\\u003e\\u003cextra\\u003e\\u003c\\u002fextra\\u003e\",\"marker\":{\"color\":[0,0,0,0,0,0,0,0,0,0,0,0,0,0,0,0,0,0,0,0,0,0,0,0,0,0,0,0,0,0,0,0,2,0,0,0,1,0,0,0,0],\"colorscale\":[[0.0,\"firebrick\"],[0.16666666666666666,\"green\"],[0.3333333333333333,\"orange\"],[0.5,\"lightsteelblue\"],[0.6666666666666666,\"gold\"],[0.8333333333333334,\"purple\"],[1.0,\"blue\"]],\"line\":{\"color\":\"black\",\"width\":1.0},\"opacity\":1.0,\"size\":10.0},\"mode\":\"markers\",\"name\":\"Points\",\"showlegend\":false,\"text\":[\"bitcoin\",\"ethereum\",\"tether\",\"ripple\",\"bitcoin-cash\",\"binancecoin\",\"chainlink\",\"cardano\",\"litecoin\",\"bitcoin-cash-sv\",\"crypto-com-chain\",\"usd-coin\",\"eos\",\"monero\",\"tron\",\"tezos\",\"okb\",\"stellar\",\"cosmos\",\"cdai\",\"neo\",\"wrapped-bitcoin\",\"leo-token\",\"huobi-token\",\"nem\",\"binance-usd\",\"iota\",\"vechain\",\"zcash\",\"theta-token\",\"dash\",\"ethereum-classic\",\"ethlend\",\"maker\",\"havven\",\"omisego\",\"celsius-degree-token\",\"ontology\",\"ftx-token\",\"true-usd\",\"digibyte\"],\"x\":[-0.6006673254375197,-0.45826071401032126,-0.43306980513657123,-0.4718349487388997,-1.1577999724406398,-0.5165337697386355,-0.4507113399717348,-0.34559976661691705,-0.6494679214405782,-0.759013942296941,-0.24819846472379042,-0.4384076222360054,-0.6934253333100024,0.06049914778108642,-0.3933524257856281,-0.7961756359232364,0.06407451856195888,-0.4890150610215555,-0.3062722976749089,-0.513527753143791,-0.3621204360718861,-0.6042646308187019,-0.4132956035721582,-0.40748303584430373,0.6089738213442363,-0.450211141106789,-0.7646652213141043,-0.5563146750187622,-0.4251467742977224,2.6768676123254984,-0.6139227463582011,-0.5799239778770782,8.089018214765613,-0.38904525957800884,0.8657618298532996,0.11167508357409268,4.792395401459594,-0.6323549165416654,-0.593142164129733,-0.4581305024102701,-0.2979104450783156],\"y\":[0.4615945681105948,0.9528767837135823,-0.641751929140677,-0.47905315757557276,1.8597152736981144,0.8040713050022834,2.8461431574752787,1.4780128444941134,0.6003028588105244,-0.21765291815350782,-1.4620257131124952,-0.6633884037364077,-0.527596925526791,1.4985713063809971,-0.012756080213432183,1.082811691051757,-1.0988292750751891,-0.06254323300898525,1.714223586419341,-0.6565658346817507,-0.7287523216679124,0.439315938339612,-1.0766283383557342,-0.35142562766632507,-1.1487415949964512,-0.6474006119131073,0.20499029001818542,-1.2617758874503522,1.05804837248703,-1.9652072219391366,0.3395651327382894,-0.11494201872557765,2.3013820764937623,0.3794136971555251,0.27558289140280406,-1.205397966313135,-1.9869854471135149,-0.6522273846771972,0.20991141756366843,-0.6352835704640616,-0.9096017298481481],\"type\":\"scatter\",\"xaxis\":\"x3\",\"yaxis\":\"y3\"},{\"hovertemplate\":\"\\u003cb\\u003eCluster %{text}\\u003c\\u002fb\\u003e\\u003cbr\\u003e\\u003cb\\u003ex:\\u003c\\u002fb\\u003e %{x}\\u003cbr\\u003e\\u003cb\\u003ey:\\u003c\\u002fb\\u003e %{y}\\u003cbr\\u003e\\u003cextra\\u003e\\u003c\\u002fextra\\u003e\",\"marker\":{\"color\":[0,1,2],\"colorscale\":[[0.0,\"firebrick\"],[0.16666666666666666,\"green\"],[0.3333333333333333,\"orange\"],[0.5,\"lightsteelblue\"],[0.6666666666666666,\"gold\"],[0.8333333333333334,\"purple\"],[1.0,\"blue\"]],\"line\":{\"color\":\"black\",\"width\":1.5},\"opacity\":0.4,\"size\":50.0},\"mode\":\"markers\",\"name\":\"Clusters\",\"showlegend\":false,\"text\":[\"1\",\"2\",\"3\"],\"x\":[-0.3302926568262873,4.792395401459594,8.089018214765613],\"y\":[-0.008061452035390953,-1.9869854471135149,2.3013820764937623],\"type\":\"scatter\",\"xaxis\":\"x3\",\"yaxis\":\"y3\"},{\"hovertemplate\":\"\\u003cb\\u003eCryptocurrency:\\u003c\\u002fb\\u003e %{text}\\u003cbr\\u003e\\u003cb\\u003ex:\\u003c\\u002fb\\u003e %{x}\\u003cbr\\u003e\\u003cb\\u003ey:\\u003c\\u002fb\\u003e %{y}\\u003cbr\\u003e\\u003cextra\\u003e\\u003c\\u002fextra\\u003e\",\"marker\":{\"color\":[0,0,0,0,0,0,0,0,0,0,0,0,0,0,0,0,0,0,0,0,0,0,0,0,0,0,0,0,0,1,0,0,1,0,0,0,1,0,0,0,0],\"colorscale\":[[0.0,\"firebrick\"],[0.16666666666666666,\"green\"],[0.3333333333333333,\"orange\"],[0.5,\"lightsteelblue\"],[0.6666666666666666,\"gold\"],[0.8333333333333334,\"purple\"],[1.0,\"blue\"]],\"line\":{\"color\":\"black\",\"width\":1.0},\"opacity\":1.0,\"size\":10.0},\"mode\":\"markers\",\"name\":\"Points\",\"showlegend\":false,\"text\":[\"bitcoin\",\"ethereum\",\"tether\",\"ripple\",\"bitcoin-cash\",\"binancecoin\",\"chainlink\",\"cardano\",\"litecoin\",\"bitcoin-cash-sv\",\"crypto-com-chain\",\"usd-coin\",\"eos\",\"monero\",\"tron\",\"tezos\",\"okb\",\"stellar\",\"cosmos\",\"cdai\",\"neo\",\"wrapped-bitcoin\",\"leo-token\",\"huobi-token\",\"nem\",\"binance-usd\",\"iota\",\"vechain\",\"zcash\",\"theta-token\",\"dash\",\"ethereum-classic\",\"ethlend\",\"maker\",\"havven\",\"omisego\",\"celsius-degree-token\",\"ontology\",\"ftx-token\",\"true-usd\",\"digibyte\"],\"x\":[-0.6006673254375197,-0.45826071401032126,-0.43306980513657123,-0.4718349487388997,-1.1577999724406398,-0.5165337697386355,-0.4507113399717348,-0.34559976661691705,-0.6494679214405782,-0.759013942296941,-0.24819846472379042,-0.4384076222360054,-0.6934253333100024,0.06049914778108642,-0.3933524257856281,-0.7961756359232364,0.06407451856195888,-0.4890150610215555,-0.3062722976749089,-0.513527753143791,-0.3621204360718861,-0.6042646308187019,-0.4132956035721582,-0.40748303584430373,0.6089738213442363,-0.450211141106789,-0.7646652213141043,-0.5563146750187622,-0.4251467742977224,2.6768676123254984,-0.6139227463582011,-0.5799239778770782,8.089018214765613,-0.38904525957800884,0.8657618298532996,0.11167508357409268,4.792395401459594,-0.6323549165416654,-0.593142164129733,-0.4581305024102701,-0.2979104450783156],\"y\":[0.4615945681105948,0.9528767837135823,-0.641751929140677,-0.47905315757557276,1.8597152736981144,0.8040713050022834,2.8461431574752787,1.4780128444941134,0.6003028588105244,-0.21765291815350782,-1.4620257131124952,-0.6633884037364077,-0.527596925526791,1.4985713063809971,-0.012756080213432183,1.082811691051757,-1.0988292750751891,-0.06254323300898525,1.714223586419341,-0.6565658346817507,-0.7287523216679124,0.439315938339612,-1.0766283383557342,-0.35142562766632507,-1.1487415949964512,-0.6474006119131073,0.20499029001818542,-1.2617758874503522,1.05804837248703,-1.9652072219391366,0.3395651327382894,-0.11494201872557765,2.3013820764937623,0.3794136971555251,0.27558289140280406,-1.205397966313135,-1.9869854471135149,-0.6522273846771972,0.20991141756366843,-0.6352835704640616,-0.9096017298481481],\"type\":\"scatter\",\"xaxis\":\"x4\",\"yaxis\":\"y4\"},{\"hovertemplate\":\"\\u003cb\\u003eCluster %{text}\\u003c\\u002fb\\u003e\\u003cbr\\u003e\\u003cb\\u003ex:\\u003c\\u002fb\\u003e %{x}\\u003cbr\\u003e\\u003cb\\u003ey:\\u003c\\u002fb\\u003e %{y}\\u003cbr\\u003e\\u003cextra\\u003e\\u003c\\u002fextra\\u003e\",\"marker\":{\"color\":[0,1],\"colorscale\":[[0.0,\"firebrick\"],[0.16666666666666666,\"green\"],[0.3333333333333333,\"orange\"],[0.5,\"lightsteelblue\"],[0.6666666666666666,\"gold\"],[0.8333333333333334,\"purple\"],[1.0,\"blue\"]],\"line\":{\"color\":\"black\",\"width\":1.5},\"opacity\":0.4,\"size\":50.0},\"mode\":\"markers\",\"name\":\"Clusters\",\"showlegend\":false,\"text\":[\"1\",\"2\"],\"x\":[-0.4094284533829132,5.186093742850234],\"y\":[0.043442384014707604,-0.5502701975196297],\"type\":\"scatter\",\"xaxis\":\"x4\",\"yaxis\":\"y4\"}],                        {\"template\":{\"data\":{\"histogram2dcontour\":[{\"type\":\"histogram2dcontour\",\"colorbar\":{\"outlinewidth\":0,\"ticks\":\"\"},\"colorscale\":[[0.0,\"#0d0887\"],[0.1111111111111111,\"#46039f\"],[0.2222222222222222,\"#7201a8\"],[0.3333333333333333,\"#9c179e\"],[0.4444444444444444,\"#bd3786\"],[0.5555555555555556,\"#d8576b\"],[0.6666666666666666,\"#ed7953\"],[0.7777777777777778,\"#fb9f3a\"],[0.8888888888888888,\"#fdca26\"],[1.0,\"#f0f921\"]]}],\"choropleth\":[{\"type\":\"choropleth\",\"colorbar\":{\"outlinewidth\":0,\"ticks\":\"\"}}],\"histogram2d\":[{\"type\":\"histogram2d\",\"colorbar\":{\"outlinewidth\":0,\"ticks\":\"\"},\"colorscale\":[[0.0,\"#0d0887\"],[0.1111111111111111,\"#46039f\"],[0.2222222222222222,\"#7201a8\"],[0.3333333333333333,\"#9c179e\"],[0.4444444444444444,\"#bd3786\"],[0.5555555555555556,\"#d8576b\"],[0.6666666666666666,\"#ed7953\"],[0.7777777777777778,\"#fb9f3a\"],[0.8888888888888888,\"#fdca26\"],[1.0,\"#f0f921\"]]}],\"heatmap\":[{\"type\":\"heatmap\",\"colorbar\":{\"outlinewidth\":0,\"ticks\":\"\"},\"colorscale\":[[0.0,\"#0d0887\"],[0.1111111111111111,\"#46039f\"],[0.2222222222222222,\"#7201a8\"],[0.3333333333333333,\"#9c179e\"],[0.4444444444444444,\"#bd3786\"],[0.5555555555555556,\"#d8576b\"],[0.6666666666666666,\"#ed7953\"],[0.7777777777777778,\"#fb9f3a\"],[0.8888888888888888,\"#fdca26\"],[1.0,\"#f0f921\"]]}],\"heatmapgl\":[{\"type\":\"heatmapgl\",\"colorbar\":{\"outlinewidth\":0,\"ticks\":\"\"},\"colorscale\":[[0.0,\"#0d0887\"],[0.1111111111111111,\"#46039f\"],[0.2222222222222222,\"#7201a8\"],[0.3333333333333333,\"#9c179e\"],[0.4444444444444444,\"#bd3786\"],[0.5555555555555556,\"#d8576b\"],[0.6666666666666666,\"#ed7953\"],[0.7777777777777778,\"#fb9f3a\"],[0.8888888888888888,\"#fdca26\"],[1.0,\"#f0f921\"]]}],\"contourcarpet\":[{\"type\":\"contourcarpet\",\"colorbar\":{\"outlinewidth\":0,\"ticks\":\"\"}}],\"contour\":[{\"type\":\"contour\",\"colorbar\":{\"outlinewidth\":0,\"ticks\":\"\"},\"colorscale\":[[0.0,\"#0d0887\"],[0.1111111111111111,\"#46039f\"],[0.2222222222222222,\"#7201a8\"],[0.3333333333333333,\"#9c179e\"],[0.4444444444444444,\"#bd3786\"],[0.5555555555555556,\"#d8576b\"],[0.6666666666666666,\"#ed7953\"],[0.7777777777777778,\"#fb9f3a\"],[0.8888888888888888,\"#fdca26\"],[1.0,\"#f0f921\"]]}],\"surface\":[{\"type\":\"surface\",\"colorbar\":{\"outlinewidth\":0,\"ticks\":\"\"},\"colorscale\":[[0.0,\"#0d0887\"],[0.1111111111111111,\"#46039f\"],[0.2222222222222222,\"#7201a8\"],[0.3333333333333333,\"#9c179e\"],[0.4444444444444444,\"#bd3786\"],[0.5555555555555556,\"#d8576b\"],[0.6666666666666666,\"#ed7953\"],[0.7777777777777778,\"#fb9f3a\"],[0.8888888888888888,\"#fdca26\"],[1.0,\"#f0f921\"]]}],\"mesh3d\":[{\"type\":\"mesh3d\",\"colorbar\":{\"outlinewidth\":0,\"ticks\":\"\"}}],\"scatter\":[{\"fillpattern\":{\"fillmode\":\"overlay\",\"size\":10,\"solidity\":0.2},\"type\":\"scatter\"}],\"parcoords\":[{\"type\":\"parcoords\",\"line\":{\"colorbar\":{\"outlinewidth\":0,\"ticks\":\"\"}}}],\"scatterpolargl\":[{\"type\":\"scatterpolargl\",\"marker\":{\"colorbar\":{\"outlinewidth\":0,\"ticks\":\"\"}}}],\"bar\":[{\"error_x\":{\"color\":\"#2a3f5f\"},\"error_y\":{\"color\":\"#2a3f5f\"},\"marker\":{\"line\":{\"color\":\"#E5ECF6\",\"width\":0.5},\"pattern\":{\"fillmode\":\"overlay\",\"size\":10,\"solidity\":0.2}},\"type\":\"bar\"}],\"scattergeo\":[{\"type\":\"scattergeo\",\"marker\":{\"colorbar\":{\"outlinewidth\":0,\"ticks\":\"\"}}}],\"scatterpolar\":[{\"type\":\"scatterpolar\",\"marker\":{\"colorbar\":{\"outlinewidth\":0,\"ticks\":\"\"}}}],\"histogram\":[{\"marker\":{\"pattern\":{\"fillmode\":\"overlay\",\"size\":10,\"solidity\":0.2}},\"type\":\"histogram\"}],\"scattergl\":[{\"type\":\"scattergl\",\"marker\":{\"colorbar\":{\"outlinewidth\":0,\"ticks\":\"\"}}}],\"scatter3d\":[{\"type\":\"scatter3d\",\"line\":{\"colorbar\":{\"outlinewidth\":0,\"ticks\":\"\"}},\"marker\":{\"colorbar\":{\"outlinewidth\":0,\"ticks\":\"\"}}}],\"scattermapbox\":[{\"type\":\"scattermapbox\",\"marker\":{\"colorbar\":{\"outlinewidth\":0,\"ticks\":\"\"}}}],\"scatterternary\":[{\"type\":\"scatterternary\",\"marker\":{\"colorbar\":{\"outlinewidth\":0,\"ticks\":\"\"}}}],\"scattercarpet\":[{\"type\":\"scattercarpet\",\"marker\":{\"colorbar\":{\"outlinewidth\":0,\"ticks\":\"\"}}}],\"carpet\":[{\"aaxis\":{\"endlinecolor\":\"#2a3f5f\",\"gridcolor\":\"white\",\"linecolor\":\"white\",\"minorgridcolor\":\"white\",\"startlinecolor\":\"#2a3f5f\"},\"baxis\":{\"endlinecolor\":\"#2a3f5f\",\"gridcolor\":\"white\",\"linecolor\":\"white\",\"minorgridcolor\":\"white\",\"startlinecolor\":\"#2a3f5f\"},\"type\":\"carpet\"}],\"table\":[{\"cells\":{\"fill\":{\"color\":\"#EBF0F8\"},\"line\":{\"color\":\"white\"}},\"header\":{\"fill\":{\"color\":\"#C8D4E3\"},\"line\":{\"color\":\"white\"}},\"type\":\"table\"}],\"barpolar\":[{\"marker\":{\"line\":{\"color\":\"#E5ECF6\",\"width\":0.5},\"pattern\":{\"fillmode\":\"overlay\",\"size\":10,\"solidity\":0.2}},\"type\":\"barpolar\"}],\"pie\":[{\"automargin\":true,\"type\":\"pie\"}]},\"layout\":{\"autotypenumbers\":\"strict\",\"colorway\":[\"#636efa\",\"#EF553B\",\"#00cc96\",\"#ab63fa\",\"#FFA15A\",\"#19d3f3\",\"#FF6692\",\"#B6E880\",\"#FF97FF\",\"#FECB52\"],\"font\":{\"color\":\"#2a3f5f\"},\"hovermode\":\"closest\",\"hoverlabel\":{\"align\":\"left\"},\"paper_bgcolor\":\"white\",\"plot_bgcolor\":\"#E5ECF6\",\"polar\":{\"bgcolor\":\"#E5ECF6\",\"angularaxis\":{\"gridcolor\":\"white\",\"linecolor\":\"white\",\"ticks\":\"\"},\"radialaxis\":{\"gridcolor\":\"white\",\"linecolor\":\"white\",\"ticks\":\"\"}},\"ternary\":{\"bgcolor\":\"#E5ECF6\",\"aaxis\":{\"gridcolor\":\"white\",\"linecolor\":\"white\",\"ticks\":\"\"},\"baxis\":{\"gridcolor\":\"white\",\"linecolor\":\"white\",\"ticks\":\"\"},\"caxis\":{\"gridcolor\":\"white\",\"linecolor\":\"white\",\"ticks\":\"\"}},\"coloraxis\":{\"colorbar\":{\"outlinewidth\":0,\"ticks\":\"\"}},\"colorscale\":{\"sequential\":[[0.0,\"#0d0887\"],[0.1111111111111111,\"#46039f\"],[0.2222222222222222,\"#7201a8\"],[0.3333333333333333,\"#9c179e\"],[0.4444444444444444,\"#bd3786\"],[0.5555555555555556,\"#d8576b\"],[0.6666666666666666,\"#ed7953\"],[0.7777777777777778,\"#fb9f3a\"],[0.8888888888888888,\"#fdca26\"],[1.0,\"#f0f921\"]],\"sequentialminus\":[[0.0,\"#0d0887\"],[0.1111111111111111,\"#46039f\"],[0.2222222222222222,\"#7201a8\"],[0.3333333333333333,\"#9c179e\"],[0.4444444444444444,\"#bd3786\"],[0.5555555555555556,\"#d8576b\"],[0.6666666666666666,\"#ed7953\"],[0.7777777777777778,\"#fb9f3a\"],[0.8888888888888888,\"#fdca26\"],[1.0,\"#f0f921\"]],\"diverging\":[[0,\"#8e0152\"],[0.1,\"#c51b7d\"],[0.2,\"#de77ae\"],[0.3,\"#f1b6da\"],[0.4,\"#fde0ef\"],[0.5,\"#f7f7f7\"],[0.6,\"#e6f5d0\"],[0.7,\"#b8e186\"],[0.8,\"#7fbc41\"],[0.9,\"#4d9221\"],[1,\"#276419\"]]},\"xaxis\":{\"gridcolor\":\"white\",\"linecolor\":\"white\",\"ticks\":\"\",\"title\":{\"standoff\":15},\"zerolinecolor\":\"white\",\"automargin\":true,\"zerolinewidth\":2},\"yaxis\":{\"gridcolor\":\"white\",\"linecolor\":\"white\",\"ticks\":\"\",\"title\":{\"standoff\":15},\"zerolinecolor\":\"white\",\"automargin\":true,\"zerolinewidth\":2},\"scene\":{\"xaxis\":{\"backgroundcolor\":\"#E5ECF6\",\"gridcolor\":\"white\",\"linecolor\":\"white\",\"showbackground\":true,\"ticks\":\"\",\"zerolinecolor\":\"white\",\"gridwidth\":2},\"yaxis\":{\"backgroundcolor\":\"#E5ECF6\",\"gridcolor\":\"white\",\"linecolor\":\"white\",\"showbackground\":true,\"ticks\":\"\",\"zerolinecolor\":\"white\",\"gridwidth\":2},\"zaxis\":{\"backgroundcolor\":\"#E5ECF6\",\"gridcolor\":\"white\",\"linecolor\":\"white\",\"showbackground\":true,\"ticks\":\"\",\"zerolinecolor\":\"white\",\"gridwidth\":2}},\"shapedefaults\":{\"line\":{\"color\":\"#2a3f5f\"}},\"annotationdefaults\":{\"arrowcolor\":\"#2a3f5f\",\"arrowhead\":0,\"arrowwidth\":1},\"geo\":{\"bgcolor\":\"white\",\"landcolor\":\"#E5ECF6\",\"subunitcolor\":\"white\",\"showland\":true,\"showlakes\":true,\"lakecolor\":\"white\"},\"title\":{\"x\":0.05},\"mapbox\":{\"style\":\"light\"}}},\"xaxis\":{\"anchor\":\"y\",\"domain\":[0.0,0.44],\"tickfont\":{\"color\":\"black\",\"family\":\"garamond\",\"size\":14.0},\"linecolor\":\"black\",\"linewidth\":2.0,\"mirror\":true,\"showline\":true},\"yaxis\":{\"anchor\":\"x\",\"domain\":[0.56,1.0],\"tickfont\":{\"color\":\"black\",\"family\":\"garamond\",\"size\":14.0},\"linecolor\":\"black\",\"linewidth\":2.0,\"mirror\":true,\"showline\":true,\"title\":{\"text\":\"Pca3\",\"font\":{\"color\":\"black\",\"family\":\"garamond\",\"size\":18.0}}},\"xaxis2\":{\"anchor\":\"y2\",\"domain\":[0.56,1.0],\"tickfont\":{\"color\":\"black\",\"family\":\"garamond\",\"size\":14.0},\"linecolor\":\"black\",\"linewidth\":2.0,\"mirror\":true,\"showline\":true},\"yaxis2\":{\"anchor\":\"x2\",\"domain\":[0.56,1.0],\"tickfont\":{\"color\":\"black\",\"family\":\"garamond\",\"size\":14.0},\"linecolor\":\"black\",\"linewidth\":2.0,\"mirror\":true,\"showline\":true},\"xaxis3\":{\"anchor\":\"y3\",\"domain\":[0.0,0.44],\"tickfont\":{\"color\":\"black\",\"family\":\"garamond\",\"size\":14.0},\"linecolor\":\"black\",\"linewidth\":2.0,\"mirror\":true,\"showline\":true,\"title\":{\"text\":\"Pca1\",\"font\":{\"color\":\"black\",\"family\":\"garamond\",\"size\":18.0}}},\"yaxis3\":{\"anchor\":\"x3\",\"domain\":[0.0,0.44],\"tickfont\":{\"color\":\"black\",\"family\":\"garamond\",\"size\":14.0},\"linecolor\":\"black\",\"linewidth\":2.0,\"mirror\":true,\"showline\":true,\"title\":{\"text\":\"Pca3\",\"font\":{\"color\":\"black\",\"family\":\"garamond\",\"size\":18.0}}},\"xaxis4\":{\"anchor\":\"y4\",\"domain\":[0.56,1.0],\"tickfont\":{\"color\":\"black\",\"family\":\"garamond\",\"size\":14.0},\"linecolor\":\"black\",\"linewidth\":2.0,\"mirror\":true,\"showline\":true,\"title\":{\"text\":\"Pca1\",\"font\":{\"color\":\"black\",\"family\":\"garamond\",\"size\":18.0}}},\"yaxis4\":{\"anchor\":\"x4\",\"domain\":[0.0,0.44],\"tickfont\":{\"color\":\"black\",\"family\":\"garamond\",\"size\":14.0},\"linecolor\":\"black\",\"linewidth\":2.0,\"mirror\":true,\"showline\":true},\"annotations\":[{\"font\":{\"size\":20.0,\"color\":\"black\",\"family\":\"garamond\"},\"showarrow\":false,\"text\":\"K-Clusters for K = 4\",\"x\":0.22,\"xanchor\":\"center\",\"xref\":\"paper\",\"y\":1.0,\"yanchor\":\"bottom\",\"yref\":\"paper\",\"yshift\":10.0},{\"font\":{\"size\":20.0,\"color\":\"black\",\"family\":\"garamond\"},\"showarrow\":false,\"text\":\"K-Clusters for K = 10\",\"x\":0.78,\"xanchor\":\"center\",\"xref\":\"paper\",\"y\":1.0,\"yanchor\":\"bottom\",\"yref\":\"paper\",\"yshift\":10.0},{\"font\":{\"size\":20.0,\"color\":\"black\",\"family\":\"garamond\"},\"showarrow\":false,\"text\":\"K-Clusters for K = 3\",\"x\":0.22,\"xanchor\":\"center\",\"xref\":\"paper\",\"y\":0.44,\"yanchor\":\"bottom\",\"yref\":\"paper\",\"yshift\":10.0},{\"font\":{\"size\":20.0,\"color\":\"black\",\"family\":\"garamond\"},\"showarrow\":false,\"text\":\"K-Clusters for K = 2\",\"x\":0.78,\"xanchor\":\"center\",\"xref\":\"paper\",\"y\":0.44,\"yanchor\":\"bottom\",\"yref\":\"paper\",\"yshift\":10.0}],\"title\":{\"font\":{\"color\":\"black\",\"family\":\"garamond\",\"size\":24.0},\"text\":\"6.3.2: K-Means Scatter Plots (PCA1 vs. PCA3)\"},\"height\":1000,\"width\":1000,\"showlegend\":true},                        {\"responsive\": true}                    ).then(function(){\n",
              "                            \n",
              "var gd = document.getElementById('0abf4acc-a361-4a77-83f6-b8d232af6547');\n",
              "var x = new MutationObserver(function (mutations, observer) {{\n",
              "        var display = window.getComputedStyle(gd).display;\n",
              "        if (!display || display === 'none') {{\n",
              "            console.log([gd, 'removed!']);\n",
              "            Plotly.purge(gd);\n",
              "            observer.disconnect();\n",
              "        }}\n",
              "}});\n",
              "\n",
              "// Listen for the removal of the full notebook cells\n",
              "var notebookContainer = gd.closest('#notebook-container');\n",
              "if (notebookContainer) {{\n",
              "    x.observe(notebookContainer, {childList: true});\n",
              "}}\n",
              "\n",
              "// Listen for the clearing of the current output cell\n",
              "var outputEl = gd.closest('.output');\n",
              "if (outputEl) {{\n",
              "    x.observe(outputEl, {childList: true});\n",
              "}}\n",
              "\n",
              "                        })                };                            </script>        </div>\n",
              "</body>\n",
              "</html>"
            ]
          },
          "metadata": {}
        }
      ],
      "source": [
        "kmeans_analysisx.return_k_clusters_2d_scatter_plot \\\n",
        "    (crypto_pca_dataframe, [4, 10, 3, 2], colors_string_list,\n",
        "     '6.3.2: K-Means Scatter Plots (PCA1 vs. PCA3)', 'PCA1', 'PCA3')"
      ]
    },
    {
      "cell_type": "code",
      "execution_count": null,
      "id": "7667469f",
      "metadata": {
        "colab": {
          "base_uri": "https://localhost:8080/",
          "height": 1000
        },
        "id": "7667469f",
        "outputId": "87017751-1619-476d-8597-655725a85e48"
      },
      "outputs": [
        {
          "output_type": "display_data",
          "data": {
            "text/html": [
              "<html>\n",
              "<head><meta charset=\"utf-8\" /></head>\n",
              "<body>\n",
              "    <div>            <script src=\"https://cdnjs.cloudflare.com/ajax/libs/mathjax/2.7.5/MathJax.js?config=TeX-AMS-MML_SVG\"></script><script type=\"text/javascript\">if (window.MathJax && window.MathJax.Hub && window.MathJax.Hub.Config) {window.MathJax.Hub.Config({SVG: {font: \"STIX-Web\"}});}</script>                <script type=\"text/javascript\">window.PlotlyConfig = {MathJaxConfig: 'local'};</script>\n",
              "        <script charset=\"utf-8\" src=\"https://cdn.plot.ly/plotly-2.31.1.min.js\"></script>                <div id=\"5f976126-f149-4486-acc6-e432ab123a53\" class=\"plotly-graph-div\" style=\"height:1000px; width:1000px;\"></div>            <script type=\"text/javascript\">                                    window.PLOTLYENV=window.PLOTLYENV || {};                                    if (document.getElementById(\"5f976126-f149-4486-acc6-e432ab123a53\")) {                    Plotly.newPlot(                        \"5f976126-f149-4486-acc6-e432ab123a53\",                        [{\"hovertemplate\":\"\\u003cb\\u003eCryptocurrency:\\u003c\\u002fb\\u003e %{text}\\u003cbr\\u003e\\u003cb\\u003ex:\\u003c\\u002fb\\u003e %{x}\\u003cbr\\u003e\\u003cb\\u003ey:\\u003c\\u002fb\\u003e %{y}\\u003cbr\\u003e\\u003cextra\\u003e\\u003c\\u002fextra\\u003e\",\"marker\":{\"color\":[3,3,1,1,3,3,3,3,3,1,1,1,1,3,1,3,1,1,3,1,1,3,1,1,1,1,1,1,3,1,1,1,2,3,1,1,0,1,1,1,1],\"colorscale\":[[0.0,\"firebrick\"],[0.16666666666666666,\"green\"],[0.3333333333333333,\"orange\"],[0.5,\"lightsteelblue\"],[0.6666666666666666,\"gold\"],[0.8333333333333334,\"purple\"],[1.0,\"blue\"]],\"line\":{\"color\":\"black\",\"width\":1.0},\"opacity\":1.0,\"size\":10.0},\"mode\":\"markers\",\"name\":\"Points\",\"showlegend\":false,\"text\":[\"bitcoin\",\"ethereum\",\"tether\",\"ripple\",\"bitcoin-cash\",\"binancecoin\",\"chainlink\",\"cardano\",\"litecoin\",\"bitcoin-cash-sv\",\"crypto-com-chain\",\"usd-coin\",\"eos\",\"monero\",\"tron\",\"tezos\",\"okb\",\"stellar\",\"cosmos\",\"cdai\",\"neo\",\"wrapped-bitcoin\",\"leo-token\",\"huobi-token\",\"nem\",\"binance-usd\",\"iota\",\"vechain\",\"zcash\",\"theta-token\",\"dash\",\"ethereum-classic\",\"ethlend\",\"maker\",\"havven\",\"omisego\",\"celsius-degree-token\",\"ontology\",\"ftx-token\",\"true-usd\",\"digibyte\"],\"x\":[0.8427600624855399,0.4584656644628807,-0.16812638169325195,-0.22266007696009266,2.0412091852418346,1.3883774818625845,0.5176991167273984,0.7294393945322883,0.4321651377074032,-0.20119978804156163,-1.3762515898012422,-0.17533654196886497,-0.4738146235496463,2.9094038518367764,-0.10819197462494247,-0.4944087524150498,-1.269825135597806,-0.7327191199192675,0.7034151468998076,-0.14280239241374712,-0.9869144080114634,0.8273976353815232,-0.674115268076814,-0.2125065470533916,0.5635321240704285,-0.15101945266575217,-0.517885538792463,-1.9382090595380141,0.4929761725450791,-0.01395409962133177,-0.4793368029042946,-0.35633377052316595,-3.896890535486485,0.16504063407280317,-2.2618823859082102,0.42831576443907726,6.767678675262274,-2.108117128334043,0.021484962427633224,-0.13573403362162556,-0.1911256024328063],\"y\":[0.4615945681105948,0.9528767837135823,-0.641751929140677,-0.47905315757557276,1.8597152736981144,0.8040713050022834,2.8461431574752787,1.4780128444941134,0.6003028588105244,-0.21765291815350782,-1.4620257131124952,-0.6633884037364077,-0.527596925526791,1.4985713063809971,-0.012756080213432183,1.082811691051757,-1.0988292750751891,-0.06254323300898525,1.714223586419341,-0.6565658346817507,-0.7287523216679124,0.439315938339612,-1.0766283383557342,-0.35142562766632507,-1.1487415949964512,-0.6474006119131073,0.20499029001818542,-1.2617758874503522,1.05804837248703,-1.9652072219391366,0.3395651327382894,-0.11494201872557765,2.3013820764937623,0.3794136971555251,0.27558289140280406,-1.205397966313135,-1.9869854471135149,-0.6522273846771972,0.20991141756366843,-0.6352835704640616,-0.9096017298481481],\"type\":\"scatter\",\"xaxis\":\"x\",\"yaxis\":\"y\"},{\"hovertemplate\":\"\\u003cb\\u003eCluster %{text}\\u003c\\u002fb\\u003e\\u003cbr\\u003e\\u003cb\\u003ex:\\u003c\\u002fb\\u003e %{x}\\u003cbr\\u003e\\u003cb\\u003ey:\\u003c\\u002fb\\u003e %{y}\\u003cbr\\u003e\\u003cextra\\u003e\\u003c\\u002fextra\\u003e\",\"marker\":{\"color\":[0,1,2,3],\"colorscale\":[[0.0,\"firebrick\"],[0.16666666666666666,\"green\"],[0.3333333333333333,\"orange\"],[0.5,\"lightsteelblue\"],[0.6666666666666666,\"gold\"],[0.8333333333333334,\"purple\"],[1.0,\"blue\"]],\"line\":{\"color\":\"black\",\"width\":1.5},\"opacity\":0.4,\"size\":50.0},\"mode\":\"markers\",\"name\":\"Clusters\",\"showlegend\":false,\"text\":[\"1\",\"2\",\"3\",\"4\"],\"x\":[6.767678675262274,-0.5340280335044868,-3.896890535486485,0.8472262101031439],\"y\":[-1.9869854471135149,-0.595749923558423,2.3013820764937623,1.1673154910106736],\"type\":\"scatter\",\"xaxis\":\"x\",\"yaxis\":\"y\"},{\"hovertemplate\":\"\\u003cb\\u003eCryptocurrency:\\u003c\\u002fb\\u003e %{text}\\u003cbr\\u003e\\u003cb\\u003ex:\\u003c\\u002fb\\u003e %{x}\\u003cbr\\u003e\\u003cb\\u003ey:\\u003c\\u002fb\\u003e %{y}\\u003cbr\\u003e\\u003cextra\\u003e\\u003c\\u002fextra\\u003e\",\"marker\":{\"color\":[1,1,4,4,5,1,7,7,1,9,0,4,4,5,9,9,0,9,7,4,0,1,4,4,4,4,9,0,1,6,9,9,3,9,8,4,2,0,9,4,4],\"colorscale\":[[0.0,\"firebrick\"],[0.16666666666666666,\"green\"],[0.3333333333333333,\"orange\"],[0.5,\"lightsteelblue\"],[0.6666666666666666,\"gold\"],[0.8333333333333334,\"purple\"],[1.0,\"blue\"]],\"line\":{\"color\":\"black\",\"width\":1.0},\"opacity\":1.0,\"size\":10.0},\"mode\":\"markers\",\"name\":\"Points\",\"showlegend\":false,\"text\":[\"bitcoin\",\"ethereum\",\"tether\",\"ripple\",\"bitcoin-cash\",\"binancecoin\",\"chainlink\",\"cardano\",\"litecoin\",\"bitcoin-cash-sv\",\"crypto-com-chain\",\"usd-coin\",\"eos\",\"monero\",\"tron\",\"tezos\",\"okb\",\"stellar\",\"cosmos\",\"cdai\",\"neo\",\"wrapped-bitcoin\",\"leo-token\",\"huobi-token\",\"nem\",\"binance-usd\",\"iota\",\"vechain\",\"zcash\",\"theta-token\",\"dash\",\"ethereum-classic\",\"ethlend\",\"maker\",\"havven\",\"omisego\",\"celsius-degree-token\",\"ontology\",\"ftx-token\",\"true-usd\",\"digibyte\"],\"x\":[0.8427600624855399,0.4584656644628807,-0.16812638169325195,-0.22266007696009266,2.0412091852418346,1.3883774818625845,0.5176991167273984,0.7294393945322883,0.4321651377074032,-0.20119978804156163,-1.3762515898012422,-0.17533654196886497,-0.4738146235496463,2.9094038518367764,-0.10819197462494247,-0.4944087524150498,-1.269825135597806,-0.7327191199192675,0.7034151468998076,-0.14280239241374712,-0.9869144080114634,0.8273976353815232,-0.674115268076814,-0.2125065470533916,0.5635321240704285,-0.15101945266575217,-0.517885538792463,-1.9382090595380141,0.4929761725450791,-0.01395409962133177,-0.4793368029042946,-0.35633377052316595,-3.896890535486485,0.16504063407280317,-2.2618823859082102,0.42831576443907726,6.767678675262274,-2.108117128334043,0.021484962427633224,-0.13573403362162556,-0.1911256024328063],\"y\":[0.4615945681105948,0.9528767837135823,-0.641751929140677,-0.47905315757557276,1.8597152736981144,0.8040713050022834,2.8461431574752787,1.4780128444941134,0.6003028588105244,-0.21765291815350782,-1.4620257131124952,-0.6633884037364077,-0.527596925526791,1.4985713063809971,-0.012756080213432183,1.082811691051757,-1.0988292750751891,-0.06254323300898525,1.714223586419341,-0.6565658346817507,-0.7287523216679124,0.439315938339612,-1.0766283383557342,-0.35142562766632507,-1.1487415949964512,-0.6474006119131073,0.20499029001818542,-1.2617758874503522,1.05804837248703,-1.9652072219391366,0.3395651327382894,-0.11494201872557765,2.3013820764937623,0.3794136971555251,0.27558289140280406,-1.205397966313135,-1.9869854471135149,-0.6522273846771972,0.20991141756366843,-0.6352835704640616,-0.9096017298481481],\"type\":\"scatter\",\"xaxis\":\"x2\",\"yaxis\":\"y2\"},{\"hovertemplate\":\"\\u003cb\\u003eCluster %{text}\\u003c\\u002fb\\u003e\\u003cbr\\u003e\\u003cb\\u003ex:\\u003c\\u002fb\\u003e %{x}\\u003cbr\\u003e\\u003cb\\u003ey:\\u003c\\u002fb\\u003e %{y}\\u003cbr\\u003e\\u003cextra\\u003e\\u003c\\u002fextra\\u003e\",\"marker\":{\"color\":[0,1,2,3,4,5,6,7,8,9],\"colorscale\":[[0.0,\"firebrick\"],[0.16666666666666666,\"green\"],[0.3333333333333333,\"orange\"],[0.5,\"lightsteelblue\"],[0.6666666666666666,\"gold\"],[0.8333333333333334,\"purple\"],[1.0,\"blue\"]],\"line\":{\"color\":\"black\",\"width\":1.5},\"opacity\":0.4,\"size\":50.0},\"mode\":\"markers\",\"name\":\"Clusters\",\"showlegend\":false,\"text\":[\"1\",\"2\",\"3\",\"4\",\"5\",\"6\",\"7\",\"8\",\"9\",\"10\"],\"x\":[-1.5358634642565139,0.740357025740835,6.767678675262274,-3.896890535486485,-0.12961608599387395,2.4753065185393055,-0.01395409962133177,0.6501845527198313,-2.2618823859082102,-0.30039446119114543],\"y\":[-1.0407221163966294,0.7193683044106045,-1.9869854471135149,2.3013820764937623,-0.7452363075181802,1.6791432900395558,-1.9652072219391366,2.0127931961295777,0.27558289140280406,0.20097755315843582],\"type\":\"scatter\",\"xaxis\":\"x2\",\"yaxis\":\"y2\"},{\"hovertemplate\":\"\\u003cb\\u003eCryptocurrency:\\u003c\\u002fb\\u003e %{text}\\u003cbr\\u003e\\u003cb\\u003ex:\\u003c\\u002fb\\u003e %{x}\\u003cbr\\u003e\\u003cb\\u003ey:\\u003c\\u002fb\\u003e %{y}\\u003cbr\\u003e\\u003cextra\\u003e\\u003c\\u002fextra\\u003e\",\"marker\":{\"color\":[0,0,0,0,0,0,0,0,0,0,0,0,0,0,0,0,0,0,0,0,0,0,0,0,0,0,0,0,0,0,0,0,2,0,0,0,1,0,0,0,0],\"colorscale\":[[0.0,\"firebrick\"],[0.16666666666666666,\"green\"],[0.3333333333333333,\"orange\"],[0.5,\"lightsteelblue\"],[0.6666666666666666,\"gold\"],[0.8333333333333334,\"purple\"],[1.0,\"blue\"]],\"line\":{\"color\":\"black\",\"width\":1.0},\"opacity\":1.0,\"size\":10.0},\"mode\":\"markers\",\"name\":\"Points\",\"showlegend\":false,\"text\":[\"bitcoin\",\"ethereum\",\"tether\",\"ripple\",\"bitcoin-cash\",\"binancecoin\",\"chainlink\",\"cardano\",\"litecoin\",\"bitcoin-cash-sv\",\"crypto-com-chain\",\"usd-coin\",\"eos\",\"monero\",\"tron\",\"tezos\",\"okb\",\"stellar\",\"cosmos\",\"cdai\",\"neo\",\"wrapped-bitcoin\",\"leo-token\",\"huobi-token\",\"nem\",\"binance-usd\",\"iota\",\"vechain\",\"zcash\",\"theta-token\",\"dash\",\"ethereum-classic\",\"ethlend\",\"maker\",\"havven\",\"omisego\",\"celsius-degree-token\",\"ontology\",\"ftx-token\",\"true-usd\",\"digibyte\"],\"x\":[0.8427600624855399,0.4584656644628807,-0.16812638169325195,-0.22266007696009266,2.0412091852418346,1.3883774818625845,0.5176991167273984,0.7294393945322883,0.4321651377074032,-0.20119978804156163,-1.3762515898012422,-0.17533654196886497,-0.4738146235496463,2.9094038518367764,-0.10819197462494247,-0.4944087524150498,-1.269825135597806,-0.7327191199192675,0.7034151468998076,-0.14280239241374712,-0.9869144080114634,0.8273976353815232,-0.674115268076814,-0.2125065470533916,0.5635321240704285,-0.15101945266575217,-0.517885538792463,-1.9382090595380141,0.4929761725450791,-0.01395409962133177,-0.4793368029042946,-0.35633377052316595,-3.896890535486485,0.16504063407280317,-2.2618823859082102,0.42831576443907726,6.767678675262274,-2.108117128334043,0.021484962427633224,-0.13573403362162556,-0.1911256024328063],\"y\":[0.4615945681105948,0.9528767837135823,-0.641751929140677,-0.47905315757557276,1.8597152736981144,0.8040713050022834,2.8461431574752787,1.4780128444941134,0.6003028588105244,-0.21765291815350782,-1.4620257131124952,-0.6633884037364077,-0.527596925526791,1.4985713063809971,-0.012756080213432183,1.082811691051757,-1.0988292750751891,-0.06254323300898525,1.714223586419341,-0.6565658346817507,-0.7287523216679124,0.439315938339612,-1.0766283383557342,-0.35142562766632507,-1.1487415949964512,-0.6474006119131073,0.20499029001818542,-1.2617758874503522,1.05804837248703,-1.9652072219391366,0.3395651327382894,-0.11494201872557765,2.3013820764937623,0.3794136971555251,0.27558289140280406,-1.205397966313135,-1.9869854471135149,-0.6522273846771972,0.20991141756366843,-0.6352835704640616,-0.9096017298481481],\"type\":\"scatter\",\"xaxis\":\"x3\",\"yaxis\":\"y3\"},{\"hovertemplate\":\"\\u003cb\\u003eCluster %{text}\\u003c\\u002fb\\u003e\\u003cbr\\u003e\\u003cb\\u003ex:\\u003c\\u002fb\\u003e %{x}\\u003cbr\\u003e\\u003cb\\u003ey:\\u003c\\u002fb\\u003e %{y}\\u003cbr\\u003e\\u003cextra\\u003e\\u003c\\u002fextra\\u003e\",\"marker\":{\"color\":[0,1,2],\"colorscale\":[[0.0,\"firebrick\"],[0.16666666666666666,\"green\"],[0.3333333333333333,\"orange\"],[0.5,\"lightsteelblue\"],[0.6666666666666666,\"gold\"],[0.8333333333333334,\"purple\"],[1.0,\"blue\"]],\"line\":{\"color\":\"black\",\"width\":1.5},\"opacity\":0.4,\"size\":50.0},\"mode\":\"markers\",\"name\":\"Clusters\",\"showlegend\":false,\"text\":[\"1\",\"2\",\"3\"],\"x\":[-0.07360995230194335,6.767678675262274,-3.896890535486485],\"y\":[-0.008061452035390953,-1.9869854471135149,2.3013820764937623],\"type\":\"scatter\",\"xaxis\":\"x3\",\"yaxis\":\"y3\"},{\"hovertemplate\":\"\\u003cb\\u003eCryptocurrency:\\u003c\\u002fb\\u003e %{text}\\u003cbr\\u003e\\u003cb\\u003ex:\\u003c\\u002fb\\u003e %{x}\\u003cbr\\u003e\\u003cb\\u003ey:\\u003c\\u002fb\\u003e %{y}\\u003cbr\\u003e\\u003cextra\\u003e\\u003c\\u002fextra\\u003e\",\"marker\":{\"color\":[0,0,0,0,0,0,0,0,0,0,0,0,0,0,0,0,0,0,0,0,0,0,0,0,0,0,0,0,0,1,0,0,1,0,0,0,1,0,0,0,0],\"colorscale\":[[0.0,\"firebrick\"],[0.16666666666666666,\"green\"],[0.3333333333333333,\"orange\"],[0.5,\"lightsteelblue\"],[0.6666666666666666,\"gold\"],[0.8333333333333334,\"purple\"],[1.0,\"blue\"]],\"line\":{\"color\":\"black\",\"width\":1.0},\"opacity\":1.0,\"size\":10.0},\"mode\":\"markers\",\"name\":\"Points\",\"showlegend\":false,\"text\":[\"bitcoin\",\"ethereum\",\"tether\",\"ripple\",\"bitcoin-cash\",\"binancecoin\",\"chainlink\",\"cardano\",\"litecoin\",\"bitcoin-cash-sv\",\"crypto-com-chain\",\"usd-coin\",\"eos\",\"monero\",\"tron\",\"tezos\",\"okb\",\"stellar\",\"cosmos\",\"cdai\",\"neo\",\"wrapped-bitcoin\",\"leo-token\",\"huobi-token\",\"nem\",\"binance-usd\",\"iota\",\"vechain\",\"zcash\",\"theta-token\",\"dash\",\"ethereum-classic\",\"ethlend\",\"maker\",\"havven\",\"omisego\",\"celsius-degree-token\",\"ontology\",\"ftx-token\",\"true-usd\",\"digibyte\"],\"x\":[0.8427600624855399,0.4584656644628807,-0.16812638169325195,-0.22266007696009266,2.0412091852418346,1.3883774818625845,0.5176991167273984,0.7294393945322883,0.4321651377074032,-0.20119978804156163,-1.3762515898012422,-0.17533654196886497,-0.4738146235496463,2.9094038518367764,-0.10819197462494247,-0.4944087524150498,-1.269825135597806,-0.7327191199192675,0.7034151468998076,-0.14280239241374712,-0.9869144080114634,0.8273976353815232,-0.674115268076814,-0.2125065470533916,0.5635321240704285,-0.15101945266575217,-0.517885538792463,-1.9382090595380141,0.4929761725450791,-0.01395409962133177,-0.4793368029042946,-0.35633377052316595,-3.896890535486485,0.16504063407280317,-2.2618823859082102,0.42831576443907726,6.767678675262274,-2.108117128334043,0.021484962427633224,-0.13573403362162556,-0.1911256024328063],\"y\":[0.4615945681105948,0.9528767837135823,-0.641751929140677,-0.47905315757557276,1.8597152736981144,0.8040713050022834,2.8461431574752787,1.4780128444941134,0.6003028588105244,-0.21765291815350782,-1.4620257131124952,-0.6633884037364077,-0.527596925526791,1.4985713063809971,-0.012756080213432183,1.082811691051757,-1.0988292750751891,-0.06254323300898525,1.714223586419341,-0.6565658346817507,-0.7287523216679124,0.439315938339612,-1.0766283383557342,-0.35142562766632507,-1.1487415949964512,-0.6474006119131073,0.20499029001818542,-1.2617758874503522,1.05804837248703,-1.9652072219391366,0.3395651327382894,-0.11494201872557765,2.3013820764937623,0.3794136971555251,0.27558289140280406,-1.205397966313135,-1.9869854471135149,-0.6522273846771972,0.20991141756366843,-0.6352835704640616,-0.9096017298481481],\"type\":\"scatter\",\"xaxis\":\"x4\",\"yaxis\":\"y4\"},{\"hovertemplate\":\"\\u003cb\\u003eCluster %{text}\\u003c\\u002fb\\u003e\\u003cbr\\u003e\\u003cb\\u003ex:\\u003c\\u002fb\\u003e %{x}\\u003cbr\\u003e\\u003cb\\u003ey:\\u003c\\u002fb\\u003e %{y}\\u003cbr\\u003e\\u003cextra\\u003e\\u003c\\u002fextra\\u003e\",\"marker\":{\"color\":[0,1],\"colorscale\":[[0.0,\"firebrick\"],[0.16666666666666666,\"green\"],[0.3333333333333333,\"orange\"],[0.5,\"lightsteelblue\"],[0.6666666666666666,\"gold\"],[0.8333333333333334,\"purple\"],[1.0,\"blue\"]],\"line\":{\"color\":\"black\",\"width\":1.5},\"opacity\":0.4,\"size\":50.0},\"mode\":\"markers\",\"name\":\"Clusters\",\"showlegend\":false,\"text\":[\"1\",\"2\"],\"x\":[-0.07517984316195944,0.952278013384819],\"y\":[0.043442384014707604,-0.5502701975196297],\"type\":\"scatter\",\"xaxis\":\"x4\",\"yaxis\":\"y4\"}],                        {\"template\":{\"data\":{\"histogram2dcontour\":[{\"type\":\"histogram2dcontour\",\"colorbar\":{\"outlinewidth\":0,\"ticks\":\"\"},\"colorscale\":[[0.0,\"#0d0887\"],[0.1111111111111111,\"#46039f\"],[0.2222222222222222,\"#7201a8\"],[0.3333333333333333,\"#9c179e\"],[0.4444444444444444,\"#bd3786\"],[0.5555555555555556,\"#d8576b\"],[0.6666666666666666,\"#ed7953\"],[0.7777777777777778,\"#fb9f3a\"],[0.8888888888888888,\"#fdca26\"],[1.0,\"#f0f921\"]]}],\"choropleth\":[{\"type\":\"choropleth\",\"colorbar\":{\"outlinewidth\":0,\"ticks\":\"\"}}],\"histogram2d\":[{\"type\":\"histogram2d\",\"colorbar\":{\"outlinewidth\":0,\"ticks\":\"\"},\"colorscale\":[[0.0,\"#0d0887\"],[0.1111111111111111,\"#46039f\"],[0.2222222222222222,\"#7201a8\"],[0.3333333333333333,\"#9c179e\"],[0.4444444444444444,\"#bd3786\"],[0.5555555555555556,\"#d8576b\"],[0.6666666666666666,\"#ed7953\"],[0.7777777777777778,\"#fb9f3a\"],[0.8888888888888888,\"#fdca26\"],[1.0,\"#f0f921\"]]}],\"heatmap\":[{\"type\":\"heatmap\",\"colorbar\":{\"outlinewidth\":0,\"ticks\":\"\"},\"colorscale\":[[0.0,\"#0d0887\"],[0.1111111111111111,\"#46039f\"],[0.2222222222222222,\"#7201a8\"],[0.3333333333333333,\"#9c179e\"],[0.4444444444444444,\"#bd3786\"],[0.5555555555555556,\"#d8576b\"],[0.6666666666666666,\"#ed7953\"],[0.7777777777777778,\"#fb9f3a\"],[0.8888888888888888,\"#fdca26\"],[1.0,\"#f0f921\"]]}],\"heatmapgl\":[{\"type\":\"heatmapgl\",\"colorbar\":{\"outlinewidth\":0,\"ticks\":\"\"},\"colorscale\":[[0.0,\"#0d0887\"],[0.1111111111111111,\"#46039f\"],[0.2222222222222222,\"#7201a8\"],[0.3333333333333333,\"#9c179e\"],[0.4444444444444444,\"#bd3786\"],[0.5555555555555556,\"#d8576b\"],[0.6666666666666666,\"#ed7953\"],[0.7777777777777778,\"#fb9f3a\"],[0.8888888888888888,\"#fdca26\"],[1.0,\"#f0f921\"]]}],\"contourcarpet\":[{\"type\":\"contourcarpet\",\"colorbar\":{\"outlinewidth\":0,\"ticks\":\"\"}}],\"contour\":[{\"type\":\"contour\",\"colorbar\":{\"outlinewidth\":0,\"ticks\":\"\"},\"colorscale\":[[0.0,\"#0d0887\"],[0.1111111111111111,\"#46039f\"],[0.2222222222222222,\"#7201a8\"],[0.3333333333333333,\"#9c179e\"],[0.4444444444444444,\"#bd3786\"],[0.5555555555555556,\"#d8576b\"],[0.6666666666666666,\"#ed7953\"],[0.7777777777777778,\"#fb9f3a\"],[0.8888888888888888,\"#fdca26\"],[1.0,\"#f0f921\"]]}],\"surface\":[{\"type\":\"surface\",\"colorbar\":{\"outlinewidth\":0,\"ticks\":\"\"},\"colorscale\":[[0.0,\"#0d0887\"],[0.1111111111111111,\"#46039f\"],[0.2222222222222222,\"#7201a8\"],[0.3333333333333333,\"#9c179e\"],[0.4444444444444444,\"#bd3786\"],[0.5555555555555556,\"#d8576b\"],[0.6666666666666666,\"#ed7953\"],[0.7777777777777778,\"#fb9f3a\"],[0.8888888888888888,\"#fdca26\"],[1.0,\"#f0f921\"]]}],\"mesh3d\":[{\"type\":\"mesh3d\",\"colorbar\":{\"outlinewidth\":0,\"ticks\":\"\"}}],\"scatter\":[{\"fillpattern\":{\"fillmode\":\"overlay\",\"size\":10,\"solidity\":0.2},\"type\":\"scatter\"}],\"parcoords\":[{\"type\":\"parcoords\",\"line\":{\"colorbar\":{\"outlinewidth\":0,\"ticks\":\"\"}}}],\"scatterpolargl\":[{\"type\":\"scatterpolargl\",\"marker\":{\"colorbar\":{\"outlinewidth\":0,\"ticks\":\"\"}}}],\"bar\":[{\"error_x\":{\"color\":\"#2a3f5f\"},\"error_y\":{\"color\":\"#2a3f5f\"},\"marker\":{\"line\":{\"color\":\"#E5ECF6\",\"width\":0.5},\"pattern\":{\"fillmode\":\"overlay\",\"size\":10,\"solidity\":0.2}},\"type\":\"bar\"}],\"scattergeo\":[{\"type\":\"scattergeo\",\"marker\":{\"colorbar\":{\"outlinewidth\":0,\"ticks\":\"\"}}}],\"scatterpolar\":[{\"type\":\"scatterpolar\",\"marker\":{\"colorbar\":{\"outlinewidth\":0,\"ticks\":\"\"}}}],\"histogram\":[{\"marker\":{\"pattern\":{\"fillmode\":\"overlay\",\"size\":10,\"solidity\":0.2}},\"type\":\"histogram\"}],\"scattergl\":[{\"type\":\"scattergl\",\"marker\":{\"colorbar\":{\"outlinewidth\":0,\"ticks\":\"\"}}}],\"scatter3d\":[{\"type\":\"scatter3d\",\"line\":{\"colorbar\":{\"outlinewidth\":0,\"ticks\":\"\"}},\"marker\":{\"colorbar\":{\"outlinewidth\":0,\"ticks\":\"\"}}}],\"scattermapbox\":[{\"type\":\"scattermapbox\",\"marker\":{\"colorbar\":{\"outlinewidth\":0,\"ticks\":\"\"}}}],\"scatterternary\":[{\"type\":\"scatterternary\",\"marker\":{\"colorbar\":{\"outlinewidth\":0,\"ticks\":\"\"}}}],\"scattercarpet\":[{\"type\":\"scattercarpet\",\"marker\":{\"colorbar\":{\"outlinewidth\":0,\"ticks\":\"\"}}}],\"carpet\":[{\"aaxis\":{\"endlinecolor\":\"#2a3f5f\",\"gridcolor\":\"white\",\"linecolor\":\"white\",\"minorgridcolor\":\"white\",\"startlinecolor\":\"#2a3f5f\"},\"baxis\":{\"endlinecolor\":\"#2a3f5f\",\"gridcolor\":\"white\",\"linecolor\":\"white\",\"minorgridcolor\":\"white\",\"startlinecolor\":\"#2a3f5f\"},\"type\":\"carpet\"}],\"table\":[{\"cells\":{\"fill\":{\"color\":\"#EBF0F8\"},\"line\":{\"color\":\"white\"}},\"header\":{\"fill\":{\"color\":\"#C8D4E3\"},\"line\":{\"color\":\"white\"}},\"type\":\"table\"}],\"barpolar\":[{\"marker\":{\"line\":{\"color\":\"#E5ECF6\",\"width\":0.5},\"pattern\":{\"fillmode\":\"overlay\",\"size\":10,\"solidity\":0.2}},\"type\":\"barpolar\"}],\"pie\":[{\"automargin\":true,\"type\":\"pie\"}]},\"layout\":{\"autotypenumbers\":\"strict\",\"colorway\":[\"#636efa\",\"#EF553B\",\"#00cc96\",\"#ab63fa\",\"#FFA15A\",\"#19d3f3\",\"#FF6692\",\"#B6E880\",\"#FF97FF\",\"#FECB52\"],\"font\":{\"color\":\"#2a3f5f\"},\"hovermode\":\"closest\",\"hoverlabel\":{\"align\":\"left\"},\"paper_bgcolor\":\"white\",\"plot_bgcolor\":\"#E5ECF6\",\"polar\":{\"bgcolor\":\"#E5ECF6\",\"angularaxis\":{\"gridcolor\":\"white\",\"linecolor\":\"white\",\"ticks\":\"\"},\"radialaxis\":{\"gridcolor\":\"white\",\"linecolor\":\"white\",\"ticks\":\"\"}},\"ternary\":{\"bgcolor\":\"#E5ECF6\",\"aaxis\":{\"gridcolor\":\"white\",\"linecolor\":\"white\",\"ticks\":\"\"},\"baxis\":{\"gridcolor\":\"white\",\"linecolor\":\"white\",\"ticks\":\"\"},\"caxis\":{\"gridcolor\":\"white\",\"linecolor\":\"white\",\"ticks\":\"\"}},\"coloraxis\":{\"colorbar\":{\"outlinewidth\":0,\"ticks\":\"\"}},\"colorscale\":{\"sequential\":[[0.0,\"#0d0887\"],[0.1111111111111111,\"#46039f\"],[0.2222222222222222,\"#7201a8\"],[0.3333333333333333,\"#9c179e\"],[0.4444444444444444,\"#bd3786\"],[0.5555555555555556,\"#d8576b\"],[0.6666666666666666,\"#ed7953\"],[0.7777777777777778,\"#fb9f3a\"],[0.8888888888888888,\"#fdca26\"],[1.0,\"#f0f921\"]],\"sequentialminus\":[[0.0,\"#0d0887\"],[0.1111111111111111,\"#46039f\"],[0.2222222222222222,\"#7201a8\"],[0.3333333333333333,\"#9c179e\"],[0.4444444444444444,\"#bd3786\"],[0.5555555555555556,\"#d8576b\"],[0.6666666666666666,\"#ed7953\"],[0.7777777777777778,\"#fb9f3a\"],[0.8888888888888888,\"#fdca26\"],[1.0,\"#f0f921\"]],\"diverging\":[[0,\"#8e0152\"],[0.1,\"#c51b7d\"],[0.2,\"#de77ae\"],[0.3,\"#f1b6da\"],[0.4,\"#fde0ef\"],[0.5,\"#f7f7f7\"],[0.6,\"#e6f5d0\"],[0.7,\"#b8e186\"],[0.8,\"#7fbc41\"],[0.9,\"#4d9221\"],[1,\"#276419\"]]},\"xaxis\":{\"gridcolor\":\"white\",\"linecolor\":\"white\",\"ticks\":\"\",\"title\":{\"standoff\":15},\"zerolinecolor\":\"white\",\"automargin\":true,\"zerolinewidth\":2},\"yaxis\":{\"gridcolor\":\"white\",\"linecolor\":\"white\",\"ticks\":\"\",\"title\":{\"standoff\":15},\"zerolinecolor\":\"white\",\"automargin\":true,\"zerolinewidth\":2},\"scene\":{\"xaxis\":{\"backgroundcolor\":\"#E5ECF6\",\"gridcolor\":\"white\",\"linecolor\":\"white\",\"showbackground\":true,\"ticks\":\"\",\"zerolinecolor\":\"white\",\"gridwidth\":2},\"yaxis\":{\"backgroundcolor\":\"#E5ECF6\",\"gridcolor\":\"white\",\"linecolor\":\"white\",\"showbackground\":true,\"ticks\":\"\",\"zerolinecolor\":\"white\",\"gridwidth\":2},\"zaxis\":{\"backgroundcolor\":\"#E5ECF6\",\"gridcolor\":\"white\",\"linecolor\":\"white\",\"showbackground\":true,\"ticks\":\"\",\"zerolinecolor\":\"white\",\"gridwidth\":2}},\"shapedefaults\":{\"line\":{\"color\":\"#2a3f5f\"}},\"annotationdefaults\":{\"arrowcolor\":\"#2a3f5f\",\"arrowhead\":0,\"arrowwidth\":1},\"geo\":{\"bgcolor\":\"white\",\"landcolor\":\"#E5ECF6\",\"subunitcolor\":\"white\",\"showland\":true,\"showlakes\":true,\"lakecolor\":\"white\"},\"title\":{\"x\":0.05},\"mapbox\":{\"style\":\"light\"}}},\"xaxis\":{\"anchor\":\"y\",\"domain\":[0.0,0.44],\"tickfont\":{\"color\":\"black\",\"family\":\"garamond\",\"size\":14.0},\"linecolor\":\"black\",\"linewidth\":2.0,\"mirror\":true,\"showline\":true},\"yaxis\":{\"anchor\":\"x\",\"domain\":[0.56,1.0],\"tickfont\":{\"color\":\"black\",\"family\":\"garamond\",\"size\":14.0},\"linecolor\":\"black\",\"linewidth\":2.0,\"mirror\":true,\"showline\":true,\"title\":{\"text\":\"Pca3\",\"font\":{\"color\":\"black\",\"family\":\"garamond\",\"size\":18.0}}},\"xaxis2\":{\"anchor\":\"y2\",\"domain\":[0.56,1.0],\"tickfont\":{\"color\":\"black\",\"family\":\"garamond\",\"size\":14.0},\"linecolor\":\"black\",\"linewidth\":2.0,\"mirror\":true,\"showline\":true},\"yaxis2\":{\"anchor\":\"x2\",\"domain\":[0.56,1.0],\"tickfont\":{\"color\":\"black\",\"family\":\"garamond\",\"size\":14.0},\"linecolor\":\"black\",\"linewidth\":2.0,\"mirror\":true,\"showline\":true},\"xaxis3\":{\"anchor\":\"y3\",\"domain\":[0.0,0.44],\"tickfont\":{\"color\":\"black\",\"family\":\"garamond\",\"size\":14.0},\"linecolor\":\"black\",\"linewidth\":2.0,\"mirror\":true,\"showline\":true,\"title\":{\"text\":\"Pca2\",\"font\":{\"color\":\"black\",\"family\":\"garamond\",\"size\":18.0}}},\"yaxis3\":{\"anchor\":\"x3\",\"domain\":[0.0,0.44],\"tickfont\":{\"color\":\"black\",\"family\":\"garamond\",\"size\":14.0},\"linecolor\":\"black\",\"linewidth\":2.0,\"mirror\":true,\"showline\":true,\"title\":{\"text\":\"Pca3\",\"font\":{\"color\":\"black\",\"family\":\"garamond\",\"size\":18.0}}},\"xaxis4\":{\"anchor\":\"y4\",\"domain\":[0.56,1.0],\"tickfont\":{\"color\":\"black\",\"family\":\"garamond\",\"size\":14.0},\"linecolor\":\"black\",\"linewidth\":2.0,\"mirror\":true,\"showline\":true,\"title\":{\"text\":\"Pca2\",\"font\":{\"color\":\"black\",\"family\":\"garamond\",\"size\":18.0}}},\"yaxis4\":{\"anchor\":\"x4\",\"domain\":[0.0,0.44],\"tickfont\":{\"color\":\"black\",\"family\":\"garamond\",\"size\":14.0},\"linecolor\":\"black\",\"linewidth\":2.0,\"mirror\":true,\"showline\":true},\"annotations\":[{\"font\":{\"size\":20.0,\"color\":\"black\",\"family\":\"garamond\"},\"showarrow\":false,\"text\":\"K-Clusters for K = 4\",\"x\":0.22,\"xanchor\":\"center\",\"xref\":\"paper\",\"y\":1.0,\"yanchor\":\"bottom\",\"yref\":\"paper\",\"yshift\":10.0},{\"font\":{\"size\":20.0,\"color\":\"black\",\"family\":\"garamond\"},\"showarrow\":false,\"text\":\"K-Clusters for K = 10\",\"x\":0.78,\"xanchor\":\"center\",\"xref\":\"paper\",\"y\":1.0,\"yanchor\":\"bottom\",\"yref\":\"paper\",\"yshift\":10.0},{\"font\":{\"size\":20.0,\"color\":\"black\",\"family\":\"garamond\"},\"showarrow\":false,\"text\":\"K-Clusters for K = 3\",\"x\":0.22,\"xanchor\":\"center\",\"xref\":\"paper\",\"y\":0.44,\"yanchor\":\"bottom\",\"yref\":\"paper\",\"yshift\":10.0},{\"font\":{\"size\":20.0,\"color\":\"black\",\"family\":\"garamond\"},\"showarrow\":false,\"text\":\"K-Clusters for K = 2\",\"x\":0.78,\"xanchor\":\"center\",\"xref\":\"paper\",\"y\":0.44,\"yanchor\":\"bottom\",\"yref\":\"paper\",\"yshift\":10.0}],\"title\":{\"font\":{\"color\":\"black\",\"family\":\"garamond\",\"size\":24.0},\"text\":\"6.3.3: K-Means Scatter Plots (PCA2 vs. PCA3)\"},\"height\":1000,\"width\":1000,\"showlegend\":true},                        {\"responsive\": true}                    ).then(function(){\n",
              "                            \n",
              "var gd = document.getElementById('5f976126-f149-4486-acc6-e432ab123a53');\n",
              "var x = new MutationObserver(function (mutations, observer) {{\n",
              "        var display = window.getComputedStyle(gd).display;\n",
              "        if (!display || display === 'none') {{\n",
              "            console.log([gd, 'removed!']);\n",
              "            Plotly.purge(gd);\n",
              "            observer.disconnect();\n",
              "        }}\n",
              "}});\n",
              "\n",
              "// Listen for the removal of the full notebook cells\n",
              "var notebookContainer = gd.closest('#notebook-container');\n",
              "if (notebookContainer) {{\n",
              "    x.observe(notebookContainer, {childList: true});\n",
              "}}\n",
              "\n",
              "// Listen for the clearing of the current output cell\n",
              "var outputEl = gd.closest('.output');\n",
              "if (outputEl) {{\n",
              "    x.observe(outputEl, {childList: true});\n",
              "}}\n",
              "\n",
              "                        })                };                            </script>        </div>\n",
              "</body>\n",
              "</html>"
            ]
          },
          "metadata": {}
        }
      ],
      "source": [
        "kmeans_analysisx.return_k_clusters_2d_scatter_plot \\\n",
        "    (crypto_pca_dataframe, [4, 10, 3, 2], colors_string_list,\n",
        "     '6.3.3: K-Means Scatter Plots (PCA2 vs. PCA3)', 'PCA2', 'PCA3')"
      ]
    },
    {
      "cell_type": "markdown",
      "id": "644ca3d8",
      "metadata": {
        "id": "644ca3d8"
      },
      "source": [
        "## **6.4: Normalized Cryptocurrency Predictions Using PCA Scatter Plots (3-D)**"
      ]
    },
    {
      "cell_type": "code",
      "execution_count": null,
      "id": "090052c8",
      "metadata": {
        "colab": {
          "base_uri": "https://localhost:8080/",
          "height": 917
        },
        "id": "090052c8",
        "outputId": "fdb85300-3ca5-43f8-d5d4-ed920c64810e"
      },
      "outputs": [
        {
          "output_type": "display_data",
          "data": {
            "text/html": [
              "<html>\n",
              "<head><meta charset=\"utf-8\" /></head>\n",
              "<body>\n",
              "    <div>            <script src=\"https://cdnjs.cloudflare.com/ajax/libs/mathjax/2.7.5/MathJax.js?config=TeX-AMS-MML_SVG\"></script><script type=\"text/javascript\">if (window.MathJax && window.MathJax.Hub && window.MathJax.Hub.Config) {window.MathJax.Hub.Config({SVG: {font: \"STIX-Web\"}});}</script>                <script type=\"text/javascript\">window.PlotlyConfig = {MathJaxConfig: 'local'};</script>\n",
              "        <script charset=\"utf-8\" src=\"https://cdn.plot.ly/plotly-2.31.1.min.js\"></script>                <div id=\"2d578265-ca9d-4871-b0ce-dca23a1240db\" class=\"plotly-graph-div\" style=\"height:900px; width:900px;\"></div>            <script type=\"text/javascript\">                                    window.PLOTLYENV=window.PLOTLYENV || {};                                    if (document.getElementById(\"2d578265-ca9d-4871-b0ce-dca23a1240db\")) {                    Plotly.newPlot(                        \"2d578265-ca9d-4871-b0ce-dca23a1240db\",                        [{\"hovertemplate\":\"\\u003cb\\u003eCryptocurrency:\\u003c\\u002fb\\u003e %{text}\\u003cbr\\u003e\\u003cb\\u003ex:\\u003c\\u002fb\\u003e %{x}\\u003cbr\\u003e\\u003cb\\u003ey:\\u003c\\u002fb\\u003e %{y}\\u003cbr\\u003e\\u003cb\\u003ez:\\u003c\\u002fb\\u003e %{z}\\u003cbr\\u003e\\u003cextra\\u003e\\u003c\\u002fextra\\u003e\",\"marker\":{\"color\":[3,3,1,1,3,3,3,3,3,1,1,1,1,3,1,3,1,1,3,1,1,3,1,1,1,1,1,1,3,1,1,1,2,3,1,1,0,1,1,1,1],\"colorscale\":[[0.0,\"firebrick\"],[0.16666666666666666,\"green\"],[0.3333333333333333,\"orange\"],[0.5,\"lightsteelblue\"],[0.6666666666666666,\"gold\"],[0.8333333333333334,\"purple\"],[1.0,\"blue\"]],\"line\":{\"color\":\"black\",\"width\":1.0},\"opacity\":1.0,\"size\":7.0},\"mode\":\"markers\",\"name\":\"Points\",\"showlegend\":true,\"text\":[\"bitcoin\",\"ethereum\",\"tether\",\"ripple\",\"bitcoin-cash\",\"binancecoin\",\"chainlink\",\"cardano\",\"litecoin\",\"bitcoin-cash-sv\",\"crypto-com-chain\",\"usd-coin\",\"eos\",\"monero\",\"tron\",\"tezos\",\"okb\",\"stellar\",\"cosmos\",\"cdai\",\"neo\",\"wrapped-bitcoin\",\"leo-token\",\"huobi-token\",\"nem\",\"binance-usd\",\"iota\",\"vechain\",\"zcash\",\"theta-token\",\"dash\",\"ethereum-classic\",\"ethlend\",\"maker\",\"havven\",\"omisego\",\"celsius-degree-token\",\"ontology\",\"ftx-token\",\"true-usd\",\"digibyte\"],\"x\":[-0.6006673254375197,-0.45826071401032126,-0.43306980513657123,-0.4718349487388997,-1.1577999724406398,-0.5165337697386355,-0.4507113399717348,-0.34559976661691705,-0.6494679214405782,-0.759013942296941,-0.24819846472379042,-0.4384076222360054,-0.6934253333100024,0.06049914778108642,-0.3933524257856281,-0.7961756359232364,0.06407451856195888,-0.4890150610215555,-0.3062722976749089,-0.513527753143791,-0.3621204360718861,-0.6042646308187019,-0.4132956035721582,-0.40748303584430373,0.6089738213442363,-0.450211141106789,-0.7646652213141043,-0.5563146750187622,-0.4251467742977224,2.6768676123254984,-0.6139227463582011,-0.5799239778770782,8.089018214765613,-0.38904525957800884,0.8657618298532996,0.11167508357409268,4.792395401459594,-0.6323549165416654,-0.593142164129733,-0.4581305024102701,-0.2979104450783156],\"y\":[0.8427600624855399,0.4584656644628807,-0.16812638169325195,-0.22266007696009266,2.0412091852418346,1.3883774818625845,0.5176991167273984,0.7294393945322883,0.4321651377074032,-0.20119978804156163,-1.3762515898012422,-0.17533654196886497,-0.4738146235496463,2.9094038518367764,-0.10819197462494247,-0.4944087524150498,-1.269825135597806,-0.7327191199192675,0.7034151468998076,-0.14280239241374712,-0.9869144080114634,0.8273976353815232,-0.674115268076814,-0.2125065470533916,0.5635321240704285,-0.15101945266575217,-0.517885538792463,-1.9382090595380141,0.4929761725450791,-0.01395409962133177,-0.4793368029042946,-0.35633377052316595,-3.896890535486485,0.16504063407280317,-2.2618823859082102,0.42831576443907726,6.767678675262274,-2.108117128334043,0.021484962427633224,-0.13573403362162556,-0.1911256024328063],\"z\":[0.4615945681105948,0.9528767837135823,-0.641751929140677,-0.47905315757557276,1.8597152736981144,0.8040713050022834,2.8461431574752787,1.4780128444941134,0.6003028588105244,-0.21765291815350782,-1.4620257131124952,-0.6633884037364077,-0.527596925526791,1.4985713063809971,-0.012756080213432183,1.082811691051757,-1.0988292750751891,-0.06254323300898525,1.714223586419341,-0.6565658346817507,-0.7287523216679124,0.439315938339612,-1.0766283383557342,-0.35142562766632507,-1.1487415949964512,-0.6474006119131073,0.20499029001818542,-1.2617758874503522,1.05804837248703,-1.9652072219391366,0.3395651327382894,-0.11494201872557765,2.3013820764937623,0.3794136971555251,0.27558289140280406,-1.205397966313135,-1.9869854471135149,-0.6522273846771972,0.20991141756366843,-0.6352835704640616,-0.9096017298481481],\"type\":\"scatter3d\"},{\"hovertemplate\":\"\\u003cb\\u003eCluster %{text}\\u003c\\u002fb\\u003e\\u003cbr\\u003e\\u003cb\\u003ex:\\u003c\\u002fb\\u003e %{x}\\u003cbr\\u003e\\u003cb\\u003ey:\\u003c\\u002fb\\u003e %{y}\\u003cbr\\u003e\\u003cb\\u003ez:\\u003c\\u002fb\\u003e %{z}\\u003cbr\\u003e\\u003cextra\\u003e\\u003c\\u002fextra\\u003e\",\"marker\":{\"color\":[0,1,2,3],\"colorscale\":[[0.0,\"firebrick\"],[0.16666666666666666,\"green\"],[0.3333333333333333,\"orange\"],[0.5,\"lightsteelblue\"],[0.6666666666666666,\"gold\"],[0.8333333333333334,\"purple\"],[1.0,\"blue\"]],\"line\":{\"color\":\"black\",\"width\":1.5},\"opacity\":0.4,\"size\":42.0},\"mode\":\"markers\",\"name\":\"Clusters\",\"showlegend\":true,\"text\":[\"1\",\"2\",\"3\",\"4\"],\"x\":[4.792395401459594,-0.24007566754066792,8.089018214765613,-0.510726635397526],\"y\":[6.767678675262274,-0.5340280335044868,-3.896890535486485,0.8472262101031439],\"z\":[-1.9869854471135149,-0.595749923558423,2.3013820764937623,1.1673154910106736],\"type\":\"scatter3d\"}],                        {\"height\":900,\"legend\":{\"bgcolor\":\"aliceblue\",\"font\":{\"color\":\"black\",\"family\":\"garamond\",\"size\":20.0},\"x\":1.2,\"xanchor\":\"right\",\"y\":0.8,\"yanchor\":\"top\"},\"scene\":{\"aspectmode\":\"manual\",\"aspectratio\":{\"x\":0.9,\"y\":0.9,\"z\":0.9},\"xaxis\":{\"color\":\"black\",\"gridcolor\":\"darkblue\",\"linecolor\":\"black\",\"linewidth\":2.0,\"mirror\":true,\"showbackground\":true,\"showline\":true,\"tickfont\":{\"color\":\"black\",\"family\":\"garamond\",\"size\":14},\"title\":{\"font\":{\"color\":\"black\",\"family\":\"garamond\",\"size\":18.0},\"text\":\"PCA1\"}},\"yaxis\":{\"color\":\"black\",\"gridcolor\":\"darkblue\",\"linecolor\":\"black\",\"linewidth\":2.0,\"mirror\":true,\"showbackground\":true,\"showline\":true,\"tickfont\":{\"color\":\"black\",\"family\":\"garamond\",\"size\":14.0},\"title\":{\"font\":{\"color\":\"black\",\"family\":\"garamond\",\"size\":18.0},\"text\":\"PCA2\"}},\"zaxis\":{\"color\":\"black\",\"gridcolor\":\"darkblue\",\"linecolor\":\"black\",\"linewidth\":2.0,\"mirror\":true,\"showbackground\":true,\"showline\":true,\"tickfont\":{\"color\":\"black\",\"family\":\"garamond\",\"size\":14.0},\"title\":{\"font\":{\"color\":\"black\",\"family\":\"garamond\",\"size\":18.0},\"text\":\"PCA3\"}}},\"title\":{\"font\":{\"color\":\"black\",\"family\":\"garamond\",\"size\":28.0},\"text\":\"6.4.1: Cryptocurrency Data Using PCA 3-D Scatter Plot (k=4)\",\"x\":0.5,\"y\":0.85},\"width\":900,\"template\":{\"data\":{\"histogram2dcontour\":[{\"type\":\"histogram2dcontour\",\"colorbar\":{\"outlinewidth\":0,\"ticks\":\"\"},\"colorscale\":[[0.0,\"#0d0887\"],[0.1111111111111111,\"#46039f\"],[0.2222222222222222,\"#7201a8\"],[0.3333333333333333,\"#9c179e\"],[0.4444444444444444,\"#bd3786\"],[0.5555555555555556,\"#d8576b\"],[0.6666666666666666,\"#ed7953\"],[0.7777777777777778,\"#fb9f3a\"],[0.8888888888888888,\"#fdca26\"],[1.0,\"#f0f921\"]]}],\"choropleth\":[{\"type\":\"choropleth\",\"colorbar\":{\"outlinewidth\":0,\"ticks\":\"\"}}],\"histogram2d\":[{\"type\":\"histogram2d\",\"colorbar\":{\"outlinewidth\":0,\"ticks\":\"\"},\"colorscale\":[[0.0,\"#0d0887\"],[0.1111111111111111,\"#46039f\"],[0.2222222222222222,\"#7201a8\"],[0.3333333333333333,\"#9c179e\"],[0.4444444444444444,\"#bd3786\"],[0.5555555555555556,\"#d8576b\"],[0.6666666666666666,\"#ed7953\"],[0.7777777777777778,\"#fb9f3a\"],[0.8888888888888888,\"#fdca26\"],[1.0,\"#f0f921\"]]}],\"heatmap\":[{\"type\":\"heatmap\",\"colorbar\":{\"outlinewidth\":0,\"ticks\":\"\"},\"colorscale\":[[0.0,\"#0d0887\"],[0.1111111111111111,\"#46039f\"],[0.2222222222222222,\"#7201a8\"],[0.3333333333333333,\"#9c179e\"],[0.4444444444444444,\"#bd3786\"],[0.5555555555555556,\"#d8576b\"],[0.6666666666666666,\"#ed7953\"],[0.7777777777777778,\"#fb9f3a\"],[0.8888888888888888,\"#fdca26\"],[1.0,\"#f0f921\"]]}],\"heatmapgl\":[{\"type\":\"heatmapgl\",\"colorbar\":{\"outlinewidth\":0,\"ticks\":\"\"},\"colorscale\":[[0.0,\"#0d0887\"],[0.1111111111111111,\"#46039f\"],[0.2222222222222222,\"#7201a8\"],[0.3333333333333333,\"#9c179e\"],[0.4444444444444444,\"#bd3786\"],[0.5555555555555556,\"#d8576b\"],[0.6666666666666666,\"#ed7953\"],[0.7777777777777778,\"#fb9f3a\"],[0.8888888888888888,\"#fdca26\"],[1.0,\"#f0f921\"]]}],\"contourcarpet\":[{\"type\":\"contourcarpet\",\"colorbar\":{\"outlinewidth\":0,\"ticks\":\"\"}}],\"contour\":[{\"type\":\"contour\",\"colorbar\":{\"outlinewidth\":0,\"ticks\":\"\"},\"colorscale\":[[0.0,\"#0d0887\"],[0.1111111111111111,\"#46039f\"],[0.2222222222222222,\"#7201a8\"],[0.3333333333333333,\"#9c179e\"],[0.4444444444444444,\"#bd3786\"],[0.5555555555555556,\"#d8576b\"],[0.6666666666666666,\"#ed7953\"],[0.7777777777777778,\"#fb9f3a\"],[0.8888888888888888,\"#fdca26\"],[1.0,\"#f0f921\"]]}],\"surface\":[{\"type\":\"surface\",\"colorbar\":{\"outlinewidth\":0,\"ticks\":\"\"},\"colorscale\":[[0.0,\"#0d0887\"],[0.1111111111111111,\"#46039f\"],[0.2222222222222222,\"#7201a8\"],[0.3333333333333333,\"#9c179e\"],[0.4444444444444444,\"#bd3786\"],[0.5555555555555556,\"#d8576b\"],[0.6666666666666666,\"#ed7953\"],[0.7777777777777778,\"#fb9f3a\"],[0.8888888888888888,\"#fdca26\"],[1.0,\"#f0f921\"]]}],\"mesh3d\":[{\"type\":\"mesh3d\",\"colorbar\":{\"outlinewidth\":0,\"ticks\":\"\"}}],\"scatter\":[{\"fillpattern\":{\"fillmode\":\"overlay\",\"size\":10,\"solidity\":0.2},\"type\":\"scatter\"}],\"parcoords\":[{\"type\":\"parcoords\",\"line\":{\"colorbar\":{\"outlinewidth\":0,\"ticks\":\"\"}}}],\"scatterpolargl\":[{\"type\":\"scatterpolargl\",\"marker\":{\"colorbar\":{\"outlinewidth\":0,\"ticks\":\"\"}}}],\"bar\":[{\"error_x\":{\"color\":\"#2a3f5f\"},\"error_y\":{\"color\":\"#2a3f5f\"},\"marker\":{\"line\":{\"color\":\"#E5ECF6\",\"width\":0.5},\"pattern\":{\"fillmode\":\"overlay\",\"size\":10,\"solidity\":0.2}},\"type\":\"bar\"}],\"scattergeo\":[{\"type\":\"scattergeo\",\"marker\":{\"colorbar\":{\"outlinewidth\":0,\"ticks\":\"\"}}}],\"scatterpolar\":[{\"type\":\"scatterpolar\",\"marker\":{\"colorbar\":{\"outlinewidth\":0,\"ticks\":\"\"}}}],\"histogram\":[{\"marker\":{\"pattern\":{\"fillmode\":\"overlay\",\"size\":10,\"solidity\":0.2}},\"type\":\"histogram\"}],\"scattergl\":[{\"type\":\"scattergl\",\"marker\":{\"colorbar\":{\"outlinewidth\":0,\"ticks\":\"\"}}}],\"scatter3d\":[{\"type\":\"scatter3d\",\"line\":{\"colorbar\":{\"outlinewidth\":0,\"ticks\":\"\"}},\"marker\":{\"colorbar\":{\"outlinewidth\":0,\"ticks\":\"\"}}}],\"scattermapbox\":[{\"type\":\"scattermapbox\",\"marker\":{\"colorbar\":{\"outlinewidth\":0,\"ticks\":\"\"}}}],\"scatterternary\":[{\"type\":\"scatterternary\",\"marker\":{\"colorbar\":{\"outlinewidth\":0,\"ticks\":\"\"}}}],\"scattercarpet\":[{\"type\":\"scattercarpet\",\"marker\":{\"colorbar\":{\"outlinewidth\":0,\"ticks\":\"\"}}}],\"carpet\":[{\"aaxis\":{\"endlinecolor\":\"#2a3f5f\",\"gridcolor\":\"white\",\"linecolor\":\"white\",\"minorgridcolor\":\"white\",\"startlinecolor\":\"#2a3f5f\"},\"baxis\":{\"endlinecolor\":\"#2a3f5f\",\"gridcolor\":\"white\",\"linecolor\":\"white\",\"minorgridcolor\":\"white\",\"startlinecolor\":\"#2a3f5f\"},\"type\":\"carpet\"}],\"table\":[{\"cells\":{\"fill\":{\"color\":\"#EBF0F8\"},\"line\":{\"color\":\"white\"}},\"header\":{\"fill\":{\"color\":\"#C8D4E3\"},\"line\":{\"color\":\"white\"}},\"type\":\"table\"}],\"barpolar\":[{\"marker\":{\"line\":{\"color\":\"#E5ECF6\",\"width\":0.5},\"pattern\":{\"fillmode\":\"overlay\",\"size\":10,\"solidity\":0.2}},\"type\":\"barpolar\"}],\"pie\":[{\"automargin\":true,\"type\":\"pie\"}]},\"layout\":{\"autotypenumbers\":\"strict\",\"colorway\":[\"#636efa\",\"#EF553B\",\"#00cc96\",\"#ab63fa\",\"#FFA15A\",\"#19d3f3\",\"#FF6692\",\"#B6E880\",\"#FF97FF\",\"#FECB52\"],\"font\":{\"color\":\"#2a3f5f\"},\"hovermode\":\"closest\",\"hoverlabel\":{\"align\":\"left\"},\"paper_bgcolor\":\"white\",\"plot_bgcolor\":\"#E5ECF6\",\"polar\":{\"bgcolor\":\"#E5ECF6\",\"angularaxis\":{\"gridcolor\":\"white\",\"linecolor\":\"white\",\"ticks\":\"\"},\"radialaxis\":{\"gridcolor\":\"white\",\"linecolor\":\"white\",\"ticks\":\"\"}},\"ternary\":{\"bgcolor\":\"#E5ECF6\",\"aaxis\":{\"gridcolor\":\"white\",\"linecolor\":\"white\",\"ticks\":\"\"},\"baxis\":{\"gridcolor\":\"white\",\"linecolor\":\"white\",\"ticks\":\"\"},\"caxis\":{\"gridcolor\":\"white\",\"linecolor\":\"white\",\"ticks\":\"\"}},\"coloraxis\":{\"colorbar\":{\"outlinewidth\":0,\"ticks\":\"\"}},\"colorscale\":{\"sequential\":[[0.0,\"#0d0887\"],[0.1111111111111111,\"#46039f\"],[0.2222222222222222,\"#7201a8\"],[0.3333333333333333,\"#9c179e\"],[0.4444444444444444,\"#bd3786\"],[0.5555555555555556,\"#d8576b\"],[0.6666666666666666,\"#ed7953\"],[0.7777777777777778,\"#fb9f3a\"],[0.8888888888888888,\"#fdca26\"],[1.0,\"#f0f921\"]],\"sequentialminus\":[[0.0,\"#0d0887\"],[0.1111111111111111,\"#46039f\"],[0.2222222222222222,\"#7201a8\"],[0.3333333333333333,\"#9c179e\"],[0.4444444444444444,\"#bd3786\"],[0.5555555555555556,\"#d8576b\"],[0.6666666666666666,\"#ed7953\"],[0.7777777777777778,\"#fb9f3a\"],[0.8888888888888888,\"#fdca26\"],[1.0,\"#f0f921\"]],\"diverging\":[[0,\"#8e0152\"],[0.1,\"#c51b7d\"],[0.2,\"#de77ae\"],[0.3,\"#f1b6da\"],[0.4,\"#fde0ef\"],[0.5,\"#f7f7f7\"],[0.6,\"#e6f5d0\"],[0.7,\"#b8e186\"],[0.8,\"#7fbc41\"],[0.9,\"#4d9221\"],[1,\"#276419\"]]},\"xaxis\":{\"gridcolor\":\"white\",\"linecolor\":\"white\",\"ticks\":\"\",\"title\":{\"standoff\":15},\"zerolinecolor\":\"white\",\"automargin\":true,\"zerolinewidth\":2},\"yaxis\":{\"gridcolor\":\"white\",\"linecolor\":\"white\",\"ticks\":\"\",\"title\":{\"standoff\":15},\"zerolinecolor\":\"white\",\"automargin\":true,\"zerolinewidth\":2},\"scene\":{\"xaxis\":{\"backgroundcolor\":\"#E5ECF6\",\"gridcolor\":\"white\",\"linecolor\":\"white\",\"showbackground\":true,\"ticks\":\"\",\"zerolinecolor\":\"white\",\"gridwidth\":2},\"yaxis\":{\"backgroundcolor\":\"#E5ECF6\",\"gridcolor\":\"white\",\"linecolor\":\"white\",\"showbackground\":true,\"ticks\":\"\",\"zerolinecolor\":\"white\",\"gridwidth\":2},\"zaxis\":{\"backgroundcolor\":\"#E5ECF6\",\"gridcolor\":\"white\",\"linecolor\":\"white\",\"showbackground\":true,\"ticks\":\"\",\"zerolinecolor\":\"white\",\"gridwidth\":2}},\"shapedefaults\":{\"line\":{\"color\":\"#2a3f5f\"}},\"annotationdefaults\":{\"arrowcolor\":\"#2a3f5f\",\"arrowhead\":0,\"arrowwidth\":1},\"geo\":{\"bgcolor\":\"white\",\"landcolor\":\"#E5ECF6\",\"subunitcolor\":\"white\",\"showland\":true,\"showlakes\":true,\"lakecolor\":\"white\"},\"title\":{\"x\":0.05},\"mapbox\":{\"style\":\"light\"}}}},                        {\"responsive\": true}                    ).then(function(){\n",
              "                            \n",
              "var gd = document.getElementById('2d578265-ca9d-4871-b0ce-dca23a1240db');\n",
              "var x = new MutationObserver(function (mutations, observer) {{\n",
              "        var display = window.getComputedStyle(gd).display;\n",
              "        if (!display || display === 'none') {{\n",
              "            console.log([gd, 'removed!']);\n",
              "            Plotly.purge(gd);\n",
              "            observer.disconnect();\n",
              "        }}\n",
              "}});\n",
              "\n",
              "// Listen for the removal of the full notebook cells\n",
              "var notebookContainer = gd.closest('#notebook-container');\n",
              "if (notebookContainer) {{\n",
              "    x.observe(notebookContainer, {childList: true});\n",
              "}}\n",
              "\n",
              "// Listen for the clearing of the current output cell\n",
              "var outputEl = gd.closest('.output');\n",
              "if (outputEl) {{\n",
              "    x.observe(outputEl, {childList: true});\n",
              "}}\n",
              "\n",
              "                        })                };                            </script>        </div>\n",
              "</body>\n",
              "</html>"
            ]
          },
          "metadata": {}
        }
      ],
      "source": [
        "kmeans_analysisx.return_k_clusters_3d_scatter_plot \\\n",
        "    (crypto_pca_dataframe, 4, colors_string_list,\n",
        "     '6.4.1: Cryptocurrency Data Using PCA 3-D Scatter Plot (k=4)', ['PCA1', 'PCA2', 'PCA3'])"
      ]
    },
    {
      "cell_type": "code",
      "execution_count": null,
      "id": "0a794a69",
      "metadata": {
        "colab": {
          "base_uri": "https://localhost:8080/",
          "height": 917
        },
        "id": "0a794a69",
        "outputId": "8e5287ab-1a4f-468f-fc59-1e8d173b8b38"
      },
      "outputs": [
        {
          "output_type": "display_data",
          "data": {
            "text/html": [
              "<html>\n",
              "<head><meta charset=\"utf-8\" /></head>\n",
              "<body>\n",
              "    <div>            <script src=\"https://cdnjs.cloudflare.com/ajax/libs/mathjax/2.7.5/MathJax.js?config=TeX-AMS-MML_SVG\"></script><script type=\"text/javascript\">if (window.MathJax && window.MathJax.Hub && window.MathJax.Hub.Config) {window.MathJax.Hub.Config({SVG: {font: \"STIX-Web\"}});}</script>                <script type=\"text/javascript\">window.PlotlyConfig = {MathJaxConfig: 'local'};</script>\n",
              "        <script charset=\"utf-8\" src=\"https://cdn.plot.ly/plotly-2.31.1.min.js\"></script>                <div id=\"948cbba7-7c8c-47bf-8f3a-97fba1dd15b2\" class=\"plotly-graph-div\" style=\"height:900px; width:900px;\"></div>            <script type=\"text/javascript\">                                    window.PLOTLYENV=window.PLOTLYENV || {};                                    if (document.getElementById(\"948cbba7-7c8c-47bf-8f3a-97fba1dd15b2\")) {                    Plotly.newPlot(                        \"948cbba7-7c8c-47bf-8f3a-97fba1dd15b2\",                        [{\"hovertemplate\":\"\\u003cb\\u003eCryptocurrency:\\u003c\\u002fb\\u003e %{text}\\u003cbr\\u003e\\u003cb\\u003ex:\\u003c\\u002fb\\u003e %{x}\\u003cbr\\u003e\\u003cb\\u003ey:\\u003c\\u002fb\\u003e %{y}\\u003cbr\\u003e\\u003cb\\u003ez:\\u003c\\u002fb\\u003e %{z}\\u003cbr\\u003e\\u003cextra\\u003e\\u003c\\u002fextra\\u003e\",\"marker\":{\"color\":[1,1,4,4,5,1,7,7,1,9,0,4,4,5,9,9,0,9,7,4,0,1,4,4,4,4,9,0,1,6,9,9,3,9,8,4,2,0,9,4,4],\"colorscale\":[[0.0,\"firebrick\"],[0.16666666666666666,\"green\"],[0.3333333333333333,\"orange\"],[0.5,\"lightsteelblue\"],[0.6666666666666666,\"gold\"],[0.8333333333333334,\"purple\"],[1.0,\"blue\"]],\"line\":{\"color\":\"black\",\"width\":1.0},\"opacity\":1.0,\"size\":7.0},\"mode\":\"markers\",\"name\":\"Points\",\"showlegend\":true,\"text\":[\"bitcoin\",\"ethereum\",\"tether\",\"ripple\",\"bitcoin-cash\",\"binancecoin\",\"chainlink\",\"cardano\",\"litecoin\",\"bitcoin-cash-sv\",\"crypto-com-chain\",\"usd-coin\",\"eos\",\"monero\",\"tron\",\"tezos\",\"okb\",\"stellar\",\"cosmos\",\"cdai\",\"neo\",\"wrapped-bitcoin\",\"leo-token\",\"huobi-token\",\"nem\",\"binance-usd\",\"iota\",\"vechain\",\"zcash\",\"theta-token\",\"dash\",\"ethereum-classic\",\"ethlend\",\"maker\",\"havven\",\"omisego\",\"celsius-degree-token\",\"ontology\",\"ftx-token\",\"true-usd\",\"digibyte\"],\"x\":[-0.6006673254375197,-0.45826071401032126,-0.43306980513657123,-0.4718349487388997,-1.1577999724406398,-0.5165337697386355,-0.4507113399717348,-0.34559976661691705,-0.6494679214405782,-0.759013942296941,-0.24819846472379042,-0.4384076222360054,-0.6934253333100024,0.06049914778108642,-0.3933524257856281,-0.7961756359232364,0.06407451856195888,-0.4890150610215555,-0.3062722976749089,-0.513527753143791,-0.3621204360718861,-0.6042646308187019,-0.4132956035721582,-0.40748303584430373,0.6089738213442363,-0.450211141106789,-0.7646652213141043,-0.5563146750187622,-0.4251467742977224,2.6768676123254984,-0.6139227463582011,-0.5799239778770782,8.089018214765613,-0.38904525957800884,0.8657618298532996,0.11167508357409268,4.792395401459594,-0.6323549165416654,-0.593142164129733,-0.4581305024102701,-0.2979104450783156],\"y\":[0.8427600624855399,0.4584656644628807,-0.16812638169325195,-0.22266007696009266,2.0412091852418346,1.3883774818625845,0.5176991167273984,0.7294393945322883,0.4321651377074032,-0.20119978804156163,-1.3762515898012422,-0.17533654196886497,-0.4738146235496463,2.9094038518367764,-0.10819197462494247,-0.4944087524150498,-1.269825135597806,-0.7327191199192675,0.7034151468998076,-0.14280239241374712,-0.9869144080114634,0.8273976353815232,-0.674115268076814,-0.2125065470533916,0.5635321240704285,-0.15101945266575217,-0.517885538792463,-1.9382090595380141,0.4929761725450791,-0.01395409962133177,-0.4793368029042946,-0.35633377052316595,-3.896890535486485,0.16504063407280317,-2.2618823859082102,0.42831576443907726,6.767678675262274,-2.108117128334043,0.021484962427633224,-0.13573403362162556,-0.1911256024328063],\"z\":[0.4615945681105948,0.9528767837135823,-0.641751929140677,-0.47905315757557276,1.8597152736981144,0.8040713050022834,2.8461431574752787,1.4780128444941134,0.6003028588105244,-0.21765291815350782,-1.4620257131124952,-0.6633884037364077,-0.527596925526791,1.4985713063809971,-0.012756080213432183,1.082811691051757,-1.0988292750751891,-0.06254323300898525,1.714223586419341,-0.6565658346817507,-0.7287523216679124,0.439315938339612,-1.0766283383557342,-0.35142562766632507,-1.1487415949964512,-0.6474006119131073,0.20499029001818542,-1.2617758874503522,1.05804837248703,-1.9652072219391366,0.3395651327382894,-0.11494201872557765,2.3013820764937623,0.3794136971555251,0.27558289140280406,-1.205397966313135,-1.9869854471135149,-0.6522273846771972,0.20991141756366843,-0.6352835704640616,-0.9096017298481481],\"type\":\"scatter3d\"},{\"hovertemplate\":\"\\u003cb\\u003eCluster %{text}\\u003c\\u002fb\\u003e\\u003cbr\\u003e\\u003cb\\u003ex:\\u003c\\u002fb\\u003e %{x}\\u003cbr\\u003e\\u003cb\\u003ey:\\u003c\\u002fb\\u003e %{y}\\u003cbr\\u003e\\u003cb\\u003ez:\\u003c\\u002fb\\u003e %{z}\\u003cbr\\u003e\\u003cextra\\u003e\\u003c\\u002fextra\\u003e\",\"marker\":{\"color\":[0,1,2,3,4,5,6,7,8,9],\"colorscale\":[[0.0,\"firebrick\"],[0.16666666666666666,\"green\"],[0.3333333333333333,\"orange\"],[0.5,\"lightsteelblue\"],[0.6666666666666666,\"gold\"],[0.8333333333333334,\"purple\"],[1.0,\"blue\"]],\"line\":{\"color\":\"black\",\"width\":1.5},\"opacity\":0.4,\"size\":42.0},\"mode\":\"markers\",\"name\":\"Clusters\",\"showlegend\":true,\"text\":[\"1\",\"2\",\"3\",\"4\",\"5\",\"6\",\"7\",\"8\",\"9\",\"10\"],\"x\":[-0.3469827947588291,-0.5423901892905798,4.792395401459594,8.089018214765613,-0.321387273804898,-0.5486504123297767,2.6768676123254984,-0.3675278014211869,0.8657618298532996,-0.5975840482538318],\"y\":[-1.5358634642565139,0.740357025740835,6.767678675262274,-3.896890535486485,-0.12961608599387395,2.4753065185393055,-0.01395409962133177,0.6501845527198313,-2.2618823859082102,-0.30039446119114543],\"z\":[-1.0407221163966294,0.7193683044106045,-1.9869854471135149,2.3013820764937623,-0.7452363075181802,1.6791432900395558,-1.9652072219391366,2.0127931961295777,0.27558289140280406,0.20097755315843582],\"type\":\"scatter3d\"}],                        {\"height\":900,\"legend\":{\"bgcolor\":\"aliceblue\",\"font\":{\"color\":\"black\",\"family\":\"garamond\",\"size\":20.0},\"x\":1.2,\"xanchor\":\"right\",\"y\":0.8,\"yanchor\":\"top\"},\"scene\":{\"aspectmode\":\"manual\",\"aspectratio\":{\"x\":0.9,\"y\":0.9,\"z\":0.9},\"xaxis\":{\"color\":\"black\",\"gridcolor\":\"darkblue\",\"linecolor\":\"black\",\"linewidth\":2.0,\"mirror\":true,\"showbackground\":true,\"showline\":true,\"tickfont\":{\"color\":\"black\",\"family\":\"garamond\",\"size\":14},\"title\":{\"font\":{\"color\":\"black\",\"family\":\"garamond\",\"size\":18.0},\"text\":\"PCA1\"}},\"yaxis\":{\"color\":\"black\",\"gridcolor\":\"darkblue\",\"linecolor\":\"black\",\"linewidth\":2.0,\"mirror\":true,\"showbackground\":true,\"showline\":true,\"tickfont\":{\"color\":\"black\",\"family\":\"garamond\",\"size\":14.0},\"title\":{\"font\":{\"color\":\"black\",\"family\":\"garamond\",\"size\":18.0},\"text\":\"PCA2\"}},\"zaxis\":{\"color\":\"black\",\"gridcolor\":\"darkblue\",\"linecolor\":\"black\",\"linewidth\":2.0,\"mirror\":true,\"showbackground\":true,\"showline\":true,\"tickfont\":{\"color\":\"black\",\"family\":\"garamond\",\"size\":14.0},\"title\":{\"font\":{\"color\":\"black\",\"family\":\"garamond\",\"size\":18.0},\"text\":\"PCA3\"}}},\"title\":{\"font\":{\"color\":\"black\",\"family\":\"garamond\",\"size\":28.0},\"text\":\"6.4.2: Cryptocurrency Data Using PCA 3-D Scatter Plot (k=10)\",\"x\":0.5,\"y\":0.85},\"width\":900,\"template\":{\"data\":{\"histogram2dcontour\":[{\"type\":\"histogram2dcontour\",\"colorbar\":{\"outlinewidth\":0,\"ticks\":\"\"},\"colorscale\":[[0.0,\"#0d0887\"],[0.1111111111111111,\"#46039f\"],[0.2222222222222222,\"#7201a8\"],[0.3333333333333333,\"#9c179e\"],[0.4444444444444444,\"#bd3786\"],[0.5555555555555556,\"#d8576b\"],[0.6666666666666666,\"#ed7953\"],[0.7777777777777778,\"#fb9f3a\"],[0.8888888888888888,\"#fdca26\"],[1.0,\"#f0f921\"]]}],\"choropleth\":[{\"type\":\"choropleth\",\"colorbar\":{\"outlinewidth\":0,\"ticks\":\"\"}}],\"histogram2d\":[{\"type\":\"histogram2d\",\"colorbar\":{\"outlinewidth\":0,\"ticks\":\"\"},\"colorscale\":[[0.0,\"#0d0887\"],[0.1111111111111111,\"#46039f\"],[0.2222222222222222,\"#7201a8\"],[0.3333333333333333,\"#9c179e\"],[0.4444444444444444,\"#bd3786\"],[0.5555555555555556,\"#d8576b\"],[0.6666666666666666,\"#ed7953\"],[0.7777777777777778,\"#fb9f3a\"],[0.8888888888888888,\"#fdca26\"],[1.0,\"#f0f921\"]]}],\"heatmap\":[{\"type\":\"heatmap\",\"colorbar\":{\"outlinewidth\":0,\"ticks\":\"\"},\"colorscale\":[[0.0,\"#0d0887\"],[0.1111111111111111,\"#46039f\"],[0.2222222222222222,\"#7201a8\"],[0.3333333333333333,\"#9c179e\"],[0.4444444444444444,\"#bd3786\"],[0.5555555555555556,\"#d8576b\"],[0.6666666666666666,\"#ed7953\"],[0.7777777777777778,\"#fb9f3a\"],[0.8888888888888888,\"#fdca26\"],[1.0,\"#f0f921\"]]}],\"heatmapgl\":[{\"type\":\"heatmapgl\",\"colorbar\":{\"outlinewidth\":0,\"ticks\":\"\"},\"colorscale\":[[0.0,\"#0d0887\"],[0.1111111111111111,\"#46039f\"],[0.2222222222222222,\"#7201a8\"],[0.3333333333333333,\"#9c179e\"],[0.4444444444444444,\"#bd3786\"],[0.5555555555555556,\"#d8576b\"],[0.6666666666666666,\"#ed7953\"],[0.7777777777777778,\"#fb9f3a\"],[0.8888888888888888,\"#fdca26\"],[1.0,\"#f0f921\"]]}],\"contourcarpet\":[{\"type\":\"contourcarpet\",\"colorbar\":{\"outlinewidth\":0,\"ticks\":\"\"}}],\"contour\":[{\"type\":\"contour\",\"colorbar\":{\"outlinewidth\":0,\"ticks\":\"\"},\"colorscale\":[[0.0,\"#0d0887\"],[0.1111111111111111,\"#46039f\"],[0.2222222222222222,\"#7201a8\"],[0.3333333333333333,\"#9c179e\"],[0.4444444444444444,\"#bd3786\"],[0.5555555555555556,\"#d8576b\"],[0.6666666666666666,\"#ed7953\"],[0.7777777777777778,\"#fb9f3a\"],[0.8888888888888888,\"#fdca26\"],[1.0,\"#f0f921\"]]}],\"surface\":[{\"type\":\"surface\",\"colorbar\":{\"outlinewidth\":0,\"ticks\":\"\"},\"colorscale\":[[0.0,\"#0d0887\"],[0.1111111111111111,\"#46039f\"],[0.2222222222222222,\"#7201a8\"],[0.3333333333333333,\"#9c179e\"],[0.4444444444444444,\"#bd3786\"],[0.5555555555555556,\"#d8576b\"],[0.6666666666666666,\"#ed7953\"],[0.7777777777777778,\"#fb9f3a\"],[0.8888888888888888,\"#fdca26\"],[1.0,\"#f0f921\"]]}],\"mesh3d\":[{\"type\":\"mesh3d\",\"colorbar\":{\"outlinewidth\":0,\"ticks\":\"\"}}],\"scatter\":[{\"fillpattern\":{\"fillmode\":\"overlay\",\"size\":10,\"solidity\":0.2},\"type\":\"scatter\"}],\"parcoords\":[{\"type\":\"parcoords\",\"line\":{\"colorbar\":{\"outlinewidth\":0,\"ticks\":\"\"}}}],\"scatterpolargl\":[{\"type\":\"scatterpolargl\",\"marker\":{\"colorbar\":{\"outlinewidth\":0,\"ticks\":\"\"}}}],\"bar\":[{\"error_x\":{\"color\":\"#2a3f5f\"},\"error_y\":{\"color\":\"#2a3f5f\"},\"marker\":{\"line\":{\"color\":\"#E5ECF6\",\"width\":0.5},\"pattern\":{\"fillmode\":\"overlay\",\"size\":10,\"solidity\":0.2}},\"type\":\"bar\"}],\"scattergeo\":[{\"type\":\"scattergeo\",\"marker\":{\"colorbar\":{\"outlinewidth\":0,\"ticks\":\"\"}}}],\"scatterpolar\":[{\"type\":\"scatterpolar\",\"marker\":{\"colorbar\":{\"outlinewidth\":0,\"ticks\":\"\"}}}],\"histogram\":[{\"marker\":{\"pattern\":{\"fillmode\":\"overlay\",\"size\":10,\"solidity\":0.2}},\"type\":\"histogram\"}],\"scattergl\":[{\"type\":\"scattergl\",\"marker\":{\"colorbar\":{\"outlinewidth\":0,\"ticks\":\"\"}}}],\"scatter3d\":[{\"type\":\"scatter3d\",\"line\":{\"colorbar\":{\"outlinewidth\":0,\"ticks\":\"\"}},\"marker\":{\"colorbar\":{\"outlinewidth\":0,\"ticks\":\"\"}}}],\"scattermapbox\":[{\"type\":\"scattermapbox\",\"marker\":{\"colorbar\":{\"outlinewidth\":0,\"ticks\":\"\"}}}],\"scatterternary\":[{\"type\":\"scatterternary\",\"marker\":{\"colorbar\":{\"outlinewidth\":0,\"ticks\":\"\"}}}],\"scattercarpet\":[{\"type\":\"scattercarpet\",\"marker\":{\"colorbar\":{\"outlinewidth\":0,\"ticks\":\"\"}}}],\"carpet\":[{\"aaxis\":{\"endlinecolor\":\"#2a3f5f\",\"gridcolor\":\"white\",\"linecolor\":\"white\",\"minorgridcolor\":\"white\",\"startlinecolor\":\"#2a3f5f\"},\"baxis\":{\"endlinecolor\":\"#2a3f5f\",\"gridcolor\":\"white\",\"linecolor\":\"white\",\"minorgridcolor\":\"white\",\"startlinecolor\":\"#2a3f5f\"},\"type\":\"carpet\"}],\"table\":[{\"cells\":{\"fill\":{\"color\":\"#EBF0F8\"},\"line\":{\"color\":\"white\"}},\"header\":{\"fill\":{\"color\":\"#C8D4E3\"},\"line\":{\"color\":\"white\"}},\"type\":\"table\"}],\"barpolar\":[{\"marker\":{\"line\":{\"color\":\"#E5ECF6\",\"width\":0.5},\"pattern\":{\"fillmode\":\"overlay\",\"size\":10,\"solidity\":0.2}},\"type\":\"barpolar\"}],\"pie\":[{\"automargin\":true,\"type\":\"pie\"}]},\"layout\":{\"autotypenumbers\":\"strict\",\"colorway\":[\"#636efa\",\"#EF553B\",\"#00cc96\",\"#ab63fa\",\"#FFA15A\",\"#19d3f3\",\"#FF6692\",\"#B6E880\",\"#FF97FF\",\"#FECB52\"],\"font\":{\"color\":\"#2a3f5f\"},\"hovermode\":\"closest\",\"hoverlabel\":{\"align\":\"left\"},\"paper_bgcolor\":\"white\",\"plot_bgcolor\":\"#E5ECF6\",\"polar\":{\"bgcolor\":\"#E5ECF6\",\"angularaxis\":{\"gridcolor\":\"white\",\"linecolor\":\"white\",\"ticks\":\"\"},\"radialaxis\":{\"gridcolor\":\"white\",\"linecolor\":\"white\",\"ticks\":\"\"}},\"ternary\":{\"bgcolor\":\"#E5ECF6\",\"aaxis\":{\"gridcolor\":\"white\",\"linecolor\":\"white\",\"ticks\":\"\"},\"baxis\":{\"gridcolor\":\"white\",\"linecolor\":\"white\",\"ticks\":\"\"},\"caxis\":{\"gridcolor\":\"white\",\"linecolor\":\"white\",\"ticks\":\"\"}},\"coloraxis\":{\"colorbar\":{\"outlinewidth\":0,\"ticks\":\"\"}},\"colorscale\":{\"sequential\":[[0.0,\"#0d0887\"],[0.1111111111111111,\"#46039f\"],[0.2222222222222222,\"#7201a8\"],[0.3333333333333333,\"#9c179e\"],[0.4444444444444444,\"#bd3786\"],[0.5555555555555556,\"#d8576b\"],[0.6666666666666666,\"#ed7953\"],[0.7777777777777778,\"#fb9f3a\"],[0.8888888888888888,\"#fdca26\"],[1.0,\"#f0f921\"]],\"sequentialminus\":[[0.0,\"#0d0887\"],[0.1111111111111111,\"#46039f\"],[0.2222222222222222,\"#7201a8\"],[0.3333333333333333,\"#9c179e\"],[0.4444444444444444,\"#bd3786\"],[0.5555555555555556,\"#d8576b\"],[0.6666666666666666,\"#ed7953\"],[0.7777777777777778,\"#fb9f3a\"],[0.8888888888888888,\"#fdca26\"],[1.0,\"#f0f921\"]],\"diverging\":[[0,\"#8e0152\"],[0.1,\"#c51b7d\"],[0.2,\"#de77ae\"],[0.3,\"#f1b6da\"],[0.4,\"#fde0ef\"],[0.5,\"#f7f7f7\"],[0.6,\"#e6f5d0\"],[0.7,\"#b8e186\"],[0.8,\"#7fbc41\"],[0.9,\"#4d9221\"],[1,\"#276419\"]]},\"xaxis\":{\"gridcolor\":\"white\",\"linecolor\":\"white\",\"ticks\":\"\",\"title\":{\"standoff\":15},\"zerolinecolor\":\"white\",\"automargin\":true,\"zerolinewidth\":2},\"yaxis\":{\"gridcolor\":\"white\",\"linecolor\":\"white\",\"ticks\":\"\",\"title\":{\"standoff\":15},\"zerolinecolor\":\"white\",\"automargin\":true,\"zerolinewidth\":2},\"scene\":{\"xaxis\":{\"backgroundcolor\":\"#E5ECF6\",\"gridcolor\":\"white\",\"linecolor\":\"white\",\"showbackground\":true,\"ticks\":\"\",\"zerolinecolor\":\"white\",\"gridwidth\":2},\"yaxis\":{\"backgroundcolor\":\"#E5ECF6\",\"gridcolor\":\"white\",\"linecolor\":\"white\",\"showbackground\":true,\"ticks\":\"\",\"zerolinecolor\":\"white\",\"gridwidth\":2},\"zaxis\":{\"backgroundcolor\":\"#E5ECF6\",\"gridcolor\":\"white\",\"linecolor\":\"white\",\"showbackground\":true,\"ticks\":\"\",\"zerolinecolor\":\"white\",\"gridwidth\":2}},\"shapedefaults\":{\"line\":{\"color\":\"#2a3f5f\"}},\"annotationdefaults\":{\"arrowcolor\":\"#2a3f5f\",\"arrowhead\":0,\"arrowwidth\":1},\"geo\":{\"bgcolor\":\"white\",\"landcolor\":\"#E5ECF6\",\"subunitcolor\":\"white\",\"showland\":true,\"showlakes\":true,\"lakecolor\":\"white\"},\"title\":{\"x\":0.05},\"mapbox\":{\"style\":\"light\"}}}},                        {\"responsive\": true}                    ).then(function(){\n",
              "                            \n",
              "var gd = document.getElementById('948cbba7-7c8c-47bf-8f3a-97fba1dd15b2');\n",
              "var x = new MutationObserver(function (mutations, observer) {{\n",
              "        var display = window.getComputedStyle(gd).display;\n",
              "        if (!display || display === 'none') {{\n",
              "            console.log([gd, 'removed!']);\n",
              "            Plotly.purge(gd);\n",
              "            observer.disconnect();\n",
              "        }}\n",
              "}});\n",
              "\n",
              "// Listen for the removal of the full notebook cells\n",
              "var notebookContainer = gd.closest('#notebook-container');\n",
              "if (notebookContainer) {{\n",
              "    x.observe(notebookContainer, {childList: true});\n",
              "}}\n",
              "\n",
              "// Listen for the clearing of the current output cell\n",
              "var outputEl = gd.closest('.output');\n",
              "if (outputEl) {{\n",
              "    x.observe(outputEl, {childList: true});\n",
              "}}\n",
              "\n",
              "                        })                };                            </script>        </div>\n",
              "</body>\n",
              "</html>"
            ]
          },
          "metadata": {}
        }
      ],
      "source": [
        "kmeans_analysisx.return_k_clusters_3d_scatter_plot \\\n",
        "    (crypto_pca_dataframe, 10, colors_string_list,\n",
        "     '6.4.2: Cryptocurrency Data Using PCA 3-D Scatter Plot (k=10)', ['PCA1', 'PCA2', 'PCA3'])"
      ]
    },
    {
      "cell_type": "code",
      "execution_count": null,
      "id": "37470e41",
      "metadata": {
        "colab": {
          "base_uri": "https://localhost:8080/",
          "height": 917
        },
        "id": "37470e41",
        "outputId": "c3d0d334-9134-4b91-86e8-d6ea7c3fc77a"
      },
      "outputs": [
        {
          "output_type": "display_data",
          "data": {
            "text/html": [
              "<html>\n",
              "<head><meta charset=\"utf-8\" /></head>\n",
              "<body>\n",
              "    <div>            <script src=\"https://cdnjs.cloudflare.com/ajax/libs/mathjax/2.7.5/MathJax.js?config=TeX-AMS-MML_SVG\"></script><script type=\"text/javascript\">if (window.MathJax && window.MathJax.Hub && window.MathJax.Hub.Config) {window.MathJax.Hub.Config({SVG: {font: \"STIX-Web\"}});}</script>                <script type=\"text/javascript\">window.PlotlyConfig = {MathJaxConfig: 'local'};</script>\n",
              "        <script charset=\"utf-8\" src=\"https://cdn.plot.ly/plotly-2.31.1.min.js\"></script>                <div id=\"292032b2-4281-4568-bfdb-2c73ab8f90bb\" class=\"plotly-graph-div\" style=\"height:900px; width:900px;\"></div>            <script type=\"text/javascript\">                                    window.PLOTLYENV=window.PLOTLYENV || {};                                    if (document.getElementById(\"292032b2-4281-4568-bfdb-2c73ab8f90bb\")) {                    Plotly.newPlot(                        \"292032b2-4281-4568-bfdb-2c73ab8f90bb\",                        [{\"hovertemplate\":\"\\u003cb\\u003eCryptocurrency:\\u003c\\u002fb\\u003e %{text}\\u003cbr\\u003e\\u003cb\\u003ex:\\u003c\\u002fb\\u003e %{x}\\u003cbr\\u003e\\u003cb\\u003ey:\\u003c\\u002fb\\u003e %{y}\\u003cbr\\u003e\\u003cb\\u003ez:\\u003c\\u002fb\\u003e %{z}\\u003cbr\\u003e\\u003cextra\\u003e\\u003c\\u002fextra\\u003e\",\"marker\":{\"color\":[0,0,0,0,0,0,0,0,0,0,0,0,0,0,0,0,0,0,0,0,0,0,0,0,0,0,0,0,0,0,0,0,2,0,0,0,1,0,0,0,0],\"colorscale\":[[0.0,\"firebrick\"],[0.16666666666666666,\"green\"],[0.3333333333333333,\"orange\"],[0.5,\"lightsteelblue\"],[0.6666666666666666,\"gold\"],[0.8333333333333334,\"purple\"],[1.0,\"blue\"]],\"line\":{\"color\":\"black\",\"width\":1.0},\"opacity\":1.0,\"size\":7.0},\"mode\":\"markers\",\"name\":\"Points\",\"showlegend\":true,\"text\":[\"bitcoin\",\"ethereum\",\"tether\",\"ripple\",\"bitcoin-cash\",\"binancecoin\",\"chainlink\",\"cardano\",\"litecoin\",\"bitcoin-cash-sv\",\"crypto-com-chain\",\"usd-coin\",\"eos\",\"monero\",\"tron\",\"tezos\",\"okb\",\"stellar\",\"cosmos\",\"cdai\",\"neo\",\"wrapped-bitcoin\",\"leo-token\",\"huobi-token\",\"nem\",\"binance-usd\",\"iota\",\"vechain\",\"zcash\",\"theta-token\",\"dash\",\"ethereum-classic\",\"ethlend\",\"maker\",\"havven\",\"omisego\",\"celsius-degree-token\",\"ontology\",\"ftx-token\",\"true-usd\",\"digibyte\"],\"x\":[-0.6006673254375197,-0.45826071401032126,-0.43306980513657123,-0.4718349487388997,-1.1577999724406398,-0.5165337697386355,-0.4507113399717348,-0.34559976661691705,-0.6494679214405782,-0.759013942296941,-0.24819846472379042,-0.4384076222360054,-0.6934253333100024,0.06049914778108642,-0.3933524257856281,-0.7961756359232364,0.06407451856195888,-0.4890150610215555,-0.3062722976749089,-0.513527753143791,-0.3621204360718861,-0.6042646308187019,-0.4132956035721582,-0.40748303584430373,0.6089738213442363,-0.450211141106789,-0.7646652213141043,-0.5563146750187622,-0.4251467742977224,2.6768676123254984,-0.6139227463582011,-0.5799239778770782,8.089018214765613,-0.38904525957800884,0.8657618298532996,0.11167508357409268,4.792395401459594,-0.6323549165416654,-0.593142164129733,-0.4581305024102701,-0.2979104450783156],\"y\":[0.8427600624855399,0.4584656644628807,-0.16812638169325195,-0.22266007696009266,2.0412091852418346,1.3883774818625845,0.5176991167273984,0.7294393945322883,0.4321651377074032,-0.20119978804156163,-1.3762515898012422,-0.17533654196886497,-0.4738146235496463,2.9094038518367764,-0.10819197462494247,-0.4944087524150498,-1.269825135597806,-0.7327191199192675,0.7034151468998076,-0.14280239241374712,-0.9869144080114634,0.8273976353815232,-0.674115268076814,-0.2125065470533916,0.5635321240704285,-0.15101945266575217,-0.517885538792463,-1.9382090595380141,0.4929761725450791,-0.01395409962133177,-0.4793368029042946,-0.35633377052316595,-3.896890535486485,0.16504063407280317,-2.2618823859082102,0.42831576443907726,6.767678675262274,-2.108117128334043,0.021484962427633224,-0.13573403362162556,-0.1911256024328063],\"z\":[0.4615945681105948,0.9528767837135823,-0.641751929140677,-0.47905315757557276,1.8597152736981144,0.8040713050022834,2.8461431574752787,1.4780128444941134,0.6003028588105244,-0.21765291815350782,-1.4620257131124952,-0.6633884037364077,-0.527596925526791,1.4985713063809971,-0.012756080213432183,1.082811691051757,-1.0988292750751891,-0.06254323300898525,1.714223586419341,-0.6565658346817507,-0.7287523216679124,0.439315938339612,-1.0766283383557342,-0.35142562766632507,-1.1487415949964512,-0.6474006119131073,0.20499029001818542,-1.2617758874503522,1.05804837248703,-1.9652072219391366,0.3395651327382894,-0.11494201872557765,2.3013820764937623,0.3794136971555251,0.27558289140280406,-1.205397966313135,-1.9869854471135149,-0.6522273846771972,0.20991141756366843,-0.6352835704640616,-0.9096017298481481],\"type\":\"scatter3d\"},{\"hovertemplate\":\"\\u003cb\\u003eCluster %{text}\\u003c\\u002fb\\u003e\\u003cbr\\u003e\\u003cb\\u003ex:\\u003c\\u002fb\\u003e %{x}\\u003cbr\\u003e\\u003cb\\u003ey:\\u003c\\u002fb\\u003e %{y}\\u003cbr\\u003e\\u003cb\\u003ez:\\u003c\\u002fb\\u003e %{z}\\u003cbr\\u003e\\u003cextra\\u003e\\u003c\\u002fextra\\u003e\",\"marker\":{\"color\":[0,1,2],\"colorscale\":[[0.0,\"firebrick\"],[0.16666666666666666,\"green\"],[0.3333333333333333,\"orange\"],[0.5,\"lightsteelblue\"],[0.6666666666666666,\"gold\"],[0.8333333333333334,\"purple\"],[1.0,\"blue\"]],\"line\":{\"color\":\"black\",\"width\":1.5},\"opacity\":0.4,\"size\":42.0},\"mode\":\"markers\",\"name\":\"Clusters\",\"showlegend\":true,\"text\":[\"1\",\"2\",\"3\"],\"x\":[-0.3302926568262873,4.792395401459594,8.089018214765613],\"y\":[-0.07360995230194335,6.767678675262274,-3.896890535486485],\"z\":[-0.008061452035390953,-1.9869854471135149,2.3013820764937623],\"type\":\"scatter3d\"}],                        {\"height\":900,\"legend\":{\"bgcolor\":\"aliceblue\",\"font\":{\"color\":\"black\",\"family\":\"garamond\",\"size\":20.0},\"x\":1.2,\"xanchor\":\"right\",\"y\":0.8,\"yanchor\":\"top\"},\"scene\":{\"aspectmode\":\"manual\",\"aspectratio\":{\"x\":0.9,\"y\":0.9,\"z\":0.9},\"xaxis\":{\"color\":\"black\",\"gridcolor\":\"darkblue\",\"linecolor\":\"black\",\"linewidth\":2.0,\"mirror\":true,\"showbackground\":true,\"showline\":true,\"tickfont\":{\"color\":\"black\",\"family\":\"garamond\",\"size\":14},\"title\":{\"font\":{\"color\":\"black\",\"family\":\"garamond\",\"size\":18.0},\"text\":\"PCA1\"}},\"yaxis\":{\"color\":\"black\",\"gridcolor\":\"darkblue\",\"linecolor\":\"black\",\"linewidth\":2.0,\"mirror\":true,\"showbackground\":true,\"showline\":true,\"tickfont\":{\"color\":\"black\",\"family\":\"garamond\",\"size\":14.0},\"title\":{\"font\":{\"color\":\"black\",\"family\":\"garamond\",\"size\":18.0},\"text\":\"PCA2\"}},\"zaxis\":{\"color\":\"black\",\"gridcolor\":\"darkblue\",\"linecolor\":\"black\",\"linewidth\":2.0,\"mirror\":true,\"showbackground\":true,\"showline\":true,\"tickfont\":{\"color\":\"black\",\"family\":\"garamond\",\"size\":14.0},\"title\":{\"font\":{\"color\":\"black\",\"family\":\"garamond\",\"size\":18.0},\"text\":\"PCA3\"}}},\"title\":{\"font\":{\"color\":\"black\",\"family\":\"garamond\",\"size\":28.0},\"text\":\"6.4.3: Cryptocurrency Data Using PCA 3-D Scatter Plot (k=3)\",\"x\":0.5,\"y\":0.85},\"width\":900,\"template\":{\"data\":{\"histogram2dcontour\":[{\"type\":\"histogram2dcontour\",\"colorbar\":{\"outlinewidth\":0,\"ticks\":\"\"},\"colorscale\":[[0.0,\"#0d0887\"],[0.1111111111111111,\"#46039f\"],[0.2222222222222222,\"#7201a8\"],[0.3333333333333333,\"#9c179e\"],[0.4444444444444444,\"#bd3786\"],[0.5555555555555556,\"#d8576b\"],[0.6666666666666666,\"#ed7953\"],[0.7777777777777778,\"#fb9f3a\"],[0.8888888888888888,\"#fdca26\"],[1.0,\"#f0f921\"]]}],\"choropleth\":[{\"type\":\"choropleth\",\"colorbar\":{\"outlinewidth\":0,\"ticks\":\"\"}}],\"histogram2d\":[{\"type\":\"histogram2d\",\"colorbar\":{\"outlinewidth\":0,\"ticks\":\"\"},\"colorscale\":[[0.0,\"#0d0887\"],[0.1111111111111111,\"#46039f\"],[0.2222222222222222,\"#7201a8\"],[0.3333333333333333,\"#9c179e\"],[0.4444444444444444,\"#bd3786\"],[0.5555555555555556,\"#d8576b\"],[0.6666666666666666,\"#ed7953\"],[0.7777777777777778,\"#fb9f3a\"],[0.8888888888888888,\"#fdca26\"],[1.0,\"#f0f921\"]]}],\"heatmap\":[{\"type\":\"heatmap\",\"colorbar\":{\"outlinewidth\":0,\"ticks\":\"\"},\"colorscale\":[[0.0,\"#0d0887\"],[0.1111111111111111,\"#46039f\"],[0.2222222222222222,\"#7201a8\"],[0.3333333333333333,\"#9c179e\"],[0.4444444444444444,\"#bd3786\"],[0.5555555555555556,\"#d8576b\"],[0.6666666666666666,\"#ed7953\"],[0.7777777777777778,\"#fb9f3a\"],[0.8888888888888888,\"#fdca26\"],[1.0,\"#f0f921\"]]}],\"heatmapgl\":[{\"type\":\"heatmapgl\",\"colorbar\":{\"outlinewidth\":0,\"ticks\":\"\"},\"colorscale\":[[0.0,\"#0d0887\"],[0.1111111111111111,\"#46039f\"],[0.2222222222222222,\"#7201a8\"],[0.3333333333333333,\"#9c179e\"],[0.4444444444444444,\"#bd3786\"],[0.5555555555555556,\"#d8576b\"],[0.6666666666666666,\"#ed7953\"],[0.7777777777777778,\"#fb9f3a\"],[0.8888888888888888,\"#fdca26\"],[1.0,\"#f0f921\"]]}],\"contourcarpet\":[{\"type\":\"contourcarpet\",\"colorbar\":{\"outlinewidth\":0,\"ticks\":\"\"}}],\"contour\":[{\"type\":\"contour\",\"colorbar\":{\"outlinewidth\":0,\"ticks\":\"\"},\"colorscale\":[[0.0,\"#0d0887\"],[0.1111111111111111,\"#46039f\"],[0.2222222222222222,\"#7201a8\"],[0.3333333333333333,\"#9c179e\"],[0.4444444444444444,\"#bd3786\"],[0.5555555555555556,\"#d8576b\"],[0.6666666666666666,\"#ed7953\"],[0.7777777777777778,\"#fb9f3a\"],[0.8888888888888888,\"#fdca26\"],[1.0,\"#f0f921\"]]}],\"surface\":[{\"type\":\"surface\",\"colorbar\":{\"outlinewidth\":0,\"ticks\":\"\"},\"colorscale\":[[0.0,\"#0d0887\"],[0.1111111111111111,\"#46039f\"],[0.2222222222222222,\"#7201a8\"],[0.3333333333333333,\"#9c179e\"],[0.4444444444444444,\"#bd3786\"],[0.5555555555555556,\"#d8576b\"],[0.6666666666666666,\"#ed7953\"],[0.7777777777777778,\"#fb9f3a\"],[0.8888888888888888,\"#fdca26\"],[1.0,\"#f0f921\"]]}],\"mesh3d\":[{\"type\":\"mesh3d\",\"colorbar\":{\"outlinewidth\":0,\"ticks\":\"\"}}],\"scatter\":[{\"fillpattern\":{\"fillmode\":\"overlay\",\"size\":10,\"solidity\":0.2},\"type\":\"scatter\"}],\"parcoords\":[{\"type\":\"parcoords\",\"line\":{\"colorbar\":{\"outlinewidth\":0,\"ticks\":\"\"}}}],\"scatterpolargl\":[{\"type\":\"scatterpolargl\",\"marker\":{\"colorbar\":{\"outlinewidth\":0,\"ticks\":\"\"}}}],\"bar\":[{\"error_x\":{\"color\":\"#2a3f5f\"},\"error_y\":{\"color\":\"#2a3f5f\"},\"marker\":{\"line\":{\"color\":\"#E5ECF6\",\"width\":0.5},\"pattern\":{\"fillmode\":\"overlay\",\"size\":10,\"solidity\":0.2}},\"type\":\"bar\"}],\"scattergeo\":[{\"type\":\"scattergeo\",\"marker\":{\"colorbar\":{\"outlinewidth\":0,\"ticks\":\"\"}}}],\"scatterpolar\":[{\"type\":\"scatterpolar\",\"marker\":{\"colorbar\":{\"outlinewidth\":0,\"ticks\":\"\"}}}],\"histogram\":[{\"marker\":{\"pattern\":{\"fillmode\":\"overlay\",\"size\":10,\"solidity\":0.2}},\"type\":\"histogram\"}],\"scattergl\":[{\"type\":\"scattergl\",\"marker\":{\"colorbar\":{\"outlinewidth\":0,\"ticks\":\"\"}}}],\"scatter3d\":[{\"type\":\"scatter3d\",\"line\":{\"colorbar\":{\"outlinewidth\":0,\"ticks\":\"\"}},\"marker\":{\"colorbar\":{\"outlinewidth\":0,\"ticks\":\"\"}}}],\"scattermapbox\":[{\"type\":\"scattermapbox\",\"marker\":{\"colorbar\":{\"outlinewidth\":0,\"ticks\":\"\"}}}],\"scatterternary\":[{\"type\":\"scatterternary\",\"marker\":{\"colorbar\":{\"outlinewidth\":0,\"ticks\":\"\"}}}],\"scattercarpet\":[{\"type\":\"scattercarpet\",\"marker\":{\"colorbar\":{\"outlinewidth\":0,\"ticks\":\"\"}}}],\"carpet\":[{\"aaxis\":{\"endlinecolor\":\"#2a3f5f\",\"gridcolor\":\"white\",\"linecolor\":\"white\",\"minorgridcolor\":\"white\",\"startlinecolor\":\"#2a3f5f\"},\"baxis\":{\"endlinecolor\":\"#2a3f5f\",\"gridcolor\":\"white\",\"linecolor\":\"white\",\"minorgridcolor\":\"white\",\"startlinecolor\":\"#2a3f5f\"},\"type\":\"carpet\"}],\"table\":[{\"cells\":{\"fill\":{\"color\":\"#EBF0F8\"},\"line\":{\"color\":\"white\"}},\"header\":{\"fill\":{\"color\":\"#C8D4E3\"},\"line\":{\"color\":\"white\"}},\"type\":\"table\"}],\"barpolar\":[{\"marker\":{\"line\":{\"color\":\"#E5ECF6\",\"width\":0.5},\"pattern\":{\"fillmode\":\"overlay\",\"size\":10,\"solidity\":0.2}},\"type\":\"barpolar\"}],\"pie\":[{\"automargin\":true,\"type\":\"pie\"}]},\"layout\":{\"autotypenumbers\":\"strict\",\"colorway\":[\"#636efa\",\"#EF553B\",\"#00cc96\",\"#ab63fa\",\"#FFA15A\",\"#19d3f3\",\"#FF6692\",\"#B6E880\",\"#FF97FF\",\"#FECB52\"],\"font\":{\"color\":\"#2a3f5f\"},\"hovermode\":\"closest\",\"hoverlabel\":{\"align\":\"left\"},\"paper_bgcolor\":\"white\",\"plot_bgcolor\":\"#E5ECF6\",\"polar\":{\"bgcolor\":\"#E5ECF6\",\"angularaxis\":{\"gridcolor\":\"white\",\"linecolor\":\"white\",\"ticks\":\"\"},\"radialaxis\":{\"gridcolor\":\"white\",\"linecolor\":\"white\",\"ticks\":\"\"}},\"ternary\":{\"bgcolor\":\"#E5ECF6\",\"aaxis\":{\"gridcolor\":\"white\",\"linecolor\":\"white\",\"ticks\":\"\"},\"baxis\":{\"gridcolor\":\"white\",\"linecolor\":\"white\",\"ticks\":\"\"},\"caxis\":{\"gridcolor\":\"white\",\"linecolor\":\"white\",\"ticks\":\"\"}},\"coloraxis\":{\"colorbar\":{\"outlinewidth\":0,\"ticks\":\"\"}},\"colorscale\":{\"sequential\":[[0.0,\"#0d0887\"],[0.1111111111111111,\"#46039f\"],[0.2222222222222222,\"#7201a8\"],[0.3333333333333333,\"#9c179e\"],[0.4444444444444444,\"#bd3786\"],[0.5555555555555556,\"#d8576b\"],[0.6666666666666666,\"#ed7953\"],[0.7777777777777778,\"#fb9f3a\"],[0.8888888888888888,\"#fdca26\"],[1.0,\"#f0f921\"]],\"sequentialminus\":[[0.0,\"#0d0887\"],[0.1111111111111111,\"#46039f\"],[0.2222222222222222,\"#7201a8\"],[0.3333333333333333,\"#9c179e\"],[0.4444444444444444,\"#bd3786\"],[0.5555555555555556,\"#d8576b\"],[0.6666666666666666,\"#ed7953\"],[0.7777777777777778,\"#fb9f3a\"],[0.8888888888888888,\"#fdca26\"],[1.0,\"#f0f921\"]],\"diverging\":[[0,\"#8e0152\"],[0.1,\"#c51b7d\"],[0.2,\"#de77ae\"],[0.3,\"#f1b6da\"],[0.4,\"#fde0ef\"],[0.5,\"#f7f7f7\"],[0.6,\"#e6f5d0\"],[0.7,\"#b8e186\"],[0.8,\"#7fbc41\"],[0.9,\"#4d9221\"],[1,\"#276419\"]]},\"xaxis\":{\"gridcolor\":\"white\",\"linecolor\":\"white\",\"ticks\":\"\",\"title\":{\"standoff\":15},\"zerolinecolor\":\"white\",\"automargin\":true,\"zerolinewidth\":2},\"yaxis\":{\"gridcolor\":\"white\",\"linecolor\":\"white\",\"ticks\":\"\",\"title\":{\"standoff\":15},\"zerolinecolor\":\"white\",\"automargin\":true,\"zerolinewidth\":2},\"scene\":{\"xaxis\":{\"backgroundcolor\":\"#E5ECF6\",\"gridcolor\":\"white\",\"linecolor\":\"white\",\"showbackground\":true,\"ticks\":\"\",\"zerolinecolor\":\"white\",\"gridwidth\":2},\"yaxis\":{\"backgroundcolor\":\"#E5ECF6\",\"gridcolor\":\"white\",\"linecolor\":\"white\",\"showbackground\":true,\"ticks\":\"\",\"zerolinecolor\":\"white\",\"gridwidth\":2},\"zaxis\":{\"backgroundcolor\":\"#E5ECF6\",\"gridcolor\":\"white\",\"linecolor\":\"white\",\"showbackground\":true,\"ticks\":\"\",\"zerolinecolor\":\"white\",\"gridwidth\":2}},\"shapedefaults\":{\"line\":{\"color\":\"#2a3f5f\"}},\"annotationdefaults\":{\"arrowcolor\":\"#2a3f5f\",\"arrowhead\":0,\"arrowwidth\":1},\"geo\":{\"bgcolor\":\"white\",\"landcolor\":\"#E5ECF6\",\"subunitcolor\":\"white\",\"showland\":true,\"showlakes\":true,\"lakecolor\":\"white\"},\"title\":{\"x\":0.05},\"mapbox\":{\"style\":\"light\"}}}},                        {\"responsive\": true}                    ).then(function(){\n",
              "                            \n",
              "var gd = document.getElementById('292032b2-4281-4568-bfdb-2c73ab8f90bb');\n",
              "var x = new MutationObserver(function (mutations, observer) {{\n",
              "        var display = window.getComputedStyle(gd).display;\n",
              "        if (!display || display === 'none') {{\n",
              "            console.log([gd, 'removed!']);\n",
              "            Plotly.purge(gd);\n",
              "            observer.disconnect();\n",
              "        }}\n",
              "}});\n",
              "\n",
              "// Listen for the removal of the full notebook cells\n",
              "var notebookContainer = gd.closest('#notebook-container');\n",
              "if (notebookContainer) {{\n",
              "    x.observe(notebookContainer, {childList: true});\n",
              "}}\n",
              "\n",
              "// Listen for the clearing of the current output cell\n",
              "var outputEl = gd.closest('.output');\n",
              "if (outputEl) {{\n",
              "    x.observe(outputEl, {childList: true});\n",
              "}}\n",
              "\n",
              "                        })                };                            </script>        </div>\n",
              "</body>\n",
              "</html>"
            ]
          },
          "metadata": {}
        }
      ],
      "source": [
        "kmeans_analysisx.return_k_clusters_3d_scatter_plot \\\n",
        "    (crypto_pca_dataframe, 3, colors_string_list,\n",
        "     '6.4.3: Cryptocurrency Data Using PCA 3-D Scatter Plot (k=3)', ['PCA1', 'PCA2', 'PCA3'])"
      ]
    },
    {
      "cell_type": "code",
      "execution_count": null,
      "id": "cfde0e8b",
      "metadata": {
        "colab": {
          "base_uri": "https://localhost:8080/",
          "height": 917
        },
        "id": "cfde0e8b",
        "outputId": "62902aec-03a7-4e8d-992c-0020d983dbbf"
      },
      "outputs": [
        {
          "output_type": "display_data",
          "data": {
            "text/html": [
              "<html>\n",
              "<head><meta charset=\"utf-8\" /></head>\n",
              "<body>\n",
              "    <div>            <script src=\"https://cdnjs.cloudflare.com/ajax/libs/mathjax/2.7.5/MathJax.js?config=TeX-AMS-MML_SVG\"></script><script type=\"text/javascript\">if (window.MathJax && window.MathJax.Hub && window.MathJax.Hub.Config) {window.MathJax.Hub.Config({SVG: {font: \"STIX-Web\"}});}</script>                <script type=\"text/javascript\">window.PlotlyConfig = {MathJaxConfig: 'local'};</script>\n",
              "        <script charset=\"utf-8\" src=\"https://cdn.plot.ly/plotly-2.31.1.min.js\"></script>                <div id=\"c10c69eb-4de8-41e8-9799-21daf61d5fa2\" class=\"plotly-graph-div\" style=\"height:900px; width:900px;\"></div>            <script type=\"text/javascript\">                                    window.PLOTLYENV=window.PLOTLYENV || {};                                    if (document.getElementById(\"c10c69eb-4de8-41e8-9799-21daf61d5fa2\")) {                    Plotly.newPlot(                        \"c10c69eb-4de8-41e8-9799-21daf61d5fa2\",                        [{\"hovertemplate\":\"\\u003cb\\u003eCryptocurrency:\\u003c\\u002fb\\u003e %{text}\\u003cbr\\u003e\\u003cb\\u003ex:\\u003c\\u002fb\\u003e %{x}\\u003cbr\\u003e\\u003cb\\u003ey:\\u003c\\u002fb\\u003e %{y}\\u003cbr\\u003e\\u003cb\\u003ez:\\u003c\\u002fb\\u003e %{z}\\u003cbr\\u003e\\u003cextra\\u003e\\u003c\\u002fextra\\u003e\",\"marker\":{\"color\":[0,0,0,0,0,0,0,0,0,0,0,0,0,0,0,0,0,0,0,0,0,0,0,0,0,0,0,0,0,1,0,0,1,0,0,0,1,0,0,0,0],\"colorscale\":[[0.0,\"firebrick\"],[0.16666666666666666,\"green\"],[0.3333333333333333,\"orange\"],[0.5,\"lightsteelblue\"],[0.6666666666666666,\"gold\"],[0.8333333333333334,\"purple\"],[1.0,\"blue\"]],\"line\":{\"color\":\"black\",\"width\":1.0},\"opacity\":1.0,\"size\":7.0},\"mode\":\"markers\",\"name\":\"Points\",\"showlegend\":true,\"text\":[\"bitcoin\",\"ethereum\",\"tether\",\"ripple\",\"bitcoin-cash\",\"binancecoin\",\"chainlink\",\"cardano\",\"litecoin\",\"bitcoin-cash-sv\",\"crypto-com-chain\",\"usd-coin\",\"eos\",\"monero\",\"tron\",\"tezos\",\"okb\",\"stellar\",\"cosmos\",\"cdai\",\"neo\",\"wrapped-bitcoin\",\"leo-token\",\"huobi-token\",\"nem\",\"binance-usd\",\"iota\",\"vechain\",\"zcash\",\"theta-token\",\"dash\",\"ethereum-classic\",\"ethlend\",\"maker\",\"havven\",\"omisego\",\"celsius-degree-token\",\"ontology\",\"ftx-token\",\"true-usd\",\"digibyte\"],\"x\":[-0.6006673254375197,-0.45826071401032126,-0.43306980513657123,-0.4718349487388997,-1.1577999724406398,-0.5165337697386355,-0.4507113399717348,-0.34559976661691705,-0.6494679214405782,-0.759013942296941,-0.24819846472379042,-0.4384076222360054,-0.6934253333100024,0.06049914778108642,-0.3933524257856281,-0.7961756359232364,0.06407451856195888,-0.4890150610215555,-0.3062722976749089,-0.513527753143791,-0.3621204360718861,-0.6042646308187019,-0.4132956035721582,-0.40748303584430373,0.6089738213442363,-0.450211141106789,-0.7646652213141043,-0.5563146750187622,-0.4251467742977224,2.6768676123254984,-0.6139227463582011,-0.5799239778770782,8.089018214765613,-0.38904525957800884,0.8657618298532996,0.11167508357409268,4.792395401459594,-0.6323549165416654,-0.593142164129733,-0.4581305024102701,-0.2979104450783156],\"y\":[0.8427600624855399,0.4584656644628807,-0.16812638169325195,-0.22266007696009266,2.0412091852418346,1.3883774818625845,0.5176991167273984,0.7294393945322883,0.4321651377074032,-0.20119978804156163,-1.3762515898012422,-0.17533654196886497,-0.4738146235496463,2.9094038518367764,-0.10819197462494247,-0.4944087524150498,-1.269825135597806,-0.7327191199192675,0.7034151468998076,-0.14280239241374712,-0.9869144080114634,0.8273976353815232,-0.674115268076814,-0.2125065470533916,0.5635321240704285,-0.15101945266575217,-0.517885538792463,-1.9382090595380141,0.4929761725450791,-0.01395409962133177,-0.4793368029042946,-0.35633377052316595,-3.896890535486485,0.16504063407280317,-2.2618823859082102,0.42831576443907726,6.767678675262274,-2.108117128334043,0.021484962427633224,-0.13573403362162556,-0.1911256024328063],\"z\":[0.4615945681105948,0.9528767837135823,-0.641751929140677,-0.47905315757557276,1.8597152736981144,0.8040713050022834,2.8461431574752787,1.4780128444941134,0.6003028588105244,-0.21765291815350782,-1.4620257131124952,-0.6633884037364077,-0.527596925526791,1.4985713063809971,-0.012756080213432183,1.082811691051757,-1.0988292750751891,-0.06254323300898525,1.714223586419341,-0.6565658346817507,-0.7287523216679124,0.439315938339612,-1.0766283383557342,-0.35142562766632507,-1.1487415949964512,-0.6474006119131073,0.20499029001818542,-1.2617758874503522,1.05804837248703,-1.9652072219391366,0.3395651327382894,-0.11494201872557765,2.3013820764937623,0.3794136971555251,0.27558289140280406,-1.205397966313135,-1.9869854471135149,-0.6522273846771972,0.20991141756366843,-0.6352835704640616,-0.9096017298481481],\"type\":\"scatter3d\"},{\"hovertemplate\":\"\\u003cb\\u003eCluster %{text}\\u003c\\u002fb\\u003e\\u003cbr\\u003e\\u003cb\\u003ex:\\u003c\\u002fb\\u003e %{x}\\u003cbr\\u003e\\u003cb\\u003ey:\\u003c\\u002fb\\u003e %{y}\\u003cbr\\u003e\\u003cb\\u003ez:\\u003c\\u002fb\\u003e %{z}\\u003cbr\\u003e\\u003cextra\\u003e\\u003c\\u002fextra\\u003e\",\"marker\":{\"color\":[0,1],\"colorscale\":[[0.0,\"firebrick\"],[0.16666666666666666,\"green\"],[0.3333333333333333,\"orange\"],[0.5,\"lightsteelblue\"],[0.6666666666666666,\"gold\"],[0.8333333333333334,\"purple\"],[1.0,\"blue\"]],\"line\":{\"color\":\"black\",\"width\":1.5},\"opacity\":0.4,\"size\":42.0},\"mode\":\"markers\",\"name\":\"Clusters\",\"showlegend\":true,\"text\":[\"1\",\"2\"],\"x\":[-0.4094284533829132,5.186093742850234],\"y\":[-0.07517984316195944,0.952278013384819],\"z\":[0.043442384014707604,-0.5502701975196297],\"type\":\"scatter3d\"}],                        {\"height\":900,\"legend\":{\"bgcolor\":\"aliceblue\",\"font\":{\"color\":\"black\",\"family\":\"garamond\",\"size\":20.0},\"x\":1.2,\"xanchor\":\"right\",\"y\":0.8,\"yanchor\":\"top\"},\"scene\":{\"aspectmode\":\"manual\",\"aspectratio\":{\"x\":0.9,\"y\":0.9,\"z\":0.9},\"xaxis\":{\"color\":\"black\",\"gridcolor\":\"darkblue\",\"linecolor\":\"black\",\"linewidth\":2.0,\"mirror\":true,\"showbackground\":true,\"showline\":true,\"tickfont\":{\"color\":\"black\",\"family\":\"garamond\",\"size\":14},\"title\":{\"font\":{\"color\":\"black\",\"family\":\"garamond\",\"size\":18.0},\"text\":\"PCA1\"}},\"yaxis\":{\"color\":\"black\",\"gridcolor\":\"darkblue\",\"linecolor\":\"black\",\"linewidth\":2.0,\"mirror\":true,\"showbackground\":true,\"showline\":true,\"tickfont\":{\"color\":\"black\",\"family\":\"garamond\",\"size\":14.0},\"title\":{\"font\":{\"color\":\"black\",\"family\":\"garamond\",\"size\":18.0},\"text\":\"PCA2\"}},\"zaxis\":{\"color\":\"black\",\"gridcolor\":\"darkblue\",\"linecolor\":\"black\",\"linewidth\":2.0,\"mirror\":true,\"showbackground\":true,\"showline\":true,\"tickfont\":{\"color\":\"black\",\"family\":\"garamond\",\"size\":14.0},\"title\":{\"font\":{\"color\":\"black\",\"family\":\"garamond\",\"size\":18.0},\"text\":\"PCA3\"}}},\"title\":{\"font\":{\"color\":\"black\",\"family\":\"garamond\",\"size\":28.0},\"text\":\"6.4.1: Cryptocurrency Data Using PCA 3-D Scatter Plot (k=2)\",\"x\":0.5,\"y\":0.85},\"width\":900,\"template\":{\"data\":{\"histogram2dcontour\":[{\"type\":\"histogram2dcontour\",\"colorbar\":{\"outlinewidth\":0,\"ticks\":\"\"},\"colorscale\":[[0.0,\"#0d0887\"],[0.1111111111111111,\"#46039f\"],[0.2222222222222222,\"#7201a8\"],[0.3333333333333333,\"#9c179e\"],[0.4444444444444444,\"#bd3786\"],[0.5555555555555556,\"#d8576b\"],[0.6666666666666666,\"#ed7953\"],[0.7777777777777778,\"#fb9f3a\"],[0.8888888888888888,\"#fdca26\"],[1.0,\"#f0f921\"]]}],\"choropleth\":[{\"type\":\"choropleth\",\"colorbar\":{\"outlinewidth\":0,\"ticks\":\"\"}}],\"histogram2d\":[{\"type\":\"histogram2d\",\"colorbar\":{\"outlinewidth\":0,\"ticks\":\"\"},\"colorscale\":[[0.0,\"#0d0887\"],[0.1111111111111111,\"#46039f\"],[0.2222222222222222,\"#7201a8\"],[0.3333333333333333,\"#9c179e\"],[0.4444444444444444,\"#bd3786\"],[0.5555555555555556,\"#d8576b\"],[0.6666666666666666,\"#ed7953\"],[0.7777777777777778,\"#fb9f3a\"],[0.8888888888888888,\"#fdca26\"],[1.0,\"#f0f921\"]]}],\"heatmap\":[{\"type\":\"heatmap\",\"colorbar\":{\"outlinewidth\":0,\"ticks\":\"\"},\"colorscale\":[[0.0,\"#0d0887\"],[0.1111111111111111,\"#46039f\"],[0.2222222222222222,\"#7201a8\"],[0.3333333333333333,\"#9c179e\"],[0.4444444444444444,\"#bd3786\"],[0.5555555555555556,\"#d8576b\"],[0.6666666666666666,\"#ed7953\"],[0.7777777777777778,\"#fb9f3a\"],[0.8888888888888888,\"#fdca26\"],[1.0,\"#f0f921\"]]}],\"heatmapgl\":[{\"type\":\"heatmapgl\",\"colorbar\":{\"outlinewidth\":0,\"ticks\":\"\"},\"colorscale\":[[0.0,\"#0d0887\"],[0.1111111111111111,\"#46039f\"],[0.2222222222222222,\"#7201a8\"],[0.3333333333333333,\"#9c179e\"],[0.4444444444444444,\"#bd3786\"],[0.5555555555555556,\"#d8576b\"],[0.6666666666666666,\"#ed7953\"],[0.7777777777777778,\"#fb9f3a\"],[0.8888888888888888,\"#fdca26\"],[1.0,\"#f0f921\"]]}],\"contourcarpet\":[{\"type\":\"contourcarpet\",\"colorbar\":{\"outlinewidth\":0,\"ticks\":\"\"}}],\"contour\":[{\"type\":\"contour\",\"colorbar\":{\"outlinewidth\":0,\"ticks\":\"\"},\"colorscale\":[[0.0,\"#0d0887\"],[0.1111111111111111,\"#46039f\"],[0.2222222222222222,\"#7201a8\"],[0.3333333333333333,\"#9c179e\"],[0.4444444444444444,\"#bd3786\"],[0.5555555555555556,\"#d8576b\"],[0.6666666666666666,\"#ed7953\"],[0.7777777777777778,\"#fb9f3a\"],[0.8888888888888888,\"#fdca26\"],[1.0,\"#f0f921\"]]}],\"surface\":[{\"type\":\"surface\",\"colorbar\":{\"outlinewidth\":0,\"ticks\":\"\"},\"colorscale\":[[0.0,\"#0d0887\"],[0.1111111111111111,\"#46039f\"],[0.2222222222222222,\"#7201a8\"],[0.3333333333333333,\"#9c179e\"],[0.4444444444444444,\"#bd3786\"],[0.5555555555555556,\"#d8576b\"],[0.6666666666666666,\"#ed7953\"],[0.7777777777777778,\"#fb9f3a\"],[0.8888888888888888,\"#fdca26\"],[1.0,\"#f0f921\"]]}],\"mesh3d\":[{\"type\":\"mesh3d\",\"colorbar\":{\"outlinewidth\":0,\"ticks\":\"\"}}],\"scatter\":[{\"fillpattern\":{\"fillmode\":\"overlay\",\"size\":10,\"solidity\":0.2},\"type\":\"scatter\"}],\"parcoords\":[{\"type\":\"parcoords\",\"line\":{\"colorbar\":{\"outlinewidth\":0,\"ticks\":\"\"}}}],\"scatterpolargl\":[{\"type\":\"scatterpolargl\",\"marker\":{\"colorbar\":{\"outlinewidth\":0,\"ticks\":\"\"}}}],\"bar\":[{\"error_x\":{\"color\":\"#2a3f5f\"},\"error_y\":{\"color\":\"#2a3f5f\"},\"marker\":{\"line\":{\"color\":\"#E5ECF6\",\"width\":0.5},\"pattern\":{\"fillmode\":\"overlay\",\"size\":10,\"solidity\":0.2}},\"type\":\"bar\"}],\"scattergeo\":[{\"type\":\"scattergeo\",\"marker\":{\"colorbar\":{\"outlinewidth\":0,\"ticks\":\"\"}}}],\"scatterpolar\":[{\"type\":\"scatterpolar\",\"marker\":{\"colorbar\":{\"outlinewidth\":0,\"ticks\":\"\"}}}],\"histogram\":[{\"marker\":{\"pattern\":{\"fillmode\":\"overlay\",\"size\":10,\"solidity\":0.2}},\"type\":\"histogram\"}],\"scattergl\":[{\"type\":\"scattergl\",\"marker\":{\"colorbar\":{\"outlinewidth\":0,\"ticks\":\"\"}}}],\"scatter3d\":[{\"type\":\"scatter3d\",\"line\":{\"colorbar\":{\"outlinewidth\":0,\"ticks\":\"\"}},\"marker\":{\"colorbar\":{\"outlinewidth\":0,\"ticks\":\"\"}}}],\"scattermapbox\":[{\"type\":\"scattermapbox\",\"marker\":{\"colorbar\":{\"outlinewidth\":0,\"ticks\":\"\"}}}],\"scatterternary\":[{\"type\":\"scatterternary\",\"marker\":{\"colorbar\":{\"outlinewidth\":0,\"ticks\":\"\"}}}],\"scattercarpet\":[{\"type\":\"scattercarpet\",\"marker\":{\"colorbar\":{\"outlinewidth\":0,\"ticks\":\"\"}}}],\"carpet\":[{\"aaxis\":{\"endlinecolor\":\"#2a3f5f\",\"gridcolor\":\"white\",\"linecolor\":\"white\",\"minorgridcolor\":\"white\",\"startlinecolor\":\"#2a3f5f\"},\"baxis\":{\"endlinecolor\":\"#2a3f5f\",\"gridcolor\":\"white\",\"linecolor\":\"white\",\"minorgridcolor\":\"white\",\"startlinecolor\":\"#2a3f5f\"},\"type\":\"carpet\"}],\"table\":[{\"cells\":{\"fill\":{\"color\":\"#EBF0F8\"},\"line\":{\"color\":\"white\"}},\"header\":{\"fill\":{\"color\":\"#C8D4E3\"},\"line\":{\"color\":\"white\"}},\"type\":\"table\"}],\"barpolar\":[{\"marker\":{\"line\":{\"color\":\"#E5ECF6\",\"width\":0.5},\"pattern\":{\"fillmode\":\"overlay\",\"size\":10,\"solidity\":0.2}},\"type\":\"barpolar\"}],\"pie\":[{\"automargin\":true,\"type\":\"pie\"}]},\"layout\":{\"autotypenumbers\":\"strict\",\"colorway\":[\"#636efa\",\"#EF553B\",\"#00cc96\",\"#ab63fa\",\"#FFA15A\",\"#19d3f3\",\"#FF6692\",\"#B6E880\",\"#FF97FF\",\"#FECB52\"],\"font\":{\"color\":\"#2a3f5f\"},\"hovermode\":\"closest\",\"hoverlabel\":{\"align\":\"left\"},\"paper_bgcolor\":\"white\",\"plot_bgcolor\":\"#E5ECF6\",\"polar\":{\"bgcolor\":\"#E5ECF6\",\"angularaxis\":{\"gridcolor\":\"white\",\"linecolor\":\"white\",\"ticks\":\"\"},\"radialaxis\":{\"gridcolor\":\"white\",\"linecolor\":\"white\",\"ticks\":\"\"}},\"ternary\":{\"bgcolor\":\"#E5ECF6\",\"aaxis\":{\"gridcolor\":\"white\",\"linecolor\":\"white\",\"ticks\":\"\"},\"baxis\":{\"gridcolor\":\"white\",\"linecolor\":\"white\",\"ticks\":\"\"},\"caxis\":{\"gridcolor\":\"white\",\"linecolor\":\"white\",\"ticks\":\"\"}},\"coloraxis\":{\"colorbar\":{\"outlinewidth\":0,\"ticks\":\"\"}},\"colorscale\":{\"sequential\":[[0.0,\"#0d0887\"],[0.1111111111111111,\"#46039f\"],[0.2222222222222222,\"#7201a8\"],[0.3333333333333333,\"#9c179e\"],[0.4444444444444444,\"#bd3786\"],[0.5555555555555556,\"#d8576b\"],[0.6666666666666666,\"#ed7953\"],[0.7777777777777778,\"#fb9f3a\"],[0.8888888888888888,\"#fdca26\"],[1.0,\"#f0f921\"]],\"sequentialminus\":[[0.0,\"#0d0887\"],[0.1111111111111111,\"#46039f\"],[0.2222222222222222,\"#7201a8\"],[0.3333333333333333,\"#9c179e\"],[0.4444444444444444,\"#bd3786\"],[0.5555555555555556,\"#d8576b\"],[0.6666666666666666,\"#ed7953\"],[0.7777777777777778,\"#fb9f3a\"],[0.8888888888888888,\"#fdca26\"],[1.0,\"#f0f921\"]],\"diverging\":[[0,\"#8e0152\"],[0.1,\"#c51b7d\"],[0.2,\"#de77ae\"],[0.3,\"#f1b6da\"],[0.4,\"#fde0ef\"],[0.5,\"#f7f7f7\"],[0.6,\"#e6f5d0\"],[0.7,\"#b8e186\"],[0.8,\"#7fbc41\"],[0.9,\"#4d9221\"],[1,\"#276419\"]]},\"xaxis\":{\"gridcolor\":\"white\",\"linecolor\":\"white\",\"ticks\":\"\",\"title\":{\"standoff\":15},\"zerolinecolor\":\"white\",\"automargin\":true,\"zerolinewidth\":2},\"yaxis\":{\"gridcolor\":\"white\",\"linecolor\":\"white\",\"ticks\":\"\",\"title\":{\"standoff\":15},\"zerolinecolor\":\"white\",\"automargin\":true,\"zerolinewidth\":2},\"scene\":{\"xaxis\":{\"backgroundcolor\":\"#E5ECF6\",\"gridcolor\":\"white\",\"linecolor\":\"white\",\"showbackground\":true,\"ticks\":\"\",\"zerolinecolor\":\"white\",\"gridwidth\":2},\"yaxis\":{\"backgroundcolor\":\"#E5ECF6\",\"gridcolor\":\"white\",\"linecolor\":\"white\",\"showbackground\":true,\"ticks\":\"\",\"zerolinecolor\":\"white\",\"gridwidth\":2},\"zaxis\":{\"backgroundcolor\":\"#E5ECF6\",\"gridcolor\":\"white\",\"linecolor\":\"white\",\"showbackground\":true,\"ticks\":\"\",\"zerolinecolor\":\"white\",\"gridwidth\":2}},\"shapedefaults\":{\"line\":{\"color\":\"#2a3f5f\"}},\"annotationdefaults\":{\"arrowcolor\":\"#2a3f5f\",\"arrowhead\":0,\"arrowwidth\":1},\"geo\":{\"bgcolor\":\"white\",\"landcolor\":\"#E5ECF6\",\"subunitcolor\":\"white\",\"showland\":true,\"showlakes\":true,\"lakecolor\":\"white\"},\"title\":{\"x\":0.05},\"mapbox\":{\"style\":\"light\"}}}},                        {\"responsive\": true}                    ).then(function(){\n",
              "                            \n",
              "var gd = document.getElementById('c10c69eb-4de8-41e8-9799-21daf61d5fa2');\n",
              "var x = new MutationObserver(function (mutations, observer) {{\n",
              "        var display = window.getComputedStyle(gd).display;\n",
              "        if (!display || display === 'none') {{\n",
              "            console.log([gd, 'removed!']);\n",
              "            Plotly.purge(gd);\n",
              "            observer.disconnect();\n",
              "        }}\n",
              "}});\n",
              "\n",
              "// Listen for the removal of the full notebook cells\n",
              "var notebookContainer = gd.closest('#notebook-container');\n",
              "if (notebookContainer) {{\n",
              "    x.observe(notebookContainer, {childList: true});\n",
              "}}\n",
              "\n",
              "// Listen for the clearing of the current output cell\n",
              "var outputEl = gd.closest('.output');\n",
              "if (outputEl) {{\n",
              "    x.observe(outputEl, {childList: true});\n",
              "}}\n",
              "\n",
              "                        })                };                            </script>        </div>\n",
              "</body>\n",
              "</html>"
            ]
          },
          "metadata": {}
        }
      ],
      "source": [
        "kmeans_analysisx.return_k_clusters_3d_scatter_plot \\\n",
        "    (crypto_pca_dataframe, 2, colors_string_list,\n",
        "     '6.4.1: Cryptocurrency Data Using PCA 3-D Scatter Plot (k=2)', ['PCA1', 'PCA2', 'PCA3'])"
      ]
    },
    {
      "cell_type": "markdown",
      "id": "96df5da8",
      "metadata": {
        "id": "96df5da8"
      },
      "source": [
        "# <br> **Section 7: Visualize and Compare the Results**"
      ]
    },
    {
      "cell_type": "markdown",
      "id": "5771237a",
      "metadata": {
        "id": "5771237a"
      },
      "source": [
        "## **7.1: Contrast Elbow Method Line Curves for K=4**"
      ]
    },
    {
      "cell_type": "code",
      "execution_count": null,
      "id": "0139c07b",
      "metadata": {
        "colab": {
          "base_uri": "https://localhost:8080/",
          "height": 517
        },
        "id": "0139c07b",
        "outputId": "da649c18-3a87-4332-a42f-e0dd8203c348"
      },
      "outputs": [
        {
          "output_type": "display_data",
          "data": {
            "text/html": [
              "<html>\n",
              "<head><meta charset=\"utf-8\" /></head>\n",
              "<body>\n",
              "    <div>            <script src=\"https://cdnjs.cloudflare.com/ajax/libs/mathjax/2.7.5/MathJax.js?config=TeX-AMS-MML_SVG\"></script><script type=\"text/javascript\">if (window.MathJax && window.MathJax.Hub && window.MathJax.Hub.Config) {window.MathJax.Hub.Config({SVG: {font: \"STIX-Web\"}});}</script>                <script type=\"text/javascript\">window.PlotlyConfig = {MathJaxConfig: 'local'};</script>\n",
              "        <script charset=\"utf-8\" src=\"https://cdn.plot.ly/plotly-2.31.1.min.js\"></script>                <div id=\"967ea679-1956-4156-906d-f93e8a484448\" class=\"plotly-graph-div\" style=\"height:500px; width:500px;\"></div>            <script type=\"text/javascript\">                                    window.PLOTLYENV=window.PLOTLYENV || {};                                    if (document.getElementById(\"967ea679-1956-4156-906d-f93e8a484448\")) {                    Plotly.newPlot(                        \"967ea679-1956-4156-906d-f93e8a484448\",                        [{\"line\":{\"color\":\"firebrick\"},\"mode\":\"lines\",\"x\":[2,3,4,5,6,7,8,9,10],\"y\":[195.82021818036043,123.19048183836958,79.02243535120977,63.85866780584264,52.82502273293216,43.12850833066568,36.580834826847706,32.12483499249399,27.899453621081808],\"type\":\"scatter\",\"xaxis\":\"x\",\"yaxis\":\"y\"},{\"hovertemplate\":\"Number of K-Clusters: \\u003cb\\u003e%{x}\\u003c\\u002fb\\u003e\\u003cbr\\u003eScore: \\u003cb\\u003e%{y}\\u003c\\u002fb\\u003e\\u003cbr\\u003e\\u003cextra\\u003e\\u003c\\u002fextra\\u003e\",\"marker\":{\"color\":\"darkblue\",\"size\":10},\"mode\":\"markers\",\"x\":[2,3,4,5,6,7,8,9,10],\"y\":[195.82021818036043,123.19048183836958,79.02243535120977,63.85866780584264,52.82502273293216,43.12850833066568,36.580834826847706,32.12483499249399,27.899453621081808],\"type\":\"scatter\",\"xaxis\":\"x\",\"yaxis\":\"y\"}],                        {\"template\":{\"data\":{\"histogram2dcontour\":[{\"type\":\"histogram2dcontour\",\"colorbar\":{\"outlinewidth\":0,\"ticks\":\"\"},\"colorscale\":[[0.0,\"#0d0887\"],[0.1111111111111111,\"#46039f\"],[0.2222222222222222,\"#7201a8\"],[0.3333333333333333,\"#9c179e\"],[0.4444444444444444,\"#bd3786\"],[0.5555555555555556,\"#d8576b\"],[0.6666666666666666,\"#ed7953\"],[0.7777777777777778,\"#fb9f3a\"],[0.8888888888888888,\"#fdca26\"],[1.0,\"#f0f921\"]]}],\"choropleth\":[{\"type\":\"choropleth\",\"colorbar\":{\"outlinewidth\":0,\"ticks\":\"\"}}],\"histogram2d\":[{\"type\":\"histogram2d\",\"colorbar\":{\"outlinewidth\":0,\"ticks\":\"\"},\"colorscale\":[[0.0,\"#0d0887\"],[0.1111111111111111,\"#46039f\"],[0.2222222222222222,\"#7201a8\"],[0.3333333333333333,\"#9c179e\"],[0.4444444444444444,\"#bd3786\"],[0.5555555555555556,\"#d8576b\"],[0.6666666666666666,\"#ed7953\"],[0.7777777777777778,\"#fb9f3a\"],[0.8888888888888888,\"#fdca26\"],[1.0,\"#f0f921\"]]}],\"heatmap\":[{\"type\":\"heatmap\",\"colorbar\":{\"outlinewidth\":0,\"ticks\":\"\"},\"colorscale\":[[0.0,\"#0d0887\"],[0.1111111111111111,\"#46039f\"],[0.2222222222222222,\"#7201a8\"],[0.3333333333333333,\"#9c179e\"],[0.4444444444444444,\"#bd3786\"],[0.5555555555555556,\"#d8576b\"],[0.6666666666666666,\"#ed7953\"],[0.7777777777777778,\"#fb9f3a\"],[0.8888888888888888,\"#fdca26\"],[1.0,\"#f0f921\"]]}],\"heatmapgl\":[{\"type\":\"heatmapgl\",\"colorbar\":{\"outlinewidth\":0,\"ticks\":\"\"},\"colorscale\":[[0.0,\"#0d0887\"],[0.1111111111111111,\"#46039f\"],[0.2222222222222222,\"#7201a8\"],[0.3333333333333333,\"#9c179e\"],[0.4444444444444444,\"#bd3786\"],[0.5555555555555556,\"#d8576b\"],[0.6666666666666666,\"#ed7953\"],[0.7777777777777778,\"#fb9f3a\"],[0.8888888888888888,\"#fdca26\"],[1.0,\"#f0f921\"]]}],\"contourcarpet\":[{\"type\":\"contourcarpet\",\"colorbar\":{\"outlinewidth\":0,\"ticks\":\"\"}}],\"contour\":[{\"type\":\"contour\",\"colorbar\":{\"outlinewidth\":0,\"ticks\":\"\"},\"colorscale\":[[0.0,\"#0d0887\"],[0.1111111111111111,\"#46039f\"],[0.2222222222222222,\"#7201a8\"],[0.3333333333333333,\"#9c179e\"],[0.4444444444444444,\"#bd3786\"],[0.5555555555555556,\"#d8576b\"],[0.6666666666666666,\"#ed7953\"],[0.7777777777777778,\"#fb9f3a\"],[0.8888888888888888,\"#fdca26\"],[1.0,\"#f0f921\"]]}],\"surface\":[{\"type\":\"surface\",\"colorbar\":{\"outlinewidth\":0,\"ticks\":\"\"},\"colorscale\":[[0.0,\"#0d0887\"],[0.1111111111111111,\"#46039f\"],[0.2222222222222222,\"#7201a8\"],[0.3333333333333333,\"#9c179e\"],[0.4444444444444444,\"#bd3786\"],[0.5555555555555556,\"#d8576b\"],[0.6666666666666666,\"#ed7953\"],[0.7777777777777778,\"#fb9f3a\"],[0.8888888888888888,\"#fdca26\"],[1.0,\"#f0f921\"]]}],\"mesh3d\":[{\"type\":\"mesh3d\",\"colorbar\":{\"outlinewidth\":0,\"ticks\":\"\"}}],\"scatter\":[{\"fillpattern\":{\"fillmode\":\"overlay\",\"size\":10,\"solidity\":0.2},\"type\":\"scatter\"}],\"parcoords\":[{\"type\":\"parcoords\",\"line\":{\"colorbar\":{\"outlinewidth\":0,\"ticks\":\"\"}}}],\"scatterpolargl\":[{\"type\":\"scatterpolargl\",\"marker\":{\"colorbar\":{\"outlinewidth\":0,\"ticks\":\"\"}}}],\"bar\":[{\"error_x\":{\"color\":\"#2a3f5f\"},\"error_y\":{\"color\":\"#2a3f5f\"},\"marker\":{\"line\":{\"color\":\"#E5ECF6\",\"width\":0.5},\"pattern\":{\"fillmode\":\"overlay\",\"size\":10,\"solidity\":0.2}},\"type\":\"bar\"}],\"scattergeo\":[{\"type\":\"scattergeo\",\"marker\":{\"colorbar\":{\"outlinewidth\":0,\"ticks\":\"\"}}}],\"scatterpolar\":[{\"type\":\"scatterpolar\",\"marker\":{\"colorbar\":{\"outlinewidth\":0,\"ticks\":\"\"}}}],\"histogram\":[{\"marker\":{\"pattern\":{\"fillmode\":\"overlay\",\"size\":10,\"solidity\":0.2}},\"type\":\"histogram\"}],\"scattergl\":[{\"type\":\"scattergl\",\"marker\":{\"colorbar\":{\"outlinewidth\":0,\"ticks\":\"\"}}}],\"scatter3d\":[{\"type\":\"scatter3d\",\"line\":{\"colorbar\":{\"outlinewidth\":0,\"ticks\":\"\"}},\"marker\":{\"colorbar\":{\"outlinewidth\":0,\"ticks\":\"\"}}}],\"scattermapbox\":[{\"type\":\"scattermapbox\",\"marker\":{\"colorbar\":{\"outlinewidth\":0,\"ticks\":\"\"}}}],\"scatterternary\":[{\"type\":\"scatterternary\",\"marker\":{\"colorbar\":{\"outlinewidth\":0,\"ticks\":\"\"}}}],\"scattercarpet\":[{\"type\":\"scattercarpet\",\"marker\":{\"colorbar\":{\"outlinewidth\":0,\"ticks\":\"\"}}}],\"carpet\":[{\"aaxis\":{\"endlinecolor\":\"#2a3f5f\",\"gridcolor\":\"white\",\"linecolor\":\"white\",\"minorgridcolor\":\"white\",\"startlinecolor\":\"#2a3f5f\"},\"baxis\":{\"endlinecolor\":\"#2a3f5f\",\"gridcolor\":\"white\",\"linecolor\":\"white\",\"minorgridcolor\":\"white\",\"startlinecolor\":\"#2a3f5f\"},\"type\":\"carpet\"}],\"table\":[{\"cells\":{\"fill\":{\"color\":\"#EBF0F8\"},\"line\":{\"color\":\"white\"}},\"header\":{\"fill\":{\"color\":\"#C8D4E3\"},\"line\":{\"color\":\"white\"}},\"type\":\"table\"}],\"barpolar\":[{\"marker\":{\"line\":{\"color\":\"#E5ECF6\",\"width\":0.5},\"pattern\":{\"fillmode\":\"overlay\",\"size\":10,\"solidity\":0.2}},\"type\":\"barpolar\"}],\"pie\":[{\"automargin\":true,\"type\":\"pie\"}]},\"layout\":{\"autotypenumbers\":\"strict\",\"colorway\":[\"#636efa\",\"#EF553B\",\"#00cc96\",\"#ab63fa\",\"#FFA15A\",\"#19d3f3\",\"#FF6692\",\"#B6E880\",\"#FF97FF\",\"#FECB52\"],\"font\":{\"color\":\"#2a3f5f\"},\"hovermode\":\"closest\",\"hoverlabel\":{\"align\":\"left\"},\"paper_bgcolor\":\"white\",\"plot_bgcolor\":\"#E5ECF6\",\"polar\":{\"bgcolor\":\"#E5ECF6\",\"angularaxis\":{\"gridcolor\":\"white\",\"linecolor\":\"white\",\"ticks\":\"\"},\"radialaxis\":{\"gridcolor\":\"white\",\"linecolor\":\"white\",\"ticks\":\"\"}},\"ternary\":{\"bgcolor\":\"#E5ECF6\",\"aaxis\":{\"gridcolor\":\"white\",\"linecolor\":\"white\",\"ticks\":\"\"},\"baxis\":{\"gridcolor\":\"white\",\"linecolor\":\"white\",\"ticks\":\"\"},\"caxis\":{\"gridcolor\":\"white\",\"linecolor\":\"white\",\"ticks\":\"\"}},\"coloraxis\":{\"colorbar\":{\"outlinewidth\":0,\"ticks\":\"\"}},\"colorscale\":{\"sequential\":[[0.0,\"#0d0887\"],[0.1111111111111111,\"#46039f\"],[0.2222222222222222,\"#7201a8\"],[0.3333333333333333,\"#9c179e\"],[0.4444444444444444,\"#bd3786\"],[0.5555555555555556,\"#d8576b\"],[0.6666666666666666,\"#ed7953\"],[0.7777777777777778,\"#fb9f3a\"],[0.8888888888888888,\"#fdca26\"],[1.0,\"#f0f921\"]],\"sequentialminus\":[[0.0,\"#0d0887\"],[0.1111111111111111,\"#46039f\"],[0.2222222222222222,\"#7201a8\"],[0.3333333333333333,\"#9c179e\"],[0.4444444444444444,\"#bd3786\"],[0.5555555555555556,\"#d8576b\"],[0.6666666666666666,\"#ed7953\"],[0.7777777777777778,\"#fb9f3a\"],[0.8888888888888888,\"#fdca26\"],[1.0,\"#f0f921\"]],\"diverging\":[[0,\"#8e0152\"],[0.1,\"#c51b7d\"],[0.2,\"#de77ae\"],[0.3,\"#f1b6da\"],[0.4,\"#fde0ef\"],[0.5,\"#f7f7f7\"],[0.6,\"#e6f5d0\"],[0.7,\"#b8e186\"],[0.8,\"#7fbc41\"],[0.9,\"#4d9221\"],[1,\"#276419\"]]},\"xaxis\":{\"gridcolor\":\"white\",\"linecolor\":\"white\",\"ticks\":\"\",\"title\":{\"standoff\":15},\"zerolinecolor\":\"white\",\"automargin\":true,\"zerolinewidth\":2},\"yaxis\":{\"gridcolor\":\"white\",\"linecolor\":\"white\",\"ticks\":\"\",\"title\":{\"standoff\":15},\"zerolinecolor\":\"white\",\"automargin\":true,\"zerolinewidth\":2},\"scene\":{\"xaxis\":{\"backgroundcolor\":\"#E5ECF6\",\"gridcolor\":\"white\",\"linecolor\":\"white\",\"showbackground\":true,\"ticks\":\"\",\"zerolinecolor\":\"white\",\"gridwidth\":2},\"yaxis\":{\"backgroundcolor\":\"#E5ECF6\",\"gridcolor\":\"white\",\"linecolor\":\"white\",\"showbackground\":true,\"ticks\":\"\",\"zerolinecolor\":\"white\",\"gridwidth\":2},\"zaxis\":{\"backgroundcolor\":\"#E5ECF6\",\"gridcolor\":\"white\",\"linecolor\":\"white\",\"showbackground\":true,\"ticks\":\"\",\"zerolinecolor\":\"white\",\"gridwidth\":2}},\"shapedefaults\":{\"line\":{\"color\":\"#2a3f5f\"}},\"annotationdefaults\":{\"arrowcolor\":\"#2a3f5f\",\"arrowhead\":0,\"arrowwidth\":1},\"geo\":{\"bgcolor\":\"white\",\"landcolor\":\"#E5ECF6\",\"subunitcolor\":\"white\",\"showland\":true,\"showlakes\":true,\"lakecolor\":\"white\"},\"title\":{\"x\":0.05},\"mapbox\":{\"style\":\"light\"}}},\"xaxis\":{\"anchor\":\"y\",\"domain\":[0.0,1.0],\"tickfont\":{\"color\":\"black\",\"family\":\"garamond\",\"size\":14.0},\"tick0\":1.0,\"dtick\":1.0,\"tickmode\":\"linear\",\"linecolor\":\"black\",\"linewidth\":2.0,\"mirror\":true,\"showline\":true},\"yaxis\":{\"anchor\":\"x\",\"domain\":[0.0,1.0],\"tickfont\":{\"color\":\"black\",\"family\":\"garamond\",\"size\":14.0},\"linecolor\":\"black\",\"linewidth\":2.0,\"mirror\":true,\"showline\":true,\"title\":{\"font\":{\"color\":\"black\",\"family\":\"garamond\",\"size\":18.0},\"text\":\"Score\"}},\"annotations\":[{\"font\":{\"color\":\"black\",\"family\":\"garamond\",\"size\":20.0},\"showarrow\":false,\"text\":\"WCSS Elbow\",\"x\":0.5,\"xanchor\":\"center\",\"xref\":\"paper\",\"y\":1.0,\"yanchor\":\"bottom\",\"yref\":\"paper\",\"yshift\":10.0}],\"shapes\":[{\"line\":{\"color\":\"black\",\"dash\":\"dash\",\"width\":2.0},\"type\":\"line\",\"x0\":4,\"x1\":4,\"xref\":\"x\",\"y0\":0,\"y1\":1,\"yref\":\"y domain\"}],\"title\":{\"font\":{\"color\":\"black\",\"family\":\"garamond\",\"size\":24.0},\"text\":\"7.1.1: K-Means WCSS Elbow Method (Original)\"},\"height\":500,\"width\":500,\"showlegend\":false},                        {\"responsive\": true}                    ).then(function(){\n",
              "                            \n",
              "var gd = document.getElementById('967ea679-1956-4156-906d-f93e8a484448');\n",
              "var x = new MutationObserver(function (mutations, observer) {{\n",
              "        var display = window.getComputedStyle(gd).display;\n",
              "        if (!display || display === 'none') {{\n",
              "            console.log([gd, 'removed!']);\n",
              "            Plotly.purge(gd);\n",
              "            observer.disconnect();\n",
              "        }}\n",
              "}});\n",
              "\n",
              "// Listen for the removal of the full notebook cells\n",
              "var notebookContainer = gd.closest('#notebook-container');\n",
              "if (notebookContainer) {{\n",
              "    x.observe(notebookContainer, {childList: true});\n",
              "}}\n",
              "\n",
              "// Listen for the clearing of the current output cell\n",
              "var outputEl = gd.closest('.output');\n",
              "if (outputEl) {{\n",
              "    x.observe(outputEl, {childList: true});\n",
              "}}\n",
              "\n",
              "                        })                };                            </script>        </div>\n",
              "</body>\n",
              "</html>"
            ]
          },
          "metadata": {}
        }
      ],
      "source": [
        "kmeans_analysisx.return_cluster_plots \\\n",
        "    ([optimal_k_elbow_integer], [inertia_elbow_series],\n",
        "     colors_string_list, '7.1.1: K-Means WCSS Elbow Method (Original)')"
      ]
    },
    {
      "cell_type": "code",
      "execution_count": null,
      "id": "a6609853",
      "metadata": {
        "colab": {
          "base_uri": "https://localhost:8080/",
          "height": 517
        },
        "id": "a6609853",
        "outputId": "a41a4d44-2861-42ff-d437-51b4a7ca588c"
      },
      "outputs": [
        {
          "output_type": "display_data",
          "data": {
            "text/html": [
              "<html>\n",
              "<head><meta charset=\"utf-8\" /></head>\n",
              "<body>\n",
              "    <div>            <script src=\"https://cdnjs.cloudflare.com/ajax/libs/mathjax/2.7.5/MathJax.js?config=TeX-AMS-MML_SVG\"></script><script type=\"text/javascript\">if (window.MathJax && window.MathJax.Hub && window.MathJax.Hub.Config) {window.MathJax.Hub.Config({SVG: {font: \"STIX-Web\"}});}</script>                <script type=\"text/javascript\">window.PlotlyConfig = {MathJaxConfig: 'local'};</script>\n",
              "        <script charset=\"utf-8\" src=\"https://cdn.plot.ly/plotly-2.31.1.min.js\"></script>                <div id=\"0332e35c-367f-4932-97da-6c668e97d2cb\" class=\"plotly-graph-div\" style=\"height:500px; width:500px;\"></div>            <script type=\"text/javascript\">                                    window.PLOTLYENV=window.PLOTLYENV || {};                                    if (document.getElementById(\"0332e35c-367f-4932-97da-6c668e97d2cb\")) {                    Plotly.newPlot(                        \"0332e35c-367f-4932-97da-6c668e97d2cb\",                        [{\"line\":{\"color\":\"firebrick\"},\"mode\":\"lines\",\"x\":[2,3,4,5,6,7,8,9,10],\"y\":[165.90199402036004,93.7746256805729,49.665496651797355,37.839465986812414,27.618971787957424,21.134056037473606,17.016962140077418,13.593650379876724,10.484890485976916],\"type\":\"scatter\",\"xaxis\":\"x\",\"yaxis\":\"y\"},{\"hovertemplate\":\"Number of K-Clusters: \\u003cb\\u003e%{x}\\u003c\\u002fb\\u003e\\u003cbr\\u003eScore: \\u003cb\\u003e%{y}\\u003c\\u002fb\\u003e\\u003cbr\\u003e\\u003cextra\\u003e\\u003c\\u002fextra\\u003e\",\"marker\":{\"color\":\"darkblue\",\"size\":10},\"mode\":\"markers\",\"x\":[2,3,4,5,6,7,8,9,10],\"y\":[165.90199402036004,93.7746256805729,49.665496651797355,37.839465986812414,27.618971787957424,21.134056037473606,17.016962140077418,13.593650379876724,10.484890485976916],\"type\":\"scatter\",\"xaxis\":\"x\",\"yaxis\":\"y\"}],                        {\"template\":{\"data\":{\"histogram2dcontour\":[{\"type\":\"histogram2dcontour\",\"colorbar\":{\"outlinewidth\":0,\"ticks\":\"\"},\"colorscale\":[[0.0,\"#0d0887\"],[0.1111111111111111,\"#46039f\"],[0.2222222222222222,\"#7201a8\"],[0.3333333333333333,\"#9c179e\"],[0.4444444444444444,\"#bd3786\"],[0.5555555555555556,\"#d8576b\"],[0.6666666666666666,\"#ed7953\"],[0.7777777777777778,\"#fb9f3a\"],[0.8888888888888888,\"#fdca26\"],[1.0,\"#f0f921\"]]}],\"choropleth\":[{\"type\":\"choropleth\",\"colorbar\":{\"outlinewidth\":0,\"ticks\":\"\"}}],\"histogram2d\":[{\"type\":\"histogram2d\",\"colorbar\":{\"outlinewidth\":0,\"ticks\":\"\"},\"colorscale\":[[0.0,\"#0d0887\"],[0.1111111111111111,\"#46039f\"],[0.2222222222222222,\"#7201a8\"],[0.3333333333333333,\"#9c179e\"],[0.4444444444444444,\"#bd3786\"],[0.5555555555555556,\"#d8576b\"],[0.6666666666666666,\"#ed7953\"],[0.7777777777777778,\"#fb9f3a\"],[0.8888888888888888,\"#fdca26\"],[1.0,\"#f0f921\"]]}],\"heatmap\":[{\"type\":\"heatmap\",\"colorbar\":{\"outlinewidth\":0,\"ticks\":\"\"},\"colorscale\":[[0.0,\"#0d0887\"],[0.1111111111111111,\"#46039f\"],[0.2222222222222222,\"#7201a8\"],[0.3333333333333333,\"#9c179e\"],[0.4444444444444444,\"#bd3786\"],[0.5555555555555556,\"#d8576b\"],[0.6666666666666666,\"#ed7953\"],[0.7777777777777778,\"#fb9f3a\"],[0.8888888888888888,\"#fdca26\"],[1.0,\"#f0f921\"]]}],\"heatmapgl\":[{\"type\":\"heatmapgl\",\"colorbar\":{\"outlinewidth\":0,\"ticks\":\"\"},\"colorscale\":[[0.0,\"#0d0887\"],[0.1111111111111111,\"#46039f\"],[0.2222222222222222,\"#7201a8\"],[0.3333333333333333,\"#9c179e\"],[0.4444444444444444,\"#bd3786\"],[0.5555555555555556,\"#d8576b\"],[0.6666666666666666,\"#ed7953\"],[0.7777777777777778,\"#fb9f3a\"],[0.8888888888888888,\"#fdca26\"],[1.0,\"#f0f921\"]]}],\"contourcarpet\":[{\"type\":\"contourcarpet\",\"colorbar\":{\"outlinewidth\":0,\"ticks\":\"\"}}],\"contour\":[{\"type\":\"contour\",\"colorbar\":{\"outlinewidth\":0,\"ticks\":\"\"},\"colorscale\":[[0.0,\"#0d0887\"],[0.1111111111111111,\"#46039f\"],[0.2222222222222222,\"#7201a8\"],[0.3333333333333333,\"#9c179e\"],[0.4444444444444444,\"#bd3786\"],[0.5555555555555556,\"#d8576b\"],[0.6666666666666666,\"#ed7953\"],[0.7777777777777778,\"#fb9f3a\"],[0.8888888888888888,\"#fdca26\"],[1.0,\"#f0f921\"]]}],\"surface\":[{\"type\":\"surface\",\"colorbar\":{\"outlinewidth\":0,\"ticks\":\"\"},\"colorscale\":[[0.0,\"#0d0887\"],[0.1111111111111111,\"#46039f\"],[0.2222222222222222,\"#7201a8\"],[0.3333333333333333,\"#9c179e\"],[0.4444444444444444,\"#bd3786\"],[0.5555555555555556,\"#d8576b\"],[0.6666666666666666,\"#ed7953\"],[0.7777777777777778,\"#fb9f3a\"],[0.8888888888888888,\"#fdca26\"],[1.0,\"#f0f921\"]]}],\"mesh3d\":[{\"type\":\"mesh3d\",\"colorbar\":{\"outlinewidth\":0,\"ticks\":\"\"}}],\"scatter\":[{\"fillpattern\":{\"fillmode\":\"overlay\",\"size\":10,\"solidity\":0.2},\"type\":\"scatter\"}],\"parcoords\":[{\"type\":\"parcoords\",\"line\":{\"colorbar\":{\"outlinewidth\":0,\"ticks\":\"\"}}}],\"scatterpolargl\":[{\"type\":\"scatterpolargl\",\"marker\":{\"colorbar\":{\"outlinewidth\":0,\"ticks\":\"\"}}}],\"bar\":[{\"error_x\":{\"color\":\"#2a3f5f\"},\"error_y\":{\"color\":\"#2a3f5f\"},\"marker\":{\"line\":{\"color\":\"#E5ECF6\",\"width\":0.5},\"pattern\":{\"fillmode\":\"overlay\",\"size\":10,\"solidity\":0.2}},\"type\":\"bar\"}],\"scattergeo\":[{\"type\":\"scattergeo\",\"marker\":{\"colorbar\":{\"outlinewidth\":0,\"ticks\":\"\"}}}],\"scatterpolar\":[{\"type\":\"scatterpolar\",\"marker\":{\"colorbar\":{\"outlinewidth\":0,\"ticks\":\"\"}}}],\"histogram\":[{\"marker\":{\"pattern\":{\"fillmode\":\"overlay\",\"size\":10,\"solidity\":0.2}},\"type\":\"histogram\"}],\"scattergl\":[{\"type\":\"scattergl\",\"marker\":{\"colorbar\":{\"outlinewidth\":0,\"ticks\":\"\"}}}],\"scatter3d\":[{\"type\":\"scatter3d\",\"line\":{\"colorbar\":{\"outlinewidth\":0,\"ticks\":\"\"}},\"marker\":{\"colorbar\":{\"outlinewidth\":0,\"ticks\":\"\"}}}],\"scattermapbox\":[{\"type\":\"scattermapbox\",\"marker\":{\"colorbar\":{\"outlinewidth\":0,\"ticks\":\"\"}}}],\"scatterternary\":[{\"type\":\"scatterternary\",\"marker\":{\"colorbar\":{\"outlinewidth\":0,\"ticks\":\"\"}}}],\"scattercarpet\":[{\"type\":\"scattercarpet\",\"marker\":{\"colorbar\":{\"outlinewidth\":0,\"ticks\":\"\"}}}],\"carpet\":[{\"aaxis\":{\"endlinecolor\":\"#2a3f5f\",\"gridcolor\":\"white\",\"linecolor\":\"white\",\"minorgridcolor\":\"white\",\"startlinecolor\":\"#2a3f5f\"},\"baxis\":{\"endlinecolor\":\"#2a3f5f\",\"gridcolor\":\"white\",\"linecolor\":\"white\",\"minorgridcolor\":\"white\",\"startlinecolor\":\"#2a3f5f\"},\"type\":\"carpet\"}],\"table\":[{\"cells\":{\"fill\":{\"color\":\"#EBF0F8\"},\"line\":{\"color\":\"white\"}},\"header\":{\"fill\":{\"color\":\"#C8D4E3\"},\"line\":{\"color\":\"white\"}},\"type\":\"table\"}],\"barpolar\":[{\"marker\":{\"line\":{\"color\":\"#E5ECF6\",\"width\":0.5},\"pattern\":{\"fillmode\":\"overlay\",\"size\":10,\"solidity\":0.2}},\"type\":\"barpolar\"}],\"pie\":[{\"automargin\":true,\"type\":\"pie\"}]},\"layout\":{\"autotypenumbers\":\"strict\",\"colorway\":[\"#636efa\",\"#EF553B\",\"#00cc96\",\"#ab63fa\",\"#FFA15A\",\"#19d3f3\",\"#FF6692\",\"#B6E880\",\"#FF97FF\",\"#FECB52\"],\"font\":{\"color\":\"#2a3f5f\"},\"hovermode\":\"closest\",\"hoverlabel\":{\"align\":\"left\"},\"paper_bgcolor\":\"white\",\"plot_bgcolor\":\"#E5ECF6\",\"polar\":{\"bgcolor\":\"#E5ECF6\",\"angularaxis\":{\"gridcolor\":\"white\",\"linecolor\":\"white\",\"ticks\":\"\"},\"radialaxis\":{\"gridcolor\":\"white\",\"linecolor\":\"white\",\"ticks\":\"\"}},\"ternary\":{\"bgcolor\":\"#E5ECF6\",\"aaxis\":{\"gridcolor\":\"white\",\"linecolor\":\"white\",\"ticks\":\"\"},\"baxis\":{\"gridcolor\":\"white\",\"linecolor\":\"white\",\"ticks\":\"\"},\"caxis\":{\"gridcolor\":\"white\",\"linecolor\":\"white\",\"ticks\":\"\"}},\"coloraxis\":{\"colorbar\":{\"outlinewidth\":0,\"ticks\":\"\"}},\"colorscale\":{\"sequential\":[[0.0,\"#0d0887\"],[0.1111111111111111,\"#46039f\"],[0.2222222222222222,\"#7201a8\"],[0.3333333333333333,\"#9c179e\"],[0.4444444444444444,\"#bd3786\"],[0.5555555555555556,\"#d8576b\"],[0.6666666666666666,\"#ed7953\"],[0.7777777777777778,\"#fb9f3a\"],[0.8888888888888888,\"#fdca26\"],[1.0,\"#f0f921\"]],\"sequentialminus\":[[0.0,\"#0d0887\"],[0.1111111111111111,\"#46039f\"],[0.2222222222222222,\"#7201a8\"],[0.3333333333333333,\"#9c179e\"],[0.4444444444444444,\"#bd3786\"],[0.5555555555555556,\"#d8576b\"],[0.6666666666666666,\"#ed7953\"],[0.7777777777777778,\"#fb9f3a\"],[0.8888888888888888,\"#fdca26\"],[1.0,\"#f0f921\"]],\"diverging\":[[0,\"#8e0152\"],[0.1,\"#c51b7d\"],[0.2,\"#de77ae\"],[0.3,\"#f1b6da\"],[0.4,\"#fde0ef\"],[0.5,\"#f7f7f7\"],[0.6,\"#e6f5d0\"],[0.7,\"#b8e186\"],[0.8,\"#7fbc41\"],[0.9,\"#4d9221\"],[1,\"#276419\"]]},\"xaxis\":{\"gridcolor\":\"white\",\"linecolor\":\"white\",\"ticks\":\"\",\"title\":{\"standoff\":15},\"zerolinecolor\":\"white\",\"automargin\":true,\"zerolinewidth\":2},\"yaxis\":{\"gridcolor\":\"white\",\"linecolor\":\"white\",\"ticks\":\"\",\"title\":{\"standoff\":15},\"zerolinecolor\":\"white\",\"automargin\":true,\"zerolinewidth\":2},\"scene\":{\"xaxis\":{\"backgroundcolor\":\"#E5ECF6\",\"gridcolor\":\"white\",\"linecolor\":\"white\",\"showbackground\":true,\"ticks\":\"\",\"zerolinecolor\":\"white\",\"gridwidth\":2},\"yaxis\":{\"backgroundcolor\":\"#E5ECF6\",\"gridcolor\":\"white\",\"linecolor\":\"white\",\"showbackground\":true,\"ticks\":\"\",\"zerolinecolor\":\"white\",\"gridwidth\":2},\"zaxis\":{\"backgroundcolor\":\"#E5ECF6\",\"gridcolor\":\"white\",\"linecolor\":\"white\",\"showbackground\":true,\"ticks\":\"\",\"zerolinecolor\":\"white\",\"gridwidth\":2}},\"shapedefaults\":{\"line\":{\"color\":\"#2a3f5f\"}},\"annotationdefaults\":{\"arrowcolor\":\"#2a3f5f\",\"arrowhead\":0,\"arrowwidth\":1},\"geo\":{\"bgcolor\":\"white\",\"landcolor\":\"#E5ECF6\",\"subunitcolor\":\"white\",\"showland\":true,\"showlakes\":true,\"lakecolor\":\"white\"},\"title\":{\"x\":0.05},\"mapbox\":{\"style\":\"light\"}}},\"xaxis\":{\"anchor\":\"y\",\"domain\":[0.0,1.0],\"tickfont\":{\"color\":\"black\",\"family\":\"garamond\",\"size\":14.0},\"tick0\":1.0,\"dtick\":1.0,\"tickmode\":\"linear\",\"linecolor\":\"black\",\"linewidth\":2.0,\"mirror\":true,\"showline\":true},\"yaxis\":{\"anchor\":\"x\",\"domain\":[0.0,1.0],\"tickfont\":{\"color\":\"black\",\"family\":\"garamond\",\"size\":14.0},\"linecolor\":\"black\",\"linewidth\":2.0,\"mirror\":true,\"showline\":true,\"title\":{\"font\":{\"color\":\"black\",\"family\":\"garamond\",\"size\":18.0},\"text\":\"Score\"}},\"annotations\":[{\"font\":{\"color\":\"black\",\"family\":\"garamond\",\"size\":20.0},\"showarrow\":false,\"text\":\"WCSS Elbow\",\"x\":0.5,\"xanchor\":\"center\",\"xref\":\"paper\",\"y\":1.0,\"yanchor\":\"bottom\",\"yref\":\"paper\",\"yshift\":10.0}],\"shapes\":[{\"line\":{\"color\":\"black\",\"dash\":\"dash\",\"width\":2.0},\"type\":\"line\",\"x0\":4,\"x1\":4,\"xref\":\"x\",\"y0\":0,\"y1\":1,\"yref\":\"y domain\"}],\"title\":{\"font\":{\"color\":\"black\",\"family\":\"garamond\",\"size\":24.0},\"text\":\"7.1.2: K-Means WCSS Elbow Method (PCA)\"},\"height\":500,\"width\":500,\"showlegend\":false},                        {\"responsive\": true}                    ).then(function(){\n",
              "                            \n",
              "var gd = document.getElementById('0332e35c-367f-4932-97da-6c668e97d2cb');\n",
              "var x = new MutationObserver(function (mutations, observer) {{\n",
              "        var display = window.getComputedStyle(gd).display;\n",
              "        if (!display || display === 'none') {{\n",
              "            console.log([gd, 'removed!']);\n",
              "            Plotly.purge(gd);\n",
              "            observer.disconnect();\n",
              "        }}\n",
              "}});\n",
              "\n",
              "// Listen for the removal of the full notebook cells\n",
              "var notebookContainer = gd.closest('#notebook-container');\n",
              "if (notebookContainer) {{\n",
              "    x.observe(notebookContainer, {childList: true});\n",
              "}}\n",
              "\n",
              "// Listen for the clearing of the current output cell\n",
              "var outputEl = gd.closest('.output');\n",
              "if (outputEl) {{\n",
              "    x.observe(outputEl, {childList: true});\n",
              "}}\n",
              "\n",
              "                        })                };                            </script>        </div>\n",
              "</body>\n",
              "</html>"
            ]
          },
          "metadata": {}
        }
      ],
      "source": [
        "kmeans_analysisx.return_cluster_plots \\\n",
        "    ([optimal_k_pca_elbow_integer], [inertia_pca_elbow_series],\n",
        "     colors_string_list, '7.1.2: K-Means WCSS Elbow Method (PCA)')"
      ]
    },
    {
      "cell_type": "markdown",
      "id": "f4dcab81",
      "metadata": {
        "id": "f4dcab81"
      },
      "source": [
        "## **7.2: Contrast 2-D Scatter Plots for K=4**"
      ]
    },
    {
      "cell_type": "code",
      "execution_count": null,
      "id": "07d82e7c",
      "metadata": {
        "colab": {
          "base_uri": "https://localhost:8080/",
          "height": 517
        },
        "id": "07d82e7c",
        "outputId": "f8d3153a-5d3a-43ee-f42d-cecc1fe92b06"
      },
      "outputs": [
        {
          "output_type": "display_data",
          "data": {
            "text/html": [
              "<html>\n",
              "<head><meta charset=\"utf-8\" /></head>\n",
              "<body>\n",
              "    <div>            <script src=\"https://cdnjs.cloudflare.com/ajax/libs/mathjax/2.7.5/MathJax.js?config=TeX-AMS-MML_SVG\"></script><script type=\"text/javascript\">if (window.MathJax && window.MathJax.Hub && window.MathJax.Hub.Config) {window.MathJax.Hub.Config({SVG: {font: \"STIX-Web\"}});}</script>                <script type=\"text/javascript\">window.PlotlyConfig = {MathJaxConfig: 'local'};</script>\n",
              "        <script charset=\"utf-8\" src=\"https://cdn.plot.ly/plotly-2.31.1.min.js\"></script>                <div id=\"e80cbcca-bfe9-4b52-a78f-1d1b51121279\" class=\"plotly-graph-div\" style=\"height:500px; width:500px;\"></div>            <script type=\"text/javascript\">                                    window.PLOTLYENV=window.PLOTLYENV || {};                                    if (document.getElementById(\"e80cbcca-bfe9-4b52-a78f-1d1b51121279\")) {                    Plotly.newPlot(                        \"e80cbcca-bfe9-4b52-a78f-1d1b51121279\",                        [{\"hovertemplate\":\"\\u003cb\\u003eCryptocurrency:\\u003c\\u002fb\\u003e %{text}\\u003cbr\\u003e\\u003cb\\u003ex:\\u003c\\u002fb\\u003e %{x}\\u003cbr\\u003e\\u003cb\\u003ey:\\u003c\\u002fb\\u003e %{y}\\u003cbr\\u003e\\u003cextra\\u003e\\u003c\\u002fextra\\u003e\",\"marker\":{\"color\":[3,3,0,0,3,3,3,3,3,0,0,0,0,3,0,3,0,0,3,0,0,3,0,0,0,0,0,0,3,0,0,0,2,3,0,0,1,0,0,0,0],\"colorscale\":[[0.0,\"firebrick\"],[0.16666666666666666,\"green\"],[0.3333333333333333,\"orange\"],[0.5,\"lightsteelblue\"],[0.6666666666666666,\"gold\"],[0.8333333333333334,\"purple\"],[1.0,\"blue\"]],\"line\":{\"color\":\"black\",\"width\":1.0},\"opacity\":1.0,\"size\":10.0},\"mode\":\"markers\",\"name\":\"Points\",\"showlegend\":false,\"text\":[\"bitcoin\",\"ethereum\",\"tether\",\"ripple\",\"bitcoin-cash\",\"binancecoin\",\"chainlink\",\"cardano\",\"litecoin\",\"bitcoin-cash-sv\",\"crypto-com-chain\",\"usd-coin\",\"eos\",\"monero\",\"tron\",\"tezos\",\"okb\",\"stellar\",\"cosmos\",\"cdai\",\"neo\",\"wrapped-bitcoin\",\"leo-token\",\"huobi-token\",\"nem\",\"binance-usd\",\"iota\",\"vechain\",\"zcash\",\"theta-token\",\"dash\",\"ethereum-classic\",\"ethlend\",\"maker\",\"havven\",\"omisego\",\"celsius-degree-token\",\"ontology\",\"ftx-token\",\"true-usd\",\"digibyte\"],\"x\":[0.5085293658401341,0.18544589364395297,0.021773961621223664,-0.04076438293175126,1.1930360799166912,0.8918707082925427,0.011397240027127978,0.10252980183305808,0.07749718199907564,0.44895150521769767,0.3312797828973969,0.03435226136670967,0.1557095607629728,0.2627227895414743,0.1300495287254371,-0.15158341148390198,-0.9232027409124854,-0.27754298602598954,-0.25597803962841204,0.18085113241673392,0.286545668479983,0.5154534418350357,0.05175825381618298,-0.052031503880590114,-0.21798391020006674,0.061338500038103316,0.2590973238143555,0.5850886825108372,-0.12746748971978172,-1.6121877504778772,-0.29694016690590125,-0.07131221902211765,-4.981041886343488,-0.12516823062652083,-1.428573878476343,1.9198123431080822,1.0455303437735397,-0.4090440755395801,0.41471057813276363,0.07803818413866644,1.2174525584250286],\"y\":[0.49319307062377965,0.9344450402613929,-0.7063368531568252,-0.810928065771643,2.000959067401844,1.327294532419359,2.5722509094400743,1.5080014557070824,0.334296561906924,-0.19068427753077835,-1.614843685120517,-0.7330257877190793,-0.9224908613168605,1.7926024333165838,-0.041017572912210226,0.7081957353613687,-1.4373589353557508,-0.3852089099477516,1.840274403245437,-0.7049314201514939,-0.3263014162757142,0.4618431802754836,-0.9283809754601071,-0.4572290141565338,-0.84938134802146,-0.7066687576744684,0.2495084561581842,-0.9942314669844695,0.9291186873801718,-1.6820265588951313,0.09476313600170767,-0.2294837568372758,-0.04517828983194763,0.5807301080473535,-0.025510168056776892,0.37044715731184824,-0.6183281619450216,-0.9069628116828178,0.41404416555518786,-0.6877454359891283,-0.6077135696200122],\"type\":\"scatter\",\"xaxis\":\"x\",\"yaxis\":\"y\"},{\"hovertemplate\":\"\\u003cb\\u003eCluster %{text}\\u003c\\u002fb\\u003e\\u003cbr\\u003e\\u003cb\\u003ex:\\u003c\\u002fb\\u003e %{x}\\u003cbr\\u003e\\u003cb\\u003ey:\\u003c\\u002fb\\u003e %{y}\\u003cbr\\u003e\\u003cextra\\u003e\\u003c\\u002fextra\\u003e\",\"marker\":{\"color\":[0,1,2,3],\"colorscale\":[[0.0,\"firebrick\"],[0.16666666666666666,\"green\"],[0.3333333333333333,\"orange\"],[0.5,\"lightsteelblue\"],[0.6666666666666666,\"gold\"],[0.8333333333333334,\"purple\"],[1.0,\"blue\"]],\"line\":{\"color\":\"black\",\"width\":1.5},\"opacity\":0.4,\"size\":50.0},\"mode\":\"markers\",\"name\":\"Clusters\",\"showlegend\":false,\"text\":[\"1\",\"2\",\"3\",\"4\"],\"x\":[0.03258562350382586,1.0455303437735397,-4.981041886343488,0.23756041011311357],\"y\":[-0.5699884128311491,-0.6183281619450216,-0.04517828983194763,1.1910157834912967],\"type\":\"scatter\",\"xaxis\":\"x\",\"yaxis\":\"y\"}],                        {\"template\":{\"data\":{\"histogram2dcontour\":[{\"type\":\"histogram2dcontour\",\"colorbar\":{\"outlinewidth\":0,\"ticks\":\"\"},\"colorscale\":[[0.0,\"#0d0887\"],[0.1111111111111111,\"#46039f\"],[0.2222222222222222,\"#7201a8\"],[0.3333333333333333,\"#9c179e\"],[0.4444444444444444,\"#bd3786\"],[0.5555555555555556,\"#d8576b\"],[0.6666666666666666,\"#ed7953\"],[0.7777777777777778,\"#fb9f3a\"],[0.8888888888888888,\"#fdca26\"],[1.0,\"#f0f921\"]]}],\"choropleth\":[{\"type\":\"choropleth\",\"colorbar\":{\"outlinewidth\":0,\"ticks\":\"\"}}],\"histogram2d\":[{\"type\":\"histogram2d\",\"colorbar\":{\"outlinewidth\":0,\"ticks\":\"\"},\"colorscale\":[[0.0,\"#0d0887\"],[0.1111111111111111,\"#46039f\"],[0.2222222222222222,\"#7201a8\"],[0.3333333333333333,\"#9c179e\"],[0.4444444444444444,\"#bd3786\"],[0.5555555555555556,\"#d8576b\"],[0.6666666666666666,\"#ed7953\"],[0.7777777777777778,\"#fb9f3a\"],[0.8888888888888888,\"#fdca26\"],[1.0,\"#f0f921\"]]}],\"heatmap\":[{\"type\":\"heatmap\",\"colorbar\":{\"outlinewidth\":0,\"ticks\":\"\"},\"colorscale\":[[0.0,\"#0d0887\"],[0.1111111111111111,\"#46039f\"],[0.2222222222222222,\"#7201a8\"],[0.3333333333333333,\"#9c179e\"],[0.4444444444444444,\"#bd3786\"],[0.5555555555555556,\"#d8576b\"],[0.6666666666666666,\"#ed7953\"],[0.7777777777777778,\"#fb9f3a\"],[0.8888888888888888,\"#fdca26\"],[1.0,\"#f0f921\"]]}],\"heatmapgl\":[{\"type\":\"heatmapgl\",\"colorbar\":{\"outlinewidth\":0,\"ticks\":\"\"},\"colorscale\":[[0.0,\"#0d0887\"],[0.1111111111111111,\"#46039f\"],[0.2222222222222222,\"#7201a8\"],[0.3333333333333333,\"#9c179e\"],[0.4444444444444444,\"#bd3786\"],[0.5555555555555556,\"#d8576b\"],[0.6666666666666666,\"#ed7953\"],[0.7777777777777778,\"#fb9f3a\"],[0.8888888888888888,\"#fdca26\"],[1.0,\"#f0f921\"]]}],\"contourcarpet\":[{\"type\":\"contourcarpet\",\"colorbar\":{\"outlinewidth\":0,\"ticks\":\"\"}}],\"contour\":[{\"type\":\"contour\",\"colorbar\":{\"outlinewidth\":0,\"ticks\":\"\"},\"colorscale\":[[0.0,\"#0d0887\"],[0.1111111111111111,\"#46039f\"],[0.2222222222222222,\"#7201a8\"],[0.3333333333333333,\"#9c179e\"],[0.4444444444444444,\"#bd3786\"],[0.5555555555555556,\"#d8576b\"],[0.6666666666666666,\"#ed7953\"],[0.7777777777777778,\"#fb9f3a\"],[0.8888888888888888,\"#fdca26\"],[1.0,\"#f0f921\"]]}],\"surface\":[{\"type\":\"surface\",\"colorbar\":{\"outlinewidth\":0,\"ticks\":\"\"},\"colorscale\":[[0.0,\"#0d0887\"],[0.1111111111111111,\"#46039f\"],[0.2222222222222222,\"#7201a8\"],[0.3333333333333333,\"#9c179e\"],[0.4444444444444444,\"#bd3786\"],[0.5555555555555556,\"#d8576b\"],[0.6666666666666666,\"#ed7953\"],[0.7777777777777778,\"#fb9f3a\"],[0.8888888888888888,\"#fdca26\"],[1.0,\"#f0f921\"]]}],\"mesh3d\":[{\"type\":\"mesh3d\",\"colorbar\":{\"outlinewidth\":0,\"ticks\":\"\"}}],\"scatter\":[{\"fillpattern\":{\"fillmode\":\"overlay\",\"size\":10,\"solidity\":0.2},\"type\":\"scatter\"}],\"parcoords\":[{\"type\":\"parcoords\",\"line\":{\"colorbar\":{\"outlinewidth\":0,\"ticks\":\"\"}}}],\"scatterpolargl\":[{\"type\":\"scatterpolargl\",\"marker\":{\"colorbar\":{\"outlinewidth\":0,\"ticks\":\"\"}}}],\"bar\":[{\"error_x\":{\"color\":\"#2a3f5f\"},\"error_y\":{\"color\":\"#2a3f5f\"},\"marker\":{\"line\":{\"color\":\"#E5ECF6\",\"width\":0.5},\"pattern\":{\"fillmode\":\"overlay\",\"size\":10,\"solidity\":0.2}},\"type\":\"bar\"}],\"scattergeo\":[{\"type\":\"scattergeo\",\"marker\":{\"colorbar\":{\"outlinewidth\":0,\"ticks\":\"\"}}}],\"scatterpolar\":[{\"type\":\"scatterpolar\",\"marker\":{\"colorbar\":{\"outlinewidth\":0,\"ticks\":\"\"}}}],\"histogram\":[{\"marker\":{\"pattern\":{\"fillmode\":\"overlay\",\"size\":10,\"solidity\":0.2}},\"type\":\"histogram\"}],\"scattergl\":[{\"type\":\"scattergl\",\"marker\":{\"colorbar\":{\"outlinewidth\":0,\"ticks\":\"\"}}}],\"scatter3d\":[{\"type\":\"scatter3d\",\"line\":{\"colorbar\":{\"outlinewidth\":0,\"ticks\":\"\"}},\"marker\":{\"colorbar\":{\"outlinewidth\":0,\"ticks\":\"\"}}}],\"scattermapbox\":[{\"type\":\"scattermapbox\",\"marker\":{\"colorbar\":{\"outlinewidth\":0,\"ticks\":\"\"}}}],\"scatterternary\":[{\"type\":\"scatterternary\",\"marker\":{\"colorbar\":{\"outlinewidth\":0,\"ticks\":\"\"}}}],\"scattercarpet\":[{\"type\":\"scattercarpet\",\"marker\":{\"colorbar\":{\"outlinewidth\":0,\"ticks\":\"\"}}}],\"carpet\":[{\"aaxis\":{\"endlinecolor\":\"#2a3f5f\",\"gridcolor\":\"white\",\"linecolor\":\"white\",\"minorgridcolor\":\"white\",\"startlinecolor\":\"#2a3f5f\"},\"baxis\":{\"endlinecolor\":\"#2a3f5f\",\"gridcolor\":\"white\",\"linecolor\":\"white\",\"minorgridcolor\":\"white\",\"startlinecolor\":\"#2a3f5f\"},\"type\":\"carpet\"}],\"table\":[{\"cells\":{\"fill\":{\"color\":\"#EBF0F8\"},\"line\":{\"color\":\"white\"}},\"header\":{\"fill\":{\"color\":\"#C8D4E3\"},\"line\":{\"color\":\"white\"}},\"type\":\"table\"}],\"barpolar\":[{\"marker\":{\"line\":{\"color\":\"#E5ECF6\",\"width\":0.5},\"pattern\":{\"fillmode\":\"overlay\",\"size\":10,\"solidity\":0.2}},\"type\":\"barpolar\"}],\"pie\":[{\"automargin\":true,\"type\":\"pie\"}]},\"layout\":{\"autotypenumbers\":\"strict\",\"colorway\":[\"#636efa\",\"#EF553B\",\"#00cc96\",\"#ab63fa\",\"#FFA15A\",\"#19d3f3\",\"#FF6692\",\"#B6E880\",\"#FF97FF\",\"#FECB52\"],\"font\":{\"color\":\"#2a3f5f\"},\"hovermode\":\"closest\",\"hoverlabel\":{\"align\":\"left\"},\"paper_bgcolor\":\"white\",\"plot_bgcolor\":\"#E5ECF6\",\"polar\":{\"bgcolor\":\"#E5ECF6\",\"angularaxis\":{\"gridcolor\":\"white\",\"linecolor\":\"white\",\"ticks\":\"\"},\"radialaxis\":{\"gridcolor\":\"white\",\"linecolor\":\"white\",\"ticks\":\"\"}},\"ternary\":{\"bgcolor\":\"#E5ECF6\",\"aaxis\":{\"gridcolor\":\"white\",\"linecolor\":\"white\",\"ticks\":\"\"},\"baxis\":{\"gridcolor\":\"white\",\"linecolor\":\"white\",\"ticks\":\"\"},\"caxis\":{\"gridcolor\":\"white\",\"linecolor\":\"white\",\"ticks\":\"\"}},\"coloraxis\":{\"colorbar\":{\"outlinewidth\":0,\"ticks\":\"\"}},\"colorscale\":{\"sequential\":[[0.0,\"#0d0887\"],[0.1111111111111111,\"#46039f\"],[0.2222222222222222,\"#7201a8\"],[0.3333333333333333,\"#9c179e\"],[0.4444444444444444,\"#bd3786\"],[0.5555555555555556,\"#d8576b\"],[0.6666666666666666,\"#ed7953\"],[0.7777777777777778,\"#fb9f3a\"],[0.8888888888888888,\"#fdca26\"],[1.0,\"#f0f921\"]],\"sequentialminus\":[[0.0,\"#0d0887\"],[0.1111111111111111,\"#46039f\"],[0.2222222222222222,\"#7201a8\"],[0.3333333333333333,\"#9c179e\"],[0.4444444444444444,\"#bd3786\"],[0.5555555555555556,\"#d8576b\"],[0.6666666666666666,\"#ed7953\"],[0.7777777777777778,\"#fb9f3a\"],[0.8888888888888888,\"#fdca26\"],[1.0,\"#f0f921\"]],\"diverging\":[[0,\"#8e0152\"],[0.1,\"#c51b7d\"],[0.2,\"#de77ae\"],[0.3,\"#f1b6da\"],[0.4,\"#fde0ef\"],[0.5,\"#f7f7f7\"],[0.6,\"#e6f5d0\"],[0.7,\"#b8e186\"],[0.8,\"#7fbc41\"],[0.9,\"#4d9221\"],[1,\"#276419\"]]},\"xaxis\":{\"gridcolor\":\"white\",\"linecolor\":\"white\",\"ticks\":\"\",\"title\":{\"standoff\":15},\"zerolinecolor\":\"white\",\"automargin\":true,\"zerolinewidth\":2},\"yaxis\":{\"gridcolor\":\"white\",\"linecolor\":\"white\",\"ticks\":\"\",\"title\":{\"standoff\":15},\"zerolinecolor\":\"white\",\"automargin\":true,\"zerolinewidth\":2},\"scene\":{\"xaxis\":{\"backgroundcolor\":\"#E5ECF6\",\"gridcolor\":\"white\",\"linecolor\":\"white\",\"showbackground\":true,\"ticks\":\"\",\"zerolinecolor\":\"white\",\"gridwidth\":2},\"yaxis\":{\"backgroundcolor\":\"#E5ECF6\",\"gridcolor\":\"white\",\"linecolor\":\"white\",\"showbackground\":true,\"ticks\":\"\",\"zerolinecolor\":\"white\",\"gridwidth\":2},\"zaxis\":{\"backgroundcolor\":\"#E5ECF6\",\"gridcolor\":\"white\",\"linecolor\":\"white\",\"showbackground\":true,\"ticks\":\"\",\"zerolinecolor\":\"white\",\"gridwidth\":2}},\"shapedefaults\":{\"line\":{\"color\":\"#2a3f5f\"}},\"annotationdefaults\":{\"arrowcolor\":\"#2a3f5f\",\"arrowhead\":0,\"arrowwidth\":1},\"geo\":{\"bgcolor\":\"white\",\"landcolor\":\"#E5ECF6\",\"subunitcolor\":\"white\",\"showland\":true,\"showlakes\":true,\"lakecolor\":\"white\"},\"title\":{\"x\":0.05},\"mapbox\":{\"style\":\"light\"}}},\"xaxis\":{\"anchor\":\"y\",\"domain\":[0.0,1.0],\"tickfont\":{\"color\":\"black\",\"family\":\"garamond\",\"size\":14.0},\"linecolor\":\"black\",\"linewidth\":2.0,\"mirror\":true,\"showline\":true,\"title\":{\"text\":\"Price Change Percentage 24H\",\"font\":{\"color\":\"black\",\"family\":\"garamond\",\"size\":18.0}}},\"yaxis\":{\"anchor\":\"x\",\"domain\":[0.0,1.0],\"tickfont\":{\"color\":\"black\",\"family\":\"garamond\",\"size\":14.0},\"linecolor\":\"black\",\"linewidth\":2.0,\"mirror\":true,\"showline\":true,\"title\":{\"text\":\"Price Change Percentage 7D\",\"font\":{\"color\":\"black\",\"family\":\"garamond\",\"size\":18.0}}},\"annotations\":[{\"font\":{\"size\":20.0,\"color\":\"black\",\"family\":\"garamond\"},\"showarrow\":false,\"text\":\"K-Clusters for K = 4\",\"x\":0.5,\"xanchor\":\"center\",\"xref\":\"paper\",\"y\":1.0,\"yanchor\":\"bottom\",\"yref\":\"paper\",\"yshift\":10.0}],\"title\":{\"font\":{\"color\":\"black\",\"family\":\"garamond\",\"size\":24.0},\"text\":\"7.2.1: K-Means Price Change (%) (Original)\"},\"height\":500,\"width\":500,\"showlegend\":true},                        {\"responsive\": true}                    ).then(function(){\n",
              "                            \n",
              "var gd = document.getElementById('e80cbcca-bfe9-4b52-a78f-1d1b51121279');\n",
              "var x = new MutationObserver(function (mutations, observer) {{\n",
              "        var display = window.getComputedStyle(gd).display;\n",
              "        if (!display || display === 'none') {{\n",
              "            console.log([gd, 'removed!']);\n",
              "            Plotly.purge(gd);\n",
              "            observer.disconnect();\n",
              "        }}\n",
              "}});\n",
              "\n",
              "// Listen for the removal of the full notebook cells\n",
              "var notebookContainer = gd.closest('#notebook-container');\n",
              "if (notebookContainer) {{\n",
              "    x.observe(notebookContainer, {childList: true});\n",
              "}}\n",
              "\n",
              "// Listen for the clearing of the current output cell\n",
              "var outputEl = gd.closest('.output');\n",
              "if (outputEl) {{\n",
              "    x.observe(outputEl, {childList: true});\n",
              "}}\n",
              "\n",
              "                        })                };                            </script>        </div>\n",
              "</body>\n",
              "</html>"
            ]
          },
          "metadata": {}
        }
      ],
      "source": [
        "kmeans_analysisx.return_k_clusters_2d_scatter_plot \\\n",
        "    (normalized_crypto_dataframe, [4], colors_string_list,\n",
        "     '7.2.1: K-Means Price Change (%) (Original)',\n",
        "     'price_change_percentage_24h', 'price_change_percentage_7d')"
      ]
    },
    {
      "cell_type": "code",
      "execution_count": null,
      "id": "77bcdf21",
      "metadata": {
        "colab": {
          "base_uri": "https://localhost:8080/",
          "height": 517
        },
        "id": "77bcdf21",
        "outputId": "9d6d9fc8-5e9e-463d-bb86-e7311317455d"
      },
      "outputs": [
        {
          "output_type": "display_data",
          "data": {
            "text/html": [
              "<html>\n",
              "<head><meta charset=\"utf-8\" /></head>\n",
              "<body>\n",
              "    <div>            <script src=\"https://cdnjs.cloudflare.com/ajax/libs/mathjax/2.7.5/MathJax.js?config=TeX-AMS-MML_SVG\"></script><script type=\"text/javascript\">if (window.MathJax && window.MathJax.Hub && window.MathJax.Hub.Config) {window.MathJax.Hub.Config({SVG: {font: \"STIX-Web\"}});}</script>                <script type=\"text/javascript\">window.PlotlyConfig = {MathJaxConfig: 'local'};</script>\n",
              "        <script charset=\"utf-8\" src=\"https://cdn.plot.ly/plotly-2.31.1.min.js\"></script>                <div id=\"ac2ba772-600e-4630-b4b5-be3470ae7759\" class=\"plotly-graph-div\" style=\"height:500px; width:500px;\"></div>            <script type=\"text/javascript\">                                    window.PLOTLYENV=window.PLOTLYENV || {};                                    if (document.getElementById(\"ac2ba772-600e-4630-b4b5-be3470ae7759\")) {                    Plotly.newPlot(                        \"ac2ba772-600e-4630-b4b5-be3470ae7759\",                        [{\"hovertemplate\":\"\\u003cb\\u003eCryptocurrency:\\u003c\\u002fb\\u003e %{text}\\u003cbr\\u003e\\u003cb\\u003ex:\\u003c\\u002fb\\u003e %{x}\\u003cbr\\u003e\\u003cb\\u003ey:\\u003c\\u002fb\\u003e %{y}\\u003cbr\\u003e\\u003cextra\\u003e\\u003c\\u002fextra\\u003e\",\"marker\":{\"color\":[3,3,1,1,3,3,3,3,3,1,1,1,1,3,1,3,1,1,3,1,1,3,1,1,1,1,1,1,3,1,1,1,2,3,1,1,0,1,1,1,1],\"colorscale\":[[0.0,\"firebrick\"],[0.16666666666666666,\"green\"],[0.3333333333333333,\"orange\"],[0.5,\"lightsteelblue\"],[0.6666666666666666,\"gold\"],[0.8333333333333334,\"purple\"],[1.0,\"blue\"]],\"line\":{\"color\":\"black\",\"width\":1.0},\"opacity\":1.0,\"size\":10.0},\"mode\":\"markers\",\"name\":\"Points\",\"showlegend\":false,\"text\":[\"bitcoin\",\"ethereum\",\"tether\",\"ripple\",\"bitcoin-cash\",\"binancecoin\",\"chainlink\",\"cardano\",\"litecoin\",\"bitcoin-cash-sv\",\"crypto-com-chain\",\"usd-coin\",\"eos\",\"monero\",\"tron\",\"tezos\",\"okb\",\"stellar\",\"cosmos\",\"cdai\",\"neo\",\"wrapped-bitcoin\",\"leo-token\",\"huobi-token\",\"nem\",\"binance-usd\",\"iota\",\"vechain\",\"zcash\",\"theta-token\",\"dash\",\"ethereum-classic\",\"ethlend\",\"maker\",\"havven\",\"omisego\",\"celsius-degree-token\",\"ontology\",\"ftx-token\",\"true-usd\",\"digibyte\"],\"x\":[-0.6006673254375197,-0.45826071401032126,-0.43306980513657123,-0.4718349487388997,-1.1577999724406398,-0.5165337697386355,-0.4507113399717348,-0.34559976661691705,-0.6494679214405782,-0.759013942296941,-0.24819846472379042,-0.4384076222360054,-0.6934253333100024,0.06049914778108642,-0.3933524257856281,-0.7961756359232364,0.06407451856195888,-0.4890150610215555,-0.3062722976749089,-0.513527753143791,-0.3621204360718861,-0.6042646308187019,-0.4132956035721582,-0.40748303584430373,0.6089738213442363,-0.450211141106789,-0.7646652213141043,-0.5563146750187622,-0.4251467742977224,2.6768676123254984,-0.6139227463582011,-0.5799239778770782,8.089018214765613,-0.38904525957800884,0.8657618298532996,0.11167508357409268,4.792395401459594,-0.6323549165416654,-0.593142164129733,-0.4581305024102701,-0.2979104450783156],\"y\":[0.8427600624855399,0.4584656644628807,-0.16812638169325195,-0.22266007696009266,2.0412091852418346,1.3883774818625845,0.5176991167273984,0.7294393945322883,0.4321651377074032,-0.20119978804156163,-1.3762515898012422,-0.17533654196886497,-0.4738146235496463,2.9094038518367764,-0.10819197462494247,-0.4944087524150498,-1.269825135597806,-0.7327191199192675,0.7034151468998076,-0.14280239241374712,-0.9869144080114634,0.8273976353815232,-0.674115268076814,-0.2125065470533916,0.5635321240704285,-0.15101945266575217,-0.517885538792463,-1.9382090595380141,0.4929761725450791,-0.01395409962133177,-0.4793368029042946,-0.35633377052316595,-3.896890535486485,0.16504063407280317,-2.2618823859082102,0.42831576443907726,6.767678675262274,-2.108117128334043,0.021484962427633224,-0.13573403362162556,-0.1911256024328063],\"type\":\"scatter\",\"xaxis\":\"x\",\"yaxis\":\"y\"},{\"hovertemplate\":\"\\u003cb\\u003eCluster %{text}\\u003c\\u002fb\\u003e\\u003cbr\\u003e\\u003cb\\u003ex:\\u003c\\u002fb\\u003e %{x}\\u003cbr\\u003e\\u003cb\\u003ey:\\u003c\\u002fb\\u003e %{y}\\u003cbr\\u003e\\u003cextra\\u003e\\u003c\\u002fextra\\u003e\",\"marker\":{\"color\":[0,1,2,3],\"colorscale\":[[0.0,\"firebrick\"],[0.16666666666666666,\"green\"],[0.3333333333333333,\"orange\"],[0.5,\"lightsteelblue\"],[0.6666666666666666,\"gold\"],[0.8333333333333334,\"purple\"],[1.0,\"blue\"]],\"line\":{\"color\":\"black\",\"width\":1.5},\"opacity\":0.4,\"size\":50.0},\"mode\":\"markers\",\"name\":\"Clusters\",\"showlegend\":false,\"text\":[\"1\",\"2\",\"3\",\"4\"],\"x\":[4.792395401459594,-0.24007566754066792,8.089018214765613,-0.510726635397526],\"y\":[6.767678675262274,-0.5340280335044868,-3.896890535486485,0.8472262101031439],\"type\":\"scatter\",\"xaxis\":\"x\",\"yaxis\":\"y\"}],                        {\"template\":{\"data\":{\"histogram2dcontour\":[{\"type\":\"histogram2dcontour\",\"colorbar\":{\"outlinewidth\":0,\"ticks\":\"\"},\"colorscale\":[[0.0,\"#0d0887\"],[0.1111111111111111,\"#46039f\"],[0.2222222222222222,\"#7201a8\"],[0.3333333333333333,\"#9c179e\"],[0.4444444444444444,\"#bd3786\"],[0.5555555555555556,\"#d8576b\"],[0.6666666666666666,\"#ed7953\"],[0.7777777777777778,\"#fb9f3a\"],[0.8888888888888888,\"#fdca26\"],[1.0,\"#f0f921\"]]}],\"choropleth\":[{\"type\":\"choropleth\",\"colorbar\":{\"outlinewidth\":0,\"ticks\":\"\"}}],\"histogram2d\":[{\"type\":\"histogram2d\",\"colorbar\":{\"outlinewidth\":0,\"ticks\":\"\"},\"colorscale\":[[0.0,\"#0d0887\"],[0.1111111111111111,\"#46039f\"],[0.2222222222222222,\"#7201a8\"],[0.3333333333333333,\"#9c179e\"],[0.4444444444444444,\"#bd3786\"],[0.5555555555555556,\"#d8576b\"],[0.6666666666666666,\"#ed7953\"],[0.7777777777777778,\"#fb9f3a\"],[0.8888888888888888,\"#fdca26\"],[1.0,\"#f0f921\"]]}],\"heatmap\":[{\"type\":\"heatmap\",\"colorbar\":{\"outlinewidth\":0,\"ticks\":\"\"},\"colorscale\":[[0.0,\"#0d0887\"],[0.1111111111111111,\"#46039f\"],[0.2222222222222222,\"#7201a8\"],[0.3333333333333333,\"#9c179e\"],[0.4444444444444444,\"#bd3786\"],[0.5555555555555556,\"#d8576b\"],[0.6666666666666666,\"#ed7953\"],[0.7777777777777778,\"#fb9f3a\"],[0.8888888888888888,\"#fdca26\"],[1.0,\"#f0f921\"]]}],\"heatmapgl\":[{\"type\":\"heatmapgl\",\"colorbar\":{\"outlinewidth\":0,\"ticks\":\"\"},\"colorscale\":[[0.0,\"#0d0887\"],[0.1111111111111111,\"#46039f\"],[0.2222222222222222,\"#7201a8\"],[0.3333333333333333,\"#9c179e\"],[0.4444444444444444,\"#bd3786\"],[0.5555555555555556,\"#d8576b\"],[0.6666666666666666,\"#ed7953\"],[0.7777777777777778,\"#fb9f3a\"],[0.8888888888888888,\"#fdca26\"],[1.0,\"#f0f921\"]]}],\"contourcarpet\":[{\"type\":\"contourcarpet\",\"colorbar\":{\"outlinewidth\":0,\"ticks\":\"\"}}],\"contour\":[{\"type\":\"contour\",\"colorbar\":{\"outlinewidth\":0,\"ticks\":\"\"},\"colorscale\":[[0.0,\"#0d0887\"],[0.1111111111111111,\"#46039f\"],[0.2222222222222222,\"#7201a8\"],[0.3333333333333333,\"#9c179e\"],[0.4444444444444444,\"#bd3786\"],[0.5555555555555556,\"#d8576b\"],[0.6666666666666666,\"#ed7953\"],[0.7777777777777778,\"#fb9f3a\"],[0.8888888888888888,\"#fdca26\"],[1.0,\"#f0f921\"]]}],\"surface\":[{\"type\":\"surface\",\"colorbar\":{\"outlinewidth\":0,\"ticks\":\"\"},\"colorscale\":[[0.0,\"#0d0887\"],[0.1111111111111111,\"#46039f\"],[0.2222222222222222,\"#7201a8\"],[0.3333333333333333,\"#9c179e\"],[0.4444444444444444,\"#bd3786\"],[0.5555555555555556,\"#d8576b\"],[0.6666666666666666,\"#ed7953\"],[0.7777777777777778,\"#fb9f3a\"],[0.8888888888888888,\"#fdca26\"],[1.0,\"#f0f921\"]]}],\"mesh3d\":[{\"type\":\"mesh3d\",\"colorbar\":{\"outlinewidth\":0,\"ticks\":\"\"}}],\"scatter\":[{\"fillpattern\":{\"fillmode\":\"overlay\",\"size\":10,\"solidity\":0.2},\"type\":\"scatter\"}],\"parcoords\":[{\"type\":\"parcoords\",\"line\":{\"colorbar\":{\"outlinewidth\":0,\"ticks\":\"\"}}}],\"scatterpolargl\":[{\"type\":\"scatterpolargl\",\"marker\":{\"colorbar\":{\"outlinewidth\":0,\"ticks\":\"\"}}}],\"bar\":[{\"error_x\":{\"color\":\"#2a3f5f\"},\"error_y\":{\"color\":\"#2a3f5f\"},\"marker\":{\"line\":{\"color\":\"#E5ECF6\",\"width\":0.5},\"pattern\":{\"fillmode\":\"overlay\",\"size\":10,\"solidity\":0.2}},\"type\":\"bar\"}],\"scattergeo\":[{\"type\":\"scattergeo\",\"marker\":{\"colorbar\":{\"outlinewidth\":0,\"ticks\":\"\"}}}],\"scatterpolar\":[{\"type\":\"scatterpolar\",\"marker\":{\"colorbar\":{\"outlinewidth\":0,\"ticks\":\"\"}}}],\"histogram\":[{\"marker\":{\"pattern\":{\"fillmode\":\"overlay\",\"size\":10,\"solidity\":0.2}},\"type\":\"histogram\"}],\"scattergl\":[{\"type\":\"scattergl\",\"marker\":{\"colorbar\":{\"outlinewidth\":0,\"ticks\":\"\"}}}],\"scatter3d\":[{\"type\":\"scatter3d\",\"line\":{\"colorbar\":{\"outlinewidth\":0,\"ticks\":\"\"}},\"marker\":{\"colorbar\":{\"outlinewidth\":0,\"ticks\":\"\"}}}],\"scattermapbox\":[{\"type\":\"scattermapbox\",\"marker\":{\"colorbar\":{\"outlinewidth\":0,\"ticks\":\"\"}}}],\"scatterternary\":[{\"type\":\"scatterternary\",\"marker\":{\"colorbar\":{\"outlinewidth\":0,\"ticks\":\"\"}}}],\"scattercarpet\":[{\"type\":\"scattercarpet\",\"marker\":{\"colorbar\":{\"outlinewidth\":0,\"ticks\":\"\"}}}],\"carpet\":[{\"aaxis\":{\"endlinecolor\":\"#2a3f5f\",\"gridcolor\":\"white\",\"linecolor\":\"white\",\"minorgridcolor\":\"white\",\"startlinecolor\":\"#2a3f5f\"},\"baxis\":{\"endlinecolor\":\"#2a3f5f\",\"gridcolor\":\"white\",\"linecolor\":\"white\",\"minorgridcolor\":\"white\",\"startlinecolor\":\"#2a3f5f\"},\"type\":\"carpet\"}],\"table\":[{\"cells\":{\"fill\":{\"color\":\"#EBF0F8\"},\"line\":{\"color\":\"white\"}},\"header\":{\"fill\":{\"color\":\"#C8D4E3\"},\"line\":{\"color\":\"white\"}},\"type\":\"table\"}],\"barpolar\":[{\"marker\":{\"line\":{\"color\":\"#E5ECF6\",\"width\":0.5},\"pattern\":{\"fillmode\":\"overlay\",\"size\":10,\"solidity\":0.2}},\"type\":\"barpolar\"}],\"pie\":[{\"automargin\":true,\"type\":\"pie\"}]},\"layout\":{\"autotypenumbers\":\"strict\",\"colorway\":[\"#636efa\",\"#EF553B\",\"#00cc96\",\"#ab63fa\",\"#FFA15A\",\"#19d3f3\",\"#FF6692\",\"#B6E880\",\"#FF97FF\",\"#FECB52\"],\"font\":{\"color\":\"#2a3f5f\"},\"hovermode\":\"closest\",\"hoverlabel\":{\"align\":\"left\"},\"paper_bgcolor\":\"white\",\"plot_bgcolor\":\"#E5ECF6\",\"polar\":{\"bgcolor\":\"#E5ECF6\",\"angularaxis\":{\"gridcolor\":\"white\",\"linecolor\":\"white\",\"ticks\":\"\"},\"radialaxis\":{\"gridcolor\":\"white\",\"linecolor\":\"white\",\"ticks\":\"\"}},\"ternary\":{\"bgcolor\":\"#E5ECF6\",\"aaxis\":{\"gridcolor\":\"white\",\"linecolor\":\"white\",\"ticks\":\"\"},\"baxis\":{\"gridcolor\":\"white\",\"linecolor\":\"white\",\"ticks\":\"\"},\"caxis\":{\"gridcolor\":\"white\",\"linecolor\":\"white\",\"ticks\":\"\"}},\"coloraxis\":{\"colorbar\":{\"outlinewidth\":0,\"ticks\":\"\"}},\"colorscale\":{\"sequential\":[[0.0,\"#0d0887\"],[0.1111111111111111,\"#46039f\"],[0.2222222222222222,\"#7201a8\"],[0.3333333333333333,\"#9c179e\"],[0.4444444444444444,\"#bd3786\"],[0.5555555555555556,\"#d8576b\"],[0.6666666666666666,\"#ed7953\"],[0.7777777777777778,\"#fb9f3a\"],[0.8888888888888888,\"#fdca26\"],[1.0,\"#f0f921\"]],\"sequentialminus\":[[0.0,\"#0d0887\"],[0.1111111111111111,\"#46039f\"],[0.2222222222222222,\"#7201a8\"],[0.3333333333333333,\"#9c179e\"],[0.4444444444444444,\"#bd3786\"],[0.5555555555555556,\"#d8576b\"],[0.6666666666666666,\"#ed7953\"],[0.7777777777777778,\"#fb9f3a\"],[0.8888888888888888,\"#fdca26\"],[1.0,\"#f0f921\"]],\"diverging\":[[0,\"#8e0152\"],[0.1,\"#c51b7d\"],[0.2,\"#de77ae\"],[0.3,\"#f1b6da\"],[0.4,\"#fde0ef\"],[0.5,\"#f7f7f7\"],[0.6,\"#e6f5d0\"],[0.7,\"#b8e186\"],[0.8,\"#7fbc41\"],[0.9,\"#4d9221\"],[1,\"#276419\"]]},\"xaxis\":{\"gridcolor\":\"white\",\"linecolor\":\"white\",\"ticks\":\"\",\"title\":{\"standoff\":15},\"zerolinecolor\":\"white\",\"automargin\":true,\"zerolinewidth\":2},\"yaxis\":{\"gridcolor\":\"white\",\"linecolor\":\"white\",\"ticks\":\"\",\"title\":{\"standoff\":15},\"zerolinecolor\":\"white\",\"automargin\":true,\"zerolinewidth\":2},\"scene\":{\"xaxis\":{\"backgroundcolor\":\"#E5ECF6\",\"gridcolor\":\"white\",\"linecolor\":\"white\",\"showbackground\":true,\"ticks\":\"\",\"zerolinecolor\":\"white\",\"gridwidth\":2},\"yaxis\":{\"backgroundcolor\":\"#E5ECF6\",\"gridcolor\":\"white\",\"linecolor\":\"white\",\"showbackground\":true,\"ticks\":\"\",\"zerolinecolor\":\"white\",\"gridwidth\":2},\"zaxis\":{\"backgroundcolor\":\"#E5ECF6\",\"gridcolor\":\"white\",\"linecolor\":\"white\",\"showbackground\":true,\"ticks\":\"\",\"zerolinecolor\":\"white\",\"gridwidth\":2}},\"shapedefaults\":{\"line\":{\"color\":\"#2a3f5f\"}},\"annotationdefaults\":{\"arrowcolor\":\"#2a3f5f\",\"arrowhead\":0,\"arrowwidth\":1},\"geo\":{\"bgcolor\":\"white\",\"landcolor\":\"#E5ECF6\",\"subunitcolor\":\"white\",\"showland\":true,\"showlakes\":true,\"lakecolor\":\"white\"},\"title\":{\"x\":0.05},\"mapbox\":{\"style\":\"light\"}}},\"xaxis\":{\"anchor\":\"y\",\"domain\":[0.0,1.0],\"tickfont\":{\"color\":\"black\",\"family\":\"garamond\",\"size\":14.0},\"linecolor\":\"black\",\"linewidth\":2.0,\"mirror\":true,\"showline\":true,\"title\":{\"text\":\"Pca1\",\"font\":{\"color\":\"black\",\"family\":\"garamond\",\"size\":18.0}}},\"yaxis\":{\"anchor\":\"x\",\"domain\":[0.0,1.0],\"tickfont\":{\"color\":\"black\",\"family\":\"garamond\",\"size\":14.0},\"linecolor\":\"black\",\"linewidth\":2.0,\"mirror\":true,\"showline\":true,\"title\":{\"text\":\"Pca2\",\"font\":{\"color\":\"black\",\"family\":\"garamond\",\"size\":18.0}}},\"annotations\":[{\"font\":{\"size\":20.0,\"color\":\"black\",\"family\":\"garamond\"},\"showarrow\":false,\"text\":\"K-Clusters for K = 4\",\"x\":0.5,\"xanchor\":\"center\",\"xref\":\"paper\",\"y\":1.0,\"yanchor\":\"bottom\",\"yref\":\"paper\",\"yshift\":10.0}],\"title\":{\"font\":{\"color\":\"black\",\"family\":\"garamond\",\"size\":24.0},\"text\":\"7.2.2: K-Means Price Change (%) (PCA)\"},\"height\":500,\"width\":500,\"showlegend\":true},                        {\"responsive\": true}                    ).then(function(){\n",
              "                            \n",
              "var gd = document.getElementById('ac2ba772-600e-4630-b4b5-be3470ae7759');\n",
              "var x = new MutationObserver(function (mutations, observer) {{\n",
              "        var display = window.getComputedStyle(gd).display;\n",
              "        if (!display || display === 'none') {{\n",
              "            console.log([gd, 'removed!']);\n",
              "            Plotly.purge(gd);\n",
              "            observer.disconnect();\n",
              "        }}\n",
              "}});\n",
              "\n",
              "// Listen for the removal of the full notebook cells\n",
              "var notebookContainer = gd.closest('#notebook-container');\n",
              "if (notebookContainer) {{\n",
              "    x.observe(notebookContainer, {childList: true});\n",
              "}}\n",
              "\n",
              "// Listen for the clearing of the current output cell\n",
              "var outputEl = gd.closest('.output');\n",
              "if (outputEl) {{\n",
              "    x.observe(outputEl, {childList: true});\n",
              "}}\n",
              "\n",
              "                        })                };                            </script>        </div>\n",
              "</body>\n",
              "</html>"
            ]
          },
          "metadata": {}
        }
      ],
      "source": [
        "kmeans_analysisx.return_k_clusters_2d_scatter_plot \\\n",
        "    (crypto_pca_dataframe, [4], colors_string_list,\n",
        "     '7.2.2: K-Means Price Change (%) (PCA)', 'PCA1', 'PCA2')"
      ]
    },
    {
      "cell_type": "markdown",
      "id": "4978f6bc",
      "metadata": {
        "id": "4978f6bc"
      },
      "source": [
        "## **7.3: Contrast 3-D Scatter Plots for K=4**"
      ]
    },
    {
      "cell_type": "code",
      "execution_count": null,
      "id": "8ff89b5f",
      "metadata": {
        "colab": {
          "base_uri": "https://localhost:8080/",
          "height": 917
        },
        "id": "8ff89b5f",
        "outputId": "7a76debe-fedc-41cf-b6f9-63c4e028eb46"
      },
      "outputs": [
        {
          "output_type": "display_data",
          "data": {
            "text/html": [
              "<html>\n",
              "<head><meta charset=\"utf-8\" /></head>\n",
              "<body>\n",
              "    <div>            <script src=\"https://cdnjs.cloudflare.com/ajax/libs/mathjax/2.7.5/MathJax.js?config=TeX-AMS-MML_SVG\"></script><script type=\"text/javascript\">if (window.MathJax && window.MathJax.Hub && window.MathJax.Hub.Config) {window.MathJax.Hub.Config({SVG: {font: \"STIX-Web\"}});}</script>                <script type=\"text/javascript\">window.PlotlyConfig = {MathJaxConfig: 'local'};</script>\n",
              "        <script charset=\"utf-8\" src=\"https://cdn.plot.ly/plotly-2.31.1.min.js\"></script>                <div id=\"f11042c3-e0c9-48a8-b0db-e0e97e8052f5\" class=\"plotly-graph-div\" style=\"height:900px; width:900px;\"></div>            <script type=\"text/javascript\">                                    window.PLOTLYENV=window.PLOTLYENV || {};                                    if (document.getElementById(\"f11042c3-e0c9-48a8-b0db-e0e97e8052f5\")) {                    Plotly.newPlot(                        \"f11042c3-e0c9-48a8-b0db-e0e97e8052f5\",                        [{\"hovertemplate\":\"\\u003cb\\u003eCryptocurrency:\\u003c\\u002fb\\u003e %{text}\\u003cbr\\u003e\\u003cb\\u003ex:\\u003c\\u002fb\\u003e %{x}\\u003cbr\\u003e\\u003cb\\u003ey:\\u003c\\u002fb\\u003e %{y}\\u003cbr\\u003e\\u003cb\\u003ez:\\u003c\\u002fb\\u003e %{z}\\u003cbr\\u003e\\u003cextra\\u003e\\u003c\\u002fextra\\u003e\",\"marker\":{\"color\":[0,0,0,0,0,0,3,0,0,0,0,0,0,0,0,0,0,0,0,0,0,0,0,0,0,0,0,0,0,3,0,0,1,0,3,3,2,0,0,0,3],\"colorscale\":[[0.0,\"firebrick\"],[0.16666666666666666,\"green\"],[0.3333333333333333,\"orange\"],[0.5,\"lightsteelblue\"],[0.6666666666666666,\"gold\"],[0.8333333333333334,\"purple\"],[1.0,\"blue\"]],\"line\":{\"color\":\"black\",\"width\":1.0},\"opacity\":1.0,\"size\":7.0},\"mode\":\"markers\",\"name\":\"Points\",\"showlegend\":true,\"text\":[\"bitcoin\",\"ethereum\",\"tether\",\"ripple\",\"bitcoin-cash\",\"binancecoin\",\"chainlink\",\"cardano\",\"litecoin\",\"bitcoin-cash-sv\",\"crypto-com-chain\",\"usd-coin\",\"eos\",\"monero\",\"tron\",\"tezos\",\"okb\",\"stellar\",\"cosmos\",\"cdai\",\"neo\",\"wrapped-bitcoin\",\"leo-token\",\"huobi-token\",\"nem\",\"binance-usd\",\"iota\",\"vechain\",\"zcash\",\"theta-token\",\"dash\",\"ethereum-classic\",\"ethlend\",\"maker\",\"havven\",\"omisego\",\"celsius-degree-token\",\"ontology\",\"ftx-token\",\"true-usd\",\"digibyte\"],\"x\":[1.08388,0.22392,-0.21173,-0.37819,2.90585,2.10423,-0.23935,0.00322,-0.06341,0.9253,0.61209,-0.17825,0.14477,0.42961,0.07647,-0.67316,-2.727,-1.00843,-0.95103,0.21169,0.49302,1.10231,-0.13192,-0.40818,-0.8499,-0.10642,0.41996,1.28766,-0.60897,-4.56089,-1.06006,-0.4595,-13.52786,-0.60285,-4.07216,4.84033,2.51323,-1.35845,0.83416,-0.06197,2.97084],\"y\":[7.60278,10.38134,0.04935,-0.60926,17.09717,12.85511,20.69459,13.99302,6.60221,3.29641,-5.67151,-0.11871,-1.31177,15.78515,4.23886,8.95665,-4.55389,2.07149,16.08534,0.0582,2.44243,7.40537,-1.34886,1.61798,-0.8514,0.04726,6.0683,-1.76352,10.3478,-6.09456,5.09387,3.05209,4.21266,8.154,4.33651,6.82985,0.60354,-1.21399,7.10438,0.16642,0.67038],\"z\":[6.57509,4.80849,0.0064,2.24984,14.75334,6.80688,9.30098,5.55476,7.28931,-1.86656,-8.53948,-0.00568,1.13751,18.41097,1.40337,2.32062,-5.02662,-1.08217,5.51074,0.17076,-9.84803,6.55668,-7.02859,0.45488,2.64844,0.05902,-3.77714,-18.1589,5.79179,-6.57354,0.51708,-1.26669,-9.80075,-1.48854,-13.29164,-13.21636,24.23919,-10.56222,-0.20629,0.10974,-7.31941],\"type\":\"scatter3d\"},{\"hovertemplate\":\"\\u003cb\\u003eCluster %{text}\\u003c\\u002fb\\u003e\\u003cbr\\u003e\\u003cb\\u003ex:\\u003c\\u002fb\\u003e %{x}\\u003cbr\\u003e\\u003cb\\u003ey:\\u003c\\u002fb\\u003e %{y}\\u003cbr\\u003e\\u003cb\\u003ez:\\u003c\\u002fb\\u003e %{z}\\u003cbr\\u003e\\u003cextra\\u003e\\u003c\\u002fextra\\u003e\",\"marker\":{\"color\":[0,1,2,3],\"colorscale\":[[0.0,\"firebrick\"],[0.16666666666666666,\"green\"],[0.3333333333333333,\"orange\"],[0.5,\"lightsteelblue\"],[0.6666666666666666,\"gold\"],[0.8333333333333334,\"purple\"],[1.0,\"blue\"]],\"line\":{\"color\":\"black\",\"width\":1.5},\"opacity\":0.4,\"size\":42.0},\"mode\":\"markers\",\"name\":\"Clusters\",\"showlegend\":true,\"text\":[\"1\",\"2\",\"3\",\"4\"],\"x\":[0.02996235294117633,-13.52786,2.51323,-0.21224599999999977],\"y\":[4.503825588235294,4.21266,0.6035399999999997,5.2873540000000006],\"z\":[0.7140823529411766,-9.80075,24.23919,-6.219994000000001],\"type\":\"scatter3d\"}],                        {\"height\":900,\"legend\":{\"bgcolor\":\"aliceblue\",\"font\":{\"color\":\"black\",\"family\":\"garamond\",\"size\":20.0},\"x\":1.2,\"xanchor\":\"right\",\"y\":0.8,\"yanchor\":\"top\"},\"scene\":{\"aspectmode\":\"manual\",\"aspectratio\":{\"x\":0.9,\"y\":0.9,\"z\":0.9},\"xaxis\":{\"color\":\"black\",\"gridcolor\":\"darkblue\",\"linecolor\":\"black\",\"linewidth\":2.0,\"mirror\":true,\"showbackground\":true,\"showline\":true,\"tickfont\":{\"color\":\"black\",\"family\":\"garamond\",\"size\":14},\"title\":{\"font\":{\"color\":\"black\",\"family\":\"garamond\",\"size\":18.0},\"text\":\"price_change_percentage_24h\"}},\"yaxis\":{\"color\":\"black\",\"gridcolor\":\"darkblue\",\"linecolor\":\"black\",\"linewidth\":2.0,\"mirror\":true,\"showbackground\":true,\"showline\":true,\"tickfont\":{\"color\":\"black\",\"family\":\"garamond\",\"size\":14.0},\"title\":{\"font\":{\"color\":\"black\",\"family\":\"garamond\",\"size\":18.0},\"text\":\"price_change_percentage_7d\"}},\"zaxis\":{\"color\":\"black\",\"gridcolor\":\"darkblue\",\"linecolor\":\"black\",\"linewidth\":2.0,\"mirror\":true,\"showbackground\":true,\"showline\":true,\"tickfont\":{\"color\":\"black\",\"family\":\"garamond\",\"size\":14.0},\"title\":{\"font\":{\"color\":\"black\",\"family\":\"garamond\",\"size\":18.0},\"text\":\"price_change_percentage_14d\"}}},\"title\":{\"font\":{\"color\":\"black\",\"family\":\"garamond\",\"size\":28.0},\"text\":\"7.3.1: Cryptocurrency Data 3-D Scatter Plot (K=4)\",\"x\":0.5,\"y\":0.85},\"width\":900,\"template\":{\"data\":{\"histogram2dcontour\":[{\"type\":\"histogram2dcontour\",\"colorbar\":{\"outlinewidth\":0,\"ticks\":\"\"},\"colorscale\":[[0.0,\"#0d0887\"],[0.1111111111111111,\"#46039f\"],[0.2222222222222222,\"#7201a8\"],[0.3333333333333333,\"#9c179e\"],[0.4444444444444444,\"#bd3786\"],[0.5555555555555556,\"#d8576b\"],[0.6666666666666666,\"#ed7953\"],[0.7777777777777778,\"#fb9f3a\"],[0.8888888888888888,\"#fdca26\"],[1.0,\"#f0f921\"]]}],\"choropleth\":[{\"type\":\"choropleth\",\"colorbar\":{\"outlinewidth\":0,\"ticks\":\"\"}}],\"histogram2d\":[{\"type\":\"histogram2d\",\"colorbar\":{\"outlinewidth\":0,\"ticks\":\"\"},\"colorscale\":[[0.0,\"#0d0887\"],[0.1111111111111111,\"#46039f\"],[0.2222222222222222,\"#7201a8\"],[0.3333333333333333,\"#9c179e\"],[0.4444444444444444,\"#bd3786\"],[0.5555555555555556,\"#d8576b\"],[0.6666666666666666,\"#ed7953\"],[0.7777777777777778,\"#fb9f3a\"],[0.8888888888888888,\"#fdca26\"],[1.0,\"#f0f921\"]]}],\"heatmap\":[{\"type\":\"heatmap\",\"colorbar\":{\"outlinewidth\":0,\"ticks\":\"\"},\"colorscale\":[[0.0,\"#0d0887\"],[0.1111111111111111,\"#46039f\"],[0.2222222222222222,\"#7201a8\"],[0.3333333333333333,\"#9c179e\"],[0.4444444444444444,\"#bd3786\"],[0.5555555555555556,\"#d8576b\"],[0.6666666666666666,\"#ed7953\"],[0.7777777777777778,\"#fb9f3a\"],[0.8888888888888888,\"#fdca26\"],[1.0,\"#f0f921\"]]}],\"heatmapgl\":[{\"type\":\"heatmapgl\",\"colorbar\":{\"outlinewidth\":0,\"ticks\":\"\"},\"colorscale\":[[0.0,\"#0d0887\"],[0.1111111111111111,\"#46039f\"],[0.2222222222222222,\"#7201a8\"],[0.3333333333333333,\"#9c179e\"],[0.4444444444444444,\"#bd3786\"],[0.5555555555555556,\"#d8576b\"],[0.6666666666666666,\"#ed7953\"],[0.7777777777777778,\"#fb9f3a\"],[0.8888888888888888,\"#fdca26\"],[1.0,\"#f0f921\"]]}],\"contourcarpet\":[{\"type\":\"contourcarpet\",\"colorbar\":{\"outlinewidth\":0,\"ticks\":\"\"}}],\"contour\":[{\"type\":\"contour\",\"colorbar\":{\"outlinewidth\":0,\"ticks\":\"\"},\"colorscale\":[[0.0,\"#0d0887\"],[0.1111111111111111,\"#46039f\"],[0.2222222222222222,\"#7201a8\"],[0.3333333333333333,\"#9c179e\"],[0.4444444444444444,\"#bd3786\"],[0.5555555555555556,\"#d8576b\"],[0.6666666666666666,\"#ed7953\"],[0.7777777777777778,\"#fb9f3a\"],[0.8888888888888888,\"#fdca26\"],[1.0,\"#f0f921\"]]}],\"surface\":[{\"type\":\"surface\",\"colorbar\":{\"outlinewidth\":0,\"ticks\":\"\"},\"colorscale\":[[0.0,\"#0d0887\"],[0.1111111111111111,\"#46039f\"],[0.2222222222222222,\"#7201a8\"],[0.3333333333333333,\"#9c179e\"],[0.4444444444444444,\"#bd3786\"],[0.5555555555555556,\"#d8576b\"],[0.6666666666666666,\"#ed7953\"],[0.7777777777777778,\"#fb9f3a\"],[0.8888888888888888,\"#fdca26\"],[1.0,\"#f0f921\"]]}],\"mesh3d\":[{\"type\":\"mesh3d\",\"colorbar\":{\"outlinewidth\":0,\"ticks\":\"\"}}],\"scatter\":[{\"fillpattern\":{\"fillmode\":\"overlay\",\"size\":10,\"solidity\":0.2},\"type\":\"scatter\"}],\"parcoords\":[{\"type\":\"parcoords\",\"line\":{\"colorbar\":{\"outlinewidth\":0,\"ticks\":\"\"}}}],\"scatterpolargl\":[{\"type\":\"scatterpolargl\",\"marker\":{\"colorbar\":{\"outlinewidth\":0,\"ticks\":\"\"}}}],\"bar\":[{\"error_x\":{\"color\":\"#2a3f5f\"},\"error_y\":{\"color\":\"#2a3f5f\"},\"marker\":{\"line\":{\"color\":\"#E5ECF6\",\"width\":0.5},\"pattern\":{\"fillmode\":\"overlay\",\"size\":10,\"solidity\":0.2}},\"type\":\"bar\"}],\"scattergeo\":[{\"type\":\"scattergeo\",\"marker\":{\"colorbar\":{\"outlinewidth\":0,\"ticks\":\"\"}}}],\"scatterpolar\":[{\"type\":\"scatterpolar\",\"marker\":{\"colorbar\":{\"outlinewidth\":0,\"ticks\":\"\"}}}],\"histogram\":[{\"marker\":{\"pattern\":{\"fillmode\":\"overlay\",\"size\":10,\"solidity\":0.2}},\"type\":\"histogram\"}],\"scattergl\":[{\"type\":\"scattergl\",\"marker\":{\"colorbar\":{\"outlinewidth\":0,\"ticks\":\"\"}}}],\"scatter3d\":[{\"type\":\"scatter3d\",\"line\":{\"colorbar\":{\"outlinewidth\":0,\"ticks\":\"\"}},\"marker\":{\"colorbar\":{\"outlinewidth\":0,\"ticks\":\"\"}}}],\"scattermapbox\":[{\"type\":\"scattermapbox\",\"marker\":{\"colorbar\":{\"outlinewidth\":0,\"ticks\":\"\"}}}],\"scatterternary\":[{\"type\":\"scatterternary\",\"marker\":{\"colorbar\":{\"outlinewidth\":0,\"ticks\":\"\"}}}],\"scattercarpet\":[{\"type\":\"scattercarpet\",\"marker\":{\"colorbar\":{\"outlinewidth\":0,\"ticks\":\"\"}}}],\"carpet\":[{\"aaxis\":{\"endlinecolor\":\"#2a3f5f\",\"gridcolor\":\"white\",\"linecolor\":\"white\",\"minorgridcolor\":\"white\",\"startlinecolor\":\"#2a3f5f\"},\"baxis\":{\"endlinecolor\":\"#2a3f5f\",\"gridcolor\":\"white\",\"linecolor\":\"white\",\"minorgridcolor\":\"white\",\"startlinecolor\":\"#2a3f5f\"},\"type\":\"carpet\"}],\"table\":[{\"cells\":{\"fill\":{\"color\":\"#EBF0F8\"},\"line\":{\"color\":\"white\"}},\"header\":{\"fill\":{\"color\":\"#C8D4E3\"},\"line\":{\"color\":\"white\"}},\"type\":\"table\"}],\"barpolar\":[{\"marker\":{\"line\":{\"color\":\"#E5ECF6\",\"width\":0.5},\"pattern\":{\"fillmode\":\"overlay\",\"size\":10,\"solidity\":0.2}},\"type\":\"barpolar\"}],\"pie\":[{\"automargin\":true,\"type\":\"pie\"}]},\"layout\":{\"autotypenumbers\":\"strict\",\"colorway\":[\"#636efa\",\"#EF553B\",\"#00cc96\",\"#ab63fa\",\"#FFA15A\",\"#19d3f3\",\"#FF6692\",\"#B6E880\",\"#FF97FF\",\"#FECB52\"],\"font\":{\"color\":\"#2a3f5f\"},\"hovermode\":\"closest\",\"hoverlabel\":{\"align\":\"left\"},\"paper_bgcolor\":\"white\",\"plot_bgcolor\":\"#E5ECF6\",\"polar\":{\"bgcolor\":\"#E5ECF6\",\"angularaxis\":{\"gridcolor\":\"white\",\"linecolor\":\"white\",\"ticks\":\"\"},\"radialaxis\":{\"gridcolor\":\"white\",\"linecolor\":\"white\",\"ticks\":\"\"}},\"ternary\":{\"bgcolor\":\"#E5ECF6\",\"aaxis\":{\"gridcolor\":\"white\",\"linecolor\":\"white\",\"ticks\":\"\"},\"baxis\":{\"gridcolor\":\"white\",\"linecolor\":\"white\",\"ticks\":\"\"},\"caxis\":{\"gridcolor\":\"white\",\"linecolor\":\"white\",\"ticks\":\"\"}},\"coloraxis\":{\"colorbar\":{\"outlinewidth\":0,\"ticks\":\"\"}},\"colorscale\":{\"sequential\":[[0.0,\"#0d0887\"],[0.1111111111111111,\"#46039f\"],[0.2222222222222222,\"#7201a8\"],[0.3333333333333333,\"#9c179e\"],[0.4444444444444444,\"#bd3786\"],[0.5555555555555556,\"#d8576b\"],[0.6666666666666666,\"#ed7953\"],[0.7777777777777778,\"#fb9f3a\"],[0.8888888888888888,\"#fdca26\"],[1.0,\"#f0f921\"]],\"sequentialminus\":[[0.0,\"#0d0887\"],[0.1111111111111111,\"#46039f\"],[0.2222222222222222,\"#7201a8\"],[0.3333333333333333,\"#9c179e\"],[0.4444444444444444,\"#bd3786\"],[0.5555555555555556,\"#d8576b\"],[0.6666666666666666,\"#ed7953\"],[0.7777777777777778,\"#fb9f3a\"],[0.8888888888888888,\"#fdca26\"],[1.0,\"#f0f921\"]],\"diverging\":[[0,\"#8e0152\"],[0.1,\"#c51b7d\"],[0.2,\"#de77ae\"],[0.3,\"#f1b6da\"],[0.4,\"#fde0ef\"],[0.5,\"#f7f7f7\"],[0.6,\"#e6f5d0\"],[0.7,\"#b8e186\"],[0.8,\"#7fbc41\"],[0.9,\"#4d9221\"],[1,\"#276419\"]]},\"xaxis\":{\"gridcolor\":\"white\",\"linecolor\":\"white\",\"ticks\":\"\",\"title\":{\"standoff\":15},\"zerolinecolor\":\"white\",\"automargin\":true,\"zerolinewidth\":2},\"yaxis\":{\"gridcolor\":\"white\",\"linecolor\":\"white\",\"ticks\":\"\",\"title\":{\"standoff\":15},\"zerolinecolor\":\"white\",\"automargin\":true,\"zerolinewidth\":2},\"scene\":{\"xaxis\":{\"backgroundcolor\":\"#E5ECF6\",\"gridcolor\":\"white\",\"linecolor\":\"white\",\"showbackground\":true,\"ticks\":\"\",\"zerolinecolor\":\"white\",\"gridwidth\":2},\"yaxis\":{\"backgroundcolor\":\"#E5ECF6\",\"gridcolor\":\"white\",\"linecolor\":\"white\",\"showbackground\":true,\"ticks\":\"\",\"zerolinecolor\":\"white\",\"gridwidth\":2},\"zaxis\":{\"backgroundcolor\":\"#E5ECF6\",\"gridcolor\":\"white\",\"linecolor\":\"white\",\"showbackground\":true,\"ticks\":\"\",\"zerolinecolor\":\"white\",\"gridwidth\":2}},\"shapedefaults\":{\"line\":{\"color\":\"#2a3f5f\"}},\"annotationdefaults\":{\"arrowcolor\":\"#2a3f5f\",\"arrowhead\":0,\"arrowwidth\":1},\"geo\":{\"bgcolor\":\"white\",\"landcolor\":\"#E5ECF6\",\"subunitcolor\":\"white\",\"showland\":true,\"showlakes\":true,\"lakecolor\":\"white\"},\"title\":{\"x\":0.05},\"mapbox\":{\"style\":\"light\"}}}},                        {\"responsive\": true}                    ).then(function(){\n",
              "                            \n",
              "var gd = document.getElementById('f11042c3-e0c9-48a8-b0db-e0e97e8052f5');\n",
              "var x = new MutationObserver(function (mutations, observer) {{\n",
              "        var display = window.getComputedStyle(gd).display;\n",
              "        if (!display || display === 'none') {{\n",
              "            console.log([gd, 'removed!']);\n",
              "            Plotly.purge(gd);\n",
              "            observer.disconnect();\n",
              "        }}\n",
              "}});\n",
              "\n",
              "// Listen for the removal of the full notebook cells\n",
              "var notebookContainer = gd.closest('#notebook-container');\n",
              "if (notebookContainer) {{\n",
              "    x.observe(notebookContainer, {childList: true});\n",
              "}}\n",
              "\n",
              "// Listen for the clearing of the current output cell\n",
              "var outputEl = gd.closest('.output');\n",
              "if (outputEl) {{\n",
              "    x.observe(outputEl, {childList: true});\n",
              "}}\n",
              "\n",
              "                        })                };                            </script>        </div>\n",
              "</body>\n",
              "</html>"
            ]
          },
          "metadata": {}
        }
      ],
      "source": [
        "kmeans_analysisx.return_k_clusters_3d_scatter_plot \\\n",
        "    (crypto_dataframe, 4, colors_string_list,\n",
        "     '7.3.1: Cryptocurrency Data 3-D Scatter Plot (K=4)',\n",
        "     ['price_change_percentage_24h', 'price_change_percentage_7d', 'price_change_percentage_14d'])"
      ]
    },
    {
      "cell_type": "code",
      "execution_count": null,
      "id": "2d21a071",
      "metadata": {
        "colab": {
          "base_uri": "https://localhost:8080/",
          "height": 917
        },
        "id": "2d21a071",
        "outputId": "4da9e208-4ef7-4c97-8496-0dbf4f2a9ef0"
      },
      "outputs": [
        {
          "output_type": "display_data",
          "data": {
            "text/html": [
              "<html>\n",
              "<head><meta charset=\"utf-8\" /></head>\n",
              "<body>\n",
              "    <div>            <script src=\"https://cdnjs.cloudflare.com/ajax/libs/mathjax/2.7.5/MathJax.js?config=TeX-AMS-MML_SVG\"></script><script type=\"text/javascript\">if (window.MathJax && window.MathJax.Hub && window.MathJax.Hub.Config) {window.MathJax.Hub.Config({SVG: {font: \"STIX-Web\"}});}</script>                <script type=\"text/javascript\">window.PlotlyConfig = {MathJaxConfig: 'local'};</script>\n",
              "        <script charset=\"utf-8\" src=\"https://cdn.plot.ly/plotly-2.31.1.min.js\"></script>                <div id=\"55924d24-4ab8-4a7c-bddd-6deda599b47e\" class=\"plotly-graph-div\" style=\"height:900px; width:900px;\"></div>            <script type=\"text/javascript\">                                    window.PLOTLYENV=window.PLOTLYENV || {};                                    if (document.getElementById(\"55924d24-4ab8-4a7c-bddd-6deda599b47e\")) {                    Plotly.newPlot(                        \"55924d24-4ab8-4a7c-bddd-6deda599b47e\",                        [{\"hovertemplate\":\"\\u003cb\\u003eCryptocurrency:\\u003c\\u002fb\\u003e %{text}\\u003cbr\\u003e\\u003cb\\u003ex:\\u003c\\u002fb\\u003e %{x}\\u003cbr\\u003e\\u003cb\\u003ey:\\u003c\\u002fb\\u003e %{y}\\u003cbr\\u003e\\u003cb\\u003ez:\\u003c\\u002fb\\u003e %{z}\\u003cbr\\u003e\\u003cextra\\u003e\\u003c\\u002fextra\\u003e\",\"marker\":{\"color\":[3,3,1,1,3,3,3,3,3,1,1,1,1,3,1,3,1,1,3,1,1,3,1,1,1,1,1,1,3,1,1,1,2,3,1,1,0,1,1,1,1],\"colorscale\":[[0.0,\"firebrick\"],[0.16666666666666666,\"green\"],[0.3333333333333333,\"orange\"],[0.5,\"lightsteelblue\"],[0.6666666666666666,\"gold\"],[0.8333333333333334,\"purple\"],[1.0,\"blue\"]],\"line\":{\"color\":\"black\",\"width\":1.0},\"opacity\":1.0,\"size\":7.0},\"mode\":\"markers\",\"name\":\"Points\",\"showlegend\":true,\"text\":[\"bitcoin\",\"ethereum\",\"tether\",\"ripple\",\"bitcoin-cash\",\"binancecoin\",\"chainlink\",\"cardano\",\"litecoin\",\"bitcoin-cash-sv\",\"crypto-com-chain\",\"usd-coin\",\"eos\",\"monero\",\"tron\",\"tezos\",\"okb\",\"stellar\",\"cosmos\",\"cdai\",\"neo\",\"wrapped-bitcoin\",\"leo-token\",\"huobi-token\",\"nem\",\"binance-usd\",\"iota\",\"vechain\",\"zcash\",\"theta-token\",\"dash\",\"ethereum-classic\",\"ethlend\",\"maker\",\"havven\",\"omisego\",\"celsius-degree-token\",\"ontology\",\"ftx-token\",\"true-usd\",\"digibyte\"],\"x\":[-0.6006673254375197,-0.45826071401032126,-0.43306980513657123,-0.4718349487388997,-1.1577999724406398,-0.5165337697386355,-0.4507113399717348,-0.34559976661691705,-0.6494679214405782,-0.759013942296941,-0.24819846472379042,-0.4384076222360054,-0.6934253333100024,0.06049914778108642,-0.3933524257856281,-0.7961756359232364,0.06407451856195888,-0.4890150610215555,-0.3062722976749089,-0.513527753143791,-0.3621204360718861,-0.6042646308187019,-0.4132956035721582,-0.40748303584430373,0.6089738213442363,-0.450211141106789,-0.7646652213141043,-0.5563146750187622,-0.4251467742977224,2.6768676123254984,-0.6139227463582011,-0.5799239778770782,8.089018214765613,-0.38904525957800884,0.8657618298532996,0.11167508357409268,4.792395401459594,-0.6323549165416654,-0.593142164129733,-0.4581305024102701,-0.2979104450783156],\"y\":[0.8427600624855399,0.4584656644628807,-0.16812638169325195,-0.22266007696009266,2.0412091852418346,1.3883774818625845,0.5176991167273984,0.7294393945322883,0.4321651377074032,-0.20119978804156163,-1.3762515898012422,-0.17533654196886497,-0.4738146235496463,2.9094038518367764,-0.10819197462494247,-0.4944087524150498,-1.269825135597806,-0.7327191199192675,0.7034151468998076,-0.14280239241374712,-0.9869144080114634,0.8273976353815232,-0.674115268076814,-0.2125065470533916,0.5635321240704285,-0.15101945266575217,-0.517885538792463,-1.9382090595380141,0.4929761725450791,-0.01395409962133177,-0.4793368029042946,-0.35633377052316595,-3.896890535486485,0.16504063407280317,-2.2618823859082102,0.42831576443907726,6.767678675262274,-2.108117128334043,0.021484962427633224,-0.13573403362162556,-0.1911256024328063],\"z\":[0.4615945681105948,0.9528767837135823,-0.641751929140677,-0.47905315757557276,1.8597152736981144,0.8040713050022834,2.8461431574752787,1.4780128444941134,0.6003028588105244,-0.21765291815350782,-1.4620257131124952,-0.6633884037364077,-0.527596925526791,1.4985713063809971,-0.012756080213432183,1.082811691051757,-1.0988292750751891,-0.06254323300898525,1.714223586419341,-0.6565658346817507,-0.7287523216679124,0.439315938339612,-1.0766283383557342,-0.35142562766632507,-1.1487415949964512,-0.6474006119131073,0.20499029001818542,-1.2617758874503522,1.05804837248703,-1.9652072219391366,0.3395651327382894,-0.11494201872557765,2.3013820764937623,0.3794136971555251,0.27558289140280406,-1.205397966313135,-1.9869854471135149,-0.6522273846771972,0.20991141756366843,-0.6352835704640616,-0.9096017298481481],\"type\":\"scatter3d\"},{\"hovertemplate\":\"\\u003cb\\u003eCluster %{text}\\u003c\\u002fb\\u003e\\u003cbr\\u003e\\u003cb\\u003ex:\\u003c\\u002fb\\u003e %{x}\\u003cbr\\u003e\\u003cb\\u003ey:\\u003c\\u002fb\\u003e %{y}\\u003cbr\\u003e\\u003cb\\u003ez:\\u003c\\u002fb\\u003e %{z}\\u003cbr\\u003e\\u003cextra\\u003e\\u003c\\u002fextra\\u003e\",\"marker\":{\"color\":[0,1,2,3],\"colorscale\":[[0.0,\"firebrick\"],[0.16666666666666666,\"green\"],[0.3333333333333333,\"orange\"],[0.5,\"lightsteelblue\"],[0.6666666666666666,\"gold\"],[0.8333333333333334,\"purple\"],[1.0,\"blue\"]],\"line\":{\"color\":\"black\",\"width\":1.5},\"opacity\":0.4,\"size\":42.0},\"mode\":\"markers\",\"name\":\"Clusters\",\"showlegend\":true,\"text\":[\"1\",\"2\",\"3\",\"4\"],\"x\":[4.792395401459594,-0.24007566754066792,8.089018214765613,-0.510726635397526],\"y\":[6.767678675262274,-0.5340280335044868,-3.896890535486485,0.8472262101031439],\"z\":[-1.9869854471135149,-0.595749923558423,2.3013820764937623,1.1673154910106736],\"type\":\"scatter3d\"}],                        {\"height\":900,\"legend\":{\"bgcolor\":\"aliceblue\",\"font\":{\"color\":\"black\",\"family\":\"garamond\",\"size\":20.0},\"x\":1.2,\"xanchor\":\"right\",\"y\":0.8,\"yanchor\":\"top\"},\"scene\":{\"aspectmode\":\"manual\",\"aspectratio\":{\"x\":0.9,\"y\":0.9,\"z\":0.9},\"xaxis\":{\"color\":\"black\",\"gridcolor\":\"darkblue\",\"linecolor\":\"black\",\"linewidth\":2.0,\"mirror\":true,\"showbackground\":true,\"showline\":true,\"tickfont\":{\"color\":\"black\",\"family\":\"garamond\",\"size\":14},\"title\":{\"font\":{\"color\":\"black\",\"family\":\"garamond\",\"size\":18.0},\"text\":\"PCA1\"}},\"yaxis\":{\"color\":\"black\",\"gridcolor\":\"darkblue\",\"linecolor\":\"black\",\"linewidth\":2.0,\"mirror\":true,\"showbackground\":true,\"showline\":true,\"tickfont\":{\"color\":\"black\",\"family\":\"garamond\",\"size\":14.0},\"title\":{\"font\":{\"color\":\"black\",\"family\":\"garamond\",\"size\":18.0},\"text\":\"PCA2\"}},\"zaxis\":{\"color\":\"black\",\"gridcolor\":\"darkblue\",\"linecolor\":\"black\",\"linewidth\":2.0,\"mirror\":true,\"showbackground\":true,\"showline\":true,\"tickfont\":{\"color\":\"black\",\"family\":\"garamond\",\"size\":14.0},\"title\":{\"font\":{\"color\":\"black\",\"family\":\"garamond\",\"size\":18.0},\"text\":\"PCA3\"}}},\"title\":{\"font\":{\"color\":\"black\",\"family\":\"garamond\",\"size\":28.0},\"text\":\"7.3.1: Cryptocurrency Data with PCA 3-D Scatter Plot (K=4)\",\"x\":0.5,\"y\":0.85},\"width\":900,\"template\":{\"data\":{\"histogram2dcontour\":[{\"type\":\"histogram2dcontour\",\"colorbar\":{\"outlinewidth\":0,\"ticks\":\"\"},\"colorscale\":[[0.0,\"#0d0887\"],[0.1111111111111111,\"#46039f\"],[0.2222222222222222,\"#7201a8\"],[0.3333333333333333,\"#9c179e\"],[0.4444444444444444,\"#bd3786\"],[0.5555555555555556,\"#d8576b\"],[0.6666666666666666,\"#ed7953\"],[0.7777777777777778,\"#fb9f3a\"],[0.8888888888888888,\"#fdca26\"],[1.0,\"#f0f921\"]]}],\"choropleth\":[{\"type\":\"choropleth\",\"colorbar\":{\"outlinewidth\":0,\"ticks\":\"\"}}],\"histogram2d\":[{\"type\":\"histogram2d\",\"colorbar\":{\"outlinewidth\":0,\"ticks\":\"\"},\"colorscale\":[[0.0,\"#0d0887\"],[0.1111111111111111,\"#46039f\"],[0.2222222222222222,\"#7201a8\"],[0.3333333333333333,\"#9c179e\"],[0.4444444444444444,\"#bd3786\"],[0.5555555555555556,\"#d8576b\"],[0.6666666666666666,\"#ed7953\"],[0.7777777777777778,\"#fb9f3a\"],[0.8888888888888888,\"#fdca26\"],[1.0,\"#f0f921\"]]}],\"heatmap\":[{\"type\":\"heatmap\",\"colorbar\":{\"outlinewidth\":0,\"ticks\":\"\"},\"colorscale\":[[0.0,\"#0d0887\"],[0.1111111111111111,\"#46039f\"],[0.2222222222222222,\"#7201a8\"],[0.3333333333333333,\"#9c179e\"],[0.4444444444444444,\"#bd3786\"],[0.5555555555555556,\"#d8576b\"],[0.6666666666666666,\"#ed7953\"],[0.7777777777777778,\"#fb9f3a\"],[0.8888888888888888,\"#fdca26\"],[1.0,\"#f0f921\"]]}],\"heatmapgl\":[{\"type\":\"heatmapgl\",\"colorbar\":{\"outlinewidth\":0,\"ticks\":\"\"},\"colorscale\":[[0.0,\"#0d0887\"],[0.1111111111111111,\"#46039f\"],[0.2222222222222222,\"#7201a8\"],[0.3333333333333333,\"#9c179e\"],[0.4444444444444444,\"#bd3786\"],[0.5555555555555556,\"#d8576b\"],[0.6666666666666666,\"#ed7953\"],[0.7777777777777778,\"#fb9f3a\"],[0.8888888888888888,\"#fdca26\"],[1.0,\"#f0f921\"]]}],\"contourcarpet\":[{\"type\":\"contourcarpet\",\"colorbar\":{\"outlinewidth\":0,\"ticks\":\"\"}}],\"contour\":[{\"type\":\"contour\",\"colorbar\":{\"outlinewidth\":0,\"ticks\":\"\"},\"colorscale\":[[0.0,\"#0d0887\"],[0.1111111111111111,\"#46039f\"],[0.2222222222222222,\"#7201a8\"],[0.3333333333333333,\"#9c179e\"],[0.4444444444444444,\"#bd3786\"],[0.5555555555555556,\"#d8576b\"],[0.6666666666666666,\"#ed7953\"],[0.7777777777777778,\"#fb9f3a\"],[0.8888888888888888,\"#fdca26\"],[1.0,\"#f0f921\"]]}],\"surface\":[{\"type\":\"surface\",\"colorbar\":{\"outlinewidth\":0,\"ticks\":\"\"},\"colorscale\":[[0.0,\"#0d0887\"],[0.1111111111111111,\"#46039f\"],[0.2222222222222222,\"#7201a8\"],[0.3333333333333333,\"#9c179e\"],[0.4444444444444444,\"#bd3786\"],[0.5555555555555556,\"#d8576b\"],[0.6666666666666666,\"#ed7953\"],[0.7777777777777778,\"#fb9f3a\"],[0.8888888888888888,\"#fdca26\"],[1.0,\"#f0f921\"]]}],\"mesh3d\":[{\"type\":\"mesh3d\",\"colorbar\":{\"outlinewidth\":0,\"ticks\":\"\"}}],\"scatter\":[{\"fillpattern\":{\"fillmode\":\"overlay\",\"size\":10,\"solidity\":0.2},\"type\":\"scatter\"}],\"parcoords\":[{\"type\":\"parcoords\",\"line\":{\"colorbar\":{\"outlinewidth\":0,\"ticks\":\"\"}}}],\"scatterpolargl\":[{\"type\":\"scatterpolargl\",\"marker\":{\"colorbar\":{\"outlinewidth\":0,\"ticks\":\"\"}}}],\"bar\":[{\"error_x\":{\"color\":\"#2a3f5f\"},\"error_y\":{\"color\":\"#2a3f5f\"},\"marker\":{\"line\":{\"color\":\"#E5ECF6\",\"width\":0.5},\"pattern\":{\"fillmode\":\"overlay\",\"size\":10,\"solidity\":0.2}},\"type\":\"bar\"}],\"scattergeo\":[{\"type\":\"scattergeo\",\"marker\":{\"colorbar\":{\"outlinewidth\":0,\"ticks\":\"\"}}}],\"scatterpolar\":[{\"type\":\"scatterpolar\",\"marker\":{\"colorbar\":{\"outlinewidth\":0,\"ticks\":\"\"}}}],\"histogram\":[{\"marker\":{\"pattern\":{\"fillmode\":\"overlay\",\"size\":10,\"solidity\":0.2}},\"type\":\"histogram\"}],\"scattergl\":[{\"type\":\"scattergl\",\"marker\":{\"colorbar\":{\"outlinewidth\":0,\"ticks\":\"\"}}}],\"scatter3d\":[{\"type\":\"scatter3d\",\"line\":{\"colorbar\":{\"outlinewidth\":0,\"ticks\":\"\"}},\"marker\":{\"colorbar\":{\"outlinewidth\":0,\"ticks\":\"\"}}}],\"scattermapbox\":[{\"type\":\"scattermapbox\",\"marker\":{\"colorbar\":{\"outlinewidth\":0,\"ticks\":\"\"}}}],\"scatterternary\":[{\"type\":\"scatterternary\",\"marker\":{\"colorbar\":{\"outlinewidth\":0,\"ticks\":\"\"}}}],\"scattercarpet\":[{\"type\":\"scattercarpet\",\"marker\":{\"colorbar\":{\"outlinewidth\":0,\"ticks\":\"\"}}}],\"carpet\":[{\"aaxis\":{\"endlinecolor\":\"#2a3f5f\",\"gridcolor\":\"white\",\"linecolor\":\"white\",\"minorgridcolor\":\"white\",\"startlinecolor\":\"#2a3f5f\"},\"baxis\":{\"endlinecolor\":\"#2a3f5f\",\"gridcolor\":\"white\",\"linecolor\":\"white\",\"minorgridcolor\":\"white\",\"startlinecolor\":\"#2a3f5f\"},\"type\":\"carpet\"}],\"table\":[{\"cells\":{\"fill\":{\"color\":\"#EBF0F8\"},\"line\":{\"color\":\"white\"}},\"header\":{\"fill\":{\"color\":\"#C8D4E3\"},\"line\":{\"color\":\"white\"}},\"type\":\"table\"}],\"barpolar\":[{\"marker\":{\"line\":{\"color\":\"#E5ECF6\",\"width\":0.5},\"pattern\":{\"fillmode\":\"overlay\",\"size\":10,\"solidity\":0.2}},\"type\":\"barpolar\"}],\"pie\":[{\"automargin\":true,\"type\":\"pie\"}]},\"layout\":{\"autotypenumbers\":\"strict\",\"colorway\":[\"#636efa\",\"#EF553B\",\"#00cc96\",\"#ab63fa\",\"#FFA15A\",\"#19d3f3\",\"#FF6692\",\"#B6E880\",\"#FF97FF\",\"#FECB52\"],\"font\":{\"color\":\"#2a3f5f\"},\"hovermode\":\"closest\",\"hoverlabel\":{\"align\":\"left\"},\"paper_bgcolor\":\"white\",\"plot_bgcolor\":\"#E5ECF6\",\"polar\":{\"bgcolor\":\"#E5ECF6\",\"angularaxis\":{\"gridcolor\":\"white\",\"linecolor\":\"white\",\"ticks\":\"\"},\"radialaxis\":{\"gridcolor\":\"white\",\"linecolor\":\"white\",\"ticks\":\"\"}},\"ternary\":{\"bgcolor\":\"#E5ECF6\",\"aaxis\":{\"gridcolor\":\"white\",\"linecolor\":\"white\",\"ticks\":\"\"},\"baxis\":{\"gridcolor\":\"white\",\"linecolor\":\"white\",\"ticks\":\"\"},\"caxis\":{\"gridcolor\":\"white\",\"linecolor\":\"white\",\"ticks\":\"\"}},\"coloraxis\":{\"colorbar\":{\"outlinewidth\":0,\"ticks\":\"\"}},\"colorscale\":{\"sequential\":[[0.0,\"#0d0887\"],[0.1111111111111111,\"#46039f\"],[0.2222222222222222,\"#7201a8\"],[0.3333333333333333,\"#9c179e\"],[0.4444444444444444,\"#bd3786\"],[0.5555555555555556,\"#d8576b\"],[0.6666666666666666,\"#ed7953\"],[0.7777777777777778,\"#fb9f3a\"],[0.8888888888888888,\"#fdca26\"],[1.0,\"#f0f921\"]],\"sequentialminus\":[[0.0,\"#0d0887\"],[0.1111111111111111,\"#46039f\"],[0.2222222222222222,\"#7201a8\"],[0.3333333333333333,\"#9c179e\"],[0.4444444444444444,\"#bd3786\"],[0.5555555555555556,\"#d8576b\"],[0.6666666666666666,\"#ed7953\"],[0.7777777777777778,\"#fb9f3a\"],[0.8888888888888888,\"#fdca26\"],[1.0,\"#f0f921\"]],\"diverging\":[[0,\"#8e0152\"],[0.1,\"#c51b7d\"],[0.2,\"#de77ae\"],[0.3,\"#f1b6da\"],[0.4,\"#fde0ef\"],[0.5,\"#f7f7f7\"],[0.6,\"#e6f5d0\"],[0.7,\"#b8e186\"],[0.8,\"#7fbc41\"],[0.9,\"#4d9221\"],[1,\"#276419\"]]},\"xaxis\":{\"gridcolor\":\"white\",\"linecolor\":\"white\",\"ticks\":\"\",\"title\":{\"standoff\":15},\"zerolinecolor\":\"white\",\"automargin\":true,\"zerolinewidth\":2},\"yaxis\":{\"gridcolor\":\"white\",\"linecolor\":\"white\",\"ticks\":\"\",\"title\":{\"standoff\":15},\"zerolinecolor\":\"white\",\"automargin\":true,\"zerolinewidth\":2},\"scene\":{\"xaxis\":{\"backgroundcolor\":\"#E5ECF6\",\"gridcolor\":\"white\",\"linecolor\":\"white\",\"showbackground\":true,\"ticks\":\"\",\"zerolinecolor\":\"white\",\"gridwidth\":2},\"yaxis\":{\"backgroundcolor\":\"#E5ECF6\",\"gridcolor\":\"white\",\"linecolor\":\"white\",\"showbackground\":true,\"ticks\":\"\",\"zerolinecolor\":\"white\",\"gridwidth\":2},\"zaxis\":{\"backgroundcolor\":\"#E5ECF6\",\"gridcolor\":\"white\",\"linecolor\":\"white\",\"showbackground\":true,\"ticks\":\"\",\"zerolinecolor\":\"white\",\"gridwidth\":2}},\"shapedefaults\":{\"line\":{\"color\":\"#2a3f5f\"}},\"annotationdefaults\":{\"arrowcolor\":\"#2a3f5f\",\"arrowhead\":0,\"arrowwidth\":1},\"geo\":{\"bgcolor\":\"white\",\"landcolor\":\"#E5ECF6\",\"subunitcolor\":\"white\",\"showland\":true,\"showlakes\":true,\"lakecolor\":\"white\"},\"title\":{\"x\":0.05},\"mapbox\":{\"style\":\"light\"}}}},                        {\"responsive\": true}                    ).then(function(){\n",
              "                            \n",
              "var gd = document.getElementById('55924d24-4ab8-4a7c-bddd-6deda599b47e');\n",
              "var x = new MutationObserver(function (mutations, observer) {{\n",
              "        var display = window.getComputedStyle(gd).display;\n",
              "        if (!display || display === 'none') {{\n",
              "            console.log([gd, 'removed!']);\n",
              "            Plotly.purge(gd);\n",
              "            observer.disconnect();\n",
              "        }}\n",
              "}});\n",
              "\n",
              "// Listen for the removal of the full notebook cells\n",
              "var notebookContainer = gd.closest('#notebook-container');\n",
              "if (notebookContainer) {{\n",
              "    x.observe(notebookContainer, {childList: true});\n",
              "}}\n",
              "\n",
              "// Listen for the clearing of the current output cell\n",
              "var outputEl = gd.closest('.output');\n",
              "if (outputEl) {{\n",
              "    x.observe(outputEl, {childList: true});\n",
              "}}\n",
              "\n",
              "                        })                };                            </script>        </div>\n",
              "</body>\n",
              "</html>"
            ]
          },
          "metadata": {}
        }
      ],
      "source": [
        "kmeans_analysisx.return_k_clusters_3d_scatter_plot \\\n",
        "    (crypto_pca_dataframe, 4, colors_string_list,\n",
        "     '7.3.1: Cryptocurrency Data with PCA 3-D Scatter Plot (K=4)',\n",
        "      ['PCA1', 'PCA2', 'PCA3'])"
      ]
    },
    {
      "cell_type": "markdown",
      "id": "a7f1af15",
      "metadata": {
        "id": "a7f1af15"
      },
      "source": [
        "### Answer the following question:\n",
        "\n",
        "  * **Question:** After visually analyzing the cluster analysis results, what is the impact of using fewer features to cluster the data using K-Means?\n",
        "\n",
        "  * **Answer:** After examining the cluster analysis results visually, the cluster distribution for PCA data has better performance and tighter grouping of data points within each cluster.  Using fewer features with the PCA data has had a positive impact with better-defined and separable clusters compared to the original data. This reduction has helped to highlight patterns and reduce the impact of noise, leading to more meaningful clustering results."
      ]
    },
    {
      "cell_type": "code",
      "execution_count": null,
      "id": "9e5407da",
      "metadata": {
        "id": "9e5407da"
      },
      "outputs": [],
      "source": [
        "# log_subroutine.end_program()"
      ]
    },
    {
      "cell_type": "code",
      "execution_count": null,
      "id": "4e095ef4",
      "metadata": {
        "id": "4e095ef4"
      },
      "outputs": [],
      "source": []
    }
  ],
  "metadata": {
    "accelerator": "GPU",
    "colab": {
      "gpuType": "T4",
      "provenance": [],
      "include_colab_link": true
    },
    "kernelspec": {
      "display_name": "Python 3",
      "name": "python3"
    },
    "language_info": {
      "codemirror_mode": {
        "name": "ipython",
        "version": 3
      },
      "file_extension": ".py",
      "mimetype": "text/x-python",
      "name": "python",
      "nbconvert_exporter": "python",
      "pygments_lexer": "ipython3",
      "version": "3.11.7"
    }
  },
  "nbformat": 4,
  "nbformat_minor": 5
}